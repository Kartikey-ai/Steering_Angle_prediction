{
  "nbformat": 4,
  "nbformat_minor": 0,
  "metadata": {
    "colab": {
      "name": "Self Driving Steering Angle.ipynb",
      "provenance": [],
      "collapsed_sections": []
    },
    "kernelspec": {
      "name": "python3",
      "display_name": "Python 3"
    },
    "accelerator": "GPU"
  },
  "cells": [
    {
      "cell_type": "code",
      "metadata": {
        "id": "Zz5C_0wBmuLD",
        "colab": {
          "base_uri": "https://localhost:8080/",
          "height": 121
        },
        "outputId": "d1721493-ed2e-41bd-bdd6-3bb0a760e6b3"
      },
      "source": [
        "from google.colab import drive\n",
        "drive.mount('/colab/')"
      ],
      "execution_count": null,
      "outputs": [
        {
          "output_type": "stream",
          "text": [
            "Go to this URL in a browser: https://accounts.google.com/o/oauth2/auth?client_id=947318989803-6bn6qk8qdgf4n4g3pfee6491hc0brc4i.apps.googleusercontent.com&redirect_uri=urn%3aietf%3awg%3aoauth%3a2.0%3aoob&scope=email%20https%3a%2f%2fwww.googleapis.com%2fauth%2fdocs.test%20https%3a%2f%2fwww.googleapis.com%2fauth%2fdrive%20https%3a%2f%2fwww.googleapis.com%2fauth%2fdrive.photos.readonly%20https%3a%2f%2fwww.googleapis.com%2fauth%2fpeopleapi.readonly&response_type=code\n",
            "\n",
            "Enter your authorization code:\n",
            "··········\n",
            "Mounted at /colab/\n"
          ],
          "name": "stdout"
        }
      ]
    },
    {
      "cell_type": "code",
      "metadata": {
        "id": "G2g9yoxenARQ"
      },
      "source": [
        "import keras\n",
        "import os \n",
        "import pandas as pd\n",
        "import numpy as np\n",
        "import keras\n",
        "import tensorflow as tf\n",
        "import keras_preprocessing\n",
        "from keras_preprocessing import image\n",
        "from keras_preprocessing.image import ImageDataGenerator\n",
        "from keras import regularizers"
      ],
      "execution_count": null,
      "outputs": []
    },
    {
      "cell_type": "code",
      "metadata": {
        "id": "02wVm2Sns2OV",
        "colab": {
          "base_uri": "https://localhost:8080/",
          "height": 101
        },
        "outputId": "3e511d84-c9f0-4d8e-93fc-f929a57695a0"
      },
      "source": [
        "os.listdir(\"/colab/My Drive/\")"
      ],
      "execution_count": null,
      "outputs": [
        {
          "output_type": "execute_result",
          "data": {
            "text/plain": [
              "['How to get started with Drive.pdf',\n",
              " 'Colab Notebooks',\n",
              " 'SelfDrivingCar',\n",
              " 'Copy of model-08-0.13.h5',\n",
              " 'ftrainf.csv']"
            ]
          },
          "metadata": {
            "tags": []
          },
          "execution_count": 3
        }
      ]
    },
    {
      "cell_type": "code",
      "metadata": {
        "id": "XZNdrfbUg8uf"
      },
      "source": [
        "import zipfile\n",
        "zip_ref = zipfile.ZipFile(\"/colab/My Drive/SelfDrivingCar/Dataset/07012018.zip\", 'r')\n",
        "zip_ref.extractall(\"/tmp\")\n",
        "zip_ref.close()"
      ],
      "execution_count": null,
      "outputs": []
    },
    {
      "cell_type": "code",
      "metadata": {
        "id": "BKwO1XG_nBd8",
        "colab": {
          "base_uri": "https://localhost:8080/",
          "height": 402
        },
        "outputId": "55a10fbc-367b-452a-fc54-9b533c6ca8d1"
      },
      "source": [
        "## Reading the data\n",
        "data = pd.read_csv('/tmp/data.txt', delimiter=',', header=None)\n",
        "data"
      ],
      "execution_count": null,
      "outputs": [
        {
          "output_type": "execute_result",
          "data": {
            "text/html": [
              "<div>\n",
              "<style scoped>\n",
              "    .dataframe tbody tr th:only-of-type {\n",
              "        vertical-align: middle;\n",
              "    }\n",
              "\n",
              "    .dataframe tbody tr th {\n",
              "        vertical-align: top;\n",
              "    }\n",
              "\n",
              "    .dataframe thead th {\n",
              "        text-align: right;\n",
              "    }\n",
              "</style>\n",
              "<table border=\"1\" class=\"dataframe\">\n",
              "  <thead>\n",
              "    <tr style=\"text-align: right;\">\n",
              "      <th></th>\n",
              "      <th>0</th>\n",
              "      <th>1</th>\n",
              "    </tr>\n",
              "  </thead>\n",
              "  <tbody>\n",
              "    <tr>\n",
              "      <th>0</th>\n",
              "      <td>0.jpg 0.000000</td>\n",
              "      <td>2018-07-01 17:09:44:912</td>\n",
              "    </tr>\n",
              "    <tr>\n",
              "      <th>1</th>\n",
              "      <td>1.jpg 0.000000</td>\n",
              "      <td>2018-07-01 17:09:44:972</td>\n",
              "    </tr>\n",
              "    <tr>\n",
              "      <th>2</th>\n",
              "      <td>2.jpg 0.000000</td>\n",
              "      <td>2018-07-01 17:09:45:11</td>\n",
              "    </tr>\n",
              "    <tr>\n",
              "      <th>3</th>\n",
              "      <td>3.jpg 0.000000</td>\n",
              "      <td>2018-07-01 17:09:45:76</td>\n",
              "    </tr>\n",
              "    <tr>\n",
              "      <th>4</th>\n",
              "      <td>4.jpg 0.000000</td>\n",
              "      <td>2018-07-01 17:09:45:105</td>\n",
              "    </tr>\n",
              "    <tr>\n",
              "      <th>...</th>\n",
              "      <td>...</td>\n",
              "      <td>...</td>\n",
              "    </tr>\n",
              "    <tr>\n",
              "      <th>63820</th>\n",
              "      <td>63820.jpg -11.500000</td>\n",
              "      <td>2018-07-01 18:05:36:384</td>\n",
              "    </tr>\n",
              "    <tr>\n",
              "      <th>63821</th>\n",
              "      <td>63821.jpg -11.290000</td>\n",
              "      <td>2018-07-01 18:05:36:484</td>\n",
              "    </tr>\n",
              "    <tr>\n",
              "      <th>63822</th>\n",
              "      <td>63822.jpg -11.290000</td>\n",
              "      <td>2018-07-01 18:05:36:542</td>\n",
              "    </tr>\n",
              "    <tr>\n",
              "      <th>63823</th>\n",
              "      <td>63823.jpg -11.290000</td>\n",
              "      <td>2018-07-01 18:05:36:583</td>\n",
              "    </tr>\n",
              "    <tr>\n",
              "      <th>63824</th>\n",
              "      <td>63824.jpg -11.290000</td>\n",
              "      <td>2018-07-01 18:05:36:610</td>\n",
              "    </tr>\n",
              "  </tbody>\n",
              "</table>\n",
              "<p>63825 rows × 2 columns</p>\n",
              "</div>"
            ],
            "text/plain": [
              "                          0                        1\n",
              "0            0.jpg 0.000000  2018-07-01 17:09:44:912\n",
              "1            1.jpg 0.000000  2018-07-01 17:09:44:972\n",
              "2            2.jpg 0.000000   2018-07-01 17:09:45:11\n",
              "3            3.jpg 0.000000   2018-07-01 17:09:45:76\n",
              "4            4.jpg 0.000000  2018-07-01 17:09:45:105\n",
              "...                     ...                      ...\n",
              "63820  63820.jpg -11.500000  2018-07-01 18:05:36:384\n",
              "63821  63821.jpg -11.290000  2018-07-01 18:05:36:484\n",
              "63822  63822.jpg -11.290000  2018-07-01 18:05:36:542\n",
              "63823  63823.jpg -11.290000  2018-07-01 18:05:36:583\n",
              "63824  63824.jpg -11.290000  2018-07-01 18:05:36:610\n",
              "\n",
              "[63825 rows x 2 columns]"
            ]
          },
          "metadata": {
            "tags": []
          },
          "execution_count": 5
        }
      ]
    },
    {
      "cell_type": "code",
      "metadata": {
        "id": "SxV9-N42nBpA"
      },
      "source": [
        "# Removing the unwanted column in the dataframe\r\n",
        "data.drop(axis=1, columns=1, inplace=True)"
      ],
      "execution_count": null,
      "outputs": []
    },
    {
      "cell_type": "code",
      "metadata": {
        "id": "PDCwSYBrnBrE",
        "colab": {
          "base_uri": "https://localhost:8080/",
          "height": 402
        },
        "outputId": "e689414d-1600-4cd5-eb56-6b3b0ea00889"
      },
      "source": [
        "data"
      ],
      "execution_count": null,
      "outputs": [
        {
          "output_type": "execute_result",
          "data": {
            "text/html": [
              "<div>\n",
              "<style scoped>\n",
              "    .dataframe tbody tr th:only-of-type {\n",
              "        vertical-align: middle;\n",
              "    }\n",
              "\n",
              "    .dataframe tbody tr th {\n",
              "        vertical-align: top;\n",
              "    }\n",
              "\n",
              "    .dataframe thead th {\n",
              "        text-align: right;\n",
              "    }\n",
              "</style>\n",
              "<table border=\"1\" class=\"dataframe\">\n",
              "  <thead>\n",
              "    <tr style=\"text-align: right;\">\n",
              "      <th></th>\n",
              "      <th>0</th>\n",
              "    </tr>\n",
              "  </thead>\n",
              "  <tbody>\n",
              "    <tr>\n",
              "      <th>0</th>\n",
              "      <td>0.jpg 0.000000</td>\n",
              "    </tr>\n",
              "    <tr>\n",
              "      <th>1</th>\n",
              "      <td>1.jpg 0.000000</td>\n",
              "    </tr>\n",
              "    <tr>\n",
              "      <th>2</th>\n",
              "      <td>2.jpg 0.000000</td>\n",
              "    </tr>\n",
              "    <tr>\n",
              "      <th>3</th>\n",
              "      <td>3.jpg 0.000000</td>\n",
              "    </tr>\n",
              "    <tr>\n",
              "      <th>4</th>\n",
              "      <td>4.jpg 0.000000</td>\n",
              "    </tr>\n",
              "    <tr>\n",
              "      <th>...</th>\n",
              "      <td>...</td>\n",
              "    </tr>\n",
              "    <tr>\n",
              "      <th>63820</th>\n",
              "      <td>63820.jpg -11.500000</td>\n",
              "    </tr>\n",
              "    <tr>\n",
              "      <th>63821</th>\n",
              "      <td>63821.jpg -11.290000</td>\n",
              "    </tr>\n",
              "    <tr>\n",
              "      <th>63822</th>\n",
              "      <td>63822.jpg -11.290000</td>\n",
              "    </tr>\n",
              "    <tr>\n",
              "      <th>63823</th>\n",
              "      <td>63823.jpg -11.290000</td>\n",
              "    </tr>\n",
              "    <tr>\n",
              "      <th>63824</th>\n",
              "      <td>63824.jpg -11.290000</td>\n",
              "    </tr>\n",
              "  </tbody>\n",
              "</table>\n",
              "<p>63825 rows × 1 columns</p>\n",
              "</div>"
            ],
            "text/plain": [
              "                          0\n",
              "0            0.jpg 0.000000\n",
              "1            1.jpg 0.000000\n",
              "2            2.jpg 0.000000\n",
              "3            3.jpg 0.000000\n",
              "4            4.jpg 0.000000\n",
              "...                     ...\n",
              "63820  63820.jpg -11.500000\n",
              "63821  63821.jpg -11.290000\n",
              "63822  63822.jpg -11.290000\n",
              "63823  63823.jpg -11.290000\n",
              "63824  63824.jpg -11.290000\n",
              "\n",
              "[63825 rows x 1 columns]"
            ]
          },
          "metadata": {
            "tags": []
          },
          "execution_count": 7
        }
      ]
    },
    {
      "cell_type": "code",
      "metadata": {
        "id": "gssuf4axnBuW",
        "colab": {
          "base_uri": "https://localhost:8080/",
          "height": 402
        },
        "outputId": "53f505c3-3526-4ca0-aab1-1f034691cb8e"
      },
      "source": [
        "## Processing the angles to the correect form and the converting them to radians\n",
        "\n",
        "angles = data[0].str.split(\" \")\n",
        "data = angles.to_list()\n",
        "columns=['Image_name', 'Angle']\n",
        "data_log = pd.DataFrame(data, columns=columns)\n",
        "data_log"
      ],
      "execution_count": null,
      "outputs": [
        {
          "output_type": "execute_result",
          "data": {
            "text/html": [
              "<div>\n",
              "<style scoped>\n",
              "    .dataframe tbody tr th:only-of-type {\n",
              "        vertical-align: middle;\n",
              "    }\n",
              "\n",
              "    .dataframe tbody tr th {\n",
              "        vertical-align: top;\n",
              "    }\n",
              "\n",
              "    .dataframe thead th {\n",
              "        text-align: right;\n",
              "    }\n",
              "</style>\n",
              "<table border=\"1\" class=\"dataframe\">\n",
              "  <thead>\n",
              "    <tr style=\"text-align: right;\">\n",
              "      <th></th>\n",
              "      <th>Image_name</th>\n",
              "      <th>Angle</th>\n",
              "    </tr>\n",
              "  </thead>\n",
              "  <tbody>\n",
              "    <tr>\n",
              "      <th>0</th>\n",
              "      <td>0.jpg</td>\n",
              "      <td>0.000000</td>\n",
              "    </tr>\n",
              "    <tr>\n",
              "      <th>1</th>\n",
              "      <td>1.jpg</td>\n",
              "      <td>0.000000</td>\n",
              "    </tr>\n",
              "    <tr>\n",
              "      <th>2</th>\n",
              "      <td>2.jpg</td>\n",
              "      <td>0.000000</td>\n",
              "    </tr>\n",
              "    <tr>\n",
              "      <th>3</th>\n",
              "      <td>3.jpg</td>\n",
              "      <td>0.000000</td>\n",
              "    </tr>\n",
              "    <tr>\n",
              "      <th>4</th>\n",
              "      <td>4.jpg</td>\n",
              "      <td>0.000000</td>\n",
              "    </tr>\n",
              "    <tr>\n",
              "      <th>...</th>\n",
              "      <td>...</td>\n",
              "      <td>...</td>\n",
              "    </tr>\n",
              "    <tr>\n",
              "      <th>63820</th>\n",
              "      <td>63820.jpg</td>\n",
              "      <td>-11.500000</td>\n",
              "    </tr>\n",
              "    <tr>\n",
              "      <th>63821</th>\n",
              "      <td>63821.jpg</td>\n",
              "      <td>-11.290000</td>\n",
              "    </tr>\n",
              "    <tr>\n",
              "      <th>63822</th>\n",
              "      <td>63822.jpg</td>\n",
              "      <td>-11.290000</td>\n",
              "    </tr>\n",
              "    <tr>\n",
              "      <th>63823</th>\n",
              "      <td>63823.jpg</td>\n",
              "      <td>-11.290000</td>\n",
              "    </tr>\n",
              "    <tr>\n",
              "      <th>63824</th>\n",
              "      <td>63824.jpg</td>\n",
              "      <td>-11.290000</td>\n",
              "    </tr>\n",
              "  </tbody>\n",
              "</table>\n",
              "<p>63825 rows × 2 columns</p>\n",
              "</div>"
            ],
            "text/plain": [
              "      Image_name       Angle\n",
              "0          0.jpg    0.000000\n",
              "1          1.jpg    0.000000\n",
              "2          2.jpg    0.000000\n",
              "3          3.jpg    0.000000\n",
              "4          4.jpg    0.000000\n",
              "...          ...         ...\n",
              "63820  63820.jpg  -11.500000\n",
              "63821  63821.jpg  -11.290000\n",
              "63822  63822.jpg  -11.290000\n",
              "63823  63823.jpg  -11.290000\n",
              "63824  63824.jpg  -11.290000\n",
              "\n",
              "[63825 rows x 2 columns]"
            ]
          },
          "metadata": {
            "tags": []
          },
          "execution_count": 8
        }
      ]
    },
    {
      "cell_type": "code",
      "metadata": {
        "id": "NGTazDi_nB0x",
        "colab": {
          "base_uri": "https://localhost:8080/",
          "height": 402
        },
        "outputId": "2bd5f562-57aa-4204-faa2-a2b9de6baef3"
      },
      "source": [
        "Angle=data_log.drop(axis=1, columns='Image_name', index=None)\n",
        "Angle['Angle_rad']=Angle['Angle'].astype('float')\n",
        "Angle"
      ],
      "execution_count": null,
      "outputs": [
        {
          "output_type": "execute_result",
          "data": {
            "text/html": [
              "<div>\n",
              "<style scoped>\n",
              "    .dataframe tbody tr th:only-of-type {\n",
              "        vertical-align: middle;\n",
              "    }\n",
              "\n",
              "    .dataframe tbody tr th {\n",
              "        vertical-align: top;\n",
              "    }\n",
              "\n",
              "    .dataframe thead th {\n",
              "        text-align: right;\n",
              "    }\n",
              "</style>\n",
              "<table border=\"1\" class=\"dataframe\">\n",
              "  <thead>\n",
              "    <tr style=\"text-align: right;\">\n",
              "      <th></th>\n",
              "      <th>Angle</th>\n",
              "      <th>Angle_rad</th>\n",
              "    </tr>\n",
              "  </thead>\n",
              "  <tbody>\n",
              "    <tr>\n",
              "      <th>0</th>\n",
              "      <td>0.000000</td>\n",
              "      <td>0.00</td>\n",
              "    </tr>\n",
              "    <tr>\n",
              "      <th>1</th>\n",
              "      <td>0.000000</td>\n",
              "      <td>0.00</td>\n",
              "    </tr>\n",
              "    <tr>\n",
              "      <th>2</th>\n",
              "      <td>0.000000</td>\n",
              "      <td>0.00</td>\n",
              "    </tr>\n",
              "    <tr>\n",
              "      <th>3</th>\n",
              "      <td>0.000000</td>\n",
              "      <td>0.00</td>\n",
              "    </tr>\n",
              "    <tr>\n",
              "      <th>4</th>\n",
              "      <td>0.000000</td>\n",
              "      <td>0.00</td>\n",
              "    </tr>\n",
              "    <tr>\n",
              "      <th>...</th>\n",
              "      <td>...</td>\n",
              "      <td>...</td>\n",
              "    </tr>\n",
              "    <tr>\n",
              "      <th>63820</th>\n",
              "      <td>-11.500000</td>\n",
              "      <td>-11.50</td>\n",
              "    </tr>\n",
              "    <tr>\n",
              "      <th>63821</th>\n",
              "      <td>-11.290000</td>\n",
              "      <td>-11.29</td>\n",
              "    </tr>\n",
              "    <tr>\n",
              "      <th>63822</th>\n",
              "      <td>-11.290000</td>\n",
              "      <td>-11.29</td>\n",
              "    </tr>\n",
              "    <tr>\n",
              "      <th>63823</th>\n",
              "      <td>-11.290000</td>\n",
              "      <td>-11.29</td>\n",
              "    </tr>\n",
              "    <tr>\n",
              "      <th>63824</th>\n",
              "      <td>-11.290000</td>\n",
              "      <td>-11.29</td>\n",
              "    </tr>\n",
              "  </tbody>\n",
              "</table>\n",
              "<p>63825 rows × 2 columns</p>\n",
              "</div>"
            ],
            "text/plain": [
              "            Angle  Angle_rad\n",
              "0        0.000000       0.00\n",
              "1        0.000000       0.00\n",
              "2        0.000000       0.00\n",
              "3        0.000000       0.00\n",
              "4        0.000000       0.00\n",
              "...           ...        ...\n",
              "63820  -11.500000     -11.50\n",
              "63821  -11.290000     -11.29\n",
              "63822  -11.290000     -11.29\n",
              "63823  -11.290000     -11.29\n",
              "63824  -11.290000     -11.29\n",
              "\n",
              "[63825 rows x 2 columns]"
            ]
          },
          "metadata": {
            "tags": []
          },
          "execution_count": 9
        }
      ]
    },
    {
      "cell_type": "code",
      "metadata": {
        "id": "6yasLgMInB6x"
      },
      "source": [
        "Angle['Angle_rad'] = Angle['Angle_rad']*np.pi/180"
      ],
      "execution_count": null,
      "outputs": []
    },
    {
      "cell_type": "code",
      "metadata": {
        "id": "Uyx66LMbqWz9",
        "colab": {
          "base_uri": "https://localhost:8080/",
          "height": 34
        },
        "outputId": "c0e1a334-b797-4eb3-c26b-8dc4e166b64d"
      },
      "source": [
        "print(max(Angle['Angle_rad']), min(Angle['Angle_rad']))"
      ],
      "execution_count": null,
      "outputs": [
        {
          "output_type": "stream",
          "text": [
            "4.408876240916168 -5.913524693780235\n"
          ],
          "name": "stdout"
        }
      ]
    },
    {
      "cell_type": "code",
      "metadata": {
        "id": "qBrVrSl5nB9Y",
        "colab": {
          "base_uri": "https://localhost:8080/",
          "height": 402
        },
        "outputId": "6e2da43a-eee9-40e0-d8a4-763cafdc6b38"
      },
      "source": [
        "data_log_final = pd.concat([data_log, Angle['Angle_rad']], axis = 'columns')\n",
        "data_log_final"
      ],
      "execution_count": null,
      "outputs": [
        {
          "output_type": "execute_result",
          "data": {
            "text/html": [
              "<div>\n",
              "<style scoped>\n",
              "    .dataframe tbody tr th:only-of-type {\n",
              "        vertical-align: middle;\n",
              "    }\n",
              "\n",
              "    .dataframe tbody tr th {\n",
              "        vertical-align: top;\n",
              "    }\n",
              "\n",
              "    .dataframe thead th {\n",
              "        text-align: right;\n",
              "    }\n",
              "</style>\n",
              "<table border=\"1\" class=\"dataframe\">\n",
              "  <thead>\n",
              "    <tr style=\"text-align: right;\">\n",
              "      <th></th>\n",
              "      <th>Image_name</th>\n",
              "      <th>Angle</th>\n",
              "      <th>Angle_rad</th>\n",
              "    </tr>\n",
              "  </thead>\n",
              "  <tbody>\n",
              "    <tr>\n",
              "      <th>0</th>\n",
              "      <td>0.jpg</td>\n",
              "      <td>0.000000</td>\n",
              "      <td>0.000000</td>\n",
              "    </tr>\n",
              "    <tr>\n",
              "      <th>1</th>\n",
              "      <td>1.jpg</td>\n",
              "      <td>0.000000</td>\n",
              "      <td>0.000000</td>\n",
              "    </tr>\n",
              "    <tr>\n",
              "      <th>2</th>\n",
              "      <td>2.jpg</td>\n",
              "      <td>0.000000</td>\n",
              "      <td>0.000000</td>\n",
              "    </tr>\n",
              "    <tr>\n",
              "      <th>3</th>\n",
              "      <td>3.jpg</td>\n",
              "      <td>0.000000</td>\n",
              "      <td>0.000000</td>\n",
              "    </tr>\n",
              "    <tr>\n",
              "      <th>4</th>\n",
              "      <td>4.jpg</td>\n",
              "      <td>0.000000</td>\n",
              "      <td>0.000000</td>\n",
              "    </tr>\n",
              "    <tr>\n",
              "      <th>...</th>\n",
              "      <td>...</td>\n",
              "      <td>...</td>\n",
              "      <td>...</td>\n",
              "    </tr>\n",
              "    <tr>\n",
              "      <th>63820</th>\n",
              "      <td>63820.jpg</td>\n",
              "      <td>-11.500000</td>\n",
              "      <td>-0.200713</td>\n",
              "    </tr>\n",
              "    <tr>\n",
              "      <th>63821</th>\n",
              "      <td>63821.jpg</td>\n",
              "      <td>-11.290000</td>\n",
              "      <td>-0.197048</td>\n",
              "    </tr>\n",
              "    <tr>\n",
              "      <th>63822</th>\n",
              "      <td>63822.jpg</td>\n",
              "      <td>-11.290000</td>\n",
              "      <td>-0.197048</td>\n",
              "    </tr>\n",
              "    <tr>\n",
              "      <th>63823</th>\n",
              "      <td>63823.jpg</td>\n",
              "      <td>-11.290000</td>\n",
              "      <td>-0.197048</td>\n",
              "    </tr>\n",
              "    <tr>\n",
              "      <th>63824</th>\n",
              "      <td>63824.jpg</td>\n",
              "      <td>-11.290000</td>\n",
              "      <td>-0.197048</td>\n",
              "    </tr>\n",
              "  </tbody>\n",
              "</table>\n",
              "<p>63825 rows × 3 columns</p>\n",
              "</div>"
            ],
            "text/plain": [
              "      Image_name       Angle  Angle_rad\n",
              "0          0.jpg    0.000000   0.000000\n",
              "1          1.jpg    0.000000   0.000000\n",
              "2          2.jpg    0.000000   0.000000\n",
              "3          3.jpg    0.000000   0.000000\n",
              "4          4.jpg    0.000000   0.000000\n",
              "...          ...         ...        ...\n",
              "63820  63820.jpg  -11.500000  -0.200713\n",
              "63821  63821.jpg  -11.290000  -0.197048\n",
              "63822  63822.jpg  -11.290000  -0.197048\n",
              "63823  63823.jpg  -11.290000  -0.197048\n",
              "63824  63824.jpg  -11.290000  -0.197048\n",
              "\n",
              "[63825 rows x 3 columns]"
            ]
          },
          "metadata": {
            "tags": []
          },
          "execution_count": 12
        }
      ]
    },
    {
      "cell_type": "code",
      "metadata": {
        "id": "KfqbPJfhnCA1"
      },
      "source": [
        "data_log_final=data_log_final.drop(axis=1, columns='Angle', index=None)"
      ],
      "execution_count": null,
      "outputs": []
    },
    {
      "cell_type": "code",
      "metadata": {
        "id": "dTniB7RGnCDc",
        "colab": {
          "base_uri": "https://localhost:8080/",
          "height": 402
        },
        "outputId": "bb153dc7-bc3f-4511-b3f3-497d83557b44"
      },
      "source": [
        "data_log_final"
      ],
      "execution_count": null,
      "outputs": [
        {
          "output_type": "execute_result",
          "data": {
            "text/html": [
              "<div>\n",
              "<style scoped>\n",
              "    .dataframe tbody tr th:only-of-type {\n",
              "        vertical-align: middle;\n",
              "    }\n",
              "\n",
              "    .dataframe tbody tr th {\n",
              "        vertical-align: top;\n",
              "    }\n",
              "\n",
              "    .dataframe thead th {\n",
              "        text-align: right;\n",
              "    }\n",
              "</style>\n",
              "<table border=\"1\" class=\"dataframe\">\n",
              "  <thead>\n",
              "    <tr style=\"text-align: right;\">\n",
              "      <th></th>\n",
              "      <th>Image_name</th>\n",
              "      <th>Angle_rad</th>\n",
              "    </tr>\n",
              "  </thead>\n",
              "  <tbody>\n",
              "    <tr>\n",
              "      <th>0</th>\n",
              "      <td>0.jpg</td>\n",
              "      <td>0.000000</td>\n",
              "    </tr>\n",
              "    <tr>\n",
              "      <th>1</th>\n",
              "      <td>1.jpg</td>\n",
              "      <td>0.000000</td>\n",
              "    </tr>\n",
              "    <tr>\n",
              "      <th>2</th>\n",
              "      <td>2.jpg</td>\n",
              "      <td>0.000000</td>\n",
              "    </tr>\n",
              "    <tr>\n",
              "      <th>3</th>\n",
              "      <td>3.jpg</td>\n",
              "      <td>0.000000</td>\n",
              "    </tr>\n",
              "    <tr>\n",
              "      <th>4</th>\n",
              "      <td>4.jpg</td>\n",
              "      <td>0.000000</td>\n",
              "    </tr>\n",
              "    <tr>\n",
              "      <th>...</th>\n",
              "      <td>...</td>\n",
              "      <td>...</td>\n",
              "    </tr>\n",
              "    <tr>\n",
              "      <th>63820</th>\n",
              "      <td>63820.jpg</td>\n",
              "      <td>-0.200713</td>\n",
              "    </tr>\n",
              "    <tr>\n",
              "      <th>63821</th>\n",
              "      <td>63821.jpg</td>\n",
              "      <td>-0.197048</td>\n",
              "    </tr>\n",
              "    <tr>\n",
              "      <th>63822</th>\n",
              "      <td>63822.jpg</td>\n",
              "      <td>-0.197048</td>\n",
              "    </tr>\n",
              "    <tr>\n",
              "      <th>63823</th>\n",
              "      <td>63823.jpg</td>\n",
              "      <td>-0.197048</td>\n",
              "    </tr>\n",
              "    <tr>\n",
              "      <th>63824</th>\n",
              "      <td>63824.jpg</td>\n",
              "      <td>-0.197048</td>\n",
              "    </tr>\n",
              "  </tbody>\n",
              "</table>\n",
              "<p>63825 rows × 2 columns</p>\n",
              "</div>"
            ],
            "text/plain": [
              "      Image_name  Angle_rad\n",
              "0          0.jpg   0.000000\n",
              "1          1.jpg   0.000000\n",
              "2          2.jpg   0.000000\n",
              "3          3.jpg   0.000000\n",
              "4          4.jpg   0.000000\n",
              "...          ...        ...\n",
              "63820  63820.jpg  -0.200713\n",
              "63821  63821.jpg  -0.197048\n",
              "63822  63822.jpg  -0.197048\n",
              "63823  63823.jpg  -0.197048\n",
              "63824  63824.jpg  -0.197048\n",
              "\n",
              "[63825 rows x 2 columns]"
            ]
          },
          "metadata": {
            "tags": []
          },
          "execution_count": 14
        }
      ]
    },
    {
      "cell_type": "code",
      "metadata": {
        "id": "U5sWPWXZnCG4"
      },
      "source": [
        "## Splitting the data in train and test set\n",
        "\n",
        "data_log_train = data_log_final[0:51060]\n",
        "data_log_validate = data_log_final[51060:]"
      ],
      "execution_count": null,
      "outputs": []
    },
    {
      "cell_type": "code",
      "metadata": {
        "id": "7eCMYEOBnB50",
        "colab": {
          "base_uri": "https://localhost:8080/",
          "height": 70
        },
        "outputId": "a533b1b0-d714-4335-fefb-3e0266357386"
      },
      "source": [
        "## Shuffling the dataset\n",
        "import random\n",
        "base_shuffle_train = []\n",
        "base_shuffle_val = []\n",
        "for num in range(51060):\n",
        "  base_shuffle_train.append(num)\n",
        "for num2 in range(51060,63825):\n",
        "  base_shuffle_val.append(num2)\n",
        "random.shuffle(base_shuffle_val)\n",
        "random.shuffle(base_shuffle_train)\n",
        "print(base_shuffle_val) \n",
        "print(base_shuffle_train)"
      ],
      "execution_count": null,
      "outputs": [
        {
          "output_type": "stream",
          "text": [
            "[60648, 62673, 53771, 61191, 54147, 58445, 61247, 54317, 55718, 51327, 56937, 58038, 62617, 59735, 52927, 51827, 60227, 56846, 60119, 57730, 51788, 59996, 63267, 60646, 58083, 55670, 58711, 56520, 62242, 56521, 52519, 59522, 56942, 60964, 55800, 51171, 62382, 60991, 59028, 58645, 60007, 54459, 55776, 63311, 62391, 56400, 58201, 57444, 59866, 55499, 52376, 55617, 53358, 52475, 57478, 58442, 52072, 54341, 53556, 52622, 60931, 53290, 53736, 56411, 56141, 61832, 52841, 55548, 56370, 53811, 52966, 51830, 62561, 51769, 63154, 51758, 56448, 60972, 54027, 59927, 58914, 60995, 52028, 53675, 59394, 59407, 51912, 58213, 56170, 52784, 58367, 61395, 60175, 54494, 63175, 54951, 54328, 60735, 63474, 63388, 56877, 61658, 53777, 58956, 53103, 61514, 58985, 59058, 58880, 56066, 51528, 54811, 51751, 61816, 51993, 60334, 51296, 63316, 63498, 54886, 62276, 60787, 57455, 57628, 53526, 53447, 63618, 60729, 52406, 55084, 52881, 63000, 52743, 59828, 63598, 62468, 60302, 55355, 61321, 51490, 63149, 60911, 51930, 63693, 56252, 56046, 62460, 52292, 53457, 60292, 60194, 59975, 58786, 51942, 57243, 55253, 58619, 60914, 57168, 52891, 55106, 58382, 54767, 62547, 62501, 62678, 53793, 60181, 55650, 59084, 61920, 56039, 57260, 52838, 58432, 58660, 52510, 52134, 62625, 63183, 57430, 60890, 61997, 60469, 51189, 52296, 63048, 55685, 55302, 52498, 53455, 57940, 62652, 52527, 60187, 62058, 61912, 55143, 52332, 63441, 55257, 54833, 57365, 56682, 52466, 62758, 59955, 57298, 59017, 55826, 51381, 58056, 61739, 60287, 60360, 59196, 62426, 63326, 53518, 54171, 60510, 60664, 56896, 55532, 63702, 56816, 55301, 59773, 53806, 53637, 59213, 62336, 62095, 55646, 56864, 58029, 62975, 62888, 61448, 60930, 55284, 55025, 54863, 58225, 58261, 52040, 58091, 57241, 51619, 58010, 53986, 54966, 62357, 56483, 63297, 52683, 61820, 53485, 57479, 57671, 60943, 62063, 54396, 62772, 60180, 57047, 62809, 52670, 52298, 54671, 55326, 57902, 52150, 55167, 58140, 54441, 55581, 55263, 62369, 58950, 59096, 59252, 57279, 62612, 59730, 58269, 53566, 57041, 52860, 56904, 62438, 53678, 55141, 53602, 62409, 57719, 56278, 62477, 62951, 53593, 59961, 58375, 51096, 61546, 53541, 51117, 51581, 60272, 52204, 63172, 55314, 62122, 55884, 60833, 56303, 56710, 53915, 59534, 60739, 56778, 58545, 52137, 57429, 52424, 52419, 56833, 54136, 54333, 60956, 56471, 59518, 59660, 63558, 55197, 51262, 53922, 54676, 61765, 56929, 57948, 57187, 52439, 51252, 52856, 63266, 59271, 59031, 62719, 53828, 55625, 55637, 57813, 59877, 60326, 53107, 60663, 61260, 62862, 51514, 59796, 56302, 57516, 51370, 60677, 58489, 58789, 59923, 54548, 51596, 63784, 61206, 60860, 51404, 51577, 58319, 52200, 61049, 58655, 59441, 57735, 59810, 56445, 59651, 56812, 52724, 58853, 59988, 58228, 55632, 57793, 56484, 54971, 63811, 63649, 54679, 53894, 57726, 56382, 51932, 61778, 53753, 55850, 56706, 54554, 52221, 60359, 60128, 57978, 55882, 53642, 53021, 53258, 54602, 55266, 54237, 63750, 58030, 53407, 55656, 59375, 61042, 59198, 63774, 56683, 61937, 63225, 61722, 58822, 61928, 58924, 55269, 59440, 60878, 59430, 51314, 58252, 52254, 55092, 56469, 57952, 63579, 51720, 55087, 58241, 56053, 53042, 52460, 62136, 58045, 61418, 52528, 54084, 55893, 52135, 63137, 55182, 52695, 61254, 58727, 63780, 55234, 52096, 57401, 60444, 52968, 63339, 56145, 57457, 56360, 59743, 59699, 58546, 51773, 58586, 57756, 60074, 60516, 62069, 62515, 61311, 51501, 59374, 63356, 54613, 55334, 58122, 62257, 53728, 54772, 51333, 57679, 52383, 58405, 57004, 61226, 56227, 55178, 61283, 58220, 59092, 58556, 61702, 51892, 54023, 62641, 53353, 58599, 52685, 52536, 52751, 54117, 62509, 59325, 53278, 51637, 56406, 61707, 53420, 62794, 54970, 53769, 60676, 62513, 58874, 61189, 62246, 58606, 59454, 62792, 55306, 56837, 63185, 62997, 54941, 59605, 60470, 61339, 61691, 52723, 53336, 60164, 52946, 63288, 55311, 51971, 56905, 55584, 60776, 58855, 55606, 59512, 62565, 53607, 56956, 51620, 63714, 52113, 61450, 58540, 60639, 60686, 60569, 56995, 54841, 59985, 56914, 59304, 61484, 60831, 56004, 51281, 53953, 60404, 57367, 53770, 59408, 57032, 58380, 54313, 58081, 56570, 51838, 54215, 55170, 55640, 51295, 52358, 51872, 56079, 51143, 61983, 54362, 57372, 62820, 53598, 61474, 61412, 58850, 60598, 56564, 52052, 55207, 58074, 60645, 58481, 57428, 61338, 59638, 58063, 57324, 58662, 60679, 59338, 62833, 55168, 60401, 60939, 53428, 56453, 58502, 57371, 57229, 58824, 61072, 60241, 61633, 63608, 52857, 54483, 61877, 57890, 57897, 58300, 60534, 61804, 61278, 51595, 62083, 62582, 55243, 56282, 59077, 52686, 62999, 62423, 56530, 57407, 53972, 57783, 58726, 54145, 59818, 60913, 63421, 58587, 62031, 53698, 63504, 55453, 58279, 61337, 56578, 55473, 60708, 57529, 54743, 57026, 54077, 53871, 57448, 61373, 52345, 54764, 55765, 56952, 63212, 63640, 59402, 60427, 62081, 55988, 59587, 57767, 56169, 54866, 62568, 56333, 52344, 52283, 59642, 53325, 56274, 62525, 55389, 57254, 57600, 58811, 56795, 61872, 63284, 53549, 56204, 53176, 59128, 61132, 57532, 59652, 60344, 57731, 55449, 57965, 58774, 63372, 63281, 54339, 57991, 53111, 63320, 54064, 55089, 61157, 59931, 57164, 55191, 52830, 52410, 63074, 56934, 51343, 60280, 52755, 52010, 51426, 54220, 51567, 54347, 53096, 53465, 56587, 53271, 51427, 61916, 53137, 53293, 59044, 51852, 51715, 57088, 62807, 55331, 51931, 62258, 63442, 57161, 54824, 63027, 57993, 58068, 62419, 53941, 56311, 57975, 54648, 54358, 55957, 52789, 62886, 60587, 60526, 51359, 62566, 62594, 59805, 53443, 55808, 54096, 51423, 59992, 55407, 53716, 59074, 63566, 55463, 61966, 51071, 54318, 58835, 52488, 57124, 55361, 62853, 54115, 51575, 52672, 63222, 58691, 63036, 61595, 55153, 58783, 62071, 51097, 56501, 54804, 62408, 63738, 62731, 59834, 53383, 60472, 53309, 53798, 51090, 60808, 53565, 60850, 57157, 55287, 51744, 56640, 55549, 62475, 53337, 56387, 59972, 61315, 61968, 59248, 57580, 53479, 63272, 60794, 56843, 53624, 60437, 51819, 60086, 63585, 61901, 57300, 60102, 57322, 51725, 63199, 59689, 57595, 59897, 56275, 63817, 57162, 60299, 57302, 55319, 57554, 59002, 51709, 62411, 62890, 63787, 62738, 58629, 59574, 55552, 63701, 63674, 53284, 62241, 55438, 57275, 58585, 61235, 60725, 62715, 60536, 61682, 57687, 54042, 52441, 62106, 55386, 55471, 57325, 58657, 56208, 55811, 51341, 56894, 63647, 63510, 52141, 60018, 59869, 59315, 61427, 55768, 52501, 60224, 59118, 61494, 56867, 63134, 61154, 60503, 57332, 52718, 54591, 62892, 52170, 58136, 54002, 62093, 51358, 52153, 54681, 54823, 62152, 56509, 61773, 56538, 59359, 63786, 63431, 56590, 57836, 52343, 58728, 58219, 56112, 60946, 52202, 52205, 59106, 60743, 55842, 52390, 55791, 58742, 51477, 51614, 53755, 57563, 51657, 63593, 59644, 54367, 59453, 51440, 62925, 60338, 52920, 53525, 51307, 52302, 54923, 56148, 56655, 56552, 51785, 56895, 60696, 52229, 62571, 53948, 57632, 53223, 63475, 51233, 58765, 59199, 55719, 55111, 51078, 60845, 59364, 59813, 55836, 59581, 59615, 63206, 54195, 59784, 55000, 56122, 60237, 53313, 57043, 52091, 57755, 54009, 63534, 62418, 61175, 57460, 62872, 52429, 59298, 52831, 53559, 56991, 53434, 62521, 52480, 57297, 52187, 62506, 57567, 63182, 62708, 54086, 60449, 51317, 61252, 61995, 57871, 51126, 55511, 61113, 54931, 60898, 58338, 61289, 52246, 61657, 60122, 63109, 55358, 61827, 53041, 63368, 52736, 55076, 56294, 57775, 57801, 54843, 56529, 55839, 56889, 53341, 62519, 55740, 55163, 55187, 52976, 57206, 62456, 51812, 62399, 57494, 59584, 56984, 59145, 59180, 51690, 57138, 52021, 55132, 60176, 52036, 59400, 55871, 59205, 56755, 51554, 51762, 63544, 54033, 61797, 55479, 62128, 51653, 51232, 58206, 57872, 56902, 54391, 55254, 57471, 63268, 56124, 54045, 57944, 62230, 58603, 62180, 52225, 53068, 57766, 57491, 57307, 52233, 58960, 52075, 52624, 63418, 56422, 62650, 51767, 51578, 61148, 59273, 59858, 56508, 59982, 57808, 56480, 56490, 54398, 63685, 59674, 53960, 63775, 61963, 58040, 51448, 61623, 61736, 52934, 61068, 58467, 54359, 61693, 59867, 54214, 51772, 55829, 59076, 53400, 62990, 55782, 58675, 51813, 59601, 55657, 60419, 58359, 61507, 54206, 54784, 58980, 62075, 55840, 53162, 52642, 60538, 62941, 58125, 58482, 60112, 63584, 52600, 54661, 59603, 53317, 53170, 62653, 55687, 56067, 53694, 56548, 60055, 54889, 51549, 54031, 53550, 58815, 62191, 51085, 62270, 51483, 53884, 52064, 56767, 51556, 58002, 62606, 62313, 60493, 51801, 62843, 57291, 58750, 53861, 61415, 53192, 55610, 52609, 51066, 53664, 59332, 56910, 62998, 58476, 56052, 59640, 57618, 58066, 61290, 57306, 57219, 52374, 54551, 53943, 57622, 56607, 60908, 51603, 51249, 55496, 60896, 52895, 59355, 58483, 56088, 63447, 53351, 55037, 63546, 63252, 53970, 59968, 59406, 55885, 61261, 56348, 53853, 54104, 56150, 60688, 56555, 56500, 59554, 54332, 63528, 52521, 53133, 52912, 52613, 57040, 63322, 60643, 63043, 61088, 61547, 54465, 56092, 58903, 56218, 53973, 54260, 55350, 58168, 56978, 59425, 62309, 62679, 63097, 62384, 61442, 61972, 55915, 59634, 57761, 59732, 55267, 59555, 56379, 60716, 60825, 59770, 54785, 54153, 54016, 53458, 55071, 54034, 52868, 59255, 53017, 62214, 59945, 58972, 61875, 57792, 52442, 57669, 62070, 63195, 63374, 54413, 51840, 62643, 57702, 52987, 51437, 59733, 54200, 59765, 53496, 52597, 56254, 54508, 62139, 63723, 58516, 57868, 53844, 52250, 55560, 53483, 59673, 63025, 52267, 53260, 57252, 62372, 55184, 60092, 55978, 51443, 55858, 51685, 62067, 54087, 59222, 54191, 58881, 53785, 61255, 51074, 57778, 57396, 55513, 57067, 52295, 53100, 61008, 59319, 55941, 62631, 62779, 55725, 51410, 55346, 60508, 53352, 53018, 53935, 56705, 57315, 63698, 59526, 54004, 60369, 62828, 51198, 55010, 60869, 61843, 61591, 51520, 52423, 54955, 58409, 56420, 52621, 60537, 62517, 61630, 57689, 59588, 61844, 58773, 57781, 54864, 62049, 60754, 54374, 61854, 60523, 55447, 62033, 52943, 59981, 62717, 53577, 60788, 58131, 52817, 55414, 63628, 55772, 52393, 63298, 54232, 52566, 58090, 56161, 55845, 56307, 57741, 63599, 60578, 60455, 61118, 52300, 63782, 62543, 54579, 59720, 61888, 51936, 58565, 57054, 60321, 61259, 58174, 60628, 53232, 53218, 59063, 57630, 52061, 59842, 52762, 59445, 58844, 58838, 55838, 51506, 55694, 52100, 60223, 54402, 54348, 59103, 53661, 52647, 58141, 56967, 55735, 53535, 62155, 56926, 62132, 62554, 52065, 53031, 61005, 59386, 55785, 53966, 56622, 56059, 59872, 55435, 58223, 53625, 58797, 55624, 56733, 59752, 54108, 58559, 62819, 59178, 61667, 54649, 53617, 52005, 57857, 51479, 51083, 61840, 58994, 55889, 60889, 58817, 61824, 63066, 59105, 62173, 53360, 54924, 52505, 53498, 56035, 53546, 63076, 54227, 53399, 57586, 59134, 54950, 51847, 58804, 55324, 54475, 51816, 51623, 53257, 60759, 57130, 62259, 57053, 52783, 61013, 56594, 51417, 62076, 61176, 53815, 53733, 51079, 63709, 54464, 54529, 61269, 59235, 60986, 58756, 53928, 61582, 63156, 59840, 53261, 57408, 59272, 52871, 53513, 52889, 61940, 54917, 51885, 55796, 59269, 59577, 57864, 60252, 58564, 62323, 60572, 54184, 56981, 51723, 52154, 56679, 56485, 60452, 60245, 55922, 52092, 56442, 53612, 51309, 63820, 59250, 55133, 54288, 59140, 58034, 59571, 53633, 57653, 54213, 54439, 59958, 63654, 51545, 62639, 52421, 55483, 57194, 60259, 60662, 51765, 57946, 55590, 55827, 62656, 58846, 54969, 58580, 58943, 59151, 56191, 61730, 52796, 51937, 62585, 54664, 59936, 60836, 58544, 55874, 54405, 51292, 56924, 60871, 58154, 51069, 63385, 54813, 63344, 61139, 60592, 59548, 60260, 58578, 52938, 57717, 57627, 59334, 57341, 59149, 56642, 59557, 62615, 56597, 57722, 53557, 63576, 57648, 57469, 56784, 54761, 60799, 60201, 63126, 54501, 53881, 58625, 53833, 52579, 54489, 59451, 56516, 62556, 51396, 52757, 63197, 62476, 58613, 59625, 53339, 55022, 55793, 62184, 52915, 55185, 60067, 55452, 55832, 61534, 52102, 53064, 60487, 61168, 53502, 56644, 63586, 61451, 61812, 54500, 52819, 58384, 56473, 53569, 57253, 59070, 61599, 58588, 51719, 62404, 53821, 59018, 53120, 60027, 60795, 59639, 61000, 55031, 51738, 53030, 58723, 61116, 53048, 55873, 62429, 62365, 61708, 56667, 57489, 54311, 60285, 63264, 59357, 55547, 61414, 61047, 52228, 57102, 56664, 59814, 51222, 58534, 54942, 58490, 52282, 59168, 55570, 61762, 52560, 52641, 61999, 54241, 56819, 55114, 55528, 55249, 51631, 57861, 53576, 52803, 63291, 51904, 59491, 63645, 60885, 57815, 53510, 53268, 55211, 62793, 59415, 63425, 54929, 53135, 56425, 57740, 55634, 53178, 58416, 59576, 63609, 62373, 53652, 55678, 58600, 54709, 55904, 55726, 51680, 54960, 62907, 51593, 51338, 53931, 52632, 57062, 55753, 53747, 59957, 53759, 51277, 59894, 58048, 62205, 57152, 57449, 56605, 58758, 53754, 58864, 57631, 54246, 59258, 55598, 61829, 57481, 51202, 62400, 56730, 56652, 57184, 53714, 52958, 58826, 62866, 51439, 63207, 56660, 59513, 55353, 61243, 63084, 51310, 57929, 62919, 54280, 53873, 54944, 58253, 63229, 56541, 61043, 55123, 63622, 51200, 57246, 53893, 53472, 57709, 62575, 59799, 61489, 60077, 57237, 51429, 59245, 51875, 62533, 55902, 63559, 59079, 61880, 56741, 59224, 56722, 56292, 62021, 55556, 55433, 56235, 59231, 57800, 56166, 61649, 56753, 57562, 54060, 57727, 63309, 52977, 63771, 60396, 56102, 63258, 58952, 52068, 60750, 53685, 54247, 51320, 53657, 63600, 53322, 54490, 63140, 58499, 54673, 62043, 57016, 60140, 58927, 51458, 55441, 57771, 60625, 56921, 61942, 54201, 57272, 57109, 57957, 55636, 54596, 53687, 61004, 52336, 58082, 60954, 62740, 62240, 61931, 59312, 61998, 58387, 51899, 57571, 54493, 62371, 58920, 63578, 63262, 52405, 56699, 56783, 52564, 62945, 54286, 60160, 54203, 62541, 52711, 57380, 63742, 62634, 62687, 54672, 62121, 54053, 54380, 56407, 59175, 58098, 52124, 52363, 59669, 54114, 61686, 59287, 61992, 57313, 59004, 58314, 52322, 57834, 62262, 57141, 55764, 60028, 61388, 55128, 55296, 57290, 62690, 60082, 52862, 55015, 59291, 63013, 57225, 62510, 60838, 55369, 61621, 61821, 57721, 59762, 54150, 54095, 60337, 54273, 53414, 51928, 58856, 58895, 59185, 63550, 55251, 63613, 59757, 62331, 60316, 61030, 61892, 51926, 61487, 57012, 55354, 53391, 57777, 56233, 52956, 62325, 60624, 55064, 54478, 61823, 51880, 57340, 51915, 57500, 54185, 61511, 62190, 57082, 53291, 59349, 52176, 56900, 52219, 54373, 58878, 58706, 59292, 54957, 57346, 63317, 58132, 51689, 56434, 53123, 56608, 53252, 63335, 52473, 59239, 54298, 57389, 55576, 57764, 60867, 56396, 55236, 60276, 58788, 63728, 51409, 52883, 55859, 51775, 55295, 62747, 57038, 52558, 62651, 58487, 61583, 51598, 52014, 60983, 57208, 58458, 63501, 56433, 61199, 59122, 53362, 63103, 55810, 53684, 62658, 54835, 59910, 54169, 53850, 63657, 55318, 56986, 51422, 52025, 63148, 61007, 59808, 52002, 60191, 52168, 55817, 57503, 55928, 54261, 60229, 61167, 58701, 61216, 54469, 63366, 59023, 60090, 52449, 59853, 51979, 59917, 60116, 54700, 61152, 58291, 54557, 63265, 55613, 55775, 59467, 53912, 58455, 63726, 52738, 53748, 56658, 51139, 52661, 55946, 53277, 54627, 54652, 63299, 53507, 60311, 51181, 61522, 57791, 52380, 59742, 57416, 52214, 61231, 57941, 55692, 55977, 59980, 53348, 53474, 62523, 63435, 56815, 55016, 52955, 59352, 62194, 51953, 51322, 53308, 55434, 53981, 53490, 59783, 63359, 56969, 55529, 61214, 51981, 62100, 53075, 60247, 56417, 57215, 61500, 52462, 53034, 58249, 57510, 52328, 57736, 63244, 63031, 62000, 63230, 56380, 60448, 58240, 51498, 62140, 51372, 51449, 59475, 60203, 53635, 51091, 60805, 53207, 63034, 57397, 52450, 57349, 57579, 58953, 54638, 55043, 62771, 52196, 52313, 55162, 59806, 61140, 56893, 54820, 57419, 56410, 55442, 60020, 52949, 52906, 51385, 53301, 56602, 62572, 59667, 54731, 57231, 60374, 59616, 55732, 51209, 57497, 52916, 58724, 63793, 61964, 51687, 54689, 59817, 61063, 61107, 61465, 59369, 60841, 54105, 63623, 54988, 53475, 61965, 57203, 53354, 60330, 56438, 53464, 51146, 63407, 51711, 53285, 59136, 60502, 60982, 53054, 59226, 62432, 56329, 62469, 61213, 62045, 58694, 56078, 63286, 56686, 52522, 57804, 58609, 62955, 54222, 56474, 54457, 57375, 62773, 63508, 63668, 62162, 58511, 59544, 52057, 63439, 61498, 60606, 52543, 51804, 59758, 51966, 51415, 59635, 57807, 54393, 51445, 63347, 62203, 51548, 60990, 51460, 57423, 54995, 52905, 61117, 52582, 62671, 62563, 60804, 60697, 52855, 51566, 57320, 56728, 62691, 57504, 53248, 60157, 56351, 51888, 52186, 54910, 51755, 55432, 56000, 55703, 57051, 53297, 62877, 56481, 58725, 61729, 56775, 56533, 54914, 63314, 54198, 58979, 53217, 61552, 63064, 60107, 57613, 53242, 58210, 62345, 58984, 51386, 54082, 54202, 63387, 60291, 63305, 54908, 52650, 63178, 61706, 58366, 53089, 51099, 54208, 57983, 51662, 51480, 53889, 53403, 63329, 54626, 56598, 61669, 53726, 52384, 58951, 59150, 57093, 58868, 57905, 63221, 57234, 63270, 60242, 57123, 57201, 60558, 57708, 52227, 59115, 60632, 55934, 58341, 60137, 57330, 57938, 61274, 54978, 51799, 55730, 60821, 59865, 53591, 57344, 57145, 56616, 54618, 60781, 53109, 63024, 57568, 52308, 62332, 55877, 55674, 60190, 60065, 54357, 58667, 57173, 55974, 57883, 58508, 56339, 53251, 59013, 54417, 63681, 53663, 55042, 54968, 56528, 61016, 57058, 59893, 55381, 57573, 60246, 62474, 56534, 61893, 52342, 59389, 60904, 55524, 51170, 54745, 61205, 55363, 58937, 61470, 51712, 52800, 61073, 53993, 53182, 57970, 51303, 52651, 60346, 58099, 56853, 60588, 60573, 61066, 58523, 52083, 52671, 54419, 56331, 53673, 63005, 51259, 61276, 52652, 51878, 56116, 59811, 52655, 62766, 56374, 57743, 57178, 62974, 63643, 56209, 52575, 51737, 55992, 62239, 55818, 55203, 59672, 62764, 52728, 57550, 57634, 57876, 59684, 53515, 51478, 54574, 53101, 52335, 62388, 62074, 58539, 62209, 55586, 55701, 55012, 53183, 55222, 61542, 56870, 51940, 63392, 60366, 56886, 60023, 59125, 59443, 57037, 55574, 56903, 62291, 55747, 51493, 61898, 56756, 55242, 55760, 60531, 53548, 59701, 61432, 55621, 53805, 61531, 58162, 60809, 60485, 51534, 58710, 61855, 54607, 51399, 59099, 54322, 58747, 54455, 56672, 60355, 62386, 52432, 62948, 52727, 56868, 59950, 62962, 51162, 61386, 62285, 55724, 59138, 62710, 60454, 60192, 56459, 52350, 57125, 54845, 58373, 53739, 62111, 51870, 63479, 53168, 61984, 56440, 51529, 51304, 57266, 53086, 57657, 51432, 56397, 52961, 52873, 60507, 55672, 51227, 54750, 60495, 58214, 60732, 58477, 55665, 59242, 51237, 55227, 58630, 56234, 62211, 63235, 61543, 52639, 59706, 53740, 51196, 57737, 57437, 57999, 55224, 52496, 54921, 60549, 60152, 62451, 53568, 53254, 55515, 56955, 56832, 60863, 57988, 53462, 57420, 56287, 53452, 60903, 57888, 62880, 55235, 62529, 59861, 58117, 52074, 51461, 56265, 58379, 63764, 52257, 62711, 60855, 54641, 63174, 58335, 56157, 58775, 52341, 60879, 55709, 52277, 58925, 51215, 54056, 63373, 51365, 57874, 55682, 62091, 60322, 53314, 62379, 57839, 53886, 52754, 53460, 53326, 60319, 51433, 51602, 55504, 59108, 57447, 51114, 58181, 58176, 63052, 54668, 59647, 63380, 53437, 52078, 59071, 55527, 62900, 51704, 53634, 60171, 55553, 56142, 52732, 54662, 52823, 51103, 51770, 54255, 54562, 52126, 57699, 60832, 58666, 57238, 56336, 58936, 59302, 51661, 60016, 51148, 52379, 57158, 54234, 52532, 62340, 60296, 62380, 61413, 52885, 56084, 56181, 60512, 57841, 55828, 55503, 56847, 51389, 63505, 62739, 61596, 63093, 56220, 63012, 62187, 57880, 52951, 53032, 62280, 59979, 56201, 58791, 51299, 61868, 61159, 63789, 53222, 61952, 56393, 54576, 55542, 62841, 63499, 63008, 61776, 53046, 57355, 52561, 60926, 56073, 62598, 60384, 60621, 54912, 58005, 59658, 57484, 51587, 52156, 62007, 53842, 52721, 60907, 60308, 56384, 52452, 58883, 54905, 63565, 57972, 54533, 52810, 61935, 57068, 61643, 62550, 58317, 60570, 54858, 53537, 60751, 52804, 55655, 60925, 58108, 58364, 54678, 53597, 59481, 54556, 53781, 55578, 58696, 63240, 55938, 59561, 54036, 60263, 63506, 60884, 56697, 53583, 56250, 60283, 55943, 58678, 57321, 55564, 59826, 58203, 59815, 52081, 61032, 60475, 53343, 60560, 53772, 54842, 58150, 56427, 53406, 61143, 53006, 62689, 54155, 53081, 53743, 58059, 52581, 60518, 62005, 56356, 53245, 52247, 55320, 63383, 53942, 58851, 62661, 62800, 58093, 63166, 56385, 61647, 59582, 56977, 58270, 61403, 54544, 52648, 57790, 56207, 59174, 61819, 59141, 54447, 52461, 53495, 61719, 55379, 63677, 61597, 51779, 53499, 54335, 62826, 59606, 54598, 51229, 52197, 51125, 53191, 53590, 53958, 59930, 63315, 59809, 56928, 55792, 63040, 53784, 61911, 53061, 53575, 59059, 55404, 62867, 53067, 59152, 51809, 61212, 60000, 63259, 60977, 57347, 51956, 53603, 51542, 62736, 63095, 62610, 54267, 62212, 51970, 60169, 51105, 57309, 63454, 61141, 63605, 55421, 58876, 58671, 61230, 57977, 59875, 52978, 51494, 54041, 62146, 55629, 57174, 52900, 52262, 56330, 54379, 62507, 62787, 62777, 62110, 58011, 56368, 57863, 63204, 62933, 58312, 51663, 61334, 53512, 63773, 53937, 51959, 61815, 60353, 56062, 62185, 57314, 58414, 52705, 61429, 60040, 60156, 56115, 61688, 53188, 53690, 63070, 51362, 54747, 63761, 52073, 57625, 58722, 63759, 57083, 54399, 51846, 52984, 58160, 52797, 58790, 51806, 52552, 52853, 63542, 58368, 53674, 55945, 59089, 53651, 56891, 51129, 53122, 62959, 56971, 52910, 60556, 60978, 51988, 51516, 54326, 56215, 51757, 63091, 62767, 53073, 55563, 55881, 55693, 60323, 60669, 52218, 61620, 62861, 54756, 58872, 61629, 63535, 59370, 61177, 54839, 56836, 62926, 61457, 59539, 60858, 59648, 52411, 61994, 53487, 51488, 63276, 57515, 51373, 56002, 57919, 62741, 59075, 57118, 55053, 57293, 63532, 57066, 60618, 58069, 55061, 51700, 61532, 62254, 53786, 62329, 56026, 57572, 58006, 52485, 56487, 53299, 52108, 53069, 55917, 58621, 56627, 56618, 56690, 54740, 62988, 57472, 63642, 56737, 54749, 53862, 56375, 61405, 58242, 55795, 60928, 52297, 61781, 60993, 61064, 53803, 53377, 56464, 57832, 59422, 55699, 53613, 54895, 57207, 63232, 59256, 60103, 51833, 58330, 63483, 61535, 61862, 61612, 62707, 62927, 54224, 52387, 59693, 60146, 60407, 60658, 51503, 52269, 61636, 61977, 53783, 60266, 55096, 51641, 60846, 60851, 52003, 63569, 51695, 62036, 62424, 57247, 56476, 51062, 58648, 56023, 59001, 61743, 53220, 62728, 60177, 58897, 59755, 55742, 51589, 56409, 59924, 57107, 61857, 60130, 61009, 55538, 59956, 61831, 58919, 53891, 53300, 57116, 59564, 57149, 54847, 55491, 58693, 53947, 59061, 57196, 56857, 51231, 63517, 61114, 55675, 61419, 57086, 59959, 60921, 58541, 55107, 51708, 59908, 53189, 52677, 53151, 56325, 54296, 56523, 57382, 57918, 61421, 53249, 53876, 55923, 59215, 61257, 52587, 57705, 61860, 55894, 58350, 57827, 58386, 61742, 52863, 62085, 59139, 60328, 51491, 58392, 55619, 59767, 63186, 60744, 53532, 61437, 58145, 55011, 60552, 59926, 52548, 62755, 56823, 51418, 55595, 60352, 55864, 57682, 62298, 57151, 59543, 58463, 53213, 62321, 54879, 63411, 62206, 51710, 57859, 54975, 56063, 60236, 53338, 54350, 62608, 61371, 52162, 55766, 51924, 52559, 53053, 57519, 62089, 52865, 58258, 59969, 53418, 55616, 63755, 56639, 56941, 63494, 63238, 63651, 52140, 63275, 55220, 55708, 54701, 51771, 59978, 53431, 62682, 51745, 56091, 60358, 52682, 62869, 55439, 56698, 61538, 62137, 63141, 54165, 61251, 59322, 53356, 53007, 59432, 56968, 59994, 60030, 56861, 51705, 58781, 56013, 63646, 53813, 58737, 56665, 63220, 52066, 52236, 58298, 52771, 51957, 60859, 63035, 62629, 63287, 59964, 52794, 55405, 52646, 51986, 55050, 54860, 54266, 62322, 51238, 51192, 52079, 60853, 55078, 52792, 54210, 56014, 58024, 56451, 56366, 61362, 62158, 53117, 54481, 51834, 59034, 59627, 57195, 60589, 56439, 53677, 52444, 53303, 58907, 55507, 62057, 62681, 63019, 60295, 63661, 57893, 53469, 61347, 56588, 55546, 63432, 55676, 51943, 54186, 60650, 60692, 54840, 56120, 58802, 57797, 52626, 55108, 56290, 61093, 58377, 59246, 52268, 53450, 52982, 61904, 58216, 63072, 57667, 52929, 53147, 52094, 57110, 54046, 62425, 51421, 56637, 53028, 61456, 63351, 63319, 58076, 51115, 56774, 57050, 56041, 59229, 51871, 55970, 61077, 51854, 60848, 53226, 54922, 59000, 53791, 59779, 57909, 53909, 55409, 60947, 57265, 56629, 56780, 52538, 60949, 59713, 57672, 60325, 52333, 52504, 63292, 53878, 57695, 54346, 57089, 63145, 51361, 51434, 55192, 63113, 58404, 60370, 59262, 59054, 54365, 59622, 53296, 58399, 61881, 54140, 51522, 62163, 63588, 54245, 56912, 57056, 63022, 60640, 56180, 53019, 60815, 52434, 53256, 61809, 60056, 55805, 52899, 53288, 51990, 53312, 52325, 52628, 53382, 52954, 58933, 61027, 60421, 53867, 53070, 52660, 55965, 53989, 56332, 58000, 61924, 52731, 63250, 58531, 56792, 60014, 53486, 59005, 59862, 51976, 54852, 51204, 63224, 51346, 62347, 62808, 60880, 58097, 60547, 61080, 60085, 60932, 57269, 54253, 63282, 54338, 60144, 56744, 56693, 56386, 62263, 57596, 58326, 54265, 53983, 55221, 52702, 58989, 55773, 53298, 55891, 57603, 54137, 55702, 63436, 63522, 61799, 62785, 52734, 58138, 63636, 53072, 61171, 57744, 51339, 61941, 53737, 62665, 51792, 61136, 54323, 58498, 58306, 57308, 56184, 61846, 57022, 63721, 58814, 55493, 61190, 62433, 52361, 53561, 61460, 54961, 56163, 62224, 61763, 57019, 56269, 61825, 60138, 52173, 60357, 61055, 54734, 55232, 56526, 60970, 54903, 57476, 61067, 60492, 63189, 62743, 61716, 57933, 58287, 54474, 53113, 54991, 53720, 61466, 56222, 53992, 60365, 54640, 63179, 60724, 54718, 53412, 57353, 60599, 63732, 55024, 57328, 63289, 57486, 59745, 52985, 58934, 61468, 63123, 54937, 57443, 60872, 63821, 56175, 62847, 61883, 56551, 62935, 53282, 61718, 56531, 54133, 52807, 57099, 56228, 58161, 63555, 60354, 60390, 51688, 56106, 59573, 58177, 61401, 52942, 59473, 63765, 51667, 54877, 62032, 62304, 61991, 53882, 63688, 54418, 54427, 54880, 59621, 59787, 54408, 62648, 61574, 62666, 51569, 55758, 60222, 56022, 60595, 54035, 53102, 54959, 52195, 60700, 59592, 62028, 52629, 54567, 62338, 57342, 60168, 51376, 61748, 54520, 58400, 63257, 54844, 55756, 59736, 58755, 57069, 61044, 55662, 57078, 57431, 60673, 54861, 52479, 54363, 51273, 51910, 58118, 54154, 63568, 59029, 62315, 61510, 52747, 56390, 55794, 52144, 62360, 52033, 55918, 53529, 52388, 52468, 58123, 59201, 60339, 62644, 63804, 54022, 61024, 51927, 57799, 58151, 61323, 51403, 51134, 62142, 62290, 59943, 55531, 60763, 62871, 57819, 57055, 51340, 55385, 57505, 54787, 59716, 55475, 63615, 59947, 57680, 57900, 63049, 57604, 54101, 59686, 53971, 56299, 58704, 59523, 56732, 56371, 53695, 59912, 60950, 53263, 54818, 54619, 52798, 53920, 60423, 56944, 63399, 51784, 59131, 51760, 61352, 52537, 55474, 52741, 52967, 63377, 52986, 60810, 63414, 58362, 61613, 62252, 61978, 53824, 51156, 63039, 58355, 61560, 62176, 61564, 56855, 53708, 57432, 53193, 57303, 51535, 56899, 61239, 55967, 53430, 63541, 60875, 56492, 57354, 62930, 59362, 52892, 60905, 58439, 61410, 52402, 57366, 51487, 56824, 54742, 63781, 60386, 55360, 62985, 58452, 63092, 60167, 56918, 51541, 60031, 58268, 60774, 54965, 57224, 62316, 56395, 55953, 59344, 63389, 60471, 54600, 63563, 61712, 59633, 57720, 59146, 56036, 62161, 51221, 52947, 61810, 60315, 60273, 53262, 57820, 58807, 62488, 58818, 61434, 54593, 60953, 53426, 51753, 63115, 54415, 56270, 55886, 55484, 51612, 58566, 57990, 56130, 62963, 62002, 59324, 53255, 52809, 53982, 58408, 55219, 61183, 63160, 61525, 61391, 57535, 62957, 56069, 58427, 57488, 55007, 60959, 55054, 52937, 56230, 61122, 55477, 61973, 58046, 57597, 58470, 63768, 58780, 53731, 63601, 62025, 59480, 55164, 53896, 59598, 59203, 56675, 53320, 62680, 58507, 53883, 55783, 57080, 56748, 62500, 62156, 53520, 63687, 55641, 62604, 54891, 63132, 58653, 62804, 60718, 56436, 63747, 63159, 51430, 62781, 53010, 63813, 59278, 61327, 61772, 60499, 60303, 60654, 57927, 55424, 62196, 57312, 53885, 62903, 62597, 55518, 51175, 62868, 62969, 51061, 58869, 57738, 62024, 58509, 60778, 61625, 53789, 60992, 61607, 55080, 54251, 53838, 53528, 61127, 54624, 58454, 59656, 53901, 61218, 58938, 61631, 56863, 57386, 52572, 63398, 58664, 57182, 51466, 62972, 56295, 52356, 62104, 61364, 58801, 60738, 56236, 51248, 59537, 52779, 58165, 58167, 62657, 63003, 51063, 54152, 54281, 63101, 55631, 59790, 54909, 51177, 63556, 56673, 63260, 59998, 51301, 59501, 53105, 61416, 62539, 58530, 54710, 52786, 55120, 55310, 59129, 56676, 53221, 60668, 61050, 58626, 51127, 54682, 55919, 63481, 58028, 63720, 63671, 54471, 58102, 51312, 54331, 56617, 58336, 62027, 59873, 51969, 52953, 53976, 58023, 53962, 59409, 56470, 58248, 51794, 60254, 55647, 56271, 63403, 55597, 51469, 61705, 59775, 53899, 59708, 51489, 60142, 52675, 54460, 61476, 53643, 58548, 57377, 61238, 57251, 56817, 56990, 54283, 61954, 51128, 61671, 63437, 53567, 60635, 52403, 52696, 53879, 58643, 52212, 59372, 54643, 53807, 58721, 51191, 60649, 51807, 58686, 55569, 51080, 55508, 58885, 61265, 54128, 54204, 57784, 63098, 57939, 59474, 62245, 54900, 60446, 58965, 55887, 53812, 51539, 56994, 51729, 60685, 58472, 61253, 54050, 57008, 56051, 51182, 55517, 54608, 54085, 62940, 61155, 54470, 59565, 51270, 62010, 59303, 63026, 51495, 61958, 53516, 56028, 55761, 56798, 54892, 51073, 63669, 52119, 51605, 53700, 59750, 63247, 51675, 55418, 58689, 56146, 63445, 56016, 56089, 62991, 56925, 54735, 55633, 56745, 55373, 54179, 62431, 61242, 57075, 54100, 55975, 58932, 62494, 57828, 55523, 61517, 57304, 57969, 63530, 62273, 54342, 62791, 54397, 54486, 55651, 62603, 57629, 51123, 56762, 58536, 53150, 58641, 61865, 56138, 62626, 57513, 52584, 51909, 62358, 61614, 51411, 58955, 63100, 62333, 60314, 62977, 51067, 61777, 61319, 53788, 55707, 57202, 53247, 55728, 51601, 62296, 52217, 51093, 63419, 54918, 62838, 55148, 57057, 51574, 54491, 54409, 62555, 60313, 54404, 61604, 55909, 54898, 61589, 62084, 51524, 55751, 59323, 52607, 52712, 61299, 63667, 59297, 52018, 61662, 52241, 54091, 63468, 61834, 56007, 54748, 59382, 55250, 59182, 61110, 53688, 62200, 55023, 60920, 53344, 59040, 57525, 62929, 56609, 59715, 58078, 55431, 59846, 61976, 59158, 58829, 58592, 60974, 62863, 54226, 63606, 62782, 51155, 60011, 59933, 55321, 56021, 55837, 56932, 56405, 59749, 60773, 59396, 57849, 53009, 52936, 55822, 55085, 61967, 53422, 61350, 56249, 54867, 52486, 60834, 59723, 60952, 58016, 62050, 58929, 56848, 63749, 54669, 54546, 62199, 58576, 54817, 59020, 62449, 56884, 53169, 63603, 55973, 57584, 54432, 62614, 61519, 60301, 63176, 56444, 62986, 52974, 63233, 57435, 59530, 58255, 59819, 52457, 55898, 59399, 54314, 54611, 59405, 59657, 60097, 51763, 60525, 52222, 63451, 52053, 58926, 58762, 58593, 52301, 59238, 57877, 57906, 62348, 56515, 56258, 62165, 56320, 59741, 54803, 52556, 51446, 56314, 53379, 54221, 60491, 61234, 60182, 57081, 51586, 62797, 52464, 53649, 53482, 53402, 61601, 55809, 56582, 54351, 56740, 56585, 55256, 58685, 54291, 57577, 53604, 63004, 52471, 53253, 57574, 60458, 61459, 62937, 55502, 61158, 57548, 63450, 59570, 58761, 59967, 58995, 56763, 54605, 61895, 63340, 62968, 51998, 55626, 51843, 60865, 60009, 57461, 58854, 60962, 53988, 55903, 60253, 57821, 53500, 62918, 61876, 51476, 51544, 62647, 59670, 59195, 58743, 58459, 61648, 57496, 63686, 55510, 55620, 57703, 58843, 58284, 62845, 51179, 55589, 59444, 60473, 60275, 59022, 53913, 63710, 55883, 61878, 61869, 55408, 52319, 56045, 63386, 60179, 56574, 62269, 59951, 57886, 60509, 51470, 62642, 54305, 56715, 60951, 51065, 58873, 61566, 51521, 56006, 53722, 51789, 57143, 54442, 55601, 63797, 57753, 59971, 51836, 61028, 51245, 58189, 62605, 63334, 59692, 62483, 61444, 52939, 54371, 51790, 63142, 51351, 52116, 63400, 60657, 53727, 53864, 56373, 62854, 57264, 58247, 60655, 54011, 63650, 60218, 61720, 54044, 51176, 55899, 61390, 55844, 56976, 61178, 52054, 61836, 62060, 51107, 51265, 58352, 55666, 57480, 60727, 53204, 59591, 57881, 63029, 61887, 54705, 61306, 62901, 52887, 55273, 62983, 55233, 62405, 62208, 59276, 53503, 53699, 58627, 58793, 60542, 54167, 57599, 62022, 58967, 55145, 56164, 53364, 52392, 56018, 59341, 54498, 52046, 56577, 52056, 51076, 57277, 57242, 63327, 61332, 61902, 56383, 60415, 59314, 63413, 55660, 51858, 62618, 60114, 56019, 51694, 60300, 53697, 52603, 59496, 55100, 59192, 56426, 60792, 57633, 52304, 60068, 52911, 54424, 59036, 62489, 57327, 55497, 53527, 59711, 59326, 62909, 56461, 58245, 52767, 63737, 52199, 62552, 58607, 54564, 58740, 57294, 56807, 57745, 61515, 55623, 54573, 53091, 54722, 56243, 58406, 56584, 53331, 55486, 60149, 57594, 53049, 56961, 58767, 54788, 63065, 54725, 63263, 51974, 63567, 57956, 60609, 53134, 62915, 61201, 55870, 53449, 57570, 61108, 58434, 51401, 56799, 63241, 51382, 52171, 61919, 60320, 56065, 53124, 54846, 58104, 56512, 61735, 54190, 62784, 51609, 63313, 52765, 56369, 60124, 52678, 59505, 61726, 55368, 59641, 52001, 52643, 53904, 61704, 63484, 52121, 59439, 59521, 60279, 52593, 56264, 61358, 53174, 60610, 63200, 53544, 55204, 57891, 53372, 56479, 58112, 55755, 61529, 59102, 56620, 54289, 58157, 62893, 57090, 52041, 57805, 51683, 55402, 55309, 52163, 62725, 55149, 56388, 61791, 63596, 63063, 55428, 57997, 55286, 61585, 63635, 63223, 58923, 57212, 57493, 56663, 63096, 57434, 63466, 57762, 51311, 52617, 61792, 57879, 57220, 62042, 58542, 55069, 57843, 61488, 62073, 52901, 57209, 52425, 57474, 59336, 62115, 55711, 51703, 59379, 56418, 61813, 57810, 52396, 53473, 62378, 51615, 58996, 63509, 56796, 51693, 62078, 56229, 59938, 51217, 51319, 56544, 51732, 56238, 57009, 56946, 54175, 63219, 51768, 51863, 56752, 61833, 52843, 51145, 56874, 51634, 62801, 59259, 56010, 53554, 57030, 62756, 55323, 62130, 63725, 52998, 61639, 54549, 56346, 52362, 60115, 53119, 58659, 51280, 52516, 56239, 60721, 56873, 59419, 56751, 60634, 51718, 62182, 59173, 61537, 55980, 52589, 56493, 52764, 53774, 52782, 59922, 57317, 57333, 54952, 58363, 61985, 53228, 53911, 52492, 57760, 56653, 60188, 60001, 62183, 54473, 62398, 57405, 56842, 58007, 62471, 51499, 56317, 61153, 56398, 51681, 59671, 59460, 52964, 53378, 59585, 54177, 58465, 55652, 57979, 51124, 54775, 60262, 51537, 52850, 58699, 55485, 58164, 60709, 58361, 58152, 59801, 62301, 56219, 55419, 51583, 57612, 63683, 55876, 54871, 59117, 58197, 58794, 54893, 61654, 54577, 60459, 63699, 61626, 52833, 53143, 60465, 53060, 56038, 51787, 51896, 52586, 51172, 58833, 54065, 51752, 62702, 59318, 52085, 58574, 53082, 61913, 60046, 59871, 57564, 62443, 58486, 59780, 63758, 56195, 55738, 59116, 63242, 56550, 55880, 58456, 61018, 60307, 53015, 55969, 52211, 63611, 56416, 55784, 59977, 60844, 57139, 52490, 62883, 54865, 58394, 63017, 55103, 61145, 59659, 56586, 52086, 59568, 59583, 51481, 53897, 59827, 54310, 54797, 61170, 59476, 56087, 52491, 61029, 61899, 60083, 52730, 56765, 62670, 60380, 60022, 60389, 58437, 62569, 53744, 60199, 54078, 51906, 52146, 62859, 63046, 61945, 59489, 55228, 63423, 54653, 55399, 54216, 61852, 58178, 54007, 60985, 59051, 59623, 59782, 61057, 62225, 62624, 60215, 57495, 55963, 52657, 53001, 52242, 55998, 58865, 59305, 62188, 56987, 51190, 52397, 58133, 63478, 55312, 53792, 54647, 63395, 54499, 53686, 55345, 57788, 63146, 56840, 53585, 56828, 53923, 55743, 63363, 59234, 61969, 53837, 63448, 52164, 58282, 54690, 53321, 63336, 51730, 56488, 55396, 59098, 57769, 60934, 57786, 58333, 57487, 60425, 56869, 61343, 53655, 56353, 57101, 55199, 60698, 62844, 58584, 51908, 58703, 51173, 57287, 60800, 53524, 59327, 61192, 57848, 55252, 55450, 61518, 62324, 52375, 62638, 59905, 55555, 52123, 63283, 58768, 63790, 55907, 61885, 63719, 60897, 58510, 58257, 52688, 51206, 56898, 63217, 52872, 54794, 52158, 54233, 59455, 57654, 54762, 54069, 59913, 60564, 55860, 60806, 53332, 63610, 52914, 51154, 63571, 56680, 60212, 61754, 51617, 51660, 51068, 52467, 54717, 52408, 58525, 54235, 61479, 53243, 57650, 54449, 63471, 56315, 54199, 51349, 62812, 57809, 55667, 62663, 58072, 59109, 55986, 57295, 51842, 61038, 61172, 57492, 58860, 63394, 57249, 61745, 62831, 57545, 63030, 61402, 61275, 55265, 62098, 51329, 55677, 60619, 60343, 54183, 57606, 63358, 60540, 63405, 55501, 59859, 58674, 51211, 51464, 51345, 54658, 62189, 59552, 51900, 60710, 62586, 51354, 57609, 54492, 54925, 61656, 53662, 63310, 63349, 63278, 52378, 56156, 63453, 61182, 51776, 59188, 59348, 55083, 52263, 51072, 59725, 59011, 58602, 52950, 55733, 59393, 62675, 55700, 53746, 63218, 59986, 53477, 62912, 60409, 60153, 62216, 63583, 59024, 55383, 55140, 55136, 54076, 54996, 60976, 63354, 63369, 63616, 59385, 51400, 56601, 59831, 63406, 61550, 61847, 60477, 59761, 55001, 55825, 58651, 55855, 62580, 55798, 56882, 52239, 62570, 52829, 58453, 51811, 62355, 63465, 53654, 62684, 60583, 55924, 53790, 62101, 53158, 53797, 55206, 52687, 59166, 57427, 58135, 61866, 61200, 59802, 61313, 52188, 52635, 55721, 62825, 61302, 57384, 56787, 60675, 52443, 60579, 54629, 58983, 62377, 55002, 62147, 55797, 52398, 56297, 53446, 54472, 54370, 59015, 61019, 63816, 60233, 56077, 61101, 63057, 51826, 63670, 53493, 62179, 63028, 59142, 53950, 59734, 59484, 59798, 53814, 54134, 57035, 57262, 59589, 55142, 60155, 59014, 53963, 63461, 63341, 60456, 54037, 56919, 63167, 52232, 61124, 52071, 56465, 55901, 62920, 63053, 52700, 56800, 54295, 57025, 63331, 63069, 60397, 58913, 58594, 59551, 56970, 61982, 52259, 58987, 61592, 55210, 63487, 58882, 63323, 56128, 60633, 61137, 52656, 60557, 56958, 54599, 55288, 60922, 57160, 62567, 62442, 52994, 53179, 56266, 61980, 59365, 52746, 60037, 63099, 58766, 52334, 56612, 58049, 52013, 52418, 57395, 52359, 58265, 62956, 58896, 62803, 56232, 58558, 63214, 63353, 52708, 61210, 51759, 54667, 62406, 62621, 63068, 59346, 63736, 60073, 59838, 58563, 57140, 55787, 53745, 62805, 59286, 54999, 53640, 53692, 51851, 58146, 52216, 62952, 59397, 53453, 59685, 54107, 61381, 52117, 56835, 57023, 62783, 58549, 61322, 54043, 58126, 54437, 58665, 61335, 52497, 54680, 61250, 58849, 57442, 62305, 51285, 62780, 54771, 62939, 53710, 61382, 62389, 55303, 60394, 53586, 57501, 62096, 55079, 53801, 54694, 59283, 51517, 60829, 60391, 52842, 59436, 56131, 55248, 62936, 53823, 58064, 61653, 63614, 60395, 52255, 61747, 63548, 55380, 56197, 60286, 54277, 63324, 57400, 61286, 59896, 58246, 55847, 57765, 57378, 55681, 57159, 54015, 51468, 60963, 59085, 55739, 62434, 54958, 58875, 55322, 53951, 52183, 57954, 54994, 55316, 59157, 57171, 62947, 60261, 61757, 55628, 61369, 59756, 60332, 63515, 61193, 54452, 54519, 58109, 57010, 62247, 59746, 55161, 62439, 53129, 52127, 53669, 63554, 53289, 60682, 63209, 54561, 55481, 52569, 56695, 61557, 61037, 63665, 57724, 57049, 56834, 59413, 61874, 59161, 57772, 54382, 60611, 62342, 60080, 55596, 59506, 51377, 57589, 61328, 62361, 59613, 55216, 61438, 57357, 57197, 53670, 62167, 58496, 53022, 61262, 57245, 54534, 59179, 51741, 51500, 55105, 55315, 63246, 55443, 51591, 54435, 61246, 57601, 62759, 56670, 61138, 57104, 63525, 63293, 61786, 52592, 61333, 53164, 51132, 56596, 60957, 62228, 55333, 60048, 60764, 60110, 61099, 51064, 54799, 56097, 56974, 57117, 51293, 59714, 57830, 54006, 60828, 55451, 55019, 58061, 54744, 63328, 51673, 61186, 57001, 62848, 62359, 52248, 51513, 58720, 59433, 59148, 62181, 57524, 56419, 58552, 58719, 51290, 55173, 57840, 60616, 52979, 52048, 56324, 57477, 61749, 51158, 54727, 62834, 57473, 58931, 57980, 51165, 55659, 51821, 57538, 62159, 51640, 58401, 53908, 61104, 52381, 60919, 59056, 58753, 51393, 58170, 51486, 57218, 51380, 62754, 52884, 53342, 58342, 54625, 53043, 55521, 51239, 52006, 58495, 55999, 53888, 56743, 55394, 59039, 63016, 56017, 58529, 60513, 63010, 57739, 52610, 52864, 58959, 63318, 63823, 59754, 53302, 53581, 53270, 58144, 59280, 63806, 51169, 57406, 63136, 55186, 53088, 52175, 57931, 53932, 58044, 53205, 53368, 55374, 62616, 61695, 54059, 51570, 60193, 58819, 63638, 56723, 62352, 61540, 51869, 60681, 54622, 58055, 53818, 55109, 52568, 55520, 59053, 51736, 51223, 54029, 58036, 61292, 54433, 59984, 52476, 62113, 52037, 51193, 51635, 54580, 61577, 57199, 51716, 59112, 59270, 58787, 58089, 52394, 59572, 56251, 51325, 61562, 51881, 61680, 53582, 57973, 57544, 62151, 51853, 55395, 53156, 54870, 60293, 52926, 53275, 55689, 53938, 53209, 63332, 55780, 57757, 61551, 56321, 54795, 55777, 62094, 52088, 56308, 59311, 51754, 52340, 54830, 63208, 56727, 51781, 62921, 52524, 61785, 55444, 52099, 52601, 57192, 58893, 63256, 52834, 60661, 54972, 58062, 61249, 63748, 60244, 51786, 61227, 55557, 63582, 57134, 58803, 55304, 63788, 53410, 51925, 61241, 60106, 57829, 55057, 63370, 53132, 58313, 58229, 53606, 61807, 62466, 51964, 53079, 60006, 63261, 61270, 55863, 55630, 62441, 51665, 55082, 54321, 62504, 53097, 51113, 58890, 54259, 60335, 58383, 53620, 63058, 58188, 51082, 59737, 54829, 60623, 52846, 60762, 58553, 52310, 51573, 54851, 52546, 54509, 60565, 58478, 59515, 57114, 59724, 63796, 58182, 56556, 60494, 59508, 63557, 60887, 56947, 52115, 61025, 52689, 55208, 51279, 59007, 56280, 56647, 59485, 55996, 51081, 52506, 54092, 54496, 59822, 55820, 63727, 61445, 51955, 51391, 55281, 52220, 56171, 61237, 58294, 53571, 60445, 52840, 53719, 62490, 52659, 60349, 54308, 59376, 52918, 51368, 63712, 52489, 63273, 57748, 57359, 55045, 59378, 63753, 58013, 63457, 57734, 58271, 53900, 51791, 54738, 52181, 51883, 51777, 60981, 57226, 54106, 56979, 54732, 55815, 59184, 62600, 63412, 62450, 56747, 56447, 58137, 53233, 54484, 61796, 61990, 59823, 63163, 52845, 53058, 51886, 59597, 60460, 58764, 57899, 60185, 58634, 51131, 55604, 57602, 51428, 52928, 57982, 51208, 59316, 57541, 61211, 52935, 55989, 60331, 57853, 60281, 59949, 62395, 63434, 62589, 51167, 59135, 52458, 54997, 51392, 51306, 63814, 58605, 57259, 57652, 52290, 54857, 61624, 52291, 53451, 57710, 56707, 53126, 51135, 51948, 62727, 54940, 60481, 54431, 53648, 53497, 52331, 55944, 62201, 53782, 52284, 51378, 62917, 60363, 52367, 55455, 61346, 61554, 55940, 58571, 60347, 62198, 53601, 63617, 62004, 61575, 57112, 53267, 61173, 62412, 62306, 56557, 58792, 55040, 51996, 57867, 51518, 58015, 51626, 56897, 61062, 61317, 57823, 54048, 52270, 55412, 62796, 54440, 62622, 60694, 62086, 57233, 51492, 59668, 59035, 61870, 62537, 61340, 54181, 58288, 63708, 56641, 63059, 61690, 63507, 61133, 53392, 57096, 63533, 53580, 55456, 62960, 52275, 54278, 56603, 54451, 63009, 56923, 62609, 60053, 53349, 60707, 63700, 56687, 59879, 63067, 63143, 60148, 56575, 51402, 52673, 63131, 56323, 56217, 58127, 52478, 51101, 52407, 53330, 61345, 52606, 63430, 58992, 63139, 54953, 52882, 52780, 53767, 60039, 60615, 60801, 53128, 54081, 59608, 60381, 62530, 60772, 62911, 56692, 53584, 60310, 56549, 51112, 59447, 62326, 55343, 58554, 51482, 54687, 52535, 59060, 53190, 63713, 61268, 61497, 55226, 62174, 57870, 57655, 63130, 51701, 59081, 51188, 51207, 59288, 56759, 60938, 51671, 61798, 53804, 60790, 62966, 54904, 56671, 56634, 53141, 60771, 51431, 58859, 59268, 59860, 53241, 51761, 56224, 61052, 60852, 54123, 59768, 58832, 58705, 54981, 58309, 57433, 62134, 53421, 53712, 61923, 51121, 54530, 60438, 56930, 51889, 56452, 56060, 54448, 55244, 51287, 52674, 57508, 57641, 60948, 56214, 56791, 60719, 59524, 58862, 61811, 54575, 61187, 56511, 51519, 57170, 60441, 60960, 56989, 55364, 58568, 60803, 60109, 53033, 62823, 55469, 59418, 61026, 58475, 61473, 59471, 53136, 53471, 62235, 51656, 55470, 51893, 61314, 57949, 62144, 53085, 54112, 57707, 62251, 53870, 59356, 59087, 54377, 59596, 58716, 63791, 53977, 63285, 53539, 53175, 54926, 53295, 51645, 58273, 62478, 61435, 60127, 59679, 51531, 55717, 61100, 62984, 57945, 54537, 52027, 63715, 60765, 55259, 59290, 52578, 54352, 60035, 56187, 55171, 54514, 55571, 55966, 52109, 60012, 62227, 62143, 53605, 54535, 62503, 56913, 56694, 54228, 56101, 54677, 54516, 62713, 58324, 52801, 62455, 51452, 52315, 56865, 60184, 55600, 52143, 56988, 55482, 53201, 62275, 56985, 55317, 60826, 56646, 62734, 55124, 57798, 51220, 62464, 51702, 56342, 56085, 57167, 59594, 58208, 62981, 54231, 52136, 56611, 61125, 60159, 63177, 51258, 61477, 59417, 54168, 52576, 62668, 53229, 59677, 60647, 57645, 62492, 59563, 51136, 53773, 56072, 61430, 61081, 54263, 56174, 56221, 55734, 53161, 52327, 54635, 51839, 55391, 55814, 59664, 60024, 60580, 58286, 53501, 61946, 58730, 61039, 58532, 57557, 62989, 61398, 63107, 62749, 51334, 61305, 53514, 62006, 55927, 61670, 63343, 57967, 51929, 52206, 59265, 62314, 58237, 60517, 63129, 60856, 52669, 58646, 62099, 63079, 60379, 63312, 60076, 63449, 61103, 60575, 56503, 55327, 61097, 61615, 53433, 51070, 59510, 54993, 52814, 52280, 55009, 55697, 55612, 61355, 61793, 63724, 55458, 60642, 63350, 58283, 51408, 57852, 52717, 55246, 51977, 51563, 60368, 59851, 62548, 55580, 61918, 61271, 54531, 51764, 58867, 57934, 61606, 63321, 58940, 59832, 59898, 59043, 60666, 55913, 51682, 62297, 63279, 57059, 59833, 56159, 52201, 59482, 57690, 51313, 60096, 56414, 52323, 61526, 51557, 56909, 55748, 54080, 63589, 59727, 58071, 61301, 58785, 53851, 63491, 51218, 61555, 57922, 51658, 56560, 56118, 60637, 61360, 59249, 60944, 62864, 60371, 61663, 56489, 61771, 56681, 51302, 57910, 60830, 54751, 59073, 54539, 51947, 63739, 51390, 59731, 55271, 57660, 60197, 56033, 61245, 62114, 52060, 55602, 60555, 59401, 62037, 57511, 61660, 61830, 58315, 51611, 52515, 62887, 53551, 60969, 61215, 60665, 62840, 54569, 57391, 54450, 56879, 53481, 60989, 59829, 58741, 61638, 52805, 61105, 54462, 58702, 60955, 62802, 54274, 58514, 63446, 60050, 54982, 61588, 60941, 61580, 57373, 52445, 62153, 59384, 61775, 62018, 55014, 56633, 52547, 58698, 60916, 54729, 60496, 59483, 51607, 62150, 63607, 54983, 54849, 62385, 51733, 52832, 61553, 60021, 61084, 60498, 59880, 57398, 60305, 60629, 63429, 51536, 56071, 51337, 55035, 53628, 57578, 51414, 54173, 59793, 56527, 60165, 55342, 54812, 61641, 56878, 58396, 61408, 51584, 60294, 54075, 58039, 56838, 56916, 62255, 52474, 51633, 55962, 53508, 63634, 53040, 63303, 59886, 62744, 57301, 53157, 57714, 59144, 53902, 55551, 51796, 58032, 57992, 52346, 52835, 54187, 55460, 59850, 51968, 60424, 57987, 56096, 61956, 59549, 63397, 61022, 60147, 52326, 62967, 55752, 59559, 54894, 57232, 55866, 51095, 62992, 59072, 53852, 56005, 62874, 56304, 61530, 56517, 63551, 57227, 61756, 62688, 57747, 58778, 53656, 54079, 56467, 59008, 63001, 60620, 51157, 55920, 57558, 60099, 58468, 62375, 52349, 59778, 58647, 52273, 59069, 62971, 61040, 57467, 58227, 51332, 57283, 58572, 63809, 55684, 56684, 62714, 53468, 58308, 56808, 52557, 62416, 63663, 52720, 60520, 53918, 52311, 56318, 55180, 56113, 58221, 55558, 52735, 60364, 52595, 51622, 53574, 57005, 59066, 55643, 60318, 53094, 56253, 57276, 62048, 54752, 58113, 63155, 60439, 56117, 57176, 57128, 51890, 58894, 63044, 56074, 63547, 61925, 54141, 55706, 54637, 57024, 60923, 52625, 51629, 53681, 54428, 51713, 55335, 60602, 60461, 59371, 57904, 61087, 58964, 63531, 58948, 53098, 61889, 52035, 57964, 59147, 58303, 60730, 54560, 61307, 59090, 55400, 54754, 57518, 52981, 54524, 55968, 57566, 55843, 56093, 52513, 61618, 56248, 56702, 53846, 52112, 54258, 57446, 53397, 58321, 60265, 57644, 62003, 61569, 59666, 60042, 54142, 63777, 56114, 61617, 56499, 62549, 58457, 55607, 53917, 53887, 52824, 51848, 55638, 60479, 59516, 54906, 63193, 63482, 63652, 59915, 60586, 57681, 53152, 53012, 63248, 57543, 57822, 55060, 59111, 53264, 53623, 60003, 58323, 52517, 58732, 61188, 62465, 57015, 51857, 56272, 54207, 55181, 56830, 62958, 60994, 61368, 61863, 61943, 55468, 63741, 60793, 56100, 53765, 58715, 62824, 62745, 59744, 61266, 56213, 58322, 59903, 52815, 59221, 61970, 59529, 53611, 54010, 59155, 55981, 58858, 51814, 51216, 56933, 58224, 53858, 59353, 58782, 62730, 59309, 55737, 62170, 61541, 60529, 56054, 51666, 60010, 54269, 54773, 57003, 58506, 62899, 54815, 60084, 58438, 52271, 57422, 55169, 58581, 54881, 52226, 58491, 61949, 55127, 60436, 52151, 61767, 51315, 58977, 57780, 56957, 55713, 62072, 53630, 60731, 62527, 54309, 58999, 56291, 59970, 56794, 56760, 62704, 58205, 62131, 60701, 57410, 63776, 58485, 54774, 58479, 53636, 53246, 54121, 58301, 60747, 61957, 57154, 59380, 51949, 63519, 51140, 56638, 60505, 60134, 59398, 54586, 63444, 56997, 53425, 62062, 52447, 57951, 56298, 62299, 59556, 52190, 61316, 56354, 54780, 60154, 51914, 62243, 57155, 51267, 61495, 55415, 59383, 59190, 53408, 62087, 61298, 54209, 53110, 51118, 55384, 55325, 53825, 62407, 58863, 59590, 51268, 60514, 58114, 61960, 56344, 62924, 51756, 60691, 61567, 53691, 61835, 58813, 53779, 51911, 56726, 52636, 54240, 54521, 62219, 59486, 59751, 55831, 58946, 53384, 55757, 51805, 60087, 57803, 58302, 60769, 56803, 60670, 52531, 61516, 62383, 61461, 59499, 57013, 53929, 62353, 53092, 59764, 54513, 51447, 58640, 63696, 55705, 62335, 59550, 59177, 58159, 56186, 59864, 53375, 58906, 56257, 51330, 57776, 63239, 55052, 59006, 52324, 54954, 54565, 61010, 61472, 60659, 59442, 63210, 61098, 54550, 61710, 59824, 58973, 60966, 57076, 60405, 51250, 61196, 59342, 51151, 63077, 55888, 55852, 55268, 62271, 51275, 62157, 53949, 62264, 57288, 54855, 56628, 61061, 56769, 60870, 57662, 62282, 62905, 58615, 59426, 63707, 61046, 53523, 58596, 61300, 62982, 58423, 55649, 61331, 56129, 51152, 51879, 51228, 62916, 59797, 61135, 61248, 60269, 62723, 60551, 63691, 51077, 52062, 59428, 62806, 55144, 59167, 61400, 51347, 53717, 59705, 53926, 55465, 52261, 56502, 54003, 56851, 61383, 62310, 57060, 53327, 52714, 55101, 55691, 53764, 57640, 56349, 52923, 54612, 63090, 53668, 62427, 53898, 56959, 62337, 57282, 51150, 54654, 56589, 60559, 58570, 62701, 58026, 62234, 59124, 54138, 54703, 61506, 55769, 52941, 61563, 63489, 58180, 51288, 58917, 61800, 56507, 54252, 59244, 56972, 54109, 58041, 56394, 55021, 52180, 52963, 55413, 62248, 51774, 60375, 60593, 56820, 59466, 52120, 56070, 57758, 59772, 57932, 53396, 54047, 59156, 62532, 55862, 51185, 53390, 55767, 58503, 52776, 57845, 52902, 54974, 60812, 55190, 52082, 52179, 52348, 53802, 58680, 59317, 51746, 58717, 57523, 61616, 60791, 58420, 60183, 57440, 54789, 61801, 58488, 56190, 51264, 55587, 59525, 56849, 57394, 58121, 52372, 53026, 55122, 59333, 54726, 53077, 57217, 63424, 59335, 57561, 52870, 61485, 52391, 54831, 63716, 52240, 61779, 58365, 56856, 55371, 53547, 56827, 62599, 60243, 53600, 59119, 62946, 58202, 62557, 60979, 57587, 60723, 60737, 51646, 61598, 61439, 52844, 56462, 51699, 54510, 59904, 62166, 60548, 54859, 53166, 58633, 54885, 52907, 59296, 58515, 61280, 62107, 53140, 58430, 59477, 57697, 56450, 51257, 62776, 58714, 58916, 61452, 61363, 56268, 58845, 54479, 53225, 55488, 61573, 55332, 54129, 56262, 52694, 62420, 60515, 58357, 60728, 63121, 60123, 62012, 52431, 52667, 59064, 53538, 54205, 58344, 51098, 62015, 54967, 58962, 52839, 61609, 57865, 63822, 55134, 56155, 58543, 55892, 58713, 61086, 54798, 53866, 57120, 57289, 52420, 62973, 51923, 59154, 58348, 54071, 57390, 57002, 63404, 59498, 51508, 53199, 56372, 54838, 55299, 59260, 53084, 56716, 59367, 59351, 52114, 55534, 56559, 61014, 53281, 63754, 54646, 53244, 59113, 56064, 62914, 58190, 58050, 51186, 53435, 60239, 57095, 57976, 52132, 58595, 57588, 61320, 62044, 62544, 56055, 51616, 56098, 54445, 59891, 61758, 54809, 56127, 57274, 61384, 59987, 63824, 61879, 60422, 63751, 60069, 55139, 57716, 58398, 63587, 58310, 54217, 51395, 52097, 59934, 55003, 59646, 53444, 52701, 58037, 55393, 60432, 55872, 57065, 62339, 51817, 58215, 51094, 53863, 61385, 57912, 56871, 55895, 60766, 57715, 51866, 56636, 60971, 52972, 62895, 61426, 52016, 62038, 60895, 63364, 62593, 58632, 59740, 55786, 53621, 61655, 61031, 60715, 57866, 60652, 57911, 61397, 62649, 53721, 54384, 53347, 63575, 51654, 58866, 61987, 51286, 52042, 53210, 52922, 57858, 55062, 62891, 59086, 62017, 60742, 57286, 61089, 51961, 52278, 61962, 59162, 54582, 53750, 62881, 51823, 56746, 51734, 62267, 58649, 56486, 63639, 51336, 53052, 53735, 63416, 54522, 63345, 57527, 59021, 62709, 63540, 52274, 54920, 56645, 53610, 61225, 59237, 51677, 60866, 57540, 57034, 63338, 57370, 58276, 61370, 59675, 60603, 61989, 54541, 53440, 59424, 52417, 61520, 62349, 53644, 55987, 52404, 51240, 59687, 54724, 60819, 56413, 53954, 58264, 53618, 55536, 55933, 54330, 52539, 53116, 62112, 58911, 60797, 53211, 60377, 55461, 63254, 61558, 56058, 55051, 53665, 55158, 63730, 60400, 52399, 57316, 53492, 54606, 55695, 62633, 54312, 61003, 59130, 52759, 53849, 62733, 51289, 57223, 52919, 54262, 57071, 55183, 59183, 54862, 58134, 52745, 59800, 51436, 63088, 57533, 57551, 54020, 60060, 54802, 55990, 57166, 62613, 59899, 62491, 54161, 58644, 58904, 58349, 60232, 63094, 55070, 60780, 62729, 60786, 62387, 61202, 62312, 60271, 63694, 59169, 58770, 52588, 61396, 56284, 58325, 57358, 58115, 59680, 63191, 53076, 60228, 61930, 53830, 63808, 53751, 61053, 54698, 60761, 58163, 53647, 62976, 53724, 51643, 51795, 60141, 62511, 51913, 57000, 52026, 61795, 63360, 51750, 61059, 63455, 55971, 56547, 57742, 57732, 62148, 63682, 57348, 51939, 61790, 62141, 59753, 52952, 54666, 59747, 54585, 53709, 57329, 62108, 54737, 63815, 55833, 51991, 54019, 57399, 61903, 53025, 55038, 54264, 56347, 59995, 63014, 60877, 54777, 54282, 62283, 60843, 53480, 53505, 51348, 51624, 61324, 53715, 61035, 54039, 53794, 51740, 56225, 60402, 61501, 59027, 54024, 55048, 56872, 51793, 63549, 55422, 63355, 61309, 51453, 62034, 55420, 54149, 51226, 52565, 63562, 54901, 51585, 59546, 55955, 56915, 52316, 56632, 61910, 53840, 63711, 56343, 61462, 56042, 63055, 52477, 56463, 57712, 59171, 61285, 62123, 54158, 60605, 60779, 53701, 57362, 57831, 51638, 53066, 56504, 58692, 56553, 58590, 54303, 60571, 61184, 51344, 52330, 51130, 63365, 54193, 60958, 58966, 53466, 55869, 55247, 63659, 61512, 55308, 55950, 59163, 61717, 54553, 58120, 58217, 57179, 60289, 56911, 58520, 54897, 58376, 55878, 58577, 62798, 54896, 60451, 59788, 51820, 56724, 57583, 63496, 51628, 60756, 54810, 63119, 58230, 59449, 51724, 59785, 58239, 63428, 62836, 52360, 51808, 56454, 61914, 59300, 59431, 54316, 55645, 58961, 54559, 61490, 54163, 59299, 60453, 57369, 51300, 52909, 52551, 60488, 54189, 58745, 51225, 63580, 60973, 56669, 58963, 51450, 51798, 60940, 54614, 58193, 56540, 58345, 53959, 63226, 57838, 55835, 60894, 56662, 55715, 52152, 60235, 59045, 59404, 63118, 54776, 57273, 53316, 54659, 60406, 55411, 60868, 51383, 55512, 57379, 59703, 55541, 55005, 55430, 59464, 60468, 59821, 60820, 61420, 53078, 60210, 54992, 54523, 54603, 56104, 57711, 53944, 53413, 56892, 62677, 57953, 62061, 61505, 63245, 51590, 58424, 54212, 60975, 62213, 58639, 55979, 55727, 54770, 59009, 52837, 54390, 52698, 53187, 63799, 51263, 62579, 59946, 61493, 58796, 56563, 51898, 61570, 56982, 59535, 52032, 55063, 52707, 53224, 51236, 54463, 52931, 60563, 53564, 61677, 58834, 60467, 58175, 61948, 54068, 57436, 61336, 53997, 62302, 51543, 59068, 55417, 62496, 56519, 52637, 56123, 58560, 58179, 58912, 62672, 60873, 62001, 60924, 58051, 60430, 63106, 52869, 56736, 55849, 55398, 60161, 54461, 52023, 61160, 51600, 61076, 54621, 61181, 55490, 63783, 61673, 55275, 51242, 59465, 52118, 57499, 55225, 55039, 58444, 56532, 53890, 51698, 60172, 62014, 60464, 59490, 58494, 57211, 63138, 55375, 56137, 54719, 55370, 52155, 63192, 52463, 59794, 60987, 62232, 57087, 54156, 51246, 62138, 52766, 63301, 56821, 60740, 57148, 58142, 56050, 61441, 51435, 58184, 54589, 56024, 53696, 63705, 61232, 62278, 52921, 60385, 52166, 60918, 54956, 52409, 62524, 57230, 55403, 54796, 63629, 53142, 63164, 59781, 52182, 57942, 62289, 56839, 54197, 58272, 55526, 62811, 58413, 63056, 55622, 55388, 63660, 52793, 54394, 62009, 51153, 54058, 52680, 54760, 62913, 52172, 60373, 63762, 57884, 59228, 57261, 61115, 62898, 60378, 61021, 57240, 52142, 55261, 62821, 59082, 62117, 52509, 52777, 61884, 62979, 57189, 56786, 57661, 52996, 56713, 60418, 59126, 54808, 59836, 58095, 58073, 52790, 61806, 53810, 52031, 63011, 59328, 52825, 58970, 56376, 58340, 61755, 59688, 61407, 57368, 57177, 51825, 56844, 56334, 58821, 60399, 55313, 61424, 62751, 61203, 54525, 60581, 62829, 59331, 58374, 59514, 54655, 54837, 53394, 51919, 62560, 58891, 61058, 61635, 62762, 54412, 61392, 58360, 53985, 53553, 51960, 58358, 55098, 58949, 56506, 63564, 54685, 62942, 62260, 55095, 57451, 54127, 54766, 55030, 62906, 61544, 60466, 55356, 55445, 56810, 54097, 53059, 54051, 61134, 51168, 56615, 52526, 55340, 61379, 59848, 59795, 58567, 59786, 59841, 52077, 57146, 58211, 53329, 62118, 59683, 56772, 57961, 59487, 53766, 62366, 52279, 58080, 58658, 59569, 60604, 57285, 57339, 55179, 62910, 60033, 60145, 59704, 56081, 57552, 51604, 59472, 63718, 55059, 53979, 54962, 53328, 54916, 52286, 51691, 56080, 59607, 51523, 57094, 56185, 55115, 55073, 61048, 57063, 51371, 56814, 56712, 62397, 56691, 54884, 61163, 56750, 52244, 55464, 63147, 51282, 60433, 60842, 58250, 53441, 54699, 63641, 62026, 62587, 60915, 60126, 53875, 53980, 62079, 52644, 53369, 52223, 53461, 58598, 60208, 61475, 55763, 55176, 52993, 51579, 56392, 58021, 52618, 57617, 53130, 57191, 63194, 57935, 54345, 61406, 57696, 56876, 54249, 52159, 52185, 62943, 58262, 59266, 54683, 53711, 54936, 59575, 57963, 56719, 57985, 59217, 54791, 51350, 57033, 63438, 51144, 51224, 52957, 55788, 52049, 54645, 55611, 59726, 62590, 59766, 58293, 56316, 56725, 62623, 51978, 62327, 52828, 62581, 59038, 54708, 51965, 57502, 55282, 52541, 57263, 58307, 53004, 55237, 54054, 59857, 52107, 54792, 59200, 53206, 51527, 60704, 54650, 53324, 54420, 52577, 57121, 53184, 54008, 61295, 54987, 63271, 55577, 55867, 53148, 59538, 58974, 58971, 54025, 53456, 54174, 52854, 56714, 63007, 55188, 57108, 63188, 52781, 60150, 63624, 52203, 63733, 62092, 55329, 61256, 51183, 55348, 62498, 59329, 54836, 52103, 57044, 57998, 61922, 56938, 59429, 60961, 52312, 56845, 58119, 61936, 59901, 52004, 57374, 60351, 55454, 57796, 60980, 60278, 55201, 59275, 58012, 56246, 61425, 51324, 51308, 61891, 63476, 54476, 52573, 59347, 61453, 63612, 63255, 63426, 62197, 51862, 54040, 55592, 55125, 56296, 57683, 61856, 52104, 58947, 54188, 51511, 61083, 56193, 62720, 62223, 59928, 55008, 56443, 56797, 54256, 53087, 63110, 59804, 51355, 57424, 56083, 51195, 54693, 60173, 55741, 62226, 60062, 54170, 60574, 56289, 60545, 51783, 63678, 60410, 54349, 52627, 57856, 54411, 61996, 54017, 55195, 57105, 59710, 56648, 51297, 55848, 63396, 55196, 63075, 60089, 61665, 52207, 55292, 52990, 61744, 61764, 62126, 58684, 53159, 59976, 55088, 63089, 54403, 55856, 63045, 52726, 52483, 59037, 51952, 58155, 62145, 56661, 52739, 57636, 54583, 58471, 61536, 63440, 57221, 56770, 51197, 56401, 59844, 57214, 62154, 51366, 62931, 57228, 62013, 53432, 58403, 55036, 54072, 57555, 52965, 57326, 53955, 53171, 52110, 55906, 55416, 60008, 63552, 62487, 61436, 54049, 52101, 61527, 51394, 51918, 55494, 60151, 63393, 54946, 57806, 51075, 58798, 59509, 63085, 53653, 61769, 51618, 57713, 53723, 52706, 51917, 61986, 55274, 56496, 58922, 62288, 63679, 58668, 61094, 60678, 59562, 51149, 57409, 53984, 57851, 57119, 59251, 57106, 63357, 59321, 59390, 63697, 57694, 52995, 52545, 61927, 59047, 53874, 55929, 59247, 62364, 58385, 58654, 60899, 57774, 62463, 63082, 56685, 61142, 55653, 61329, 54279, 62553, 51560, 62953, 60802, 62882, 54746, 62011, 58990, 56168, 62164, 63306, 63047, 58527, 51561, 60998, 53186, 63488, 56649, 62637, 58642, 62646, 60596, 55137, 51748, 63792, 52924, 61069, 61166, 58754, 53534, 57311, 61627, 61979, 52416, 62440, 60038, 52149, 56619, 55046, 54504, 63051, 52400, 60712, 63812, 51484, 58017, 52500, 62363, 61921, 51412, 59974, 56110, 57522, 51849, 60882, 63367, 61197, 56090, 55397, 54651, 58707, 62698, 62763, 58433, 52293, 60568, 56305, 56674, 55130, 58124, 55716, 56240, 59403, 56825, 51856, 53672, 56048, 56689, 53235, 55150, 51874, 55781, 51630, 59661, 52602, 53287, 52567, 59003, 57698, 56133, 53080, 58816, 52093, 63417, 60411, 58517, 56456, 59991, 57903, 57092, 54239, 52768, 56742, 63734, 54292, 51982, 53346, 62256, 58752, 61229, 52122, 57011, 59663, 53969, 61165, 52550, 54268, 54716, 53118, 60234, 60428, 57456, 57485, 55278, 56281, 52716, 62233, 58731, 58173, 61944, 60416, 62414, 59803, 57688, 54594, 54587, 62486, 54360, 58683, 63032, 56367, 59257, 57335, 53334, 57623, 55905, 61244, 63337, 54506, 60091, 62220, 58760, 52816, 63648, 58806, 59883, 57507, 59478, 53718, 61666, 56273, 55175, 56711, 57267, 54063, 56285, 62422, 59055, 55478, 62319, 55091, 55654, 60582, 63662, 60095, 60211, 55516, 62645, 63151, 54218, 56962, 62822, 54712, 51141, 59437, 56203, 55462, 63277, 63560, 57517, 61610, 56841, 51802, 59540, 62635, 56953, 61907, 61102, 55609, 57318, 57383, 63050, 59929, 61357, 60584, 55916, 61149, 60783, 54122, 57854, 56043, 62885, 53845, 61646, 58305, 60340, 59909, 53629, 62341, 61652, 51512, 54018, 51920, 57521, 56165, 60519, 61006, 53834, 56964, 57021, 59500, 53335, 62546, 56037, 51887, 54414, 52133, 55846, 59843, 56806, 54364, 59295, 57770, 60741, 56431, 58431, 59343, 53363, 51457, 63760, 58390, 55789, 62437, 62470, 55749, 52623, 54144, 53990, 53051, 53144, 59010, 57360, 51627, 52945, 58054, 60500, 55410, 58729, 51467, 56709, 54000, 55664, 62467, 52401, 58886, 56569, 54872, 58079, 63490, 59937, 53519, 61873, 61864, 61219, 54130, 53160, 53956, 54120, 56158, 63362, 60476, 53921, 53936, 54753, 60221, 62607, 54275, 54723, 51901, 51944, 59729, 57413, 54164, 59885, 58800, 53895, 55868, 56403, 61071, 63081, 54814, 53616, 62308, 63503, 54422, 52038, 59624, 63198, 60361, 55231, 57257, 55539, 57514, 62850, 63202, 62125, 58759, 53641, 61955, 62577, 52472, 58101, 55480, 55209, 54103, 59366, 51803, 51294, 55264, 58304, 61185, 58058, 56567, 51444, 57198, 56580, 60876, 54584, 60554, 61858, 60447, 51868, 59881, 58682, 53639, 51147, 60506, 51935, 61129, 51636, 61130, 54628, 55093, 51210, 53208, 63002, 59452, 51472, 58266, 57565, 62279, 52161, 61207, 56082, 59438, 62307, 62718, 59282, 53283, 56027, 60782, 56040, 60098, 62534, 56144, 61933, 56704, 62757, 52778, 54832, 51983, 60372, 60019, 60912, 60935, 51649, 59728, 53817, 61602, 62300, 61273, 61120, 60591, 53340, 57204, 62551, 60641, 60671, 61842, 53115, 51721, 53056, 61787, 52494, 61740, 56701, 57031, 56206, 56179, 52428, 60891, 63539, 59041, 58749, 56657, 61741, 63561, 53987, 59187, 58311, 52959, 55568, 54617, 56656, 58100, 59895, 58763, 56518, 53292, 54696, 51644, 52430, 60798, 61422, 63666, 59918, 57235, 54675, 51533, 60717, 58848, 52665, 60216, 59091, 62865, 61161, 58469, 62250, 54030, 54563, 57222, 57336, 56805, 56729, 59835, 59812, 62066, 59120, 53778, 60274, 56286, 59541, 59434, 60807, 57526, 63456, 57310, 57150, 53924, 58604, 62019, 62695, 58589, 58695, 52555, 59907, 61223, 53892, 61576, 61974, 56785, 54324, 57414, 51873, 53027, 56076, 55931, 53704, 60412, 59695, 52690, 59580, 58823, 58840, 54242, 61578, 55094, 54135, 52098, 59900, 63704, 61853, 53307, 62502, 60576, 61709, 56831, 58998, 55723, 60827, 61733, 56030, 59172, 60298, 52209, 56341, 51526, 63573, 59560, 56908, 52679, 54143, 54935, 54385, 58009, 59026, 55336, 54778, 61111, 61752, 58397, 60752, 58149, 60775, 54502, 62938, 63800, 58194, 62732, 58267, 55238, 61789, 60434, 58935, 54487, 60748, 51686, 54090, 56031, 55437, 57331, 57582, 52446, 54151, 54166, 60417, 53627, 56973, 55359, 62343, 54976, 53822, 57986, 59925, 55328, 59373, 56779, 62696, 56319, 53491, 54094, 56173, 51551, 61409, 54293, 57210, 58744, 52238, 53702, 60226, 63779, 53062, 60527, 61929, 56993, 63553, 58171, 58918, 53409, 61622, 62272, 55997, 55081, 51219, 61318, 52596, 53725, 62149, 55476, 51241, 57962, 61354, 54271, 52012, 61951, 52827, 62428, 56696, 61367, 52866, 62538, 57046, 59845, 57305, 61033, 53857, 55976, 51963, 56247, 57169, 63524, 60081, 52370, 63433, 53622, 62750, 53563, 52080, 59216, 52148, 56378, 55047, 58233, 62317, 52980, 61697, 54495, 61822, 52130, 60205, 52562, 59618, 55627, 53734, 58411, 55116, 55807, 52237, 61310, 53114, 61548, 60892, 60546, 55770, 51502, 54468, 52633, 51592, 58505, 58652, 62485, 60504, 51984, 53371, 54911, 52469, 51608, 62401, 58186, 57768, 53266, 60131, 53927, 54334, 53676, 53964, 62421, 51610, 62857, 59049, 63171, 62790, 53578, 52288, 52775, 53145, 52125, 56860, 60767, 60749, 56143, 55573, 59100, 51828, 62052, 62884, 52422, 53398, 54558, 55525, 60544, 56782, 52438, 57180, 51632, 63165, 54721, 53231, 53730, 58888, 63409, 59461, 51946, 56776, 51877, 61224, 61939, 60667, 62330, 61204, 55688, 63158, 51655, 54297, 59446, 51844, 56822, 62055, 58391, 57097, 57638, 55337, 54948, 62253, 53139, 56472, 62482, 58166, 62056, 53856, 57338, 58827, 58857, 56554, 52944, 54012, 52874, 60078, 58526, 51950, 56623, 55771, 58183, 57136, 60622, 57074, 60071, 56196, 55349, 51251, 58033, 54769, 63745, 52913, 59870, 63518, 58451, 59133, 60457, 57144, 63756, 61011, 62484, 53365, 55956, 53016, 54933, 62705, 52008, 54132, 57186, 59709, 56340, 54356, 55745, 61162, 55489, 58909, 59289, 62444, 57659, 53008, 63757, 55217, 55097, 61871, 57789, 52043, 63251, 54315, 63062, 52658, 53095, 58669, 56034, 61428, 59952, 53146, 61849, 51547, 63689, 63818, 52877, 53385, 52287, 51369, 58128, 57506, 59016, 59825, 57343, 56525, 61528, 62813, 53093, 59197, 58226, 58209, 59935, 56561, 56008, 60044, 54257, 57795, 58019, 62950, 52365, 63184, 54159, 56943, 51945, 58579, 58461, 62080, 58346, 51305, 55498, 55830, 53489, 54899, 54436, 58277, 56850, 55910, 62858, 54407, 63675, 52089, 63637, 60255, 55714, 55991, 62818, 57181, 53558, 58795, 60393, 60705, 59748, 54299, 52704, 51133, 54485, 62354, 59470, 62934, 53279, 51088, 52067, 61953, 56621, 60429, 51749, 61380, 57077, 57450, 61209, 52382, 57887, 56513, 54302, 63348, 62499, 54375, 62221, 55932, 55801, 54093, 56781, 59567, 54307, 57847, 54928, 56421, 59682, 53799, 60597, 53055, 56099, 54320, 53572, 61959, 53916, 58772, 59254, 56352, 53020, 57350, 55813, 56001, 60886, 61119, 56604, 53388, 57345, 54401, 62020, 57943, 58107, 60881, 55118, 62816, 55686, 59944, 56475, 63486, 62875, 54074, 61917, 63427, 52742, 52184, 51525, 51159, 51110, 56546, 58042, 62480, 54758, 61988, 61513, 60927, 52590, 54089, 60577, 55779, 58035, 55985, 58347, 53925, 60045, 59479, 56920, 53998, 55554, 62204, 58327, 54453, 62016, 63676, 60345, 59019, 51815, 62457, 52111, 60561, 61020, 58528, 57403, 51835, 56094, 57528, 54139, 60945, 60847, 52145, 54642, 61233, 60248, 58060, 53219, 51316, 62835, 55154, 53552, 51558, 59542, 52189, 63463, 62129, 57183, 61694, 53758, 63803, 60683, 61375, 53239, 51163, 57175, 51540, 57794, 60217, 54620, 56255, 56579, 59789, 57559, 59769, 55565, 57098, 53975, 51260, 60999, 56149, 53381, 51256, 51684, 62778, 60054, 61090, 55065, 54446, 52019, 61894, 54609, 51331, 58419, 58837, 59889, 54456, 59097, 54826, 54052, 62518, 63625, 62435, 59649, 54555, 60398, 59207, 57637, 51954, 52604, 57553, 62559, 53645, 52160, 61608, 58086, 56107, 55429, 60524, 52861, 53775, 59306, 56735, 60501, 63290, 54038, 55229, 59202, 57824, 60440, 61366, 53562, 55865, 55487, 51669, 62202, 58088, 56430, 60566, 61619, 57036, 60917, 60220, 57647, 56804, 58618, 58582, 63201, 61678, 53424, 55245, 62619, 54581, 62171, 52715, 59025, 52847, 63161, 55921, 63135, 63770, 57200, 63653, 62889, 61085, 52525, 58583, 58809, 56306, 62659, 61012, 53345, 62676, 62576, 58111, 61482, 62172, 52585, 62446, 54882, 51894, 54763, 60817, 59963, 57619, 56429, 58440, 58871, 60249, 56766, 59593, 57585, 57014, 53367, 62542, 58256, 57646, 60341, 62453, 57885, 51876, 57250, 58343, 59416, 59080, 63621, 63015, 55914, 56415, 56432, 54429, 57027, 57454, 61699, 55068, 52849, 52318, 54118, 59697, 61523, 51326, 53163, 53996, 59223, 51546, 62334, 57048, 58677, 56167, 51367, 53272, 56717, 57205, 59176, 52503, 54869, 59654, 53619, 62461, 55027, 56162, 56790, 61325, 55330, 59632, 52437, 57539, 63778, 57782, 58656, 62039, 56322, 62035, 57560, 53760, 60968, 51161, 60684, 56457, 54099, 57907, 51283, 60002, 56402, 61837, 52692, 63514, 62611, 61096, 63108, 58231, 58976, 54947, 56562, 58372, 56478, 63500, 55816, 55129, 61909, 54633, 53454, 52253, 62065, 53939, 59914, 62448, 54728, 52371, 58158, 63333, 55459, 57278, 57470, 52616, 63071, 52307, 52022, 55908, 53436, 51800, 61431, 63493, 60660, 55890, 63602, 54223, 62799, 54503, 53595, 62303, 61703, 51475, 52852, 56044, 57445, 63527, 62119, 51934, 51244, 52654, 57028, 59042, 56199, 55390, 55537, 58812, 61194, 51234, 51471, 54021, 63295, 52684, 51841, 63472, 56139, 54932, 58884, 51905, 51142, 61838, 58251, 54919, 51967, 62120, 61065, 52139, 62268, 52583, 58129, 53104, 62932, 58617, 63346, 55074, 63630, 58421, 54913, 57256, 55026, 61296, 61491, 57052, 59435, 58480, 55212, 60695, 61294, 51855, 60025, 60600, 61144, 56927, 53274, 61348, 60965, 52917, 61848, 53065, 55041, 61492, 61897, 62683, 60219, 58065, 59655, 58199, 53869, 59942, 51902, 51214, 61768, 63420, 52534, 62261, 55812, 60822, 55567, 52859, 52612, 61851, 63633, 61780, 57663, 58410, 52017, 63300, 62832, 54423, 53195, 56260, 61195, 53631, 61668, 53757, 54383, 55648, 59696, 59206, 51184, 57537, 51089, 59681, 62630, 56009, 51178, 55593, 54497, 60745, 60543, 53395, 60204, 57901, 60207, 56789, 58084, 57889, 54779, 58687, 55215, 54706, 58650, 56244, 56075, 52007, 58067, 59698, 60837, 55935, 52090, 62374, 61640, 62693, 61549, 63572, 57674, 52691, 60288, 56210, 61644, 57466, 54632, 58053, 51100, 54511, 54196, 59545, 54098, 51530, 61174, 56738, 63402, 53579, 52352, 60230, 59691, 55099, 60057, 58736, 54434, 62367, 63516, 54755, 51864, 58616, 57172, 54964, 60297, 62362, 52662, 58631, 57547, 58569, 57236, 61867, 58004, 63462, 61886, 60653, 61696, 55673, 52276, 53504, 60348, 56761, 56887, 55401, 55615, 56312, 61637, 60474, 56358, 51837, 59777, 57364, 57575, 54989, 51651, 62102, 58733, 52750, 63087, 52630, 51867, 59760, 55276, 52015, 62169, 52385, 56135, 61859, 52030, 55131, 52896, 51451, 52733, 59123, 59181, 60713, 63157, 56668, 58274, 52351, 51650, 56241, 53732, 52105, 61766, 60258, 54005, 51379, 57955, 57664, 61344, 63631, 55582, 58663, 59791, 56361, 54930, 60687, 53816, 61374, 58901, 53484, 56362, 57039, 54067, 55710, 57085, 57814, 63102, 52484, 62830, 53315, 53047, 59626, 63604, 55291, 62116, 55165, 57193, 63805, 61267, 63124, 57981, 56435, 55853, 62193, 57147, 52897, 62583, 61950, 60693, 58320, 54243, 57280, 53776, 52668, 56095, 52744, 62249, 57388, 59578, 55896, 62640, 59281, 56992, 62472, 56495, 61082, 63216, 60139, 51419, 59738, 63153, 54853, 62041, 57825, 58942, 59345, 57704, 63342, 52580, 57860, 52177, 55152, 63626, 55774, 54378, 52454, 56377, 55575, 56754, 63520, 54290, 57084, 59030, 61571, 59676, 60699, 55875, 57862, 60066, 58022, 52412, 58263, 56178, 56279, 54538, 58533, 58426, 61075, 52999, 55457, 52191, 63819, 62876, 58550, 52722, 60117, 61351, 56301, 62505, 58968, 58493, 57334, 53999, 57392, 57323, 52456, 58025, 53429, 57531, 54578, 59617, 57509, 51731, 55307, 53703, 61263, 60714, 53304, 60900, 59456, 63592, 52289, 60162, 51568, 54736, 60818, 58799, 56963, 61502, 61463, 56025, 54340, 57156, 52542, 54343, 55900, 63037, 52638, 56404, 58296, 53865, 54888, 52615, 63361, 58734, 63023, 51818, 52930, 58537, 58234, 60350, 58185, 58425, 57079, 61041, 57728, 60486, 51271, 60121, 55279, 59495, 63538, 52084, 52608, 55995, 58957, 61698, 59874, 53530, 57415, 60052, 51199, 61568, 59078, 59310, 53978, 54028, 51832, 57894, 51109, 53994, 63243, 52649, 63743, 62516, 58094, 61818, 52377, 60482, 59279, 51859, 54131, 62748, 52305, 52713, 51504, 59469, 61723, 58446, 60088, 60893, 52470, 61587, 51187, 56960, 51891, 55802, 59868, 61674, 63120, 56768, 54392, 58195, 57656, 55819, 55561, 61017, 62238, 57626, 52243, 61896, 59609, 54570, 53393, 55804, 60839, 58492, 62135, 59774, 56811, 52826, 56651, 57284, 57869, 60862, 60034, 51342, 52502, 60408, 63460, 59094, 54430, 58877, 60186, 59503, 57779, 55072, 53930, 57817, 57426, 62810, 58828, 54730, 58449, 60282, 58512, 63410, 52876, 58501, 51951, 59494, 59650, 54827, 56514, 56276, 53237, 54692, 59702, 63810, 61198, 53763, 51205, 57733, 52697, 61628, 62217, 55146, 55283, 55841, 61981, 60777, 53138, 57926, 58928, 59902, 61394, 62694, 60333, 62851, 59890, 51985, 57165, 58519, 59458, 51455, 56381, 54816, 61784, 54157, 58460, 59997, 52813, 53835, 59954, 60902, 63802, 61449, 62160, 58235, 56720, 51441, 56047, 52024, 52353, 61753, 54887, 60004, 58608, 62970, 60443, 51995, 60463, 61725, 61372, 53389, 52481, 58369, 59511, 52932, 51562, 51387, 60240, 53560, 58830, 53236, 57006, 59358, 60567, 57816, 57421, 58982, 63467, 62445, 52933, 55939, 56875, 52009, 56365, 52788, 62564, 55579, 63480, 54113, 53614, 62350, 54110, 56408, 58473, 56543, 54454, 56198, 52448, 60823, 57459, 53319, 55423, 56542, 51364, 61411, 60617, 58681, 51442, 62293, 62318, 52563, 59614, 59448, 51989, 62662, 53125, 51496, 63529, 61794, 55166, 59820, 63390, 56049, 62218, 61217, 54990, 63512, 57244, 51459, 56539, 51235, 51597, 56032, 52055, 60196, 51398, 52681, 61817, 53185, 53506, 60047, 56826, 58043, 58889, 59095, 53659, 62620, 60521, 52591, 56355, 57749, 52321, 57425, 59301, 58623, 63497, 60627, 58825, 56666, 63464, 52740, 58337, 57007, 57750, 54597, 59953, 54702, 53230, 63673, 58836, 55594, 61676, 63296, 60163, 51652, 52772, 56061, 54663, 57569, 51510, 57960, 57958, 63795, 55200, 57482, 55949, 63680, 51357, 57188, 59211, 56428, 59083, 58945, 54236, 61377, 59253, 56288, 59602, 58771, 61783, 53768, 56510, 56940, 63190, 58746, 58236, 58521, 58008, 51424, 63304, 54219, 61446, 51714, 63111, 58441, 55754, 59662, 58450, 51975, 60094, 59519, 60462, 52512, 59579, 61297, 53632, 59628, 53415, 61150, 53265, 57930, 62706, 59645, 57592, 57163, 52395, 56536, 62860, 56460, 53427, 57752, 60075, 55519, 51679, 58047, 51106, 57855, 60942, 53809, 56194, 51164, 55854, 59264, 57718, 62277, 51674, 58381, 51509, 62902, 59392, 52435, 58156, 60733, 62376, 53808, 54211, 62852, 55377, 53680, 59717, 59906, 61961, 54854, 62769, 62987, 51274, 60383, 54623, 54066, 60996, 52299, 56659, 55241, 54782, 53250, 57624, 53511, 53829, 57615, 62512, 62700, 58624, 54868, 62370, 61734, 59387, 61486, 55599, 54070, 55585, 51743, 55535, 60198, 58958, 61341, 58839, 60256, 59463, 63769, 52413, 62814, 57453, 60093, 52095, 53800, 53919, 63086, 59219, 62417, 57411, 57763, 61593, 53832, 55177, 51269, 60063, 60113, 60435, 55425, 58500, 54272, 53536, 51895, 63060, 63706, 51497, 52878, 60202, 52888, 56359, 59193, 56888, 54945, 60522, 59807, 61503, 55972, 55160, 51253, 52808, 52574, 61001, 61147, 51201, 55467, 61169, 57017, 59694, 60070, 53796, 58708, 57351, 61464, 61737, 62210, 53933, 58841, 53177, 51647, 54786, 57614, 54355, 61179, 57607, 57608, 56613, 55762, 53594, 57216, 60864, 62674, 51261, 53839, 59468, 57996, 53826, 58562, 62964, 53357, 55017, 57676, 56983, 62053, 62578, 52306, 52520, 59863, 55993, 62266, 52106, 55293, 59421, 59966, 57846, 60101, 52971, 54639, 59410, 58628, 53488, 57908, 53090, 62592, 58986, 57966, 52386, 52983, 60888, 61034, 58428, 61759, 61934, 62846, 52281, 59916, 59308, 60231, 56862, 57658, 63231, 59536, 60324, 57402, 55514, 58538, 54540, 60257, 58130, 55821, 53045, 60874, 58106, 54254, 60726, 54963, 62904, 53843, 63684, 58474, 52167, 53752, 53355, 61376, 55912, 60105, 51916, 52157, 56625, 61036, 53749, 61389, 63133, 52523, 61023, 60166, 52482, 60013, 53555, 54878, 59502, 58389, 54528, 61356, 53903, 55440, 51938, 52039, 55448, 56854, 56721, 57103, 57458, 63574, 52260, 55347, 58259, 59856, 53599, 54325, 57475, 59189, 51565, 51485, 52795, 55952, 59391, 60656, 56524, 53592, 62064, 58997, 63205, 57356, 59052, 58672, 54073, 54327, 54319, 51766, 56566, 58784, 60041, 63632, 53689, 55013, 52802, 52666, 53011, 53099, 63150, 58057, 55506, 56424, 51907, 52631, 58110, 62897, 51174, 60722, 56345, 53240, 53934, 56996, 54026, 60174, 62786, 61365, 60690, 60304, 57361, 53459, 56793, 62402, 56630, 58116, 59847, 62054, 55961, 60835, 59361, 58200, 53149, 55680, 55550, 57925, 61692, 57115, 62878, 60100, 52256, 54806, 54674, 54985, 51247, 62531, 58898, 57137, 57677, 58611, 61156, 61074, 52192, 53741, 52725, 56357, 53848, 55298, 58014, 52599, 59209, 52234, 52338, 55126, 58143, 59462, 51119, 63422, 63180, 54715, 53376, 60631, 58555, 60770, 56922, 54466, 52511, 51735, 62873, 51454, 53542, 59960, 52549, 62664, 56015, 58551, 56134, 61724, 55056, 63269, 59854, 63307, 56363, 56599, 53380, 55959, 61291, 59921, 60541, 52752, 60532, 60290, 52044, 59631, 63073, 51742, 52699, 63122, 59600, 56866, 63352, 61222, 59721, 57126, 62265, 61861, 53215, 54285, 51571, 63054, 55193, 54176, 62222, 52640, 58198, 57723, 63415, 56458, 56966, 61326, 55156, 55033, 57020, 53401, 59320, 54915, 55297, 53914, 59381, 62287, 58908, 61581, 60789, 54276, 56917, 60189, 56881, 63692, 51416, 53940, 56600, 62168, 58077, 54543, 56595, 57746, 59532, 55067, 57639, 58292, 62993, 51722, 58371, 61288, 53370, 62724, 56954, 60005, 59776, 55406, 54458, 54416, 56650, 60680, 52737, 63772, 53638, 57787, 62655, 52415, 62368, 63581, 56003, 51552, 63658, 52818, 56423, 61221, 63325, 59665, 56237, 51576, 63168, 52357, 61524, 62737, 51108, 53588, 53729, 62742, 58738, 62381, 58969, 62995, 57670, 55034, 54572, 62595, 55294, 62294, 56593, 52169, 55803, 56231, 63187, 52059, 62040, 58635, 60585, 61521, 59293, 51230, 52050, 60626, 63458, 55174, 56309, 62436, 54656, 61433, 60489, 51474, 62311, 52614, 52230, 54980, 57959, 63116, 60388, 57591, 56152, 58001, 52265, 56267, 59887, 59636, 55289, 57668, 59411, 54684, 60170, 59816, 61467, 53860, 52540, 57534, 55500, 58751, 56749, 61600, 61681, 61782, 51298, 55260, 54526, 56132, 60049, 60601, 52787, 51922, 51266, 51739, 62761, 52645, 52620, 51420, 56901, 52507, 58941, 61443, 53707, 55110, 51668, 60135, 53306, 55272, 61572, 62894, 61774, 60059, 61650, 58290, 63521, 62356, 52147, 54601, 62922, 56614, 60553, 55262, 62231, 53494, 53037, 53968, 63020, 63695, 57593, 61496, 61499, 53872, 57950, 57818, 61805, 52518, 59630, 56449, 53083, 52309, 58870, 58842, 61687, 61605, 57490, 52611, 55603, 52051, 55911, 51717, 61240, 51845, 58244, 53038, 54194, 57464, 57621, 57598, 60129, 54368, 54615, 58757, 61882, 53957, 54590, 54949, 58902, 61423, 55635, 54119, 57892, 53311, 57974, 53153, 53023, 58275, 55472, 53961, 61651, 56858, 60909, 57337, 58191, 59230, 53587, 55157, 51203, 52058, 51897, 57387, 52459, 57984, 52208, 57542, 53827, 59218, 62394, 52194, 55661, 63703, 54697, 55119, 51997, 57153, 53666, 56328, 56936, 61308, 60036, 59839, 55562, 55018, 52791, 54387, 53761, 54354, 61112, 63485, 60064, 63459, 58334, 54821, 62965, 54381, 57896, 51507, 58092, 58418, 60984, 52553, 59412, 57642, 55736, 58497, 53014, 56335, 54477, 55159, 57924, 53952, 62669, 52991, 60426, 58285, 56678, 62413, 59520, 52499, 63127, 51824, 58688, 55559, 56121, 51323, 52997, 58018, 60929, 56283, 61095, 56906, 55683, 61359, 58597, 53131, 59888, 55744, 61590, 62923, 59558, 54300, 61684, 60906, 57268, 60614, 62520, 60811, 62636, 54125, 54665, 51213, 60840, 53615, 51992, 60711, 63144, 63543, 60158, 55583, 51550, 55366, 54376, 56151, 52198, 62415, 58700, 52663, 61533, 57439, 59939, 60442, 53478, 52329, 55365, 63597, 63690, 55639, 58748, 55669, 63452, 54566, 58697, 61458, 53671, 57091, 60796, 59700, 54238, 51255, 52820, 59629, 54711, 51606, 56119, 52770, 61685, 57190, 52426, 57968, 55857, 51670, 60450, 53738, 56261, 59722, 60284, 62029, 56056, 56491, 56809, 58289, 56949, 54013, 56522, 56125, 61661, 63228, 55382, 57651, 62775, 51243, 55925, 52063, 55341, 58462, 62103, 57498, 53682, 53318, 62522, 60072, 59459, 57376, 53442, 54372, 54406, 54182, 55214, 55258, 52867, 56703, 62274, 62774, 61378, 57928, 51406, 54178, 57133, 53071, 52973, 57947, 55958, 55658, 58243, 62574, 61079, 60988, 53573, 61393, 56136, 53448, 59160, 55671, 55806, 57693, 53543, 61975, 54353, 59637, 57536, 60104, 58899, 51564, 53974, 63308, 61561, 53216, 58356, 59307, 59274, 61659, 54443, 61715, 53438, 52709, 61711, 54111, 52320, 60342, 56216, 51122, 54588, 62961, 56758, 53531, 52193, 61926, 51425, 60849, 51335, 54527, 60636, 56223, 58353, 53463, 58769, 55712, 61828, 60214, 57248, 54444, 63237, 63401, 58402, 57113, 62856, 58805, 51515, 60225, 62842, 59267, 61454, 62879, 63181, 52821, 57913, 57882, 54507, 54873, 53439, 52908, 55572, 57073, 63033, 59165, 57729, 63443, 62628, 60268, 61092, 52368, 59643, 59983, 51212, 62558, 60883, 60209, 54927, 54180, 61700, 61293, 53608, 57936, 53841, 56412, 55544, 51160, 58779, 55066, 60702, 59989, 53074, 57826, 54902, 59517, 56310, 55300, 62908, 58278, 62721, 60017, 51676, 58975, 62591, 51413, 62735, 61689, 51180, 63590, 58169, 61559, 55270, 61440, 59611, 62526, 59354, 57270, 55605, 54421, 51111, 56576, 51532, 55138, 58147, 61802, 57393, 57895, 59294, 51621, 53868, 53854, 52364, 61814, 58087, 57875, 62023, 59759, 58954, 57759, 61642, 56965, 56935, 51692, 52753, 51829, 51884, 61220, 52619, 61539, 60125, 56581, 54998, 61284, 63274, 61509, 63644, 59941, 61208, 54644, 57381, 51462, 54876, 52076, 59527, 60933, 56177, 59050, 63391, 57898, 54631, 52529, 52235, 59852, 63021, 51865, 60758, 62716, 54552, 55505, 53533, 53005, 63006, 59243, 54425, 58260, 58212, 54781, 55608, 52129, 57995, 60362, 59653, 54660, 59965, 59220, 62047, 54834, 59620, 60108, 51137, 57673, 55759, 51538, 55194, 56998, 57042, 52960, 63294, 58447, 62059, 53522, 51084, 56313, 53945, 57418, 61545, 51972, 60630, 60376, 62236, 61611, 61078, 62654, 52272, 63729, 57319, 61565, 53036, 58718, 62403, 61417, 61908, 52045, 62870, 51291, 56592, 55720, 54225, 58222, 56399, 58435, 52465, 58676, 63169, 59414, 59492, 51407, 62849, 54410, 53521, 57833, 52138, 59212, 52748, 56573, 60784, 56980, 59395, 52769, 60200, 55285, 59104, 55218, 55750, 58443, 52925, 54938, 52258, 58484, 52812, 58172, 58776, 53405, 59712, 57610, 56788, 61683, 62753, 58944, 53194, 57666, 57994, 58637, 62495, 54366, 54517, 54634, 58739, 61632, 60720, 62588, 53905, 51284, 51254, 59719, 54088, 62508, 56494, 52880, 58466, 63152, 57590, 60857, 58661, 58085, 61727, 62077, 53350, 57296, 52719, 51321, 59377, 62686, 52087, 52427, 63655, 63381, 60356, 57620, 58690, 56948, 55344, 60651, 58448, 61480, 52178, 54518, 54126, 54001, 61045, 54793, 63117, 59033, 52251, 51360, 56688, 63376, 52131, 52940, 53787, 63215, 54532, 51613, 59533, 63767, 59878, 53419, 55984, 51276, 55566, 54250, 58735, 57468, 53286, 58513, 62207, 57878, 54306, 56718, 57835, 62459, 58207, 62090, 58636, 59610, 55947, 62827, 62712, 53646, 55240, 51438, 52758, 58910, 53713, 51120, 61701, 63105, 54604, 54907, 58232, 59110, 54014, 59114, 53880, 59048, 54124, 60511, 53589, 60816, 53416, 55994, 58332, 58670, 54337, 54688, 52366, 51921, 52903, 53819, 63526, 53000, 60755, 52337, 58930, 58673, 57129, 63041, 51672, 59488, 52763, 55020, 59101, 60251, 60530, 62068, 52729, 62994, 51727, 57706, 62817, 53154, 55492, 52898, 52703, 58518, 61054, 51588, 54856, 52975, 58887, 56153, 61594, 56700, 60178, 60484, 62493, 55004, 58561, 53305, 56389, 55362, 53359, 63203, 63511, 56708, 63746, 62186, 58900, 60136, 58238, 60703, 54505, 59427, 62752, 56277, 62229, 52554, 53967, 53198, 52213, 55679, 58610, 52249, 53946, 59999, 62292, 56731, 54545, 56455, 56635, 57127, 58318, 58620, 61760, 63766, 61483, 52165, 55387, 61478, 61471, 52069, 61603, 51778, 52773, 63570, 62046, 53831, 59170, 51456, 52493, 54801, 58415, 54162, 53003, 52799, 53847, 53173, 51374, 59595, 57239, 52487, 51465, 59330, 55006, 57438, 60644, 56482, 57549, 56951, 59368, 59892, 58831, 51318, 57385, 59830, 63752, 56111, 59990, 61905, 59263, 62295, 57070, 54301, 55644, 63080, 58852, 55614, 59127, 60061, 51707, 55044, 51697, 54146, 61746, 53212, 59876, 54400, 63128, 58407, 57255, 57754, 58096, 63744, 53411, 61258, 62177, 62815, 60317, 61236, 54739, 51086, 51780, 51903, 60336, 57844, 60143, 59962, 52455, 51999, 54244, 51572, 53859, 57417, 60329, 57811, 57271, 58820, 61180, 55545, 61971, 55879, 63173, 58524, 54595, 59882, 59012, 55446, 60753, 59241, 59350, 63384, 59855, 61938, 58105, 58192, 61002, 52514, 60706, 53197, 57556, 54850, 60533, 58280, 55942, 54977, 58879, 52969, 61481, 55618, 63125, 61353, 59566, 52760, 63591, 52544, 53167, 52369, 55198, 53660, 59612, 59285, 55086, 60414, 53596, 59553, 54973, 53361, 61839, 61151, 54800, 59493, 60936, 54386, 63078, 56643, 58075, 62627, 57802, 62540, 62697, 53203, 58388, 61556, 63513, 61890, 58988, 60118, 56631, 58052, 51397, 61845, 59911, 61070, 58905, 58712, 62949, 59232, 52533, 60901, 62896, 58020, 62528, 56205, 62667, 56189, 53545, 61508, 59423, 51822, 57135, 57483, 54790, 59046, 51958, 54986, 56188, 59057, 58070, 54943, 62281, 62722, 60264, 56012, 63664, 57045, 54714, 61826, 57937, 54571, 59420, 59153, 59919, 56545, 63375, 61788, 60734, 59093, 63371, 52029, 57873, 52451, 54568, 53310, 55746, 55427, 57917, 56537, 62573, 54807, 63801, 62447, 52571, 53050, 58612, 52317, 63731, 59707, 62237, 52785, 56068, 63018, 57352, 60420, 60854, 53609, 54361, 56654, 57465, 54438, 60195, 57132, 53106, 60813, 60032, 58808, 57725, 59062, 53683, 61731, 61750, 62760, 61672, 52128, 62703, 59940, 63379, 61123, 59284, 63477, 52890, 62545, 54148, 58218, 51861, 61146, 57512, 56939, 52988, 52992, 54691, 54542, 57785, 53667, 54704, 62584, 52314, 60607, 60550, 61455, 61447, 53907, 53374, 53705, 63038, 53693, 62215, 56154, 59528, 63249, 55372, 53155, 60967, 62088, 63594, 56535, 51599, 57281, 62430, 51994, 51696, 58187, 52879, 63211, 55426, 51594, 60594, 59932, 54488, 55930, 54426, 60590, 61164, 56211, 60392, 54284, 57691, 63502, 53057, 59388, 62980, 63577, 51138, 62008, 59107, 61312, 63619, 53404, 63469, 59164, 53991, 58328, 56626, 51706, 57018, 54369, 54230, 56020, 53570, 61051, 62855, 61126, 57914, 52676, 58316, 56739, 62082, 58299, 61803, 54825, 56147, 51194, 62789, 52962, 57916, 58777, 54229, 56945, 56818, 62996, 61349, 53658, 57700, 55823, 59504, 58573, 53995, 56591, 54630, 55704, 56011, 59340, 61584, 56259, 55077, 54055, 55851, 51104, 53626, 59032, 63740, 51102, 63061, 62393, 58601, 55213, 63717, 52389, 54389, 55202, 53165, 54512, 58204, 60814, 60120, 54294, 52047, 55540, 57684, 56583, 53172, 62133, 61751, 60270, 56677, 56245, 55376, 52653, 60058, 58978, 56572, 51726, 57111, 56757, 54686, 55954, 56183, 53910, 60535, 53259, 54883, 55121, 54707, 55937, 58329, 55778, 59763, 62109, 56498, 57100, 62346, 56226, 54270, 63620, 52634, 57616, 59973, 51933, 53200, 59191, 57675, 55135, 63227, 57122, 59771, 57923, 51463, 62328, 56109, 51060, 59792, 60387, 63378, 61664, 57751, 62244, 59507, 63382, 60613, 60413, 62795, 52594, 63280, 58622, 52774, 56813, 54304, 61469, 58196, 61404, 55055, 53965, 51810, 52806, 61675, 55729, 51559, 57412, 57299, 55280, 56771, 59194, 55090, 52433, 63408, 58638, 54547, 53650, 59137, 63083, 52373, 54329, 57989, 56883, 60638, 59210, 52285, 61361, 60785, 61721, 57213, 60861, 53706, 55698, 59240, 61264, 54192, 54757, 51987, 60367, 63785, 55588, 51659, 56829, 51092, 60937, 52710, 52436, 52414, 58395, 60327, 58378, 54102, 54482, 52836, 56466, 51782, 61128, 53762, 56606, 60206, 58103, 56293, 54670, 63473, 61091, 59313, 56108, 53470, 51980, 55731, 56558, 58709, 58504, 59993, 55058, 62839, 57605, 59227, 59690, 55049, 63330, 62685, 54741, 58417, 61277, 59088, 52948, 55189, 57452, 52034, 55151, 58295, 60689, 53024, 60312, 58393, 55466, 60539, 54934, 56852, 58547, 61272, 54395, 58522, 55357, 54032, 58148, 54610, 51116, 52303, 58031, 52749, 53202, 53269, 59208, 62699, 53234, 54160, 61770, 63536, 53108, 60026, 63537, 58810, 61732, 56391, 56764, 61900, 51860, 57029, 57258, 51678, 59261, 62178, 56734, 60760, 55029, 56192, 62692, 56337, 58436, 52495, 56907, 58861, 52894, 56176, 53476, 52354, 62396, 62954, 52756, 55722, 55113, 53238, 59599, 63807, 63722, 53214, 54695, 63213, 53294, 62473, 62788, 61645, 53423, 62351, 56105, 61728, 56802, 62124, 56086, 58915, 58464, 59339, 52858, 62462, 53387, 56350, 53029, 51625, 62284, 57686, 55147, 51747, 56773, 59214, 58939, 57665, 54765, 57072, 52294, 62097, 58679, 52664, 62660, 63798, 51941, 55075, 61915, 62192, 61121, 56263, 59225, 59948, 59884, 51642, 62601, 61932, 51648, 57678, 61399, 55104, 55205, 56327, 53742, 63112, 63523, 56202, 62562, 58351, 53333, 57142, 54819, 60528, 55663, 52886, 56160, 55155, 55530, 57692, 53756, 54875, 55223, 54592, 54287, 55951, 58591, 52848, 59450, 54768, 62105, 56975, 54805, 52355, 59233, 61330, 54480, 54657, 62726, 55367, 54083, 63763, 56505, 52453, 54344, 53877, 57441, 62481, 51639, 56999, 57292, 56326, 59849, 53323, 62765, 59837, 51555, 63672, 53445, 56890, 55897, 52011, 56777, 62195, 62746, 60111, 52000, 62928, 53039, 51962, 62454, 54822, 52761, 62452, 54713, 52989, 61808, 63495, 59586, 58892, 63656, 56565, 57061, 63236, 51973, 56172, 55668, 57363, 56029, 61281, 57462, 61342, 56182, 57773, 55861, 54979, 54890, 55351, 59360, 57576, 57915, 52174, 61228, 61634, 60250, 52530, 61761, 61841, 51388, 63114, 61586, 55983, 55948, 62458, 56950, 56103, 58153, 52875, 55378, 55290, 53366, 59277, 60132, 61993, 52210, 57920, 52440, 60238, 63234, 61287, 63253, 58139, 51831, 55338, 54616, 60133, 61387, 55230, 55522, 54720, 53836, 55305, 55339, 57530, 60382, 59531, 59236, 54733, 62051, 55964, 62392, 51356, 52693, 54874, 63492, 61947, 60267, 59920, 62410, 51272, 55495, 53906, 61131, 53013, 55352, 57185, 54783, 51384, 56441, 60757, 58354, 60768, 62320, 60029, 60736, 61109, 52811, 58027, 51353, 54939, 55642, 57064, 63170, 61282, 52070, 55239, 56624, 56256, 60746, 52020, 55533, 61714, 51375, 55799, 58535, 56568, 62596, 55824, 54636, 58993, 54336, 58254, 56140, 55032, 58412, 56885, 60480, 54061, 56212, 55926, 60674, 58370, 56571, 56437, 60562, 56446, 61304, 53127, 61279, 59739, 52893, 60672, 63595, 60483, 60403, 57546, 53795, 54172, 59547, 59143, 57635, 62344, 63042, 52245, 61056, 55982, 61303, 57837, 55960, 60612, 62127, 53044, 53181, 62535, 52851, 57685, 59132, 62536, 52264, 51278, 59159, 51473, 62944, 56057, 52347, 60497, 62286, 62497, 54467, 58429, 55277, 51850, 54848, 54536, 56880, 57643, 60997, 55392, 60608, 62390, 61738, 53112, 58847, 56126, 52904, 52266, 55112, 53509, 53180, 51328, 59604, 61060, 62632, 63162, 51405, 60043, 51728, 58557, 57812, 56242, 57971, 54828, 57850, 57921, 52231, 62768, 57463, 61504, 58281, 62837, 59121, 61906, 53373, 63470, 60824, 57649, 63196, 52339, 54388, 60490, 61106, 55690, 63302, 52598, 55102, 51352, 56859, 53386, 52224, 54515, 61579, 58921, 61713, 56610, 55117, 56801, 57581, 57842, 53063, 58575, 54984, 63735, 58614, 57701, 56300, 53273, 53517, 60213, 52970, 61850, 55834, 51363, 63545, 53121, 55790, 57520, 63794, 56200, 58297, 55936, 51087, 60306, 51664, 62514, 60431, 51797, 53227, 51505, 51882, 51166, 52215, 55255, 51582, 55543, 53276, 62602, 53417, 57131, 53467, 56338, 59065, 63627, 62770, 55509, 54116, 59067, 57404, 59718, 55591, 54759, 61679, 52570, 52508, 53196, 59619, 55696, 55436, 62479, 58331, 51553, 62030, 51580, 60015, 56497, 59457, 54057, 53540, 54062, 56364, 60478, 63104, 57611, 56477, 58991, 53280, 53780, 52822, 60051, 59678, 62175, 59363, 59204, 58339, 60277, 55028, 59186, 61015, 58003, 60079, 53855, 59337, 54248, 56468, 53679, 53035, 60309, 56931, 53820, 59497, 62978, 60910, 52252, 53002, 52605, 58422, 58981, 55172]\n",
            "[48072, 43031, 3244, 2672, 1455, 31484, 29871, 19178, 32808, 38168, 30753, 45506, 23037, 41612, 31229, 21860, 36644, 14556, 30889, 39137, 17265, 41903, 19446, 10453, 28984, 20074, 38965, 2722, 47414, 33318, 42237, 48394, 9843, 50997, 39753, 13686, 25959, 49282, 22091, 43637, 44233, 17820, 27671, 41680, 8818, 6377, 33496, 37156, 42894, 12997, 38969, 23654, 5990, 48602, 1638, 24300, 27972, 10631, 12189, 34880, 43438, 25572, 15038, 26658, 37312, 5733, 15250, 39756, 35428, 21980, 5054, 38465, 39592, 48557, 15532, 4853, 34581, 28926, 9262, 26424, 14674, 16541, 4518, 42059, 20338, 48411, 42667, 30337, 3540, 20001, 17525, 35107, 43530, 6296, 19432, 27965, 11128, 22042, 3033, 16855, 21677, 34351, 14653, 1100, 5127, 23788, 44723, 13397, 4809, 18942, 21646, 50620, 38448, 16351, 29855, 24091, 22331, 39915, 44930, 5099, 10802, 169, 30077, 29135, 44380, 21880, 17594, 39005, 23391, 29812, 27478, 43498, 7267, 17831, 40311, 41361, 33585, 50429, 8940, 25863, 46261, 46580, 1909, 42671, 12448, 7738, 5894, 43701, 32467, 41265, 22690, 8312, 14141, 6329, 41646, 48614, 14694, 35898, 9819, 22947, 37325, 24956, 41185, 34299, 34780, 20025, 5912, 47834, 39821, 34387, 41486, 43853, 32471, 44246, 43009, 11342, 36252, 35184, 21538, 45714, 45680, 25298, 12961, 20704, 48916, 12533, 30811, 32920, 44447, 48006, 32279, 14851, 20975, 22530, 25624, 14929, 11033, 35642, 14961, 26715, 27244, 32415, 9897, 50120, 9375, 47209, 25147, 1916, 38419, 33651, 32611, 21095, 39514, 41745, 2136, 12576, 10427, 47379, 2421, 44069, 14889, 39160, 37100, 19924, 37908, 35088, 6784, 15190, 2744, 44456, 20910, 48190, 19210, 37835, 44754, 25345, 492, 30674, 31984, 49599, 49153, 40425, 3514, 45823, 34076, 27254, 12094, 11589, 23327, 15410, 27075, 21299, 22473, 7646, 9378, 35607, 7025, 45960, 35036, 12253, 27317, 1145, 40260, 23709, 44337, 21287, 29219, 42885, 22233, 16871, 23901, 48337, 14053, 43562, 40706, 2236, 24097, 2406, 34104, 5772, 46021, 23298, 21861, 16952, 41481, 12655, 857, 13129, 47794, 3472, 1519, 20166, 20506, 10803, 21840, 22941, 43787, 46833, 35831, 3169, 31943, 7693, 15524, 665, 50044, 11050, 30613, 39157, 43269, 39688, 23609, 9800, 11824, 9810, 40531, 9903, 16715, 8475, 40271, 8872, 30108, 31048, 9752, 9132, 469, 43405, 29517, 14682, 25888, 13707, 12166, 26728, 9884, 37931, 41307, 279, 41073, 48326, 365, 31328, 22064, 32267, 38347, 28376, 10629, 2331, 46098, 17992, 12520, 1775, 34446, 11244, 26547, 321, 3697, 37713, 2796, 5041, 527, 1450, 50909, 43905, 8371, 46124, 10190, 20227, 30144, 44288, 44139, 7846, 28392, 11503, 31241, 39777, 1597, 15804, 17496, 47369, 41721, 12883, 3829, 21916, 14544, 5095, 48935, 12817, 26236, 26831, 10661, 40288, 45495, 32628, 18060, 8730, 22710, 34824, 13147, 43599, 33972, 36307, 224, 38625, 36987, 3276, 35092, 25985, 23841, 42793, 23261, 22441, 42549, 29449, 35734, 22615, 43739, 21721, 22696, 44558, 24592, 46036, 49878, 28344, 3503, 33560, 35305, 21262, 47617, 9160, 44274, 10837, 8606, 41994, 40609, 44171, 27673, 42804, 22422, 6208, 42996, 1453, 45673, 31948, 41085, 1521, 43083, 4461, 35904, 2262, 1115, 14934, 49819, 10637, 20048, 5155, 13838, 13806, 20860, 45896, 28980, 31846, 10152, 3898, 8882, 123, 5133, 48874, 24859, 38246, 41783, 25235, 17905, 34612, 2872, 27137, 26924, 44842, 45963, 8884, 97, 39828, 29685, 6076, 25691, 41570, 7162, 21910, 22744, 28241, 16985, 16631, 8958, 42290, 28119, 36479, 779, 26588, 29624, 16279, 18054, 22563, 5759, 46730, 22458, 3263, 45273, 12276, 24766, 39295, 46447, 10499, 43392, 43458, 41380, 15040, 41006, 11606, 2508, 42573, 30441, 37141, 23193, 5076, 32649, 47221, 10393, 9904, 1584, 11142, 39555, 20642, 32762, 46825, 28642, 23398, 21159, 7763, 45758, 7052, 8639, 24362, 11679, 39494, 34242, 32406, 30530, 43001, 9842, 29455, 7927, 41794, 14990, 16525, 3690, 14121, 32113, 46460, 13114, 34449, 29660, 20550, 50714, 46888, 44621, 11494, 19841, 4418, 4617, 20305, 8662, 37365, 602, 33462, 9514, 9389, 26614, 34715, 16004, 2376, 28340, 30846, 37068, 28415, 24236, 6932, 32495, 31940, 43192, 3317, 17066, 6644, 51002, 42911, 20234, 10188, 37395, 50579, 29097, 26850, 16744, 26955, 22836, 4312, 32439, 7764, 3785, 12861, 3350, 30410, 5312, 5186, 1260, 29104, 41761, 13846, 42555, 48549, 1548, 30616, 21702, 15979, 32653, 18695, 19621, 16999, 37138, 49922, 5363, 49448, 14600, 12407, 36426, 14623, 40331, 48712, 5384, 13401, 32994, 16962, 18838, 50300, 33404, 7581, 43363, 34038, 42246, 23109, 13743, 47168, 2687, 32405, 13780, 9727, 11473, 21272, 48259, 50158, 8857, 3773, 1665, 3985, 33066, 16202, 32810, 30322, 10196, 5461, 50732, 7227, 28821, 1865, 18288, 39581, 5079, 34877, 26040, 33118, 42556, 35741, 39443, 5713, 42480, 16633, 48506, 42088, 585, 42590, 37988, 12596, 2034, 36228, 43055, 12149, 48502, 33360, 917, 13018, 39062, 10257, 1971, 30433, 38266, 47500, 16760, 35668, 26748, 30155, 33747, 6350, 18670, 3970, 11381, 37971, 7961, 30427, 5594, 47460, 12700, 45669, 15575, 4389, 35637, 14936, 24317, 47990, 2095, 46752, 27612, 18641, 3562, 36297, 1735, 41951, 43697, 28467, 16257, 49422, 49482, 41674, 19462, 359, 37801, 20218, 28409, 11854, 49188, 701, 25543, 6800, 43295, 8224, 29973, 1643, 18757, 32494, 33973, 34605, 32283, 1686, 26433, 14425, 4534, 38791, 2545, 1457, 5229, 2509, 44269, 6058, 1123, 44089, 17093, 1651, 9395, 35541, 46359, 11857, 46146, 5332, 21434, 1024, 48670, 23537, 15215, 43441, 39360, 38192, 2691, 31834, 37707, 12237, 29743, 21779, 3915, 30289, 11888, 39886, 41837, 21146, 18123, 31, 26311, 39517, 29693, 16441, 41420, 4669, 47364, 10513, 47192, 19909, 34720, 20287, 17401, 35447, 28868, 35438, 26702, 21080, 19856, 35127, 33776, 19728, 37453, 2416, 28127, 30566, 18898, 48825, 10703, 39076, 35908, 10821, 18400, 4470, 36, 47103, 37704, 29384, 15185, 45875, 13417, 27192, 11328, 17353, 27141, 29485, 21761, 10524, 39091, 41440, 35120, 4247, 27353, 20526, 20771, 33784, 30034, 49816, 26504, 31444, 9503, 42320, 10584, 2519, 16676, 12925, 33348, 51037, 24990, 7074, 42157, 2717, 13172, 1691, 26164, 14165, 8925, 6947, 1427, 5850, 37603, 6543, 19423, 3695, 48008, 14971, 2246, 28330, 38204, 48736, 9726, 16355, 35928, 48970, 6647, 13749, 30388, 34198, 50169, 15415, 28346, 5987, 7811, 31261, 3990, 44192, 47553, 18680, 275, 28238, 3508, 10863, 12302, 4326, 3101, 23911, 48968, 16015, 1272, 39643, 16953, 15981, 50154, 19771, 22165, 1478, 39983, 24525, 8375, 372, 17016, 16377, 4866, 31276, 25814, 3285, 45028, 33809, 16252, 11480, 7452, 25944, 31271, 18565, 25240, 2490, 1602, 46883, 35409, 21025, 16634, 13291, 45858, 10083, 8590, 37211, 1199, 37251, 20880, 50364, 50485, 11392, 5342, 31252, 11767, 17103, 9989, 36926, 20656, 43101, 39418, 22391, 8164, 41873, 29868, 41652, 22077, 42314, 30734, 27713, 20219, 16586, 19971, 28028, 20032, 25439, 6069, 24536, 40132, 38129, 9063, 34846, 36521, 36705, 48735, 22022, 32666, 30649, 12811, 9781, 6161, 15594, 24142, 10213, 38655, 48598, 9981, 2972, 11389, 41784, 49389, 45543, 22404, 16613, 23012, 38251, 20682, 13495, 5264, 49620, 48837, 46649, 49989, 50681, 5210, 44169, 38544, 11592, 16050, 31713, 21090, 47579, 3174, 25352, 40480, 30228, 20653, 45288, 6961, 28733, 48933, 46402, 1301, 3162, 45121, 26986, 44283, 46206, 31542, 14914, 32589, 31928, 45244, 27542, 7765, 32651, 13638, 33956, 5530, 47200, 46690, 34041, 12813, 44947, 41260, 38999, 21497, 7466, 22837, 14406, 38788, 14170, 47400, 21615, 40837, 32519, 25740, 24214, 21455, 7801, 17375, 18183, 34830, 9881, 38366, 19234, 32518, 22688, 38593, 9045, 44005, 1223, 5632, 44753, 9229, 1178, 14257, 39229, 43608, 46916, 37250, 48616, 6708, 29542, 2910, 28388, 24398, 21067, 25094, 11205, 14744, 19052, 11705, 13245, 30848, 7364, 18690, 629, 41641, 13193, 1369, 17981, 16697, 46023, 22212, 34630, 44924, 43715, 12076, 37187, 23216, 8368, 9109, 41653, 21405, 25551, 32395, 25526, 45272, 32377, 18193, 46826, 25892, 15491, 44184, 9735, 1466, 30720, 36056, 27282, 1888, 15987, 48531, 44851, 7369, 37522, 9782, 47972, 5815, 34054, 10963, 46931, 22166, 10375, 16813, 31485, 10547, 27634, 15083, 46448, 12687, 18660, 25848, 34716, 38927, 27902, 49476, 15656, 49872, 9647, 43947, 9562, 10829, 50367, 47491, 32781, 42883, 830, 12878, 33347, 21364, 37698, 13629, 8862, 6310, 26486, 21318, 20841, 8282, 27782, 4432, 17903, 16438, 12789, 26700, 17626, 44536, 42267, 9269, 5584, 35388, 36758, 11718, 29680, 22985, 33099, 2300, 4984, 7143, 41181, 19590, 22884, 14553, 40825, 24096, 35469, 38369, 28043, 42668, 17100, 13700, 47654, 45718, 31369, 12952, 36112, 48018, 33222, 41567, 10888, 43623, 40172, 33180, 50637, 17509, 41916, 7080, 20132, 35456, 44964, 15447, 16201, 24171, 15513, 50573, 28012, 14435, 25963, 5676, 6435, 18478, 50311, 631, 29947, 20204, 5014, 25378, 2822, 25269, 46479, 45497, 15384, 42421, 44943, 38222, 47081, 2216, 43860, 6438, 18211, 34607, 433, 13278, 34130, 29621, 38387, 7563, 28425, 11697, 24507, 47689, 8095, 33086, 17162, 15661, 34533, 10144, 19816, 33715, 11391, 29903, 34167, 21518, 41348, 8229, 42104, 5039, 11397, 18567, 33666, 14672, 25057, 40948, 43336, 43878, 42293, 29564, 48724, 6565, 7987, 25957, 27560, 2472, 47897, 10012, 17352, 39721, 18713, 18884, 20764, 34815, 44218, 11891, 17943, 25158, 43439, 17977, 10751, 24403, 24882, 16682, 10719, 31503, 46830, 37725, 7556, 3876, 29956, 50389, 18059, 13373, 20838, 13134, 2401, 31862, 5493, 9407, 24361, 35507, 14604, 22069, 28972, 30275, 10729, 41217, 49312, 4070, 9144, 10785, 6466, 47239, 303, 50094, 41665, 4628, 23711, 24239, 6650, 2852, 25865, 42652, 13526, 14301, 13581, 41178, 3685, 16324, 9441, 17356, 45565, 4375, 20852, 24048, 9456, 50891, 34340, 44601, 17487, 40518, 38868, 47293, 5731, 33105, 12867, 28656, 10707, 21946, 50090, 35247, 33373, 33580, 29173, 41681, 27643, 41808, 13499, 23406, 49490, 42400, 35564, 28890, 32754, 34094, 10199, 3624, 21474, 47266, 1513, 30264, 16430, 45296, 28366, 4715, 41881, 22125, 31023, 8990, 46567, 48234, 41211, 16514, 14096, 47952, 18031, 11061, 5798, 26947, 6485, 43282, 29132, 8706, 40033, 42167, 7674, 13963, 4456, 32806, 6216, 37657, 15366, 11327, 35506, 30520, 29763, 10994, 1264, 40208, 24958, 23332, 22755, 49559, 31891, 15325, 46992, 29732, 17866, 12659, 33639, 15323, 24615, 21276, 39979, 24756, 13099, 41679, 42749, 44493, 9161, 14975, 16235, 9373, 17475, 2806, 16205, 20810, 6115, 23915, 45707, 26411, 17712, 813, 38669, 26121, 28715, 32018, 15268, 14007, 34554, 30789, 49479, 50901, 24038, 50299, 5139, 47703, 45220, 13911, 47213, 45629, 46925, 38899, 42036, 32985, 11420, 16594, 10920, 41961, 23497, 32024, 16852, 8347, 2727, 42312, 5547, 25818, 11170, 21994, 36578, 13242, 34091, 25418, 33608, 6431, 46125, 34897, 15621, 35704, 48063, 19532, 24650, 24546, 34688, 50417, 5064, 11661, 4113, 41540, 43630, 32444, 5310, 3458, 38917, 29883, 43468, 34016, 36172, 10885, 15687, 46816, 569, 9329, 25203, 11792, 30641, 9830, 44256, 48523, 38634, 13159, 50135, 24295, 36552, 8154, 23092, 3179, 28228, 2685, 4064, 6662, 27642, 49802, 4249, 43546, 26726, 21073, 10446, 15062, 22716, 33987, 21429, 44460, 2682, 43464, 35370, 22790, 28407, 38496, 41180, 48786, 45205, 24809, 24237, 38020, 5800, 508, 40937, 10329, 43502, 45471, 44326, 3924, 28405, 47150, 38908, 1211, 2155, 47102, 44431, 22620, 48900, 30725, 49992, 29610, 28583, 9565, 27069, 5078, 31021, 27245, 47093, 47526, 51044, 21043, 19126, 23409, 13699, 38363, 19311, 23384, 41426, 48507, 50000, 42627, 7912, 29425, 16176, 44161, 16679, 30188, 36034, 18493, 39482, 31185, 49376, 4887, 46608, 42138, 44126, 39905, 763, 26468, 40459, 50740, 4032, 42965, 16132, 28666, 19751, 40806, 43671, 14094, 44407, 50589, 41491, 36520, 44953, 26882, 2770, 49675, 49132, 50112, 33702, 8181, 40868, 24706, 10945, 18164, 35527, 21089, 19892, 24788, 9089, 32108, 31880, 36543, 48975, 36850, 9305, 40485, 36166, 37290, 17166, 19202, 25615, 34468, 44741, 14282, 41845, 51, 3501, 39558, 13182, 29863, 49670, 6025, 10093, 39042, 3124, 48809, 10288, 48236, 46962, 8304, 8462, 18244, 43593, 17201, 27705, 44373, 8718, 29500, 27434, 37321, 14829, 1659, 23393, 41156, 47114, 11619, 43146, 2884, 41012, 4077, 31400, 33764, 38588, 14693, 27742, 6362, 17214, 38468, 10952, 40262, 49135, 48324, 9320, 15666, 19083, 10899, 22832, 11047, 33015, 30045, 48421, 35512, 2354, 38236, 45575, 33916, 2897, 21209, 45224, 29284, 12783, 3732, 9569, 5000, 21101, 6913, 29118, 29086, 17317, 34022, 5640, 45737, 15251, 21981, 36276, 38355, 15968, 417, 35293, 5686, 13676, 13394, 18932, 48841, 30200, 18743, 472, 39993, 48539, 7229, 18035, 7579, 35819, 17563, 22810, 29596, 6995, 31807, 47453, 24820, 22959, 15583, 14612, 40277, 29129, 21057, 42507, 3877, 18178, 44726, 50342, 49588, 39752, 36068, 24354, 13891, 33862, 46908, 9785, 2471, 17124, 27341, 47368, 49664, 11099, 18669, 7882, 5145, 49151, 33152, 23656, 21420, 45276, 22213, 19151, 10856, 49731, 18346, 27226, 45532, 9352, 28217, 32639, 36797, 3438, 17857, 20540, 2051, 12939, 41775, 47647, 28722, 26929, 45470, 4240, 3311, 25050, 9142, 12546, 180, 17243, 26283, 11803, 10865, 16323, 25765, 31034, 8502, 41751, 22971, 23565, 35770, 30765, 4282, 16961, 23865, 27431, 15873, 37605, 13468, 28578, 18632, 35386, 24683, 714, 3712, 21978, 43334, 18685, 26797, 49205, 7500, 41927, 26928, 36740, 22439, 14060, 6432, 16485, 45172, 7308, 42509, 10493, 5011, 44677, 23131, 7090, 44893, 40257, 1415, 36046, 28394, 44578, 35805, 14180, 14583, 6519, 24641, 27190, 17844, 25999, 24406, 43865, 20306, 16658, 45838, 34393, 45161, 40797, 34633, 7320, 568, 1341, 14788, 39, 44228, 36867, 18037, 42516, 36130, 17764, 40563, 38197, 12327, 38472, 14797, 37391, 23980, 10364, 45449, 11578, 38290, 29398, 47845, 7352, 13557, 28087, 13413, 13396, 11402, 13930, 15952, 24946, 30244, 2363, 34048, 29376, 25234, 8256, 12355, 35936, 13972, 6339, 39697, 23603, 30806, 7441, 5797, 1576, 13720, 40117, 2325, 11958, 20120, 37632, 17055, 45523, 40086, 20071, 22891, 4250, 21228, 10250, 21581, 4580, 40268, 48466, 4060, 7037, 27183, 41129, 32832, 9332, 15880, 39876, 42508, 16373, 27947, 34384, 38385, 42695, 36774, 13708, 50497, 6847, 18465, 11125, 6660, 802, 10098, 37688, 34457, 26684, 36380, 45753, 36505, 29228, 12744, 33406, 50942, 15864, 13048, 12503, 4537, 26975, 36280, 46983, 45311, 48295, 12664, 42122, 46905, 32364, 49601, 3080, 36509, 50936, 46081, 7370, 47166, 27556, 46699, 20004, 9298, 32485, 8845, 11340, 45882, 5725, 45504, 875, 50749, 17944, 42463, 40804, 23448, 2400, 41587, 27164, 46507, 20276, 13997, 30331, 20846, 39404, 38470, 11059, 25533, 31573, 27223, 8780, 46423, 44805, 31528, 23762, 17350, 49100, 33059, 22394, 33381, 33161, 24323, 43535, 13562, 26886, 20401, 30570, 30367, 28975, 42764, 15676, 14756, 36301, 1911, 29755, 35952, 14550, 23572, 47745, 17890, 21039, 21905, 13847, 37403, 5689, 47308, 50941, 50278, 21872, 35885, 15509, 44277, 47262, 49511, 1760, 36746, 18633, 21843, 20295, 13565, 49496, 31964, 36757, 33340, 5505, 9738, 14928, 24319, 50201, 33984, 24265, 37933, 13240, 42897, 6094, 38218, 49882, 25215, 18710, 24223, 42530, 288, 49295, 12636, 24823, 33689, 47245, 38539, 37003, 19401, 44552, 25897, 6704, 29788, 49286, 49468, 33121, 27608, 39142, 9865, 26214, 5781, 43090, 38692, 30813, 46498, 8563, 36858, 37374, 34516, 26952, 25178, 21899, 27091, 31791, 2242, 23182, 20674, 24131, 29393, 41030, 27338, 50558, 36167, 22303, 7665, 17156, 47964, 30618, 798, 17155, 34466, 29640, 29857, 8536, 16970, 22217, 15748, 17849, 25000, 32541, 9289, 27292, 31753, 31064, 46684, 14460, 30787, 29071, 28337, 22592, 6408, 35838, 30902, 7412, 14336, 15612, 28222, 31863, 2451, 14341, 44259, 39374, 12250, 30290, 47386, 3431, 32034, 33317, 42485, 38316, 26948, 40501, 29420, 26598, 37635, 41304, 30883, 4664, 24328, 461, 39334, 41797, 38322, 33351, 5825, 3992, 38832, 8067, 5682, 12981, 5272, 6652, 7126, 11405, 20725, 33445, 32622, 17397, 1039, 47996, 29312, 43616, 38959, 2346, 2017, 35296, 46538, 45363, 19881, 48346, 32293, 13916, 33528, 7279, 8971, 36094, 33217, 45826, 227, 2244, 49487, 37303, 21804, 32882, 33548, 50838, 8150, 24751, 38078, 6465, 41209, 4299, 11698, 1694, 19957, 15280, 42859, 47412, 3714, 31741, 38623, 9703, 12264, 44205, 36628, 34967, 5203, 3733, 30143, 1083, 31420, 19050, 22831, 4785, 43782, 25353, 26426, 35561, 6989, 33132, 20194, 34342, 50741, 5867, 46760, 17010, 5489, 14911, 36918, 25128, 8013, 43790, 33836, 16532, 14982, 40665, 35995, 3921, 36732, 21052, 25122, 4233, 41189, 34961, 24394, 25137, 1906, 34058, 22578, 19819, 17262, 49285, 34992, 50394, 37323, 39367, 48844, 3335, 37553, 38519, 43486, 17485, 31705, 23269, 43, 3348, 33986, 6367, 8169, 35924, 11058, 21156, 30498, 3097, 230, 14510, 49914, 35869, 34750, 7775, 5104, 44086, 35062, 47050, 36534, 29148, 23617, 26734, 42307, 40817, 26143, 33497, 19431, 13525, 39299, 8474, 31193, 19136, 18241, 39842, 7266, 17686, 22733, 31139, 5582, 48603, 19258, 10387, 37946, 5963, 22152, 27912, 7115, 11829, 24128, 10981, 15978, 45263, 15744, 10754, 28644, 1075, 32786, 40067, 22029, 48419, 47222, 40321, 2962, 45610, 37822, 16740, 31491, 9814, 44497, 21197, 3092, 25882, 27840, 20211, 251, 28316, 17925, 33453, 49644, 9258, 26745, 45822, 10573, 8384, 47048, 33327, 9790, 23423, 41562, 7216, 35745, 42220, 48407, 4121, 5028, 38232, 38351, 50095, 44742, 18799, 47243, 3444, 11616, 45888, 14704, 30892, 28667, 31679, 23672, 35528, 27981, 20658, 8005, 22333, 33825, 36057, 12755, 34150, 23418, 28651, 13305, 30023, 30796, 49426, 36794, 27006, 34602, 28515, 38767, 1479, 47723, 39302, 9447, 23582, 16955, 20269, 41083, 5579, 27371, 37335, 11236, 27665, 27247, 31804, 36767, 19089, 36185, 2515, 15388, 47272, 45627, 38516, 50202, 42893, 8003, 22350, 17888, 16149, 50029, 38952, 14835, 5883, 5397, 45454, 15901, 43085, 11531, 2261, 39659, 12080, 34461, 35476, 7455, 22272, 3440, 12785, 34817, 5620, 15923, 37433, 20756, 22151, 3067, 42968, 18888, 46152, 21242, 36917, 38155, 23893, 43209, 22136, 32697, 32621, 4934, 11262, 19301, 23686, 36059, 42513, 50116, 5115, 5787, 43549, 6217, 4426, 9084, 2347, 44820, 43358, 5456, 49036, 2023, 34139, 49787, 3077, 35282, 11500, 23632, 42843, 30608, 26350, 2964, 15243, 49750, 6567, 10102, 32858, 13037, 12826, 20193, 14029, 28159, 2153, 16731, 21976, 5385, 9190, 8593, 32812, 43876, 33296, 35464, 32616, 25998, 19475, 38219, 48999, 50504, 32362, 7950, 32160, 46622, 1417, 24310, 50737, 4489, 47099, 42654, 1101, 46304, 37849, 7030, 46786, 15477, 11868, 30181, 40530, 23260, 13968, 39537, 33013, 17015, 33937, 40111, 31182, 7447, 34713, 46726, 3131, 24879, 46924, 40881, 50722, 4652, 36538, 48742, 16754, 12367, 47737, 40920, 18624, 36776, 14356, 47522, 14935, 16052, 5223, 44366, 44494, 38990, 21088, 13583, 15531, 5606, 3602, 2380, 21691, 39807, 34092, 4586, 28826, 47080, 19703, 45624, 29486, 43561, 11175, 39964, 36283, 26, 19922, 27905, 26329, 4604, 22192, 35883, 19645, 35123, 14860, 34742, 27293, 37857, 37479, 49939, 31144, 48951, 646, 38225, 15348, 48155, 26263, 8137, 37814, 3750, 774, 35492, 6320, 13352, 43367, 7837, 11291, 50542, 38149, 4403, 1486, 7884, 42030, 36916, 45806, 35110, 8874, 30439, 15452, 29354, 31134, 34128, 25556, 34760, 13940, 15285, 36408, 3425, 26396, 3406, 13960, 13690, 24656, 16371, 42524, 26764, 31792, 41448, 15885, 21549, 36787, 12130, 8353, 46958, 2552, 41086, 50053, 6152, 46202, 39034, 41569, 1599, 21533, 14619, 20215, 43426, 30871, 48282, 49880, 11674, 24042, 30949, 46607, 6325, 35639, 25803, 8687, 3488, 37629, 41546, 29045, 9506, 26868, 29307, 3012, 46932, 8726, 42935, 36159, 6212, 1769, 15917, 23956, 43180, 35495, 16049, 9114, 45152, 2010, 9911, 48366, 27486, 25367, 5752, 21630, 14557, 22988, 15965, 18462, 40252, 48714, 16131, 5848, 27738, 13679, 31712, 47071, 10850, 26393, 14455, 47137, 33166, 13941, 39029, 3180, 30601, 45177, 11298, 34113, 1920, 10911, 7170, 3800, 50057, 40289, 7152, 50156, 15799, 39436, 30875, 50316, 42939, 48692, 16637, 23141, 16738, 37541, 25476, 15765, 24509, 3216, 38626, 11115, 27551, 45675, 27892, 44879, 17202, 20304, 932, 10738, 4023, 46397, 24957, 33664, 5678, 17767, 24768, 37677, 19929, 18219, 42842, 29966, 972, 21775, 480, 29429, 16793, 21144, 44054, 15197, 26514, 13181, 40448, 24644, 27566, 42850, 657, 22087, 19048, 27002, 16798, 41888, 8630, 38035, 36912, 50743, 42782, 20296, 33490, 28871, 15299, 24783, 37600, 27957, 11734, 14400, 40569, 1294, 30795, 563, 50919, 16418, 37956, 35842, 5854, 20146, 14758, 11386, 36454, 45312, 37610, 15429, 43843, 23312, 49704, 8798, 10349, 9297, 44774, 48532, 7744, 43168, 25924, 27586, 3633, 34700, 35771, 48641, 43372, 19470, 33346, 7489, 57, 17197, 17032, 38426, 24212, 48182, 29923, 50720, 5345, 18652, 20314, 17398, 10687, 46850, 50043, 1875, 12885, 50098, 14368, 26439, 44081, 21403, 40924, 6262, 22453, 1582, 44546, 17895, 2368, 27575, 13505, 42295, 28183, 18329, 10269, 17279, 1658, 304, 21477, 1385, 46346, 14640, 31628, 10910, 27654, 5362, 23957, 39167, 8234, 24553, 17075, 6867, 20932, 15434, 44409, 41239, 15766, 33097, 45327, 13546, 28902, 35031, 36194, 14457, 7819, 49890, 25505, 5910, 44424, 50892, 41739, 32992, 4498, 13392, 43165, 37609, 33018, 16766, 34953, 31593, 29395, 43241, 27882, 17355, 5918, 31730, 1449, 5845, 31538, 29677, 25787, 36390, 29663, 6328, 6191, 3220, 41577, 18363, 37734, 17763, 20551, 50895, 21492, 4322, 37430, 34914, 48706, 46906, 28057, 10540, 33591, 5266, 35586, 25686, 19897, 12304, 4644, 11939, 19226, 30507, 35792, 15210, 33108, 50304, 28863, 9235, 4490, 48780, 40290, 22028, 16321, 32039, 2251, 14685, 4559, 44328, 31858, 32830, 48811, 8084, 1088, 42049, 47751, 8391, 32312, 40576, 46196, 22658, 18452, 12148, 6463, 26437, 37602, 48922, 21484, 39897, 36811, 41204, 20897, 23683, 8206, 3754, 23510, 34303, 21554, 42698, 9444, 40957, 3872, 34441, 27047, 40450, 43148, 49247, 28009, 27914, 7727, 8472, 18039, 12513, 5995, 2846, 5258, 8452, 39524, 50083, 12962, 11821, 45746, 20440, 12008, 19079, 49085, 835, 17069, 27565, 36663, 46497, 39377, 35059, 31166, 33139, 38553, 4739, 17617, 20624, 46739, 25185, 11916, 25037, 19373, 786, 10285, 16342, 49954, 5257, 3439, 10611, 35817, 49146, 48992, 14592, 32252, 14517, 1226, 41385, 20458, 45803, 22317, 4390, 30733, 44420, 46872, 17305, 33940, 35430, 25008, 42675, 50460, 35852, 6231, 15595, 34271, 29225, 4068, 26133, 3879, 40722, 45933, 35130, 40139, 28206, 3325, 37326, 23030, 10773, 30085, 30998, 21510, 48364, 29881, 37197, 40954, 12846, 20300, 8159, 22215, 6549, 6844, 33111, 1483, 36770, 39506, 7145, 9159, 30975, 47378, 15334, 30968, 19863, 262, 46044, 28457, 29513, 34392, 35119, 19753, 49273, 27066, 14093, 7213, 23222, 18078, 25656, 25421, 38413, 38096, 40031, 3290, 31105, 49820, 42711, 22986, 46746, 45425, 16865, 12016, 43407, 40972, 15834, 17413, 10465, 20893, 8506, 2957, 548, 2366, 37047, 29786, 42721, 4369, 33594, 12731, 7714, 14047, 34259, 8537, 15546, 12815, 43420, 26364, 5138, 48223, 40118, 34661, 31911, 1776, 39379, 43758, 48924, 10544, 13864, 21331, 40017, 3605, 46600, 25752, 40517, 35573, 2982, 35754, 49412, 23068, 10262, 40870, 9683, 40066, 6395, 33307, 13670, 19835, 34103, 30094, 34406, 13424, 29328, 26163, 21669, 16645, 808, 3671, 42117, 31686, 40554, 18357, 27609, 27394, 25470, 14872, 41244, 1041, 16180, 16597, 45780, 13601, 26808, 16810, 26242, 50411, 40883, 23049, 6927, 46698, 2423, 44693, 29066, 5359, 27721, 44429, 16307, 10079, 49450, 25916, 26822, 9433, 46571, 31672, 3362, 38361, 7411, 21823, 16184, 10745, 25858, 28657, 8529, 7908, 11177, 44215, 7595, 10669, 43979, 44858, 40877, 14749, 11519, 23889, 24339, 4627, 26828, 25153, 12897, 35569, 47066, 24559, 42856, 19660, 46977, 30246, 17441, 47159, 28569, 11762, 28044, 21830, 47147, 4223, 31367, 43662, 1842, 51050, 14696, 25548, 31474, 50672, 2052, 12353, 9755, 29383, 10999, 16958, 13154, 48201, 24541, 23642, 33228, 34542, 13980, 23174, 13544, 14461, 29448, 2788, 3951, 21451, 15061, 14185, 35224, 23601, 50188, 384, 44222, 3034, 33185, 28196, 15585, 37779, 28359, 27355, 50363, 17137, 22239, 36428, 18767, 42920, 44436, 4816, 40731, 38285, 20333, 44570, 12599, 28212, 6384, 19308, 12572, 35104, 35256, 34268, 38157, 38701, 35700, 8354, 10179, 3301, 18650, 47539, 43033, 20139, 7757, 36334, 38074, 16064, 28154, 15574, 43992, 49407, 28243, 27800, 8653, 48193, 15279, 28262, 8373, 16339, 3410, 25547, 5468, 30756, 47944, 50956, 29321, 24588, 31206, 1320, 25922, 43383, 26760, 1554, 25791, 9418, 38924, 20475, 38092, 26821, 221, 1180, 22377, 32130, 13039, 7605, 45988, 14979, 50469, 8357, 42384, 48533, 29496, 16639, 24347, 40681, 32871, 44952, 23753, 26303, 10431, 5613, 15079, 8454, 12053, 41859, 15049, 13365, 46855, 4908, 2192, 42417, 12715, 47607, 34879, 14195, 40201, 47342, 3587, 25318, 50725, 14616, 13658, 44398, 29543, 16508, 36808, 25303, 43702, 40148, 45767, 33191, 13889, 14293, 15076, 46291, 436, 16442, 26844, 8473, 27513, 42136, 27283, 34372, 16691, 26951, 15925, 20181, 12329, 22631, 12074, 17637, 37523, 30630, 36174, 41064, 14098, 1122, 29563, 43037, 30086, 43437, 25641, 39271, 280, 26327, 35611, 2793, 46941, 29989, 23065, 4075, 42792, 8716, 30508, 31462, 30146, 40107, 18863, 34773, 4181, 3361, 41286, 27632, 6342, 151, 7182, 48639, 13236, 14919, 21738, 38274, 11478, 28915, 8114, 46118, 9072, 11321, 32345, 15162, 13438, 21824, 31903, 21724, 20651, 6786, 27230, 46357, 9999, 32686, 19980, 48562, 28240, 39690, 6064, 17268, 36352, 26933, 8887, 401, 27711, 256, 23620, 38741, 50217, 48777, 33920, 27929, 46475, 44703, 12108, 38955, 41377, 23132, 7702, 43158, 20783, 39648, 9056, 26525, 38457, 47363, 21007, 29364, 21183, 22857, 25232, 43628, 29616, 39089, 40379, 28343, 8965, 31618, 34741, 39001, 15365, 712, 22040, 11910, 8501, 46805, 5674, 35124, 28725, 25335, 46869, 29880, 15400, 33338, 9880, 5040, 48123, 37646, 47037, 16175, 43980, 862, 31317, 14074, 9824, 25168, 33540, 38015, 24915, 2718, 33885, 48143, 7346, 1907, 4772, 34610, 23872, 45678, 37133, 35884, 15347, 721, 20940, 17663, 7154, 9102, 6261, 15000, 16139, 46474, 50290, 41896, 25662, 47773, 36575, 16945, 20117, 1654, 24251, 15461, 30821, 44896, 50531, 9581, 48548, 37535, 48791, 28860, 9805, 46911, 46470, 35394, 15689, 19449, 38308, 13184, 20002, 26356, 40791, 10777, 45059, 39353, 21315, 4544, 26081, 14997, 3398, 29453, 14181, 42944, 11076, 15620, 32540, 17742, 1923, 17482, 36338, 45393, 26674, 566, 13849, 19702, 38846, 20688, 44540, 46313, 38632, 40610, 4396, 16983, 13425, 29972, 8844, 10385, 26267, 6729, 28384, 13290, 32357, 14013, 32948, 2206, 18919, 24790, 49892, 21066, 48203, 9508, 12730, 39737, 1013, 48260, 22882, 28459, 38158, 48109, 47199, 38986, 42225, 12041, 12866, 39798, 40381, 16882, 650, 44730, 1891, 11126, 34722, 6960, 45432, 38861, 39381, 27128, 50931, 27853, 13014, 4830, 46989, 21058, 18648, 8171, 4513, 45631, 25930, 46262, 8692, 20498, 41096, 12830, 19327, 8582, 11842, 1316, 21597, 50806, 5777, 23850, 9979, 12334, 16535, 69, 11914, 6441, 40348, 11193, 5790, 33192, 46579, 29306, 49997, 4806, 7759, 29444, 29651, 17588, 42683, 23628, 32627, 873, 50842, 26793, 40943, 1559, 47795, 21078, 17735, 22823, 14764, 14771, 44657, 398, 6720, 44504, 15761, 50634, 2945, 3769, 23115, 38053, 7793, 6471, 46137, 20621, 17170, 2275, 28502, 27146, 28633, 9268, 3908, 12157, 8542, 39742, 929, 35829, 11581, 40917, 34495, 15780, 40785, 22749, 50108, 36562, 10070, 10577, 18815, 7156, 33399, 18141, 3987, 21383, 35344, 5656, 968, 9454, 44889, 46953, 43521, 34052, 26815, 36669, 25807, 2894, 17956, 4049, 41701, 47927, 24964, 11196, 22922, 12021, 20152, 37091, 5928, 28294, 35320, 19655, 15718, 32197, 17556, 21023, 7918, 44238, 44131, 50459, 40532, 40966, 31285, 3051, 13993, 4986, 29158, 43352, 38957, 3164, 25733, 27360, 11004, 9856, 29958, 18727, 45769, 47279, 40782, 29582, 13321, 17297, 41781, 50479, 9622, 4308, 8009, 6002, 15282, 3300, 49072, 43569, 32404, 31086, 34994, 14586, 48403, 38888, 2663, 41750, 9935, 37038, 28914, 37930, 26226, 47404, 24272, 13868, 5853, 22214, 30072, 2074, 44419, 41246, 4095, 11812, 9179, 2694, 24622, 45400, 3777, 31711, 19302, 32310, 1318, 34842, 50123, 38342, 3866, 2000, 15249, 48997, 12989, 6130, 21759, 24220, 44956, 23401, 32474, 19499, 19061, 15709, 13860, 20163, 26697, 25295, 27529, 8252, 31961, 35811, 20106, 1824, 45599, 42482, 13536, 11553, 30724, 33692, 2342, 16644, 43331, 24311, 40412, 9130, 47505, 3461, 9415, 9206, 18277, 20775, 42943, 34988, 243, 23752, 15195, 13034, 27871, 26290, 47451, 11393, 17461, 20677, 10298, 3182, 34087, 6992, 21059, 47906, 8447, 35374, 39315, 23333, 48199, 16389, 2549, 41874, 26910, 5601, 24714, 20123, 8509, 1206, 22068, 17307, 1414, 36646, 24392, 3993, 17130, 12511, 6578, 20929, 2027, 43572, 49793, 29979, 11264, 8644, 4133, 947, 31837, 35134, 18833, 48647, 33101, 13618, 48456, 23172, 11301, 26083, 36647, 8130, 21577, 36885, 21963, 15015, 16067, 9494, 13171, 41047, 3074, 40142, 18350, 44073, 38453, 4562, 22506, 43483, 14596, 28579, 1089, 2745, 17466, 32844, 33401, 44587, 755, 35347, 15528, 14543, 21365, 44179, 4437, 50137, 49176, 3788, 33952, 37452, 21218, 28566, 28472, 34301, 42990, 43750, 33022, 1437, 16020, 35408, 34403, 35353, 29144, 4878, 2271, 24485, 29035, 16944, 25688, 42137, 20960, 23002, 36875, 19115, 5074, 2149, 15207, 10166, 23548, 20446, 19586, 41360, 9414, 41921, 27644, 9059, 44225, 10855, 39236, 49813, 38032, 31777, 1859, 36529, 23267, 28686, 14505, 8267, 957, 31641, 19303, 92, 27424, 42105, 25011, 39630, 23426, 47594, 29296, 16002, 33286, 12346, 7083, 7442, 6703, 38178, 23011, 4616, 31592, 24905, 25319, 22049, 33568, 16753, 2567, 17955, 50103, 6292, 8040, 22384, 11650, 27381, 5153, 18608, 20695, 35361, 47707, 24677, 7484, 28609, 28275, 5152, 14923, 38859, 22420, 19073, 42923, 12447, 28841, 11785, 4230, 22590, 11173, 19076, 5856, 25843, 34417, 10908, 21325, 22155, 43684, 4372, 36593, 44876, 44928, 12567, 13588, 35735, 7566, 29267, 32174, 24279, 13378, 42045, 28132, 41407, 20873, 11053, 27068, 7428, 31658, 32422, 17946, 17396, 21572, 39205, 19709, 22230, 23094, 34249, 20010, 43524, 44224, 1277, 3862, 46305, 39015, 51015, 14671, 35019, 20974, 7321, 16263, 46682, 21155, 14537, 13878, 1220, 2361, 22389, 50341, 241, 48960, 5651, 44810, 39953, 28100, 16868, 3652, 25921, 37454, 40082, 30050, 23498, 13060, 47675, 31228, 41835, 31882, 18735, 44583, 31060, 20482, 19090, 9016, 10987, 50950, 48040, 16629, 4650, 33841, 31191, 37107, 24660, 4123, 47327, 26613, 23691, 38165, 44217, 5927, 26570, 23370, 12099, 6122, 16509, 36942, 2291, 16267, 9637, 16434, 38675, 37572, 37095, 3812, 46758, 30997, 40355, 10294, 49578, 32200, 21406, 44604, 29974, 37233, 21627, 45706, 2304, 11532, 39045, 6071, 17086, 39808, 40351, 10775, 45388, 50679, 13257, 7062, 13366, 31114, 11092, 42691, 162, 33531, 40315, 37599, 64, 21616, 33440, 48787, 1192, 33129, 4560, 28884, 18954, 48001, 24138, 16839, 3550, 23904, 20082, 30860, 26080, 41494, 36076, 11396, 41895, 9386, 42455, 5204, 12294, 25208, 22139, 4327, 10115, 3720, 3125, 8262, 46363, 49748, 33795, 18471, 17593, 47896, 46485, 42606, 41135, 22858, 41290, 28573, 14868, 23783, 14610, 27836, 39567, 30628, 13802, 8060, 15191, 49913, 9991, 43292, 27312, 6895, 14886, 26710, 47425, 11708, 34478, 29810, 33616, 20420, 33743, 27083, 10677, 13213, 12459, 45651, 33064, 22254, 42304, 11481, 28922, 49693, 28393, 42669, 25785, 49936, 7724, 25592, 832, 29666, 42076, 8929, 35712, 32281, 24153, 16939, 37661, 19629, 50248, 36976, 18117, 30522, 16589, 42026, 5843, 46228, 10447, 18521, 14035, 49680, 49900, 7278, 49894, 13252, 14382, 22313, 47735, 11243, 1228, 26730, 9947, 11429, 48668, 34648, 14210, 50375, 35616, 8197, 3057, 1783, 41816, 41397, 18502, 7409, 20834, 6314, 43842, 11557, 41991, 16552, 29466, 32321, 37055, 11408, 43311, 5934, 31376, 27072, 34209, 31449, 5267, 21300, 10691, 4171, 35935, 3963, 18194, 2113, 45238, 526, 1106, 46013, 48554, 38752, 29241, 1127, 18033, 49183, 13943, 21361, 45208, 45931, 22969, 40961, 29253, 24102, 12565, 20686, 4243, 30191, 11209, 13107, 6282, 25173, 36462, 11766, 26798, 2075, 9477, 36617, 27903, 40428, 32698, 23362, 24938, 43435, 22024, 23365, 11731, 43212, 25485, 24345, 44396, 24738, 34060, 38629, 19082, 31860, 13634, 42190, 40960, 20987, 14731, 11588, 29109, 8124, 42209, 36827, 42645, 49481, 140, 50061, 23191, 22144, 24416, 6302, 20055, 14943, 46328, 19020, 47430, 9362, 33767, 16688, 5960, 1640, 19807, 47478, 49541, 22265, 27677, 46399, 18810, 48521, 24674, 3798, 25517, 7372, 20631, 45378, 26298, 18429, 8136, 48170, 23352, 34503, 10760, 3367, 34859, 10437, 26145, 42239, 37263, 38226, 1366, 49694, 32348, 34316, 26070, 32182, 32061, 13804, 41235, 34021, 20065, 50596, 17828, 13229, 38816, 22483, 26270, 35777, 49893, 29345, 47487, 36970, 14104, 41639, 413, 17570, 40790, 25005, 4236, 13932, 43809, 30504, 22206, 47967, 3717, 49642, 40151, 37815, 14332, 12622, 12777, 24390, 30578, 26858, 32909, 45329, 36264, 23898, 3945, 41084, 47005, 36571, 22480, 4779, 42766, 23280, 37147, 44159, 34333, 19977, 42730, 18381, 16954, 38390, 28456, 172, 8294, 19774, 7306, 22306, 5154, 48954, 9825, 34885, 8160, 2314, 42433, 48377, 30360, 955, 47029, 21407, 35060, 36145, 33377, 15606, 36131, 21448, 45352, 49350, 1232, 48309, 16021, 4008, 8668, 32775, 44731, 44058, 8463, 17383, 1628, 19001, 30161, 8704, 17667, 41051, 30413, 35746, 228, 43850, 43714, 10881, 38214, 50467, 38113, 48529, 22039, 10492, 21996, 28563, 44381, 27884, 9363, 32005, 17796, 46288, 42186, 31813, 48080, 5140, 2875, 22123, 48398, 13100, 5683, 32600, 32739, 47036, 9429, 24963, 6591, 23162, 26321, 9626, 43170, 500, 1401, 32410, 1147, 23067, 11360, 13870, 403, 22222, 3910, 13306, 4086, 49633, 50068, 46277, 16358, 27901, 47527, 26899, 23086, 20847, 34480, 29965, 5648, 20568, 44564, 45927, 33275, 41174, 48302, 35720, 6011, 32933, 22033, 23321, 21203, 14639, 42378, 47334, 16625, 24062, 42276, 5444, 3454, 4176, 49876, 1006, 34878, 33677, 3821, 45159, 26834, 49383, 49055, 31006, 33420, 13354, 12650, 27318, 10580, 40039, 30276, 19088, 18121, 3138, 28967, 33565, 43597, 39571, 1485, 9027, 39785, 29481, 50385, 24028, 47502, 7353, 11412, 39128, 50809, 39361, 33145, 32110, 25782, 13665, 864, 35930, 46561, 9158, 21187, 44641, 26601, 5665, 27275, 14658, 11573, 17001, 5411, 3591, 17653, 49028, 870, 43515, 2442, 15795, 5707, 50779, 28013, 38842, 8946, 28455, 30007, 36009, 5237, 76, 32587, 31159, 4881, 17181, 4110, 20849, 38406, 36064, 25758, 42251, 14107, 37000, 45971, 4174, 14611, 28157, 18163, 15010, 35214, 38618, 15455, 521, 12892, 28708, 27064, 24521, 17332, 38261, 16582, 45562, 47593, 28235, 5180, 2174, 38338, 16282, 50704, 13053, 30896, 1579, 42079, 23596, 17892, 18404, 5878, 36446, 39268, 14709, 22465, 25722, 1212, 37019, 36250, 43194, 27488, 13648, 21579, 18449, 47729, 5225, 717, 41522, 38326, 17450, 3024, 12904, 40819, 47753, 23424, 48695, 31432, 37927, 35041, 30022, 50656, 15941, 37352, 4031, 8636, 19314, 35454, 2084, 44281, 21931, 12641, 10306, 10323, 50265, 5773, 20528, 47164, 49814, 48420, 20753, 3402, 15266, 34808, 41862, 23404, 47042, 27372, 31666, 13691, 32340, 13661, 11724, 38647, 32004, 17426, 38382, 33234, 37689, 4749, 35257, 46843, 35558, 24601, 32040, 22308, 22557, 7207, 7944, 28941, 41661, 23571, 34747, 41007, 42593, 17861, 37414, 45389, 10757, 38985, 46386, 23450, 39325, 13470, 26191, 10508, 13256, 17638, 1365, 16604, 50581, 24246, 10546, 31816, 8398, 29559, 47463, 26717, 35696, 21941, 22368, 19676, 23320, 27740, 931, 23993, 47651, 6997, 40993, 28216, 3215, 46112, 20826, 39580, 6113, 22103, 42949, 48513, 18759, 37385, 5336, 16736, 3901, 48056, 43732, 1941, 44384, 33955, 5403, 26778, 44905, 37937, 40106, 48713, 44811, 21499, 18906, 4710, 35725, 47769, 48414, 20427, 18233, 50001, 6123, 23462, 49689, 29373, 21027, 24943, 463, 4602, 22659, 1817, 39719, 47575, 23507, 16406, 29932, 37490, 12279, 45305, 41169, 34666, 22141, 47980, 32900, 50263, 42260, 2583, 34604, 907, 16376, 8099, 29390, 47158, 4526, 47390, 37684, 2349, 5875, 21143, 8372, 50582, 33047, 38404, 2936, 44033, 16874, 40686, 21949, 48083, 38615, 818, 6721, 4926, 47947, 8956, 8794, 29400, 5585, 32068, 2274, 37079, 27053, 15329, 38229, 50496, 45978, 14306, 28522, 31138, 12616, 18287, 9525, 14613, 374, 261, 46194, 47900, 2289, 17448, 15825, 38408, 35452, 49211, 1143, 45730, 20794, 47998, 33480, 5108, 22494, 13216, 16251, 40322, 3791, 21591, 41230, 5540, 43157, 34568, 2615, 39460, 46884, 45691, 5008, 41013, 23291, 404, 34573, 36994, 2961, 11382, 37456, 48336, 37722, 8215, 12908, 978, 1885, 4147, 41718, 33687, 437, 46391, 10926, 49563, 30453, 40051, 3670, 1784, 27080, 19349, 45840, 14652, 12377, 6041, 39241, 13494, 8340, 37212, 6564, 17952, 19385, 29346, 11549, 10037, 50746, 27997, 10681, 37511, 22703, 18003, 40306, 45087, 34223, 35400, 50225, 43111, 10051, 45026, 13827, 1229, 19727, 43523, 919, 7201, 47411, 2371, 45574, 28894, 40121, 37166, 43735, 16789, 39889, 1850, 19538, 41404, 49580, 22970, 2573, 15374, 7860, 40735, 35795, 41978, 38403, 50615, 50393, 25952, 18957, 37096, 12890, 1073, 21974, 24466, 8031, 35915, 19530, 15379, 22978, 12307, 35653, 32776, 27403, 31085, 30061, 6733, 21200, 16232, 48085, 20785, 47172, 22679, 20979, 11784, 19127, 30040, 15822, 15502, 47984, 25538, 2439, 9348, 16357, 39232, 5799, 2775, 49982, 26185, 35976, 5863, 32398, 45074, 6157, 41328, 28851, 47280, 11422, 24464, 50938, 23859, 13587, 19531, 6240, 5280, 21593, 45463, 3856, 44141, 32503, 11983, 1095, 42091, 12590, 5128, 42162, 31436, 976, 50184, 40116, 3679, 6624, 5518, 38973, 27482, 37807, 17423, 49562, 3545, 50002, 36095, 31589, 17778, 41659, 31554, 48899, 25522, 9228, 45566, 29202, 33798, 37590, 15004, 32077, 32501, 3768, 44088, 27964, 42591, 2411, 47985, 24530, 4847, 34033, 50028, 38501, 31838, 3619, 7678, 48700, 23561, 16111, 5390, 39509, 27989, 37847, 6555, 46803, 4970, 46181, 18522, 21648, 23815, 50939, 42603, 3891, 11831, 41583, 44770, 46546, 8302, 36766, 11617, 23140, 15950, 8457, 38819, 21747, 26788, 31879, 49182, 43614, 1944, 46256, 29442, 2873, 33541, 5270, 31190, 50851, 20639, 14176, 18657, 28801, 24257, 48551, 18740, 50396, 31574, 38141, 17110, 6617, 11157, 2728, 47798, 29291, 13409, 48694, 7382, 16782, 17545, 45952, 4404, 45734, 48126, 5434, 756, 6199, 6906, 23443, 19206, 36480, 17212, 34608, 38775, 44322, 6731, 10333, 42353, 48082, 38982, 9984, 17904, 42349, 8465, 20529, 18557, 26277, 25736, 33181, 6447, 32603, 20145, 29558, 12464, 27242, 18968, 19800, 41877, 4483, 36553, 5361, 21923, 5209, 13636, 2783, 29246, 35044, 9859, 26766, 21426, 45511, 26708, 19135, 34311, 2564, 1750, 18409, 38711, 2869, 48912, 8572, 48198, 24966, 6139, 46804, 13551, 45459, 41238, 40656, 31002, 37809, 36495, 11534, 17081, 24146, 24484, 3288, 40019, 6146, 15097, 25261, 39701, 4331, 33133, 45283, 12163, 29598, 44867, 48383, 8339, 37881, 17158, 31685, 8617, 13348, 19219, 31268, 30448, 470, 15999, 6768, 23502, 14151, 50189, 16960, 17834, 15619, 38813, 8444, 14061, 31516, 44937, 17148, 20982, 3113, 50977, 42205, 10458, 20883, 6175, 28557, 25366, 17731, 6284, 25375, 28284, 48318, 48171, 38825, 22875, 9730, 29901, 46490, 4136, 4441, 22034, 16092, 16118, 30098, 22153, 27498, 42709, 44635, 6179, 10165, 26616, 37262, 41619, 18525, 33569, 164, 7726, 1959, 6975, 22820, 33830, 22063, 12156, 39809, 42611, 30872, 46155, 33254, 9792, 7134, 18503, 40687, 50627, 50974, 7568, 28231, 26087, 37399, 16041, 16533, 45080, 31219, 23396, 38611, 43823, 47771, 18319, 8903, 33627, 31082, 48165, 23869, 43027, 17816, 40566, 18658, 13143, 41663, 23947, 17768, 12009, 41774, 40467, 19323, 16659, 15992, 9519, 47919, 13292, 36634, 38838, 3256, 35801, 4217, 30708, 37048, 48101, 48754, 23732, 42566, 30835, 6746, 30268, 34696, 376, 34056, 26571, 27523, 29036, 25380, 5658, 290, 3415, 46422, 14148, 27181, 40027, 22564, 49298, 42061, 22268, 30819, 44119, 18976, 47580, 43653, 28643, 4219, 27598, 30205, 42635, 3844, 29416, 29074, 12909, 25906, 10225, 48726, 6264, 5581, 24364, 19240, 21116, 48000, 34013, 49351, 9342, 49777, 34861, 27444, 10324, 24663, 42145, 15421, 15558, 29029, 36810, 20643, 4304, 46920, 20242, 39767, 19094, 43578, 37800, 9216, 6232, 36078, 24376, 40316, 6823, 5333, 4897, 25081, 24933, 6958, 14444, 49006, 45023, 24487, 7465, 12675, 50916, 42926, 20795, 29094, 48434, 28920, 49651, 20266, 13224, 41584, 39481, 45452, 29081, 22054, 43800, 14081, 9460, 7097, 44181, 25070, 6356, 13008, 45854, 36475, 25041, 13843, 47385, 23641, 41626, 2624, 41418, 29744, 17960, 36701, 40951, 32954, 32842, 4839, 31667, 44872, 3026, 46929, 41122, 43186, 24948, 13572, 5628, 20899, 16908, 40759, 15903, 31939, 24151, 32949, 45487, 49229, 29250, 33305, 49209, 39738, 6056, 121, 19412, 43649, 23034, 26305, 19766, 8812, 11850, 7926, 35280, 9987, 3160, 39748, 4919, 40417, 8550, 8852, 47848, 27300, 21038, 32743, 39817, 35494, 17263, 12020, 9715, 1250, 49969, 8545, 25393, 39419, 8283, 43548, 37679, 3309, 28823, 19792, 20925, 26086, 1463, 5717, 49972, 43300, 667, 6841, 45522, 30900, 30457, 2723, 35136, 32715, 985, 29520, 37432, 36968, 17386, 3387, 36737, 30768, 1572, 49779, 49868, 40888, 36868, 1970, 36364, 31093, 31687, 16259, 27368, 34042, 44520, 28156, 34762, 26318, 24772, 31635, 18337, 8001, 15677, 34359, 22533, 22237, 10186, 13839, 26749, 41544, 35990, 47710, 23241, 20137, 8223, 35278, 35971, 28753, 47986, 11365, 14642, 24341, 3009, 26110, 50488, 41629, 36230, 27807, 38886, 24896, 13052, 46719, 41764, 15791, 37024, 41176, 28020, 11969, 459, 7488, 28364, 38173, 42802, 37532, 2480, 16194, 34683, 19443, 8078, 13903, 44645, 37077, 9798, 14668, 14615, 36919, 34758, 8193, 39475, 13454, 13954, 18917, 12105, 18986, 38483, 44955, 22814, 12445, 23759, 25429, 16978, 17521, 16864, 43961, 40347, 32132, 8066, 10169, 8640, 10418, 21249, 15866, 7226, 24612, 27214, 34668, 34050, 10717, 9340, 37462, 34369, 12336, 37743, 50642, 15894, 12435, 16261, 5840, 46322, 15852, 13969, 33659, 40606, 21887, 50713, 43586, 2266, 2150, 12359, 21077, 39051, 31748, 3787, 2999, 25667, 32022, 34481, 8495, 33367, 1589, 37797, 46394, 46157, 943, 32946, 12044, 19604, 23117, 33308, 39355, 31875, 21626, 10720, 49400, 45456, 42995, 14430, 24635, 12467, 33535, 29797, 26786, 15982, 31218, 42699, 4612, 25064, 19975, 10917, 15555, 4014, 28897, 50144, 7171, 48784, 25601, 24245, 6100, 26357, 5575, 39064, 31145, 3153, 22249, 41091, 22693, 50115, 16409, 21131, 24633, 34931, 13919, 3168, 43167, 8334, 33783, 49008, 14237, 46683, 18332, 1335, 44023, 35871, 23999, 36933, 37483, 30227, 24771, 20100, 45135, 15456, 32327, 49404, 4960, 44098, 27024, 47307, 34847, 6526, 45942, 29725, 20337, 49219, 31003, 6888, 1159, 16188, 2435, 39834, 2466, 46604, 16140, 24794, 41691, 34735, 14000, 35459, 34705, 48319, 11585, 45542, 44482, 24996, 47331, 38712, 40091, 26266, 28509, 36542, 47904, 24039, 31678, 26877, 20609, 13600, 19064, 30454, 48405, 8483, 25835, 23557, 31150, 44430, 30368, 7907, 30432, 20254, 25767, 18213, 16549, 21929, 44248, 5485, 22634, 12271, 25404, 27432, 22625, 30105, 33004, 2082, 1866, 17874, 47435, 41723, 45453, 32870, 614, 27552, 23925, 45068, 49927, 7471, 4850, 18392, 9180, 36468, 2833, 15842, 4365, 10444, 46374, 7387, 20511, 15060, 33135, 32758, 17040, 36376, 40060, 10014, 39074, 17242, 38353, 6922, 20041, 39959, 25657, 50708, 38162, 6017, 44883, 32431, 36184, 13050, 2520, 1352, 43174, 45579, 42889, 1988, 48847, 31108, 7274, 13406, 25248, 36032, 32978, 27196, 26312, 7880, 36085, 13036, 49186, 26762, 27094, 45906, 14857, 10969, 24994, 32718, 8242, 14538, 43815, 13633, 33260, 38758, 21062, 8104, 2063, 1247, 12315, 42420, 6512, 14646, 46873, 40047, 39619, 34840, 43943, 24880, 22913, 30928, 47449, 22236, 25491, 22523, 41140, 8724, 60, 32338, 12901, 47495, 48371, 35387, 35985, 44980, 39442, 17070, 27007, 48677, 34917, 28120, 39297, 32919, 834, 29830, 17452, 4154, 14930, 22106, 45887, 9863, 6349, 29208, 42536, 30904, 50832, 32991, 18170, 5080, 20538, 18940, 22553, 48769, 37594, 7232, 13769, 15732, 42464, 50998, 38257, 31362, 42010, 7922, 24970, 14189, 35632, 45299, 19174, 48659, 1186, 19402, 40200, 12456, 44722, 50837, 2798, 35390, 3698, 32896, 7305, 12187, 44748, 33484, 43204, 44082, 3955, 46207, 46711, 43457, 18649, 8732, 44611, 46147, 36379, 38510, 35236, 16029, 30279, 1368, 46028, 21154, 27447, 19417, 6735, 3416, 325, 13106, 3635, 29620, 24055, 31051, 24776, 3165, 40784, 5869, 50517, 34070, 33655, 28048, 8898, 33818, 30596, 20894, 41045, 22121, 49778, 50003, 6818, 40653, 12802, 20116, 6187, 5704, 14806, 35723, 50483, 38475, 28024, 28149, 27184, 30923, 14110, 301, 45612, 48945, 23063, 25792, 30886, 45310, 44845, 27874, 7633, 50084, 29339, 38241, 47207, 8507, 12527, 45843, 46522, 43193, 31691, 14548, 31353, 5909, 48014, 20599, 3927, 39489, 27000, 48057, 42379, 16889, 174, 3999, 44164, 12626, 2789, 48907, 22638, 6882, 4856, 340, 2989, 25210, 992, 6138, 30183, 45485, 5067, 14021, 42449, 15971, 21644, 37558, 13694, 44041, 5084, 28523, 44680, 45175, 40524, 35955, 40781, 35420, 28548, 34419, 1981, 828, 28193, 19933, 15837, 27808, 35714, 27328, 20068, 3134, 41722, 33676, 10731, 1130, 2081, 15177, 41002, 23503, 34765, 4321, 22878, 1347, 36971, 35210, 38604, 19485, 9141, 10972, 41682, 36680, 20216, 4459, 49447, 8250, 36296, 6858, 15930, 40855, 4743, 27209, 37366, 37288, 28304, 18854, 47763, 34837, 30702, 48284, 34337, 19285, 35451, 46257, 11756, 38685, 20907, 41724, 2529, 24005, 6334, 47256, 49766, 37996, 15576, 14626, 26126, 15017, 3354, 18356, 38337, 22156, 24290, 4569, 25683, 47087, 3476, 23598, 26596, 27576, 38445, 15655, 33320, 24814, 50530, 14697, 28295, 48959, 44654, 32233, 40302, 35582, 6469, 16746, 16587, 14102, 50505, 38474, 24083, 25560, 6931, 46123, 45095, 39797, 1321, 29778, 35396, 42957, 30868, 41542, 50450, 48831, 49971, 43469, 1426, 21741, 32011, 35365, 31767, 9501, 18705, 3211, 19033, 19011, 50250, 26763, 11411, 1788, 12125, 10902, 17172, 15564, 14123, 32329, 28632, 37243, 48248, 4010, 29766, 41741, 30, 46082, 50243, 34547, 16403, 9605, 25162, 32708, 9275, 35518, 7189, 16189, 15731, 3629, 45686, 40742, 6517, 6836, 12499, 44875, 13310, 33938, 32027, 6059, 34168, 18847, 27356, 25697, 6523, 31893, 14737, 33080, 45835, 8155, 24397, 19719, 19715, 36246, 36069, 21136, 49955, 45264, 13756, 6903, 5947, 34243, 20953, 49631, 48417, 17477, 36168, 40893, 7872, 23588, 50855, 45349, 6272, 27574, 15230, 14070, 40109, 34950, 371, 6772, 40990, 50553, 44196, 44173, 29907, 21003, 34282, 49257, 9823, 32637, 39100, 43893, 20660, 8326, 25119, 49379, 2578, 39987, 17050, 23896, 9140, 22560, 28639, 37201, 9957, 45549, 21381, 14249, 20402, 31013, 15588, 13055, 44884, 41597, 4565, 27060, 1309, 2539, 5536, 14059, 10399, 248, 33859, 12266, 2680, 7786, 46677, 15607, 41531, 45808, 46895, 27067, 24479, 36136, 7637, 30912, 34422, 2218, 4740, 10019, 7747, 26405, 19420, 43066, 50955, 35360, 23631, 27814, 29580, 6937, 34595, 2512, 8801, 18571, 33878, 40158, 42886, 49938, 17078, 42475, 47717, 17082, 26501, 10639, 39575, 20393, 32469, 14945, 861, 23040, 18028, 27596, 3414, 31304, 9652, 31076, 15106, 14879, 21707, 31633, 30151, 13861, 11526, 25114, 48042, 40522, 16352, 14251, 29529, 49294, 1948, 39763, 29232, 13429, 48932, 26493, 6616, 9806, 16185, 19031, 3681, 49732, 9816, 47506, 4610, 1734, 16920, 12701, 15811, 11794, 14815, 32629, 28545, 26900, 16435, 44038, 19940, 45008, 42321, 2845, 6917, 5745, 1048, 17929, 613, 40164, 11748, 42469, 23886, 28274, 43351, 29555, 34463, 47644, 7569, 5887, 10632, 44137, 588, 49104, 32136, 15547, 10490, 44113, 11229, 30538, 7348, 27838, 34288, 43954, 37228, 556, 27983, 16862, 5034, 42362, 21319, 50102, 2163, 37984, 34882, 22285, 17088, 31313, 49136, 2522, 32990, 46866, 7357, 12428, 46280, 35609, 30831, 50443, 32586, 22834, 18396, 4007, 10466, 43397, 15997, 5753, 37132, 50436, 48310, 31526, 15737, 30675, 46179, 26851, 46138, 21129, 11203, 28888, 32735, 7684, 18044, 24594, 32107, 15345, 24692, 12453, 18969, 18115, 232, 38372, 20874, 14032, 19705, 40808, 2457, 46482, 36274, 10583, 39790, 7136, 23015, 47903, 7106, 26368, 10932, 49945, 18961, 3600, 6655, 26546, 20406, 9808, 17635, 47211, 22012, 35380, 17564, 26240, 22825, 12388, 43129, 24869, 36163, 48526, 7992, 16413, 37482, 19511, 13237, 17776, 40950, 50042, 519, 5371, 22043, 31970, 393, 1454, 16204, 5830, 16916, 13186, 14387, 18489, 30921, 32339, 25374, 36223, 36347, 34552, 19757, 18778, 30452, 16241, 53, 32481, 48988, 49585, 40975, 7534, 43393, 36022, 13582, 22450, 28299, 2542, 36685, 18725, 17014, 35030, 26073, 37616, 15433, 26549, 19674, 34000, 46886, 45408, 40761, 43293, 15796, 12262, 46664, 13164, 29981, 39806, 18811, 5655, 28221, 8415, 17282, 49760, 49606, 22248, 45358, 8026, 28576, 4933, 8014, 34451, 34186, 36447, 18470, 16849, 50358, 26865, 20431, 26395, 6021, 14790, 44006, 34188, 49942, 37607, 40705, 6181, 45782, 33371, 10229, 38333, 48774, 30845, 8559, 38203, 31958, 5392, 20000, 47161, 31263, 1293, 43248, 38858, 47249, 21069, 10192, 37588, 44519, 13863, 10927, 8491, 23690, 14468, 4978, 33971, 28350, 30764, 1144, 32238, 12875, 11314, 23363, 44387, 32645, 32436, 39629, 49598, 28256, 7301, 4692, 26662, 48915, 35597, 14792, 48541, 2469, 24801, 26781, 7654, 781, 12124, 18327, 20316, 11845, 766, 50964, 24982, 31561, 44146, 25475, 7021, 45832, 27792, 34138, 12823, 9975, 2436, 17185, 28872, 37450, 45711, 32890, 46667, 37283, 23966, 10694, 27135, 22120, 2126, 6121, 37144, 33714, 18256, 17571, 8728, 47261, 6244, 35866, 2009, 21014, 19724, 9015, 46557, 22298, 9787, 3932, 20892, 43414, 18832, 21425, 42755, 27719, 29326, 36667, 35748, 12319, 8421, 47870, 18468, 2710, 23821, 9416, 21355, 38613, 28163, 50810, 25258, 31598, 44091, 16129, 2774, 14816, 49556, 49745, 49138, 19704, 23310, 9761, 37457, 33839, 38007, 22312, 14428, 22207, 44469, 48367, 13763, 12656, 49668, 43108, 48305, 34884, 21021, 20552, 21514, 9784, 47878, 36613, 17785, 17419, 9882, 13727, 36608, 24357, 28333, 14595, 21041, 30204, 49416, 14226, 24678, 3505, 5452, 49921, 21000, 1059, 2741, 18101, 50226, 34778, 38569, 36401, 7114, 21532, 48351, 50457, 49634, 19778, 14452, 43112, 43834, 38324, 32538, 25270, 28646, 8061, 49728, 18915, 318, 21380, 9803, 34769, 4655, 37693, 26406, 31301, 14837, 36024, 22604, 47740, 23057, 20797, 21893, 36800, 41645, 9311, 50224, 39244, 15640, 799, 39057, 26387, 25876, 15404, 33592, 11158, 14841, 7234, 29971, 41812, 7223, 12103, 49399, 5221, 41368, 49046, 38191, 36398, 39154, 915, 1666, 49214, 20933, 11384, 27958, 20606, 43641, 17165, 6174, 28029, 10537, 39152, 36328, 48370, 32891, 40542, 450, 46022, 50065, 34744, 26887, 37687, 49160, 15295, 16886, 19868, 7505, 6236, 37435, 36315, 43797, 16273, 6875, 11612, 22851, 5914, 43060, 20224, 33996, 16483, 20056, 42800, 33587, 10551, 35499, 16500, 12190, 40318, 47655, 37257, 17551, 34430, 43038, 12773, 4405, 22628, 19227, 49489, 25778, 37837, 28852, 48141, 28091, 4724, 48909, 47073, 31388, 30604, 27511, 45546, 21133, 12268, 22264, 42522, 40141, 17400, 42208, 10938, 45643, 19560, 22111, 43345, 16308, 7334, 11630, 19224, 32128, 51039, 39996, 35922, 23203, 37431, 9796, 27374, 5043, 32142, 46995, 46515, 5037, 21005, 10410, 6643, 9248, 5986, 17387, 32054, 18105, 25709, 5393, 26724, 38435, 2280, 11815, 3622, 45759, 43064, 24124, 47813, 17894, 13376, 16422, 22802, 11879, 29888, 5520, 37701, 35453, 18983, 40885, 32873, 14874, 45507, 6291, 45743, 42966, 37070, 49245, 26782, 32683, 25090, 14190, 23688, 27581, 49413, 10964, 15292, 38271, 44579, 30142, 204, 14656, 47770, 3105, 2501, 31594, 42434, 4412, 26408, 32480, 35137, 10401, 28371, 21342, 2322, 42915, 31724, 22048, 35466, 933, 45672, 2320, 51019, 41957, 3469, 41947, 14525, 22188, 39778, 38124, 45094, 10525, 28619, 15483, 14742, 1620, 6379, 43251, 19365, 19916, 13643, 27117, 50048, 36018, 5057, 45771, 8679, 8455, 17508, 20, 46380, 48971, 37120, 24140, 8489, 44025, 27215, 44046, 18988, 33988, 30357, 12305, 50166, 28328, 38614, 40403, 49216, 5109, 13085, 6393, 15974, 32446, 41920, 9687, 38051, 24577, 23292, 31985, 8657, 36928, 1610, 44646, 7249, 402, 39682, 36954, 2001, 5699, 35773, 24867, 33681, 47018, 34330, 23053, 29550, 10562, 10510, 34797, 34161, 27858, 8035, 48330, 5439, 36697, 25428, 7809, 33247, 51020, 31781, 22132, 25189, 8827, 10533, 19395, 29161, 29441, 48029, 49224, 24169, 45467, 46272, 29207, 26245, 50766, 35321, 542, 5838, 23273, 36784, 2698, 13087, 24710, 10746, 14965, 45557, 14371, 16919, 263, 37962, 42160, 47285, 4292, 18512, 19805, 27010, 13805, 49719, 10332, 24197, 24610, 47079, 12297, 38799, 10004, 9966, 50711, 33880, 22548, 20664, 33570, 29716, 11112, 26309, 36695, 47182, 3888, 19192, 20633, 21614, 1908, 2182, 3730, 30523, 13918, 240, 7073, 49480, 40840, 49360, 23720, 386, 26374, 11060, 25280, 47826, 26794, 18661, 8186, 34776, 44705, 27271, 10786, 46792, 47405, 6724, 46128, 30237, 21610, 4037, 25723, 44907, 20769, 7642, 5316, 15137, 15708, 44153, 21557, 49074, 9224, 19858, 37925, 4788, 6295, 21713, 7933, 41557, 3661, 37444, 3388, 14580, 6412, 45874, 13476, 4027, 4784, 10253, 38480, 25932, 23602, 40070, 39234, 46389, 37124, 39483, 9052, 45370, 47513, 24945, 19128, 31405, 7925, 22588, 24648, 18171, 41982, 3497, 25302, 11877, 29126, 45539, 48804, 35572, 46660, 48611, 1137, 36779, 50638, 14821, 17114, 11743, 46971, 42051, 27364, 10246, 484, 8918, 31056, 26051, 29357, 39395, 4350, 27791, 46695, 28486, 33460, 22203, 12725, 40184, 43826, 32094, 40090, 20392, 38759, 9175, 22917, 50451, 28999, 25813, 32354, 13896, 46755, 50258, 38252, 12234, 12564, 242, 34117, 23501, 13516, 8632, 18421, 24231, 4761, 15896, 42402, 35787, 2083, 24694, 14534, 49259, 43489, 27683, 50238, 36106, 34252, 4930, 18074, 45547, 29980, 7475, 38690, 1999, 26481, 10652, 39171, 6556, 24182, 17484, 22683, 36483, 29049, 27760, 26665, 30198, 39252, 35939, 1091, 12159, 27327, 38018, 39526, 16278, 5490, 36469, 19374, 21386, 18524, 23060, 46987, 22383, 33259, 14819, 1927, 16394, 23852, 48781, 130, 34388, 33358, 18375, 37863, 7601, 28797, 6273, 5398, 21786, 27544, 31178, 46425, 29902, 19910, 41847, 41495, 30939, 47095, 26186, 7818, 19097, 21817, 25874, 19941, 25720, 9122, 21211, 25564, 19175, 6716, 31865, 48986, 33967, 16689, 1747, 14657, 23281, 21277, 7705, 26428, 5467, 7707, 50244, 7044, 41447, 6675, 45828, 14317, 36832, 38561, 29742, 49940, 21731, 977, 18647, 8168, 37717, 40197, 34046, 25343, 13766, 9537, 528, 21074, 49985, 16980, 47145, 16513, 28069, 10424, 10530, 4701, 30563, 16576, 39277, 12260, 7815, 881, 14564, 16669, 38287, 33313, 47916, 8949, 2751, 33021, 37578, 1917, 15496, 2976, 18225, 38828, 41025, 10989, 1522, 24000, 47568, 34121, 37593, 21279, 5719, 45019, 50357, 1924, 9737, 758, 27641, 559, 10419, 15517, 24787, 19222, 29501, 13318, 18798, 14162, 27380, 45346, 4367, 48168, 30956, 9976, 23093, 24085, 21268, 6241, 24277, 455, 39193, 44487, 6038, 19598, 47920, 2587, 4105, 48918, 12392, 8090, 43708, 9470, 28688, 38581, 15611, 5248, 15087, 35330, 27653, 16046, 2432, 37052, 9120, 8074, 49821, 40758, 13509, 28353, 6575, 11094, 7946, 1973, 38968, 31609, 15988, 10937, 47175, 4937, 22931, 39440, 8261, 42181, 28125, 41986, 28055, 2609, 4783, 14441, 86, 17442, 13388, 45802, 8191, 9558, 34447, 26457, 16510, 5227, 5617, 1395, 29934, 12290, 12497, 5775, 20620, 50410, 45374, 19796, 37386, 2373, 28036, 33294, 6251, 18393, 49086, 27629, 20634, 13261, 22838, 6645, 3225, 3803, 13754, 35462, 18686, 26006, 36513, 2049, 16923, 37705, 1001, 22921, 23139, 34197, 2085, 50295, 8637, 33922, 26338, 47122, 15630, 15537, 17501, 6129, 1391, 37726, 2172, 3740, 11278, 22403, 37887, 27175, 4550, 30946, 46762, 23648, 9033, 45117, 28595, 9038, 14276, 50371, 34856, 39885, 50078, 31871, 4890, 49130, 1196, 1257, 30173, 4995, 49579, 17548, 36262, 18320, 14921, 21142, 28065, 16314, 40670, 16337, 50583, 22570, 611, 13101, 15482, 4377, 40851, 1804, 314, 42344, 23673, 49103, 12027, 42503, 24232, 47032, 12733, 36655, 41511, 50461, 44658, 46552, 880, 29218, 26754, 49444, 26252, 11467, 28989, 41399, 7159, 29893, 47489, 1749, 12877, 25072, 17529, 44329, 3721, 7400, 12549, 39476, 7233, 34023, 29639, 42865, 49654, 32365, 11200, 50449, 15608, 19744, 14479, 34266, 32833, 12825, 46531, 36706, 26032, 2726, 27881, 35562, 25446, 29997, 31359, 18623, 37944, 3212, 4947, 45423, 41863, 13131, 26773, 19381, 45499, 18958, 44316, 49822, 48637, 43068, 47359, 20036, 21013, 47208, 17460, 23504, 18760, 31321, 5598, 20189, 46966, 2159, 14760, 2336, 4683, 20942, 24195, 17644, 45150, 39357, 44959, 48316, 38743, 38980, 27058, 3682, 32143, 7381, 29017, 12455, 21108, 6974, 33061, 7174, 46877, 17213, 27195, 21567, 15869, 13047, 22018, 16900, 25087, 1748, 30028, 5636, 26136, 39507, 47762, 42929, 4568, 4925, 48256, 38922, 34530, 30609, 43580, 34984, 20339, 20067, 50646, 44584, 10338, 18297, 1411, 43203, 50059, 5051, 12368, 13492, 30109, 24449, 33969, 48948, 27607, 3825, 46231, 31036, 27941, 11620, 37547, 48299, 22677, 42397, 18817, 42788, 48792, 329, 49768, 36313, 7758, 18496, 35758, 24810, 15625, 35304, 28471, 42818, 13023, 11562, 36734, 827, 37334, 13108, 2310, 37087, 38806, 5224, 9937, 46903, 48853, 8460, 30924, 7399, 2454, 1363, 4153, 19241, 42153, 49175, 50835, 37255, 35591, 8018, 677, 13976, 10407, 12794, 47494, 44982, 24646, 18303, 5895, 22419, 46812, 1627, 33605, 50815, 38286, 11056, 15505, 25710, 19344, 45930, 36897, 40147, 27027, 48010, 31873, 6287, 3542, 28341, 38280, 15913, 20625, 36011, 40988, 3219, 19877, 17445, 49794, 26800, 4871, 19849, 6336, 1431, 36091, 9886, 46465, 17803, 39654, 3814, 36140, 35397, 43143, 38589, 3339, 15431, 1402, 27276, 46814, 4677, 24093, 6869, 36736, 2943, 42401, 48181, 12443, 34983, 45132, 19278, 12547, 7588, 33724, 34194, 10319, 31821, 586, 2777, 32872, 30778, 7833, 39373, 41800, 20265, 28313, 48527, 44071, 12064, 42222, 50147, 38008, 20635, 41092, 36117, 15141, 27476, 11818, 32507, 44789, 14018, 35455, 46069, 44669, 22508, 27008, 9728, 18558, 47205, 3140, 22766, 18119, 3719, 12211, 43233, 8948, 2922, 30786, 40360, 42439, 6551, 12114, 22542, 7319, 28426, 3590, 13866, 28195, 25263, 36176, 8158, 24088, 18899, 25492, 12351, 34650, 37591, 48978, 48217, 10107, 38343, 9351, 46411, 12954, 48027, 41942, 34036, 7645, 40342, 10526, 49380, 41758, 10759, 42769, 10790, 31897, 2664, 27569, 7384, 13311, 49701, 48689, 48311, 49930, 34995, 16124, 27948, 42149, 10147, 44121, 25529, 34363, 23908, 13458, 17490, 1419, 3466, 25646, 43904, 34867, 1303, 18376, 25204, 1580, 35192, 34883, 44515, 12722, 6423, 46387, 34364, 31250, 48876, 24456, 7959, 15940, 19356, 41525, 3636, 36945, 26775, 44638, 16448, 12716, 20149, 49348, 25651, 44513, 18929, 39430, 48553, 22912, 13641, 25630, 15730, 45973, 22251, 21603, 8088, 41666, 49311, 39189, 19871, 47676, 27122, 19743, 8174, 9943, 31129, 879, 24075, 8863, 43550, 47, 45354, 21391, 1491, 46776, 31623, 47473, 16802, 1978, 878, 45048, 24468, 46431, 32526, 12703, 31754, 42562, 33735, 27617, 35864, 37402, 19602, 9533, 49299, 19129, 50630, 18084, 37805, 22899, 40215, 34032, 9921, 14822, 23087, 11468, 27036, 24107, 47746, 25264, 25140, 29194, 14448, 34231, 37031, 39428, 10150, 23052, 42620, 8735, 42977, 15449, 28144, 25124, 17333, 13202, 28552, 26978, 13497, 49390, 25377, 27224, 50985, 21233, 50799, 42959, 33483, 1488, 15386, 16737, 15027, 10023, 1533, 35519, 9663, 6639, 17870, 32175, 43780, 37955, 16832, 44108, 16877, 46324, 32026, 17465, 28734, 41971, 27350, 21289, 16445, 39409, 3966, 29968, 45870, 33481, 7050, 12772, 40637, 2877, 38196, 511, 48593, 14153, 14980, 9879, 32168, 22191, 5626, 33603, 23104, 39260, 31239, 49443, 25490, 6654, 24949, 24399, 44530, 15867, 36341, 47142, 49970, 29713, 44532, 4922, 22085, 48849, 35140, 17269, 34443, 37496, 48498, 28751, 49222, 43554, 31954, 43113, 38628, 15613, 1489, 50285, 42665, 20307, 11819, 14893, 15029, 18416, 48492, 22183, 28932, 27582, 25187, 20541, 21208, 50712, 40713, 14344, 42618, 34911, 33815, 10859, 49918, 31670, 9685, 26001, 16217, 5215, 9195, 9170, 50428, 30160, 49978, 33252, 11387, 3666, 3716, 13841, 8899, 10838, 50976, 46226, 28107, 37910, 8243, 14807, 42592, 27445, 15035, 12458, 6718, 43196, 24343, 45138, 13138, 35651, 50796, 47589, 3588, 45401, 27755, 17277, 14158, 25048, 22304, 37117, 37214, 36792, 27377, 29768, 39757, 21442, 29811, 18273, 32432, 49381, 49373, 19114, 31901, 49636, 1233, 1637, 1575, 42278, 16565, 14574, 27013, 36025, 23513, 6460, 30419, 3502, 18800, 45486, 43430, 28000, 26535, 28498, 35760, 3358, 19561, 10136, 39547, 22652, 4440, 3483, 29078, 24355, 38633, 38364, 49096, 3913, 12298, 47301, 35432, 34822, 9890, 45255, 4475, 38010, 1393, 14255, 46560, 44506, 3703, 43528, 14561, 31990, 31870, 12277, 235, 23625, 36349, 3847, 18412, 43419, 44168, 10065, 16236, 46982, 28654, 50206, 49034, 33315, 27522, 47969, 49265, 11453, 33861, 41343, 44589, 35171, 14339, 43527, 45790, 43861, 42224, 44847, 11639, 33854, 13334, 31522, 38254, 23308, 50181, 17215, 39764, 45183, 12420, 6276, 14504, 26460, 29347, 47831, 23952, 35919, 29044, 46917, 41615, 22327, 6585, 38607, 42962, 44008, 34217, 13543, 7895, 31575, 39632, 22193, 41767, 27583, 49744, 739, 15789, 13082, 15359, 10742, 5451, 45601, 6111, 50516, 20804, 19463, 3621, 35359, 13996, 44664, 42446, 28429, 41791, 16051, 40729, 24162, 17222, 41672, 28079, 33138, 45054, 46323, 3041, 5861, 34736, 36675, 3056, 31859, 25315, 46859, 2947, 22078, 1571, 5776, 38573, 28311, 16906, 41512, 45140, 15313, 46116, 20063, 29726, 27660, 19105, 3849, 10955, 34912, 1376, 3946, 47542, 25730, 51008, 2203, 43681, 19261, 6128, 32065, 7029, 47578, 6126, 7125, 767, 25768, 66, 12233, 26556, 20534, 8540, 4145, 35446, 31909, 34823, 8797, 28209, 48501, 24504, 23693, 40059, 19460, 336, 23145, 31220, 31649, 49366, 4579, 6224, 50660, 46818, 47355, 17705, 38608, 39004, 43836, 38850, 12263, 31732, 28153, 23035, 41057, 37818, 44631, 7415, 20567, 23979, 13755, 47041, 38075, 28379, 914, 23136, 9307, 32822, 4549, 2740, 31729, 41308, 30364, 23894, 10320, 17554, 36560, 23275, 36879, 16475, 47620, 848, 49521, 8307, 45583, 19884, 13621, 34269, 5586, 47306, 21671, 9699, 14126, 10942, 42382, 18191, 38066, 45797, 5026, 12605, 7733, 14077, 27715, 28830, 44623, 24681, 24836, 47850, 44860, 44290, 36052, 16516, 38228, 14048, 34507, 28325, 1969, 23616, 29377, 7732, 10122, 50034, 7885, 42284, 21642, 1893, 20079, 42471, 42189, 11372, 16725, 12122, 16993, 13724, 45122, 28476, 11623, 47719, 38412, 28590, 49681, 49066, 7754, 17893, 23697, 39126, 38929, 31731, 18443, 6359, 1975, 7049, 8571, 15768, 22948, 24685, 3961, 50506, 36111, 33602, 42376, 2916, 7422, 30659, 11390, 50131, 9650, 37911, 24567, 18956, 22789, 43133, 41354, 6666, 48244, 33229, 39857, 9766, 21032, 1468, 14902, 33596, 8116, 12484, 20217, 5750, 31447, 33648, 4595, 28976, 18023, 31493, 17205, 30800, 27330, 23019, 4869, 36070, 18756, 35641, 43303, 28423, 9704, 40241, 17368, 23394, 10536, 3539, 10088, 7874, 50671, 1181, 21149, 32673, 7212, 25495, 35015, 10278, 50567, 16151, 37213, 24875, 31912, 31054, 33505, 36205, 29092, 26602, 27428, 44827, 5077, 3937, 26981, 12894, 50019, 8241, 2763, 42656, 36877, 32783, 21733, 15775, 40898, 4649, 28527, 6890, 23994, 28898, 41467, 41104, 23187, 35357, 49806, 30251, 46450, 5007, 41508, 18175, 34218, 29526, 35326, 24732, 40858, 980, 26914, 14385, 48353, 40647, 44526, 19544, 35769, 47828, 42713, 7063, 16404, 16010, 20662, 48824, 34923, 27076, 11449, 24554, 26989, 37978, 18280, 11466, 36673, 16512, 43579, 34987, 31422, 25689, 45219, 27961, 21212, 4052, 50925, 23262, 19133, 14680, 16209, 12370, 49905, 27722, 11700, 42515, 11375, 8715, 1786, 24637, 50788, 25793, 33251, 23330, 17194, 9702, 35556, 4665, 47713, 6249, 35314, 25519, 48525, 37789, 19695, 24387, 11233, 17598, 20274, 1695, 22168, 29628, 34972, 30435, 35185, 23551, 28714, 31170, 38882, 6552, 30509, 25192, 24435, 15341, 44586, 31127, 727, 32123, 30890, 41954, 36507, 39484, 8499, 3931, 47179, 21524, 25325, 29358, 47999, 32208, 8276, 49212, 35223, 32330, 38750, 1340, 545, 4442, 36484, 19671, 20825, 24954, 40291, 3298, 38443, 42992, 33482, 44910, 33141, 30754, 44155, 14231, 45568, 36768, 21535, 25809, 40664, 11957, 13086, 32746, 30240, 7251, 29539, 21512, 6458, 6682, 3044, 8093, 15069, 15274, 27034, 19851, 48666, 43257, 50400, 19408, 47467, 44572, 45900, 39775, 2887, 14532, 26478, 47869, 29653, 22803, 246, 32450, 25566, 8627, 32549, 11985, 47253, 35786, 19251, 39112, 13651, 1702, 4833, 8885, 43431, 49692, 17596, 29861, 15858, 6653, 33474, 9319, 29852, 16220, 31963, 34423, 18204, 34159, 27659, 43123, 6835, 9538, 40350, 11145, 19246, 41022, 32454, 48515, 30636, 30125, 33833, 10106, 27358, 34850, 8977, 30862, 4431, 22336, 41202, 45512, 43944, 33151, 30010, 26066, 969, 29576, 23900, 44293, 40165, 29541, 45325, 17087, 17310, 47572, 18292, 36929, 35550, 7672, 18550, 43658, 24781, 4263, 37625, 37393, 3930, 15342, 50846, 10595, 5544, 46410, 10376, 50992, 26135, 10504, 16456, 17980, 49678, 14866, 34601, 19678, 44765, 18340, 27290, 21278, 28090, 48856, 47118, 202, 5329, 16857, 22656, 23819, 45630, 1362, 44198, 41588, 42437, 15697, 4584, 33212, 9490, 1465, 4063, 18371, 37420, 7625, 45953, 31333, 6739, 27025, 23209, 14762, 28071, 8320, 30239, 47345, 45118, 2627, 12095, 22395, 27309, 4397, 18192, 20593, 16335, 48881, 16318, 3744, 11885, 7975, 1258, 10817, 5256, 13112, 40622, 7954, 41004, 171, 16, 20818, 36110, 22919, 40405, 15927, 11599, 33411, 15037, 40693, 27540, 47643, 49201, 31920, 49554, 20803, 9037, 21832, 45200, 26695, 12899, 20968, 24758, 46576, 23731, 6625, 16166, 33752, 25084, 26738, 48493, 18797, 49973, 46309, 48627, 36817, 36240, 31399, 19295, 41063, 34435, 24696, 44433, 34681, 18967, 7685, 26472, 11338, 12070, 18697, 17897, 25831, 31339, 454, 40045, 11318, 48187, 14641, 32866, 22671, 25227, 2502, 30794, 5206, 28042, 7394, 6506, 12046, 37410, 1836, 34641, 1724, 14629, 36206, 42587, 6158, 45415, 15835, 50046, 50715, 50607, 289, 48, 19236, 45623, 27035, 38292, 2541, 31266, 25301, 27048, 3305, 45136, 22253, 36785, 19069, 4003, 26130, 30942, 23054, 50017, 41890, 2026, 1079, 47646, 21942, 47149, 30157, 47357, 9271, 9547, 24784, 31430, 16296, 36742, 23784, 20318, 37337, 33488, 17911, 16724, 1154, 36936, 50894, 27465, 41255, 24747, 31069, 12461, 48522, 24063, 20586, 40282, 31604, 24104, 2267, 37963, 11272, 1979, 31676, 45688, 36165, 50209, 30286, 45223, 36247, 42651, 49649, 36570, 26365, 44330, 29192, 43509, 18012, 21179, 43648, 45911, 14614, 17051, 48740, 43935, 50828, 47846, 970, 19846, 7725, 23213, 13488, 30218, 26580, 2444, 48563, 28095, 16991, 49281, 3984, 4454, 1313, 47942, 4325, 12947, 20521, 46601, 39065, 22431, 12478, 38491, 38190, 41554, 2409, 19289, 4884, 8487, 42180, 16087, 45980, 33718, 24434, 44271, 581, 32636, 9978, 32231, 42406, 50886, 30026, 35592, 1771, 8289, 26201, 7857, 2570, 2386, 31247, 45281, 10894, 22417, 48007, 48096, 44717, 48191, 45022, 1168, 16036, 50884, 10472, 22113, 13249, 9718, 44740, 45298, 29941, 36782, 23358, 8322, 13810, 49535, 47465, 13905, 25896, 47417, 41651, 18529, 2486, 40062, 41660, 43135, 35635, 40248, 12689, 22421, 37207, 11082, 31133, 50027, 29106, 35571, 39989, 29142, 22535, 35237, 38801, 7144, 6550, 45341, 28795, 48426, 49657, 26940, 11495, 34731, 39122, 7593, 45777, 3618, 27848, 47176, 23029, 18688, 30553, 34053, 15954, 48269, 13161, 38646, 48806, 24123, 10237, 40193, 17325, 31663, 38605, 33350, 353, 44087, 32223, 22167, 46417, 15307, 5516, 8823, 9591, 33837, 46923, 45221, 17915, 50889, 43754, 48717, 26078, 2473, 34302, 10032, 23810, 8764, 41656, 9845, 31319, 20697, 16013, 10925, 2219, 38520, 29617, 1921, 39140, 40638, 11600, 40002, 45107, 41668, 45115, 16928, 25454, 43720, 24154, 5855, 13886, 22205, 33814, 46176, 27040, 21971, 20500, 49990, 43783, 49911, 45105, 13077, 37940, 33509, 47830, 45157, 6596, 34439, 46662, 18351, 41121, 27883, 19609, 3155, 34636, 37829, 29298, 42413, 647, 43391, 23335, 47258, 48409, 3286, 25347, 18091, 31841, 8819, 4458, 35974, 46964, 15294, 30876, 9646, 13568, 38755, 12618, 31937, 3598, 12786, 27554, 40227, 3604, 47911, 8147, 17071, 37427, 15586, 40134, 43324, 14669, 17439, 19554, 24009, 39329, 46060, 8110, 16603, 6900, 45751, 3270, 6083, 42477, 25265, 35142, 35778, 28781, 43595, 17478, 21608, 11475, 793, 27600, 27675, 25121, 27841, 47853, 31890, 22734, 42930, 22668, 9233, 5992, 12874, 9019, 41572, 30159, 11727, 11920, 36625, 1191, 40168, 47469, 1983, 6207, 19492, 46593, 50335, 20714, 50320, 43249, 44974, 44865, 16847, 32828, 46556, 42081, 29807, 43909, 20951, 28033, 31045, 32460, 48065, 38033, 4383, 33314, 37007, 14095, 37184, 25246, 36384, 45424, 28705, 48423, 34418, 24533, 36698, 13204, 11113, 8610, 19688, 36790, 50689, 43310, 9777, 19966, 3313, 50390, 45143, 25099, 4135, 37953, 23025, 8865, 20272, 5711, 30974, 23988, 43883, 24512, 6005, 3246, 1846, 35448, 31783, 37611, 5318, 33759, 45841, 46214, 49860, 6045, 35617, 20557, 48086, 8209, 3626, 25760, 43171, 41143, 26220, 7045, 6307, 47134, 47269, 6537, 19457, 19286, 16109, 34332, 14909, 13402, 21694, 17453, 17604, 8753, 44423, 30569, 15729, 21835, 51059, 32974, 8296, 18814, 993, 2761, 32306, 4298, 29294, 11887, 37134, 42809, 8836, 26287, 48222, 35756, 5627, 40977, 49091, 18871, 6926, 13206, 1848, 30825, 6971, 4270, 838, 35327, 25457, 39795, 7531, 4918, 34105, 38036, 9292, 30979, 10398, 13875, 17320, 22072, 31451, 46794, 19095, 20833, 9231, 23921, 37903, 19883, 39432, 41825, 37865, 30646, 42302, 37640, 30633, 6066, 21470, 50803, 5296, 11790, 9255, 15859, 17311, 38209, 43622, 28400, 42396, 5046, 10764, 8549, 13541, 23472, 19535, 14245, 46969, 50662, 34745, 38243, 12784, 43299, 2705, 11367, 45321, 12666, 1630, 21565, 39044, 49637, 11771, 22413, 40721, 44524, 15092, 6942, 9582, 47322, 39602, 2152, 41742, 7127, 3340, 36727, 9633, 30029, 40949, 24967, 26945, 41103, 17643, 1243, 36620, 42852, 38785, 15570, 24428, 23962, 30219, 26475, 4589, 23755, 50546, 12110, 18792, 45722, 47988, 42253, 9270, 20648, 35048, 9200, 7118, 10520, 17524, 9502, 13230, 2482, 33451, 26346, 43838, 25836, 43219, 43440, 48808, 2690, 21588, 1055, 37505, 9345, 10434, 26217, 14458, 50910, 31001, 7781, 34437, 49539, 49202, 42346, 19509, 1150, 16492, 29249, 39598, 26640, 31715, 50521, 22061, 15123, 2507, 50858, 50207, 21826, 40163, 38216, 229, 11915, 29153, 5747, 9403, 33450, 36054, 37528, 23803, 46289, 13383, 20381, 38722, 33282, 30101, 38375, 21333, 7723, 43390, 31465, 49926, 12035, 42829, 37036, 7190, 14917, 42236, 1057, 22577, 28477, 38870, 32284, 2637, 47115, 19348, 45520, 39190, 45776, 49428, 12331, 26907, 45430, 32361, 44, 30076, 14264, 50844, 50764, 35628, 48895, 42478, 10749, 48731, 27785, 32419, 49965, 2440, 26927, 36113, 39250, 17134, 33874, 3448, 26482, 41005, 20595, 32288, 23274, 14753, 19837, 4360, 42483, 45034, 40493, 23173, 50958, 38256, 45698, 30631, 18172, 17573, 22471, 46053, 12026, 32731, 10138, 17568, 45851, 43147, 26015, 17424, 30549, 34615, 32298, 13203, 38374, 49284, 15068, 13089, 24803, 13312, 13575, 5535, 32888, 16284, 48745, 4226, 33158, 33625, 21094, 19786, 33478, 25780, 43798, 12808, 27231, 34498, 16878, 2408, 4307, 26575, 3084, 11976, 4092, 41056, 26498, 30430, 17346, 8467, 2332, 1560, 27935, 34827, 20492, 40080, 29061, 29221, 19071, 27129, 50519, 3558, 4109, 16987, 40242, 19546, 42860, 46799, 43471, 21529, 41052, 20245, 45654, 13530, 5975, 37267, 25433, 43463, 27496, 27457, 16265, 32654, 2988, 49963, 29498, 40703, 7104, 49533, 29547, 42064, 8871, 15688, 29772, 43344, 21408, 23105, 22032, 49677, 21700, 31866, 6333, 1307, 39849, 25510, 37360, 34791, 3424, 39650, 22455, 20078, 13798, 8420, 42924, 32748, 45725, 12295, 47733, 32176, 42738, 21271, 27806, 47560, 21503, 38400, 24564, 45548, 95, 26313, 16869, 49334, 11536, 28525, 45256, 50800, 17922, 29255, 7935, 8842, 22925, 7386, 46235, 40120, 46302, 9485, 15854, 6489, 34942, 32944, 6308, 43301, 24757, 381, 25665, 49600, 26921, 23701, 32794, 21458, 39123, 4860, 11627, 18485, 17048, 34779, 49227, 31830, 12454, 42557, 2015, 27685, 42319, 31682, 6209, 27143, 26687, 1360, 35546, 5199, 207, 50306, 10612, 24281, 50734, 50545, 42476, 44991, 18281, 1951, 41170, 24855, 45477, 2896, 50665, 2832, 4156, 792, 11161, 43126, 28145, 23987, 11806, 41363, 39859, 39254, 35074, 45387, 10810, 43985, 49010, 15160, 3576, 21298, 30222, 38709, 1615, 30634, 27362, 15863, 39310, 5018, 40620, 44450, 47966, 44904, 36586, 47055, 20819, 28503, 45560, 38921, 12246, 46218, 15529, 43144, 35239, 39464, 36248, 10770, 18896, 27084, 10209, 38476, 15996, 23451, 29493, 32913, 26147, 42172, 24180, 5125, 49574, 37448, 23965, 48911, 44934, 18460, 42583, 30476, 25738, 20614, 7965, 37621, 22491, 23130, 50655, 28474, 16469, 12385, 16320, 47938, 44690, 50212, 34663, 21150, 32090, 31742, 50669, 16657, 6004, 41285, 39668, 21107, 23902, 20870, 26510, 7303, 17365, 11622, 4438, 31931, 34695, 6063, 7425, 597, 19633, 23494, 41224, 4770, 25681, 21904, 7511, 5828, 17374, 40278, 32341, 41325, 13655, 37469, 20251, 17546, 38025, 36451, 3419, 40099, 14523, 48814, 11464, 2892, 27310, 33442, 40598, 16870, 50319, 31136, 16570, 9834, 42261, 16195, 21433, 43072, 28282, 24407, 47401, 50744, 12316, 23770, 2594, 20820, 38466, 46150, 3129, 42106, 98, 37638, 29944, 3326, 45720, 1706, 14342, 28674, 12745, 27487, 4266, 21096, 16818, 34448, 50079, 17135, 42053, 46952, 24712, 11334, 10392, 12328, 16479, 48045, 33370, 38003, 6141, 10442, 11822, 11848, 13149, 41460, 16391, 11395, 38082, 24324, 46808, 14618, 39665, 486, 25520, 8305, 2784, 36995, 14020, 42374, 43410, 48990, 44496, 14508, 6318, 28151, 25682, 29776, 3470, 45280, 13624, 22143, 1351, 28629, 27156, 4684, 39972, 47790, 26120, 46252, 14325, 28433, 49434, 35393, 43871, 44727, 42975, 2876, 43061, 21104, 20821, 12251, 25894, 22382, 46056, 17559, 27927, 17603, 47738, 44399, 23314, 27847, 15241, 3774, 51009, 39730, 44461, 45240, 32635, 38223, 26093, 42021, 18112, 24352, 32462, 23120, 15552, 12828, 36320, 34396, 37897, 23881, 42031, 40919, 29873, 34500, 49326, 4837, 38920, 305, 41394, 35684, 13937, 23864, 6959, 63, 5637, 48875, 46597, 46759, 47742, 22197, 36045, 949, 43215, 21912, 4601, 23388, 19473, 27763, 44268, 31096, 41094, 20418, 40756, 12439, 14320, 37816, 3577, 6235, 44491, 49780, 6868, 40309, 41515, 8892, 4222, 3121, 19268, 10765, 24608, 42041, 10620, 26669, 46532, 28854, 36353, 40312, 44687, 36856, 49947, 13644, 17430, 34434, 48494, 40654, 43102, 40757, 5945, 11736, 31424, 36445, 9085, 45825, 27852, 10592, 40393, 38803, 17034, 3392, 14907, 9677, 46238, 29494, 35139, 27349, 32001, 46801, 48795, 29214, 35080, 9183, 3393, 22446, 42786, 26977, 16497, 7813, 38318, 29603, 18030, 19732, 37155, 14222, 50080, 18042, 12386, 14659, 17582, 30490, 27073, 19902, 37026, 24749, 47474, 42438, 10411, 45402, 33290, 25849, 24278, 17547, 16026, 33026, 12907, 5044, 25445, 13387, 32205, 27232, 11701, 11398, 20309, 16981, 14848, 46674, 17259, 45156, 24576, 34081, 3781, 22334, 165, 34421, 47019, 24172, 32662, 27830, 25420, 33380, 39832, 6354, 19266, 42991, 30021, 27139, 19352, 397, 11683, 26590, 17127, 4316, 2633, 48097, 20360, 32023, 2649, 21395, 50537, 6183, 2443, 20243, 17495, 7166, 47447, 13285, 12550, 17512, 42565, 16186, 10187, 40748, 39503, 46204, 46796, 9253, 19952, 25620, 44075, 18962, 48564, 7151, 12013, 7066, 18316, 49049, 37447, 31597, 7982, 21837, 24835, 1263, 14904, 37909, 8790, 12255, 3789, 16831, 23184, 33094, 595, 39789, 18924, 7728, 37045, 12, 32742, 19158, 6155, 18786, 26079, 15002, 44997, 36595, 1890, 26721, 44427, 29899, 3902, 24609, 26712, 6070, 6897, 29813, 7594, 48019, 15751, 41792, 21092, 17240, 22229, 12017, 36491, 30295, 15756, 23796, 42112, 18718, 24889, 32184, 1184, 17677, 12566, 9486, 5942, 38979, 37229, 41336, 2323, 50739, 17180, 39829, 20628, 33890, 8775, 38357, 31227, 2225, 9705, 29922, 48547, 35661, 49749, 17533, 6446, 30345, 27648, 10266, 15050, 2269, 43348, 34857, 40481, 26994, 32620, 48931, 44661, 49076, 6136, 44498, 7644, 46010, 11692, 13040, 8649, 41551, 6237, 6440, 36805, 25766, 36820, 29785, 29524, 36084, 49575, 8554, 16452, 23247, 30760, 42934, 16146, 1069, 34514, 1120, 3442, 39177, 50826, 36548, 37569, 27252, 29001, 35090, 9214, 40263, 47847, 38989, 10621, 24773, 46951, 25115, 36979, 10134, 37598, 30203, 11489, 16540, 21411, 31932, 36337, 38603, 1757, 5131, 38325, 2286, 45292, 7904, 41163, 3516, 35366, 25329, 6753, 8298, 8875, 18427, 13906, 44445, 37502, 49596, 8855, 30129, 44751, 32605, 24256, 2713, 19028, 12720, 39251, 21625, 23611, 6546, 3346, 50490, 20637, 3553, 12706, 22266, 11817, 15587, 25372, 10455, 47586, 36519, 17440, 1445, 13606, 11950, 7565, 22271, 11855, 14042, 28728, 679, 20031, 25605, 28870, 23969, 44474, 2975, 12829, 2654, 40662, 4597, 50777, 14329, 38536, 38657, 29032, 21968, 46653, 12673, 29918, 46477, 19696, 15800, 9658, 5415, 40166, 48920, 18561, 46701, 45816, 33669, 18434, 30199, 42582, 39308, 18120, 4242, 37268, 12964, 16182, 21989, 17599, 31118, 30774, 45683, 18560, 14542, 15193, 14454, 20127, 26729, 49419, 26114, 19209, 25634, 7554, 20157, 5569, 41536, 31760, 10464, 2167, 28620, 48280, 28784, 24302, 6230, 19954, 41839, 4362, 9167, 28680, 45394, 4764, 31674, 42544, 11443, 18107, 40358, 34899, 39962, 28767, 49604, 28759, 22866, 33875, 19578, 8781, 743, 4276, 24401, 38014, 43728, 14156, 7487, 20073, 40021, 36026, 41303, 6173, 10873, 16393, 13772, 39758, 5559, 23736, 25167, 18764, 12244, 13317, 14186, 36956, 44951, 39673, 28720, 30576, 24854, 4796, 41635, 19464, 42815, 30745, 3382, 31004, 34080, 28355, 259, 21121, 4198, 45756, 9226, 5548, 16819, 13704, 42100, 44685, 50354, 14495, 35371, 10126, 40587, 27389, 32607, 1547, 18870, 24807, 874, 35933, 17696, 24034, 3075, 11111, 11935, 47406, 36402, 4679, 45941, 32379, 34740, 43888, 30267, 4048, 9181, 22128, 32250, 6916, 20284, 16152, 50380, 18771, 23220, 9057, 41245, 11758, 8998, 3407, 48625, 31933, 4572, 44949, 29452, 45428, 34544, 3295, 24652, 3885, 29828, 11635, 21457, 8616, 21632, 12587, 46185, 20477, 49547, 38983, 45618, 48615, 15675, 618, 24082, 18655, 34934, 16966, 42372, 7938, 45050, 18726, 1635, 25216, 12218, 11026, 19319, 26693, 36329, 1071, 36277, 40463, 17491, 32251, 25085, 1833, 43413, 13178, 348, 607, 22618, 34941, 5022, 19936, 16101, 44848, 35346, 6919, 34378, 35260, 42450, 16711, 11506, 13110, 29819, 31775, 11752, 6255, 24155, 46529, 10256, 22414, 21409, 21808, 24535, 38401, 44542, 50918, 36478, 44554, 47001, 23724, 48089, 31284, 14415, 12011, 1852, 38716, 38649, 44221, 42706, 664, 39743, 6443, 42704, 37534, 26294, 15198, 12649, 33966, 28417, 30529, 16937, 20536, 8109, 5538, 6481, 27339, 41280, 10599, 24558, 27757, 7450, 33899, 15346, 44633, 49584, 6315, 43795, 6659, 39153, 46535, 33684, 12087, 27417, 19014, 1090, 48655, 6584, 10370, 30373, 30038, 27307, 43585, 24851, 37554, 15808, 26348, 50124, 21982, 1957, 17366, 23500, 42144, 32057, 13393, 34684, 26769, 8959, 16904, 13195, 20131, 29717, 38370, 41003, 10560, 13998, 26207, 19878, 37749, 26392, 22726, 21314, 26048, 26184, 8952, 31184, 13341, 48898, 26401, 48585, 50264, 23867, 32442, 20990, 34206, 29641, 9410, 41000, 9545, 10474, 2099, 3684, 34382, 23749, 30082, 36487, 15943, 35169, 719, 39345, 39999, 7448, 4757, 5440, 48044, 42194, 918, 45662, 19886, 18995, 34195, 33748, 29047, 574, 10268, 25104, 44815, 13995, 1693, 3111, 12300, 15777, 5675, 30981, 16809, 31016, 15220, 31027, 13927, 10978, 16575, 23259, 33461, 19838, 869, 3243, 39472, 14426, 46942, 19150, 9437, 37562, 21030, 16312, 44307, 10782, 46011, 8055, 38100, 26991, 29067, 17231, 41737, 47039, 39568, 20352, 2112, 17782, 38450, 17985, 7893, 45647, 37488, 8288, 4733, 26518, 8931, 31697, 38798, 14625, 3669, 22848, 4561, 35679, 31035, 28556, 25904, 15944, 4605, 1551, 25844, 42518, 36660, 32747, 33127, 47531, 18600, 37176, 27154, 20040, 34411, 37928, 6105, 40660, 35151, 20816, 17688, 17930, 35849, 48629, 32711, 26370, 21781, 2378, 39803, 12022, 21550, 28785, 44480, 9575, 24176, 13946, 42732, 40054, 8902, 43436, 20712, 40484, 19359, 12688, 117, 895, 13434, 2978, 10667, 10849, 36098, 5698, 25402, 10575, 23806, 5935, 22546, 31103, 7949, 43308, 26827, 11852, 19310, 4938, 34015, 35240, 14925, 31208, 15442, 42072, 23295, 35789, 44397, 25670, 45337, 46748, 10163, 30306, 45633, 22105, 37951, 15117, 44939, 24090, 17444, 40611, 39084, 42442, 28594, 36931, 1723, 9417, 3820, 21678, 45679, 12492, 39006, 9387, 31764, 40486, 17296, 15991, 8043, 20683, 34151, 36674, 12578, 15544, 18683, 8746, 23820, 49079, 50944, 18846, 46163, 40928, 37285, 24832, 30352, 16648, 40152, 41008, 7640, 1868, 10384, 17673, 38088, 33891, 46096, 32848, 27979, 49815, 8524, 24385, 7515, 32724, 26415, 46499, 24326, 41940, 21527, 41849, 22544, 33572, 36418, 6809, 24786, 39458, 10089, 46494, 1863, 45529, 16243, 41704, 1670, 20800, 21184, 43672, 42240, 41728, 35355, 18823, 32191, 12475, 45789, 15724, 33614, 4566, 26857, 8928, 30571, 9380, 2934, 26269, 16701, 46904, 2481, 17690, 3207, 49126, 23978, 25903, 22137, 46954, 18379, 11086, 3726, 16619, 6401, 36582, 3096, 46744, 8739, 31445, 3996, 34590, 13299, 7760, 29263, 13814, 14294, 11363, 37471, 49249, 3509, 5871, 26714, 1886, 45450, 44116, 666, 40465, 47303, 6407, 43244, 10973, 18217, 45137, 5563, 33432, 6505, 30972, 47006, 46819, 10046, 24439, 16801, 33756, 18269, 8410, 44367, 42445, 12842, 41089, 39147, 23630, 15643, 39776, 7692, 7778, 27688, 38735, 31280, 16487, 10813, 43382, 47581, 16431, 11947, 36486, 30399, 40978, 13820, 13646, 15317, 45442, 23652, 7966, 48559, 31288, 26167, 1047, 13372, 24108, 38567, 41330, 16702, 2540, 16383, 3947, 22260, 17999, 18242, 36786, 3835, 50121, 26638, 13132, 33389, 28031, 126, 3427, 27305, 5829, 32150, 45211, 37264, 8217, 49089, 6239, 5549, 35533, 34131, 26576, 45252, 40188, 27104, 25126, 48399, 39615, 31049, 44737, 38875, 1329, 3267, 50440, 43150, 47224, 25327, 48848, 6582, 40568, 36109, 20115, 43188, 33087, 31077, 3259, 38017, 24971, 50718, 34951, 15638, 1545, 46035, 26792, 3903, 11737, 18005, 18339, 16224, 6791, 17856, 45472, 48499, 26732, 38195, 36547, 14716, 8737, 26127, 7023, 7676, 41654, 17267, 40373, 41445, 8556, 15048, 43106, 2595, 43035, 50518, 34189, 11406, 4488, 28955, 39685, 12286, 23942, 15063, 18451, 22084, 21651, 10495, 29457, 39028, 48076, 4570, 578, 27663, 32550, 33392, 30562, 48365, 34358, 33479, 6271, 27485, 33772, 18681, 34807, 9589, 49017, 5048, 4074, 48169, 5555, 38975, 38161, 11118, 32713, 48725, 7735, 350, 47597, 5523, 40349, 8877, 11055, 9193, 26901, 2905, 21726, 16478, 9358, 4999, 24018, 12403, 36072, 27473, 22815, 40905, 26796, 2821, 40421, 15736, 50185, 1652, 50650, 38598, 38552, 27712, 24725, 18876, 27656, 48843, 13137, 30262, 30844, 31539, 41689, 28118, 45082, 18253, 29762, 38188, 18285, 24145, 43669, 26333, 12522, 42717, 27944, 25083, 35613, 6490, 6941, 615, 6535, 8255, 22500, 16415, 18227, 11948, 17059, 5807, 47311, 37775, 38582, 16037, 33740, 22626, 7111, 32491, 8205, 48496, 24891, 15168, 38839, 24847, 43490, 26340, 48651, 34891, 23185, 32487, 12472, 5161, 35554, 27741, 35743, 9571, 15405, 380, 634, 38217, 209, 31733, 10614, 6031, 23876, 17806, 41352, 8004, 8889, 39394, 8714, 31497, 37606, 6635, 35615, 10489, 11138, 38427, 37478, 24870, 43912, 28200, 19096, 33963, 27821, 37507, 31244, 4964, 9197, 42038, 36406, 35225, 30358, 3479, 48361, 46809, 45928, 27186, 20734, 9310, 20005, 19060, 49830, 22962, 50696, 28803, 46325, 16881, 49242, 40253, 2156, 35262, 3011, 26540, 27515, 12937, 21664, 50791, 11445, 35671, 40809, 264, 16984, 40942, 41292, 34298, 12670, 16861, 42657, 13689, 3677, 23369, 12859, 31683, 6214, 18399, 38704, 48382, 20616, 43091, 21117, 40580, 35115, 29525, 33804, 16666, 24283, 38179, 34620, 33160, 39601, 49558, 47021, 23316, 42756, 2012, 20615, 36642, 14069, 37136, 37525, 5574, 25166, 1518, 43280, 49703, 5701, 38862, 31727, 23552, 134, 32177, 8198, 737, 29703, 8814, 33753, 15130, 45913, 30486, 10161, 19282, 36425, 29535, 27699, 9399, 42694, 30166, 43044, 10231, 4670, 45609, 34577, 32030, 10245, 10215, 27440, 23142, 48128, 7512, 43914, 11194, 49027, 41464, 28164, 7670, 25129, 3399, 15390, 47698, 19013, 7010, 46639, 49220, 38282, 45088, 14369, 13325, 4102, 28111, 23243, 30080, 20832, 30382, 7852, 40186, 32983, 19161, 39603, 5872, 43900, 41109, 19994, 7769, 33195, 46495, 14597, 45749, 38727, 35483, 22240, 35896, 17505, 34462, 10420, 46456, 23623, 38002, 43202, 33778, 39371, 20349, 20862, 48839, 34262, 24548, 9835, 16534, 38411, 15064, 27177, 163, 46848, 20469, 27584, 7943, 39914, 37149, 12210, 18391, 10142, 13045, 48178, 44538, 28085, 6996, 14201, 49782, 41411, 30408, 12364, 8437, 15658, 47464, 11720, 35689, 3496, 44289, 48973, 25555, 27301, 18352, 33293, 9717, 41299, 11263, 22437, 10016, 13349, 38631, 20097, 4885, 12654, 16427, 21658, 45957, 3858, 12344, 13545, 21482, 45154, 24374, 13534, 47658, 23802, 5652, 47033, 39839, 17271, 37464, 17919, 15132, 42347, 22173, 16341, 49594, 20220, 3158, 24552, 34236, 49592, 20786, 15487, 1794, 39858, 48354, 10363, 43573, 47054, 25570, 45716, 27879, 46559, 43917, 28187, 35426, 2766, 23626, 12882, 8625, 4424, 35416, 33281, 7316, 8494, 27828, 16814, 33414, 42890, 2920, 8105, 23615, 5693, 49956, 5308, 40550, 28381, 38624, 12728, 1372, 23517, 32619, 27085, 50222, 6600, 47062, 43993, 21055, 49484, 25645, 42109, 42876, 20850, 40676, 29450, 15396, 25838, 17347, 42306, 21341, 45736, 15333, 48117, 1553, 11265, 47661, 48596, 18984, 24320, 18195, 11097, 45271, 33006, 47338, 10, 42383, 28116, 25017, 1332, 11150, 49724, 34854, 17198, 23202, 25947, 23032, 15057, 5907, 27950, 38117, 10658, 43707, 35873, 19229, 20472, 36061, 26361, 10276, 41475, 6419, 44361, 37885, 35979, 24839, 1072, 42739, 24639, 21441, 36563, 28301, 46133, 24840, 36927, 10781, 40362, 42663, 19441, 34957, 24877, 32583, 3838, 21465, 43516, 20762, 2404, 20003, 42796, 11936, 50329, 16329, 28298, 8868, 34226, 34030, 5685, 33998, 14429, 1110, 31279, 1461, 42585, 29906, 6080, 14599, 13687, 1795, 15166, 39891, 26169, 3864, 39527, 27334, 12231, 10702, 1423, 36147, 7953, 39955, 14661, 33848, 29643, 6484, 17934, 40544, 50946, 13075, 6728, 42727, 25917, 41545, 37411, 11164, 48208, 42326, 19788, 35702, 21951, 3201, 39588, 7333, 36862, 32103, 5382, 26647, 11882, 11399, 27857, 36257, 15581, 16531, 33001, 10068, 27908, 41062, 23934, 3047, 45877, 30027, 24818, 6545, 29748, 34792, 39562, 40860, 34323, 50408, 18046, 28758, 2738, 26637, 21589, 4018, 38138, 23943, 43646, 4859, 22768, 13898, 20069, 20684, 47977, 25328, 10638, 31648, 984, 38789, 23429, 25725, 22332, 18795, 5596, 16028, 21177, 47341, 21798, 37935, 43364, 40558, 23302, 31689, 26997, 16840, 47791, 16721, 29911, 31110, 33263, 20522, 42156, 16717, 33487, 3036, 12213, 13696, 6819, 19019, 41901, 9382, 26216, 37316, 44808, 3303, 18324, 35690, 31552, 25296, 49915, 15934, 31341, 5736, 40930, 11788, 47866, 10901, 18569, 965, 41338, 22495, 17025, 32346, 48936, 16551, 37040, 18938, 45993, 31101, 39420, 44241, 43890, 45235, 6612, 9143, 16225, 15072, 21109, 1107, 50465, 40401, 12057, 49935, 9709, 20935, 42116, 46681, 10965, 40344, 21220, 37062, 9700, 30312, 24951, 4069, 2950, 19748, 2828, 11729, 37787, 9642, 31433, 10527, 1870, 5898, 49627, 7260, 33250, 13775, 34755, 45195, 34515, 21476, 13441, 28230, 44076, 10623, 14340, 47090, 13858, 44034, 17219, 22936, 3871, 38635, 21416, 40087, 39624, 35244, 43965, 5774, 37939, 19346, 42404, 25023, 21796, 16940, 48491, 2389, 11459, 2470, 19861, 30400, 30858, 33696, 44039, 9303, 27281, 17287, 8135, 32459, 28987, 22149, 27249, 50611, 23430, 10991, 1726, 18056, 25444, 50584, 50275, 31845, 12391, 46139, 3833, 16756, 11930, 40787, 17171, 25443, 18852, 13602, 45535, 5414, 38047, 31366, 30319, 42143, 1447, 34051, 2883, 24804, 15187, 38055, 18401, 148, 6837, 16164, 14755, 31125, 50333, 48860, 37381, 28925, 6233, 18991, 33823, 43493, 34362, 23665, 20891, 21684, 31703, 45259, 4386, 3241, 22445, 33395, 30009, 2776, 18016, 8176, 42551, 29021, 3089, 19211, 4801, 34971, 18818, 21305, 34644, 43332, 49507, 3691, 11967, 38889, 31608, 50897, 25174, 20150, 33028, 14676, 8504, 47799, 39348, 10318, 17007, 44350, 41350, 45125, 36574, 24233, 18537, 10556, 37033, 11783, 3780, 11860, 1583, 32670, 26803, 8609, 48036, 1245, 36224, 29642, 23638, 33199, 22552, 8944, 13785, 7547, 14337, 39978, 5771, 24074, 2307, 23224, 4966, 30977, 35324, 30626, 24386, 11795, 5268, 44319, 41948, 42147, 18630, 36216, 4793, 24459, 4059, 7085, 4088, 2138, 16748, 40655, 158, 38534, 11904, 17288, 4218, 36171, 9088, 9211, 3133, 30874, 8416, 349, 46874, 40976, 37752, 1018, 370, 44728, 25123, 44231, 5059, 7709, 30662, 2652, 11556, 17302, 24, 19834, 13747, 9754, 50047, 37495, 50735, 49629, 46049, 22598, 37406, 3260, 44170, 28517, 43385, 12054, 47212, 43154, 32126, 21607, 38931, 37109, 35218, 46533, 16496, 37289, 41053, 7034, 44363, 12638, 23730, 25871, 43082, 50801, 13410, 9153, 29293, 49949, 49347, 34976, 31385, 17694, 42612, 658, 43996, 36711, 35535, 28436, 21415, 32564, 295, 1398, 23984, 14304, 17132, 3058, 44004, 30830, 43451, 28540, 11260, 25275, 6369, 10816, 12100, 16696, 28842, 17668, 13764, 45245, 46823, 9592, 39994, 42470, 46166, 47585, 17835, 10587, 1142, 15247, 35489, 37222, 26351, 6299, 39427, 20386, 34062, 43339, 30737, 50763, 20502, 2807, 15077, 23076, 40354, 14214, 8522, 49133, 45517, 38916, 39731, 37058, 28628, 47569, 23125, 6723, 18964, 40923, 24224, 12588, 32834, 31100, 26410, 13297, 37178, 19003, 5426, 22942, 1252, 17632, 9463, 43183, 48154, 8295, 8273, 23830, 31564, 28696, 34702, 36249, 44312, 5645, 13177, 16649, 26722, 9062, 5769, 46858, 30174, 27030, 49679, 36299, 21243, 29304, 50327, 13405, 42203, 25806, 14834, 13904, 18698, 42067, 13684, 49264, 1683, 21110, 15242, 32932, 48192, 46970, 39136, 20740, 37455, 7822, 32452, 22256, 3943, 43924, 9024, 1482, 28754, 36241, 48151, 36439, 9384, 40856, 34472, 19795, 39290, 34286, 6052, 43880, 8879, 10804, 37181, 46043, 39663, 13576, 35368, 29814, 20310, 38673, 46459, 23833, 13088, 15116, 38398, 9809, 48328, 19163, 38485, 2070, 16467, 1058, 17407, 8166, 8574, 12999, 26178, 33993, 15632, 21935, 11687, 35227, 38433, 13973, 1037, 17864, 33091, 35298, 12818, 26264, 49080, 44957, 34203, 11541, 9256, 23971, 50857, 39048, 41128, 17759, 12860, 39022, 27162, 14891, 24252, 34356, 7345, 32021, 11539, 1128, 40356, 23740, 21547, 41016, 5501, 33011, 47393, 19042, 12657, 22708, 32677, 40821, 16502, 23210, 24640, 37442, 29730, 18751, 39850, 5953, 24849, 12347, 45441, 13809, 17079, 26341, 44700, 46935, 14796, 34944, 36423, 42255, 23766, 19825, 10365, 29835, 47162, 10545, 34908, 37970, 4535, 26291, 20608, 19243, 45173, 49397, 39031, 39240, 13190, 50170, 16796, 20837, 5550, 47078, 44085, 34955, 1986, 31225, 2100, 40650, 10567, 34719, 23800, 35577, 37248, 24916, 22344, 26189, 36455, 2547, 30723, 30926, 13721, 11469, 33644, 196, 33194, 47432, 2913, 8951, 42040, 17291, 12532, 40876, 20673, 23351, 10678, 10701, 30055, 49012, 24563, 26863, 2292, 82, 7711, 46980, 5649, 31675, 19763, 47468, 46334, 14582, 9609, 34603, 8987, 49243, 10117, 46898, 3327, 46679, 25199, 34431, 29025, 50728, 9597, 4464, 37959, 8880, 45189, 20973, 43235, 17665, 47761, 45397, 33924, 45324, 32102, 2956, 4193, 8349, 37295, 30721, 34014, 25214, 27897, 47362, 42424, 30288, 39936, 49632, 7205, 1774, 50205, 34998, 50433, 19672, 15571, 1241, 16905, 18834, 25635, 20788, 12117, 23751, 20995, 43594, 8022, 49025, 48381, 46396, 19830, 21449, 48060, 33193, 7072, 34214, 10061, 13713, 1725, 39727, 48477, 21998, 31467, 12555, 41107, 2186, 49733, 25385, 8788, 21594, 30154, 22347, 49639, 4852, 48137, 45800, 18411, 16019, 1086, 23353, 37567, 25080, 47534, 31418, 9438, 22968, 24373, 2453, 18849, 6494, 26106, 43596, 8624, 20702, 24121, 38570, 19204, 27696, 45009, 28798, 29963, 13895, 21965, 21171, 20766, 25241, 21446, 18842, 31320, 33289, 18576, 21252, 1249, 46188, 21686, 6815, 27297, 31421, 4730, 18702, 10828, 26719, 48358, 7812, 15563, 33555, 14503, 45894, 30005, 8336, 34296, 3068, 30991, 11041, 42670, 254, 48487, 18837, 5358, 48827, 18922, 13295, 22759, 31394, 43347, 31576, 41390, 20508, 14490, 25355, 4694, 34658, 34172, 45513, 43570, 37030, 42273, 9125, 16419, 2909, 35625, 43779, 29273, 48167, 11186, 20627, 7611, 43508, 38248, 9870, 37755, 46093, 46963, 18279, 31774, 6605, 25341, 26799, 22502, 6254, 8045, 6067, 27970, 32206, 45665, 13412, 32580, 26862, 181, 36796, 27237, 17865, 34322, 12487, 22232, 45594, 44768, 44112, 20164, 36336, 34427, 41297, 2696, 49071, 23524, 6977, 17936, 50458, 28464, 284, 39852, 42983, 8771, 35665, 32059, 50182, 31815, 23832, 47606, 39239, 40813, 18150, 26641, 1093, 45103, 2760, 379, 15114, 16043, 12699, 307, 21997, 13191, 18801, 6153, 14183, 43746, 45772, 1616, 47924, 16179, 32770, 23148, 1169, 25290, 9664, 17522, 37768, 22470, 2543, 36696, 31710, 14858, 25305, 452, 11946, 49946, 11558, 10861, 20524, 1367, 18124, 34973, 17860, 48964, 40055, 5035, 29335, 46089, 16062, 48661, 11275, 20426, 40922, 7577, 29984, 19959, 48607, 13566, 44292, 44029, 45003, 44339, 46521, 29920, 16578, 21613, 27799, 6177, 26314, 10800, 40626, 4116, 29599, 38517, 23005, 15809, 37463, 24193, 1179, 16311, 26841, 6110, 23266, 13825, 8225, 21024, 43906, 47191, 30542, 49250, 45846, 50267, 8092, 3475, 44243, 334, 32966, 4340, 29995, 26705, 21320, 50923, 15105, 14805, 11607, 45149, 31194, 1224, 3561, 25955, 33110, 5560, 41357, 2483, 33210, 49618, 412, 3811, 1141, 20090, 17636, 32846, 46793, 19921, 32157, 22361, 16249, 18516, 49721, 48682, 16768, 16106, 28547, 38645, 37821, 29424, 9907, 48794, 14266, 13215, 41779, 50445, 19102, 14605, 37351, 36708, 38430, 46890, 2593, 14355, 9566, 49765, 26709, 19513, 42332, 26919, 49414, 3530, 41067, 36720, 47440, 5313, 44518, 20303, 50305, 7110, 35977, 3025, 24939, 25786, 7731, 27081, 7573, 26200, 17927, 442, 32036, 45603, 35154, 33802, 29921, 34966, 13533, 16845, 41190, 28919, 2880, 45735, 46384, 34721, 1425, 24993, 27131, 23066, 15016, 22522, 20484, 20496, 16071, 24791, 41319, 8111, 40170, 22813, 35794, 8993, 41452, 731, 36894, 10944, 36471, 38205, 41581, 45521, 12768, 24164, 7519, 8978, 50990, 27628, 50960, 33975, 37977, 48594, 15189, 32772, 8754, 12942, 24430, 43185, 7022, 13416, 31662, 43751, 2820, 13511, 38595, 21337, 41136, 6112, 38742, 2754, 19992, 24613, 31302, 27124, 39461, 20324, 6762, 3473, 26872, 10328, 48465, 17810, 824, 27512, 25525, 20980, 38502, 41987, 20489, 35081, 27630, 33081, 33400, 49394, 2851, 14472, 17561, 15539, 33343, 17527, 21717, 26869, 33617, 23950, 46671, 408, 23108, 20610, 22995, 32161, 19424, 31408, 21805, 36851, 19201, 26359, 48347, 11889, 16992, 32736, 26052, 20733, 11143, 7988, 47775, 20827, 22083, 25110, 30545, 24827, 33232, 50015, 26345, 39350, 29215, 38145, 36773, 33495, 36366, 1715, 48122, 40908, 48832, 39512, 22201, 21881, 34399, 20088, 26023, 33785, 4632, 39212, 4480, 3048, 4269, 2077, 23282, 45478, 3404, 39878, 45784, 37346, 34614, 36440, 32075, 19680, 35942, 9661, 40238, 30147, 9982, 42940, 15022, 47215, 9466, 20083, 30149, 11723, 43503, 28250, 38918, 34889, 40495, 6346, 12870, 50947, 23606, 22636, 37813, 16803, 2277, 23265, 46627, 5438, 33806, 45234, 30047, 13005, 2582, 3893, 43868, 6092, 18459, 38857, 7231, 20148, 38119, 50830, 36688, 45890, 29959, 18643, 1494, 20750, 48634, 18498, 8708, 38810, 49458, 14977, 22596, 41422, 10454, 23346, 23186, 20391, 43844, 12958, 23299, 16300, 50550, 34201, 14284, 9126, 14507, 22134, 10368, 28741, 4401, 5763, 41592, 1506, 29552, 29678, 34863, 12111, 3991, 1564, 9956, 24204, 31272, 22568, 13316, 6102, 18889, 13622, 45490, 25030, 3674, 726, 21770, 2412, 44902, 44610, 16883, 9108, 45492, 15624, 12509, 40332, 41785, 26987, 48652, 19057, 39095, 35316, 45660, 40911, 6820, 46375, 18555, 42982, 29764, 34875, 45995, 11632, 45031, 29233, 18490, 18270, 32025, 49603, 9066, 33703, 50254, 36405, 3625, 15685, 46143, 46598, 13346, 30944, 7296, 50414, 41254, 19888, 13789, 9980, 21711, 19452, 15239, 30525, 41139, 45016, 36798, 25819, 15381, 17523, 27029, 49933, 31645, 41649, 31805, 42150, 39467, 19197, 25089, 49835, 22142, 39262, 13303, 13965, 5791, 33500, 19010, 29751, 25157, 45589, 34097, 3306, 13170, 27624, 33085, 35148, 46476, 33187, 23903, 15639, 30905, 49063, 16228, 35461, 15530, 28419, 43362, 21801, 1504, 51047, 15793, 48818, 28201, 26706, 20876, 50425, 31647, 29334, 5936, 50164, 21634, 22515, 39522, 31130, 28141, 21274, 38672, 9424, 40509, 40133, 41344, 36699, 23305, 26182, 16089, 37428, 34210, 35796, 26173, 44410, 40599, 40065, 26413, 11793, 16567, 39349, 10441, 11953, 39958, 39831, 26060, 33297, 40462, 29093, 11136, 19619, 41955, 34512, 27213, 19596, 20356, 4574, 23264, 4420, 27385, 33619, 958, 17619, 25260, 40746, 43056, 39188, 37476, 11040, 24513, 44988, 2396, 43849, 36477, 24293, 807, 43169, 12135, 36116, 46960, 12960, 45635, 50240, 39196, 34471, 18311, 226, 10174, 32999, 36149, 3607, 20957, 41070, 26377, 41419, 28494, 17360, 25867, 4651, 788, 18966, 38648, 39009, 9422, 14149, 6962, 4931, 26271, 27613, 24402, 32443, 1218, 26680, 48622, 32307, 33900, 11286, 25573, 11798, 16683, 5766, 21453, 42821, 17994, 96, 42265, 45345, 38463, 37995, 18970, 3027, 20156, 37757, 38167, 30691, 48073, 22852, 30126, 42801, 2106, 25864, 25500, 36273, 25799, 31355, 49353, 5446, 2313, 44145, 23070, 15258, 2066, 24243, 23745, 23495, 23112, 1756, 31033, 35980, 37877, 40689, 25354, 42902, 11980, 29143, 28054, 21838, 27968, 22793, 4822, 24044, 34137, 2197, 31917, 23272, 25811, 20308, 30854, 27151, 44550, 18000, 47284, 570, 11512, 27795, 49530, 15486, 1729, 14023, 32165, 17432, 18354, 44160, 42098, 9893, 36949, 30836, 20605, 1381, 22843, 495, 19919, 26378, 29271, 36275, 4482, 45676, 16571, 17330, 38702, 6215, 14627, 45162, 22819, 8393, 20514, 29842, 25983, 22424, 5383, 36050, 19711, 19269, 46332, 22769, 24106, 32457, 17516, 35937, 49730, 37762, 34069, 36254, 1639, 28510, 11497, 12142, 34560, 48976, 70, 38667, 4180, 23530, 11120, 30826, 44083, 46267, 4202, 42060, 31254, 967, 5158, 47551, 48243, 46696, 2598, 2202, 16975, 34532, 24514, 33723, 15743, 33537, 19259, 23914, 43956, 31952, 27618, 40826, 3673, 49758, 21105, 4382, 189, 17250, 11062, 33979, 6559, 18583, 39264, 29114, 13296, 21040, 37898, 51027, 22582, 13625, 30277, 22461, 4835, 30561, 1357, 4091, 2425, 14064, 29227, 37486, 3123, 41476, 43958, 35524, 22159, 38531, 45704, 3916, 8770, 28960, 13681, 47101, 44065, 19543, 16704, 2211, 7624, 23863, 48254, 50430, 17276, 32375, 41975, 5143, 42271, 10481, 22738, 9542, 45285, 31468, 20592, 6839, 25562, 21744, 19767, 28853, 21813, 2621, 3895, 48049, 40217, 1408, 38182, 14395, 43484, 30266, 13248, 10959, 42692, 31669, 33919, 5459, 46536, 46734, 46395, 38697, 15222, 43531, 16747, 33613, 19169, 30216, 50778, 26273, 2589, 194, 24316, 45592, 25845, 32213, 29714, 14667, 46345, 14703, 16674, 7109, 26452, 46432, 34569, 43034, 9221, 21302, 28143, 41690, 449, 49276, 13518, 31886, 7419, 45847, 21084, 25069, 36433, 20076, 29265, 7530, 31120, 16347, 10636, 31800, 25544, 25956, 33025, 48910, 26195, 22129, 40500, 49438, 42341, 28685, 4061, 35513, 18952, 6638, 18182, 24765, 38745, 42013, 10030, 45193, 9071, 39716, 10282, 31949, 8127, 29322, 1010, 36437, 46778, 41248, 616, 11749, 21400, 2198, 15649, 2199, 43618, 44226, 21370, 39707, 22023, 42394, 28416, 35557, 3308, 37104, 17515, 35647, 21128, 46934, 26966, 12977, 14354, 11210, 36530, 1609, 19491, 16255, 16934, 47128, 22466, 11660, 8520, 28490, 3408, 36038, 43283, 20400, 2309, 15146, 28608, 5603, 5816, 44270, 38550, 22080, 48643, 26450, 47326, 9370, 28281, 14842, 47126, 7263, 13030, 28320, 34965, 13375, 43533, 37113, 10997, 12318, 7240, 50831, 51038, 2038, 35329, 35382, 6204, 43350, 32525, 5062, 47343, 42724, 741, 15512, 3108, 42084, 14197, 9949, 40232, 2364, 22435, 31344, 41465, 21983, 9335, 44681, 41933, 36431, 29675, 29939, 23667, 3595, 8352, 8065, 44714, 5757, 43928, 40102, 3013, 42933, 44565, 5814, 31549, 23149, 27225, 36192, 29432, 22974, 46421, 7864, 33941, 38302, 4400, 29845, 1025, 35488, 25660, 17707, 1995, 8218, 10975, 38764, 39101, 16034, 7420, 13041, 40547, 4265, 26589, 31521, 29065, 47899, 34679, 41988, 41735, 25729, 20257, 7898, 13675, 24526, 43541, 40958, 7361, 46811, 28377, 45209, 21216, 11347, 26274, 9346, 41831, 3929, 15770, 38577, 32996, 8805, 31677, 32881, 18087, 44280, 35443, 23482, 38009, 31510, 42193, 16836, 850, 19927, 26285, 39370, 43340, 30182, 46462, 20693, 32076, 47587, 26202, 9945, 41068, 3262, 50841, 48508, 16651, 47347, 17367, 3504, 39131, 2665, 38664, 46509, 13549, 43122, 3319, 43556, 36838, 3049, 37143, 40607, 39824, 15372, 11276, 30742, 50527, 19803, 47948, 2837, 31460, 41276, 12382, 2230, 50129, 15286, 3767, 44866, 29626, 34771, 29614, 32716, 1505, 30231, 44725, 18109, 11563, 10718, 16070, 38367, 42986, 1818, 44240, 14932, 40827, 20487, 20509, 11101, 22528, 34981, 14124, 44282, 41171, 33821, 39523, 10497, 18147, 37151, 18827, 20545, 25508, 21123, 49280, 47091, 9413, 5348, 2413, 3852, 39640, 22717, 46715, 30340, 2599, 15667, 11710, 1819, 1290, 26529, 13246, 16826, 41269, 49817, 26198, 2228, 48572, 23680, 30624, 12098, 34017, 15194, 41029, 40156, 25524, 27204, 4681, 35970, 46149, 40752, 4333, 7153, 3520, 15681, 34357, 17474, 15232, 33827, 43315, 50752, 35820, 23666, 27865, 5163, 33508, 38004, 26954, 14211, 21857, 46774, 41435, 16000, 1266, 18020, 25774, 33030, 39231, 50624, 19294, 49824, 21056, 41127, 20375, 22242, 35691, 18186, 40900, 50644, 11388, 10733, 20525, 49503, 45738, 29040, 6006, 4916, 5741, 36709, 16730, 34112, 43574, 24561, 50825, 38399, 27701, 48047, 35697, 13712, 10477, 46084, 26620, 20731, 49960, 35941, 43696, 18453, 22786, 47100, 12033, 35164, 39083, 44403, 13854, 40388, 36957, 46437, 34479, 2168, 8343, 48783, 36414, 10301, 42128, 27978, 9909, 26578, 24027, 21560, 12927, 8671, 32737, 1736, 43620, 1779, 15783, 16317, 46754, 14092, 37342, 23892, 16632, 34597, 49836, 15870, 23926, 19309, 45744, 15128, 10272, 11192, 31896, 45041, 23234, 4704, 14481, 20777, 33175, 11851, 5151, 24389, 40444, 36474, 42226, 50635, 6062, 3630, 26849, 195, 28788, 32730, 21769, 46564, 23660, 33109, 34055, 21868, 17195, 39739, 47653, 6154, 40265, 7752, 2109, 24119, 6169, 4812, 13453, 30132, 23948, 4315, 6418, 22895, 29428, 32941, 6632, 39545, 16482, 46663, 30590, 14720, 20886, 34613, 28877, 19225, 38763, 2393, 13559, 4445, 33643, 18880, 35478, 4462, 20801, 37140, 37013, 39366, 22150, 24709, 25101, 26618, 16481, 1434, 35490, 11087, 14976, 21357, 5721, 37489, 42151, 10223, 44839, 31511, 43677, 8248, 31894, 23727, 32235, 25211, 21459, 47852, 51055, 49891, 47634, 24904, 23387, 9860, 47824, 40588, 1993, 19376, 42234, 37682, 15750, 47777, 8291, 4371, 41910, 33994, 14967, 49616, 4274, 12943, 28971, 26445, 32815, 17886, 46237, 8553, 25135, 31512, 4564, 5285, 25388, 21050, 21329, 18103, 35480, 17702, 22870, 48835, 11084, 14568, 45012, 45446, 24325, 18069, 10967, 10915, 44983, 16932, 27480, 7324, 4492, 35222, 33697, 39382, 49073, 21737, 368, 44404, 22833, 46254, 39202, 50697, 19220, 14297, 44204, 48965, 315, 7613, 4840, 16476, 33035, 50476, 7081, 33612, 12107, 23454, 14054, 7906, 36151, 43394, 25703, 41266, 47313, 7314, 10290, 29808, 38027, 26434, 1606, 47670, 29462, 24893, 27449, 1821, 8480, 25878, 1938, 33901, 48108, 21966, 5767, 48159, 19398, 48149, 21954, 35962, 49789, 29054, 41523, 39401, 16023, 46871, 14847, 45180, 40226, 3533, 6722, 15296, 43131, 22376, 38547, 3190, 27833, 21176, 45395, 46467, 6637, 12309, 43255, 8453, 24837, 7224, 27843, 10581, 47872, 22208, 4252, 3536, 14477, 37254, 15921, 29774, 24230, 41141, 27724, 19742, 9402, 14099, 34919, 4877, 17541, 6817, 2569, 30334, 38860, 13270, 19166, 19638, 39150, 42632, 48872, 41836, 33620, 31722, 15947, 12926, 37158, 29392, 24185, 48451, 100, 18151, 31000, 28601, 28302, 24409, 38901, 38180, 35473, 17493, 5231, 17403, 14598, 18946, 18590, 11249, 46242, 33695, 25449, 26183, 49734, 30494, 43176, 24170, 39800, 29240, 3251, 45316, 5970, 12548, 26980, 11441, 28383, 24560, 39941, 14328, 1663, 10692, 2749, 22918, 46046, 4596, 9366, 28818, 360, 15895, 49795, 48375, 43654, 42745, 44856, 31299, 50945, 17340, 42881, 40435, 38202, 47445, 27980, 50871, 46001, 23523, 43540, 41609, 2460, 46644, 27354, 34031, 19371, 40710, 35482, 5576, 45757, 10939, 27679, 38928, 17504, 28755, 19032, 44897, 5004, 30839, 36978, 28856, 2810, 5380, 12288, 8703, 2407, 32706, 13118, 6165, 31028, 38723, 2147, 7200, 8094, 26103, 29248, 37786, 21240, 2732, 14402, 28361, 15045, 24135, 19539, 47885, 41130, 7359, 47621, 20435, 27296, 21848, 85, 40251, 20687, 25518, 44043, 29897, 42183, 33842, 34943, 36008, 6965, 45564, 22576, 30669, 9360, 12197, 36360, 9136, 19296, 48908, 39723, 47577, 43984, 30665, 28747, 3802, 16399, 44908, 41015, 42846, 43833, 32585, 48518, 19906, 50369, 46180, 25822, 15794, 12839, 17697, 14677, 8413, 16032, 39535, 7977, 25938, 4904, 22772, 28946, 43837, 42650, 5956, 2658, 22639, 34277, 35722, 25890, 25674, 45580, 18469, 49586, 49509, 19639, 50633, 42970, 36700, 6316, 31126, 29991, 15785, 47416, 39658, 17063, 7671, 24853, 41655, 11438, 15394, 17017, 20240, 34222, 41386, 23111, 31514, 2632, 18232, 40115, 29083, 8792, 47333, 2284, 50231, 3711, 16063, 39487, 25927, 21205, 36186, 9086, 35023, 21291, 46101, 18626, 11350, 17578, 12995, 44615, 1669, 1346, 39130, 6444, 36214, 4528, 34669, 29573, 49581, 34169, 5015, 1882, 25283, 44434, 27347, 41778, 37926, 3380, 45275, 48484, 16198, 47396, 7919, 956, 39944, 12577, 17565, 44174, 6515, 11903, 447, 25111, 21546, 489, 34353, 17314, 26065, 41500, 44301, 12858, 28470, 6620, 44309, 25148, 18038, 17583, 41713, 13688, 14307, 9773, 32139, 33053, 18148, 46057, 31274, 5847, 2929, 26118, 8249, 21803, 24789, 45762, 43043, 10921, 30043, 36421, 48262, 8954, 35870, 31075, 51024, 34985, 44201, 6693, 42701, 41423, 13301, 48675, 27652, 75, 40613, 7894, 48275, 34575, 14403, 18025, 19480, 40407, 25715, 218, 42019, 4646, 22956, 44544, 50013, 36795, 33800, 20994, 9042, 31508, 27393, 33215, 36845, 43808, 50171, 3614, 35901, 14955, 49338, 6983, 35859, 41192, 5405, 29018, 25600, 45129, 46654, 16601, 49510, 2970, 24156, 11132, 10048, 41310, 12338, 35779, 1947, 27770, 488, 10822, 26246, 760, 31998, 9282, 1915, 19691, 2456, 30304, 11963, 27187, 18245, 26471, 13263, 18066, 45697, 47864, 11926, 20225, 31357, 24830, 44948, 36325, 14865, 36998, 34450, 26615, 43478, 11753, 37780, 39441, 27170, 5177, 33493, 18776, 27942, 9385, 6022, 39206, 13881, 46372, 26993, 14219, 8602, 37864, 30217, 16477, 32156, 553, 31476, 26155, 15507, 4241, 19188, 11643, 141, 4843, 7155, 44323, 30685, 17910, 8496, 4280, 38718, 35780, 34968, 33433, 20689, 36115, 9743, 31349, 42495, 26275, 2844, 18689, 49907, 4706, 33826, 25783, 20212, 15122, 34860, 9252, 12471, 17729, 22117, 46788, 38695, 24579, 13779, 45659, 6938, 44873, 7641, 19041, 30060, 23246, 5834, 14730, 14063, 11024, 6698, 49831, 36090, 45455, 19823, 2493, 31627, 47219, 3538, 13098, 10284, 3115, 41599, 40635, 10475, 41786, 33446, 9411, 31630, 42311, 31352, 45899, 31211, 4545, 23794, 22224, 7008, 48125, 12864, 20430, 51031, 32402, 27668, 6626, 22972, 19984, 31905, 29736, 29064, 14972, 47098, 22624, 51052, 38790, 13233, 267, 45975, 42097, 30638, 10045, 16548, 27514, 14485, 30429, 39768, 2151, 29046, 9873, 21229, 17939, 39501, 10809, 11333, 19287, 18977, 30749, 18131, 24995, 518, 11221, 15590, 35238, 28912, 24761, 44074, 38717, 14946, 7480, 41155, 48404, 11212, 20694, 40057, 22252, 40130, 29601, 47318, 33997, 25027, 9112, 25945, 34576, 48778, 45915, 18741, 19015, 5592, 26840, 30013, 25900, 42871, 39099, 21877, 11369, 27100, 1746, 31942, 46657, 23779, 1884, 43619, 36984, 31081, 22479, 40336, 41731, 690, 12400, 13012, 33745, 42163, 36071, 24191, 25506, 39278, 38131, 28662, 12763, 18606, 36943, 260, 43886, 32687, 32784, 44592, 32173, 12918, 41517, 49590, 44263, 21151, 24065, 24767, 5328, 38031, 30699, 4444, 40944, 24158, 1596, 23635, 38876, 45645, 20789, 45553, 27816, 41693, 38037, 4945, 20844, 29952, 36778, 37662, 19419, 35289, 49925, 38565, 2838, 10389, 34115, 31556, 40443, 12905, 13324, 2683, 22859, 22773, 44643, 25981, 43748, 32099, 36554, 19507, 44628, 19651, 20904, 48937, 30932, 35844, 2503, 39380, 28485, 31553, 48359, 33624, 32042, 2160, 15527, 50539, 44749, 24103, 15627, 22543, 44109, 14062, 20561, 44443, 34676, 38809, 11816, 45585, 22954, 2669, 9067, 14309, 21326, 8641, 6081, 36783, 24444, 29191, 33276, 36048, 39490, 17253, 4191, 13487, 42285, 39086, 35423, 14404, 33499, 18530, 25481, 27986, 42636, 33557, 27778, 36837, 22179, 47783, 40276, 49498, 1248, 27049, 21956, 31616, 37692, 9276, 32524, 27149, 43210, 44961, 29174, 37015, 31959, 23764, 22549, 15192, 9344, 29211, 25693, 31212, 10374, 11485, 50183, 16173, 12441, 49035, 47863, 15717, 7275, 46821, 6715, 25456, 32719, 3989, 21564, 15163, 1240, 42626, 16784, 37174, 3231, 4879, 33279, 39565, 31181, 42877, 13111, 15560, 35381, 4789, 47065, 8757, 22053, 19943, 21275, 6321, 35418, 19558, 16610, 40013, 8988, 20952, 35921, 7069, 12061, 37137, 6757, 15670, 22199, 42863, 43555, 31934, 205, 39439, 1679, 49204, 38941, 32916, 11051, 5507, 11853, 27409, 11252, 15776, 50875, 39125, 26326, 31293, 39469, 2494, 25171, 4089, 34279, 12165, 21404, 34215, 32617, 30347, 14519, 19430, 46631, 43705, 36824, 39541, 29268, 21132, 7875, 6086, 42761, 23322, 24556, 44871, 30447, 6851, 2445, 38083, 44199, 21114, 33131, 6680, 45445, 28752, 27155, 37948, 19139, 15164, 14772, 31176, 45694, 7312, 14459, 5377, 44675, 22300, 4172, 3747, 5469, 6745, 3464, 23873, 13043, 19059, 4504, 38659, 29571, 11974, 25018, 14049, 40314, 48571, 50513, 9672, 18203, 12906, 19186, 22646, 888, 24921, 15554, 2712, 50356, 29910, 6566, 16388, 50625, 37622, 609, 19410, 14397, 44562, 21701, 2588, 23416, 46572, 40254, 49587, 4083, 20490, 10331, 39447, 11353, 8608, 1867, 14256, 19746, 27430, 18022, 39670, 14949, 5525, 5343, 50762, 29531, 44773, 31976, 7870, 19058, 9536, 50551, 47854, 40899, 30273, 42707, 29177, 7040, 17339, 4196, 40812, 20198, 35861, 18090, 43945, 8108, 27332, 47997, 1511, 26484, 24965, 37467, 3166, 19283, 23484, 7604, 3793, 20185, 1030, 11039, 3192, 632, 32256, 27438, 44760, 38549, 42751, 50091, 17381, 34397, 39791, 21450, 32295, 14689, 16181, 34120, 3643, 40934, 23569, 47547, 34781, 39531, 50192, 10654, 38311, 26682, 20645, 31543, 5740, 25267, 39529, 43005, 48458, 1878, 7820, 7517, 26520, 41678, 43488, 18491, 22010, 36791, 17863, 19779, 28921, 14218, 25364, 46428, 21263, 29878, 1271, 27936, 35975, 42827, 27462, 31962, 48104, 4889, 44878, 9053, 28564, 37188, 3593, 26853, 24505, 30100, 31938, 8568, 8800, 10390, 22171, 7968, 32203, 14766, 16835, 23621, 15898, 44421, 6955, 15843, 24884, 5335, 4689, 45484, 5667, 3232, 46031, 2693, 18435, 50543, 26823, 33871, 31991, 35667, 27171, 44144, 19110, 34698, 3247, 42588, 7300, 2990, 11982, 7553, 2555, 22489, 31601, 22787, 13698, 48788, 41451, 16326, 22227, 40841, 13510, 13610, 26075, 3648, 48534, 49424, 28558, 47925, 6488, 37580, 17068, 18730, 17436, 37404, 3345, 39985, 19647, 12267, 15459, 6317, 2214, 45752, 26427, 15906, 44388, 42914, 36992, 40044, 46670, 49948, 45323, 2194, 8828, 32109, 530, 7169, 30365, 20523, 31029, 15523, 20096, 9286, 26746, 38906, 15522, 6824, 17906, 16700, 33112, 19842, 4660, 44596, 12387, 43745, 37604, 24611, 32695, 4721, 10784, 38166, 19808, 32865, 2613, 1831, 40643, 15662, 11198, 24895, 13626, 19267, 4946, 36231, 31688, 17183, 22606, 2908, 26272, 44630, 26059, 5924, 14483, 15237, 31481, 23860, 35907, 5751, 14547, 26458, 281, 49062, 3275, 37738, 13440, 1343, 19616, 45661, 1791, 34199, 40030, 48674, 44837, 704, 46230, 47784, 11167, 12681, 17256, 10552, 32554, 22427, 6705, 44797, 37111, 27096, 12702, 16463, 4106, 18845, 5173, 41118, 18541, 17783, 9484, 11052, 24072, 32613, 31429, 10116, 1406, 30274, 25823, 50203, 22876, 34805, 47358, 41021, 42776, 5583, 47748, 30004, 40222, 4317, 27920, 25699, 14484, 2116, 37834, 38783, 37806, 6930, 49478, 47146, 15458, 3226, 3498, 25851, 34616, 11867, 25994, 31856, 17963, 6034, 28996, 34520, 32769, 46865, 33671, 21582, 4126, 2434, 18113, 5372, 27751, 29108, 20470, 43182, 26537, 39923, 43306, 9968, 44125, 21328, 41472, 18840, 21161, 24033, 32658, 21026, 34413, 2175, 1476, 17540, 23100, 31773, 47562, 40479, 35587, 1171, 46361, 4514, 16647, 36753, 26918, 34672, 24381, 50453, 41829, 14780, 28916, 27731, 20182, 26453, 40209, 7794, 43309, 28936, 30305, 47476, 28239, 43130, 19593, 2902, 3371, 11861, 9105, 35604, 21011, 15602, 36615, 4703, 3177, 16183, 13501, 22044, 27235, 14752, 28974, 12406, 46071, 18716, 12705, 1972, 3867, 48580, 30703, 6376, 3069, 42740, 6826, 48488, 7077, 34098, 47561, 41157, 5284, 7859, 6125, 37105, 12923, 12710, 25376, 47890, 9757, 1844, 22880, 28717, 28278, 45113, 30110, 6525, 1344, 552, 28968, 27180, 19484, 2953, 4273, 10797, 37153, 5083, 7018, 49235, 25379, 21743, 45124, 45864, 4054, 4940, 9184, 28269, 34940, 25458, 45035, 28710, 9442, 10402, 5070, 3334, 24897, 4258, 9083, 322, 17294, 22296, 145, 34183, 34004, 8904, 27114, 47015, 48552, 28046, 14209, 24934, 5580, 47874, 20336, 27851, 20601, 3975, 20207, 25473, 35212, 19117, 23689, 38643, 50072, 34250, 7574, 22097, 38694, 33341, 11426, 27580, 48120, 41101, 47602, 26111, 326, 47867, 14155, 1116, 29723, 9876, 2928, 41941, 46526, 23403, 45043, 17679, 24450, 1538, 20299, 43048, 34328, 35328, 31265, 32927, 31412, 49184, 9040, 26744, 37917, 25076, 4583, 44668, 40482, 15081, 4329, 37215, 49391, 13527, 20370, 43899, 26149, 45212, 18168, 5169, 16009, 23895, 21977, 33120, 46130, 29423, 13799, 27322, 38948, 44296, 46729, 32270, 29163, 29270, 30414, 27928, 35226, 21195, 13031, 27469, 12717, 18893, 45640, 49206, 4693, 39627, 12545, 31008, 36658, 47397, 44223, 21959, 9150, 5957, 27953, 6918, 5472, 31756, 31074, 36235, 3746, 47671, 11297, 47456, 42456, 29362, 4137, 5981, 17502, 35855, 31806, 6759, 11357, 3597, 40608, 21856, 28489, 34321, 13556, 10558, 4958, 26505, 4056, 22081, 12880, 33584, 16264, 5893, 25614, 4117, 44390, 11836, 45170, 16557, 9894, 43621, 49661, 14238, 33657, 7167, 40396, 24718, 15572, 23518, 49917, 5351, 29050, 28401, 34429, 29669, 18542, 31927, 11890, 34819, 46914, 9749, 5391, 46427, 18134, 46051, 33717, 49358, 30270, 44062, 11823, 50228, 14167, 14783, 24602, 39214, 36267, 27331, 37470, 23555, 20878, 20582, 33542, 2681, 18886, 40862, 8028, 41001, 50499, 43598, 12844, 17245, 46184, 39975, 23020, 15264, 11955, 40206, 21793, 8731, 43375, 9580, 2532, 352, 44422, 15402, 49423, 33124, 28305, 49253, 30048, 22, 41309, 30957, 25086, 19775, 46449, 1302, 46849, 44535, 8691, 26494, 10193, 22594, 48851, 11669, 10146, 43205, 3521, 23521, 39497, 39847, 24495, 45604, 50253, 15935, 7518, 32455, 5870, 9541, 8881, 1689, 1837, 15223, 23927, 23211, 42937, 17009, 39804, 49297, 49433, 24327, 38029, 43477, 19113, 50301, 18779, 13759, 4888, 3818, 40629, 5443, 5961, 4675, 32255, 47530, 47130, 9113, 31040, 7378, 14736, 11418, 10771, 13801, 9315, 50173, 15892, 38087, 39892, 42773, 23861, 18638, 46857, 19078, 23044, 45181, 45039, 8518, 12311, 38258, 44563, 38490, 20020, 7909, 36200, 37832, 37320, 39660, 25047, 19299, 10049, 43225, 34537, 41313, 25672, 17005, 34037, 48953, 8469, 36672, 35818, 26585, 38023, 38583, 49788, 10843, 39990, 18802, 26055, 28623, 18484, 16018, 28213, 32655, 46854, 15377, 73, 25259, 10177, 21145, 41036, 12045, 13260, 8449, 50667, 24857, 36438, 22148, 31527, 42254, 48272, 13332, 9116, 32269, 31788, 3758, 15148, 20114, 29758, 12209, 26187, 43643, 47886, 50547, 17235, 21640, 39772, 13586, 1493, 50750, 16791, 39390, 28438, 43872, 41263, 23677, 9763, 47693, 10058, 7032, 49867, 5611, 9839, 39061, 5331, 10243, 4983, 15932, 30156, 14199, 26256, 12635, 18278, 7262, 36627, 48803, 46025, 47720, 47540, 19993, 48439, 32764, 49854, 11226, 7135, 13025, 4351, 18568, 47823, 4587, 13989, 23712, 36714, 8968, 7019, 10226, 10244, 21284, 10009, 40579, 6101, 19587, 48242, 23681, 1082, 8432, 37513, 19044, 654, 3073, 44576, 27702, 5668, 4901, 41504, 27314, 18787, 2204, 35264, 34204, 49529, 17792, 5233, 29341, 30492, 12748, 26029, 2668, 13584, 901, 42389, 19976, 19351, 41561, 35180, 26141, 38786, 23878, 8905, 48500, 39919, 31876, 36290, 24040, 15186, 48582, 11380, 258, 4096, 16258, 22846, 47026, 44067, 49769, 7079, 29753, 43847, 47323, 29206, 48118, 17123, 2671, 35674, 50736, 6455, 48464, 29645, 15428, 23084, 20527, 40704, 43911, 43558, 49469, 11054, 8382, 41223, 12320, 32237, 11153, 778, 2551, 48584, 43848, 27681, 35193, 20061, 37218, 35580, 27191, 17908, 48267, 32119, 14073, 17646, 35309, 28600, 31368, 16511, 38597, 6804, 47641, 40071, 7208, 31231, 47045, 31350, 46408, 11337, 9906, 46836, 3735, 30235, 16380, 49427, 43753, 39474, 8268, 27672, 43534, 9918, 47380, 45850, 28891, 29015, 38071, 48996, 1283, 12449, 42511, 21206, 48897, 21821, 44799, 5170, 49304, 15604, 11310, 27466, 1541, 15312, 35790, 23372, 16451, 43778, 26752, 35574, 13564, 139, 28424, 39376, 41757, 21889, 16734, 32826, 4864, 50658, 11673, 6400, 33339, 33734, 15355, 26050, 25696, 9152, 26218, 35087, 3037, 20451, 40918, 36752, 45726, 27631, 27023, 41793, 50255, 18480, 26092, 1014, 46339, 18226, 1126, 16988, 17826, 42770, 46354, 29990, 695, 7587, 40803, 18758, 191, 46506, 34230, 30117, 22467, 45493, 10371, 31541, 16044, 4576, 14386, 12272, 8362, 12317, 28560, 35160, 24586, 35411, 17749, 7551, 40307, 33662, 7075, 38660, 39425, 30790, 24510, 31026, 46945, 38602, 5121, 5289, 13350, 1007, 13414, 48505, 24925, 19701, 39183, 32412, 2592, 19047, 41220, 47116, 11072, 47167, 18580, 2715, 20453, 47699, 16234, 26146, 46621, 15682, 4708, 5539, 6857, 22874, 14300, 7634, 31427, 50987, 18155, 33864, 16910, 46503, 19556, 25958, 25120, 11080, 3079, 32675, 36960, 45642, 42882, 43338, 20716, 13793, 3944, 4334, 35944, 18501, 30922, 18052, 19570, 7103, 4956, 29037, 26043, 49232, 17392, 38676, 30517, 48980, 47437, 3699, 38682, 18377, 13241, 44055, 49226, 12394, 7856, 6730, 27678, 42596, 28885, 24012, 35687, 22791, 10428, 48172, 1673, 37964, 34224, 49341, 14686, 26889, 18950, 10763, 38185, 28937, 747, 30226, 10293, 44163, 26807, 43877, 32382, 16778, 40361, 7612, 29622, 9314, 19857, 29556, 50854, 22538, 17200, 32821, 28958, 6532, 31446, 28846, 22958, 39500, 2055, 31448, 15914, 33040, 29237, 5889, 659, 21508, 22019, 28446, 29667, 37225, 30637, 30746, 23075, 8417, 23528, 31744, 16407, 39323, 48110, 31039, 14338, 26265, 34134, 47429, 2898, 18881, 1515, 35265, 42835, 23795, 45958, 7017, 26735, 36033, 6783, 14711, 37458, 21162, 10125, 37774, 28749, 7196, 50337, 22269, 18043, 22423, 17410, 4961, 22610, 46936, 38304, 33738, 45468, 19253, 40340, 20574, 42250, 26288, 2162, 28513, 38320, 39058, 27938, 37461, 1945, 27202, 23236, 3653, 29619, 43125, 43752, 26629, 15030, 26892, 44165, 3790, 32537, 36904, 50703, 14235, 27144, 42493, 28358, 10647, 16800, 30978, 45853, 45064, 21879, 25527, 25382, 49543, 38193, 6879, 1626, 32886, 2941, 30091, 21064, 35878, 10653, 15178, 3046, 33065, 24132, 14896, 23228, 21749, 31758, 17589, 9960, 916, 18761, 6399, 7065, 7849, 34680, 31709, 16949, 19445, 11368, 10516, 4577, 22457, 16823, 46446, 17012, 31690, 30711, 24181, 40460, 22728, 12151, 33039, 6014, 6683, 23440, 24312, 18533, 3741, 34978, 40016, 2881, 11579, 50041, 6872, 47573, 49570, 10440, 24645, 23143, 30532, 48619, 12457, 12399, 37711, 43566, 5488, 1568, 3236, 36089, 36525, 16086, 13389, 14535, 29336, 46731, 3292, 11945, 11228, 41159, 18034, 49150, 8696, 29879, 7680, 41765, 29759, 39968, 35643, 31154, 272, 32118, 32811, 37949, 32921, 50609, 48834, 20895, 20555, 34523, 9522, 10405, 42214, 22566, 17111, 50610, 49296, 44211, 14129, 45168, 11764, 25503, 33410, 32546, 26454, 36001, 44472, 15887, 43922, 45216, 41332, 34029, 9012, 14432, 18788, 40366, 23928, 23082, 29196, 29332, 4635, 24977, 39520, 13275, 44935, 9838, 49536, 15963, 2127, 28998, 6840, 87, 38874, 4006, 51056, 14775, 24779, 2417, 49371, 12796, 23171, 33473, 46260, 29894, 20843, 6982, 19138, 5524, 45078, 39194, 43452, 9279, 22247, 9073, 50323, 44640, 9219, 11455, 38479, 13444, 9222, 11703, 642, 27700, 25251, 6371, 24296, 22741, 24621, 43695, 32672, 41322, 26123, 38045, 8912, 15890, 19339, 9665, 41644, 15849, 38503, 10057, 10316, 32187, 9101, 45898, 42936, 27152, 25209, 30692, 15701, 25661, 11774, 1531, 24927, 22935, 38834, 33506, 19322, 3384, 37121, 8075, 5661, 35341, 28017, 49004, 23110, 34281, 656, 22651, 27240, 16250, 3994, 3694, 42380, 25206, 8351, 33935, 23385, 12463, 34748, 49738, 40774, 19325, 9288, 8921, 6554, 29565, 28128, 46102, 44516, 11077, 10645, 17761, 46215, 14566, 46287, 21882, 37240, 11555, 35083, 42779, 43453, 2557, 46680, 12507, 1235, 29823, 12762, 46371, 47351, 12275, 5319, 40437, 31925, 14004, 41565, 46619, 39700, 44077, 36269, 24662, 13507, 16453, 14966, 36536, 42531, 28880, 31836, 11019, 31209, 17388, 30384, 29402, 41401, 4166, 44711, 48068, 45705, 18616, 2785, 21281, 4201, 39681, 18867, 45421, 35623, 29964, 13671, 6397, 34136, 2499, 33083, 25447, 11681, 38000, 45126, 15120, 43769, 23608, 777, 1614, 32582, 41913, 2226, 22524, 4893, 9603, 49953, 42419, 18318, 24596, 17273, 45178, 5823, 26610, 9060, 35383, 35070, 7048, 15900, 49714, 40939, 11071, 35910, 48867, 36051, 4055, 25663, 49325, 39548, 37509, 31398, 12896, 18064, 20938, 33353, 8062, 39287, 25654, 25191, 19896, 19973, 45708, 30680, 10993, 44835, 13939, 9097, 16909, 43506, 24620, 7867, 3429, 18362, 45309, 37992, 17018, 9986, 9771, 6717, 25340, 10295, 48058, 36568, 32612, 10980, 5734, 22765, 16332, 10877, 7941, 28729, 8072, 50064, 46000, 17576, 40020, 6948, 26825, 39318, 3296, 47193, 40178, 25477, 9643, 31335, 42567, 39788, 23043, 25732, 27894, 10670, 2166, 30791, 19012, 44503, 2750, 31089, 122, 854, 48950, 22363, 18275, 23001, 43094, 20112, 5896, 31297, 38960, 34099, 24396, 47821, 47843, 26375, 17661, 28534, 4914, 2790, 17098, 35785, 14621, 6846, 31986, 17634, 13902, 32185, 37808, 1108, 44698, 38494, 13931, 34757, 40814, 24978, 25357, 30071, 4787, 19109, 10690, 5479, 5373, 9818, 39610, 36504, 34645, 42140, 25427, 49228, 10391, 5471, 7766, 2301, 42777, 34529, 43289, 7620, 25550, 156, 9720, 3707, 9595, 17701, 4892, 13718, 21558, 39814, 43007, 1585, 43678, 16998, 49093, 505, 38484, 29838, 44093, 30510, 28005, 27925, 50338, 30118, 23866, 19447, 35300, 23717, 38169, 7916, 40224, 43884, 19391, 27399, 19418, 23144, 37101, 44944, 43804, 11693, 44801, 17789, 21633, 4065, 3710, 30551, 22915, 37441, 9205, 26465, 33173, 39702, 40996, 9793, 47241, 9990, 7704, 41414, 43402, 28982, 35208, 10716, 38911, 19086, 11330, 39498, 34841, 48679, 27716, 19915, 35874, 39493, 45343, 36895, 32665, 47989, 39104, 39368, 11269, 31305, 42085, 13192, 1992, 41624, 25856, 24436, 62, 32986, 24543, 29824, 19827, 10494, 39197, 1770, 33255, 33057, 12913, 49418, 19250, 47939, 46271, 29538, 10602, 47756, 4855, 44459, 21385, 8119, 6054, 43571, 31461, 32066, 25953, 40098, 35248, 37861, 11898, 9965, 23160, 29961, 32680, 9791, 6986, 31334, 38652, 14855, 22673, 23547, 3836, 21871, 37039, 28624, 39755, 47957, 46466, 8286, 6544, 25031, 29657, 36196, 710, 6050, 11414, 18644, 37379, 44382, 30503, 40719, 38751, 33597, 28289, 32343, 26960, 38863, 32264, 10027, 32407, 594, 22849, 13084, 50026, 40625, 44667, 10904, 24188, 38713, 38681, 3887, 25077, 47424, 47923, 39444, 1662, 3489, 20057, 6023, 34541, 37976, 1676, 8676, 33726, 23767, 16563, 28693, 5073, 9667, 17459, 43777, 49068, 25633, 20419, 42169, 10348, 10949, 19070, 29311, 7214, 794, 14359, 33661, 32928, 43971, 18331, 32689, 43260, 28736, 225, 45606, 4211, 31435, 14145, 31899, 18058, 29380, 9246, 9970, 32180, 41769, 14840, 43994, 43296, 46178, 21791, 29282, 38849, 36407, 21169, 47685, 22172, 34057, 37697, 30531, 48031, 1520, 40581, 453, 5063, 19815, 24815, 38991, 18250, 36361, 25935, 15637, 24917, 18116, 14277, 7315, 16077, 23662, 104, 22955, 40640, 34635, 9104, 37987, 4430, 13971, 32189, 23476, 49477, 31831, 33106, 8936, 27667, 8120, 41909, 37514, 29733, 35850, 17962, 36339, 5214, 3032, 36822, 28985, 466, 3294, 8484, 34289, 12966, 34331, 20882, 26369, 30687, 40205, 12409, 19413, 41964, 28610, 46038, 15573, 28169, 30603, 860, 38431, 46219, 21784, 25281, 12508, 21322, 21990, 41312, 16522, 43854, 34106, 15199, 6601, 3899, 45748, 1183, 24731, 12278, 2294, 5841, 28602, 26946, 5602, 22629, 41382, 25627, 3725, 39338, 30729, 6742, 15754, 35009, 29220, 29884, 19536, 2640, 35021, 4293, 19277, 36738, 46542, 41586, 15494, 7481, 14854, 21472, 14530, 5047, 4213, 45731, 40008, 18819, 46757, 7389, 27794, 11603, 40498, 33438, 25342, 44185, 48130, 34558, 27779, 20912, 11768, 14924, 30873, 3594, 50419, 38139, 9100, 17616, 8684, 1811, 33149, 20863, 32513, 7304, 31020, 5494, 15353, 36121, 14478, 11299, 3257, 17473, 40018, 6363, 25330, 3030, 43981, 15657, 44998, 16755, 10024, 5387, 344, 14116, 15100, 50384, 7756, 15495, 37407, 28786, 35385, 41324, 3450, 11274, 10341, 32527, 42428, 39301, 40633, 15216, 2475, 15263, 23301, 33492, 38153, 11682, 34728, 33364, 24910, 31217, 47112, 35275, 29063, 34548, 13745, 15589, 696, 20901, 6452, 26861, 28874, 8007, 31763, 14777, 43117, 45622, 29588, 20405, 31500, 39088, 45732, 35477, 14178, 18719, 17867, 48139, 37670, 27752, 50619, 41381, 29460, 29222, 44483, 17954, 40521, 45120, 43774, 1880, 18406, 29131, 37876, 38295, 27974, 41711, 35026, 29937, 44466, 49663, 25943, 3507, 26037, 32489, 6510, 17458, 42980, 14958, 28911, 7699, 40631, 6899, 33647, 47250, 47722, 12737, 2254, 43603, 33545, 9732, 48207, 13251, 23797, 1042, 1017, 43346, 48460, 13144, 37838, 41604, 28064, 48680, 48003, 10974, 25299, 11235, 32657, 24728, 10132, 5460, 21513, 42712, 11645, 7682, 3198, 9689, 12946, 45944, 49167, 33951, 14560, 11373, 48833, 11770, 26337, 31698, 30989, 6048, 29136, 34933, 9760, 12853, 38099, 48732, 12169, 34873, 48723, 7876, 24422, 7033, 8156, 1163, 43543, 23519, 7031, 44435, 5117, 38830, 4071, 814, 37884, 34959, 38949, 13126, 12393, 35803, 29594, 21530, 27809, 16381, 1701, 45091, 27450, 15203, 17766, 26409, 15288, 21638, 33636, 13678, 41142, 18487, 47851, 43866, 3654, 9469, 9280, 18088, 2002, 8962, 3510, 44786, 43690, 14818, 14247, 28390, 24057, 28636, 30757, 27016, 23318, 46675, 12915, 25132, 47501, 34109, 42231, 16653, 25879, 10181, 26692, 6701, 15003, 12204, 50759, 44966, 45109, 41191, 26645, 27148, 49007, 37446, 3422, 39294, 48333, 20778, 47433, 15356, 37157, 25862, 7068, 18143, 1085, 1103, 4374, 9405, 42743, 27593, 37777, 6944, 4722, 22073, 36152, 37434, 30450, 31652, 43322, 28288, 17799, 35498, 29368, 19603, 24920, 910, 2565, 37438, 29090, 46618, 45139, 41502, 3271, 35956, 3541, 34107, 48315, 8458, 16695, 30552, 41710, 25762, 19404, 49896, 50538, 40979, 19284, 16941, 39224, 30165, 33879, 8358, 21870, 5282, 2842, 14521, 22796, 33908, 15862, 948, 7557, 12324, 2321, 28255, 1158, 22474, 36258, 29975, 32796, 25306, 37985, 43998, 36092, 15788, 35055, 6278, 33820, 24286, 7834, 36859, 9599, 43863, 21354, 8251, 18903, 26864, 50767, 33012, 40374, 23811, 7866, 1922, 46464, 909, 26941, 17349, 35698, 10395, 8900, 35846, 7323, 4131, 38288, 17953, 4244, 6498, 47951, 29690, 23675, 39952, 39559, 35276, 25106, 29080, 13360, 8000, 23599, 26500, 23226, 40733, 691, 846, 32837, 10067, 22396, 29105, 50236, 15882, 30808, 50374, 27933, 16611, 1038, 30440, 29536, 8441, 46661, 3532, 7795, 50629, 19810, 39746, 37630, 31595, 17115, 7719, 16288, 23682, 8552, 38738, 9654, 12988, 23544, 1446, 46868, 33749, 5977, 8445, 11325, 48232, 5194, 33725, 40131, 5478, 7349, 17945, 2626, 26469, 39974, 41393, 4199, 20692, 20013, 48136, 17771, 35253, 15171, 38040, 30920, 38954, 35708, 1536, 25718, 22771, 48678, 22314, 1480, 36601, 47353, 41879, 4555, 14362, 7020, 11830, 2102, 6016, 20709, 28223, 3485, 42080, 18133, 749, 21507, 38397, 36190, 13002, 1501, 28290, 43668, 34261, 18128, 13614, 38093, 35191, 9666, 7782, 40220, 502, 22556, 42973, 36905, 30387, 142, 45982, 11006, 13717, 21706, 14075, 3433, 10084, 14723, 15188, 4734, 17817, 31950, 19461, 36908, 28191, 31765, 45119, 22302, 49687, 38966, 13165, 44890, 2385, 10832, 13339, 27264, 50466, 12019, 44495, 36170, 12063, 5514, 33637, 2239, 3960, 16293, 3923, 10730, 25074, 33881, 34193, 31197, 24624, 43744, 7360, 4509, 22263, 12128, 9765, 24016, 3106, 28929, 2441, 25919, 33291, 50031, 6702, 4339, 49944, 17871, 22416, 10518, 1653, 33843, 38105, 37683, 3390, 50773, 45655, 27896, 19569, 33172, 11304, 28930, 19712, 25061, 44525, 47879, 13888, 25852, 13735, 41167, 25186, 50261, 40420, 18808, 18102, 36221, 1574, 31391, 33751, 32278, 16585, 7446, 39146, 4078, 1286, 47203, 43923, 40965, 28669, 27568, 30574, 13176, 40904, 42124, 30700, 1961, 18620, 8744, 43794, 49061, 31066, 45871, 25795, 15067, 15131, 27783, 17275, 18061, 46912, 49877, 23309, 14343, 3318, 803, 14763, 35470, 9472, 43152, 32241, 15994, 12093, 25855, 44415, 15252, 31600, 46076, 40952, 19901, 24032, 44537, 46233, 18032, 35043, 43231, 39696, 25441, 14080, 28596, 20271, 31287, 106, 3455, 48842, 8960, 233, 14970, 42154, 34407, 24238, 47609, 366, 44650, 36853, 43968, 25468, 36869, 19007, 14850, 45536, 30651, 50514, 24701, 45366, 30581, 11089, 42286, 24275, 21810, 45318, 9061, 42422, 17614, 33272, 670, 17503, 40590, 32712, 17756, 18987, 16114, 39645, 42441, 11688, 41618, 27159, 6842, 33014, 27548, 38064, 47862, 30929, 36799, 36690, 18266, 37177, 40159, 3039, 25059, 12807, 19377, 43898, 16197, 39134, 34738, 24795, 36704, 10586, 24268, 33239, 33044, 9919, 37741, 17073, 49991, 6124, 20288, 34452, 25868, 25066, 22949, 25669, 23706, 4532, 930, 14706, 38172, 43582, 48819, 13835, 50139, 40335, 43719, 39625, 22539, 44694, 35027, 13359, 20981, 45148, 7318, 23190, 50404, 17896, 40738, 45582, 8909, 29606, 35738, 18284, 6825, 31625, 36967, 7829, 35810, 29789, 16762, 6920, 30747, 43011, 44852, 33219, 49565, 7330, 5512, 25151, 27208, 41194, 14940, 37424, 48418, 14655, 43612, 18513, 34063, 49111, 38787, 33523, 46708, 23799, 26194, 13483, 13554, 36844, 47010, 17923, 185, 24263, 20597, 37183, 23814, 43321, 3672, 35040, 38546, 24342, 50924, 33525, 37817, 5988, 14799, 35682, 35755, 40850, 17230, 23218, 6338, 26517, 32477, 33653, 28296, 16933, 42235, 8083, 676, 7920, 2196, 11081, 18461, 33847, 47656, 39165, 20412, 8333, 22783, 12241, 43590, 44771, 21394, 2516, 2449, 33140, 15497, 49534, 15955, 51013, 30668, 17997, 42452, 28380, 21814, 3523, 26014, 19392, 25643, 17723, 10173, 32006, 1608, 33090, 16792, 34394, 11181, 2068, 9610, 31498, 25108, 5381, 44352, 36383, 8973, 45116, 34826, 41773, 27238, 13105, 17418, 2185, 11564, 1773, 12361, 32358, 15172, 31513, 2563, 33494, 19005, 17966, 33071, 20799, 6150, 29201, 27759, 6553, 24912, 5588, 48239, 20544, 884, 36733, 36306, 28099, 18980, 16057, 20289, 5427, 7180, 8310, 24719, 3705, 22826, 36385, 16382, 26125, 46756, 13548, 20256, 50383, 46614, 30189, 23941, 16623, 32565, 19524, 2739, 46223, 15153, 43103, 451, 47247, 41446, 40589, 13907, 10429, 8861, 33072, 27563, 37172, 41434, 37086, 30138, 44019, 12900, 40043, 48697, 10412, 30359, 2058, 50113, 34844, 35897, 24697, 43725, 25873, 10182, 38283, 23212, 34871, 24141, 10640, 39273, 13194, 35221, 4775, 41548, 40136, 50994, 47519, 38467, 10983, 46340, 49185, 25497, 3163, 5423, 7067, 5096, 4073, 12552, 8192, 37371, 23201, 8920, 33771, 19262, 7770, 10052, 2491, 46544, 42514, 32463, 2917, 7432, 18577, 43664, 12206, 55, 47419, 27003, 17800, 5969, 22016, 13890, 40916, 45727, 43960, 6852, 19257, 9520, 10961, 26554, 6694, 12321, 389, 7396, 46738, 18570, 11545, 45742, 14826, 26561, 6097, 44212, 7814, 25828, 37296, 46091, 44877, 24623, 27975, 20992, 49964, 12485, 46208, 33621, 50353, 47504, 24980, 7543, 34459, 2891, 3383, 1864, 37923, 3235, 43162, 12082, 35424, 20408, 16216, 7061, 13879, 35294, 20258, 37846, 25360, 20678, 14831, 16942, 33459, 27827, 42840, 45766, 17422, 18853, 29159, 35358, 36715, 27269, 17968, 48116, 25587, 38094, 43423, 23818, 10665, 46539, 2699, 43201, 25016, 1840, 16248, 4439, 7042, 37546, 137, 43119, 30171, 27501, 49966, 35547, 45596, 19092, 31885, 2655, 21118, 16297, 37475, 30280, 9473, 24883, 12153, 28918, 39693, 15460, 39692, 25001, 43709, 35705, 4290, 32240, 34921, 2642, 36896, 46551, 18222, 48197, 6953, 33378, 37373, 24730, 26175, 8177, 9421, 34291, 14193, 11415, 8558, 11813, 11214, 6381, 16272, 24322, 38038, 16608, 44660, 30607, 7513, 14137, 30910, 20087, 21939, 15418, 41958, 22712, 35800, 8385, 2904, 38837, 18483, 41119, 47538, 47811, 1527, 5593, 14366, 16930, 894, 47028, 44992, 4667, 47883, 32869, 19608, 19200, 5979, 25636, 46487, 48368, 36815, 20424, 41031, 8342, 11079, 16414, 2045, 34489, 29316, 40737, 18216, 37550, 31546, 44383, 50698, 13123, 32936, 31199, 8967, 17101, 11776, 44979, 41412, 1326, 48455, 23371, 38477, 32170, 12349, 17649, 40741, 37587, 22924, 11977, 4378, 42731, 47148, 36532, 1741, 45304, 2610, 41607, 14302, 21054, 51006, 48816, 41514, 7840, 14100, 39971, 5913, 31404, 47377, 23478, 11640, 20997, 23734, 49753, 18057, 18336, 43813, 34559, 10808, 48891, 49551, 17935, 515, 34982, 30380, 18184, 44887, 32458, 12477, 30911, 1149, 5590, 25321, 23909, 20110, 19855, 12059, 20848, 29636, 11316, 9993, 56, 45257, 47943, 44818, 9092, 16325, 49602, 47688, 2004, 2014, 39385, 21656, 4012, 24824, 11909, 39105, 33448, 40728, 37506, 48591, 22730, 10018, 47332, 14585, 2513, 46513, 46959, 30141, 40079, 9096, 14115, 467, 35570, 15099, 30514, 2714, 38255, 28016, 4272, 14334, 39976, 23336, 43472, 47721, 50381, 37223, 35673, 9317, 11886, 29314, 46807, 18839, 13519, 14345, 11907, 15926, 29886, 2187, 15382, 10484, 49883, 12680, 45848, 28049, 6781, 35284, 49491, 40471, 19668, 36676, 26965, 9714, 46388, 45761, 32009, 815, 33280, 7715, 49125, 50677, 12586, 2143, 38341, 16735, 882, 42166, 10628, 47953, 50344, 14502, 38097, 48205, 18603, 18467, 1, 49979, 41533, 1275, 921, 5486, 32148, 36191, 18456, 26771, 40454, 13607, 37119, 7761, 36683, 14531, 1076, 20579, 42101, 9695, 28774, 19444, 47976, 36107, 7660, 499, 20564, 40085, 32876, 35631, 41963, 46473, 20812, 31331, 17695, 24811, 47346, 17211, 23918, 47596, 7751, 14830, 37364, 47636, 27599, 44437, 2137, 37485, 21585, 8201, 4621, 43234, 6924, 40815, 17912, 294, 40779, 42431, 18673, 34380, 21986, 30446, 17188, 32146, 34176, 26768, 26942, 34487, 19297, 19422, 43386, 6456, 45796, 39266, 5519, 35472, 18403, 29043, 38012, 34674, 49231, 48142, 19635, 19330, 26871, 26459, 12134, 40847, 43376, 2528, 9119, 17846, 46335, 31438, 18080, 1534, 9544, 9531, 47410, 40854, 29056, 22885, 596, 3775, 39557, 43835, 33983, 27645, 18589, 26678, 27873, 37672, 48756, 10848, 37980, 8817, 2963, 6811, 44674, 20647, 20954, 19955, 37361, 25396, 31223, 15565, 4332, 30812, 12949, 12005, 25719, 45681, 32472, 43583, 21330, 9931, 24689, 2859, 25866, 38574, 7421, 25708, 24763, 24746, 42094, 37660, 28096, 26832, 26496, 25512, 34006, 16529, 25612, 27435, 50219, 50900, 35230, 23405, 5695, 45831, 8846, 21665, 276, 48550, 23646, 3738, 40649, 10956, 5897, 12986, 37292, 24600, 25453, 45198, 49067, 1153, 50745, 44946, 35349, 14224, 39864, 45218, 27038, 26116, 10539, 13703, 48981, 39921, 19132, 36930, 26058, 33755, 50730, 17913, 47558, 47198, 22904, 25332, 44778, 14223, 6265, 24136, 15310, 2061, 7771, 5425, 34886, 19891, 32048, 34920, 36989, 35672, 40423, 25278, 19659, 22440, 23055, 19483, 17096, 23175, 20570, 29257, 43881, 3465, 12536, 8849, 1569, 12208, 24410, 19276, 45483, 9844, 45464, 18937, 39199, 21227, 9556, 49088, 29951, 7245, 48789, 45228, 49622, 35917, 28671, 11797, 43766, 15443, 40069, 34540, 20667, 19300, 50922, 33372, 24831, 39940, 35313, 33559, 10003, 43565, 13605, 10397, 30469, 17824, 10550, 20319, 48517, 12247, 35201, 36946, 41373, 18307, 41924, 16588, 30783, 13020, 21015, 18239, 32268, 1761, 24911, 32499, 37667, 41636, 603, 40642, 10210, 11250, 30673, 49172, 6003, 39984, 4143, 3920, 45267, 40956, 7054, 49635, 9739, 31737, 28804, 50883, 9973, 38262, 28626, 10207, 5932, 40792, 19476, 4678, 19291, 32072, 26972, 20988, 33672, 47163, 37392, 39041, 46480, 3386, 44318, 21885, 40110, 23790, 43100, 7272, 44411, 18708, 33790, 17293, 39924, 35089, 48671, 36305, 21181, 47296, 37972, 4993, 6592, 11474, 30162, 30178, 21226, 45947, 27878, 13225, 6528, 20898, 47395, 31308, 44120, 35815, 35683, 46717, 9148, 4062, 14876, 29030, 11872, 37942, 2067, 11828, 19840, 38782, 9139, 34799, 29822, 49465, 14489, 21772, 2994, 41213, 32659, 26553, 41743, 31459, 23905, 42917, 4234, 11986, 43762, 1403, 38125, 39359, 14318, 36015, 30798, 37078, 41037, 49897, 2597, 39399, 38332, 32765, 29041, 29702, 41039, 6896, 2007, 37634, 41424, 50753, 8364, 46957, 40292, 19991, 10273, 35566, 477, 40010, 39198, 24462, 43456, 9977, 7295, 10750, 38452, 8989, 44776, 26527, 14732, 5842, 11361, 32221, 36019, 31504, 16769, 36430, 26741, 20494, 37227, 34143, 45921, 3017, 18494, 17159, 12468, 40641, 24031, 44548, 39397, 20325, 7271, 29168, 30317, 12175, 14789, 15542, 21624, 31918, 27337, 19887, 3568, 44239, 24101, 13672, 3265, 20232, 11045, 48059, 16726, 43997, 41287, 30014, 50232, 42607, 19683, 50540, 22901, 17257, 18892, 4831, 18999, 19926, 2684, 29057, 1481, 48633, 7552, 40234, 15275, 46064, 40901, 40286, 29875, 30936, 34066, 12912, 41657, 42896, 40185, 44926, 36903, 8964, 17417, 21223, 40181, 7937, 9082, 40297, 9891, 19087, 18869, 45131, 42622, 37652, 5765, 49402, 38068, 16066, 38773, 16392, 44096, 14394, 24647, 17660, 50905, 45515, 28137, 14992, 7461, 5500, 25387, 23592, 43028, 25394, 9767, 37824, 27909, 21473, 40871, 31213, 12948, 15229, 5441, 32854, 31636, 47614, 13851, 20459, 19177, 33033, 32740, 13461, 17833, 46213, 51057, 47829, 28792, 12863, 8997, 36631, 35121, 1778, 32378, 9910, 1384, 46041, 29091, 48114, 33912, 37633, 19388, 19710, 7789, 24748, 424, 19142, 46275, 13019, 44759, 13253, 37696, 13484, 45865, 47288, 49837, 11675, 6457, 33386, 23452, 20108, 27294, 38198, 20398, 31946, 28023, 43151, 23804, 30424, 19756, 8826, 872, 1648, 37492, 8418, 30487, 38630, 27570, 25582, 2780, 23127, 41555, 20903, 7742, 24240, 35622, 25757, 5213, 38060, 44736, 17715, 43862, 15202, 49171, 37559, 24497, 41936, 13577, 32093, 45242, 19769, 41149, 45079, 23458, 3651, 49340, 44534, 640, 19917, 1949, 39614, 20084, 44880, 13617, 4998, 11493, 9032, 6697, 14584, 5978, 6144, 43002, 21113, 10688, 45932, 24740, 44931, 44978, 25024, 27456, 25397, 20042, 44333, 38808, 5183, 16390, 31692, 37601, 10892, 22975, 7903, 33694, 43983, 8293, 39079, 28447, 27860, 48400, 36441, 3809, 15397, 49548, 21973, 42212, 48432, 41519, 11287, 18019, 46985, 39938, 29190, 37790, 5811, 24931, 19591, 34528, 28739, 24174, 48644, 18174, 36924, 33571, 21728, 13379, 39715, 18267, 21399, 12809, 5660, 48958, 10565, 32656, 13715, 43330, 35693, 47004, 40771, 44898, 2702, 30389, 24843, 32766, 21153, 43610, 49685, 5220, 51001, 35207, 31383, 576, 47339, 23283, 19697, 8539, 50106, 11149, 37281, 36242, 39980, 17986, 8685, 33, 32302, 5118, 31416, 2773, 33865, 21901, 15474, 16706, 43741, 24932, 22007, 8112, 20363, 42146, 29162, 27406, 50273, 32744, 18407, 41763, 1175, 39411, 10646, 14006, 21552, 41215, 45498, 22287, 2180, 48294, 37473, 8344, 11355, 10541, 44386, 42342, 48376, 29157, 38698, 40409, 5534, 14549, 42243, 11676, 36150, 43333, 44747, 3249, 16844, 419, 14823, 32934, 39851, 46615, 37378, 36561, 36391, 21766, 37617, 49803, 11174, 29275, 32266, 27259, 8907, 21519, 28848, 24043, 37499, 29602, 44921, 35173, 46381, 7863, 9521, 5378, 9853, 48020, 48577, 38781, 39714, 41366, 14785, 33852, 13985, 29446, 28356, 10534, 40317, 50757, 15703, 47025, 36179, 41437, 33976, 45636, 24234, 13419, 33927, 4606, 46350, 27463, 20332, 22952, 43710, 49000, 10017, 27439, 10123, 692, 50820, 28900, 46728, 13308, 7252, 3366, 30837, 32860, 17385, 45849, 3883, 23671, 35001, 29019, 38134, 42913, 37961, 50552, 48322, 14733, 23792, 36432, 18094, 18642, 30728, 1853, 30257, 11345, 11358, 44117, 30131, 47088, 47741, 33326, 8581, 29708, 24445, 13650, 25514, 4662, 20722, 15408, 23229, 7578, 23512, 39228, 4275, 35414, 36217, 13259, 48829, 46099, 42985, 9634, 50412, 24597, 48595, 21435, 28668, 30945, 8766, 12440, 47009, 24972, 31326, 18985, 39970, 34506, 32359, 33489, 31010, 10200, 49026, 116, 5198, 3459, 15479, 13300, 9008, 25184, 29320, 11801, 43698, 3658, 13632, 27161, 6928, 36282, 10566, 22321, 41478, 47709, 27849, 39121, 36344, 23974, 7734, 24894, 46052, 30625, 41945, 41977, 45893, 44237, 7362, 30701, 3054, 24983, 38310, 39148, 11409, 49865, 47875, 47859, 45390, 1205, 15629, 13115, 25516, 5259, 21763, 35078, 16346, 9374, 22869, 5431, 37842, 28397, 15277, 25997, 35965, 12369, 30068, 2742, 49707, 37353, 4648, 29836, 20374, 5338, 32955, 24002, 27991, 22676, 49101, 5274, 39954, 33335, 20201, 4718, 21248, 47291, 50352, 30901, 3462, 7024, 11169, 41347, 39530, 25804, 18592, 29251, 20253, 32793, 3372, 3662, 14705, 46210, 25096, 15633, 10506, 19864, 9245, 47180, 12065, 41456, 11344, 42748, 27888, 40726, 22817, 3112, 4288, 2044, 34708, 3437, 13850, 22898, 33186, 16846, 2886, 27329, 13188, 47407, 47669, 2173, 2518, 35303, 11247, 699, 44260, 13496, 26672, 24225, 215, 26644, 37720, 17232, 50038, 21053, 30550, 2248, 22118, 48994, 4543, 12640, 39226, 36544, 5315, 2611, 30588, 10778, 44343, 38446, 30123, 29738, 19068, 17494, 19566, 8976, 38811, 43526, 6499, 14784, 50863, 2110, 50575, 43415, 27725, 24960, 18653, 21742, 12000, 11117, 50117, 28969, 28750, 50597, 728, 41484, 44981, 22202, 33840, 4643, 395, 49221, 9532, 3813, 1697, 38356, 77, 16709, 47047, 30436, 39375, 2259, 43644, 15635, 20023, 47820, 3238, 31395, 27796, 103, 39468, 28142, 12653, 39312, 46508, 1925, 36161, 19517, 29095, 3582, 6593, 14118, 19228, 10202, 31668, 939, 46949, 17836, 11755, 20857, 26400, 42978, 21586, 15248, 4912, 44834, 6093, 23016, 22169, 44346, 11421, 25164, 22829, 43635, 40887, 20887, 10783, 43670, 47789, 19799, 42824, 34793, 28369, 12739, 14288, 33883, 2031, 43378, 31370, 43952, 43017, 10247, 8486, 17258, 13668, 15764, 49952, 26970, 14516, 45457, 40124, 1530, 23195, 19759, 50145, 13887, 26282, 23514, 28707, 40857, 4944, 11144, 21257, 3528, 37275, 40394, 30411, 31720, 9391, 36546, 48686, 30577, 49262, 31115, 47806, 1484, 7036, 14666, 12634, 7257, 37583, 21937, 5967, 14939, 48601, 33271, 16112, 36599, 44229, 38065, 15133, 18291, 47184, 9588, 3603, 47772, 35354, 1441, 11960, 48341, 38296, 44940, 41258, 17891, 4344, 47319, 32097, 20578, 4421, 4899, 39606, 1442, 38504, 23636, 14962, 41339, 6300, 21953, 28961, 24021, 9381, 29154, 29488, 7780, 19764, 35788, 3763, 26820, 7575, 4139, 14520, 33851, 34990, 40562, 41875, 30741, 21863, 5860, 32578, 19542, 36629, 38890, 49885, 16486, 46665, 41796, 49398, 513, 41137, 50167, 46048, 37875, 42927, 45715, 17323, 32435, 25238, 31562, 25109, 45783, 23339, 26783, 4768, 28910, 761, 28973, 7643, 19331, 43895, 15812, 6816, 14894, 35362, 2646, 39866, 2290, 49239, 13767, 3617, 39396, 24202, 6098, 19627, 22871, 43874, 19899, 347, 3979, 49567, 2858, 25648, 32760, 47157, 5589, 38507, 38666, 31024, 36195, 29780, 23897, 16425, 25744, 30602, 43604, 38121, 39667, 41240, 47077, 7239, 45164, 46120, 45069, 21897, 42563, 39518, 14117, 33032, 37788, 46516, 40319, 26805, 49903, 11288, 633, 20650, 15826, 49451, 2245, 22211, 45741, 17889, 36416, 14388, 4022, 9602, 31725, 36750, 9376, 26943, 16493, 16723, 49583, 3482, 3061, 14014, 30393, 11487, 12273, 12422, 4408, 46347, 34175, 3968, 47571, 41840, 24907, 6790, 15995, 27421, 48727, 37069, 10056, 40050, 21454, 21521, 20161, 43246, 37907, 14684, 17191, 928, 28122, 30887, 36358, 8789, 40775, 4939, 5511, 35024, 32198, 33846, 25362, 448, 1763, 47696, 4593, 30866, 45938, 30891, 21016, 50843, 24360, 51003, 10090, 19153, 8713, 31631, 14447, 28697, 20718, 48213, 19734, 28166, 23276, 45527, 17798, 2227, 32521, 50563, 5269, 26397, 44709, 29950, 50092, 6548, 5570, 18679, 9673, 4657, 14076, 37538, 31251, 26830, 49237, 15470, 15821, 39465, 17926, 5902, 43920, 44701, 36566, 15147, 31827, 19614, 32386, 35431, 4696, 4207, 7710, 2890, 9811, 30582, 21189, 47263, 5730, 23435, 45097, 47283, 3255, 40212, 27423, 5551, 32035, 30683, 13796, 19027, 24368, 3107, 12886, 41717, 20045, 7832, 13064, 31965, 45169, 15467, 2871, 24260, 37858, 10943, 20038, 16359, 4259, 17951, 21740, 8992, 47521, 16056, 46537, 40157, 19159, 44158, 15196, 41891, 19677, 32823, 10299, 22426, 47755, 17972, 48785, 26166, 8923, 7582, 12729, 49493, 40984, 2430, 24715, 20039, 36888, 44379, 26463, 38213, 26233, 20008, 15393, 22289, 8516, 44665, 18728, 41558, 46436, 20011, 33674, 14422, 8646, 31387, 29570, 34593, 8565, 551, 286, 28314, 27079, 23223, 9915, 27020, 32857, 20060, 49557, 47427, 3506, 18586, 46749, 19989, 18455, 28451, 36591, 33056, 31142, 42700, 11763, 36081, 49442, 34318, 48632, 34346, 28103, 23716, 47946, 1155, 3854, 32892, 15616, 35323, 18387, 21158, 28129, 22189, 7798, 20823, 25383, 13266, 28030, 45869, 32121, 43692, 47274, 18067, 12891, 19675, 45526, 14377, 805, 27590, 3664, 46062, 20421, 31936, 9274, 20580, 9567, 31989, 1814, 32078, 12568, 27651, 9736, 5366, 12337, 46284, 19185, 23778, 43640, 40216, 32850, 17920, 46182, 9540, 24519, 523, 44302, 35017, 16719, 26974, 46173, 34082, 32080, 6859, 27788, 7148, 15046, 13323, 34240, 19316, 39449, 27604, 31719, 23949, 3261, 34196, 23868, 7390, 6993, 9240, 19093, 15466, 40878, 50407, 35325, 5202, 42655, 30984, 16473, 8821, 45916, 44257, 28769, 10383, 9914, 45350, 29752, 4302, 5955, 32545, 29700, 31283, 36122, 11864, 50480, 39187, 7220, 17411, 2362, 35843, 9137, 9534, 47259, 49094, 5672, 41943, 50075, 33556, 32694, 49266, 1274, 30170, 49032, 27748, 5470, 487, 9509, 11716, 23566, 19617, 11103, 17499, 22965, 50140, 33394, 945, 20869, 17868, 43328, 39607, 1469, 6483, 41355, 4647, 11913, 30114, 30378, 32427, 2094, 14374, 36251, 36831, 25539, 41821, 12910, 16069, 31116, 42161, 40476, 17150, 49612, 23567, 15949, 7806, 18202, 9620, 7459, 45856, 44348, 48820, 30951, 32292, 43584, 17221, 6785, 38562, 47778, 13420, 36899, 29082, 15093, 178, 47825, 19938, 25743, 6688, 35051, 22751, 32020, 5049, 22385, 28845, 18803, 48235, 27676, 16444, 42168, 28112, 45210, 31926, 50481, 18703, 21952, 1887, 1473, 14587, 36289, 22101, 30391, 3008, 17067, 15011, 48813, 2019, 33142, 38762, 50682, 49154, 21340, 12437, 38720, 6274, 13790, 31617, 4125, 47759, 7335, 2209, 14401, 5012, 45965, 32761, 49460, 18953, 45839, 14856, 11404, 47402, 45489, 1787, 23488, 25713, 21491, 16968, 12832, 4407, 39981, 11807, 23534, 45435, 38883, 41621, 3063, 45534, 48245, 27324, 42423, 27134, 39566, 26664, 19495, 46191, 29110, 20711, 1813, 10254, 39695, 2576, 20939, 35608, 48750, 35640, 45081, 7188, 26904, 36490, 22464, 28268, 4224, 39307, 29977, 17654, 37164, 30320, 40112, 33522, 7686, 32789, 8032, 16624, 41708, 29099, 26577, 7899, 4671, 12325, 12138, 14950, 30861, 13371, 28713, 15909, 7656, 6677, 5882, 21629, 45533, 7836, 50296, 3376, 18125, 19945, 8512, 27717, 890, 18306, 5245, 22586, 11808, 40244, 38731, 17489, 6987, 26389, 43522, 35111, 28357, 33283, 6445, 12042, 15098, 28321, 13535, 8341, 9218, 48022, 18104, 47816, 33062, 36664, 30535, 20168, 27270, 20710, 31172, 12222, 23849, 14937, 17651, 48530, 8999, 28546, 25619, 24115, 49840, 16274, 36718, 41537, 33457, 5146, 10252, 2190, 13382, 14159, 10222, 9574, 41860, 12610, 42322, 24944, 33295, 25224, 19026, 19379, 2278, 19191, 27793, 33533, 18872, 33434, 28408, 21410, 31091, 2650, 33363, 37740, 1803, 18096, 26784, 29987, 31586, 31377, 17876, 5447, 10836, 42825, 38460, 27762, 13058, 14810, 22536, 7043, 9656, 26953, 2358, 9304, 13102, 12162, 27074, 47206, 38532, 33551, 38170, 33810, 25012, 5754, 18437, 14973, 38665, 14179, 18259, 36650, 19760, 7902, 17054, 40645, 40913, 1759, 28349, 47422, 42753, 41980, 26968, 47804, 3623, 43116, 37515, 31591, 47712, 23194, 2965, 7638, 21397, 24127, 4395, 16828, 49343, 18866, 22675, 46767, 50050, 6513, 13738, 22966, 34881, 11211, 8595, 10815, 14529, 16313, 30851, 42609, 46315, 21285, 41801, 20967, 18347, 6669, 20244, 14493, 8981, 3830, 19610, 27012, 435, 34582, 3949, 14978, 16555, 48972, 1641, 11814, 41075, 15787, 21031, 47143, 24372, 49303, 42338, 31759, 26402, 48741, 41416, 35076, 30135, 46611, 33020, 13033, 27939, 1766, 48413, 15142, 25255, 16245, 4500, 28373, 40236, 42898, 43577, 46844, 24221, 26870, 22593, 40882, 3722, 6577, 9464, 34370, 40179, 2279, 21353, 14998, 42472, 18500, 44894, 14999, 20493, 20503, 5966, 40229, 28491, 41106, 15628, 37272, 48054, 26718, 9621, 15844, 10360, 26935, 48667, 41981, 33990, 11837, 369, 3742, 32859, 35135, 46881, 9070, 50101, 15070, 2818, 6256, 30544, 43716, 31874, 12430, 29077, 6627, 24189, 12535, 39321, 4346, 8412, 17345, 46442, 46879, 9959, 10792, 46813, 51046, 36394, 34089, 36789, 37631, 25695, 14051, 49757, 8750, 6777, 40612, 41027, 35103, 20793, 18263, 16972, 9674, 30224, 46140, 10642, 25805, 30496, 36848, 10002, 38, 33154, 673, 20657, 1826, 1124, 49518, 35112, 50424, 23884, 32129, 7004, 27268, 11479, 16424, 33362, 906, 15741, 35677, 16447, 26836, 41403, 4994, 30018, 42016, 37542, 25142, 26054, 18707, 21710, 6651, 4428, 31653, 43897, 39534, 49115, 41932, 38130, 12624, 29634, 24050, 11796, 9698, 16690, 44619, 40310, 10571, 24023, 30681, 36878, 32492, 22390, 28571, 35634, 42121, 45254, 15976, 38360, 33926, 42274, 13343, 44402, 23854, 22987, 39511, 45909, 1728, 39455, 41371, 21486, 14216, 44026, 31058, 49258, 42828, 20989, 12841, 8383, 45903, 15726, 21193, 44644, 24805, 6221, 41756, 38414, 13542, 16187, 47462, 45739, 7976, 31490, 3284, 3954, 40167, 48561, 46496, 36369, 809, 18574, 19508, 45419, 48942, 38492, 6568, 25731, 6068, 26753, 22719, 43054, 31583, 41823, 31079, 24095, 19380, 24817, 17693, 19280, 34474, 40436, 10140, 16121, 47682, 6560, 48079, 21815, 47603, 9284, 26694, 13217, 29003, 43970, 7610, 48266, 20169, 36395, 9686, 5780, 31329, 30888, 7291, 9321, 13984, 50241, 330, 8047, 41274, 40478, 20947, 16017, 43910, 16223, 39943, 4455, 13594, 47499, 29352, 26495, 49799, 3708, 13741, 47074, 10303, 11188, 45779, 1601, 3397, 49208, 16465, 15369, 39888, 43003, 28015, 8202, 25584, 22981, 12798, 887, 44235, 33238, 27637, 9371, 30321, 17698, 42336, 10982, 6709, 15478, 21992, 4902, 36265, 35926, 16804, 34801, 25213, 12519, 17691, 39895, 40869, 6865, 17853, 10831, 32303, 36420, 27168, 43976, 31996, 44377, 6968, 37310, 40844, 47767, 45262, 11634, 40981, 22108, 32373, 31832, 23059, 46669, 7522, 22294, 27386, 5998, 36691, 17850, 37329, 42806, 26286, 15209, 11074, 32159, 40617, 37034, 28765, 6665, 42324, 3320, 47959, 28843, 10054, 43930, 36397, 24070, 21393, 41695, 39237, 39585, 10676, 26560, 11522, 19545, 34782, 4168, 30324, 29960, 740, 28979, 15535, 34770, 22641, 21698, 40615, 33678, 14410, 49726, 34697, 31957, 1032, 30493, 14112, 30718, 4248, 28944, 10380, 32977, 8301, 21839, 31256, 45703, 25010, 29020, 18666, 29213, 30993, 50721, 8450, 12855, 25771, 19990, 46107, 4093, 43638, 990, 43124, 31738, 3185, 16996, 21360, 8755, 20483, 13448, 24348, 43172, 4324, 30354, 16231, 5600, 36435, 23729, 5673, 14738, 15919, 8833, 14983, 49712, 16142, 5846, 11937, 22714, 12101, 23835, 43325, 48179, 16450, 42015, 12584, 39822, 8476, 41282, 7602, 10668, 47627, 26181, 13593, 863, 19399, 46505, 18160, 45569, 24298, 8363, 28858, 28280, 24914, 41208, 32553, 30372, 29068, 9075, 28121, 5160, 42373, 50215, 5476, 4697, 48984, 17117, 30059, 19571, 47739, 48869, 46578, 35553, 26906, 35288, 6849, 7560, 50576, 37260, 26666, 12637, 34768, 17685, 41670, 26874, 43404, 16503, 30557, 18553, 32745, 32056, 9802, 37852, 33078, 46893, 4349, 32691, 8185, 41867, 49179, 46642, 27962, 9227, 8389, 44266, 49332, 28271, 35902, 29682, 12734, 9913, 36065, 29212, 3331, 27530, 15138, 17597, 37258, 38923, 23073, 10971, 41552, 49180, 28435, 38299, 22806, 24572, 23311, 32763, 45918, 4406, 20696, 40003, 8701, 40378, 12012, 31232, 20742, 40301, 31778, 20861, 1994, 2365, 3191, 10922, 23848, 31364, 45403, 11378, 8834, 29847, 43988, 40323, 41702, 30124, 40470, 6949, 45508, 579, 30087, 3718, 39186, 43894, 48578, 24442, 18047, 856, 13046, 45227, 2923, 1087, 45556, 33706, 38380, 1244, 16167, 19390, 50010, 38938, 46426, 10459, 48467, 11098, 18981, 22961, 32400, 7147, 9681, 32801, 38499, 38506, 49134, 26736, 23924, 43499, 39408, 25078, 21806, 33573, 709, 28813, 17174, 34794, 1851, 124, 32595, 39108, 1092, 10155, 25885, 26548, 29145, 35948, 32788, 27166, 14779, 26657, 44784, 34874, 27606, 37286, 28647, 26097, 48301, 8517, 27107, 13528, 9583, 24192, 44695, 23549, 48701, 37710, 3100, 20094, 48174, 40793, 14399, 26258, 6710, 8260, 9347, 34567, 10280, 44375, 11922, 41953, 22093, 45469, 34009, 47282, 28909, 21526, 22238, 26958, 27448, 49393, 50495, 50761, 46599, 8758, 35350, 26107, 6943, 26403, 24134, 42014, 16914, 9929, 3157, 40747, 27315, 6238, 19770, 19233, 21366, 41364, 28266, 24203, 10436, 13336, 41038, 24528, 23525, 25390, 13744, 24872, 50276, 32849, 19784, 21137, 4155, 29522, 45192, 5679, 23099, 43634, 18180, 48543, 14036, 36763, 23315, 33227, 2098, 5999, 42024, 25653, 17812, 13049, 8157, 36518, 15204, 16885, 49462, 10755, 44414, 28825, 43421, 7619, 36482, 36707, 47060, 2787, 21755, 30285, 49798, 48718, 13430, 14434, 28855, 32028, 10500, 5997, 42964, 49023, 36635, 8711, 20738, 5327, 18070, 25798, 16841, 23116, 4341, 25687, 37050, 10491, 3364, 10005, 42845, 27111, 7329, 26852, 23219, 17752, 18083, 50915, 43075, 42617, 15151, 13663, 32324, 37850, 27382, 27174, 11070, 10568, 6143, 10158, 23885, 47329, 49755, 43093, 13908, 12039, 47633, 39780, 18855, 39642, 6108, 34114, 38330, 45429, 9951, 7355, 47536, 8269, 3453, 12226, 31117, 6219, 991, 25190, 22923, 4792, 42454, 39488, 33266, 35319, 21955, 11572, 36496, 39386, 31257, 186, 40525, 17080, 48520, 24950, 8699, 27499, 46144, 48660, 4034, 849, 36142, 43559, 15792, 31121, 8710, 29530, 4626, 19213, 43361, 43132, 1035, 41979, 12516, 49934, 18729, 42817, 35449, 50331, 10141, 32777, 21222, 48438, 19772, 43792, 50281, 11066, 26519, 46416, 41676, 43887, 44157, 46310, 4861, 41923, 40980, 41499, 40753, 40677, 17965, 31735, 25197, 50594, 45937, 32679, 18325, 50161, 38521, 40488, 15818, 41729, 40702, 9858, 37142, 37919, 28058, 13456, 18556, 43485, 41270, 16405, 49191, 40549, 24664, 45291, 29775, 3776, 6079, 36303, 16728, 35654, 29116, 8220, 25414, 8809, 34632, 36873, 41206, 671, 42360, 12003, 28186, 10522, 39925, 47858, 2448, 5937, 5862, 47496, 30983, 13096, 24270, 43329, 18607, 7838, 6521, 10732, 19821, 14392, 43713, 27395, 7716, 27739, 36493, 20548, 14751, 5702, 21703, 7458, 35945, 40515, 4688, 15014, 44553, 41147, 47893, 13959, 24527, 23907, 3098, 10426, 2178, 33163, 37093, 944, 19843, 38943, 50726, 35356, 21051, 12646, 46301, 26323, 12390, 8270, 40295, 41114, 38950, 43447, 13701, 7014, 50107, 34182, 25042, 32199, 4, 41507, 9482, 31392, 26010, 4235, 1221, 31847, 42543, 21690, 42339, 31975, 46033, 33543, 17745, 12677, 32248, 39543, 40591, 17278, 5376, 5306, 26982, 18201, 19107, 12968, 10947, 2692, 21306, 6892, 10868, 10080, 34505, 27055, 36898, 41028, 6075, 29796, 17725, 11642, 27579, 8195, 3918, 34685, 36775, 14915, 30066, 25075, 25442, 1166, 28617, 35999, 50850, 16560, 1262, 9204, 16206, 7340, 32939, 35203, 45293, 34219, 50422, 34284, 49523, 35716, 220, 42834, 31007, 40294, 51014, 25569, 50572, 19983, 45380, 26624, 9828, 30351, 24168, 24400, 30740, 15960, 37543, 15591, 50462, 15213, 28568, 35595, 47444, 10589, 40552, 19156, 11644, 31999, 8666, 30046, 21641, 31868, 11646, 47776, 25753, 46356, 14875, 33517, 42875, 18004, 234, 19552, 48766, 48102, 33357, 1292, 16521, 1213, 10000, 35176, 26627, 18441, 12633, 19944, 10219, 26179, 29521, 15463, 9974, 20172, 20919, 21768, 28800, 45353, 26584, 4257, 41044, 8883, 14643, 7057, 35721, 25918, 25640, 278, 44614, 39289, 17126, 30704, 8837, 2600, 43972, 5430, 5341, 20806, 8564, 45561, 35540, 14290, 37349, 28454, 14793, 7824, 23380, 46413, 14349, 16564, 40211, 30197, 9436, 5105, 33413, 36099, 46079, 23463, 3500, 11938, 14633, 40884, 45410, 20476, 16290, 14863, 15226, 18238, 50676, 48308, 43237, 10470, 39063, 34100, 558, 35989, 43389, 15417, 25647, 13078, 20638, 20387, 20034, 43913, 35762, 416, 1805, 36523, 37390, 40190, 12188, 31923, 50685, 18998, 31951, 7492, 42547, 45695, 42578, 27866, 46861, 2105, 32534, 5705, 35868, 46245, 50673, 29033, 4471, 38407, 49200, 11447, 36934, 37339, 45042, 18687, 18750, 33330, 5420, 12761, 6340, 34888, 43224, 4463, 27250, 1733, 10408, 12043, 38947, 30180, 8970, 4736, 270, 1407, 3778, 19155, 11551, 49958, 49723, 41124, 3172, 12868, 32134, 43429, 24802, 23874, 10708, 49223, 50197, 8566, 6881, 42196, 27842, 11223, 37975, 18048, 1421, 35940, 30715, 33917, 33156, 21085, 1389, 7248, 42230, 11954, 5416, 42853, 42075, 42296, 10779, 21938, 40801, 50816, 1306, 50157, 49293, 40149, 29060, 30688, 28670, 19625, 18355, 43302, 49767, 27619, 27179, 5558, 9065, 4750, 42899, 10549, 44236, 3570, 32961, 39286, 22452, 6557, 42523, 48716, 14675, 18930, 47941, 34327, 30404, 34570, 28063, 8979, 23460, 43047, 36473, 17113, 44969, 42197, 39877, 10044, 9336, 29181, 2675, 48099, 26650, 37653, 23271, 33204, 19312, 38127, 19628, 16012, 15735, 21854, 5176, 45032, 43953, 11745, 14445, 50593, 27856, 10762, 17947, 8658, 24276, 382, 32434, 29646, 18528, 35053, 37627, 18086, 26885, 35854, 25288, 4082, 15580, 133, 13900, 22910, 19307, 39966, 6829, 19947, 16976, 42678, 26879, 38967, 35880, 20479, 18209, 2779, 19818, 20782, 35332, 24026, 25568, 16099, 42506, 32408, 4505, 42042, 9230, 9655, 12501, 34072, 13026, 42409, 23982, 12203, 17370, 21452, 30943, 5100, 960, 7367, 6337, 37561, 33007, 37333, 28101, 17187, 49155, 41216, 46612, 10078, 49441, 23252, 33600, 50318, 25563, 34651, 8390, 47275, 11605, 47815, 1632, 4190, 6678, 2148, 28551, 13407, 13914, 8647, 31025, 16432, 2200, 8505, 24670, 544, 2809, 11859, 47330, 18419, 37491, 3423, 45926, 24793, 15052, 33766, 23963, 35471, 20255, 19573, 50210, 45040, 37135, 26412, 21217, 6854, 13038, 48687, 43297, 8254, 15297, 40551, 37017, 8404, 18768, 9940, 8490, 42096, 3552, 34233, 13784, 31135, 39699, 50912, 23325, 23307, 13619, 41740, 24117, 32149, 44336, 22835, 50821, 5435, 50652, 3842, 22996, 42615, 11490, 13958, 44891, 33936, 43400, 12201, 17622, 17308, 38339, 14373, 41841, 39811, 37382, 8773, 20491, 17331, 1755, 3645, 7146, 45047, 5368, 47454, 15267, 34654, 22967, 40946, 35543, 39127, 9178, 50601, 36771, 30918, 4941, 21767, 8369, 10443, 8350, 48163, 11294, 11008, 44376, 10723, 42108, 30065, 9459, 21297, 36524, 11290, 10695, 13021, 38747, 37387, 5144, 1133, 3749, 37675, 18499, 49967, 3457, 43611, 46165, 9584, 19548, 35799, 33630, 11319, 2799, 28050, 18345, 37639, 28621, 44648, 37195, 14130, 4875, 36969, 40380, 21623, 46274, 14781, 17743, 11282, 21596, 38240, 33036, 32331, 35467, 4829, 25422, 18294, 42207, 21432, 39862, 30597, 17784, 31956, 44976, 9535, 12994, 18782, 43494, 735, 7816, 14333, 13975, 46299, 5604, 38107, 45638, 23270, 24551, 31224, 15340, 9526, 22017, 639, 45123, 41438, 31238, 39617, 48448, 48930, 19606, 2559, 883, 42185, 41298, 7936, 39272, 42191, 6313, 32504, 6934, 3170, 38902, 41218, 9476, 19557, 27277, 45237, 31537, 22411, 35851, 19780, 36638, 48429, 24178, 49141, 6145, 41331, 49031, 29338, 40962, 48127, 8038, 31275, 7269, 30635, 38108, 47868, 8961, 41100, 29024, 2397, 33309, 26212, 45701, 22637, 2384, 44909, 34123, 34958, 32993, 47141, 15680, 50899, 742, 35581, 17102, 49540, 39853, 28428, 48560, 45330, 39618, 3882, 46134, 6699, 27255, 19345, 23981, 9724, 8712, 41658, 24259, 7204, 32852, 10634, 8576, 1222, 7202, 26084, 18314, 27090, 44332, 49994, 34759, 19682, 50303, 5093, 35711, 33449, 5531, 40503, 26536, 8752, 23047, 41811, 20229, 52, 31180, 12073, 33328, 47260, 20409, 22309, 3859, 35776, 38555, 20872, 23251, 25014, 46870, 12696, 11329, 40415, 36597, 11575, 22008, 23071, 27336, 13873, 26896, 26812, 28283, 32908, 11561, 37869, 4727, 42426, 34179, 49550, 5638, 44400, 43049, 16896, 44017, 40034, 49112, 47151, 342, 5191, 12724, 29340, 12167, 43163, 18856, 6894, 1140, 35102, 23287, 45505, 32817, 1435, 9576, 17402, 6946, 18701, 24936, 39948, 27284, 39635, 26140, 24425, 2326, 1600, 30817, 6188, 9215, 42538, 14927, 10801, 16298, 41725, 4452, 46716, 4898, 22262, 46232, 12062, 40879, 61, 49759, 45740, 40540, 37965, 30521, 15832, 4695, 9746, 36966, 44100, 32031, 32947, 49203, 4636, 1982, 28652, 47120, 22246, 16306, 34235, 36020, 41241, 24147, 33578, 27919, 37206, 6246, 29590, 30534, 10874, 39013, 30726, 9688, 41221, 15648, 6689, 29656, 38879, 4673, 45101, 23383, 998, 37004, 11515, 49472, 50729, 5906, 13294, 49241, 17335, 12113, 5946, 47434, 37238, 10683, 13773, 47565, 20113, 27267, 32272, 26787, 6119, 9149, 6789, 35010, 9953, 47842, 48395, 29750, 21334, 3117, 24418, 47515, 17618, 48129, 42317, 10352, 50774, 21468, 44291, 11780, 32071, 47832, 38997, 12935, 36872, 11359, 29188, 34497, 19205, 35189, 40452, 46337, 11300, 12840, 44214, 4149, 7664, 15176, 43675, 11735, 44832, 37721, 29011, 48012, 3851, 11374, 32322, 49425, 3855, 3492, 36502, 39053, 30482, 24570, 7548, 237, 37668, 24472, 19318, 10650, 45538, 37793, 41268, 33582, 8138, 31337, 46909, 37715, 45886, 5739, 2270, 48485, 42232, 37221, 33805, 41492, 29503, 4297, 37960, 9281, 43432, 27145, 2639, 41421, 44912, 23527, 7689, 6576, 19567, 7510, 15457, 36075, 4287, 50503, 6925, 31596, 14263, 6266, 26197, 33992, 7087, 42486, 8738, 18302, 39591, 36716, 26898, 22278, 35781, 11000, 43810, 7100, 37082, 6088, 15886, 22131, 22163, 11021, 36272, 20972, 49790, 3616, 18527, 47545, 361, 49812, 14926, 46789, 11878, 33606, 9157, 6085, 46892, 26419, 48940, 17991, 24636, 15933, 23955, 14603, 11527, 36682, 46637, 48850, 50804, 46156, 26317, 48240, 46994, 49764, 38885, 45347, 16233, 50616, 18479, 39875, 42895, 50093, 4979, 18358, 16707, 39417, 50758, 8858, 21413, 14220, 33757, 38961, 12598, 21071, 20404, 2756, 36367, 32751, 12668, 41040, 16174, 14993, 16171, 35145, 30221, 43465, 19189, 10935, 50074, 28291, 22691, 575, 19273, 50618, 22459, 16096, 8786, 1342, 49187, 29638, 15140, 29308, 44632, 24482, 19714, 35620, 35739, 49566, 32688, 9337, 30463, 31052, 40174, 18361, 49810, 34379, 29000, 7615, 868, 28082, 5129, 37872, 46993, 42525, 4246, 38725, 40053, 14198, 41234, 40565, 30543, 5126, 15603, 18145, 41165, 407, 6998, 35943, 36355, 4025, 26600, 36891, 5473, 24562, 42728, 3110, 22992, 12078, 9892, 30815, 41601, 24703, 6159, 28367, 36938, 31384, 6656, 42305, 9162, 20607, 24053, 18326, 24217, 5694, 13899, 27041, 46398, 27819, 29238, 33074, 7418, 32277, 37451, 38707, 14166, 20661, 38700, 42532, 38469, 42416, 20331, 36481, 5851, 34315, 5068, 9467, 23605, 48516, 167, 18129, 31929, 30583, 46492, 1003, 428, 32353, 42910, 49485, 26963, 34617, 25593, 27032, 23419, 14991, 42292, 46306, 22998, 38651, 3734, 47252, 34812, 28072, 45682, 46610, 131, 21505, 29367, 20191, 46360, 16703, 33907, 6162, 22379, 38734, 25131, 43223, 27775, 36356, 11346, 19918, 14391, 29846, 937, 13032, 27099, 43937, 31152, 32003, 23364, 37085, 42714, 14086, 26456, 31660, 21925, 16600, 45372, 39879, 29359, 46083, 1738, 4427, 42407, 636, 1053, 9367, 27837, 12170, 43467, 7165, 11656, 45070, 42799, 24762, 27118, 26199, 138, 13051, 50070, 7287, 40714, 35517, 37487, 11570, 18418, 22963, 32242, 44651, 38691, 19782, 5124, 28611, 48433, 12182, 23846, 13961, 17982, 24881, 35969, 18971, 24371, 45587, 6250, 1809, 42364, 7236, 25913, 27468, 23328, 22282, 3413, 35213, 39620, 2711, 40171, 17037, 8683, 17987, 28928, 50237, 29224, 20569, 33731, 25832, 34979, 39170, 40367, 16429, 48043, 7957, 50686, 43395, 46984, 8575, 15936, 30686, 3059, 4530, 44364, 22505, 49742, 28899, 9006, 48535, 51016, 16843, 13121, 497, 33147, 39043, 12408, 941, 7706, 18234, 42219, 37874, 11105, 24665, 23235, 31204, 14813, 37945, 6657, 21595, 29297, 20535, 39683, 15441, 9118, 32930, 28306, 50346, 21764, 1472, 19474, 43734, 6719, 40534, 28676, 46817, 15078, 34157, 44000, 4453, 46640, 4468, 8727, 2868, 5971, 14802, 32945, 128, 21943, 3589, 28727, 35155, 25226, 20668, 38176, 1269, 39951, 41378, 23198, 39880, 8604, 27564, 33306, 21002, 3801, 23263, 33716, 49660, 25737, 33623, 31282, 44746, 35853, 18850, 48140, 1590, 5243, 20250, 20577, 4814, 9776, 5954, 21934, 14833, 12481, 43104, 49910, 47121, 22840, 41115, 19777, 5537, 19406, 1136, 33019, 27753, 43360, 50999, 11892, 50073, 529, 28440, 40339, 23254, 12037, 40545, 21371, 30693, 29688, 36603, 47541, 49686, 25501, 10001, 12270, 36624, 12972, 15409, 43040, 12446, 1066, 10594, 39393, 40605, 45525, 35727, 12754, 41715, 14959, 23692, 22140, 16285, 16412, 11730, 13893, 6425, 36049, 35318, 31519, 16030, 39059, 25324, 22250, 14347, 35918, 25886, 13133, 27425, 31437, 33143, 38584, 8702, 28777, 28577, 23718, 11343, 36719, 42427, 5619, 22993, 24913, 28859, 49210, 16107, 48688, 31822, 28588, 1152, 19176, 28354, 345, 33391, 23506, 6988, 20203, 9087, 8933, 44663, 31037, 27999, 48914, 35263, 12951, 42496, 50473, 49070, 31406, 25056, 12608, 20261, 24183, 28257, 38864, 40909, 31067, 11147, 38867, 3210, 28605, 4910, 14464, 47743, 36326, 32151, 15354, 14901, 33604, 31509, 30115, 47629, 5792, 19237, 46106, 13481, 12639, 30330, 48462, 27623, 46586, 33913, 36515, 18724, 47615, 50649, 23244, 22933, 44304, 41560, 1132, 40546, 39007, 42287, 17531, 23268, 15715, 44206, 5690, 29885, 10151, 6370, 36211, 25112, 7991, 44840, 49986, 20268, 31450, 50291, 44485, 46828, 13945, 34710, 4920, 31910, 20961, 50608, 41524, 35500, 16316, 26759, 40767, 4923, 30116, 42453, 29655, 30491, 45297, 22357, 14177, 18963, 14363, 47628, 38305, 6885, 7307, 26464, 36012, 7497, 153, 49741, 15500, 645, 3819, 31611, 26612, 32081, 48474, 37009, 31483, 41576, 24985, 17672, 50287, 34910, 5720, 17990, 8841, 17684, 47268, 13024, 49706, 244, 9306, 3456, 47518, 28004, 19875, 9625, 11665, 26511, 42608, 32337, 18783, 31971, 33943, 48177, 20348, 20617, 4969, 37278, 14296, 19481, 1477, 19964, 22883, 42095, 46512, 41914, 30502, 15080, 22490, 27531, 41340, 32867, 36906, 33989, 24705, 46445, 858, 26490, 35109, 23539, 1104, 17882, 27160, 47611, 29302, 33041, 50472, 42012, 22839, 20956, 14679, 9585, 2029, 2735, 31112, 39110, 42969, 14575, 32759, 5663, 14202, 42833, 37871, 5622, 25233, 33393, 45628, 29197, 47237, 29379, 6687, 8056, 44547, 50470, 50988, 46087, 46136, 50186, 3894, 50888, 47681, 27295, 11530, 13579, 16190, 33870, 47993, 45303, 40264, 14774, 14895, 15401, 49386, 9624, 6760, 12976, 48214, 16566, 28905, 7337, 24122, 4997, 36377, 18861, 15557, 14480, 20236, 25244, 6258, 48115, 38335, 12127, 5355, 28716, 10948, 23556, 26668, 38208, 19208, 18122, 26543, 41899, 13947, 22015, 38817, 45598, 18474, 46131, 22410, 27801, 35487, 24574, 48823, 13183, 20017, 35406, 13214, 9182, 29171, 32226, 12936, 14885, 34145, 36684, 41489, 12223, 14161, 28627, 36723, 12205, 7679, 46641, 4313, 22184, 11204, 49737, 27984, 15026, 37021, 17664, 49432, 42093, 39540, 34777, 28138, 47598, 16894, 33838, 12852, 17858, 19817, 47188, 8531, 17176, 21705, 8070, 32276, 6374, 37938, 38977, 15413, 33050, 5746, 38594, 10984, 41117, 46732, 32012, 12911, 19505, 12921, 35666, 17971, 50614, 11202, 13596, 1416, 11518, 41179, 25139, 35128, 34806, 25644, 10931, 48904, 20326, 3556, 43973, 23157, 26142, 12333, 31315, 37654, 21224, 49957, 48132, 29283, 24395, 21485, 50464, 16117, 37866, 46933, 12679, 21424, 41198, 36565, 40523, 13187, 30950, 10521, 3020, 23163, 30853, 50968, 22100, 1516, 25531, 12819, 24267, 29385, 46659, 18904, 4294, 47428, 212, 34689, 14239, 18860, 26041, 20434, 29795, 19599, 49252, 25025, 8329, 17391, 15651, 39326, 18518, 13929, 6180, 14869, 24858, 18547, 22475, 31478, 49886, 1305, 2132, 39538, 7635, 23457, 28677, 39159, 41059, 11787, 24338, 40029, 37239, 28822, 22405, 4175, 30663, 48348, 35474, 113, 36935, 43717, 50150, 31523, 22504, 9618, 5388, 26074, 9939, 12038, 13092, 46373, 45396, 32516, 48857, 28712, 32705, 12920, 9719, 24384, 22684, 47588, 5577, 9962, 23158, 2969, 5892, 17301, 34141, 9607, 34906, 4076, 42256, 38349, 7495, 22444, 20571, 29141, 9124, 38211, 44817, 21139, 16100, 47038, 302, 1230, 23377, 14714, 3396, 47153, 39410, 49932, 12254, 9606, 26342, 12444, 13097, 4450, 44543, 10326, 26085, 25625, 29062, 9734, 4823, 14213, 29800, 48300, 24208, 47910, 13635, 7047, 28516, 39515, 27728, 18386, 25933, 3186, 14707, 2938, 6331, 32704, 10805, 567, 47970, 36686, 45616, 15631, 37419, 38962, 11002, 40075, 27474, 17640, 45133, 48704, 23081, 19762, 38558, 769, 15468, 28277, 28901, 18165, 44341, 2047, 37445, 48495, 12621, 8069, 3900, 38442, 26315, 50195, 48903, 23382, 49457, 23774, 6573, 36218, 9751, 31988, 49981, 31053, 47624, 27291, 37089, 8748, 34625, 36612, 4794, 38493, 50439, 11934, 35006, 50062, 24209, 49317, 25513, 23728, 34412, 24499, 39745, 40709, 29491, 5112, 31495, 8860, 39871, 15181, 9497, 31569, 14608, 49804, 1311, 14922, 3935, 4747, 7983, 43343, 11662, 34132, 19315, 3222, 36535, 20473, 30343, 33409, 49410, 10082, 26423, 13351, 49238, 17579, 7955, 9875, 10601, 18360, 11215, 3055, 49887, 1825, 48210, 5239, 15790, 21046, 33031, 16671, 19354, 39495, 32286, 21746, 27325, 2824, 35050, 29769, 283, 33882, 30894, 4029, 48858, 50321, 14065, 25554, 15165, 47706, 34649, 15103, 40144, 15549, 44588, 38733, 10970, 37282, 46121, 43602, 12314, 14353, 27199, 40834, 7901, 24297, 49858, 31721, 15802, 40128, 19182, 23607, 20221, 22328, 9257, 8943, 42377, 46629, 20099, 25607, 7892, 3933, 38708, 22157, 16158, 13471, 20864, 31723, 17289, 3956, 42533, 47930, 16622, 2804, 4216, 49369, 8050, 42280, 47898, 44313, 11131, 38432, 45365, 28093, 32141, 1690, 39733, 10532, 34737, 40341, 27167, 40430, 47801, 49269, 1371, 39973, 35947, 18895, 49001, 44838, 2128, 6663, 37160, 40992, 4394, 42381, 32924, 12974, 47894, 34628, 1843, 30748, 1675, 45099, 28205, 43189, 34803, 36279, 1566, 40105, 2679, 6360, 6382, 35034, 9594, 3149, 46558, 45236, 6142, 20619, 15439, 8173, 13466, 50588, 17699, 41311, 31967, 1698, 6866, 6285, 39712, 5770, 22982, 38953, 18595, 21825, 36126, 33089, 4040, 40783, 24467, 25967, 20612, 13777, 20681, 1789, 5801, 11689, 26559, 32111, 7618, 45510, 35277, 47196, 15156, 17492, 35522, 51022, 9250, 16078, 32845, 24679, 18774, 9145, 24862, 6633, 9239, 17306, 33439, 42403, 2954, 46770, 20685, 38315, 9359, 33098, 7443, 6200, 4690, 35143, 45572, 22352, 38019, 33622, 11761, 32178, 39912, 14717, 17451, 9813, 37401, 42874, 31867, 4872, 2977, 33079, 50100, 41712, 25912, 15893, 31716, 2056, 49319, 3772, 3897, 19130, 10482, 6096, 877, 41482, 46132, 17318, 34787, 47774, 7571, 2414, 31109, 28178, 4619, 8986, 22705, 25202, 26604, 37063, 7177, 34425, 12375, 18912, 21269, 11005, 33352, 38898, 38016, 33953, 8011, 26193, 30449, 6421, 49198, 24274, 7910, 39761, 239, 4746, 19752, 23871, 21106, 4797, 31414, 38714, 39269, 28869, 27427, 46693, 10092, 46944, 25410, 42784, 4237, 44929, 18422, 48158, 45996, 20329, 17498, 43977, 13922, 45924, 37242, 31083, 10422, 14708, 3221, 30030, 7842, 4838, 48654, 15373, 14942, 12228, 33467, 32179, 34001, 12192, 34930, 10149, 11744, 50668, 44620, 8824, 15339, 27415, 11597, 9563, 43318, 41870, 4741, 48307, 21219, 26509, 47109, 6222, 20135, 33301, 7264, 41827, 29169, 20748, 10936, 14985, 8053, 5696, 44995, 22516, 24129, 4508, 2079, 22170, 43063, 11927, 29948, 851, 2276, 18935, 38650, 525, 49382, 20983, 32560, 37011, 12780, 8216, 1989, 26371, 25540, 36590, 7843, 15636, 37302, 15888, 9051, 47076, 2283, 49666, 49057, 4005, 41134, 15115, 16528, 13130, 2855, 50444, 5228, 49170, 17645, 10505, 41777, 34816, 50159, 30801, 12002, 42204, 9888, 51012, 36310, 2328, 25668, 43591, 23378, 37770, 10714, 3430, 49873, 32638, 3359, 14311, 5449, 32863, 4072, 41828, 15041, 31590, 44569, 37744, 8525, 50355, 45956, 50194, 39282, 17168, 39861, 12462, 31243, 21875, 36298, 3770, 9539, 24871, 14101, 6685, 10379, 34699, 1716, 23694, 1300, 10862, 7280, 8409, 7691, 5562, 44094, 2130, 19824, 40014, 7749, 5433, 40632, 4185, 48292, 23910, 25093, 23964, 39636, 36506, 27429, 25435, 46298, 32717, 5784, 48760, 4748, 38542, 30592, 19997, 14009, 18813, 31454, 21006, 7294, 19022, 8498, 42884, 35681, 46270, 43818, 36108, 44178, 45905, 12992, 22853, 38471, 661, 24210, 35035, 45491, 49717, 18384, 35686, 7325, 47257, 4446, 26621, 12751, 33349, 46463, 20977, 39255, 9121, 27589, 17341, 14593, 39896, 13428, 37529, 41807, 18246, 33421, 746, 19363, 13054, 49375, 4384, 45202, 5298, 17553, 46725, 43314, 20971, 7469, 10564, 47631, 36449, 38964, 45509, 28981, 26367, 50484, 32601, 28300, 38765, 40377, 14491, 35598, 31651, 29967, 21481, 38892, 48511, 10598, 21119, 40914, 41076, 8562, 39119, 38269, 47218, 22580, 48378, 15095, 7119, 38627, 496, 12397, 17717, 15498, 12965, 20315, 46007, 38194, 17083, 42057, 29848, 44590, 1459, 22456, 31168, 5844, 10473, 1265, 25412, 50179, 20238, 17797, 44967, 32530, 46527, 14512, 37947, 1646, 37318, 38449, 40359, 26512, 5639, 26599, 9693, 49313, 15094, 32976, 26826, 28683, 42387, 48278, 45320, 32232, 24294, 11057, 43307, 27867, 29739, 50873, 34456, 14182, 27558, 47493, 50756, 40273, 6227, 20573, 4521, 34895, 14283, 30190, 11712, 43153, 27198, 5159, 2285, 12742, 23562, 12628, 7405, 19442, 23041, 38946, 31295, 46443, 12898, 42529, 48206, 42849, 22938, 4523, 16837, 12066, 4330, 41277, 847, 40971, 34980, 10715, 48296, 10206, 9177, 49139, 50578, 31707, 32843, 22609, 31602, 2121, 40843, 13598, 18475, 24358, 47155, 19427, 43915, 11961, 27754, 19874, 20879, 9396, 23124, 37615, 32271, 30512, 34599, 39819, 37252, 20916, 20449, 40678, 26720, 18322, 34818, 5295, 5803, 1022, 26238, 21311, 38073, 9948, 45335, 42684, 47814, 4433, 9412, 23379, 34383, 29569, 49504, 15244, 13750, 39144, 49109, 50659, 30063, 8290, 5374, 2874, 15891, 32610, 29574, 23338, 26908, 2188, 5442, 6442, 2317, 4016, 33331, 1165, 6495, 28449, 50917, 34129, 8618, 23780, 37812, 4239, 29661, 11799, 10988, 11993, 392, 26522, 46160, 40886, 38059, 27089, 22976, 38656, 41410, 26971, 41488, 10334, 19510, 48164, 19793, 16275, 42221, 30857, 4777, 42142, 26071, 11574, 24253, 35626, 15300, 42597, 49429, 23390, 33902, 17733, 30879, 32273, 46974, 41620, 34667, 21898, 44718, 47601, 50954, 6976, 32807, 20924, 10929, 35542, 9780, 49552, 24722, 7586, 16786, 3701, 9164, 49156, 26876, 22854, 49735, 39899, 30039, 23483, 2191, 16003, 12916, 15143, 47827, 14411, 13221, 50520, 19260, 33419, 39200, 48270, 43688, 10013, 42540, 18062, 773, 25095, 30506, 44729, 32626, 32700, 21362, 29216, 25617, 36841, 9054, 17592, 9934, 32366, 6439, 20355, 23417, 2580, 44066, 5556, 32249, 12845, 21802, 26723, 8211, 35259, 26633, 23577, 49696, 25459, 38247, 34074, 10289, 24508, 6999, 4044, 24213, 1065, 804, 39901, 16517, 49625, 3411, 36354, 28535, 37122, 8736, 7247, 14681, 22920, 19147, 36467, 43676, 43480, 31327, 31995, 25143, 45282, 43989, 28992, 30877, 30897, 46946, 12662, 16088, 11428, 38239, 34783, 32115, 26846, 48355, 16536, 8348, 42919, 14734, 40422, 6497, 24282, 44247, 50670, 23587, 29954, 6099, 1336, 32070, 11370, 9196, 42811, 48325, 38331, 20680, 37750, 5529, 22241, 6454, 13871, 32275, 33934, 13122, 15989, 27822, 43175, 23838, 38231, 5642, 38591, 38111, 8510, 46927, 306, 45912, 24989, 11825, 35602, 14044, 45413, 35261, 31242, 47744, 5557, 20118, 18545, 46867, 5920, 28068, 47340, 45809, 47227, 40330, 37647, 12495, 540, 14039, 20417, 28056, 26442, 17591, 42083, 38744, 3349, 15489, 26352, 23586, 20144, 35951, 23679, 23026, 17322, 3693, 49459, 46018, 39414, 22400, 6871, 17700, 20950, 50559, 14252, 28538, 34898, 48091, 38420, 30952, 49740, 44040, 21202, 20442, 15024, 25118, 47914, 30229, 44602, 16155, 32956, 8514, 19925, 651, 17372, 9187, 29839, 27661, 17334, 30648, 30444, 36721, 36855, 22501, 1094, 28466, 3642, 14443, 32634, 13808, 46012, 30999, 21575, 9756, 27436, 3045, 15972, 23129, 49839, 6293, 46534, 10060, 46956, 29327, 15476, 7653, 10772, 39275, 26414, 3487, 42294, 43771, 35972, 41152, 48276, 27398, 44362, 20811, 32326, 24205, 26725, 4019, 28730, 13910, 49305, 22387, 12665, 44345, 2459, 32413, 20781, 29412, 3845, 39860, 47232, 418, 8897, 6044, 27369, 6991, 39773, 45062, 1490, 47552, 22591, 28052, 16729, 50324, 22401, 30164, 31904, 8265, 43304, 39192, 32019, 26894, 23288, 47067, 27106, 43605, 15127, 29125, 42791, 2521, 842, 26134, 47557, 33894, 23772, 25411, 20334, 10912, 11245, 34306, 10176, 12919, 22547, 26331, 28742, 10185, 19368, 33200, 2398, 40230, 4157, 41962, 18538, 21727, 13269, 27279, 14573, 36322, 9513, 19065, 2096, 42922, 16309, 5650, 29777, 7911, 9855, 8915, 13924, 21797, 2062, 8682, 14267, 45904, 4352, 22448, 49377, 10743, 42783, 27001, 1282, 1046, 46845, 22326, 7142, 32682, 22601, 36545, 18532, 44467, 23781, 14647, 31607, 28663, 21303, 19338, 14859, 6603, 2071, 2993, 3167, 43532, 50220, 35403, 12413, 37700, 7750, 39281, 14071, 36294, 21969, 8281, 20461, 44787, 10073, 42685, 14393, 44298, 48103, 13196, 44920, 22484, 15694, 34536, 22090, 1894, 27132, 44707, 18093, 19582, 1672, 13443, 37596, 29378, 37796, 44911, 30379, 3452, 34349, 20587, 30120, 48710, 9499, 40902, 12697, 30785, 29170, 39713, 45690, 12379, 24734, 2133, 16366, 40245, 43518, 12152, 23431, 1378, 4711, 22059, 45420, 4033, 15816, 44933, 47059, 17270, 11594, 15031, 5836, 2729, 49752, 357, 25638, 22747, 36915, 11341, 44059, 21009, 40153, 28796, 23437, 11791, 21254, 31568, 18008, 9, 27125, 49676, 15096, 9645, 9110, 16200, 13342, 25948, 50833, 20428, 9419, 31833, 41506, 12658, 32831, 177, 22270, 41703, 26372, 14995, 40352, 31665, 32824, 22545, 35217, 20865, 48005, 41272, 17901, 17608, 42074, 7375, 24248, 12494, 25987, 29353, 3599, 48459, 23106, 44892, 43802, 47431, 21559, 1990, 20027, 14748, 20292, 32951, 41469, 14089, 6335, 21780, 41291, 26733, 199, 35032, 47389, 29913, 28580, 39208, 24441, 22477, 30152, 22055, 48209, 24908, 41949, 35144, 44501, 36826, 42359, 36197, 2252, 41520, 10227, 36005, 16040, 20707, 30341, 17518, 50251, 8804, 15536, 2566, 33464, 35496, 46159, 31346, 20962, 34064, 2315, 8901, 44539, 4277, 12150, 44571, 3031, 18628, 38454, 22753, 14378, 39751, 12450, 18720, 21631, 50142, 43342, 45155, 9263, 45614, 2464, 33512, 22442, 3095, 36316, 19962, 42216, 17065, 44906, 41237, 26148, 49246, 31861, 19725, 32045, 2616, 45648, 21417, 18907, 21402, 16319, 16584, 5087, 40694, 32630, 3330, 13885, 39333, 40387, 40991, 17184, 29258, 45991, 11523, 22088, 43727, 21070, 13859, 1348, 21655, 20403, 37152, 36726, 39477, 37839, 33190, 9069, 546, 41398, 34851, 6270, 41549, 48926, 28198, 26399, 10274, 32797, 22663, 17285, 46405, 48609, 15911, 14770, 27549, 35066, 7183, 13367, 1781, 6089, 26652, 20202, 2674, 18901, 42602, 1896, 11465, 35966, 23013, 8570, 46212, 44629, 48389, 2391, 50293, 34119, 24777, 9338, 40865, 34465, 833, 49549, 23939, 10291, 47817, 18198, 41365, 12583, 32088, 22261, 41210, 46777, 34564, 7558, 21466, 29372, 19755, 25770, 560, 17446, 44216, 37235, 5353, 21811, 3702, 12034, 19589, 45974, 24816, 50032, 21855, 46996, 14187, 5290, 32014, 11544, 33408, 8231, 3, 27520, 22694, 13380, 50754, 25276, 649, 4807, 42541, 17880, 35797, 7273, 4607, 48737, 32360, 9094, 17131, 47766, 9095, 16237, 36343, 23064, 36226, 6831, 49808, 25225, 30153, 48755, 43683, 14127, 37474, 48944, 33076, 46486, 27133, 12993, 14746, 46073, 38438, 24720, 34589, 17765, 21569, 49771, 28014, 1051, 3692, 12050, 48061, 4578, 32227, 7797, 10519, 50971, 6491, 18828, 31171, 1883, 49248, 36002, 36651, 44831, 8325, 12799, 32702, 50069, 13731, 41950, 1623, 50654, 17907, 23554, 3139, 38184, 6534, 14509, 37400, 29234, 18594, 33961, 18676, 2996, 46104, 49607, 32864, 10085, 49042, 18254, 35601, 20140, 9471, 29790, 14451, 17122, 617, 12580, 39508, 42693, 42429, 15673, 46745, 1740, 42879, 44432, 23169, 983, 27472, 50199, 36074, 43236, 15309, 44806, 12411, 20353, 9029, 28562, 2316, 19152, 45518, 25496, 48764, 46694, 48401, 46468, 39846, 4952, 43139, 18154, 2511, 14274, 33403, 5060, 45355, 25666, 26539, 26098, 28133, 11273, 9847, 31160, 41939, 43422, 39116, 47642, 39870, 8854, 3481, 48657, 2575, 40419, 22337, 35266, 25021, 22721, 12973, 50651, 30036, 608, 22176, 46092, 42535, 893, 22569, 41024, 24976, 30620, 24962, 33430, 13175, 43109, 44761, 45745, 9614, 15469, 36556, 1380, 44766, 9877, 16327, 21356, 47123, 19583, 40040, 31255, 41547, 19828, 28732, 42574, 22812, 8756, 37785, 25745, 3548, 37754, 3938, 15075, 10606, 38753, 5136, 18423, 19428, 21082, 197, 33469, 27484, 19690, 34335, 18540, 43166, 17147, 49331, 21369, 49417, 14446, 49270, 19187, 39138, 23793, 16440, 21605, 32573, 20906, 7617, 27932, 38699, 15042, 12432, 18158, 10064, 34360, 29303, 29146, 41370, 13826, 35231, 54, 13862, 28780, 24937, 10325, 41869, 43631, 41532, 26385, 1280, 29124, 14778, 9713, 25286, 19667, 31124, 6771, 21600, 10403, 15320, 38481, 3522, 37064, 3355, 20691, 22147, 22821, 43273, 49467, 29433, 29831, 45056, 44244, 17721, 49255, 36725, 42011, 24997, 32981, 28339, 23487, 16618, 41900, 42624, 3841, 29946, 44162, 13512, 45011, 33968, 28338, 10362, 36259, 34521, 45617, 49128, 24565, 28591, 15391, 16369, 7776, 48658, 17058, 10736, 1156, 21387, 24501, 13751, 8121, 30245, 21020, 44528, 17631, 15879, 36999, 136, 845, 30103, 21191, 39744, 18974, 14261, 18925, 6738, 29349, 7404, 43142, 39820, 31551, 15473, 14221, 13056, 14522, 26243, 33468, 8041, 37879, 16630, 26228, 44306, 16539, 43021, 5926, 32171, 6037, 14702, 38749, 40953, 33202, 49316, 37179, 45086, 26088, 19687, 1612, 42331, 9333, 22597, 1068, 25776, 8938, 17143, 41752, 32222, 23629, 12358, 39691, 6453, 27506, 20438, 6774, 37568, 29059, 3806, 43851, 40180, 41908, 10109, 36399, 15448, 38394, 628, 15157, 30513, 23183, 3827, 18905, 32559, 10663, 46940, 11725, 40969, 36141, 47659, 42950, 47235, 17914, 43857, 22909, 14912, 2706, 43114, 37920, 13062, 39060, 49673, 9388, 13716, 12538, 44349, 15217, 47803, 49174, 6649, 29445, 10277, 29205, 15650, 43411, 9850, 45142, 30062, 33179, 24724, 43820, 40369, 37466, 16655, 26008, 6692, 10655, 18752, 42774, 2427, 22476, 24269, 2467, 21617, 2117, 44809, 29891, 39422, 23161, 18804, 37582, 39470, 12525, 47012, 42238, 13992, 26544, 30163, 24774, 15671, 43519, 17328, 10305, 37714, 1276, 17879, 50052, 3375, 48416, 44577, 50549, 37253, 34945, 29396, 38076, 37340, 30941, 49613, 34026, 24890, 31629, 23165, 21993, 40833, 14974, 42178, 41805, 6348, 35960, 13955, 4745, 34366, 38784, 36950, 46333, 47537, 4558, 23862, 33610, 8079, 28332, 24173, 10608, 1914, 11987, 36023, 43587, 16488, 42337, 22468, 29223, 23650, 17471, 33981, 33867, 18775, 17678, 29568, 29644, 14908, 5086, 16650, 30003, 22643, 19148, 38732, 22324, 6372, 18309, 33299, 44150, 12091, 13966, 14466, 47781, 50268, 11933, 48828, 23345, 23208, 22731, 38525, 35011, 42461, 10414, 9408, 12770, 34954, 44859, 36598, 15861, 41289, 13664, 37973, 22736, 1807, 29479, 20698, 47156, 9920, 32062, 15227, 11042, 49901, 26791, 33359, 10251, 20389, 10748, 34551, 938, 49342, 354, 42517, 36162, 1131, 29648, 14172, 4533, 28461, 5813, 1121, 6905, 36088, 19043, 11615, 49874, 27098, 46950, 35724, 8178, 3409, 27872, 29929, 13883, 41995, 14207, 39097, 30884, 17648, 5187, 4819, 4011, 46303, 14759, 19104, 37186, 26646, 27200, 5691, 44344, 2247, 12539, 2893, 18973, 30556, 45315, 48923, 12671, 7440, 30480, 16268, 26758, 14082, 24207, 28790, 37202, 24264, 36007, 15884, 24334, 13608, 14419, 4629, 23250, 25597, 5890, 45968, 35421, 41716, 41853, 39335, 4639, 43078, 30035, 37966, 12630, 10990, 32931, 24194, 39770, 10840, 12442, 35916, 33265, 5197, 15664, 48746, 8769, 24619, 12712, 33262, 37350, 26499, 15720, 14718, 33136, 10041, 4209, 10039, 43974, 28066, 13283, 41699, 46504, 44230, 37551, 25984, 14683, 46545, 32207, 22990, 49283, 38736, 26809, 22127, 2210, 2495, 30793, 21621, 50978, 44593, 29478, 44932, 48709, 12372, 16620, 12015, 49119, 37586, 42682, 4582, 26172, 23156, 31411, 39102, 5666, 14728, 46500, 49983, 41846, 50533, 39621, 3151, 2169, 50398, 46088, 37855, 14253, 33113, 50626, 8745, 23747, 42862, 3863, 16926, 30810, 13277, 33337, 30914, 14, 34272, 7963, 27601, 11726, 498, 13925, 843, 30958, 24285, 43127, 48590, 42807, 11932, 21175, 16501, 48188, 19103, 7701, 23395, 11216, 50932, 28391, 49975, 3199, 50996, 28554, 47082, 32614, 20943, 4971, 48422, 22362, 3724, 45021, 42722, 2388, 3053, 36409, 38154, 42679, 5891, 26632, 36990, 46764, 30705, 32100, 22339, 29704, 3831, 13482, 11655, 25207, 35662, 50613, 32771, 49999, 41259, 24632, 50477, 44917, 47635, 2092, 4811, 11461, 10685, 32349, 10679, 50874, 39270, 16915, 22784, 33954, 9721, 36489, 15840, 7041, 19657, 22872, 30081, 16338, 27710, 44710, 48751, 47068, 32588, 20407, 39215, 9887, 39049, 6229, 45908, 24584, 40036, 38575, 3379, 37552, 19512, 2984, 28406, 12800, 26698, 21170, 34049, 46781, 34205, 47704, 37957, 2496, 29697, 25965, 4973, 18262, 21645, 49339, 9046, 21498, 32370, 3283, 5172, 29370, 44287, 41219, 34907, 27870, 18584, 31417, 43455, 34637, 33102, 3524, 30261, 16965, 48901, 39118, 12556, 37759, 11498, 35012, 327, 200, 45369, 24919, 1743, 8533, 427, 46784, 44358, 39094, 42941, 42465, 34804, 5723, 17283, 20713, 29629, 47550, 50193, 20996, 2458, 43812, 17077, 48748, 31380, 19869, 34304, 46461, 45555, 25338, 37549, 26180, 45821, 10712, 26957, 46723, 8796, 16253, 28991, 39631, 21750, 50302, 33268, 46440, 4634, 36139, 18282, 20737, 23574, 2461, 19620, 27176, 43019, 18993, 48391, 4148, 29007, 46199, 24986, 39533, 7285, 33915, 46829, 34035, 43335, 35753, 13928, 18286, 13812, 27221, 39221, 38422, 46075, 11550, 1005, 5219, 12119, 18654, 37421, 48708, 48133, 3014, 42414, 3832, 22619, 21891, 1439, 15907, 34524, 23823, 20745, 39722, 5502, 14791, 45987, 15445, 46555, 38533, 30271, 39069, 2111, 22758, 41214, 43475, 13207, 10171, 44267, 10833, 37084, 271, 10469, 11141, 17292, 20372, 48798, 33787, 37564, 8813, 7967, 28402, 26655, 38260, 12917, 50269, 8327, 33728, 36006, 38459, 26208, 32391, 2768, 21751, 50089, 13120, 37619, 6210, 15278, 46151, 31494, 47718, 32942, 26063, 21127, 44844, 5185, 32084, 1647, 1173, 46658, 6417, 46037, 37, 23541, 33507, 24516, 21010, 21878, 23028, 30792, 30615, 44963, 8264, 12269, 45270, 47892, 25196, 1364, 18745, 44090, 7297, 26255, 31177, 9036, 46336, 51053, 41284, 2474, 28495, 43240, 34624, 42277, 3575, 3127, 51029, 47450, 13957, 19555, 2220, 30309, 39774, 44452, 15387, 23930, 17428, 8429, 6547, 11664, 20422, 2054, 22926, 20249, 4046, 50037, 39407, 46624, 11410, 48220, 5805, 49142, 5437, 14881, 7195, 10846, 24902, 37307, 26284, 45053, 6090, 49710, 31270, 27387, 33437, 28047, 45983, 12433, 27588, 29818, 39245, 9081, 41060, 28315, 30336, 38530, 41187, 47052, 50731, 20576, 47662, 29589, 34701, 28806, 43416, 11225, 43232, 23612, 30484, 42605, 26691, 8985, 21609, 29829, 3141, 1558, 22255, 35845, 7006, 31050, 6845, 50498, 18601, 19960, 16807, 42259, 18024, 25714, 43373, 23453, 5510, 19164, 5965, 18572, 465, 40796, 30079, 43141, 3038, 41510, 2048, 21515, 18531, 25976, 4024, 32016, 2618, 6281, 39247, 49395, 41614, 1096, 23550, 27863, 3797, 44130, 32606, 49977, 48013, 24680, 40695, 40776, 48250, 44115, 45386, 48662, 2753, 48112, 7496, 25117, 41993, 32380, 45340, 8379, 24638, 45145, 9678, 42979, 39314, 30965, 13649, 40064, 5448, 11704, 11968, 34408, 14861, 22723, 2574, 36528, 38273, 45284, 4127, 25854, 45700, 7986, 36351, 6137, 22865, 40810, 13219, 1629, 45992, 20584, 41866, 7284, 840, 19911, 1544, 46700, 42638, 7777, 34535, 7290, 50006, 32874, 39336, 7835, 34562, 35508, 7347, 42198, 28625, 44310, 43722, 15464, 7299, 36436, 46248, 12930, 17206, 10572, 47805, 18609, 4206, 333, 38044, 15599, 28202, 40001, 38300, 40328, 49018, 30722, 22373, 13740, 17376, 21900, 20499, 383, 34258, 44624, 16716, 45057, 7698, 33680, 44551, 33866, 9917, 8893, 5412, 24968, 3581, 21884, 14515, 32818, 29771, 36703, 17970, 30376, 7931, 26567, 17801, 1799, 11778, 32468, 6904, 25228, 31545, 32052, 3312, 34442, 31237, 3070, 47297, 27834, 4182, 40601, 38289, 2272, 31401, 7921, 32050, 4448, 40093, 47566, 35376, 17869, 20655, 36887, 10255, 2350, 18781, 8237, 32836, 30067, 31872, 38804, 4120, 47567, 31560, 37348, 31482, 49623, 18466, 19340, 32968, 16739, 668, 32835, 18200, 40240, 23399, 2264, 9285, 45065, 12415, 28219, 22295, 11740, 2383, 33218, 25724, 3253, 35028, 44870, 20313, 24051, 6834, 29300, 26785, 9573, 32133, 45151, 6252, 12102, 26299, 1660, 13472, 5762, 41145, 33581, 21548, 47201, 17091, 10711, 28597, 6574, 31146, 30299, 6324, 28180, 15406, 44105, 39256, 6409, 6972, 16116, 18747, 9191, 20598, 45593, 32063, 16876, 44499, 26276, 50491, 22325, 1399, 39781, 5564, 1718, 3381, 41252, 29909, 22065, 38772, 41166, 22051, 24344, 28831, 48180, 49924, 49359, 25194, 33405, 45719, 7713, 38777, 50982, 15568, 5324, 48676, 41789, 14956, 38831, 28882, 38487, 9694, 42023, 36359, 22104, 35552, 44078, 17244, 34522, 3729, 34711, 22488, 27805, 12469, 6242, 14920, 4599, 12216, 18428, 31717, 25971, 3333, 35133, 14055, 14903, 43287, 9528, 43476, 35129, 4896, 4676, 36555, 33312, 42270, 18237, 17978, 27649, 6634, 22356, 30573, 13761, 7792, 38528, 17216, 45625, 37575, 9857, 48546, 39838, 38877, 20747, 40296, 23447, 35052, 47860, 32350, 13656, 28368, 49345, 663, 15600, 19459, 32696, 43087, 39718, 36177, 15674, 20830, 33332, 50914, 672, 21250, 10205, 21704, 28160, 24686, 17720, 43856, 47887, 5810, 50317, 25954, 8012, 28097, 49002, 43099, 22600, 6135, 3919, 12106, 28692, 10554, 13104, 35285, 43700, 40068, 27850, 19389, 811, 33167, 10826, 36302, 43712, 5181, 10672, 37383, 762, 29834, 34305, 37889, 6298, 20259, 4906, 34142, 476, 5706, 6966, 46827, 48452, 16165, 44476, 46472, 49403, 50935, 24069, 22571, 22322, 38384, 23217, 19131, 7830, 49144, 26038, 43265, 43500, 19894, 35589, 39783, 25350, 6843, 3093, 20618, 34221, 16103, 5103, 49526, 42134, 7244, 11881, 2834, 50280, 25599, 40202, 22415, 24928, 5821, 4624, 29076, 17590, 5742, 12683, 48648, 42912, 23559, 42594, 1744, 36619, 22805, 8674, 11624, 29474, 30547, 13921, 11012, 8783, 8367, 10483, 30468, 27786, 27344, 36710, 6190, 45814, 10234, 49474, 12006, 27756, 25909, 18629, 17210, 40083, 13855, 338, 30558, 40861, 16072, 2025, 8440, 14169, 2944, 48380, 5450, 5288, 10351, 17854, 36323, 5968, 20379, 31580, 7467, 24736, 48329, 10020, 25577, 20813, 23595, 10373, 48665, 7590, 28480, 5006, 40191, 36881, 29459, 19588, 22841, 39771, 7722, 21379, 38706, 1498, 24922, 25925, 47446, 44919, 19809, 2997, 42887, 38415, 21256, 7546, 2857, 23733, 42215, 35706, 36103, 35707, 46540, 40715, 49261, 8213, 25349, 38090, 9933, 16656, 13140, 1625, 9657, 30088, 42772, 45061, 20755, 18585, 6524, 30362, 7194, 5418, 32678, 26979, 25675, 17517, 45006, 17480, 38379, 42864, 19736, 42099, 32884, 39908, 43846, 7900, 26319, 46520, 1061, 5162, 5314, 35415, 15362, 42822, 27906, 15855, 45689, 37294, 482, 28865, 738, 34010, 41271, 9675, 9294, 24822, 7980, 23973, 7589, 20986, 8259, 39327, 21818, 40832, 40548, 7507, 45295, 40272, 50590, 45018, 7310, 45437, 12647, 37518, 19035, 19239, 24313, 5262, 49842, 36429, 21283, 22737, 26007, 43461, 1667, 9244, 6051, 16951, 7626, 47725, 12931, 24846, 44265, 44545, 12625, 4017, 17238, 41802, 24974, 4522, 8482, 41817, 39363, 36761, 43065, 31921, 43057, 37862, 38284, 11352, 31009, 37536, 31324, 49898, 38572, 48469, 16574, 22994, 10137, 5911, 34216, 17687, 24061, 18457, 10112, 49344, 27956, 19342, 28039, 11833, 35022, 13642, 23653, 21960, 12200, 25313, 18739, 50860, 10062, 42248, 43220, 44716, 17061, 15472, 40042, 19477, 24745, 13404, 5025, 2911, 6540, 42634, 34395, 17786, 25312, 46998, 22371, 15752, 16670, 29850, 18723, 29841, 19829, 16221, 8787, 42408, 22330, 35, 7438, 47040, 34283, 29802, 35216, 2985, 47352, 2003, 44990, 3474, 15853, 30540, 28927, 41341, 1063, 17371, 44149, 3385, 20373, 50738, 6403, 38610, 8023, 37169, 13948, 9638, 20867, 42520, 30600, 41919, 23529, 42107, 48327, 7198, 45878, 39805, 16858, 21160, 24303, 7788, 25974, 8695, 7160, 25951, 21957, 34583, 36514, 35412, 43969, 13962, 45702, 25739, 18563, 35502, 28908, 6015, 1392, 33182, 22630, 13235, 25415, 35389, 23225, 6945, 27960, 35828, 19456, 31803, 17804, 1382, 48279, 2462, 29128, 20807, 44032, 26119, 42393, 19731, 43567, 23932, 36630, 30679, 24049, 45717, 28940, 9406, 46484, 2995, 18323, 3762, 36263, 10662, 29631, 32591, 8309, 27985, 33354, 24555, 41671, 24187, 572, 300, 29180, 8400, 5021, 31132, 14398, 11383, 45357, 39155, 37388, 24454, 41184, 33760, 1678, 29683, 5369, 28229, 9264, 11835, 49314, 45146, 9309, 49995, 40921, 25262, 24247, 6658, 38391, 2374, 1160, 47873, 38865, 7128, 15102, 17753, 26922, 17948, 6691, 23738, 3972, 14944, 16758, 9874, 36756, 2452, 33146, 3761, 39605, 37018, 17260, 26300, 49908, 5496, 50, 18089, 39711, 12116, 38757, 29150, 28083, 49605, 17011, 7629, 25934, 23355, 24585, 31621, 14439, 46392, 16550, 5036, 5664, 4343, 33150, 16899, 26988, 24775, 34659, 44901, 48441, 2403, 44473, 32188, 31354, 21324, 22509, 28025, 26995, 36465, 28265, 44102, 47003, 13119, 32998, 19434, 45190, 12028, 37284, 28567, 1231, 41574, 20669, 39204, 8204, 47376, 15810, 47711, 27418, 38884, 14271, 24084, 31895, 46220, 13446, 43098, 49099, 44147, 33429, 43266, 14003, 35953, 20575, 10347, 10867, 23123, 15533, 26558, 13736, 9901, 8621, 34067, 11029, 38851, 2882, 43514, 32116, 2257, 217, 26046, 33244, 5487, 13771, 41766, 35337, 9243, 23441, 2344, 10903, 29111, 29027, 19580, 17379, 6583, 38156, 15902, 23, 34709, 28189, 33384, 34938, 11207, 41521, 18611, 37651, 25471, 28462, 35058, 5630, 50986, 45348, 5364, 2660, 987, 12143, 16583, 8633, 14289, 28793, 36981, 8436, 16741, 6579, 23083, 46775, 18621, 32305, 7084, 18951, 32840, 35782, 11043, 51010, 3147, 28463, 25928, 9452, 26671, 30554, 24287, 6148, 47992, 27379, 47913, 8089, 1008, 33853, 25373, 37851, 423, 42034, 40700, 39405, 1540, 41429, 16362, 39309, 16433, 43327, 50934, 27704, 24054, 46027, 36209, 27546, 16270, 39433, 37083, 8894, 7082, 22436, 40711, 40955, 24460, 25700, 31348, 42837, 22367, 31207, 40385, 19085, 33235, 41097, 36940, 23560, 15916, 42552, 15271, 9866, 41396, 48229, 16667, 42963, 42070, 24315, 35957, 25337, 22587, 29182, 31535, 41466, 24657, 29134, 30849, 47672, 34374, 21494, 11901, 5700, 5779, 26516, 35067, 13503, 46626, 32167, 31202, 47031, 25107, 34629, 37279, 25772, 20739, 8689, 24177, 25511, 22946, 13558, 33564, 38881, 35636, 20173, 13778, 12071, 49054, 3161, 7630, 9495, 29245, 3240, 49158, 34732, 24471, 22478, 2241, 49537, 37644, 23357, 50823, 49943, 1764, 4913, 4600, 29844, 7598, 33209, 47234, 3369, 373, 19375, 33930, 39181, 42997, 36311, 11394, 3213, 49739, 20949, 32767, 693, 25857, 1146, 30307, 33207, 9632, 14427, 30586, 35215, 37362, 44394, 47223, 18432, 19466, 4451, 3021, 23204, 33761, 42308, 16969, 46368, 28218, 38085, 1674, 2011, 14651, 42262, 41082, 28161, 43285, 41236, 40853, 41173, 7001, 20966, 36882, 42017, 3810, 31189, 2829, 18139, 42056, 47861, 4965, 7486, 13331, 46651, 30375, 24865, 4251, 4253, 5240, 36285, 33189, 28018, 989, 37968, 24906, 23290, 10597, 7623, 35678, 22320, 11231, 41931, 25289, 25779, 49508, 10099, 26651, 21236, 13547, 40895, 2250, 41372, 20558, 41856, 42642, 22752, 9546, 16897, 17795, 5375, 40052, 7460, 14648, 28861, 8405, 49084, 47177, 40830, 47226, 30394, 19978, 48620, 27147, 22575, 40798, 18825, 22226, 50621, 44371, 35816, 41960, 2119, 35751, 42810, 33069, 44458, 24520, 2030, 29133, 28977, 26659, 11641, 18251, 50747, 12178, 7596, 31972, 46573, 40894, 2329, 11609, 50230, 41041, 22119, 20955, 1474, 43916, 16423, 45167, 10354, 13657, 39263, 13760, 6289, 6028, 32674, 37781, 19813, 42951, 48357, 3237, 44968, 35888, 34101, 25463, 28345, 11820, 16553, 35149, 26843, 22110, 30006, 40807, 35510, 41151, 30782, 14722, 12795, 18260, 51041, 5253, 23373, 32258, 49159, 33732, 29073, 18659, 12922, 26003, 22808, 26696, 42747, 2351, 13142, 21927, 31578, 7439, 15155, 18536, 14122, 28819, 28443, 24780, 12366, 49, 45883, 31137, 3360, 150, 19935, 15691, 27051, 16925, 10799, 18382, 22075, 49453, 43058, 50502, 10241, 20805, 46221, 5242, 16957, 9833, 43195, 26373, 30797, 39115, 28824, 41293, 50887, 32490, 25602, 32987, 35618, 2488, 43197, 18440, 49962, 2644, 26101, 35529, 14832, 46249, 30969, 13807, 4798, 41858, 28876, 686, 49641, 28896, 23284, 36253, 32220, 50397, 34563, 49524, 11714, 29183, 44084, 15395, 42742, 2382, 48134, 34556, 23050, 18943, 37699, 29002, 7350, 32418, 2614, 24004, 36955, 49648, 34571, 15763, 6727, 12848, 24429, 2033, 37520, 30706, 420, 26451, 22138, 5789, 24999, 41956, 46321, 14660, 2935, 46169, 27818, 47833, 47264, 21950, 49050, 12643, 10789, 18162, 7258, 38776, 2731, 2118, 48574, 12068, 29560, 1448, 49287, 25272, 6234, 9234, 39000, 29692, 50574, 8128, 23644, 4134, 25331, 9604, 11032, 14228, 46158, 24566, 20049, 33835, 7313, 25754, 36951, 46278, 35511, 43086, 4178, 5166, 34476, 711, 6095, 28468, 36040, 10212, 28500, 9868, 31442, 15781, 37322, 37500, 39018, 41857, 9680, 12603, 45834, 15426, 4955, 3973, 50272, 36319, 26639, 22279, 41055, 14743, 20158, 1201, 40357, 3873, 39893, 37620, 42432, 26177, 42952, 26806, 48765, 30933, 29687, 9428, 3341, 13027, 32229, 45558, 43388, 17779, 25937, 21349, 8051, 16464, 26593, 38940, 23674, 24542, 31772, 11610, 35468, 11524, 19785, 21930, 5768, 19106, 40967, 22559, 21427, 47300, 18691, 23227, 17290, 18862, 35964, 485, 15139, 21602, 23705, 29317, 5858, 17924, 8006, 49773, 5287, 44180, 46293, 8947, 45656, 13550, 13991, 47110, 14620, 48921, 19055, 35772, 48880, 39894, 43281, 22788, 4573, 12032, 38571, 13774, 46412, 2602, 38693, 30580, 5149, 46142, 9967, 23817, 17773, 31012, 27257, 35125, 28076, 35793, 17574, 7277, 37261, 30908, 13415, 33869, 20059, 22107, 29579, 2281, 34185, 12145, 36327, 38144, 33220, 21873, 12791, 46574, 28437, 12031, 40414, 28139, 7473, 1356, 356, 29931, 36063, 24077, 45577, 11981, 44814, 39343, 4051, 29447, 28448, 35025, 42494, 7753, 48821, 16834, 6198, 22754, 27414, 25825, 1872, 47119, 42068, 3948, 29718, 30710, 4103, 27861, 46247, 31900, 19562, 43547, 51034, 12184, 50406, 30250, 36901, 50022, 23676, 23575, 7123, 9725, 33176, 25701, 33456, 49033, 19665, 21376, 41023, 42662, 6914, 23954, 29279, 34267, 48471, 16617, 26508, 47871, 27517, 39107, 6799, 45658, 32676, 11680, 5874, 33366, 31131, 11035, 25092, 7717, 35002, 21771, 12902, 40235, 14396, 39882, 28700, 24825, 37210, 31878, 47936, 48759, 25968, 36818, 17035, 41425, 29461, 28978, 45243, 10919, 1838, 43575, 23422, 45384, 14470, 21714, 50340, 7476, 13205, 41222, 50153, 31857, 39191, 42300, 42165, 9078, 24631, 29351, 4987, 5595, 16523, 24455, 13001, 8815, 37200, 34263, 46554, 16605, 14712, 22231, 1895, 24469, 26550, 15301, 36278, 39280, 4771, 14691, 446, 18706, 5091, 18157, 7979, 40789, 42599, 34348, 31639, 32925, 25323, 6422, 17821, 48189, 17076, 27352, 108, 46326, 23977, 32260, 43312, 30381, 47730, 18300, 18161, 26777, 43264, 26005, 13427, 50526, 41830, 50336, 28258, 32593, 15654, 35442, 17348, 41454, 20808, 14120, 35113, 39445, 11281, 18410, 50109, 14416, 13874, 562, 7009, 43077, 9018, 21693, 44882, 33514, 31192, 19833, 38500, 1956, 13395, 4204, 27088, 11102, 31389, 46790, 10224, 15291, 20260, 37344, 43356, 44195, 20293, 35228, 35584, 38840, 42546, 12229, 37236, 18668, 36913, 35250, 45998, 10485, 9423, 317, 12258, 38638, 44659, 3644, 12871, 35806, 23461, 34619, 19673, 14846, 3001, 17787, 45997, 44395, 12648, 8972, 24868, 16001, 7168, 36854, 11251, 30962, 16898, 44417, 34312, 29670, 26569, 21081, 19046, 36387, 50528, 18806, 17169, 30925, 21653, 42027, 33356, 4705, 9203, 34178, 46172, 13333, 42283, 4484, 27732, 32046, 11023, 49499, 5475, 11311, 13022, 23303, 11838, 1822, 27042, 42900, 47483, 37277, 45552, 47017, 31258, 21903, 7673, 25484, 28276, 33782, 39322, 12924, 1595, 6109, 10121, 29534, 34371, 42004, 18821, 33128, 8772, 23166, 406, 13869, 12876, 48762, 42687, 3555, 39676, 50271, 1064, 27194, 2107, 49106, 7113, 21636, 10279, 47070, 35688, 44449, 27097, 44521, 48957, 45067, 23785, 8042, 6740, 6352, 17722, 28942, 1139, 20877, 4996, 19040, 30075, 15423, 6082, 47436, 45929, 45269, 26470, 2630, 36041, 912, 47715, 47231, 29483, 20928, 24669, 45351, 35152, 20911, 49834, 43059, 50879, 12781, 41199, 669, 22204, 50343, 9474, 42812, 47802, 23366, 15419, 43841, 5386, 38237, 16247, 48291, 45215, 1021, 3293, 46616, 4306, 28318, 50678, 28434, 38551, 17049, 11259, 36549, 12975, 46772, 12365, 34260, 45728, 31892, 37300, 8046, 90, 9296, 17851, 30092, 21722, 21301, 12591, 5931, 1573, 49593, 49614, 16384, 35274, 5498, 29649, 36780, 1720, 34746, 11722, 8081, 6036, 25154, 12236, 28303, 21649, 15733, 28948, 33248, 11068, 30185, 6257, 31889, 11180, 27776, 35830, 26931, 11711, 959, 23842, 21048, 16136, 42954, 23342, 46488, 1581, 4645, 11516, 48722, 13479, 33206, 27408, 8598, 12330, 32725, 34292, 39827, 4200, 2550, 28893, 9861, 1105, 39577, 37020, 25579, 20761, 30179, 16455, 26603, 13803, 46376, 17709, 49906, 9598, 18497, 7107, 34309, 29343, 45045, 6936, 7663, 24899, 40015, 15174, 36472, 14275, 37998, 35914, 46383, 43403, 34531, 6763, 34588, 17878, 30041, 8036, 30371, 24760, 8963, 23062, 21536, 13467, 29924, 48779, 43592, 1790, 26108, 12804, 9043, 2468, 38183, 1561, 34665, 2302, 19967, 47289, 34578, 8125, 33801, 10884, 198, 48753, 713, 16767, 13762, 47367, 14710, 47700, 48338, 27803, 33267, 10977, 14798, 5653, 26355, 47328, 28124, 42388, 32388, 20780, 48519, 41854, 22864, 47695, 29664, 33720, 30919, 26654, 24008, 7237, 38376, 7666, 5697, 49646, 39830, 31906, 10798, 45733, 48642, 24405, 22323, 5300, 39133, 35202, 42200, 7150, 29217, 46787, 10159, 14726, 19698, 43789, 33454, 45781, 11134, 11779, 19953, 7377, 29953, 6322, 24299, 37241, 12029, 14312, 22259, 17840, 24813, 44327, 33214, 18696, 41590, 17399, 13667, 22454, 309, 118, 46647, 26020, 49117, 45060, 43252, 20822, 17008, 29832, 21190, 20447, 40849, 10880, 11433, 38291, 26011, 23776, 27222, 16039, 22145, 39230, 16170, 26622, 44846, 17041, 32644, 31622, 282, 31973, 47516, 40101, 43217, 18388, 47780, 12971, 27351, 12155, 18693, 30828, 11929, 48202, 40778, 6744, 12554, 13212, 32703, 8741, 42716, 30953, 34085, 45166, 30398, 1492, 31570, 12235, 50699, 48070, 21304, 9707, 9846, 18100, 42858, 41887, 4028, 48253, 24828, 1523, 49763, 14884, 50554, 7881, 50972, 21292, 34640, 16035, 41461, 34925, 21841, 34939, 23687, 35657, 16641, 3627, 78, 37345, 6681, 8019, 50780, 10680, 20629, 26628, 28857, 28892, 34486, 15966, 44031, 18389, 16547, 31624, 27251, 10074, 3010, 45863, 50468, 20881, 25826, 24478, 48489, 11925, 3986, 45778, 22930, 20908, 1828, 18894, 50694, 15964, 47673, 6832, 28648, 36412, 7520, 37163, 1543, 16154, 22050, 48119, 43617, 50489, 35458, 34246, 15634, 11184, 20368, 27525, 22888, 1098, 33221, 9936, 37066, 40680, 24280, 26565, 50040, 41687, 8222, 49430, 33117, 9952, 19968, 4381, 8002, 33134, 7532, 32158, 41, 17152, 11187, 3064, 21237, 38563, 46837, 12185, 35422, 21864, 46550, 11973, 17969, 38680, 9827, 630, 7005, 5171, 2093, 23167, 39003, 14109, 28496, 3753, 9039, 7580, 40326, 48570, 24616, 24625, 2090, 20237, 32433, 36287, 18794, 42658, 22513, 26013, 42572, 48286, 32372, 17544, 11647, 12562, 29252, 49494, 21544, 8428, 25336, 4410, 16842, 46706, 18169, 39486, 40078, 43025, 31187, 38307, 43243, 40446, 10011, 8822, 28678, 23858, 13592, 22047, 9608, 10344, 19215, 623, 25448, 33779, 31993, 42174, 16058, 18945, 3373, 7015, 42467, 13936, 3234, 44254, 31855, 4813, 37691, 40329, 18378, 1777, 15518, 40556, 47276, 21509, 39173, 48952, 18249, 9783, 38971, 35676, 3675, 7028, 30500, 36104, 31587, 47876, 13228, 18914, 24289, 38081, 26436, 47455, 32972, 29815, 21890, 6527, 33388, 26281, 12523, 38022, 50005, 19008, 27889, 3861, 4909, 23715, 43381, 43624, 45516, 31277, 30527, 33502, 50824, 21049, 34922, 4641, 46377, 45338, 44864, 35670, 43951, 4754, 33932, 14217, 38684, 9478, 31235, 3865, 50790, 11942, 48638, 3471, 5466, 48683, 550, 1954, 10413, 25020, 11078, 49525, 16572, 31248, 42298, 34550, 38894, 12645, 40536, 21911, 41374, 14632, 35813, 33607, 22487, 41120, 47194, 10218, 17208, 45844, 9390, 9009, 25220, 24365, 34012, 1577, 14637, 37969, 3941, 32647, 23589, 22818, 39874, 39884, 30518, 39219, 36640, 48870, 28270, 15719, 20433, 21157, 22797, 3206, 26704, 17629, 1000, 28061, 50795, 23968, 44249, 4981, 32, 3567, 41497, 33949, 34377, 6838, 50792, 962, 36807, 34310, 12423, 40839, 6434, 17973, 32311, 15056, 13640, 6402, 23255, 50817, 30696, 42490, 31798, 48929, 13752, 49346, 11417, 41090, 28691, 24792, 13340, 7444, 464, 31186, 47438, 351, 2643, 49388, 4949, 10951, 39504, 3834, 15066, 28427, 19585, 33188, 33171, 44960, 42170, 7101, 35848, 30478, 29701, 18737, 8709, 5106, 43652, 28375, 51035, 20388, 10350, 46712, 34398, 1295, 15375, 20347, 14836, 19847, 51026, 43354, 36212, 24473, 13314, 30344, 8492, 43487, 7298, 16596, 38576, 12932, 29612, 9185, 26932, 12604, 28171, 9613, 41611, 13988, 6598, 19540, 25003, 19707, 911, 31515, 24711, 9561, 5132, 43262, 28038, 35993, 15316, 17121, 48919, 45418, 27921, 7924, 36947, 8303, 31245, 33530, 20736, 15028, 40716, 20184, 18785, 15013, 31520, 1012, 35150, 1440, 39574, 37002, 45503, 12289, 34739, 4107, 5482, 50114, 28638, 34611, 50814, 36060, 2265, 41351, 831, 49475, 45713, 11419, 15942, 6797, 10438, 31947, 44802, 42600, 23959, 34334, 47765, 49611, 17656, 24041, 35101, 17141, 34073, 15829, 48088, 19961, 12025, 1151, 37422, 36342, 23540, 10644, 1704, 18085, 41334, 26363, 19876, 26278, 26731, 10211, 39641, 49531, 42906, 31980, 6769, 12574, 41813, 24759, 12990, 39844, 4501, 5320, 49122, 30632, 10478, 19820, 10228, 47486, 38937, 7889, 34655, 10656, 44582, 21377, 3766, 7341, 40559, 47169, 31789, 27812, 28514, 23906, 48763, 23824, 50783, 18390, 50125, 1960, 49301, 42447, 43822, 9775, 3420, 45201, 43374, 24959, 17957, 41595, 51005, 47570, 47058, 41600, 15929, 41788, 37029, 14878, 48173, 51043, 7286, 28699, 31038, 19806, 8477, 8690, 40831, 27723, 24796, 8438, 9236, 8519, 18972, 14272, 16822, 42953, 22617, 46575, 16705, 7222, 17447, 22889, 32500, 29540, 37165, 49655, 775, 5111, 29107, 23990, 19454, 22126, 6613, 31196, 11873, 24333, 29200, 48893, 28879, 45194, 35839, 34238, 8569, 27610, 13585, 47113, 4232, 48161, 33897, 36749, 35560, 33016, 24452, 24752, 3060, 45250, 45976, 15135, 10124, 19414, 21827, 18596, 23069, 30369, 13725, 10357, 31015, 13627, 8033, 2311, 7622, 44836, 32214, 10327, 29650, 22760, 34079, 29406, 47613, 49597, 22534, 50587, 42780, 22056, 28421, 16378, 47305, 48987, 49683, 24489, 36802, 2814, 49861, 27603, 35713, 34622, 2295, 42741, 36378, 37526, 31977, 17248, 23816, 22258, 17128, 45842, 3156, 26507, 7003, 29609, 21789, 36583, 8292, 14295, 25045, 23998, 28396, 21906, 23719, 15551, 8360, 2979, 4825, 34410, 21198, 27578, 24735, 9837, 33822, 48536, 20478, 27780, 48537, 16986, 19679, 42047, 45383, 31488, 29470, 17404, 24721, 40298, 22845, 42528, 32486, 11866, 42560, 40585, 1953, 8555, 2165, 1682, 30777, 27054, 23929, 6604, 41696, 36588, 50063, 44603, 23348, 30802, 31610, 3736, 32816, 26353, 29647, 7288, 431, 1188, 40442, 30907, 41580, 39267, 32385, 30985, 42412, 3329, 45972, 29578, 41550, 29499, 46042, 29735, 7088, 24453, 23168, 34574, 39583, 3071, 14423, 45038, 49043, 8527, 49059, 21124, 10314, 21537, 168, 19212, 10309, 21525, 19498, 36522, 26875, 32960, 36097, 2415, 25911, 46418, 9217, 31638, 38855, 4538, 1210, 43816, 46685, 15883, 47732, 27682, 46198, 20937, 50881, 25254, 30145, 46352, 8196, 3683, 18762, 13330, 23164, 44354, 15335, 20051, 6042, 50908, 34338, 16913, 4050, 16722, 8927, 43507, 7808, 8024, 20672, 42994, 51040, 46595, 33052, 46741, 38535, 41093, 49571, 31358, 14664, 17421, 31309, 12602, 48840, 20102, 23791, 3208, 28473, 41228, 45214, 48100, 9529, 47470, 17728, 39330, 36304, 36637, 49998, 18675, 29833, 16720, 44993, 45729, 22002, 28352, 13685, 14996, 21261, 15553, 44598, 36203, 12426, 33958, 37439, 12488, 20581, 2816, 31814, 12154, 31294, 32633, 31198, 32254, 45000, 17395, 47049, 27687, 7130, 8541, 35646, 50252, 19686, 11533, 49041, 9983, 3757, 2447, 5962, 31887, 871, 5422, 25073, 11088, 45182, 751, 19450, 27527, 23004, 40469, 28484, 15490, 32868, 14524, 35784, 4449, 15515, 17877, 32814, 22372, 47408, 10722, 48425, 43821, 8779, 16080, 8076, 17993, 34692, 34401, 22052, 22158, 42901, 1966, 45804, 43693, 48387, 46798, 9740, 4165, 9750, 1114, 18548, 18187, 33925, 16524, 23923, 319, 16074, 19684, 22532, 33148, 12215, 40000, 19290, 4491, 28881, 22742, 11789, 22045, 32646, 6192, 12227, 36870, 24991, 19116, 43784, 21267, 10131, 6522, 33858, 21542, 28002, 28126, 19383, 45160, 6134, 26162, 13677, 43711, 14078, 27846, 37589, 7351, 13573, 38388, 46017, 30947, 16785, 32164, 25247, 49513, 39412, 13882, 7746, 24067, 19405, 4567, 16466, 13227, 48826, 641, 33552, 43875, 35457, 662, 38880, 31734, 11667, 49976, 27019, 41628, 36114, 19907, 38473, 9593, 22781, 736, 31953, 12086, 19745, 38556, 29421, 48617, 15289, 32120, 39569, 2986, 29, 21182, 34273, 40150, 9527, 5633, 25595, 4541, 10561, 16684, 29849, 20730, 37274, 28286, 1060, 11038, 19465, 28450, 27790, 35445, 47302, 49700, 46569, 12873, 11773, 21313, 19670, 24092, 38495, 36645, 20474, 16460, 4481, 29309, 26819, 29988, 13083, 1731, 50315, 9748, 16286, 30243, 40504, 50680, 20362, 3171, 40175, 8577, 12220, 36073, 33658, 40012, 12256, 25065, 3837, 16178, 6830, 8600, 47187, 48955, 17975, 14358, 39747, 37735, 34027, 23722, 26534, 35958, 47317, 44027, 34376, 32147, 25790, 38043, 21316, 43277, 26049, 8235, 10479, 10618, 27820, 10625, 5, 36760, 21398, 39248, 46342, 45197, 6764, 7964, 9290, 32074, 30524, 35752, 16673, 37891, 34858, 27464, 5817, 5625, 11834, 30959, 33693, 21401, 50176, 40223, 40250, 27321, 3159, 42363, 50623, 43793, 20787, 18220, 30390, 26394, 9261, 4379, 9169, 27767, 33224, 35890, 1216, 44794, 10236, 11477, 13452, 42735, 18864, 8651, 28543, 10359, 5244, 17650, 40433, 30639, 34724, 21363, 3980, 22407, 22060, 2375, 7368, 4357, 6640, 16075, 11970, 35439, 25712, 32752, 36400, 22873, 35118, 10591, 3302, 14001, 42677, 22058, 16817, 37110, 3573, 28403, 36952, 17138, 16161, 17274, 40269, 2786, 33765, 39491, 8538, 18136, 17028, 15450, 439, 39217, 50382, 29286, 41358, 26012, 1134, 11432, 28034, 31930, 23277, 34352, 24998, 31776, 5167, 35094, 24314, 42448, 15836, 34475, 23663, 39769, 33611, 38833, 1219, 32989, 4158, 1808, 24335, 34831, 40243, 40997, 42702, 42604, 30775, 722, 40169, 39388, 43105, 14138, 50025, 26779, 36973, 7393, 20758, 3660, 4563, 45852, 14845, 17845, 41513, 1737, 34025, 50308, 6120, 36199, 29545, 1388, 40935, 6788, 16084, 31634, 45605, 16356, 25293, 3239, 1962, 3731, 19979, 30328, 48797, 35530, 4132, 17802, 49923, 48690, 48323, 1810, 29691, 2795, 29329, 45300, 16348, 38224, 23456, 6387, 18851, 24143, 26939, 48440, 18167, 34627, 48812, 3646, 37803, 26257, 7989, 11279, 28744, 31062, 50717, 27639, 12115, 5090, 35520, 2752, 1815, 42199, 22381, 17272, 46991, 34798, 25504, 14581, 2971, 39708, 23558, 16119, 36291, 32064, 2778, 44678, 34265, 48830, 42176, 5996, 14528, 36180, 49866, 15435, 12970, 37685, 37626, 47584, 20167, 18578, 9198, 26096, 25659, 50211, 20539, 4755, 32137, 621, 13313, 8578, 37747, 20323, 36331, 5069, 37472, 6355, 9611, 4188, 13426, 2145, 40203, 21204, 44704, 5764, 17949, 7745, 46922, 12414, 8308, 36164, 26176, 17456, 8107, 36153, 29635, 24291, 46095, 4633, 23196, 1742, 40666, 34814, 30579, 32478, 16698, 23505, 21674, 24258, 14545, 42630, 4493, 675, 16147, 18289, 50510, 25007, 24261, 8314, 10467, 20728, 25658, 6189, 5190, 39014, 23155, 19700, 19154, 44101, 21042, 7483, 27946, 45191, 44511, 33024, 18933, 30187, 11499, 22451, 38844, 27108, 6629, 42958, 44308, 46583, 26432, 39920, 40970, 7773, 40499, 41367, 3512, 29495, 49669, 41162, 42689, 18579, 5168, 17313, 32289, 47937, 50177, 46286, 43539, 18268, 12542, 37037, 40400, 49030, 22770, 21351, 15465, 48453, 32531, 11988, 30937, 48576, 23434, 8848, 45447, 17885, 43691, 33536, 50930, 13289, 2701, 31340, 1644, 9896, 22811, 29872, 18426, 29490, 16727, 27376, 1555, 46020, 50566, 313, 2238, 19597, 37867, 33005, 36713, 19362, 45344, 10906, 34433, 8183, 9468, 27052, 5453, 31706, 42131, 19781, 32456, 3609, 23341, 33698, 21790, 47731, 17295, 44843, 7606, 49161, 23176, 50683, 8172, 13211, 13953, 17237, 17234, 41463, 17514, 20765, 4278, 6563, 27459, 43263, 29949, 18228, 2933, 12238, 15253, 5020, 46769, 28308, 26036, 44176, 46483, 11151, 50492, 18566, 42619, 33476, 20944, 13865, 42519, 25359, 3229, 12416, 7398, 46864, 49545, 31338, 24098, 21037, 7358, 4927, 21336, 11446, 16922, 5406, 13302, 4803, 1112, 34153, 50437, 35931, 26224, 8793, 42633, 10448, 3250, 44804, 22574, 24125, 47443, 15877, 25515, 3583, 12631, 32015, 29627, 35516, 34718, 43685, 23464, 22429, 29985, 2906, 16238, 32875, 13386, 7800, 16562, 4162, 41937, 12380, 16772, 47786, 40618, 21833, 46672, 41632, 30893, 30407, 35299, 8370, 39216, 26757, 33203, 48445, 3273, 5291, 2635, 31292, 40023, 12541, 3184, 8950, 20248, 29360, 26002, 31790, 36813, 40575, 26881, 35038, 23331, 30759, 42119, 46709, 30327, 10613, 20281, 22856, 3881, 21947, 36374, 31375, 48801, 46697, 11631, 42813, 23801, 2856, 6414, 10721, 31078, 45820, 4342, 47030, 19386, 7131, 28261, 34970, 32217, 43686, 34110, 45407, 24873, 27121, 36864, 14456, 7628, 28931, 26349, 38464, 29229, 25406, 42487, 17045, 12991, 44655, 17027, 4685, 22927, 8311, 10622, 26024, 434, 28544, 1287, 37773, 18257, 41820, 13094, 16995, 16677, 17437, 9004, 40154, 8414, 34144, 9404, 8523, 39942, 23976, 11289, 2129, 22425, 3637, 1462, 23511, 48773, 20590, 47940, 42539, 45891, 47668, 49193, 42570, 43743, 3748, 20703, 48277, 18106, 21164, 48450, 30564, 14057, 49492, 42625, 9328, 23836, 7810, 40427, 23072, 30643, 24284, 30107, 27784, 35644, 34211, 9961, 9639, 32073, 49514, 29516, 26810, 42903, 17718, 13258, 10496, 44453, 38049, 23754, 5917, 38034, 34019, 46077, 50557, 7888, 8601, 42066, 42187, 43636, 11547, 35348, 28934, 40828, 24369, 45230, 13702, 26477, 29613, 7868, 26262, 18591, 10353, 19646, 46119, 8059, 9927, 42797, 47057, 10480, 6821, 21241, 37921, 50486, 25333, 42830, 18944, 24273, 6967, 13926, 5888, 4827, 3547, 25881, 6326, 27890, 6782, 36215, 35600, 15993, 9031, 28441, 18843, 19666, 47666, 23486, 24987, 6461, 32988, 15436, 1074, 30186, 31945, 29727, 17389, 34903, 46319, 47971, 25910, 18593, 24673, 23604, 29121, 12470, 28963, 42489, 14552, 11863, 10604, 28168, 17703, 5317, 1291, 24446, 6424, 48663, 46471, 26206, 15814, 16289, 46733, 9660, 18599, 11317, 30516, 47484, 46297, 3104, 37059, 34059, 34124, 33344, 637, 7276, 27182, 14617, 3840, 3368, 16365, 2903, 20809, 13697, 47315, 5885, 10053, 30671, 30976, 19167, 28650, 30308, 31533, 8932, 10135, 22940, 6008, 5401, 8207, 46761, 8316, 35596, 43950, 22555, 21680, 37769, 25161, 43896, 44194, 11403, 2293, 7060, 12753, 47356, 30824, 31143, 49809, 17217, 48212, 6862, 17555, 2767, 18923, 41088, 40438, 8642, 41795, 30416, 41049, 41229, 2418, 24926, 33527, 15110, 43371, 33750, 48490, 36365, 38212, 47388, 44900, 46240, 20727, 46403, 37723, 46008, 10162, 5222, 26430, 24909, 18754, 22565, 784, 25684, 32969, 48771, 15290, 38596, 50674, 42371, 46217, 19754, 43927, 13117, 48800, 16068, 9259, 2164, 25052, 4551, 41571, 14795, 7879, 19626, 24860, 44148, 47254, 24437, 3807, 33096, 38554, 24461, 47248, 48579, 34368, 49665, 46623, 14281, 50515, 41809, 41566, 8080, 7952, 363, 40557, 38365, 8039, 29799, 3143, 35197, 28008, 36321, 22674, 21756, 48148, 6580, 41897, 3822, 23563, 47645, 40675, 7779, 43932, 35003, 34835, 12362, 22830, 12836, 36781, 23199, 39035, 47663, 22434, 7470, 35881, 516, 45692, 22291, 9488, 34510, 31386, 39452, 21987, 15716, 2273, 38984, 12048, 34229, 35894, 10343, 12512, 39195, 13857, 41257, 44824, 17575, 14380, 24030, 25590, 9733, 24984, 47974, 18383, 43665, 42368, 38058, 28889, 33574, 28172, 4267, 852, 14150, 43313, 40138, 5218, 3019, 47684, 5795, 17658, 18722, 13329, 19317, 19937, 25797, 35732, 49058, 30311, 34811, 12202, 39365, 5340, 38548, 39276, 35308, 22245, 49199, 15820, 38278, 35912, 42357, 50818, 825, 19576, 11804, 49881, 19773, 80, 46943, 18622, 13732, 40261, 184, 24001, 1800, 43642, 7570, 20866, 17780, 40458, 6373, 47619, 3282, 26934, 44063, 41922, 37347, 44475, 30016, 34761, 43607, 30895, 22665, 14160, 46453, 45391, 19140, 13832, 34200, 22900, 40343, 20264, 12343, 21795, 10040, 45030, 32344, 32690, 48887, 11237, 11014, 25282, 18836, 28190, 28422, 41929, 45465, 703, 21076, 11775, 40097, 25850, 38389, 5249, 37690, 24366, 18029, 38123, 34892, 43191, 4805, 47479, 17855, 30852, 13148, 2622, 1288, 38930, 12752, 47127, 36512, 3336, 15180, 31201, 222, 16364, 48868, 29413, 7449, 47024, 37810, 26789, 34937, 49826, 39313, 13823, 10439, 33633, 27825, 28203, 28653, 47574, 2243, 49302, 43092, 49495, 7105, 49011, 7865, 3585, 30589, 16911, 29731, 38740, 40196, 37170, 41164, 49662, 39279, 42358, 4729, 42888, 208, 16315, 8587, 9077, 31784, 41095, 1855, 46024, 46255, 24607, 36039, 39024, 20732, 11065, 26492, 6880, 14576, 20231, 7675, 28022, 11584, 48890, 6388, 4510, 50943, 9455, 32632, 19180, 31907, 25058, 16113, 13817, 6589, 33819, 23231, 41294, 45824, 5972, 48715, 11348, 6398, 27011, 49652, 2222, 38612, 8399, 46190, 19108, 3451, 21266, 35063, 30823, 26384, 4474, 2797, 10157, 38482, 6247, 37249, 32922, 27239, 34809, 47604, 27120, 41203, 18614, 11025, 6436, 1354, 12987, 3786, 9817, 47320, 45075, 583, 16718, 14817, 11514, 47488, 5567, 20111, 19637, 42559, 19292, 27103, 50014, 33857, 2835, 15246, 24216, 26866, 34936, 13567, 1745, 25116, 48444, 49354, 39950, 36829, 29942, 31330, 39356, 16472, 32883, 47881, 12682, 42082, 50288, 582, 36392, 4436, 471, 34329, 33845, 46469, 29101, 34834, 44286, 36759, 23647, 1078, 26461, 7873, 7681, 19217, 17813, 32437, 12474, 823, 5174, 33868, 33629, 47421, 32838, 41868, 47372, 12793, 17022, 19522, 32953, 35117, 30867, 45897, 6072, 42233, 37204, 43799, 40648, 11571, 410, 16076, 36661, 28226, 13653, 16446, 5200, 36580, 787, 1980, 4594, 23657, 4845, 7259, 7078, 24651, 40280, 32409, 8493, 48356, 30684, 38181, 10796, 42268, 35812, 42460, 27893, 31303, 24306, 826, 19218, 24035, 36649, 5113, 11437, 12436, 42227, 35515, 14376, 7059, 48075, 8693, 24742, 26260, 7683, 44627, 25585, 36381, 22178, 1524, 3351, 32498, 8782, 38275, 44823, 26089, 31167, 27743, 11364, 49177, 8557, 12292, 25268, 3565, 30736, 22581, 45917, 35271, 28553, 31307, 44426, 33534, 577, 41498, 36271, 5217, 37405, 14952, 30455, 34400, 26767, 27750, 11636, 7410, 33168, 40009, 35988, 26790, 5984, 3608, 18223, 50111, 1225, 16005, 36220, 15023, 19324, 20978, 15454, 43177, 2212, 38912, 4184, 44691, 16867, 28487, 24955, 33319, 48949, 26380, 11905, 5659, 24605, 14482, 4494, 421, 29492, 1034, 19448, 46203, 30935, 29070, 7616, 40183, 43369, 43155, 36044, 2631, 30614, 10300, 35973, 33198, 19958, 47895, 14203, 20666, 21447, 50151, 39655, 47657, 4804, 102, 37504, 15833, 48033, 43929, 179, 32186, 41026, 22196, 47366, 11083, 44706, 50690, 13876, 39608, 9804, 40404, 28682, 39869, 49626, 14899, 44662, 18045, 47471, 24924, 28204, 31566, 6437, 5454, 34893, 20365, 39473, 45289, 12360, 20091, 21659, 15848, 22850, 7740, 24729, 48345, 33567, 43908, 21213, 40338, 33660, 33407, 16262, 9326, 22299, 36589, 46605, 32581, 27130, 7457, 28994, 19232, 3128, 41968, 42334, 50441, 19575, 5958, 364, 36836, 5097, 38175, 3926, 20054, 28907, 2638, 37819, 2069, 10696, 3342, 31425, 34278, 22655, 35363, 38585, 42832, 6940, 644, 5802, 8660, 1016, 27173, 39992, 25307, 12030, 23089, 21214, 40646, 18634, 8697, 50555, 46355, 39454, 35258, 21083, 29034, 3779, 44567, 10248, 7631, 22862, 45724, 36417, 12686, 12849, 819, 36821, 41732, 7871, 7890, 154, 22984, 5055, 32257, 18618, 10167, 15755, 34171, 4314, 30099, 41714, 25541, 19038, 16780, 1752, 8688, 41938, 47144, 25188, 15224, 28452, 46362, 34518, 19333, 19652, 29548, 39209, 3209, 441, 24332, 25817, 33562, 5492, 18992, 21672, 35509, 8392, 31699, 30548, 37776, 46268, 16271, 26431, 1926, 41806, 10145, 19179, 10172, 19265, 538, 47591, 49829, 9867, 14511, 33529, 17815, 25405, 40058, 25869, 40475, 38944, 24571, 37129, 19214, 50347, 18359, 31175, 35765, 25986, 31151, 20077, 30537, 32228, 27489, 4119, 19496, 5255, 46135, 0, 22349, 865, 9154, 40246, 10087, 32041, 28035, 50812, 39799, 41249, 37519, 7996, 48749, 40513, 11332, 11728, 12872, 33302, 35675, 31246, 32117, 35315, 19332, 3549, 6185, 31684, 24163, 4846, 19326, 28279, 44128, 14204, 34116, 48373, 13711, 42218, 23238, 4425, 24850, 3214, 4140, 47935, 35375, 12758, 27345, 17006, 8246, 1955, 44156, 9115, 28177, 48540, 29537, 46251, 22283, 21035, 34675, 40823, 30406, 5349, 28770, 36157, 34280, 7997, 20663, 16931, 14964, 10569, 6711, 7413, 23771, 18206, 5831, 31661, 24440, 33258, 2338, 16750, 14871, 3519, 8365, 8210, 49870, 40266, 4726, 22589, 17046, 173, 44140, 47309, 24200, 49165, 39331, 21697, 24215, 21788, 30622, 23306, 7972, 29982, 29747, 37126, 7609, 10075, 21192, 8665, 923, 50898, 10503, 41455, 11568, 42723, 40496, 11219, 20583, 15437, 11989, 31273, 41889, 47085, 34869, 42343, 26506, 39285, 8430, 50463, 50989, 10966, 16681, 9862, 22893, 29706, 34415, 33075, 46965, 8068, 14644, 48592, 624, 28570, 15745, 44597, 7826, 6935, 21739, 50096, 28631, 34687, 49722, 17072, 30383, 28287, 33119, 16635, 444, 35660, 34373, 16033, 47965, 29443, 33713, 39207, 23088, 584, 47051, 28098, 23153, 37389, 18682, 49411, 11843, 38409, 20125, 39479, 11999, 1029, 10559, 31916, 28903, 34935, 13357, 44783, 16498, 24262, 10671, 40985, 35317, 35450, 8619, 15136, 24523, 5156, 38132, 21431, 3566, 35913, 35463, 17584, 10471, 41790, 6263, 33789, 25650, 46650, 21652, 35199, 24821, 49650, 18878, 24199, 47210, 6500, 41320, 34662, 29119, 19607, 19533, 10043, 11765, 31869, 43995, 43504, 10302, 8332, 40300, 11994, 24826, 30232, 33233, 23407, 22896, 16887, 50598, 11511, 31808, 15499, 36193, 31351, 13079, 41388, 37191, 34247, 44385, 14645, 11027, 47981, 2771, 9133, 21754, 17153, 36866, 25842, 13201, 50204, 6887, 3751, 34432, 39283, 44816, 30128, 47472, 15705, 2024, 13439, 1418, 18805, 19972, 44209, 43882, 48983, 16950, 23856, 21247, 13647, 45046, 37193, 11171, 28723, 8151, 13561, 33634, 43703, 18700, 1438, 13498, 46300, 38314, 19981, 16214, 47819, 46019, 40760, 21828, 6301, 12944, 4090, 31017, 51036, 11463, 23097, 39634, 5857, 13529, 12402, 49337, 7651, 39570, 4289, 8212, 5940, 2966, 13220, 4345, 34609, 22928, 32394, 28587, 25384, 20095, 11116, 26893, 13017, 27508, 29998, 9821, 35020, 50018, 15, 26067, 33673, 31637, 9176, 43006, 7739, 34473, 49800, 4087, 8808, 23077, 4731, 33197, 29330, 23624, 35054, 41734, 47135, 37208, 41449, 21186, 38887, 22216, 37608, 23189, 43288, 8044, 26611, 11611, 8656, 27095, 49384, 40402, 35200, 41591, 41753, 9117, 45763, 20367, 1424, 13179, 14143, 43459, 47800, 29904, 17560, 13591, 1854, 5712, 33038, 23661, 41387, 564, 5326, 30236, 49672, 10924, 509, 31088, 32509, 30405, 26915, 12248, 35767, 31234, 32300, 33646, 11222, 6863, 19656, 40845, 35526, 7796, 7454, 12363, 27691, 46791, 4503, 6827, 5515, 1373, 29625, 29915, 10130, 48631, 37125, 4099, 30122, 27504, 27945, 38802, 24066, 36260, 25841, 47384, 1353, 40022, 41079, 39047, 23756, 5908, 744, 25902, 23643, 35254, 27026, 12412, 8148, 36886, 17657, 36974, 37798, 48587, 1913, 28080, 19521, 26985, 6218, 820, 16449, 48352, 2312, 32389, 28618, 18575, 27285, 28581, 867, 1901, 48360, 45033, 21894, 1339, 7482, 26248, 27674, 26959, 50793, 729, 32104, 44448, 38242, 49950, 1849, 20141, 48306, 10674, 37894, 17220, 27219, 27150, 47310, 10287, 4118, 40570, 50525, 9692, 14588, 6794, 25536, 33808, 23721, 50904, 4305, 17416, 38424, 8850, 15424, 17469, 11917, 26497, 25033, 35479, 17534, 39639, 1905, 20993, 11435, 38026, 38779, 31817, 32390, 5756, 35559, 21430, 17716, 40802, 28864, 48956, 36419, 47921, 26320, 9030, 49310, 48796, 31466, 30966, 12678, 1193, 41770, 25134, 19903, 12996, 22709, 10737, 24658, 37269, 32371, 40604, 19681, 37148, 14572, 30655, 28772, 19112, 39813, 16538, 27817, 6668, 7853, 42272, 27370, 40734, 2450, 40451, 20854, 25488, 36266, 39124, 2907, 28694, 24590, 10870, 40750, 31128, 4943, 17315, 37319, 46860, 51051, 1044, 49838, 27966, 26883, 48175, 12609, 23197, 5278, 23787, 16230, 37338, 6748, 31646, 46317, 30761, 18153, 1910, 1671, 26268, 46722, 37883, 16011, 26814, 28970, 28135, 26487, 32239, 4967, 4279, 20384, 3304, 8799, 33549, 48573, 23570, 49087, 50011, 20423, 47089, 35759, 36860, 6260, 11918, 1711, 10239, 35633, 10148, 50021, 24833, 20985, 7956, 15772, 15700, 43052, 40987, 12928, 20754, 2356, 36295, 11189, 33237, 20153, 19663, 33817, 41247, 42787, 14142, 17587, 2372, 21858, 30519, 25392, 37276, 25777, 1049, 20556, 34068, 4398, 17659, 37678, 7947, 32895, 20467, 15679, 24593, 9220, 17737, 46379, 14541, 22115, 21822, 45307, 10249, 38540, 16542, 50416, 37914, 44970, 23639, 32982, 9074, 6870, 46266, 22903, 37671, 18627, 50391, 13563, 31318, 15257, 37408, 48251, 43298, 13524, 443, 38606, 46832, 17818, 15322, 7181, 3003, 45102, 32411, 41707, 10076, 43355, 21685, 37103, 4517, 33284, 23374, 41685, 7649, 6957, 14579, 44559, 27274, 32885, 4950, 39143, 42641, 14808, 13522, 49194, 29728, 33303, 21480, 11156, 15145, 21479, 39391, 47344, 34381, 16144, 39671, 22886, 11663, 13597, 35835, 36182, 13222, 2288, 23027, 39561, 21604, 2282, 44936, 31111, 6623, 45007, 20520, 13309, 49045, 8335, 18026, 30051, 26538, 20186, 13381, 45232, 23334, 35484, 22079, 36503, 35701, 23851, 28181, 48135, 50162, 33849, 36434, 21762, 19409, 35194, 38796, 8873, 49140, 27185, 49690, 20708, 50004, 28746, 27123, 37548, 47183, 17983, 17843, 11423, 17822, 29611, 35612, 39637, 14578, 48575, 45106, 38319, 18902, 23822, 32897, 34580, 40413, 29895, 9483, 40964, 4476, 45646, 44068, 22780, 13837, 21584, 2937, 21382, 17760, 19970, 25604, 8535, 4411, 9972, 39597, 4891, 43925, 8869, 37986, 4631, 11535, 41669, 23258, 46856, 15702, 41647, 11841, 25980, 39784, 34287, 1827, 18276, 15134, 15559, 47238, 24477, 34484, 43071, 21720, 23669, 22046, 4817, 34677, 7215, 41855, 37574, 14725, 14630, 18098, 31361, 35369, 14173, 27253, 33387, 2487, 19706, 26479, 4186, 27707, 34207, 44962, 10081, 22644, 38080, 3784, 21522, 34108, 41706, 10756, 15084, 46815, 9696, 49069, 31382, 20845, 41893, 7, 27061, 39151, 19081, 42279, 44001, 44781, 8052, 3639, 28182, 15757, 50309, 29178, 48618, 15819, 35384, 48544, 15438, 34345, 18552, 34594, 39961, 14027, 50862, 2959, 32396, 10593, 44127, 37465, 37198, 29699, 14351, 28589, 31032, 48227, 22653, 29595, 33329, 10430, 24930, 11777, 31322, 8777, 41212, 23882, 37853, 50218, 11152, 31311, 22030, 29745, 43136, 30291, 25676, 40533, 27758, 6562, 19986, 42135, 20959, 41329, 32092, 5553, 40125, 50628, 47639, 30840, 27046, 15175, 47855, 20022, 3663, 39453, 48888, 8707, 11166, 14031, 539, 30599, 13463, 19584, 31402, 47752, 33515, 17193, 39997, 20721, 10962, 28945, 1897, 24606, 14501, 23432, 6561, 29467, 15847, 41379, 33300, 28488, 25434, 48074, 25810, 38137, 24438, 20155, 32663, 22315, 11507, 41479, 9530, 28935, 16295, 19822, 29465, 35364, 37023, 32609, 34727, 23323, 10345, 46292, 46258, 20530, 28913, 18221, 12249, 610, 50474, 41462, 41832, 2124, 13451, 27971, 35856, 43012, 43639, 21531, 49385, 2390, 45328, 19121, 6810, 45278, 9820, 22567, 24799, 30771, 9559, 13631, 25231, 33162, 36333, 8839, 17566, 32577, 24447, 25450, 44372, 25127, 7302, 19853, 8188, 24448, 7117, 39934, 9111, 39982, 35486, 7035, 42579, 8279, 22704, 21099, 19866, 9312, 36884, 33889, 32669, 11995, 36415, 23989, 26903, 11826, 13828, 36148, 25996, 1070, 30585, 24118, 6707, 20233, 25528, 9926, 4954, 41496, 17476, 29266, 29553, 36461, 19579, 17359, 27288, 11496, 26229, 43341, 33921, 7012, 1289, 5644, 1830, 47441, 39590, 40560, 40088, 27844, 35503, 36003, 37767, 7122, 17744, 42458, 5279, 18076, 23021, 16360, 23536, 409, 34227, 28565, 3109, 48162, 43926, 16491, 6883, 11501, 12004, 20913, 34158, 30772, 473, 29783, 50350, 35335, 8439, 38418, 25040, 26398, 362, 47694, 19832, 50405, 49770, 22824, 13791, 47312, 32720, 41402, 12160, 35798, 41650, 48993, 43811, 46773, 8853, 14474, 34464, 24580, 24517, 29983, 41530, 41314, 40103, 16680, 8957, 43647, 31770, 7402, 15747, 20930, 4942, 29404, 27287, 17676, 45231, 45187, 32067, 45249, 43551, 17628, 32569, 2724, 22706, 26231, 26856, 33288, 21637, 22745, 4608, 29139, 22558, 41111, 33183, 23214, 33770, 3713, 38028, 4968, 40701, 1710, 28672, 23150, 36135, 13167, 47544, 19141, 3072, 46420, 18315, 29387, 25632, 41427, 42055, 44197, 7007, 6117, 42680, 28460, 681, 9795, 10698, 29927, 45, 40449, 8380, 41683, 40867, 46039, 45077, 23508, 17488, 42257, 17928, 2605, 15407, 32664, 45114, 13353, 40811, 8811, 4720, 3085, 38056, 1552, 30955, 2201, 35599, 13015, 22433, 2925, 3936, 37309, 12884, 35715, 21428, 18755, 26648, 27412, 26990, 43949, 23459, 43353, 19111, 44625, 44011, 1102, 11750, 21478, 14313, 4487, 38824, 30567, 41432, 25589, 3310, 14989, 41598, 1405, 31883, 3906, 28698, 6921, 24029, 32393, 35281, 28155, 30421, 28542, 9155, 16545, 44464, 46085, 8133, 15605, 29167, 25419, 36668, 19493, 21765, 46250, 24427, 28847, 2213, 13574, 48039, 33910, 43218, 48331, 30829, 48258, 2305, 13603, 47185, 40592, 32473, 27745, 8442, 27142, 50937, 39223, 39158, 37890, 19950, 28835, 14988, 26421, 48138, 21590, 29458, 33345, 38670, 35889, 11305, 12060, 688, 13073, 15328, 40182, 9300, 30970, 42848, 47034, 20024, 15330, 18353, 11255, 9322, 19195, 23445, 11757, 28088, 28225, 31179, 5714, 23207, 38005, 15009, 1796, 40431, 30670, 28224, 39027, 6163, 41032, 4588, 30690, 50262, 10995, 37363, 14981, 35549, 10660, 29366, 6184, 30172, 43959, 5005, 6332, 13848, 46648, 38249, 30300, 33397, 42120, 29369, 27811, 15773, 14381, 47902, 14607, 24321, 22735, 40673, 14005, 21034, 17567, 4686, 42141, 40764, 3086, 2303, 49715, 9601, 19272, 23584, 35205, 10768, 32602, 42139, 2046, 27955, 47701, 30012, 13477, 38696, 6873, 2517, 15728, 394, 30909, 37642, 36067, 31281, 41019, 11966, 27577, 17520, 27519, 46999, 37636, 15813, 26859, 43492, 26804, 45805, 48435, 43425, 10891, 2036, 18110, 38428, 37544, 36128, 37873, 20654, 44252, 33895, 33376, 39872, 35086, 2091, 22187, 45342, 5624, 21945, 13570, 17204, 15938, 44972, 24707, 43742, 30020, 12663, 31588, 23761, 35809, 40699, 43661, 24500, 44599, 41553, 17600, 47321, 28844, 7525, 32571, 20749, 46765, 20851, 20399, 19397, 21423, 8100, 4245, 1535, 27855, 47236, 23748, 41123, 7056, 926, 39235, 1832, 49323, 30054, 973, 39437, 7697, 29652, 42177, 35407, 9570, 16048, 40573, 19761, 41487, 43253, 31230, 18099, 50282, 510, 48363, 12419, 40818, 47674, 1370, 27895, 28703, 34254, 48176, 45110, 46457, 20726, 28263, 18299, 21869, 16901, 25038, 46635, 31606, 1400, 36160, 31565, 14987, 9448, 44014, 15378, 30917, 47420, 3676, 6248, 19852, 39649, 33511, 30479, 45530, 40820, 9925, 22086, 11902, 21265, 22114, 32557, 35377, 29276, 29566, 30001, 19366, 42623, 6670, 32879, 49857, 41369, 5463, 22177, 18397, 35182, 13095, 39706, 2334, 19123, 9644, 4485, 6970, 40440, 31264, 5230, 49671, 5098, 30572, 29976, 19624, 28883, 36389, 45071, 10724, 19601, 7923, 5417, 20199, 39261, 38120, 9998, 3245, 35372, 31084, 21440, 30533, 7225, 36846, 4542, 10261, 4603, 34146, 30473, 32984, 6806, 13433, 45954, 5114, 19789, 20723, 38600, 35233, 19248, 39563, 50723, 8443, 26688, 13063, 42729, 50861, 2848, 29898, 28297, 46628, 47901, 2716, 40114, 11928, 23102, 47391, 37936, 24186, 47056, 14246, 11488, 35340, 193, 30254, 12505, 22284, 24808, 4388, 1355, 27475, 34389, 19797, 20105, 27015, 40505, 34149, 26000, 31619, 21437, 39162, 27521, 17772, 21787, 34212, 45251, 36541, 18731, 626, 36234, 47507, 35198, 43417, 11385, 36540, 30717, 4800, 9930, 49697, 35338, 29853, 28585, 30727, 8996, 26113, 49254, 8722, 32013, 22929, 43290, 11093, 10216, 48443, 8016, 19084, 42399, 13174, 46029, 48146, 20330, 42918, 15983, 18736, 8478, 40074, 27571, 12767, 8280, 12803, 9712, 29874, 40127, 12493, 9578, 46955, 20107, 26417, 42152, 43118, 324, 16518, 42948, 332, 42601, 12579, 3574, 26244, 33595, 14248, 24723, 45943, 24744, 39164, 501, 30258, 49709, 21696, 41534, 39926, 20247, 49330, 38853, 31615, 42974, 36237, 39012, 2678, 30850, 31063, 4691, 31844, 36816, 27206, 25460, 42022, 34789, 26254, 46632, 8561, 30403, 50373, 40541, 29440, 46435, 9826, 33652, 36456, 22067, 3088, 18341, 47796, 27697, 37051, 981, 48542, 29806, 41261, 26488, 32417, 43073, 7971, 754, 31812, 7804, 36498, 41009, 18247, 9971, 41279, 20835, 45063, 20875, 35834, 37758, 2991, 47915, 23809, 24388, 33872, 6901, 18672, 20188, 32642, 6990, 10118, 25558, 35563, 47590, 40639, 29089, 29375, 49378, 13124, 20831, 9729, 38061, 6294, 35663, 38919, 28465, 33945, 331, 13218, 24743, 26727, 45379, 19900, 44607, 29243, 29477, 2134, 32625, 19488, 50877, 19708, 26503, 25314, 44471, 42155, 43401, 45308, 21273, 18011, 31260, 3515, 18613, 2087, 49522, 43867, 22999, 33638, 2, 23843, 25465, 23135, 25837, 223, 5301, 43807, 50478, 44676, 44022, 36138, 18559, 39726, 46704, 4358, 23408, 35427, 27361, 15592, 8851, 18108, 49512, 46294, 31342, 47975, 49005, 18588, 17666, 30259, 31555, 14258, 12352, 17680, 30017, 19931, 11747, 17142, 44251, 46502, 1410, 7886, 46478, 13103, 25243, 1912, 32162, 7407, 21504, 41302, 50163, 11856, 38560, 41154, 2926, 43495, 33060, 45613, 33873, 49164, 31850, 20604, 5684, 46899, 46407, 44103, 36318, 43828, 30033, 18523, 44510, 6802, 13288, 21293, 15548, 24534, 33708, 5178, 23741, 33333, 17023, 15778, 46097, 16759, 4036, 34525, 26467, 25103, 7851, 13538, 22804, 39172, 25455, 34341, 25694, 48693, 48478, 43936, 10699, 36965, 50435, 43991, 45895, 20456, 29633, 966, 175, 16191, 3578, 25493, 9510, 2967, 12889, 48264, 12632, 30278, 27692, 44347, 49705, 17595, 31811, 30084, 27625, 49306, 11218, 50415, 23985, 7281, 23983, 72, 40931, 17373, 32502, 2429, 24481, 5728, 29344, 7523, 24797, 12607, 9392, 37958, 22392, 22447, 36422, 30762, 50233, 35893, 9327, 34929, 50953, 20029, 9026, 49645, 16626, 24089, 47889, 36871, 22572, 36517, 8749, 34293, 32802, 14883, 9697, 7445, 19223, 50811, 9928, 1751, 22243, 42932, 51030, 48635, 5743, 22460, 16821, 31479, 1026, 25705, 41415, 45571, 5522, 37954, 32980, 47481, 19794, 6039, 31156, 36564, 22957, 8227, 2125, 24137, 2812, 25294, 46105, 31809, 45666, 23466, 25363, 10421, 49213, 11190, 17382, 24152, 13728, 23006, 17526, 48586, 12740, 17917, 11248, 42904, 3126, 28040, 19034, 44849, 18481, 28067, 41848, 31061, 4271, 39169, 4870, 34657, 16016, 1239, 34493, 43657, 37718, 16699, 40822, 16156, 9334, 3928, 41733, 10378, 12109, 7896, 29069, 41541, 46676, 22960, 40596, 3436, 47152, 36393, 12822, 37950, 16678, 26209, 10198, 1338, 29554, 21312, 30475, 14800, 24901, 45100, 41061, 12383, 21695, 38041, 15205, 15484, 2808, 25322, 50260, 27127, 29451, 43024, 34071, 16386, 13783, 46040, 2915, 16208, 32044, 8170, 14227, 32301, 42073, 47835, 15706, 38769, 2088, 38146, 36357, 50214, 20675, 20035, 35744, 2524, 3631, 7994, 9869, 42115, 39337, 752, 24699, 39176, 15343, 46364, 50036, 619, 19098, 24463, 4858, 25960, 23449, 940, 10725, 9741, 18240, 45581, 5053, 28117, 24015, 13833, 31749, 3976, 14171, 15831, 42688, 21044, 32376, 8686, 14761, 32853, 31005, 28949, 34426, 5925, 24110, 12287, 238, 42210, 29185, 44853, 19559, 8427, 33796, 44255, 17358, 13070, 39317, 33550, 33240, 45537, 44481, 12081, 34703, 45674, 44574, 49307, 9615, 31507, 312, 43934, 45794, 10416, 8560, 28078, 10857, 11596, 20768, 1727, 5506, 35077, 7218, 44368, 29825, 13719, 38823, 19581, 28411, 25150, 47442, 15308, 41898, 27443, 47630, 5933, 28336, 13368, 45196, 47354, 9671, 32091, 19293, 16269, 42, 45399, 46634, 18955, 13723, 13238, 42071, 42468, 17000, 42621, 35485, 43450, 5669, 41471, 49572, 7639, 21148, 3401, 27839, 27969, 49772, 20345, 29869, 33642, 33618, 41997, 34300, 26028, 36027, 40619, 33077, 10776, 28604, 13276, 5226, 31373, 23367, 34390, 39257, 19194, 35954, 31701, 11874, 50940, 21794, 7235, 28828, 24159, 7696, 46937, 20741, 3315, 45914, 39600, 88, 20180, 3641, 44885, 48605, 245, 45939, 23970, 15259, 1200, 47324, 19313, 20328, 23297, 17377, 6684, 21682, 46451, 8760, 43470, 32319, 32155, 9969, 15371, 42955, 42103, 11425, 36828, 37641, 6713, 42007, 25403, 9653, 4047, 37539, 33946, 39243, 3269, 25483, 6330, 34909, 6828, 41098, 12719, 38207, 565, 14794, 48093, 14469, 42577, 28616, 31550, 45901, 29781, 2223, 45787, 46344, 5302, 23381, 17380, 13016, 11356, 20792, 10780, 41288, 27923, 2335, 6351, 47517, 27481, 39678, 13739, 12354, 46174, 27065, 38878, 29254, 39812, 22462, 24952, 18330, 6597, 51025, 20814, 38703, 3493, 7785, 39020, 24599, 23360, 11483, 38317, 17794, 37343, 17736, 45233, 28506, 16334, 33042, 35008, 24582, 50487, 19165, 21255, 49928, 16474, 18321, 35072, 42581, 17613, 36207, 23946, 19618, 40249, 49855, 35252, 41762, 32131, 43226, 46714, 48160, 1396, 8810, 964, 40305, 13076, 10812, 2161, 25279, 49488, 22225, 1299, 12323, 16997, 32246, 37313, 3869, 36314, 25773, 37784, 34691, 49595, 48121, 35095, 41278, 24292, 43736, 27391, 12620, 28105, 8284, 4417, 4882, 18181, 30049, 5818, 50840, 40333, 22640, 16577, 643, 33115, 23812, 11975, 16480, 23206, 40255, 28148, 17513, 40368, 1015, 35352, 31997, 3116, 7416, 18395, 21138, 29793, 48011, 31968, 25781, 1337, 20209, 38935, 30069, 29260, 975, 10986, 43323, 19216, 7002, 26376, 13390, 17909, 41102, 30779, 44136, 22868, 3035, 44556, 40527, 4552, 38826, 30112, 6364, 7995, 2590, 4229, 26192, 22041, 3468, 36476, 3002, 32893, 26563, 29962, 47075, 27348, 15690, 27761, 34190, 32245, 40864, 31548, 30870, 13435, 7293, 37041, 34494, 6679, 24713, 33361, 34555, 22276, 15623, 5879, 16609, 44311, 42643, 33906, 20588, 34802, 14968, 42754, 7929, 18454, 28342, 24587, 3467, 35037, 16294, 26515, 27591, 11613, 9942, 40410, 4353, 1315, 45301, 6470, 39929, 45392, 28134, 26249, 14119, 1812, 27539, 28075, 31296, 43855, 9722, 23415, 9690, 36997, 14916, 37220, 15376, 37192, 7772, 10753, 21561, 40237, 39741, 25198, 4637, 4363, 32566, 2381, 34843, 21948, 22662, 11010, 22756, 27477, 17236, 341, 10317, 45479, 40672, 24649, 15740, 11413, 9151, 797, 32800, 23078, 29557, 1661, 47382, 19689, 19235, 48303, 31955, 25401, 39679, 7542, 45545, 1509, 34800, 13776, 30137, 43938, 35242, 36189, 33037, 5436, 13007, 27768, 25794, 13748, 25594, 22234, 320, 24981, 46367, 14938, 25113, 34320, 49993, 34690, 42390, 39662, 22311, 26441, 9832, 27115, 11208, 47612, 1709, 49869, 20432, 50569, 24255, 32215, 7157, 49615, 15845, 38580, 42001, 40389, 42375, 17940, 27452, 3940, 8115, 28197, 14250, 29401, 3723, 17581, 8620, 2918, 50769, 39213, 41046, 11271, 14420, 26308, 28873, 32604, 50229, 22011, 28188, 3277, 15368, 37843, 34163, 29864, 8355, 19238, 5196, 683, 14853, 2951, 29586, 36920, 28167, 38328, 493, 27615, 8628, 17641, 47125, 48747, 4842, 48610, 39344, 49168, 2205, 29519, 33923, 50257, 34836, 24351, 1937, 27442, 25400, 32308, 2987, 25498, 48767, 18612, 11069, 36559, 23180, 28524, 5334, 46975, 23576, 7092, 49401, 13028, 24953, 15182, 12692, 9786, 24024, 3950, 6963, 4066, 37521, 33746, 48476, 13892, 21895, 43230, 6479, 32351, 1739, 48479, 15446, 26913, 12969, 29310, 35757, 30834, 5150, 32809, 34733, 23931, 17251, 5481, 23042, 1539, 16888, 8131, 18027, 3094, 28420, 11011, 16361, 10641, 8835, 44018, 18732, 24617, 41535, 33877, 28592, 48424, 5404, 34011, 11472, 34855, 49437, 13265, 16385, 1270, 37416, 46070, 29285, 33045, 45361, 15803, 15738, 50926, 7748, 32963, 28185, 14390, 9443, 7768, 4680, 37167, 22351, 48927, 21346, 39674, 35220, 16053, 2181, 17714, 8366, 27113, 14132, 5216, 43763, 27286, 23245, 15044, 41594, 48623, 3223, 29471, 35292, 33257, 39054, 46047, 15722, 39848, 31393, 37892, 21230, 42857, 19144, 1215, 21580, 17483, 20136, 18476, 44438, 17415, 11462, 7331, 20965, 27620, 30606, 13981, 753, 32543, 10263, 15480, 18715, 50641, 37154, 49674, 15899, 24661, 12709, 42746, 23760, 40293, 4548, 3150, 28738, 9302, 39917, 32753, 16973, 38904, 33933, 8914, 41776, 20170, 37075, 24969, 46915, 206, 45925, 30766, 7791, 17542, 9434, 33775, 39977, 16408, 11911, 6390, 44922, 23913, 46594, 33277, 3418, 50187, 43267, 2899, 32496, 2865, 16397, 30241, 45171, 15749, 18796, 4527, 9005, 47599, 15169, 8397, 8096, 15514, 5948, 39113, 7970, 34964, 21282, 26035, 28952, 32506, 9106, 17309, 50765, 33116, 48194, 36712, 31492, 49308, 20124, 19321, 5394, 11690, 34354, 44227, 47760, 51049, 50822, 27709, 29583, 13011, 35177, 40621, 32950, 45144, 39903, 29374, 44684, 3323, 32862, 18114, 23470, 34986, 1708, 45241, 10128, 4980, 29274, 44653, 20143, 3782, 6186, 28701, 14514, 3911, 46721, 22537, 35251, 27263, 37612, 30461, 23188, 3704, 33486, 38644, 15008, 9369, 48094, 28622, 25993, 27729, 23883, 22847, 1935, 24630, 13786, 38958, 40283, 21662, 38323, 853, 30934, 35159, 12735, 45108, 25152, 46878, 8161, 34825, 48048, 50847, 16211, 48482, 15806, 1668, 23634, 14372, 34977, 161, 25887, 28779, 14555, 274, 26897, 20920, 14849, 5030, 49113, 45620, 10233, 4376, 22657, 18519, 41150, 30986, 26635, 34160, 37425, 40398, 24266, 23737, 21239, 35959, 4079, 6468, 37728, 17013, 15508, 49234, 9107, 30456, 49218, 34723, 22794, 35950, 21709, 46074, 17662, 25734, 37623, 2333, 24581, 483, 10072, 18858, 15158, 13513, 24167, 29575, 47625, 44275, 16135, 38621, 15306, 1611, 41186, 15985, 7176, 30057, 18885, 22070, 21979, 10853, 27695, 12967, 33576, 10042, 34154, 13746, 6448, 36464, 14957, 31300, 38978, 50067, 7434, 35994, 43178, 4473, 32584, 37783, 46986, 18831, 12644, 34187, 32381, 5921, 19880, 11598, 45970, 39274, 400, 13853, 39011, 37368, 32316, 1532, 37460, 37106, 20915, 49786, 27987, 7270, 44107, 1858, 18495, 11921, 23467, 28007, 31532, 25609, 29187, 36144, 33423, 33070, 15969, 1267, 11971, 22341, 46290, 49483, 40056, 16094, 42466, 35588, 28541, 10842, 13949, 14424, 6426, 31654, 9451, 3606, 2817, 25239, 18746, 14259, 9669, 26686, 40732, 1834, 37792, 9659, 17819, 15871, 28802, 20050, 49688, 9815, 46617, 34324, 35291, 9272, 45699, 27543, 43832, 18721, 29209, 10445, 9560, 31779, 46365, 23205, 17163, 11964, 29508, 10486, 38327, 42006, 40595, 48864, 47000, 36656, 5952, 2032, 20436, 8434, 33524, 6078, 15208, 15807, 6980, 11800, 31704, 3363, 5794, 32964, 34865, 42333, 31842, 16177, 1420, 41564, 43418, 1624, 6450, 33690, 46168, 23637, 12534, 38348, 48902, 13840, 49577, 16007, 47677, 41518, 24518, 2340, 9291, 8599, 10339, 42785, 36809, 33256, 20190, 8567, 49640, 47299, 38210, 28593, 20735, 29120, 28251, 44484, 20270, 46246, 15293, 47882, 36453, 48684, 27335, 7503, 42736, 15610, 36309, 3974, 21036, 20437, 13999, 1510, 14146, 5147, 1031, 39129, 10996, 34767, 10651, 20563, 47204, 29012, 13335, 9377, 46541, 40464, 23757, 29779, 6726, 21135, 22540, 1045, 5532, 42690, 23834, 13742, 20142, 26165, 3023, 4415, 33730, 48606, 29674, 16213, 38956, 9747, 46938, 26462, 45375, 29676, 2476, 8258, 44769, 43482, 18368, 26025, 43768, 49561, 8945, 38524, 27594, 2759, 17414, 26642, 4385, 43015, 10740, 7608, 11339, 15327, 38395, 42501, 50529, 21126, 46234, 29418, 38112, 27316, 32544, 1330, 44351, 31158, 8419, 42410, 4818, 28389, 45165, 35514, 3584, 39103, 42351, 42303, 42089, 37314, 34993, 46054, 14241, 517, 1185, 13659, 21516, 11064, 25098, 18598, 2819, 2122, 45416, 19622, 5877, 35079, 46885, 22343, 49624, 49775, 38062, 20162, 17408, 18248, 22066, 4268, 47616, 13637, 27797, 43227, 5101, 7230, 49899, 50289, 49173, 1876, 35232, 39456, 33566, 44047, 17196, 14367, 49568, 1296, 22554, 40304, 7342, 34045, 19361, 47929, 15526, 44756, 30202, 2629, 10103, 17280, 32325, 5110, 1607, 24684, 36632, 19948, 44142, 19768, 45818, 25039, 4189, 37001, 26203, 16256, 32790, 46026, 39873, 30074, 5643, 24690, 13136, 31582, 20531, 28170, 17139, 5322, 43529, 8585, 24198, 27384, 13695, 4170, 34122, 24301, 46259, 32914, 15453, 34483, 41885, 5744, 23610, 12611, 23402, 23594, 47758, 37932, 29916, 10590, 17224, 21660, 11095, 20103, 14843, 45621, 2538, 17167, 44757, 1471, 31047, 24432, 12395, 48728, 29925, 7139, 29955, 24011, 40896, 6822, 21573, 5261, 35963, 47808, 15054, 9014, 47525, 43229, 12014, 40390, 19692, 36693, 41144, 34852, 50776, 27028, 40772, 5236, 22297, 3957, 37497, 39383, 2823, 38150, 4214, 10133, 50865, 1936, 10624, 35245, 26747, 37695, 34007, 44973, 41640, 48313, 15326, 4702, 11160, 43020, 20344, 45788, 46307, 4469, 43726, 17899, 33068, 13897, 11542, 30459, 3040, 10139, 31979, 17988, 20855, 40160, 44779, 36907, 42077, 3952, 35836, 24383, 23433, 15363, 45104, 44841, 24336, 48087, 44294, 10322, 26289, 33888, 7700, 28051, 35652, 30019, 33635, 38866, 50663, 26996, 42425, 19425, 15006, 38998, 20505, 1324, 27951, 1656, 39406, 37703, 32623, 23782, 14273, 16662, 22399, 48037, 14017, 32154, 19615, 10851, 19502, 5806, 1772, 44941, 46846, 50585, 16305, 34276, 13307, 47768, 11440, 11013, 27959, 2755, 7427, 40162, 50661, 16507, 36606, 2983, 44273, 26188, 26756, 46852, 16420, 17362, 14280, 20559, 50190, 6131, 37304, 19122, 30869, 42686, 26502, 15506, 18290, 15218, 42768, 41804, 4992, 22750, 14299, 12141, 38987, 50565, 37581, 17708, 46589, 47697, 32328, 27994, 47535, 5545, 40718, 32861, 39963, 46587, 18402, 19149, 34671, 37130, 36236, 17249, 4328, 20791, 29671, 8143, 40104, 32856, 35178, 42814, 2981, 22316, 36909, 6392, 7408, 14348, 20922, 17580, 39593, 16880, 8605, 10259, 10201, 42703, 22348, 7514, 23080, 41295, 39988, 33379, 706, 27611, 44833, 27886, 18619, 26944, 43839, 26884, 50423, 30682, 19435, 8488, 24667, 23704, 32911, 19860, 438, 41146, 3391, 13065, 750, 47448, 11567, 29315, 19433, 50256, 25784, 20611, 17506, 46378, 12771, 27071, 44857, 11280, 47691, 44488, 31640, 17859, 36762, 19221, 41283, 29198, 35992, 18744, 35909, 28575, 15827, 26422, 7365, 36659, 27306, 30913, 8742, 21358, 39352, 21368, 13464, 28113, 45083, 49277, 46882, 10889, 20842, 36793, 18509, 46780, 16210, 19641, 2405, 46606, 33903, 22932, 32827, 30804, 3890, 8029, 46645, 26742, 47064, 16105, 22057, 45945, 39594, 40538, 5066, 16924, 48628, 219, 46894, 12137, 37895, 50155, 27405, 10960, 41907, 48081, 36880, 28176, 43184, 50687, 99, 17056, 45799, 45141, 6053, 8318, 27862, 21932, 17605, 16895, 43145, 50523, 37436, 48925, 28479, 4021, 18809, 3755, 7474, 12851, 6473, 23489, 46907, 29826, 33628, 21270, 8650, 7140, 5738, 33960, 40095, 16692, 13639, 599, 18159, 23655, 35841, 20495, 2736, 48335, 5002, 36268, 39402, 17457, 20752, 26124, 32421, 20230, 10425, 49256, 36677, 37231, 14900, 26068, 13813, 5938, 8123, 15579, 24413, 4959, 22774, 40108, 46318, 23022, 35249, 34656, 9524, 10585, 39928, 9854, 35429, 22492, 39762, 41048, 44881, 14303, 49021, 24929, 38439, 176, 2485, 13730, 49528, 4435, 17921, 11044, 35719, 37190, 10686, 2064, 44284, 9568, 43221, 19867, 17354, 38021, 13515, 20441, 26480, 6796, 5654, 16328, 4836, 17933, 33589, 6345, 10610, 11637, 17394, 50885, 6850, 26390, 22182, 152, 12136, 9420, 50867, 15647, 24845, 38086, 40863, 27299, 6981, 43222, 44166, 37974, 2231, 37336, 25631, 13666, 24426, 47650, 30102, 14554, 6368, 30878, 37764, 49751, 46988, 18793, 50365, 43039, 47498, 2645, 15578, 30332, 46851, 49546, 41884, 8497, 40072, 32650, 8230, 44719, 42868, 15337, 1685, 50387, 20828, 22200, 21859, 14414, 13315, 31070, 6636, 49275, 17179, 35402, 47963, 39661, 26673, 47532, 34177, 15303, 17823, 40143, 9457, 17038, 29507, 35016, 21111, 37845, 38869, 18546, 20081, 30598, 50813, 20518, 3752, 23678, 4281, 3281, 49471, 31603, 1874, 23967, 4042, 30855, 8086, 11614, 35195, 37074, 15444, 9350, 36028, 28378, 11760, 12956, 821, 22005, 42054, 21045, 5056, 19137, 20486, 45907, 28641, 43978, 34838, 50174, 41275, 22406, 10875, 32465, 8917, 18975, 2297, 41225, 34090, 3353, 5286, 17808, 1077, 2568, 3463, 27621, 30303, 25055, 16964, 39736, 2585, 1839, 30541, 37503, 9293, 13447, 48463, 16428, 44182, 19879, 43096, 47680, 48442, 31099, 5120, 25870, 9025, 31612, 1933, 7737, 13669, 46900, 3144, 9670, 925, 5247, 46016, 2140, 8406, 46795, 35211, 47922, 13531, 33905, 47046, 30396, 14370, 17536, 46785, 32757, 27916, 13445, 9254, 48982, 3006, 47592, 24417, 6614, 50560, 59, 32528, 7373, 37367, 33834, 30148, 7013, 30940, 2183, 39967, 34061, 30995, 15101, 22779, 46141, 27562, 32403, 24629, 22035, 29992, 44370, 21234, 42584, 15119, 27626, 50890, 28959, 32204, 50807, 7990, 45588, 49785, 1397, 21467, 27636, 47229, 16660, 32726, 2703, 17615, 24834, 50298, 39362, 31852, 16982, 33243, 4623, 10059, 21372, 9013, 38827, 36077, 45502, 49653, 7942, 32484, 6156, 45649, 43046, 43370, 40225, 31642, 26703, 47043, 11436, 40745, 11906, 41819, 48218, 37271, 37072, 8935, 38293, 4038, 25575, 29515, 46565, 30323, 25991, 7477, 10535, 4231, 1586, 39579, 5973, 42967, 430, 6197, 10028, 40910, 2256, 50362, 28814, 46175, 47374, 780, 2059, 42847, 37484, 115, 28836, 8652, 46404, 28220, 38235, 20724, 34587, 29681, 39046, 16081, 28412, 817, 6225, 620, 14913, 19801, 46530, 40567, 14383, 31572, 35998, 32520, 16599, 13044, 29152, 33375, 3118, 531, 33107, 30401, 43885, 43520, 18021, 22573, 50452, 41911, 26056, 7417, 9822, 16242, 47857, 35082, 4915, 42132, 2369, 29512, 3432, 36609, 36963, 4053, 31785, 15566, 35039, 21785, 6427, 35493, 44203, 36460, 19190, 33048, 35235, 4738, 4392, 36922, 38227, 36874, 12718, 1508, 5360, 17449, 2506, 10657, 44478, 28549, 7536, 20984, 33844, 21730, 15828, 28612, 13093, 31475, 32320, 475, 47618, 29890, 5866, 12180, 14994, 5389, 44720, 44418, 11109, 15475, 10025, 23242, 24139, 48340, 16260, 15889, 24363, 29654, 27646, 42564, 26801, 40889, 5809, 28943, 25049, 27605, 42335, 4447, 44303, 36317, 32152, 42798, 18921, 25480, 31210, 14002, 21310, 41838, 81, 6385, 708, 1349, 3314, 25883, 22584, 15129, 44092, 587, 43667, 9393, 27014, 7528, 35731, 3998, 37915, 14233, 6779, 37597, 18780, 49875, 23958, 24493, 2757, 19956, 8500, 34764, 4821, 36198, 1712, 4256, 10382, 29348, 20183, 45765, 8607, 14321, 45090, 19455, 32112, 38909, 12018, 49698, 1768, 19037, 28021, 41326, 42125, 14315, 11256, 41099, 17942, 24903, 6516, 5419, 42058, 47626, 12357, 6501, 32923, 30712, 30356, 4712, 21001, 2359, 21323, 4714, 42481, 13223, 38856, 28432, 43666, 37628, 24892, 33601, 47994, 29172, 19030, 18934, 29394, 6077, 49181, 13116, 28794, 6795, 40429, 27446, 23133, 26837, 15644, 32774, 21367, 17809, 19198, 42385, 291, 31547, 48669, 45514, 15550, 537, 5618, 2399, 48545, 33763, 27313, 44003, 19946, 44954, 45239, 30078, 3580, 1429, 34749, 42637, 32548, 25816, 43076, 13652, 29407, 21087, 41559, 16628, 42844, 9189, 22991, 22822, 6648, 5610, 3601, 6482, 11119, 36014, 19643, 13845, 49078, 25565, 20565, 20206, 32855, 24642, 1952, 41395, 29999, 32918, 26890, 9507, 44975, 29908, 39070, 24785, 25217, 22521, 1892, 48025, 10845, 10168, 27411, 5071, 3823, 28059, 18317, 50454, 44796, 34872, 44338, 6341, 35749, 36980, 44189, 32894, 22146, 20504, 46783, 39056, 21471, 14157, 37356, 21725, 46673, 22430, 39957, 10898, 32247, 17454, 13421, 2863, 18255, 44299, 21663, 30501, 14024, 8331, 41880, 33863, 17327, 34047, 30361, 16526, 11769, 6386, 31487, 21921, 44793, 17562, 44708, 12627, 33054, 9744, 13081, 5793, 48393, 39552, 36937, 8228, 18199, 47216, 11706, 45559, 26568, 25002, 40483, 43053, 29487, 30695, 10095, 2849, 32929, 19908, 6569, 16790, 18373, 47217, 812, 9356, 38039, 5993, 17711, 23827, 17601, 46802, 1562, 40395, 13279, 12953, 25088, 44509, 1413, 44606, 41596, 36375, 33201, 26227, 49791, 3196, 32648, 31371, 38897, 4581, 9166, 43164, 1758, 3559, 28953, 16675, 7854, 3233, 20542, 34499, 28518, 13486, 33498, 40874, 36350, 42750, 46393, 28104, 16668, 3490, 29866, 28735, 28532, 19612, 18308, 12569, 27533, 23649, 41677, 36842, 49244, 48195, 3449, 50893, 46153, 9831, 36232, 38761, 12036, 27823, 16417, 37418, 28026, 36036, 20623, 22358, 3904, 18573, 8378, 17611, 19497, 50294, 8446, 2596, 3122, 31188, 13243, 32033, 10321, 22318, 42987, 15504, 50949, 3764, 8513, 47595, 47202, 18425, 25102, 4402, 18077, 8238, 18424, 48293, 37772, 43699, 4614, 33626, 25474, 45286, 4141, 11576, 40754, 7562, 45798, 23765, 13072, 50561, 10827, 48934, 32314, 11984, 29008, 37060, 30963, 37219, 10203, 13944, 1217, 19735, 47918, 12007, 17286, 29113, 27597, 34526, 15614, 25830, 1253, 18138, 1903, 8187, 36183, 42008, 28293, 2260, 48802, 2765, 9916, 15846, 42111, 45055, 19336, 14776, 45112, 30301, 1433, 1019, 20701, 47686, 34470, 17266, 25398, 24687, 36833, 37799, 3050, 44989, 3227, 25628, 40046, 40011, 5122, 24393, 18602, 45554, 26446, 49189, 42025, 10914, 8843, 16024, 32318, 33957, 4900, 39564, 43791, 48084, 12978, 18149, 45602, 45188, 532, 48597, 36146, 30366, 30073, 28748, 16761, 9090, 15427, 1598, 35307, 21958, 3687, 23651, 8240, 32135, 19119, 6954, 1297, 26296, 47556, 9487, 39364, 18344, 1705, 34488, 42479, 38042, 32574, 12384, 6228, 30863, 8698, 35378, 25486, 25371, 48721, 43933, 913, 25358, 32218, 3612, 30242, 2184, 26689, 49190, 17438, 2850, 29905, 13978, 41992, 36825, 13198, 35876, 14526, 22621, 40122, 23095, 31794, 12938, 41362, 15089, 47035, 388, 50160, 21758, 37375, 10847, 182, 687, 41105, 18883, 27217, 2146, 29318, 31944, 16805, 27747, 42819, 38654, 47480, 30313, 27400, 4519, 43368, 9723, 23469, 9047, 34241, 44612, 4778, 36602, 42492, 8435, 23585, 5749, 19080, 31530, 48332, 50787, 3686, 13168, 38116, 15336, 35768, 43284, 40406, 17900, 28386, 6984, 19729, 20553, 26386, 41483, 39032, 10066, 12570, 41470, 26090, 44030, 42720, 21845, 50605, 25381, 25250, 27410, 25899, 19534, 32098, 41018, 20485, 25872, 45811, 50500, 23743, 48196, 47747, 49505, 41490, 10367, 17497, 36188, 20425, 8663, 32608, 5521, 46737, 23147, 14431, 3794, 44699, 48810, 27726, 26443, 38386, 16863, 32512, 21940, 22599, 35808, 48569, 28768, 46103, 23121, 8774, 10204, 27766, 18431, 45885, 24020, 12306, 4867, 25861, 28041, 39496, 11537, 50431, 32652, 29509, 16461, 29431, 14244, 3435, 20594, 12097, 29295, 953, 41409, 26316, 39766, 4753, 31233, 4991, 44232, 39793, 25880, 30987, 28561, 35911, 45290, 16375, 20007, 24120, 38429, 42184, 46314, 29917, 31854, 11140, 26579, 27458, 17420, 8856, 12741, 293, 24691, 44764, 18763, 43084, 10839, 19025, 20210, 18749, 24595, 42126, 19004, 22307, 15228, 19905, 29189, 11303, 22979, 47810, 8165, 5092, 18562, 26524, 38264, 19490, 3252, 1027, 47961, 26998, 14827, 10340, 48050, 43982, 22409, 44555, 6347, 34039, 44733, 35481, 3997, 15179, 46058, 35401, 40049, 16281, 4393, 48314, 20902, 6020, 27070, 10022, 11106, 23033, 33781, 20376, 12196, 46779, 11201, 11434, 45496, 32163, 12941, 33504, 38118, 31680, 33501, 43242, 50902, 17887, 17431, 17537, 24532, 47623, 7805, 30420, 28094, 22661, 38522, 9173, 33236, 24419, 22076, 26591, 48273, 1974, 3964, 604, 22186, 31059, 22154, 44002, 27044, 1792, 29389, 1174, 37054, 2050, 17902, 47298, 7597, 15593, 21188, 5179, 22667, 41585, 32290, 32829, 18908, 47837, 4284, 35186, 24540, 2762, 18018, 32515, 46401, 29137, 30818, 40119, 15714, 45436, 35075, 37825, 24350, 31567, 5572, 11308, 37994, 37712, 12291, 42366, 37901, 20533, 4506, 39949, 4609, 47632, 39354, 44502, 2479, 3728, 21799, 27228, 13674, 1207, 27105, 22374, 24250, 25908, 3667, 3248, 24105, 6353, 10462, 6671, 33959, 41480, 28766, 27207, 46528, 7309, 19574, 39841, 15986, 32668, 38265, 8468, 28246, 50648, 50684, 2170, 12746, 17203, 19062, 49271, 4238, 12691, 5591, 6761, 35886, 22764, 22897, 1537, 49196, 16065, 50434, 28962, 17607, 22699, 49047, 13180, 6164, 770, 17107, 45881, 30409, 27262, 19726, 37102, 11197, 40773, 48865, 12207, 19343, 16652, 46636, 12984, 31214, 23058, 21896, 38671, 26566, 38313, 41622, 4348, 13370, 10607, 42775, 42971, 40963, 42213, 13457, 9770, 15493, 37732, 26916, 17095, 18370, 8299, 30992, 46276, 29865, 35938, 19694, 19893, 25006, 6907, 44923, 22881, 8424, 35379, 30859, 45879, 19632, 42328, 44183, 25175, 5283, 48985, 10774, 49009, 16530, 35539, 24242, 25432, 14346, 30283, 32912, 32906, 41662, 1984, 40218, 11020, 13933, 8471, 39218, 24627, 48221, 3299, 28986, 45964, 26625, 10905, 49148, 40489, 28954, 40007, 10787, 13788, 35174, 11377, 1861, 10214, 112, 32234, 5504, 21716, 26679, 22388, 5241, 29342, 19503, 9789, 23159, 22551, 47514, 12404, 24733, 31290, 30000, 49454, 23877, 31269, 29115, 23475, 35996, 11991, 40161, 27880, 15043, 28106, 34192, 45721, 36096, 6536, 29689, 29290, 22025, 2534, 34795, 20222, 14609, 42462, 21606, 36662, 22934, 26230, 1902, 16079, 9192, 43538, 19932, 49643, 24025, 29388, 33544, 40661, 35491, 7981, 26122, 47962, 4762, 50834, 48672, 40659, 15953, 28398, 29720, 1976, 20341, 46110, 38259, 45501, 26976, 44903, 37311, 17754, 37369, 15367, 33441, 335, 24318, 7509, 6366, 22767, 26905, 38277, 28399, 13345, 45404, 39184, 47053, 13934, 23583, 44177, 28878, 38843, 1254, 6, 16008, 13462, 13950, 31693, 28684, 10542, 46015, 38114, 32997, 18231, 4264, 14243, 12714, 14352, 46253, 16060, 17433, 40386, 16544, 13369, 15021, 29193, 17609, 32323, 2179, 8064, 8324, 11959, 8071, 14206, 34734, 7149, 3195, 27859, 2410, 22133, 17106, 6049, 38298, 50802, 43427, 20179, 7802, 23710, 20021, 5429, 997, 23192, 11668, 39572, 42405, 10968, 892, 18948, 22944, 37860, 10893, 50138, 27789, 35279, 31439, 38345, 3696, 5148, 43576, 28809, 29117, 50548, 32798, 33811, 45595, 24529, 48055, 7999, 12792, 30470, 26675, 38592, 10673, 28273, 46224, 20690, 119, 48078, 33914, 4905, 25356, 40004, 37751, 32315, 41316, 37613, 27017, 12451, 12482, 47482, 2579, 19741, 950, 45130, 44915, 33675, 45873, 13829, 15254, 3403, 22654, 34511, 45179, 5982, 41568, 49555, 5275, 48776, 2535, 41664, 17190, 16437, 2527, 35106, 26358, 5408, 7524, 29261, 30864, 44634, 17655, 10113, 28726, 23179, 28521, 36312, 21719, 28037, 40204, 44697, 45754, 1033, 24655, 23485, 11583, 12529, 29749, 24856, 30505, 7265, 27690, 8134, 3328, 17, 2022, 48124, 23455, 46549, 17129, 43948, 14499, 2725, 7591, 4539, 14192, 36526, 29856, 45827, 42202, 25487, 11846, 15214, 37010, 50770, 42266, 10744, 24086, 7969, 15200, 20196, 13673, 33586, 30677, 44234, 29659, 1762, 43160, 50455, 9900, 20147, 31768, 15962, 4682, 33084, 31581, 13951, 1798, 11811, 37761, 44009, 22702, 18442, 38458, 5045, 44888, 32244, 29712, 5614, 19631, 35172, 1801, 32889, 13590, 21147, 5254, 7960, 18313, 11924, 22732, 40564, 44712, 149, 8431, 48372, 7539, 4630, 8387, 37108, 36413, 29179, 8266, 6343, 23769, 42659, 30667, 24443, 10096, 28923, 17173, 32482, 27258, 27009, 1117, 3120, 5597, 17186, 27735, 28184, 50963, 48046, 22135, 25821, 36665, 31236, 5680, 31708, 20566, 40221, 13090, 43349, 6405, 27043, 35410, 18990, 43759, 30865, 34963, 34821, 21735, 34416, 34753, 43030, 10615, 1991, 34084, 13877, 47524, 4512, 36652, 4948, 13609, 46735, 8579, 8027, 40239, 26817, 35857, 2921, 20790, 15053, 41726, 8077, 9265, 18065, 40571, 10574, 12308, 41113, 12280, 43957, 15231, 33583, 15645, 41474, 23573, 15051, 45632, 48599, 1284, 46743, 45226, 1754, 20853, 9383, 37035, 18504, 32547, 796, 48344, 29014, 36769, 1194, 10108, 18420, 14906, 12606, 38622, 15561, 10791, 36457, 39611, 43536, 28711, 32973, 38715, 8829, 11517, 5491, 48362, 10415, 8891, 28312, 32935, 4323, 28964, 14265, 28214, 41719, 21909, 4928, 15525, 22014, 42316, 8966, 10563, 45597, 11602, 15039, 8589, 5175, 15360, 38177, 10007, 40267, 33046, 343, 3445, 45578, 36748, 37358, 46264, 43964, 27416, 10264, 16333, 36154, 7254, 44208, 27218, 29472, 19537, 47509, 48131, 47477, 42725, 22370, 3066, 15945, 48350, 46577, 50775, 44175, 35255, 46918, 45667, 10852, 37308, 10713, 15721, 10860, 17062, 33427, 19479, 29870, 50975, 40529, 3511, 13706, 32367, 23912, 5082, 2709, 28147, 1195, 135, 15144, 14412, 2042, 40974, 42313, 30349, 14015, 48845, 25133, 9426, 33911, 36939, 46114, 51011, 44679, 12553, 22195, 34553, 3412, 48228, 39868, 6599, 30386, 10386, 27658, 45085, 5901, 28599, 50979, 32196, 40848, 31019, 684, 44012, 26816, 36972, 44457, 22695, 18857, 42229, 44608, 16615, 45265, 16971, 3942, 51048, 29010, 42345, 18949, 41578, 43120, 10100, 50772, 7339, 44080, 32082, 35747, 48343, 45052, 26597, 30355, 17178, 2525, 24080, 6750, 26545, 30058, 2612, 43903, 42767, 23427, 45017, 27650, 31913, 20464, 37517, 3513, 16559, 43859, 27777, 49987, 46493, 7199, 3579, 30595, 16558, 7379, 37098, 36516, 32125, 44134, 10950, 22799, 50927, 5010, 43270, 26307, 24305, 35949, 2324, 29184, 40890, 37802, 33472, 44191, 50270, 47267, 12396, 19563, 43380, 6611, 43291, 44440, 32910, 19982, 15112, 43967, 48204, 12582, 39073, 13555, 37929, 7338, 50929, 23578, 15047, 31825, 48257, 11702, 11741, 25029, 21439, 3130, 44416, 3546, 38098, 4361, 40866, 40698, 20369, 15758, 44739, 25242, 22009, 35726, 2927, 50604, 26653, 43214, 11883, 34751, 65, 17092, 16462, 18877, 19737, 39510, 129, 5849, 45710, 13254, 27172, 18543, 29299, 15545, 41080, 19661, 47133, 3857, 31087, 26306, 21483, 28520, 12869, 13623, 35068, 25160, 17758, 4824, 23039, 1525, 27479, 9849, 30032, 19270, 19565, 33230, 26072, 14918, 29615, 33063, 10728, 40762, 43806, 612, 11552, 33733, 34932, 15815, 6344, 31477, 18127, 48892, 5509, 25815, 24498, 8153, 45174, 46707, 514, 19162, 31463, 841, 26663, 5299, 10825, 29004, 20773, 50878, 45668, 18137, 22089, 9768, 50056, 35268, 31390, 20802, 6033, 37557, 9946, 49108, 5370, 50039, 23007, 11100, 898, 5032, 43140, 25707, 18564, 35246, 12575, 2018, 21210, 13757, 6267, 23349, 42086, 25499, 4659, 6558, 26232, 45294, 47809, 19845, 20466, 49951, 127, 22943, 12140, 21288, 19747, 32733, 50591, 35733, 49832, 35932, 2666, 22162, 7397, 7549, 31978, 13818, 29608, 7650, 44451, 40024, 35699, 42510, 39078, 28614, 26016, 6196, 982, 7437, 25149, 8867, 31365, 23546, 24753, 8806, 17464, 27988, 5474, 47750, 38447, 30653, 20480, 28645, 15601, 45473, 14887, 35814, 15957, 40194, 18179, 14567, 3103, 21541, 18859, 27004, 48098, 28615, 49576, 16495, 37545, 47785, 37256, 36133, 2843, 16593, 16938, 27203, 2830, 36129, 9812, 23698, 40805, 3518, 28365, 40740, 36362, 6933, 29084, 3745, 5457, 48805, 20187, 36042, 7094, 13355, 40005, 13734, 18333, 39174, 49321, 42512, 27764, 28635, 8765, 20033, 14105, 37287, 49582, 5102, 49315, 866, 2144, 40959, 42444, 7499, 28950, 4674, 43497, 26532, 21523, 11978, 22510, 8717, 5782, 30392, 29382, 37413, 23439, 23538, 6046, 21172, 38792, 22720, 37694, 29437, 26984, 44015, 28150, 27547, 6243, 23061, 23938, 39694, 32194, 12782, 19170, 42576, 36485, 16304, 6211, 2078, 40497, 47727, 1432, 5027, 24046, 38729, 5309, 10866, 20462, 7253, 10895, 41333, 11028, 3925, 15567, 43902, 14436, 859, 47958, 50456, 25274, 28254, 45990, 20322, 43629, 48758, 622, 29761, 12434, 48113, 42062, 25100, 34786, 50326, 15412, 46750, 12452, 11036, 42092, 1113, 17769, 29408, 5727, 36225, 42020, 34088, 21689, 19920, 38276, 34796, 22529, 25611, 36021, 41444, 42672, 1619, 9548, 3321, 40453, 19051, 33700, 18544, 4699, 6848, 31080, 19335, 27140, 20047, 32399, 20934, 26259, 29410, 44505, 19872, 20705, 30881, 22102, 2601, 5081, 16775, 46438, 46581, 46236, 48612, 16090, 4951, 23807, 25802, 2402, 36125, 46454, 15385, 47497, 42188, 12079, 40925, 48705, 33516, 4496, 21093, 35061, 25749, 48512, 47888, 41443, 39946, 45977, 28743, 9267, 36448, 28782, 20817, 15109, 4585, 7414, 40327, 5951, 14803, 35709, 32296, 7869, 39258, 30980, 24979, 3175, 4423, 22687, 18765, 2103, 41071, 18349, 31323, 10180, 7051, 855, 20320, 29518, 49016, 30743, 43775, 21392, 19787, 28483, 19516, 37830, 37686, 14892, 47782, 48053, 23436, 48225, 8816, 31363, 4111, 42861, 3656, 27333, 47244, 46751, 31664, 9627, 29414, 12217, 7095, 49225, 41256, 27694, 13912, 19230, 19203, 19329, 31165, 9002, 44454, 28374, 17304, 39900, 7000, 41754, 44064, 7688, 13169, 42411, 35322, 31426, 26528, 47273, 10704, 9131, 47197, 17108, 47104, 38456, 40214, 15541, 43159, 48729, 37209, 1170, 27765, 33396, 37658, 14463, 21667, 48503, 266, 16410, 20294, 14500, 50664, 2634, 42386, 30880, 43409, 6496, 21004, 36463, 41243, 47968, 16163, 5009, 17585, 17719, 16302, 19613, 40303, 6700, 16543, 21388, 34385, 9872, 17228, 2154, 35593, 37649, 14960, 32535, 26301, 31122, 18365, 21820, 83, 2662, 31694, 35822, 38619, 37982, 17406, 27502, 43443, 36239, 50794, 50675, 4719, 43966, 6595, 25796, 2591, 7632, 44913, 42195, 24359, 29053, 47934, 20358, 14268, 5670, 8761, 12601, 44315, 2437, 8422, 22408, 21231, 42309, 12174, 39902, 25408, 10761, 732, 48321, 39403, 20178, 13834, 10240, 36857, 3218, 718, 23474, 3596, 27492, 21628, 32060, 34927, 10576, 40308, 45207, 44276, 44099, 15262, 34445, 4179, 11091, 17647, 45664, 36411, 4399, 11242, 11732, 7559, 38936, 48241, 25416, 23344, 26552, 39825, 28607, 32878, 24886, 18002, 41342, 33518, 41538, 8526, 37645, 44688, 39347, 3202, 3962, 28322, 11234, 38974, 37317, 10366, 11513, 26489, 38455, 536, 50045, 33719, 27720, 44656, 37989, 30460, 31043, 32839, 38642, 7784, 20351, 29098, 22418, 17950, 40345, 25621, 37245, 18511, 12526, 44692, 42816, 49805, 26780, 41227, 20371, 4536, 47600, 1604, 12778, 11691, 42048, 47622, 46331, 49797, 8317, 28481, 12661, 18142, 44037, 25789, 31407, 45755, 17746, 42942, 44314, 10819, 33165, 26447, 9496, 22902, 39687, 11124, 31396, 25598, 30709, 44652, 39463, 5024, 2360, 32729, 15696, 41033, 30916, 24113, 36803, 38163, 48793, 3959, 23723, 29138, 25502, 6305, 49807, 50141, 22469, 16672, 9505, 34319, 8672, 36288, 21676, 10766, 42537, 25702, 17207, 43045, 43858, 2960, 10110, 30652, 28957, 38425, 34766, 41925, 15618, 1361, 48510, 21068, 21102, 48977, 23343, 6664, 18017, 22518, 13662, 19669, 46771, 42589, 11133, 40258, 17246, 8939, 23725, 30121, 24494, 20366, 4203, 16082, 31818, 30316, 16777, 4041, 43544, 36037, 25649, 43817, 19183, 625, 18380, 47950, 26302, 48454, 44470, 49761, 49844, 24165, 7934, 2689, 22449, 36584, 48815, 16505, 45641, 39638, 41160, 21692, 2353, 39052, 34956, 20815, 9295, 3659, 9128, 31397, 42644, 30465, 10858, 39787, 13517, 6994, 5235, 12843, 4737, 47608, 17741, 23045, 36729, 32597, 4260, 8623, 49452, 22485, 35219, 33463, 42715, 12058, 46863, 2973, 30196, 26105, 19125, 4370, 24887, 3657, 15511, 11870, 25193, 20900, 21654, 16426, 1816, 45037, 26095, 25877, 5703, 39502, 6000, 12903, 2536, 6712, 45036, 15841, 42355, 50544, 11972, 20016, 12934, 29160, 41383, 27727, 32685, 10457, 1570, 19648, 3102, 23526, 33073, 4138, 43278, 6676, 6507, 9249, 16506, 1138, 40035, 34220, 29031, 33918, 26211, 2791, 34642, 45951, 15219, 1873, 23096, 47023, 38814, 12173, 11715, 16014, 42392, 37844, 20941, 44566, 8803, 42873, 50119, 46747, 26339, 45910, 35594, 34928, 32423, 29026, 32424, 42310, 5899, 15922, 13061, 4205, 38244, 50980, 27992, 16091, 5250, 6091, 26594, 1383, 18130, 38559, 31205, 24888, 16115, 11742, 25523, 21647, 2039, 26042, 24578, 17429, 14010, 43097, 25466, 24166, 29546, 18283, 45274, 946, 42500, 30644, 13284, 12243, 682, 32224, 7932, 41010, 21445, 48664, 15471, 18230, 6923, 16794, 32000, 13356, 23825, 19528, 3889, 15265, 32661, 2748, 49335, 12466, 8300, 25236, 4886, 34248, 35680, 10038, 49396, 30111, 12517, 26750, 13042, 45785, 29350, 45362, 46351, 30658, 19063, 39459, 11457, 11130, 8551, 32212, 38988, 13620, 36569, 21384, 19320, 22293, 18714, 28820, 20649, 2224, 36403, 30104, 30930, 4173, 26582, 43975, 21883, 440, 1633, 6358, 38186, 3338, 16811, 2544, 43481, 48565, 41442, 18830, 23773, 10267, 21490, 5409, 3268, 8330, 34949, 46452, 10830, 48166, 48649, 43729, 37595, 46409, 11295, 44355, 27197, 20160, 44581, 18488, 33322, 10643, 7917, 10734, 12779, 50970, 38793, 39238, 16592, 34147, 38245, 28444, 46320, 15302, 23744, 1067, 7317, 5019, 10735, 45225, 18214, 11694, 8991, 6878, 8870, 29166, 36653, 33125, 18079, 38568, 6531, 34455, 10409, 23991, 18812, 35895, 16776, 23880, 6133, 21816, 27158, 48320, 27718, 11217, 27388, 13693, 6047, 16808, 34228, 14757, 29262, 29912, 25079, 43412, 8667, 6969, 12179, 20311, 46265, 8795, 43660, 3154, 15626, 15693, 10934, 21913, 26391, 27943, 50493, 35619, 43317, 23839, 35590, 48946, 27, 27491, 10010, 7132, 42646, 7161, 29042, 37870, 19913, 36772, 43733, 30536, 39026, 3278, 5710, 8407, 29422, 48312, 31902, 27573, 31877, 34467, 13398, 14136, 4212, 30481, 25229, 32684, 31835, 32699, 34, 5718, 4725, 1793, 37118, 40334, 8306, 3706, 18173, 24545, 31413, 6259, 9649, 22498, 36293, 44016, 13232, 2120, 36410, 37244, 19890, 20858, 11015, 49743, 43050, 30672, 11678, 18486, 13422, 48051, 17409, 7572, 27995, 40274, 4516, 27804, 18473, 13465, 20028, 39644, 23922, 24829, 48431, 30134, 42664, 26137, 45774, 39907, 1636, 47931, 17031, 36744, 19658, 18636, 19468, 45076, 49691, 5808, 16799, 34065, 19242, 16956, 42681, 29877, 38511, 1377, 26435, 18304, 6805, 43261, 44295, 44702, 17455, 37888, 12595, 1458, 50580, 9630, 24304, 49044, 24130, 12118, 21065, 38377, 12612, 31162, 18166, 5192, 9543, 40938, 5631, 40089, 1649, 49207, 5029, 3480, 27326, 3370, 5367, 42697, 22660, 24420, 19288, 36202, 26607, 40584, 33768, 30297, 38201, 13113, 6586, 2500, 11880, 11810, 30422, 39082, 46687, 42211, 16875, 11786, 1118, 16207, 15233, 19304, 11315, 38238, 14028, 26219, 19160, 16827, 27033, 12195, 16860, 22908, 10330, 14844, 50852, 27163, 21618, 21562, 15319, 45615, 25583, 30467, 9409, 11349, 44855, 30827, 4511, 38489, 14408, 7878, 32304, 26967, 25091, 19421, 1542, 36450, 43408, 14695, 43600, 49374, 16824, 20497, 23253, 19091, 22438, 17692, 1700, 43316, 34152, 48412, 12713, 36654, 10160, 34339, 40371, 2240, 44264, 29430, 38234, 24575, 15154, 7172, 30292, 3628, 18587, 18446, 37795, 2455, 46366, 38416, 6695, 42718, 10627, 14449, 13599, 31419, 41705, 18784, 6503, 34308, 1495, 31415, 25706, 22310, 6486, 30093, 4874, 5922, 45364, 36587, 7529, 21, 16395, 31848, 12350, 35521, 34631, 46295, 47061, 14236, 42497, 46656, 12814, 46006, 6027, 16967, 30472, 43581, 43026, 26949, 45985, 48290, 18882, 33682, 16494, 8485, 27746, 49937, 25051, 27832, 35272, 36346, 23471, 24078, 48836, 40936, 48650, 34975, 25692, 21347, 41648, 43946, 2895, 8277, 39448, 39786, 12340, 48941, 10394, 11266, 31843, 27037, 31161, 47779, 13459, 43525, 49387, 5356, 37376, 13589, 3826, 21920, 44744, 6902, 16098, 19056, 8184, 40383, 11324, 42640, 9041, 41834, 50657, 30489, 16443, 49455, 9357, 27119, 28108, 35339, 9586, 49473, 15073, 3081, 33812, 2123, 46127, 21259, 5646, 26587, 33656, 30843, 35419, 24737, 33709, 36132, 34952, 36444, 45158, 45519, 25339, 17750, 25580, 4364, 26132, 38102, 16829, 25060, 46547, 44305, 43259, 8345, 46591, 11270, 934, 16322, 11121, 31011, 49902, 10793, 38160, 26030, 5726, 10451, 29792, 6420, 45258, 20044, 25978, 12651, 11114, 24421, 19494, 25834, 20086, 30555, 23492, 7847, 34670, 38926, 38586, 31780, 9676, 45326, 36229, 20744, 14767, 44465, 17364, 36863, 28418, 2831, 9619, 183, 19298, 19750, 43737, 21620, 9163, 42548, 14234, 4301, 34876, 23480, 49904, 11849, 19519, 7841, 7807, 37315, 47107, 34618, 33909, 22778, 12293, 30177, 32599, 30996, 42182, 1162, 14106, 40875, 46094, 26174, 25284, 47020, 46489, 5337, 4515, 555, 29239, 6245, 17145, 46947, 37459, 715, 33850, 39651, 7669, 46059, 9103, 7203, 4311, 21086, 2043, 46414, 6572, 16866, 17254, 50705, 41125, 24309, 298, 1259, 49020, 43990, 17247, 11580, 23808, 18645, 45385, 4319, 46002, 34870, 39446, 16459, 50152, 16148, 36823, 18941, 34534, 46170, 1189, 20159, 45550, 19036, 19749, 15272, 9339, 6813, 48555, 34164, 12212, 28329, 27087, 32262, 8974, 44187, 34714, 34126, 37560, 27018, 38230, 48886, 48274, 42123, 34704, 18445, 38301, 3203, 21578, 48699, 7210, 23516, 15440, 5864, 41112, 41959, 5424, 33321, 7538, 21774, 46763, 31148, 11897, 6319, 50213, 5281, 12592, 25622, 33561, 39760, 32470, 494, 14040, 13797, 1443, 12613, 35659, 47399, 44044, 7292, 15663, 6074, 35536, 19649, 3272, 14814, 1043, 48556, 28983, 14361, 45184, 50146, 38126, 11546, 43656, 36458, 19168, 22175, 24045, 13733, 34496, 17024, 44605, 23919, 34313, 18463, 37429, 8942, 20452, 45319, 8337, 35575, 13967, 9779, 8776, 48744, 21112, 13880, 25201, 38159, 29721, 6539, 28687, 29724, 27272, 42090, 3700, 12856, 25223, 21850, 7322, 25368, 1148, 6752, 27930, 46003, 12225, 39075, 42395, 44826, 12667, 28074, 11840, 30167, 4001, 11919, 29511, 9908, 33470, 15235, 4101, 2367, 17189, 39553, 19812, 35532, 14475, 15510, 23491, 39623, 29805, 35295, 28211, 31332, 50227, 26325, 24885, 4876, 33184, 10684, 21723, 26100, 6492, 49356, 38807, 14144, 46566, 45723, 8118, 13489, 43121, 31761, 20515, 19811, 24874, 35568, 38091, 4261, 31769, 1592, 20463, 14019, 11633, 47664, 22729, 48024, 8612, 15361, 48004, 48397, 5837, 41072, 4929, 49542, 4422, 33886, 9797, 48917, 31819, 26619, 561, 24222, 25990, 49845, 125, 36804, 14200, 39242, 22828, 3922, 7564, 1650, 40494, 1308, 23248, 37841, 41077, 25763, 21421, 3494, 39450, 16820, 39918, 14882, 46086, 18205, 49053, 39609, 22707, 44637, 4146, 11520, 40189, 22613, 43512, 18185, 1721, 3204, 10879, 50180, 21028, 25946, 42794, 21831, 25973, 24975, 20312, 25950, 39462, 32096, 42795, 43000, 3417, 9432, 16411, 2720, 247, 16387, 40192, 8670, 35804, 4419, 34044, 20776, 40897, 27557, 5543, 22355, 37899, 47117, 10603, 43505, 13074, 764, 1688, 30192, 42946, 11595, 45810, 26626, 19740, 40077, 6269, 38410, 5880, 48252, 520, 45176, 50149, 45573, 36900, 17425, 31671, 20267, 21729, 20192, 44507, 20080, 12326, 8876, 13158, 12342, 9232, 23008, 48768, 23240, 44813, 47638, 12831, 26223, 16108, 15492, 18699, 8315, 15126, 2853, 9372, 49352, 716, 21348, 26473, 40616, 2097, 24755, 33164, 41226, 8830, 27736, 12274, 45541, 25567, 40411, 35153, 20228, 18651, 39656, 17468, 50307, 20052, 46820, 22722, 20772, 30438, 46630, 41694, 14154, 14026, 50085, 11267, 21807, 42148, 15698, 35269, 50165, 48349, 40690, 21681, 45096, 40445, 14577, 38135, 36722, 36765, 6170, 40155, 46330, 22612, 16054, 50178, 21619, 2433, 23545, 23420, 28783, 8638, 22916, 48263, 29930, 4150, 33009, 26279, 44389, 11400, 38737, 29867, 18662, 33977, 30106, 11354, 48062, 13231, 15236, 29236, 29231, 26237, 7468, 37380, 47683, 27911, 50534, 45368, 35122, 32297, 41928, 10097, 45940, 26129, 47189, 48283, 29028, 29176, 2794, 37090, 32438, 27734, 12245, 4192, 2870, 22816, 48862, 48636, 42282, 42039, 17510, 35576, 25273, 36488, 38754, 14215, 36017, 30666, 4790, 50532, 10747, 16398, 28511, 48246, 30269, 39319, 21571, 29710, 3880, 4262, 46382, 41296, 44250, 20976, 34706, 6480, 36847, 9398, 18551, 11591, 31881, 46129, 39587, 6195, 33985, 42880, 30423, 20246, 21412, 7490, 12732, 33758, 20089, 14090, 46596, 34743, 9511, 15184, 541, 24058, 44517, 23151, 8864, 19271, 39653, 20641, 14310, 36550, 13942, 48111, 33455, 28089, 38513, 20429, 50235, 40325, 39246, 36581, 19996, 32047, 36988, 9662, 10664, 25252, 14540, 42348, 27535, 14828, 93, 4097, 11179, 3394, 38128, 4115, 32368, 30732, 25671, 84, 45044, 16568, 33216, 27553, 36127, 39589, 5157, 8141, 23543, 1467, 31992, 49667, 41667, 31571, 40490, 30302, 31090, 8705, 36728, 32274, 13418, 34784, 2343, 46201, 23138, 32414, 19912, 44013, 39937, 27063, 38774, 44391, 971, 3640, 14690, 42909, 1278, 10006, 15167, 26222, 36029, 3613, 49848, 9135, 24717, 33710, 21199, 4020, 30584, 26190, 1634, 4045, 46702, 2193, 42369, 17209, 40786, 48390, 27470, 37065, 16590, 34962, 9168, 16519, 18197, 17164, 8401, 12738, 4144, 13964, 35204, 2670, 14933, 49322, 19469, 27357, 22161, 5292, 8588, 15980, 6297, 35860, 15615, 30175, 27771, 41643, 45967, 38069, 34095, 9579, 17039, 47181, 39554, 48392, 35014, 48016, 10406, 35982, 34586, 3978, 26154, 18918, 12698, 31259, 17412, 41822, 37123, 16354, 10835, 11241, 16825, 37856, 41126, 8721, 50541, 1157, 33704, 4524, 40688, 10111, 50896, 19067, 9481, 10296, 35018, 43615, 32265, 522, 34440, 49833, 38942, 5760, 45836, 23714, 30627, 19717, 33426, 17239, 22905, 47891, 26099, 32261, 22346, 14812, 14486, 25028, 6590, 50366, 49718, 21461, 49609, 14045, 11684, 48738, 46525, 49500, 16591, 40835, 25172, 29324, 2131, 42999, 15411, 20596, 27022, 12052, 12335, 18824, 37330, 2840, 30650, 28664, 41131, 2395, 15055, 17838, 8532, 14088, 26239, 40780, 42616, 39293, 47014, 37823, 2263, 33615, 32562, 38719, 2604, 21060, 38451, 44925, 19029, 23899, 22228, 23937, 31840, 4895, 15692, 6766, 44812, 15686, 21103, 15946, 32420, 19347, 7086, 40207, 2968, 24382, 3886, 29605, 46967, 10063, 25537, 48894, 20600, 32493, 36754, 28762, 33383, 49702, 36814, 11320, 17543, 5042, 29365, 3491, 16085, 5635, 48883, 10232, 14890, 2379, 34606, 15380, 816, 44020, 5839, 50494, 36689, 41251, 42916, 21961, 725, 19039, 22743, 30698, 49192, 19407, 30466, 47413, 35710, 4963, 27229, 48770, 49110, 27246, 16219, 46736, 2948, 28660, 22611, 25277, 38518, 6433, 43845, 11063, 30037, 6780, 38440, 11016, 16654, 34652, 26292, 3971, 6898, 21712, 20377, 20343, 50508, 16396, 17378, 43747, 5737, 48486, 30568, 22209, 22378, 12389, 18891, 27824, 21422, 15746, 1717, 18535, 11139, 3917, 15451, 203, 40256, 41074, 50868, 9554, 44945, 40363, 48653, 34148, 15669, 24863, 3771, 21984, 1331, 39720, 29936, 32533, 1820, 22402, 44110, 29709, 26595, 40287, 38797, 16345, 21264, 11782, 10105, 45029, 11191, 40769, 36692, 42263, 19859, 6952, 18711, 18265, 42491, 35311, 31557, 10693, 3421, 43537, 13758, 16266, 46115, 22777, 20286, 31501, 11719, 43454, 38873, 23411, 1503, 6787, 34682, 14068, 5058, 32522, 18092, 21517, 5188, 24769, 21907, 12757, 22519, 32038, 5400, 10055, 25618, 27165, 44785, 31200, 23857, 10514, 21018, 5307, 19650, 12594, 36739, 49166, 19400, 37394, 46518, 37527, 21876, 46633, 5023, 16172, 3378, 35404, 50283, 6168, 14034, 678, 7479, 21235, 27627, 36717, 48630, 40892, 26017, 50771, 10600, 8244, 44830, 51023, 43824, 28227, 21670, 33093, 8681, 44721, 17931, 6808, 16470, 49591, 35047, 11893, 47907, 1900, 41359, 8461, 10270, 8508, 27845, 11952, 24073, 15481, 20109, 3443, 5323, 25195, 20632, 12194, 28839, 37332, 3760, 23239, 19873, 26033, 11559, 25559, 571, 27733, 17109, 4615, 49431, 21163, 39421, 15170, 43918, 6024, 37880, 47027, 8767, 9430, 15007, 22194, 49852, 37061, 21639, 43462, 26605, 19306, 7783, 41917, 3200, 23386, 10916, 10709, 48961, 17941, 2607, 30326, 29278, 1841, 24408, 8034, 49659, 49713, 15711, 19120, 50962, 45833, 1256, 21475, 35132, 29288, 22689, 50007, 9885, 5528, 20824, 5629, 40624, 23098, 28319, 41799, 4414, 39709, 12283, 50535, 44028, 13970, 32813, 36876, 23829, 18444, 5599, 40516, 14091, 44828, 14786, 48567, 16963, 15082, 18305, 20411, 4988, 23146, 45966, 15238, 40926, 21568, 1214, 38312, 20923, 14407, 8791, 44996, 3029, 35460, 35436, 14551, 32201, 30412, 41441, 49610, 14631, 18215, 43428, 23936, 28997, 954, 18931, 19487, 36120, 5325, 31310, 35163, 995, 22680, 31558, 16616, 49065, 22375, 7883, 20134, 25988, 49372, 25626, 35056, 47576, 32596, 11709, 19394, 3551, 19124, 13057, 22763, 43206, 16055, 26061, 19181, 38084, 1722, 45862, 7845, 32387, 21556, 4460, 6010, 48775, 45619, 37044, 23438, 22004, 6104, 5465, 46570, 14563, 11658, 35761, 29355, 28933, 43366, 7721, 28528, 1011, 17112, 49912, 6007, 10578, 8515, 31068, 6610, 45356, 8700, 26811, 26713, 8346, 25652, 13267, 27273, 4625, 24014, 13128, 8673, 18868, 28410, 44531, 20450, 12812, 27407, 48974, 4957, 10689, 22099, 43198, 45817, 50127, 25824, 34565, 4924, 39749, 12759, 15838, 44738, 19396, 11155, 32967, 27157, 36082, 39351, 43004, 16921, 11608, 1273, 42044, 50403, 44272, 18677, 2234, 44807, 7887, 7289, 35610, 43680, 7695, 29371, 7662, 20970, 44549, 21165, 32263, 24340, 36427, 23700, 19506, 6877, 49123, 25859, 5881, 41736, 48871, 46842, 47294, 46678, 33269, 38822, 23233, 40679, 26690, 30230, 6193, 35961, 48038, 7108, 7877, 49268, 50691, 26297, 35435, 26973, 5819, 42710, 13322, 58, 23400, 34485, 47228, 10242, 29821, 4911, 14225, 45004, 11313, 35057, 6743, 46609, 39400, 605, 16123, 12540, 45950, 28771, 34887, 21543, 47086, 47271, 11505, 21924, 7668, 17681, 42866, 5812, 18816, 37301, 25218, 34545, 13478, 8459, 25901, 35243, 19439, 7356, 40644, 21100, 705, 12040, 9446, 26573, 9555, 30249, 9491, 21760, 4687, 29698, 14724, 40907, 27810, 6389, 33444, 7376, 14715, 5900, 17026, 40364, 41852, 13811, 15956, 15948, 38046, 32285, 23031, 6737, 9146, 44357, 31746, 27021, 8759, 17937, 4658, 16936, 38378, 35504, 14873, 6311, 11529, 40514, 23221, 10582, 28327, 4310, 48979, 24898, 36292, 5692, 19934, 3529, 49014, 21587, 7600, 1251, 19644, 25205, 4590, 39890, 12765, 12963, 34409, 6029, 9902, 27635, 25034, 32773, 24940, 22364, 38164, 50012, 1164, 18631, 38636, 50509, 30053, 48938, 27532, 21290, 50568, 4698, 22020, 316, 2327, 28053, 12514, 40, 2704, 30008, 2700, 28572, 43023, 16344, 15668, 27375, 22393, 41273, 16685, 43891, 3878, 15403, 20390, 30497, 25316, 35126, 13502, 23038, 39040, 16787, 26156, 15769, 23079, 16994, 45815, 32962, 36452, 6202, 50864, 7973, 3650, 11569, 29567, 36604, 12847, 42653, 32901, 19353, 22608, 3028, 45876, 30437, 12623, 49825, 34093, 27973, 9596, 5822, 17004, 36641, 9208, 38434, 3400, 2792, 13271, 14590, 16120, 35064, 42206, 41755, 17303, 2782, 22520, 16143, 32755, 38072, 17104, 50592, 49368, 31472, 16890, 29456, 1622, 7380, 18405, 38441, 24052, 15516, 7076, 733, 27392, 32335, 2641, 15897, 27437, 22541, 39066, 6631, 7433, 22740, 17435, 47069, 32631, 37127, 47094, 37826, 20746, 15584, 44406, 26485, 28695, 21487, 15713, 5778, 14033, 27278, 5533, 51018, 42661, 9922, 50126, 45246, 10468, 47714, 29381, 37128, 30031, 15872, 37848, 2867, 50849, 44863, 18667, 29186, 2673, 44405, 29175, 33027, 40708, 16193, 45657, 36573, 39584, 40270, 22486, 21029, 2603, 3804, 17569, 8257, 31423, 16162, 29816, 6909, 3535, 34638, 27934, 25936, 5065, 50345, 37196, 14016, 40231, 5347, 36470, 50768, 16367, 17019, 10281, 26210, 43955, 7241, 49435, 32576, 15876, 28586, 4130, 4129, 9324, 15357, 32453, 39008, 29505, 42288, 25044, 36368, 7184, 28505, 1899, 12096, 14662, 15212, 9550, 28152, 29969, 5671, 45001, 48261, 17624, 28875, 22746, 31534, 3912, 50421, 47949, 49357, 49083, 11908, 39560, 21683, 47387, 27550, 41436, 36010, 45439, 9941, 44869, 27693, 5612, 12427, 20554, 16436, 40995, 27503, 45371, 8140, 46592, 34785, 44320, 39556, 32792, 37205, 12171, 28253, 3907, 5568, 13449, 17225, 37983, 3848, 38006, 40539, 17671, 29469, 3187, 16580, 3967, 43796, 37913, 33950, 39528, 14539, 30805, 9064, 25399, 42164, 18394, 18053, 31502, 21975, 44527, 26961, 6876, 40210, 34155, 1929, 37765, 16379, 23444, 15331, 43764, 34829, 12530, 33114, 44743, 10310, 2484, 42631, 23509, 35764, 48427, 28811, 37531, 24947, 2345, 22000, 49327, 43645, 35638, 21338, 46913, 18472, 19836, 29022, 2860, 7743, 26649, 22650, 25940, 48939, 32384, 49409, 41196, 20151, 8969, 40285, 42534, 31314, 24491, 25629, 32887, 39906, 25939, 19898, 26609, 12240, 29006, 50666, 6474, 34752, 18911, 26215, 22844, 11003, 48772, 24228, 44686, 27505, 26562, 7039, 26381, 12704, 44868, 35091, 18342, 13523, 38048, 40636, 35567, 7456, 31030, 20591, 8208, 39175, 14941, 12723, 26170, 13613, 5905, 10178, 35840, 13795, 15173, 38679, 32483, 26770, 25905, 38013, 16160, 36363, 46713, 23113, 50447, 16520, 5189, 18049, 17085, 21866, 28244, 35967, 36623, 38462, 40998, 39532, 7718, 3446, 13521, 5252, 29817, 18829, 6160, 31966, 33424, 4163, 32671, 21374, 13765, 43730, 22335, 29164, 3078, 12261, 40627, 23828, 9549, 18865, 18132, 19914, 47877, 25156, 44585, 17149, 16851, 35832, 33649, 8456, 31071, 38538, 35425, 27614, 22602, 28805, 10741, 16959, 15019, 18261, 6380, 6754, 144, 37778, 46840, 20488, 34096, 15107, 14188, 34832, 25221, 14634, 17620, 7038, 14375, 1227, 24942, 9331, 311, 30415, 38778, 10648, 24022, 6001, 31650, 18208, 21849, 7206, 19969, 8802, 21708, 18916, 10432, 38133, 35146, 46638, 41798, 590, 16733, 26053, 5607, 21047, 29584, 9996, 21926, 47559, 33707, 39023, 28776, 34202, 11900, 26847, 41617, 27633, 21783, 49463, 37025, 12092, 38689, 45880, 32464, 9794, 10164, 49048, 24544, 32667, 39672, 39332, 1845, 19146, 27378, 17090, 46625, 41168, 46880, 45482, 1985, 36370, 1692, 40397, 13595, 20457, 1345, 21933, 14438, 44051, 12693, 8831, 42666, 22082, 5915, 43398, 9010, 49792, 47793, 21673, 23870, 19634, 21258, 40028, 8481, 31614, 43479, 8953, 21970, 11565, 14699, 14569, 45773, 35718, 9129, 9022, 18615, 14212, 31473, 43406, 28838, 24308, 9313, 32741, 7343, 8543, 41526, 13210, 20019, 48017, 12914, 48528, 903, 20093, 34519, 29151, 22964, 35827, 42760, 30136, 48035, 33264, 48430, 15344, 34513, 9668, 19998, 19134, 29684, 16918, 24414, 20840, 11240, 17116, 40859, 14191, 8584, 32087, 29658, 13125, 9848, 45206, 12374, 5527, 9058, 48215, 26418, 24764, 24064, 44523, 43564, 26334, 45670, 4903, 25995, 26004, 36058, 38748, 10238, 26683, 27689, 41148, 25417, 27460, 10682, 29230, 30485, 13506, 45524, 48461, 20796, 16912, 17136, 32825, 1869, 31222, 32732, 31644, 1285, 42436, 34234, 39664, 41633, 11073, 27433, 39320, 31681, 16421, 41602, 19798, 33577, 19045, 5107, 37665, 15416, 28001, 2878, 43434, 14820, 49143, 21140, 1204, 37327, 28003, 5761, 31312, 38488, 9950, 31203, 24496, 41952, 2422, 4808, 35162, 18807, 28499, 4142, 20350, 27524, 50632, 36066, 4758, 49501, 28324, 48457, 35187, 36626, 40372, 28665, 33002, 50314, 15704, 16573, 46948, 50786, 23000, 11601, 50957, 20659, 44763, 9552, 9807, 8643, 32190, 25309, 23750, 23618, 47304, 39253, 6226, 46973, 27686, 34996, 12708, 37341, 2394, 38760, 45247, 16853, 19364, 23257, 12303, 40275, 15314, 50709, 38171, 42610, 9612, 15851, 40603, 47955, 33316, 25310, 18001, 41138, 42639, 48991, 4291, 20064, 39657, 42078, 6541, 41392, 7098, 38110, 5246, 50246, 24973, 42179, 4043, 34517, 44999, 41108, 19605, 5499, 12296, 41406, 23181, 46585, 46161, 26304, 47220, 36424, 50522, 25046, 15225, 3680, 6889, 35669, 50829, 17118, 9479, 30575, 5983, 491, 27404, 29892, 9895, 49279, 40795, 25800, 49560, 2523, 49363, 5616, 22616, 12500, 20921, 17996, 3486, 37565, 27662, 47459, 41934, 11460, 5344, 19640, 2253, 40140, 30847, 13979, 30024, 48877, 42365, 28362, 7186, 49746, 11448, 22190, 49506, 33274, 4851, 3082, 414, 44958, 8659, 29935, 16859, 30776, 18733, 15321, 12418, 8132, 12147, 48092, 40100, 32058, 5786, 789, 26335, 4295, 47797, 3689, 30964, 11809, 49291, 2743, 47154, 27708, 48237, 33155, 43864, 27698, 22614, 18196, 25509, 11108, 50599, 14782, 39068, 32430, 9905, 16765, 39710, 18415, 35099, 2108, 40593, 28123, 29333, 25546, 42223, 43187, 50274, 14867, 45058, 47667, 50196, 30342, 34664, 9165, 21185, 999, 18704, 39471, 22109, 4826, 4152, 22718, 4763, 7191, 40788, 390, 18873, 26677, 9829, 20410, 26631, 4296, 44300, 45073, 22724, 16927, 35157, 7848, 36105, 26404, 29858, 25553, 13578, 47884, 45935, 45422, 7708, 46171, 33273, 37216, 20512, 40994, 15817, 38854, 17357, 42908, 42299, 35273, 33130, 8548, 15538, 2561, 24844, 12805, 15315, 14287, 2636, 41589, 30809, 31249, 50622, 5716, 14440, 94, 37643, 14824, 31983, 29287, 43444, 38436, 9523, 19, 12158, 15642, 16812, 50071, 12121, 38800, 47190, 28833, 2719, 7431, 38052, 47348, 37266, 48702, 10700, 12460, 405, 12486, 28497, 49544, 12257, 16283, 40455, 9764, 20241, 17958, 40146, 25875, 46838, 34509, 35065, 20195, 45923, 41485, 37377, 37934, 37139, 10029, 48761, 18790, 24161, 7011, 24819, 9640, 14628, 39211, 13714, 14323, 2157, 31106, 17120, 33000, 17959, 897, 45892, 17530, 50600, 10841, 14494, 48475, 33807, 43256, 39424, 49850, 13009, 3554, 36508, 40724, 50693, 26962, 42569, 40763, 28060, 44072, 8048, 10435, 28372, 22274, 43036, 16621, 14663, 1236, 27193, 12629, 13080, 15020, 1040, 3531, 38001, 18071, 46835, 375, 13816, 30954, 29409, 17807, 11604, 17140, 4868, 3560, 42046, 35525, 29399, 20335, 34543, 16038, 39666, 28519, 17610, 16838, 27664, 5722, 27367, 15824, 26557, 3176, 16665, 36004, 17363, 24798, 10958, 7091, 27982, 47132, 9994, 22092, 21908, 49889, 26039, 46433, 37494, 11621, 16196, 34584, 29165, 32707, 26455, 37828, 39438, 11239, 3905, 40126, 33856, 46211, 38812, 31441, 27419, 9679, 28829, 19722, 43211, 33443, 101, 16192, 46588, 28529, 28010, 25344, 10515, 19378, 6912, 40669, 4591, 42350, 26444, 36731, 40730, 32915, 17507, 2319, 25606, 23844, 1934, 46686, 32552, 1422, 28815, 25478, 34763, 48889, 50602, 20770, 17002, 50438, 5354, 40353, 23376, 9944, 25596, 19478, 13682, 4613, 8359, 31540, 1456, 39909, 20275, 8723, 30263, 36577, 48817, 37357, 4338, 44533, 9774, 32907, 37990, 6893, 13819, 22623, 22603, 32937, 32523, 48015, 7527, 20321, 44278, 49516, 22700, 1963, 33786, 48859, 32010, 7828, 4832, 16757, 44594, 4795, 19145, 7371, 43940, 1996, 34678, 43042, 50639, 6509, 40968, 31457, 10271, 9316, 50376, 31456, 35141, 157, 48854, 12824, 6511, 30619, 32225, 5311, 26151, 11875, 4098, 2171, 4799, 12112, 35433, 10456, 355, 15875, 44821, 15104, 6413, 46229, 12421, 10417, 3647, 45586, 21253, 39626, 11998, 47841, 35290, 46205, 23531, 19636, 48077, 19758, 3307, 22290, 16401, 37071, 44356, 36527, 25979, 24007, 20104, 38981, 5251, 35630, 29195, 39573, 31935, 6770, 8189, 21679, 22670, 39109, 8908, 32957, 638, 24671, 28475, 2505, 10235, 42315, 42820, 13197, 1242, 31828, 23392, 38872, 10127, 14741, 12129, 39513, 45049, 49060, 47316, 29970, 36576, 17998, 22038, 3132, 2217, 23499, 19171, 40842, 31898, 24112, 27494, 37168, 15273, 22945, 5835, 26701, 44262, 28236, 27461, 6502, 14326, 48885, 47337, 15762, 22807, 47365, 8199, 26999, 15959, 13692, 40799, 22776, 43276, 20364, 33670, 24739, 27220, 24196, 35585, 27602, 425, 25409, 35138, 28862, 18820, 26091, 49013, 19101, 48408, 37092, 1631, 25914, 29427, 24480, 653, 24961, 38543, 36533, 17393, 41020, 41996, 14046, 2653, 24754, 7493, 40472, 1452, 11444, 7498, 19814, 41967, 25608, 16848, 44745, 44297, 34008, 6127, 43134, 23118, 31747, 27516, 37443, 10355, 35098, 25698, 18439, 8743, 28709, 39754, 41935, 41505, 9055, 19245, 10033, 28679, 50570, 25839, 47954, 42052, 27963, 49974, 23347, 48698, 31173, 40502, 38835, 20839, 20958, 10388, 27831, 8613, 17157, 19791, 47426, 46154, 21917, 36861, 41698, 49538, 5123, 28966, 38095, 46847, 5868, 6773, 42032, 5873, 34402, 2135, 35267, 48304, 6939, 18534, 8101, 25747, 18507, 11949, 5561, 9706, 15759, 25043, 29419, 16031, 23018, 19551, 5421, 49619, 43659, 41193, 29331, 29957, 17995, 27773, 18959, 6776, 1004, 255, 18408, 10400, 44151, 35823, 32799, 37719, 48481, 30284, 34367, 19988, 22697, 8020, 29587, 48962, 21776, 1081, 41999, 23296, 14931, 49197, 39998, 48711, 41253, 36611, 33323, 28603, 48879, 952, 2548, 15534, 38402, 35312, 49320, 33355, 44854, 43721, 49024, 37878, 3152, 24698, 36227, 5165, 33417, 36219, 23746, 30750, 44331, 37440, 10449, 46009, 8597, 19482, 2221, 30002, 28453, 1946, 31922, 30739, 8103, 12862, 21174, 42000, 46978, 28939, 33546, 29055, 6312, 42063, 47764, 21936, 37664, 34102, 48287, 33458, 20856, 12341, 15159, 1605, 33575, 15276, 159, 17470, 17535, 47466, 13844, 25426, 6646, 7221, 42805, 42244, 22785, 9361, 23340, 45813, 35774, 50882, 50853, 37729, 2628, 48281, 46727, 39792, 9572, 24458, 32479, 32209, 13280, 32253, 49215, 15111, 27996, 24778, 20585, 46718, 32291, 37733, 47381, 30214, 17074, 23997, 74, 8778, 33777, 44732, 40247, 17029, 45268, 120, 36958, 41327, 27234, 7712, 15018, 30042, 25451, 35206, 5944, 29277, 47170, 1703, 39596, 29741, 38710, 28131, 25557, 41709, 47418, 39077, 45010, 6391, 24037, 2229, 30282, 3958, 6542, 11296, 47554, 29854, 38601, 45458, 6801, 25212, 6118, 32660, 132, 1167, 21734, 37727, 34960, 37354, 28130, 922, 4030, 4167, 28442, 24569, 26157, 35695, 13737, 5989, 39689, 44529, 42998, 7825, 37230, 46370, 29514, 46806, 8253, 15091, 6309, 14389, 18848, 39750, 11865, 43767, 28681, 47013, 23742, 29827, 15905, 9354, 43069, 5566, 13508, 323, 21688, 29933, 24235, 32618, 19804, 23699, 33554, 10795, 39887, 21778, 23798, 28649, 39117, 5708, 45266, 25423, 41034, 19021, 5339, 6533, 201, 29618, 4255, 15284, 18146, 19501, 39686, 44154, 1327, 10883, 23326, 37005, 7741, 5513, 49828, 11962, 45367, 38770, 17479, 37766, 50948, 27289, 4009, 11135, 45685, 43286, 13514, 42542, 36531, 50020, 14025, 50755, 14230, 47286, 27302, 22286, 15125, 3337, 13938, 17462, 33325, 37398, 15707, 40800, 2919, 27205, 12560, 10094, 28192, 13616, 43825, 2811, 23961, 422, 3083, 27885, 36053, 42498, 3805, 43095, 9425, 36679, 33311, 38687, 37655, 33261, 25907, 4283, 11075, 46343, 5833, 11335, 34756, 236, 21232, 29337, 49796, 7555, 10726, 21344, 6587, 44735, 902, 3405, 48966, 2769, 30488, 9400, 15562, 43179, 36944, 19716, 35645, 20026, 49329, 40836, 21075, 9001, 9778, 11246, 35004, 3828, 3816, 15304, 9210, 3091, 44696, 18517, 7478, 20285, 16779, 29281, 35405, 35858, 4477, 38354, 29052, 13377, 3678, 44129, 22185, 5824, 1889, 45979, 697, 14740, 13006, 33711, 2195, 21851, 49754, 42545, 41878, 27323, 17683, 31864, 18007, 50348, 28501, 29391, 31531, 19054, 32101, 16947, 1556, 31506, 24614, 23389, 24515, 48034, 8194, 16343, 40999, 47370, 32051, 21757, 44334, 39025, 16006, 44365, 31372, 49336, 20072, 23960, 39652, 4225, 25552, 1002, 1328, 22627, 12088, 35156, 15779, 43161, 26022, 28574, 39466, 15422, 11672, 12707, 37820, 34572, 48861, 22682, 12502, 474, 50920, 29489, 2571, 1664, 36388, 22762, 20884, 25833, 24675, 4810, 25334, 30015, 15556, 14665, 25966, 41375, 16946, 19350, 40712, 42459, 23313, 12775, 48095, 26555, 46055, 5526, 2504, 2707, 11450, 3280, 30338, 31751, 1475, 6303, 50118, 7583, 31915, 50402, 24370, 9247, 7102, 40927, 49497, 5715, 19854, 20699, 24349, 41608, 11754, 9379, 39833, 8010, 4478, 47979, 42789, 27102, 2237, 22280, 27922, 47849, 50239, 13994, 18118, 25136, 27507, 5260, 44133, 29468, 1881, 30248, 42133, 43609, 47270, 759, 707, 21017, 11238, 3792, 6514, 30252, 6861, 27706, 20214, 49408, 36741, 25521, 11277, 50024, 43962, 25678, 18748, 42473, 32904, 8396, 28404, 29820, 216, 11525, 31853, 9251, 46543, 24626, 11717, 12544, 31374, 45860, 16025, 17918, 31169, 15032, 35606, 20927, 17932, 21919, 38617, 22369, 22503, 47818, 28757, 889, 33547, 35729, 25013, 27497, 18777, 19568, 10896, 27744, 21309, 49260, 37794, 43377, 17781, 10818, 12164, 28102, 15918, 44444, 29756, 38915, 50175, 42009, 44490, 26574, 23048, 37902, 33010, 9557, 10283, 26526, 17577, 29572, 10907, 26474, 40365, 48568, 16907, 13337, 47083, 4416, 37194, 9201, 44412, 38820, 28326, 30293, 2980, 24331, 9147, 20291, 22340, 22761, 14418, 15149, 29787, 33088, 26530, 8433, 9762, 47336, 45322, 17299, 9017, 10184, 28062, 29549, 16134, 29289, 36083, 39516, 8937, 21985, 14673, 35114, 2207, 39729, 49081, 26592, 21130, 47757, 3347, 2492, 3839, 23840, 20014, 40989, 27714, 33475, 37145, 22345, 23703, 33948, 39939, 11049, 5402, 16830, 17623, 15501, 19360, 14739, 5031, 34926, 26833, 23279, 42628, 30193, 48446, 27587, 31559, 3756, 49163, 36537, 17094, 1135, 35392, 23855, 30882, 10913, 14433, 9553, 22181, 49124, 43433, 12410, 19275, 33385, 11148, 23763, 49658, 41675, 27216, 13450, 12879, 17669, 47649, 8664, 30621, 37396, 7173, 26983, 35981, 28, 8408, 13408, 4000, 28661, 11096, 15005, 11376, 50339, 35181, 38063, 6475, 47836, 49527, 29411, 8820, 10869, 39019, 38587, 5980, 39680, 33558, 32965, 3688, 42598, 8142, 36964, 14011, 20481, 6619, 21389, 6375, 12983, 20030, 8980, 15641, 28232, 652, 12084, 47375, 36953, 38373, 44342, 41065, 41814, 6860, 4962, 39139, 36923, 32049, 22512, 8762, 36621, 20223, 31499, 32903, 21215, 40176, 45331, 10507, 24353, 20602, 3969, 1655, 9912, 10649, 50805, 39646, 27509, 38294, 1964, 40743, 27787, 4347, 3727, 31458, 16795, 48317, 27188, 39935, 2949, 8328, 46005, 40477, 23091, 33436, 2992, 48739, 31960, 35605, 16781, 1319, 10876, 3569, 7985, 12191, 27802, 2827, 2946, 28988, 23319, 50292, 4094, 2296, 31613, 50148, 40145, 7787, 783, 41593, 20357, 26774, 12676, 24604, 36173, 35545, 45999, 26909, 41634, 30483, 9199, 37498, 40418, 2803, 20171, 48538, 10886, 48581, 4598, 7178, 1587, 43511, 13286, 46283, 12230, 16527, 6621, 21576, 24111, 43138, 36035, 27536, 17602, 42323, 21390, 7657, 11451, 26026, 45381, 49169, 46430, 12010, 41844, 2514, 21280, 15287, 48646, 40973, 3977, 28234, 41882, 2189, 41605, 21635, 39039, 37173, 28084, 47533, 43089, 11670, 47129, 3441, 44994, 42242, 6060, 26956, 22877, 2072, 6464, 49365, 12398, 19075, 38070, 14083, 8323, 48071, 41851, 36777, 5365, 4467, 21115, 49263, 26438, 31755, 44122, 8106, 36747, 4894, 5477, 50798, 15659, 36134, 24431, 25082, 36511, 18581, 5455, 39182, 23014, 3291, 4354, 23695, 10071, 9439, 36238, 2659, 45889, 23659, 18176, 32106, 11326, 36093, 16138, 3527, 12694, 45448, 32511, 44202, 48298, 23614, 13035, 29996, 24227, 44486, 14698, 38976, 43399, 44340, 28207, 23256, 25346, 13029, 2772, 48963, 5116, 2836, 34862, 16642, 18625, 25561, 17549, 42561, 42129, 27320, 68, 1198, 24060, 28807, 19002, 23890, 7141, 21598, 18692, 46066, 22257, 36345, 3796, 6661, 3586, 38724, 3610, 34647, 14254, 33122, 3649, 32475, 28387, 20519, 49233, 34326, 30664, 40199, 12465, 48589, 4529, 41321, 5395, 43552, 7391, 8479, 12585, 20471, 35650, 28006, 50372, 16854, 35158, 33791, 6429, 988, 15086, 34244, 1578, 50819, 13480, 1856, 40770, 29272, 33196, 29737, 9364, 11268, 4863, 37042, 22493, 19541, 20465, 25639, 32334, 49553, 45650, 33298, 9277, 35730, 37259, 20085, 37237, 25853, 37273, 46183, 34849, 7774, 5013, 7940, 6979, 24488, 592, 17710, 11751, 12933, 648, 25308, 29592, 24643, 49040, 8049, 43901, 1557, 14888, 549, 28731, 23708, 37906, 38253, 31041, 8285, 30841, 18753, 32570, 50097, 11772, 429, 10154, 37648, 21534, 5321, 39180, 48186, 17161, 24346, 1323, 14954, 2930, 4638, 42961, 4802, 40717, 31470, 25920, 49095, 29719, 31752, 24654, 14041, 40195, 13977, 27904, 37742, 10220, 42956, 32466, 48288, 49440, 27243, 24704, 745, 42281, 36977, 17146, 10021, 18328, 33225, 534, 36892, 34890, 8297, 11876, 47106, 25130, 25097, 28259, 32556, 50710, 39292, 26069, 21745, 15270, 40376, 24672, 166, 399, 47928, 43756, 29123, 10538, 24211, 43137, 43041, 15281, 8179, 50707, 48105, 38529, 39161, 7636, 26681, 15958, 48436, 38297, 21574, 2352, 6275, 1487, 14506, 33803, 41346, 38934, 20277, 28904, 40880, 37967, 24249, 22301, 37663, 7978, 50058, 25141, 36396, 35343, 10091, 7124, 46691, 8729, 4982, 45936, 20871, 44035, 17384, 45186, 24144, 50706, 30298, 41573, 26158, 28537, 39728, 7053, 12168, 8394, 33780, 16102, 20342, 30803, 6009, 20751, 43010, 39210, 16128, 32926, 14877, 32002, 34726, 26449, 33701, 16047, 48406, 38350, 8163, 50880, 11979, 26253, 48052, 2758, 12239, 14558, 1268, 49847, 4786, 28363, 21436, 41760, 4661, 29551, 40399, 16929, 37556, 41692, 19440, 26873, 32555, 836, 14754, 24412, 17252, 38486, 34184, 9194, 47458, 35183, 45919, 9711, 29313, 23920, 25808, 42110, 51032, 2901, 36204, 2101, 10635, 18385, 46117, 994, 2647, 44798, 22739, 50432, 23178, 22031, 10312, 27952, 18909, 27670, 39698, 16083, 17670, 24782, 16104, 6268, 20676, 15088, 20283, 18274, 49811, 45867, 43568, 46455, 45217, 23581, 11695, 41748, 42415, 14291, 47335, 38564, 38444, 26772, 27057, 16331, 44767, 6732, 38910, 5758, 27528, 44060, 49195, 48145, 16292, 2114, 5508, 22397, 1176, 27363, 13293, 41850, 6622, 15598, 25801, 391, 44056, 9841, 47096, 43279, 42762, 15839, 28956, 15665, 25015, 27082, 25929, 18343, 7246, 11713, 22748, 4434, 39991, 35049, 17788, 29686, 6956, 32902, 2080, 6288, 33538, 20282, 11997, 32995, 11707, 43632, 33034, 15904, 7998, 24071, 20501, 16636, 33762, 31164, 9134, 30395, 13532, 19685, 16330, 30707, 47233, 27518, 22798, 5903, 15723, 4015, 16363, 12199, 33995, 22013, 48219, 3043, 15036, 31291, 33055, 43149, 30176, 11159, 18477, 15786, 2233, 46281, 37659, 36643, 16095, 28115, 44446, 50733, 9716, 46385, 11587, 8911, 48226, 18960, 2861, 8916, 36616, 22482, 46876, 39067, 10502, 30215, 1314, 42037, 42330, 31981, 42258, 18436, 1334, 12820, 1565, 17558, 48410, 7599, 1730, 3264, 35865, 5432, 39311, 9076, 25711, 14330, 39179, 8913, 49022, 44143, 30223, 37099, 22989, 4472, 42758, 45314, 21687, 10265, 38818, 11858, 40749, 50168, 22855, 44795, 16416, 20346, 9745, 30689, 1835, 8236, 3389, 47281, 3148, 27031, 34317, 49120, 24047, 39233, 14072, 50446, 45644, 23468, 1387, 23359, 29597, 39647, 20397, 771, 36062, 40768, 26917, 33742, 14050, 30799, 45261, 42457, 297, 50388, 33249, 33797, 27592, 42249, 23056, 25169, 32959, 13264, 44442, 44048, 11508, 9577, 11146, 23837, 12489, 26347, 44927, 16764, 27616, 12617, 33892, 15152, 22633, 45260, 45222, 28175, 12573, 43889, 25931, 10307, 9028, 27189, 20537, 24330, 37159, 45025, 45229, 18514, 18009, 31525, 34295, 39794, 36670, 27967, 40553, 33369, 26009, 3939, 42245, 32192, 41990, 48588, 39341, 37618, 23465, 14624, 25395, 29436, 17557, 16141, 26711, 44618, 6714, 18605, 41453, 40941, 30758, 14292, 19458, 48613, 29475, 32342, 17369, 44106, 396, 18111, 25923, 28370, 25285, 35847, 41317, 30184, 45444, 6178, 25764, 17281, 47734, 34133, 8180, 14022, 39765, 41892, 39303, 8219, 8840, 6628, 27340, 17160, 49862, 29672, 50442, 21396, 12945, 23568, 15683, 12224, 26845, 49864, 49236, 1860, 6132, 19249, 5208, 14533, 37804, 269, 50603, 44479, 37737, 20176, 15234, 1617, 39304, 37537, 43873, 14719, 49564, 3892, 105, 32140, 9353, 30272, 9623, 40634, 4502, 41197, 41087, 3377, 19654, 32723, 45376, 39055, 41376, 26045, 19334, 23479, 47195, 33663, 44413, 8785, 40424, 44463, 14518, 42356, 2463, 3365, 598, 11172, 16042, 40577, 6767, 24404, 23085, 45959, 25898, 45494, 30462, 21120, 15383, 24628, 44324, 37008, 42002, 468, 9898, 50087, 15727, 14880, 39734, 36055, 36243, 21753, 45072, 4499, 43513, 45528, 23726, 18617, 24568, 19738, 48967, 3795, 46187, 40933, 49349, 29581, 15392, 19664, 16073, 22026, 16490, 36233, 44508, 1451, 19415, 10954, 27976, 14809, 42763, 30820, 39037, 28469, 28233, 21141, 50386, 50055, 13272, 13, 39415, 47277, 44010, 10230, 20998, 7755, 7817, 43337, 32778, 10588, 9397, 7463, 1375, 11022, 11657, 30418, 31195, 39855, 28536, 8232, 23289, 25144, 10871, 49464, 42891, 10887, 11452, 14963, 7187, 26802, 48472, 20165, 22953, 38381, 42499, 24550, 2420, 41384, 48002, 4972, 30064, 2864, 5884, 20836, 16977, 18055, 40259, 31919, 7326, 28773, 49827, 42938, 5605, 43029, 3870, 18604, 3119, 1507, 28789, 45984, 26161, 46928, 26247, 48156, 17747, 11540, 22037, 28834, 43987, 44752, 11521, 43320, 12749, 29754, 43326, 20252, 29415, 12491, 40073, 21834, 3668, 28395, 46797, 8321, 40947, 6361, 20868, 15488, 44007, 16227, 14229, 9341, 43228, 14205, 40041, 9273, 12139, 33773, 4932, 24206, 41175, 41563, 43760, 25677, 29940, 35978, 23696, 20037, 17774, 24866, 47186, 7426, 29051, 33043, 5677, 50130, 21892, 2142, 7058, 10195, 22585, 38995, 15420, 6950, 44987, 8740, 18734, 16806, 41305, 12674, 11931, 16349, 10311, 31994, 25, 11990, 21464, 28673, 1409, 25146, 41439, 42340, 13347, 19193, 34729, 43651, 50221, 10336, 41768, 41133, 13660, 13151, 13824, 31226, 24017, 25941, 14364, 29426, 39612, 15071, 5950, 21168, 40299, 4177, 13066, 36993, 26082, 17500, 28659, 31577, 26205, 2053, 36499, 22281, 17133, 36830, 27346, 2357, 38852, 36914, 23597, 15874, 23875, 12837, 11307, 37415, 1514, 38523, 33342, 45481, 40432, 15771, 445, 24992, 13423, 26860, 22892, 46061, 8426, 38609, 39933, 37676, 26964, 6428, 7328, 17898, 32738, 5033, 1202, 40692, 12376, 24511, 13683, 40630, 46652, 48468, 17463, 48247, 25182, 38932, 20665, 18271, 38109, 4124, 13830, 40508, 31536, 38653, 6607, 6073, 37916, 19930, 4849, 9958, 2839, 7690, 39725, 39818, 29102, 16607, 35802, 39340, 26740, 31745, 48873, 21657, 46032, 47165, 39536, 48233, 26104, 37493, 4409, 15596, 16935, 7453, 37833, 37508, 24109, 40439, 29269, 36118, 39539, 39145, 22164, 1677, 41872, 48285, 43115, 7951, 37189, 14897, 39316, 11869, 49515, 39328, 24589, 19831, 31044, 50869, 10377, 36245, 17726, 33231, 30973, 34707, 25571, 9450, 38270, 7121, 35042, 38821, 12322, 18492, 46067, 25413, 22124, 2914, 50647, 10342, 41158, 31585, 21308, 6641, 33520, 29607, 43773, 25431, 37716, 37306, 21375, 4359, 39227, 27910, 8356, 7831, 49996, 4752, 5407, 31147, 39796, 33729, 1499, 18144, 41637, 47822, 1593, 40510, 13319, 44024, 25750, 2617, 35093, 3525, 35497, 18773, 24475, 22514, 49364, 36633, 22672, 34428, 34725, 9368, 21098, 10710, 25726, 45801, 26330, 32768, 49274, 46109, 38405, 21469, 10258, 44671, 15108, 36016, 36702, 34174, 1713, 8057, 22809, 21886, 47139, 16301, 21812, 18051, 5297, 48152, 27864, 15617, 25581, 5052, 32851, 21373, 16499, 22939, 4013, 50702, 23350, 41405, 15915, 34730, 39898, 50420, 6201, 3005, 15503, 13326, 45829, 26938, 36812, 19844, 26676, 36261, 685, 50848, 27875, 48673, 13247, 12788, 26523, 33051, 37791, 10706, 17192, 2086, 41780, 377, 28158, 8087, 34833, 40829, 35548, 35333, 40461, 17467, 22338, 1325, 3042, 26855, 29038, 49445, 44061, 32508, 48846, 1050, 10337, 4497, 12144, 7915, 15684, 748, 31908, 30587, 40535, 37854, 1680, 33103, 29435, 27638, 17443, 39149, 24693, 45474, 7516, 27454, 9498, 12559, 14405, 40582, 25183, 35824, 50586, 29860, 31403, 34813, 4666, 37114, 9462, 7533, 28993, 41824, 20394, 30370, 32594, 14037, 27308, 24716, 5271, 49092, 23237, 19009, 22685, 22472, 30676, 15725, 37763, 21555, 50377, 10191, 35664, 10511, 12473, 580, 19885, 12750, 1517, 7855, 27298, 7403, 37328, 7939, 5876, 33431, 40061, 9325, 22342, 32517, 20468, 1279, 18789, 31221, 4227, 40668, 4035, 44097, 39633, 9241, 45986, 33982, 503, 44560, 14240, 46930, 41231, 18665, 36281, 38050, 48021, 8263, 19939, 30225, 18709, 17848, 22366, 41408, 15389, 40816, 23515, 16595, 32153, 32641, 12123, 22678, 2076, 47008, 15318, 37073, 39835, 17351, 42361, 13000, 18742, 32392, 9551, 32727, 34405, 4356, 44057, 50856, 27211, 10788, 33416, 45203, 8655, 1109, 25155, 13135, 10101, 43396, 19077, 50054, 8182, 32615, 48216, 8634, 36080, 20757, 32795, 1967, 25576, 36169, 45093, 22288, 42839, 28360, 32943, 36143, 13059, 40578, 2697, 38640, 34774, 49449, 10104, 20589, 14601, 9091, 45750, 27396, 15672, 12252, 39865, 44492, 50392, 9365, 29504, 18366, 47528, 12051, 28385, 41242, 7464, 40320, 50903, 44965, 25542, 5130, 426, 14379, 32053, 39930, 35302, 4540, 18526, 7891, 33242, 16137, 17021, 44124, 21773, 25972, 10605, 34344, 951, 30642, 47546, 15074, 44977, 48691, 43755, 34420, 23215, 43852, 13842, 21463, 21528, 22525, 10286, 39586, 44862, 48969, 50279, 33100, 14316, 31092, 50133, 47973, 4380, 29480, 27383, 34018, 30096, 31605, 9964, 43606, 42613, 23992, 41944, 28613, 19357, 12356, 39931, 24876, 30281, 15699, 30353, 22951, 29938, 23853, 25893, 28775, 32975, 44561, 23553, 2497, 17989, 7861, 35927, 17732, 37510, 41904, 32243, 26950, 9985, 20760, 44245, 43474, 20382, 41527, 36043, 37999, 1943, 38215, 33123, 30788, 39185, 30605, 45626, 35029, 25292, 42854, 45531, 29204, 44986, 44683, 8214, 43305, 45451, 47510, 40543, 29945, 15710, 41630, 18965, 3287, 10548, 3114, 3665, 15150, 30744, 29722, 50606, 46646, 26128, 37912, 7354, 19072, 44914, 49756, 42629, 35241, 46511, 19904, 15739, 48928, 8017, 46273, 29993, 44755, 28136, 45462, 44455, 17730, 11739, 18482, 19572, 14570, 46620, 1062, 4857, 44895, 44918, 2826, 50076, 28895, 37016, 17762, 27730, 41335, 32899, 38104, 39305, 50060, 14417, 2955, 25742, 40426, 37217, 6472, 32805, 7366, 2572, 46225, 15521, 47652, 23232, 47933, 48799, 4728, 37146, 49370, 8546, 33126, 45961, 14839, 18189, 8129, 6280, 14152, 46209, 50617, 46415, 42018, 34118, 12312, 20098, 28081, 27500, 26076, 46961, 50023, 44070, 48645, 16291, 12695, 25574, 4656, 5137, 6151, 8895, 5788, 17233, 37397, 11781, 730, 9938, 47679, 40506, 21097, 27359, 12504, 38970, 15211, 34598, 48656, 47383, 44468, 9992, 29994, 21944, 1714, 50049, 31018, 47360, 47787, 19527, 14787, 21991, 50782, 47754, 33691, 8226, 37674, 40872, 37702, 11992, 18826, 46419, 20543, 20018, 4773, 7677, 13726, 13729, 30434, 32440, 3434, 24503, 19577, 30931, 17704, 36579, 38907, 23805, 45845, 30697, 30730, 18068, 40906, 17612, 13411, 14113, 5304, 41749, 14862, 45213, 33159, 38515, 34024, 7158, 27913, 20354, 20914, 47452, 37131, 4985, 17625, 27050, 37477, 8381, 31810, 26483, 339, 31757, 6493, 22292, 10976, 34140, 3615, 38263, 27365, 34251, 31673, 2656, 28114, 16150, 24708, 14305, 18126, 21456, 46390, 39429, 38896, 15973, 35624, 26670, 33737, 9202, 47909, 13320, 7238, 20383, 16515, 49961, 35434, 50742, 46740, 31851, 49019, 43831, 30948, 49098, 33008, 44790, 30158, 48504, 50401, 27342, 37409, 49105, 2028, 38336, 36256, 7687, 37680, 29079, 13328, 34256, 25895, 45812, 28675, 30253, 1125, 30287, 37185, 900, 29405, 26152, 39306, 40739, 25534, 26937, 36386, 46800, 6812, 35983, 2677, 23739, 16218, 49818, 50911, 32710, 47865, 32145, 8941, 6756, 18996, 14134, 22481, 27136, 34591, 10933, 1310, 26839, 35301, 13287, 20715, 12024, 31410, 5293, 15351, 16581, 38067, 37827, 25655, 10529, 14030, 1732, 30348, 17053, 6538, 21012, 15910, 19281, 9223, 30346, 25847, 33829, 39823, 39413, 46197, 21867, 46584, 50249, 45440, 5201, 40137, 9242, 27737, 47178, 33412, 26241, 18301, 39613, 37584, 48230, 16287, 29226, 33365, 42757, 10697, 30294, 46065, 17089, 35903, 43827, 11560, 30515, 29668, 30814, 17060, 37745, 47692, 17343, 22727, 18900, 39389, 20547, 30025, 2584, 26835, 45590, 23017, 31443, 17405, 35867, 23951, 41433, 26854, 35648, 23713, 6084, 24457, 31655, 11651, 16402, 47171, 32568, 36835, 37563, 21295, 12132, 29039, 40846, 18910, 6103, 36155, 27898, 43650, 40727, 4355, 36724, 43830, 387, 44462, 6449, 36308, 42297, 23154, 21221, 26343, 28309, 27092, 22950, 504, 41182, 34127, 40667, 35583, 42171, 28630, 43626, 8122, 8886, 37043, 34997, 4620, 6396, 32299, 47844, 26160, 3324, 50379, 38461, 25545, 37731, 28504, 17020, 40113, 698, 32510, 10381, 35229, 26716, 50827, 41972, 12259, 18879, 42737, 32877, 22692, 30374, 14735, 11257, 7192, 17847, 9651, 28737, 6087, 35342, 8054, 25436, 25961, 32216, 42925, 13157, 36187, 16504, 9758, 27595, 25949, 27798, 40983, 13068, 27280, 9299, 26159, 27110, 39339, 19942, 39856, 17511, 24157, 34083, 19783, 20743, 188, 38344, 32841, 26586, 39457, 11629, 41918, 28938, 18646, 31795, 9788, 49617, 16816, 45540, 42005, 27233, 9080, 9616, 33688, 8338, 43999, 36948, 25179, 38174, 36819, 46439, 17538, 15975, 28199, 36865, 31786, 3357, 30559, 41391, 21782, 41066, 27680, 11009, 33253, 8113, 23786, 43879, 19074, 42484, 42778, 50643, 25889, 37524, 18050, 11258, 36849, 45551, 42841, 5729, 29361, 32195, 37224, 49090, 49149, 3572, 24254, 45611, 7607, 24150, 17777, 16244, 30095, 31544, 27949, 25727, 29533, 44750, 15967, 37570, 33974, 46563, 26360, 44335, 14308, 42035, 35465, 39525, 32779, 19553, 44613, 16370, 16229, 935, 13150, 42451, 14384, 25271, 39135, 13822, 39544, 12619, 6530, 25222, 45405, 22174, 41782, 43445, 40982, 50797, 2781, 19016, 89, 42275, 47131, 38498, 18140, 20646, 41509, 2287, 29434, 8145, 43501, 7661, 48388, 35071, 15245, 33491, 32017, 43694, 19426, 31826, 49328, 46481, 27212, 8910, 13986, 4921, 6520, 1546, 16788, 12764, 13384, 28761, 17519, 50866, 49720, 31714, 8645, 15349, 44670, 36158, 36852, 12615, 17775, 17182, 16027, 43319, 27769, 9955, 15221, 48943, 16856, 37426, 33896, 37247, 1394, 48449, 15240, 7541, 26776, 44724, 49863, 6357, 47349, 41842, 36636, 39947, 36925, 11510, 24506, 47240, 43013, 22827, 20706, 30738, 45084, 8167, 18875, 6758, 26383, 38340, 31107, 31982, 16276, 7984, 296, 5276, 45653, 50360, 5182, 35100, 1528, 26213, 1099, 14365, 22220, 40228, 12299, 35614, 39810, 50928, 27655, 21748, 21167, 5207, 8763, 43627, 6696, 7627, 14314, 33650, 3322, 11261, 36730, 33178, 4197, 31914, 28165, 5615, 36222, 41815, 24848, 49421, 14163, 22443, 146, 30445, 8063, 14465, 43545, 21809, 26420, 12131, 18539, 42354, 17097, 43442, 42981, 34078, 28990, 50507, 45287, 15260, 40520, 12438, 17344, 45584, 38848, 19995, 18717, 39922, 48185, 21502, 6706, 32287, 43250, 47956, 8425, 2620, 30209, 34621, 32728, 23293, 25237, 38895, 11379, 48026, 45934, 8388, 31097, 33855, 8733, 30832, 31428, 38939, 29707, 34173, 49931, 26667, 2939, 36047, 462, 35649, 42836, 782, 21699, 33887, 4039, 36890, 17175, 5503, 21622, 44772, 6978, 44408, 15118, 11685, 38417, 32756, 31824, 6167, 14087, 29203, 43919, 7491, 37666, 34180, 47908, 40094, 4067, 22210, 14838, 31620, 41759, 36123, 30773, 6606, 28787, 36893, 23036, 40284, 10463, 41539, 4765, 44193, 12049, 12747, 19720, 16884, 50640, 42318, 109, 49747, 17938, 6194, 29757, 1823, 15782, 49015, 13800, 25788, 8984, 35821, 5164, 27256, 11484, 15970, 32579, 18252, 40519, 28690, 4907, 4495, 7913, 19515, 30402, 21008, 2533, 6172, 16694, 3995, 10897, 13436, 25181, 20280, 41054, 36500, 5785, 14208, 25756, 21601, 5379, 19862, 21570, 46839, 11577, 13226, 7185, 2648, 4429, 48032, 38996, 4780, 32714, 15398, 50981, 21967, 37840, 35085, 30735, 50716, 14067, 33465, 29794, 38780, 49684, 19623, 30660, 32445, 50876, 38766, 25053, 4848, 34502, 50984, 11154, 15937, 32363, 19367, 37753, 4112, 20444, 25253, 524, 12959, 26842, 41966, 11018, 49941, 26221, 17119, 26920, 30822, 41746, 13956, 40651, 41300, 34002, 18334, 29464, 28849, 2558, 49919, 23613, 13628, 6618, 41556, 2695, 13604, 4531, 20174, 15311, 16454, 28721, 1056, 24244, 13437, 36902, 27899, 47295, 9641, 41132, 8926, 12589, 32397, 36743, 41207, 18348, 33679, 8091, 50845, 45760, 28292, 22218, 16246, 11839, 9138, 38972, 9011, 5205, 25721, 15931, 885, 26168, 12161, 22701, 47838, 25494, 2879, 13274, 35534, 9260, 26608, 4707, 29809, 6793, 13852, 9590, 6672, 41262, 337, 46643, 3352, 34225, 42352, 20385, 9461, 40586, 32032, 33876, 22273, 12077, 46841, 801, 4828, 3981, 33435, 42673, 16763, 48396, 42931, 45837, 36373, 23996, 4104, 37331, 19600, 32476, 2158, 51021, 41984, 36694, 50370, 24160, 2546, 26564, 43014, 36087, 23329, 9963, 36596, 11104, 1386, 24423, 34848, 29630, 12496, 20896, 46568, 31163, 38514, 30127, 48807, 48703, 44971, 10807, 23758, 30315, 19355, 5541, 16537, 47987, 31782, 29072, 17481, 42905, 3254, 24126, 43785, 20327, 38057, 22800, 17337, 13709, 30052, 49988, 27561, 21359, 24433, 11178, 5277, 15961, 6462, 2141, 47716, 41195, 34257, 1785, 45411, 2438, 34294, 31347, 30477, 47637, 10633, 41697, 16710, 9330, 41970, 5462, 33513, 43655, 38805, 20416, 32693, 49843, 32369, 3266, 24003, 22914, 46939, 34991, 1613, 28242, 20670, 8149, 14262, 22267, 12417, 19467, 24470, 2298, 1261, 4767, 44095, 10035, 4653, 3230, 3526, 1190, 37246, 29397, 21545, 44682, 28745, 23645, 21352, 720, 35190, 21511, 11759, 1950, 37941, 21995, 42705, 33593, 25507, 2746, 26660, 3289, 30807, 9099, 26366, 42370, 21495, 8751, 28640, 7120, 18229, 28827, 41865, 29804, 43365, 9708, 1322, 43247, 44609, 6253, 37706, 927, 30990, 47398, 14056, 49916, 36962, 7401, 13768, 18006, 4368, 37372, 37162, 19713, 19370, 25145, 22973, 46602, 27455, 14097, 30770, 17434, 21988, 34482, 16458, 15332, 2306, 38011, 48730, 28995, 34253, 49439, 7116, 38557, 4161, 37904, 22096, 31797, 24598, 3004, 23640, 38963, 39222, 11470, 24490, 50511, 45163, 18272, 26416, 7099, 49888, 18549, 47251, 14450, 39911, 23122, 49217, 45608, 25479, 13431, 32202, 33418, 2801, 40384, 8126, 9427, 50781, 27126, 11738, 48428, 38309, 40281, 34208, 10941, 31762, 26925, 3896, 15860, 7027, 39837, 7850, 31489, 2060, 40441, 213, 8677, 43128, 33539, 33157, 26623, 12069, 45461, 25755, 25230, 46703, 7089, 7648, 41575, 48369, 23119, 44647, 38746, 50913, 23361, 17706, 39090, 7767, 43271, 39398, 37782, 45671, 45279, 25603, 49695, 31095, 19403, 30645, 21842, 14635, 37730, 41477, 50361, 11163, 45962, 34969, 2035, 31987, 24068, 12055, 17390, 30207, 26992, 22360, 44573, 33904, 18994, 33980, 12774, 11007, 7451, 2866, 35991, 47840, 23622, 35703, 11199, 27900, 3499, 15801, 49884, 33824, 33939, 26606, 21488, 43359, 45819, 33898, 11416, 11351, 45994, 37981, 16627, 48719, 49980, 12571, 42726, 28867, 5234, 47548, 26064, 1177, 16640, 2020, 39740, 48514, 17177, 40313, 8139, 31409, 12232, 23128, 50051, 13273, 9023, 46167, 16850, 1997, 33368, 9836, 4286, 30314, 24367, 35692, 20546, 49361, 23777, 38187, 28351, 9564, 24539, 30325, 46400, 51004, 25032, 31839, 47995, 600, 33712, 1197, 20909, 214, 43633, 22112, 16712, 47529, 38152, 9492, 26829, 41413, 5820, 13163, 47605, 385, 33944, 6736, 9988, 6378, 2339, 31343, 35825, 51058, 28347, 46655, 1436, 13069, 6476, 17264, 45460, 28598, 40572, 48483, 12726, 27829, 32561, 43718, 34077, 50969, 15065, 50208, 25063, 9710, 29561, 35283, 12193, 24377, 11626, 35737, 1460, 6286, 38871, 46668, 19630, 27467, 3884, 46338, 46269, 26880, 2847, 10460, 47839, 14108, 34458, 38359, 37012, 47982, 40725, 20121, 49573, 22496, 11652, 2912, 17042, 22681, 249, 5852, 13821, 10579, 12429, 21918, 45098, 44045, 41803, 29155, 26234, 18671, 22842, 734, 14260, 7858, 19436, 45600, 20395, 6529, 44791, 14701, 36000, 49082, 8275, 14085, 31267, 8386, 34913, 34020, 11048, 11456, 29705, 43274, 39843, 4194, 10069, 30464, 33452, 24702, 25578, 22645, 23591, 32709, 32880, 19776, 13361, 45475, 21286, 3258, 23414, 32144, 724, 13262, 37468, 22911, 30654, 15622, 29497, 42301, 22887, 32536, 15520, 7703, 40682, 27990, 21294, 27657, 26583, 3178, 17324, 38668, 5458, 36764, 25297, 50760, 42269, 11427, 31643, 31378, 38334, 39265, 16815, 30083, 41926, 31599, 22122, 34270, 31584, 13987, 27669, 39163, 46831, 50191, 36648, 2556, 19949, 30546, 24133, 23522, 11110, 961, 45426, 50993, 41625, 46891, 24502, 20359, 24988, 35441, 32193, 43173, 3739, 16310, 41450, 28140, 1084, 38505, 34297, 2021, 4751, 20208, 44916, 33390, 19882, 5445, 2530, 4387, 36201, 37746, 1765, 35209, 18298, 10189, 34634, 41818, 22517, 7694, 30526, 40474, 8878, 8725, 14194, 42744, 38590, 25977, 24750, 26102, 143, 31298, 35391, 20298, 45652, 25462, 1036, 38233, 50009, 9186, 25177, 17830, 22463, 45360, 11492, 111, 12669, 29632, 37032, 37656, 2625, 39378, 37046, 7429, 13208, 12285, 5587, 50395, 48863, 39358, 17044, 2355, 23670, 46810, 37116, 48374, 5497, 31289, 32429, 30377, 49052, 14008, 28740, 20317, 25004, 44788, 4159, 42571, 49823, 1898, 19974, 22095, 44591, 17316, 40511, 20454, 32029, 6283, 39298, 22497, 11336, 17621, 33970, 41642, 43496, 14286, 1529, 29840, 25735, 15920, 1931, 40574, 47485, 17319, 29532, 45089, 4057, 16372, 24378, 5142, 6630, 43448, 46263, 44261, 23496, 6602, 11884, 37555, 20999, 39724, 36657, 27781, 6061, 33058, 5464, 46148, 23702, 44775, 42327, 1958, 79, 29943, 11827, 7071, 43473, 822, 24010, 35920, 49502, 4210, 5135, 5930, 1657, 26930, 39684, 21540, 10175, 16130, 32505, 12827, 32782, 16122, 22867, 16693, 31728, 44021, 46875, 6430, 16783, 11677, 11847, 14164, 14279, 29048, 30647, 8592, 31823, 36666, 17875, 33510, 20226, 12089, 40279, 31055, 23317, 40392, 8919, 30255, 34566, 35188, 23735, 10031, 2862, 45185, 24329, 23368, 19231, 42113, 18417, 4640, 42558, 36745, 23590, 6751, 460, 17550, 11182, 43074, 13792, 25452, 40447, 11253, 9021, 39220, 187, 21506, 20729, 22329, 7962, 39392, 49781, 7948, 41744, 14174, 942, 6803, 30474, 40466, 24175, 39845, 20829, 42878, 7435, 50066, 49762, 22775, 6166, 10882, 48183, 32514, 32461, 17984, 44477, 36639, 38140, 9631, 25461, 28194, 36975, 6973, 14278, 50351, 41738, 14298, 12721, 1080, 24218, 12551, 22275, 36788, 1182, 15577, 35837, 24056, 12888, 25062, 33304, 20053, 36539, 9394, 41516, 21874, 43208, 29363, 34111, 49959, 18610, 39551, 24941, 36618, 3638, 41428, 11491, 14350, 12498, 40092, 42960, 35096, 91, 837, 22021, 39434, 43062, 5994, 28539, 33736, 39016, 19549, 47225, 8058, 19247, 15850, 5929, 46501, 17144, 47490, 25370, 27493, 43986, 47728, 36751, 9174, 33641, 29075, 24668, 19514, 1930, 29013, 16240, 46145, 32086, 47246, 14546, 14700, 36567, 20378, 45153, 8768, 14773, 6116, 12593, 21022, 44104, 34165, 47230, 38905, 20948, 32219, 16745, 18712, 45859, 39096, 38392, 40794, 28077, 12310, 45544, 17873, 44188, 46444, 40032, 18224, 16212, 36986, 44734, 7821, 19382, 41078, 7026, 12531, 34314, 9883, 29662, 1965, 32563, 41356, 50501, 49436, 39546, 17633, 27887, 32734, 2337, 25125, 21800, 32898, 26891, 36335, 2431, 43749, 47325, 26795, 38662, 44049, 4465, 11458, 11030, 33226, 18296, 38541, 35523, 16093, 32280, 2104, 2073, 28431, 22713, 30899, 46353, 29100, 40891, 16468, 32542, 8629, 8221, 29256, 47912, 17151, 8669, 25472, 3853, 34947, 589, 9440, 18997, 1350, 24676, 30211, 5088, 27420, 50136, 46189, 43510, 7209, 30335, 36585, 12760, 49075, 44622, 11965, 7603, 35531, 33799, 48106, 50328, 21444, 18338, 26057, 26153, 48385, 23847, 15823, 19653, 22664, 11482, 6411, 41727, 785, 20613, 4335, 15283, 24094, 15712, 48030, 3982, 46517, 16059, 34454, 3447, 14571, 7096, 38200, 12806, 30150, 28011, 35270, 46753, 33017, 44258, 35879, 45946, 34156, 49420, 12743, 44190, 30661, 18639, 25425, 44512, 35621, 23684, 6277, 41787, 18458, 20969, 15033, 5552, 13520, 26362, 33246, 4081, 39904, 26824, 33153, 47702, 4782, 37673, 30089, 12756, 39291, 40600, 15857, 32701, 37199, 30011, 27397, 14801, 25982, 10008, 21061, 23024, 38509, 29280, 37115, 27059, 22906, 25287, 9500, 28252, 25616, 2802, 17837, 18207, 7823, 6725, 27138, 26131, 12684, 4085, 38079, 24226, 17255, 46434, 15798, 13432, 5943, 25829, 21962, 30594, 24770, 35167, 15432, 27426, 35906, 7621, 27891, 28245, 5134, 32095, 12985, 9840, 20644, 26077, 9742, 14103, 38371, 2016, 772, 12881, 22632, 42028, 29319, 694, 12558, 768, 37896, 13338, 22782, 47111, 24059, 6223, 810, 49783, 7137, 15206, 38683, 5916, 37298, 14559, 31431, 47373, 39384, 32347, 5919, 29585, 45709, 6416, 22861, 30816, 26878, 50701, 25440, 33654, 12405, 20603, 18097, 44210, 4642, 7974, 48339, 3395, 40537, 11107, 50448, 30363, 210, 26656, 15678, 33177, 28260, 48268, 14729, 42252, 8594, 8591, 1374, 4781, 44673, 29292, 4208, 28310, 41081, 51045, 8631, 39141, 8544, 27109, 40084, 25637, 11805, 42201, 36735, 17961, 6874, 23945, 5609, 27622, 37614, 12479, 43942, 49656, 9799, 6951, 20058, 49871, 47555, 10758, 41459, 48144, 24682, 25256, 21902, 28810, 24861, 37384, 39033, 27876, 41116, 14133, 6019, 48995, 45480, 41110, 9628, 29577, 31524, 43907, 1172, 24923, 41400, 14606, 25775, 17284, 29562, 12133, 20888, 46710, 8694, 44639, 46766, 11548, 27471, 9731, 35084, 30310, 34561, 13234, 33685, 27998, 48271, 5350, 35013, 34375, 9003, 16471, 46113, 18218, 34336, 36372, 1857, 6451, 36687, 1642, 45570, 16612, 32448, 49162, 45872, 33962, 11543, 5483, 31253, 606, 50334, 28866, 21339, 43081, 36572, 10985, 12597, 43663, 26047, 16687, 5141, 9237, 50198, 36286, 35658, 34075, 47136, 12797, 22527, 30350, 11227, 33324, 22860, 18095, 8922, 30612, 39867, 36889, 43181, 40219, 40915, 34694, 3983, 46034, 20066, 25530, 33788, 41035, 20301, 8247, 18978, 38306, 16902, 33382, 9515, 33208, 19305, 12929, 47439, 689, 4164, 37481, 24524, 50556, 10953, 22027, 38578, 43679, 10940, 16133, 12219, 44489, 43765, 23975, 26204, 39705, 27265, 48626, 12075, 11654, 22863, 46227, 35750, 21350, 490, 8580, 20154, 5886, 46308, 49392, 28323, 16872, 11625, 4571, 40685, 8859, 10423, 44636, 21599, 42851, 37997, 2940, 5428, 10208, 1358, 6149, 32451, 17099, 18433, 14232, 5832, 5571, 12727, 33092, 47563, 4713, 10834, 3564, 2554, 28533, 6891, 8015, 9889, 17639, 50325, 6035, 22412, 11309, 39485, 8661, 1919, 7430, 40187, 29760, 41965, 20200, 7799, 30194, 155, 41905, 41894, 22757, 6570, 6290, 9034, 25311, 26838, 110, 20197, 49116, 36843, 35986, 40487, 16752, 3914, 12834, 24006, 12001, 37637, 27483, 9318, 14804, 6749, 41267, 14765, 38900, 2974, 30233, 5827, 38925, 3356, 16561, 29782, 29851, 42649, 19244, 7958, 34646, 10183, 49178, 1444, 39704, 42065, 41843, 37057, 26344, 45302, 16989, 43022, 28027, 51007, 45277, 45027, 12563, 6915, 25138, 47807, 44713, 14678, 35234, 33942, 28706, 35929, 11686, 44321, 3332, 26513, 9864, 28526, 41529, 13794, 9355, 38678, 12821, 43294, 411, 12490, 24522, 20763, 17791, 18663, 17832, 42928, 31031, 13400, 30431, 43460, 10570, 8888, 21500, 38620, 44861, 40614, 43674, 13358, 41864, 35538, 12126, 21829, 27931, 23177, 34162, 27101, 39616, 38362, 37067, 41014, 26018, 45024, 9517, 28382, 9044, 13901, 27585, 31849, 46358, 7016, 18040, 13156, 18684, 18310, 16159, 30560, 20767, 29386, 25746, 49289, 13146, 23003, 43588, 2249, 19965, 38994, 16606, 24184, 38321, 35875, 6013, 47461, 2005, 48906, 9691, 32007, 3655, 41876, 32166, 39492, 13282, 40684, 8144, 12313, 20070, 23473, 49039, 46524, 5546, 45902, 31216, 4457, 40658, 3571, 37573, 27684, 10769, 40457, 18235, 17342, 11401, 43008, 231, 1129, 33665, 44942, 26336, 44359, 30442, 39098, 14184, 16022, 19895, 18913, 12980, 34717, 23580, 21736, 38077, 17321, 9007, 3316, 20717, 21551, 14513, 40986, 346, 46126, 18928, 30927, 23023, 20361, 38903, 30915, 11912, 42033, 4976, 13374, 16686, 12172, 22359, 23520, 6833, 11183, 2800, 21752, 10555, 36101, 50906, 43829, 22801, 13244, 20671, 29887, 13917, 32037, 24465, 190, 43275, 49278, 7506, 23051, 23845, 25827, 18637, 32551, 12672, 48685, 49288, 49569, 34828, 50099, 44374, 43687, 50008, 14905, 13250, 5352, 41389, 30781, 33705, 31464, 44114, 35717, 25176, 26407, 41058, 5681, 26324, 41301, 8896, 23200, 39628, 1009, 12787, 30755, 7839, 14462, 1281, 43819, 43941, 25257, 8319, 40173, 49608, 37900, 26912, 20719, 13010, 36932, 25704, 4546, 50512, 17227, 42029, 7655, 46329, 26094, 37449, 21194, 16661, 23285, 10450, 18367, 32282, 13983, 42440, 50789, 33640, 18243, 8866, 28237, 34845, 40408, 13781, 23126, 39300, 30428, 35331, 6615, 31941, 39156, 32426, 27572, 25407, 16110, 12690, 46979, 26737, 18447, 21583, 9287, 7494, 2537, 44425, 9995, 46, 37094, 49968, 33999, 30591, 10143, 7336, 18844, 26034, 29889, 33334, 15939, 14496, 1550, 37053, 15881, 42595, 9445, 13770, 28439, 8021, 18464, 47084, 50564, 43387, 6734, 13460, 26251, 27227, 40468, 27495, 35437, 4128, 22907, 49121, 12047, 36600, 49415, 31884, 3194, 7472, 8547, 16199, 45412, 27319, 34974, 34350, 44800, 4391, 48566, 41730, 30097, 10878, 16643, 14638, 44369, 44850, 15025, 48470, 33003, 42289, 50751, 19839, 25812, 11899, 21079, 7064, 17552, 45433, 5263, 13645, 50359, 14688, 10619, 9278, 10476, 7268, 35287, 39346, 28658, 41493, 1187, 17627, 22711, 33792, 33931, 3634, 19438, 14324, 250, 41501, 19066, 31065, 33170, 7550, 15183, 4507, 49367, 32374, 30617, 37203, 27390, 17586, 46782, 44079, 35877, 39092, 50859, 15977, 13385, 18791, 34790, 47724, 43786, 3824, 10553, 20273, 13013, 22666, 46990, 49621, 1234, 6686, 5991, 8448, 39036, 23446, 50631, 21178, 31073, 43051, 41430, 27303, 5003, 29247, 27453, 5976, 39995, 7283, 26911, 29096, 26425, 45014, 6383, 27826, 18398, 30511, 12887, 48600, 35987, 5859, 40583, 13909, 25613, 47403, 5193, 42790, 45111, 50973, 15305, 26755, 49251, 45920, 6404, 15256, 11746, 16254, 19369, 22983, 12801, 23278, 38566, 18874, 43870, 31022, 44152, 10705, 10153, 5732, 31801, 14953, 6504, 48386, 18188, 18013, 3460, 31700, 34040, 4520, 34579, 14473, 14111, 10844, 42130, 26062, 10335, 795, 35007, 42505, 160, 19865, 34028, 13391, 25820, 37501, 31278, 19252, 29325, 44886, 3062, 50349, 50277, 6012, 25989, 979, 9772, 48947, 38527, 32333, 49647, 39288, 39387, 7844, 20046, 16299, 37265, 31702, 6055, 26936, 50134, 7790, 7332, 21343, 30961, 11431, 40346, 26923, 35097, 48265, 5195, 50870, 34527, 20015, 4373, 25759, 36681, 19500, 2958, 39505, 8200, 13071, 31381, 26630, 37417, 28850, 26382, 3544, 4220, 996, 15878, 37566, 42831, 6203, 30767, 24653, 34904, 1304, 6985, 24079, 5038, 12120, 16239, 4114, 24634, 42474, 899, 21853, 33174, 2667, 9871, 46063, 24099, 37076, 21972, 50033, 10909, 17881, 6304, 28887, 2268, 48558, 31057, 13552, 32447, 39093, 34600, 50966, 19049, 35905, 26261, 35728, 24838, 655, 17689, 27815, 31796, 17528, 723, 47678, 44822, 42554, 6213, 38199, 46014, 11292, 34003, 10358, 31480, 48624, 8596, 37512, 45066, 17361, 7930, 23789, 41323, 13867, 4820, 23074, 45981, 39779, 45663, 26751, 48028, 47255, 41912, 26818, 25685, 33521, 8464, 16708, 3815, 35170, 27940, 38951, 40507, 32750, 20278, 28413, 47582, 40096, 512, 25482, 6018, 45747, 45015, 17223, 37161, 24114, 8037, 31325, 12561, 42696, 48066, 21852, 40081, 27541, 17652, 41613, 8994, 38106, 4974, 42325, 28965, 36607, 36466, 35544, 13364, 47856, 17862, 10659, 20679, 49859, 33860, 49519, 24618, 30210, 25369, 25992, 8146, 7424, 7730, 2387, 39050, 16277, 17226, 24688, 23324, 29087, 12557, 29729, 41349, 35629, 38658, 47640, 2900, 24337, 42291, 11331, 29506, 17682, 38279, 47905, 24726, 10864, 19923, 13920, 13990, 47423, 2560, 42488, 18766, 19358, 4723, 5634, 14168, 15998, 9801, 25067, 3620, 29696, 5865, 30657, 48255, 18678, 10979, 34386, 6855, 41337, 47138, 42043, 19520, 10369, 257, 20129, 17751, 18295, 21260, 33793, 30417, 5061, 39883, 24591, 14727, 35775, 5016, 17047, 49333, 253, 46186, 20926, 43553, 6467, 40765, 32181, 277, 22669, 16773, 45434, 13654, 29591, 25846, 45332, 4618, 13952, 34894, 7462, 14360, 28799, 21238, 1707, 35783, 45712, 27977, 24081, 11894, 35166, 40674, 34508, 18890, 13753, 41318, 7133, 28482, 38945, 13475, 6642, 14421, 19384, 39542, 10509, 26707, 43384, 7827, 49267, 9156, 16127, 39881, 3007, 12214, 16903, 14986, 14527, 9769, 7193, 36840, 35131, 17338, 45677, 50471, 18015, 46921, 5399, 25690, 36991, 22094, 32313, 11165, 35168, 29235, 50122, 49456, 28637, 19547, 44557, 5783, 19274, 36119, 43272, 1687, 23533, 46910, 3224, 44138, 31718, 1928, 4760, 42502, 13537, 33828, 41686, 50016, 16145, 299, 23995, 13915, 49118, 7993, 11944, 29740, 26044, 543, 42127, 25751, 39521, 4195, 20297, 4936, 39802, 44052, 25769, 432, 32722, 20175, 46688, 40929, 21847, 37280, 5094, 9068, 20774, 1618, 38206, 8403, 44132, 46889, 47392, 26636, 37681, 33632, 45020, 9504, 23887, 36610, 7179, 5578, 31113, 19790, 24852, 33241, 34772, 920, 47371, 13630, 8622, 41771, 6182, 46193, 42158, 35740, 13363, 44803, 21612, 20101, 20006, 50645, 6279, 40375, 49147, 40048, 30769, 4709, 29623, 22116, 13504, 22074, 18372, 7585, 16569, 11122, 20917, 12581, 38423, 37293, 8466, 6929, 22725, 2526, 38688, 38303, 5949, 14769, 18738, 38661, 25741, 1829, 46279, 14357, 3279, 22003, 22980, 37171, 31356, 27261, 2581, 35297, 18438, 3344, 533, 14536, 19928, 46862, 47002, 40945, 37234, 20630, 50143, 34365, 33598, 28689, 4766, 18063, 10308, 11366, 5735, 10675, 15269, 46692, 30333, 39582, 49097, 9759, 22365, 40382, 28718, 14135, 23286, 2676, 7803, 11162, 21715, 10596, 35005, 21196, 19000, 49318, 12854, 47660, 1430, 2370, 6674, 16797, 19184, 71, 8097, 2998, 5072, 25361, 32183, 25430, 6306, 25964, 13856, 32211, 19693, 48153, 22642, 45830, 24474, 39836, 22649, 13612, 17064, 44325, 32971, 33727, 41747, 23768, 13362, 5964, 44938, 22561, 44580, 49272, 46491, 33965, 36443, 8784, 38508, 48878, 29900, 41673, 18190, 35336, 15805, 10047, 33428, 800, 252, 37577, 37579, 5923, 886, 41861, 20235, 43776, 9020, 49716, 8720, 3592, 1719, 29695, 5294, 3297, 24538, 12865, 50562, 46901, 40777, 11232, 37886, 21462, 19730, 50577, 9301, 28606, 42526, 23410, 28173, 29694, 11424, 20448, 43258, 10531, 8152, 46192, 33213, 2419, 29130, 27954, 44950, 28812, 48379, 45857, 20560, 33285, 25532, 24842, 40456, 38352, 45248, 12790, 4776, 3374, 45431, 1209, 6518, 9636, 18926, 20413, 14114, 674, 31626, 147, 36961, 20507, 45438, 21317, 23375, 43560, 45199, 26617, 36324, 26476, 4554, 50967, 30201, 34469, 42418, 554, 2258, 8654, 13127, 30318, 6410, 27311, 13162, 7504, 14692, 3759, 30425, 5904, 40663, 30763, 25200, 19662, 7374, 12198, 34239, 34501, 7395, 32787, 31743, 41069, 43216, 27304, 14331, 16303, 4935, 32532, 20700, 41177, 22386, 20128, 29926, 35899, 49037, 49517, 18152, 23137, 12381, 19985, 46441, 24415, 26895, 16125, 8825, 38526, 29746, 26491, 27917, 35306, 23953, 42870, 31736, 33503, 39669, 2176, 44984, 3343, 17814, 41431, 46822, 12736, 33466, 13109, 37056, 29637, 15352, 456, 51028, 42869, 48608, 33599, 38599, 11844, 25642, 50200, 49290, 26813, 22879, 25365, 5075, 2737, 29986, 29463, 1028, 39717, 11220, 38143, 47503, 23826, 35791, 45855, 33287, 28331, 37943, 39111, 23593, 4774, 11168, 7242, 42808, 3076, 28655, 1603, 11832, 17003, 26888, 46327, 21166, 12284, 829, 14270, 8719, 23170, 24537, 26533, 27248, 47788, 24557, 9238, 36013, 47932, 3743, 35069, 25386, 29484, 44782, 2478, 7423, 37049, 4318, 35501, 8982, 27924, 5211, 33754, 46080, 7163, 49446, 7228, 41915, 6884, 23633, 29593, 48200, 8233, 12242, 41985, 24695, 24492, 40707, 34213, 39622, 46406, 26572, 30988, 18520, 34918, 18927, 1052, 48640, 45127, 28924, 5265, 273, 31563, 37624, 11123, 42247, 29403, 19518, 29919, 25163, 11862, 23917, 39549, 22890, 36839, 46100, 26031, 26144, 35892, 19723, 32425, 29140, 13145, 1054, 14750, 30339, 7567, 30458, 31336, 2805, 3052, 11283, 18264, 14413, 9093, 2885, 38933, 16979, 15085, 17738, 48231, 13935, 38756, 47108, 39284, 14649, 5573, 34643, 43070, 38768, 12177, 15399, 3484, 42430, 8470, 1862, 40038, 45563, 47016, 11306, 25391, 30960, 22937, 1780, 5724, 33579, 27538, 4100, 19017, 25165, 2013, 31098, 1255, 2215, 25673, 37423, 47926, 49324, 34626, 12480, 21668, 32122, 21915, 16602, 3808, 601, 13493, 47983, 34325, 18413, 46553, 4717, 5357, 34557, 37859, 49776, 41281, 15865, 13782, 46349, 26661, 42781, 39986, 31157, 14636, 43689, 30213, 1684, 11254, 5212, 12401, 21914, 49466, 29438, 25716, 17852, 6220, 49362, 12067, 8930, 37359, 21666, 13615, 7592, 41810, 50636, 51042, 44135, 1696, 51000, 46045, 33991, 50077, 12090, 24573, 19611, 24380, 7914, 26027, 15912, 37760, 33477, 32749, 39910, 30623, 11284, 33398, 32079, 28445, 20380, 30971, 8528, 15113, 11185, 24727, 49920, 42771, 41153, 2041, 28816, 33609, 2006, 34866, 20439, 47665, 31888, 10260, 16353, 37836, 15597, 35537, 7501, 19850, 23103, 36459, 6673, 33769, 10930, 635, 33447, 26541, 29149, 9212, 21862, 6755, 24201, 18674, 32820, 50907, 23627, 15830, 32416, 3517, 9923, 22353, 45639, 20009, 19592, 31632, 35108, 13004, 32529, 14721, 40063, 10077, 32043, 8924, 11312, 13473, 11090, 33831, 12181, 39120, 34905, 5089, 3228, 25926, 14562, 5608, 3183, 11322, 32114, 32592, 41606, 42575, 45417, 41772, 48720, 10433, 35603, 20122, 43107, 46897, 47549, 9188, 50719, 41720, 50700, 4880, 31452, 5346, 10992, 44780, 11323, 7540, 48447, 32085, 6856, 26643, 35165, 2299, 25068, 45500, 37571, 43032, 40671, 31518, 42173, 20636, 24356, 41543, 7485, 27241, 3965, 40766, 5709, 16749, 46689, 28215, 45317, 12348, 7243, 18210, 10129, 12221, 41457, 47945, 458, 39840, 42972, 37088, 37979, 1594, 40492, 26021, 42993, 3205, 9924, 14565, 40940, 45791, 45949, 2586, 38913, 7197, 9048, 2089, 12072, 49152, 26466, 26138, 34347, 39945, 14175, 41232, 4413, 48838, 20931, 4854, 27093, 25623, 6964, 30713, 20517, 21520, 32259, 29005, 27413, 49137, 8847, 29156, 45204, 32905, 7537, 24483, 38383, 790, 9899, 20798, 22221, 7217, 28264, 46090, 34948, 7544, 17300, 48896, 17872, 30719, 23775, 13894, 31316, 11037, 4668, 21792, 33588, 12998, 31434, 1904, 31656, 29862, 40838, 32069, 5330, 1502, 9480, 25717, 5985, 28179, 42553, 42648, 14140, 27915, 45989, 15090, 11659, 44568, 38151, 45147, 19006, 23813, 41826, 21033, 48752, 28886, 7905, 28832, 20133, 13298, 37412, 8521, 32598, 38847, 19172, 37669, 20119, 13160, 6609, 18448, 3145, 2813, 44207, 30838, 4844, 30247, 17241, 10315, 6667, 39578, 5826, 2734, 7897, 26440, 547, 30130, 8030, 26115, 48473, 12940, 24411, 29088, 40135, 35179, 11649, 41930, 35934, 13474, 29356, 9648, 27510, 19254, 20652, 34307, 32230, 14852, 33029, 34538, 10197, 42947, 24271, 8451, 29527, 25840, 47394, 29801, 30833, 47092, 41183, 21999, 25469, 39550, 30714, 6147, 8423, 22511, 31014, 27373, 21566, 18041, 18597, 7385, 18081, 43446, 43788, 29770, 20062, 34034, 46195, 48415, 47124, 26765, 9035, 23831, 48041, 9431, 43239, 25035, 25969, 29199, 2688, 2065, 20177, 21327, 46972, 16400, 37991, 28951, 33893, 11442, 50921, 8376, 40594, 18772, 46164, 18887, 18236, 3953, 31974, 42443, 17793, 29482, 478, 5565, 38841, 34660, 17642, 39703, 33553, 32449, 16556, 28146, 48067, 28791, 30169, 27153, 44378, 23490, 47726, 29301, 47265, 30610, 36557, 42976, 44617, 39451, 43016, 5119, 32127, 36181, 21251, 29673, 12183, 19951, 40037, 10609, 50030, 3173, 32958, 32791, 8511, 23619, 42647, 11940, 42752, 45861, 3709, 43869, 12023, 48913, 12510, 5017, 14947, 29978, 12515, 23891, 37270, 34404, 20443, 26235, 35367, 6508, 49107, 13067, 6477, 36086, 23294, 49240, 39499, 35310, 4547, 22686, 13560, 38437, 12810, 39816, 30842, 24741, 17841, 28348, 2426, 4004, 3988, 50266, 19733, 14670, 19328, 43772, 7093, 10026, 26139, 21643, 24379, 19564, 7129, 28555, 25291, 9098, 4479, 33667, 19264, 839, 20936, 16203, 43200, 39017, 1942, 27868, 39021, 36244, 49628, 23542, 2348, 35116, 36594, 43213, 19337, 31793, 27169, 2177, 44899, 34902, 44167, 26171, 44036, 24486, 19870, 7175, 27062, 24812, 22432, 18506, 49486, 31486, 38497, 9465, 19393, 25549, 27534, 48733, 30471, 38054, 28756, 22219, 1998, 26150, 34170, 41684, 32567, 45005, 17884, 43724, 4122, 4336, 50312, 17329, 50399, 23707, 33223, 23230, 1699, 4002, 7255, 29264, 7720, 42734, 44401, 2531, 8271, 34255, 13304, 44616, 15753, 50242, 6690, 23101, 32383, 15742, 37297, 6176, 31496, 27422, 24241, 8832, 20290, 4575, 10217, 31360, 8747, 50247, 4744, 33402, 32355, 11956, 30640, 11476, 47511, 36605, 27260, 42069, 11407, 25304, 41871, 20991, 39916, 43963, 29773, 39168, 34546, 19523, 9635, 8534, 49056, 3477, 22098, 20720, 6365, 20239, 41473, 49127, 34274, 29679, 8073, 23090, 4865, 22579, 34775, 7363, 21152, 45795, 44777, 10528, 18554, 26295, 20012, 48147, 27366, 25679, 19963, 16169, 32294, 44279, 7344, 46981, 21244, 12085, 15856, 8807, 21844, 49131, 42159, 31820, 36340, 11285, 14745, 21414, 27178, 23481, 21225, 23916, 35742, 50724, 30678, 47736, 23600, 12332, 31140, 19256, 22507, 14285, 24864, 37480, 16097, 18212, 24375, 10666, 34915, 47278, 2661, 28817, 45922, 32236, 20918, 11943, 48905, 46078, 50413, 37924, 31153, 21419, 17755, 9753, 8313, 40324, 23564, 7256, 36558, 24424, 12685, 22648, 15058, 12957, 19699, 9283, 35891, 12056, 49461, 21173, 24603, 42989, 46824, 21846, 45687, 17312, 12614, 49630, 35413, 700, 40528, 45359, 46514, 29859, 2686, 50688, 47880, 15414, 22562, 15540, 4557, 50322, 27201, 10752, 38663, 40751, 28208, 49727, 40683, 31471, 44758, 4151, 47072, 16646, 43254, 23107, 46222, 39259, 18082, 14898, 14498, 29417, 2825, 13209, 2392, 16892, 25728, 10626, 49725, 31042, 1871, 42872, 20092, 11586, 20640, 22130, 23933, 25019, 11206, 4300, 11666, 17052, 25266, 45414, 37232, 50234, 38730, 34424, 21443, 44392, 36208, 25071, 25535, 49895, 10543, 37027, 13710, 43199, 3016, 30113, 19341, 17829, 14589, 17057, 10292, 35763, 28917, 591, 18450, 50427, 50951, 36178, 20126, 21321, 29058, 9172, 31766, 39010, 37370, 38674, 37437, 43757, 9127, 21091, 26902, 34391, 42527, 16833, 19595, 37150, 18430, 11509, 5959, 19594, 25424, 12769, 40123, 18989, 33137, 33526, 12893, 50748, 12518, 13831, 2841, 27266, 23300, 2619, 42803, 44353, 4309, 47290, 35175, 49929, 28760, 32356, 5662, 46590, 31787, 39965, 9516, 23046, 25348, 1359, 19504, 38024, 31102, 50313, 47097, 8648, 21296, 39759, 49711, 11638, 30140, 17825, 5050, 41172, 46068, 33816, 292, 18135, 41468, 19143, 9629, 40932, 2330, 40723, 10036, 49406, 34788, 31726, 47350, 45092, 50088, 33794, 25664, 42175, 39085, 41188, 39203, 42114, 6107, 16280, 14497, 42759, 4989, 48604, 15928, 22006, 27559, 17630, 5647, 31771, 8402, 1932, 46282, 36985, 19642, 33699, 23010, 16614, 10120, 23356, 29242, 4366, 30329, 9453, 17842, 32558, 30994, 17811, 20946, 7261, 42614, 48238, 41902, 43740, 26429, 25438, 50475, 1681, 7945, 22305, 8975, 268, 34712, 41976, 34539, 4466, 30234, 25891, 40026, 26117, 38512, 18841, 28247, 29876, 29711, 765, 46111, 42241, 43557, 14012, 16546, 26328, 8635, 35833, 43892, 32401, 13166, 8287, 15734, 27078, 13399, 44575, 46742, 36497, 7561, 28764, 46341, 48069, 42391, 33082, 43424, 7521, 9458, 46768, 18508, 9050, 42733, 24841, 28704, 32083, 14622, 42855, 30885, 8955, 12476, 11566, 13580, 43682, 13539, 39480, 2931, 39106, 49230, 45128, 963, 50378, 4026, 48334, 24583, 43067, 38891, 28634, 8411, 11213, 6406, 49856, 39071, 37097, 48866, 14128, 44985, 29112, 34125, 22635, 49853, 23579, 25591, 28512, 33374, 46312, 8395, 46177, 26388, 48211, 18374, 43079, 5495, 30443, 15774, 40370, 41306, 34181, 39927, 22977, 36806, 32008, 36382, 39732, 19207, 8615, 49355, 1208, 17967, 43542, 14594, 2232, 3015, 32938, 42504, 11195, 44441, 34639, 8377, 43673, 21777, 11137, 36213, 38272, 39677, 28559, 479, 13836, 47242, 35555, 17770, 34653, 8838, 48249, 18822, 19024, 47705, 39478, 29528, 7508, 13185, 37831, 44213, 5554, 31657, 32917, 9878, 40602, 43731, 46613, 31262, 35872, 11031, 47361, 9475, 1940, 16948, 32352, 14453, 7502, 40555, 50524, 25054, 50933, 7211, 22997, 30780, 13268, 20130, 2924, 25389, 9323, 28210, 50223, 48157, 49729, 15059, 44541, 8272, 30397, 11001, 6026, 16743, 50952, 18364, 45443, 10854, 908, 1497, 43563, 47492, 1968, 28110, 42568, 32572, 39801, 24036, 4791, 34623, 33683, 29127, 28109, 1500, 40561, 46429, 39604, 47105, 5641, 9489, 34444, 27918, 9079, 506, 7327, 16340, 44219, 35863, 10630, 37324, 9349, 15660, 15695, 4654, 49520, 21335, 7383, 35505, 45884, 30070, 46853, 6807, 41233, 38705, 14948, 38771, 48402, 10086, 11802, 20262, 37905, 1312, 45336, 24116, 10998, 5748, 1567, 36030, 41050, 30716, 30133, 11628, 7647, 8530, 37182, 2477, 14437, 32124, 20549, 25105, 11371, 27854, 28906, 9851, 10346, 34275, 44649, 42838, 44439, 6487, 25351, 37592, 38396, 50086, 4084, 6030, 19118, 45306, 35398, 1806, 32590, 12955, 22583, 39913, 1645, 32624, 660, 14492, 42988, 34166, 45770, 26332, 12528, 21418, 9852, 9587, 41616, 24076, 43625, 39324, 12281, 24549, 33741, 18770, 16598, 46108, 10794, 32055, 34686, 21553, 37112, 22223, 14322, 4873, 2446, 28530, 29798, 26293, 1753, 41458, 40526, 8583, 11951, 39342, 29210, 27926, 9512, 29510, 15868, 17486, 35968, 48989, 4160, 30212, 46285, 573, 45488, 49638, 15298, 21180, 2952, 6171, 17724, 44285, 5232, 20075, 30751, 17084, 14066, 34592, 13200, 10372, 16893, 46720, 19023, 1591, 4221, 19529, 20759, 36100, 43517, 14084, 7535, 24806, 29439, 22894, 25180, 14825, 47409, 50297, 11471, 33722, 8245, 19472, 36371, 41631, 21865, 44172, 23477, 4611, 37305, 924, 49841, 45637, 50995, 25464, 7046, 30206, 15924, 4187, 680, 8614, 22526, 32575, 45398, 23535, 44500, 17606, 26112, 18640, 6775, 285, 21675, 25975, 17125, 45775, 30426, 876, 8680, 28702, 50784, 6478, 16336, 46316, 6327, 37291, 48437, 896, 36270, 42329, 1939, 13872, 33721, 13571, 22244, 13403, 211, 24531, 49064, 3478, 17261, 39960, 4058, 21125, 31149, 7729, 48734, 14768, 4183, 34999, 3850, 40076, 5755, 10361, 21438, 43770, 15908, 8611, 30629, 18835, 28032, 9308, 42521, 936, 26848, 11085, 30856, 29323, 22235, 18979, 4953, 30195, 26739, 35286, 6608, 33744, 35923, 41983, 13705, 27441, 6910, 10727, 10617, 16770, 10814, 50808, 13974, 6853, 36755, 15338, 32138, 3136, 38893, 378, 42087, 36996, 3543, 18897, 50110, 15582, 5542, 27640, 4592, 41946, 46548, 34438, 43814, 47520, 11502, 34361, 10275, 32804, 25219, 14984, 31505, 27112, 21207, 39002, 32539, 17740, 20784, 22595, 44819, 43803, 38221, 29665, 8098, 4732, 45373, 19718, 42867, 20205, 24013, 16879, 49309, 30090, 15519, 42907, 308, 36124, 12652, 27567, 3934, 37226, 25326, 12339, 50082, 2733, 12425, 17427, 28724, 38189, 47523, 51054, 2889, 20415, 42586, 21650, 13173, 37952, 40473, 31094, 20516, 7392, 49879, 47292, 19099, 34005, 46311, 13442, 50104, 557, 1203, 7928, 17229, 44042, 32847, 24179, 44600, 39423, 757, 45969, 31802, 33067, 10946, 22071, 23668, 17572, 7584, 10356, 40213, 6588, 27877, 33023, 46244, 25748, 49102, 34492, 47991, 20445, 32317, 46243, 7667, 38122, 22036, 17883, 28073, 12838, 41974, 48782, 34924, 34245, 37922, 30982, 18664, 39675, 24229, 19526, 2235, 14591, 14139, 43357, 34820, 8025, 11176, 35694, 49077, 10221, 24547, 12835, 8175, 1767, 16732, 28840, 16774, 36910, 20138, 8278, 10313, 50418, 4108, 1111, 44220, 3846, 45793, 30938, 27077, 39132, 41989, 34086, 46896, 28070, 15462, 34191, 3868, 5484, 33485, 43939, 13327, 45567, 6459, 38836, 27937, 30499, 17827, 47475, 18769, 34853, 20859, 10872, 34810, 15797, 4320, 38726, 23421, 5085, 39030, 49157, 37576, 43921, 39201, 39969, 3799, 6394, 21592, 29244, 37650, 34453, 47543, 17757, 1797, 12642, 3000, 11504, 10498, 12711, 50482, 46834, 40697, 29103, 3557, 1119, 50536, 36911, 33929, 28267, 47508, 7659, 27835, 16873, 28317, 287, 40691, 15990, 481, 4622, 38250, 19489, 26926, 328, 23412, 17790, 19199, 50081, 28335, 23114, 37993, 9207, 26521, 44111, 46666, 21134, 32309, 20562, 12345, 37006, 27647, 16157, 18515, 34135, 47160, 31469, 28458, 12378, 26280, 22428, 36348, 8, 46004, 46724, 23442, 14870, 2888, 20455, 42228, 33415, 26448, 7164, 31695, 4834, 974, 50872, 37080, 39854, 23152, 41610, 16554, 3065, 49145, 44689, 41998, 23304, 28272, 8586, 11941, 28174, 16168, 29544, 8102, 13611, 33422, 43706, 19453, 29473, 38686, 47512, 12982, 36622, 24100, 43190, 39166, 47140, 40652, 33471, 25489, 50965, 31215, 25962, 34946, 16484, 21072, 36330, 33425, 50330, 42550, 45866, 3022, 35900, 9225, 13569, 10050, 38368, 35417, 905, 41603, 47214, 25159, 18010, 50310, 30451, 45333, 47610, 30495, 49851, 42118, 18414, 25586, 21245, 35105, 19196, 22198, 11671, 49051, 1877, 3090, 40912, 32336, 42003, 39296, 50959, 43491, 3909, 4815, 10461, 9954, 37918, 33205, 28478, 14488, 12176, 47648, 37081, 45313, 12104, 39431, 6032, 15569, 9123, 11871, 48509, 5305, 16742, 45334, 45409, 38639, 46562, 2489, 3188, 3099, 18510, 10114, 44200, 2553, 39932, 21122, 28092, 50286, 6057, 22354, 1977, 41417, 44053, 2815, 13091, 10918, 48107, 2115, 35946, 1512, 17532, 48297, 2606, 24307, 2764, 25437, 31517, 45807, 41973, 37893, 31240, 32780, 6206, 4663, 46072, 13139, 38148, 7545, 1246, 30208, 2040, 2208, 48289, 5184, 3860, 18936, 33336, 13923, 22792, 18939, 2854, 30260, 29803, 38358, 32803, 4080, 19387, 7576, 34355, 36551, 21246, 18156, 37724, 20532, 12424, 9493, 38829, 8934, 32940, 25026, 47812, 13913, 35807, 22160, 17727, 23685, 535, 27401, 33928, 2730, 39826, 28086, 15034, 49292, 12776, 33519, 34673, 20513, 3737, 43245, 43466, 791, 3537, 107, 50991, 49532, 1023, 10170, 40696, 41017, 10616, 41969, 10957, 46239, 11699, 6140, 3426, 9049, 43080, 8190, 34989, 43801, 21489, 28248, 4443, 40623, 17199, 38281, 48064, 34264, 14409, 1526, 22277, 35475, 23397, 11034, 36137, 15652, 17539, 4553, 23658, 26542, 36801, 33310, 1161, 11593, 5238, 8239, 4486, 45764, 51033, 34596, 10156, 4700, 50839, 12600, 21661, 15161, 49405, 13500, 10512, 46519, 38103, 14602, 5687, 14487, 48583, 41043, 38268, 34864, 22001, 41353, 6741, 42826, 21501, 48621, 46162, 36492, 4917, 27555, 26969, 48384, 31345, 2657, 45792, 18982, 50105, 6114, 29928, 14811, 9213, 30256, 49984, 8675, 10820, 18947, 14058, 40491, 3783, 39735, 34693, 4337, 3142, 47063, 33774, 6594, 31740, 43761, 28414, 7658, 36834, 1621, 17739, 44825, 891, 15609, 11923, 19765, 32441, 1802, 35073, 7219, 30898, 27343, 1588, 16663, 4990, 20885, 27749, 10811, 47314, 14471, 47749, 4977, 36404, 38993, 49801, 35766, 7406, 6323, 39081, 45134, 627, 30296, 35444, 19255, 51017, 11538, 26196, 22398, 34460, 31072, 15760, 29476, 44522, 44715, 31579, 2498, 12186, 11302, 48497, 7614, 12524, 15430, 23249, 34549, 4975, 42984, 27116, 49909, 41200, 17326, 38346, 40736, 13469, 16350, 34585, 11590, 38101, 2932, 48743, 15784, 45427, 14713, 24666, 4303, 23972, 35882, 41638, 30752, 7762, 15350, 15984, 32819, 33532, 2608, 4862, 7436, 36284, 1238, 14131, 9401, 4525, 2139, 25942, 39114, 18, 35147, 50571, 35565, 4228, 18694, 15121, 29023, 42765, 25320, 40657, 28249, 7652, 22380, 8008, 170, 19889, 29882, 30656, 34868, 40852, 47792, 37811, 23337, 7736, 844, 11454, 4215, 10517, 2708, 38795, 33270, 29600, 43238, 35196, 2255, 13722, 6571, 34916, 30119, 16714, 16974, 42435, 1782, 5688, 5804, 41205, 43589, 10557, 5001, 13239, 5939, 28334, 21928, 3765, 4254, 8503, 42676, 29147, 8573, 9518, 43268, 30593, 49300, 114, 9343, 30565, 31453, 6065, 1020, 37028, 16374, 43018, 28837, 16368, 17979, 21345, 17976, 35399, 776, 40903, 5480, 27210, 20964, 45955, 31924, 20279, 18635, 28019, 16638, 20340, 19721, 21563, 38115, 32488, 14864, 45476, 38537, 41906, 50961, 13787, 26634, 21493, 28508, 26867, 46510, 22715, 47173, 3242, 8085, 46424, 47978, 46705, 25317, 19826, 49470, 43207, 10523, 29767, 25610, 16664, 44393, 3193, 10806, 36332, 48681, 11224, 14327, 41201, 16771, 12146, 4672, 15124, 806, 10501, 3217, 25860, 35862, 50653, 14269, 13490, 48884, 44874, 36921, 19157, 24087, 31440, 19987, 30903, 26699, 4716, 20622, 29259, 10452, 40744, 20779, 33813, 5623, 35887, 41042, 40198, 41528, 8983, 1412, 17974, 15001, 40233, 33049, 16917, 27056, 36671, 16751, 44123, 50409, 7311, 14687, 27490, 36959, 45684, 9449, 35551, 44118, 36156, 36031, 24900, 49129, 10034, 16943, 37299, 38478, 14910, 20460, 29765, 19411, 10297, 37540, 2377, 26761, 32169, 33739, 30238, 9997, 15543, 38721, 44672, 49038, 46216, 1097, 34901, 14747, 40177, 39087, 40337, 18582, 18014, 34237, 29715, 49774, 2318, 2308, 27451, 8162, 31155, 45576, 16457, 6747, 36883, 11733, 27993, 20263, 44242, 41833, 43805, 33645, 18369, 27774, 19279, 25761, 39435, 42398, 507, 34414, 19525, 3018, 27045, 6415, 38421, 12766, 50128, 50035, 21019, 21836, 8374, 6911, 39782, 4735, 14654, 41886, 38616, 17105, 50595, 5796, 50426, 4769, 48150, 42892, 42708, 36210, 24659, 9600, 39038, 15425, 38545, 49736, 46582, 10923, 1428, 27526, 45253, 19429, 42660, 12301, 19848, 19471, 32210, 3817, 40391, 39956, 23009, 32105, 23354, 11439, 29896, 46523, 5396, 17218, 22795, 25245, 38267, 11896, 42823, 47007, 12371, 37748, 25467, 45466, 3087, 10015, 7388, 32332, 42367, 10767, 25588, 3181, 49029, 14467, 47174, 35997, 28947, 9171, 10928, 23428, 45768, 11293, 8906, 1390, 38393, 30528, 45696, 43931, 16126, 48852, 14650, 42921, 32785, 43613, 22605, 47564, 2623, 30967, 27869, 17043, 44428, 38089, 49846, 36982, 43110, 18073, 702, 46997, 38794, 24219, 26322, 24700, 20626, 47583, 34839, 31829, 1470, 39599, 11582, 19451, 47690, 31286, 11895, 358, 9617, 28493, 5410, 31123, 10194, 37736, 11127, 43088, 27039, 29837, 5273, 21819, 44642, 31306, 23134, 35685, 18258, 50245, 11067, 39080, 38136, 12431, 39372, 32681, 23532, 6043, 3274, 15646, 45607, 39863, 15261, 11653, 13141, 24878, 33686, 3875, 35655, 4883, 36614, 28492, 17839, 29009, 46296, 48342, 14951, 19999, 13153, 49784, 19486, 33144, 46348, 42674, 13255, 3715, 18036, 29791, 12537, 50785, 15201, 40597, 14038, 50332, 16489, 31969, 26225, 41503, 17472, 21332, 32428, 12265, 46603, 1549, 28763, 47044, 27537, 33095, 38641, 28307, 5941, 22180, 13344, 67, 28045, 24190, 31046, 27703, 38914, 41011, 12857, 37533, 29502, 36494, 3495, 28778, 46200, 43449, 8734, 48790, 45382, 17336, 24288, 35161, 15653, 5621, 17030, 37180, 3135, 39178, 35351, 13455, 13491, 29016, 27236, 38030, 42102, 35334, 27545, 28550, 21732, 11996, 45634, 28162, 44360, 8274, 39249, 45013, 8603, 15255, 27402, 28808, 2562, 42217, 21611, 32970, 22550, 46458, 13884, 20963, 6778, 47011, 44317, 21201, 1496, 21460, 24918, 21888, 20510, 31174, 35033, 20945, 43379, 7138, 33245, 7055, 20213, 20572, 24451, 39369, 11648, 38579, 44792, 27907, 3843, 3428, 44762, 50284, 21539, 30694, 13155, 3632, 2465, 46968, 41250, 18072, 20889, 36102, 41688, 39815, 17805, 30385, 24019, 2747, 30139, 23935, 457, 46919, 50695, 30539, 13189, 19437, 17748, 48524, 17713, 43156, 29454, 17734, 1563, 32497, 44626, 27772, 49682, 47917, 8678, 23664, 6581, 26310, 41264, 36678, 38992, 25022, 2057, 415, 35045, 41883, 20905, 14125, 9932, 14079, 14147, 15012, 29085, 31739, 36592, 45377, 10119, 48822, 26379, 18312, 40129, 8626, 25036, 12979, 13281, 1333, 35000, 37708, 47687, 593, 45002, 46241, 35440, 17298, 3534, 49114, 9682, 45406, 6792, 31183, 15364, 13152, 7862, 3146, 11618, 26581, 23940, 19739, 5657, 31119, 23888, 39426, 23425, 12373, 12506, 16439, 37022, 35627, 17036, 49849, 25249, 13199, 6106, 42719, 10404, 48696, 13553, 40628, 40006, 16579, 31799, 30611, 30784, 34896, 19100, 45051, 265, 9701, 47415, 16045, 2424, 35395, 37516, 50132, 50612, 21496, 2577, 29604, 24935, 12850, 28582, 32979, 3189, 38739, 1464, 25300, 30044, 30265, 26019, 31750, 46976, 24148, 41700, 40434, 7250, 14335, 31104, 17916, 37709, 38220, 12660, 29843, 48855, 19372, 11230, 2341, 1987, 33292, 20043, 43781, 22499, 45786, 7112, 11430, 14476, 40824, 11696, 32643, 6814, 23413, 16226, 2428, 21378, 18505, 46926, 18075, 9684, 14052, 38728, 33884, 1298, 23986, 24800, 34285, 38147, 21718, 28531, 1879, 1847, 30906, 8995, 41627, 22607, 45693, 17154, 30168, 36510, 35826, 35373, 44514, 43840, 192, 40416, 3611, 21922, 9209, 18656, 44186, 4556, 49589, 16990, 40512, 41345, 35984, 5517, 17675, 24149, 10488, 11486, 12521, 12483, 48023, 31659, 27086, 38329, 15951, 45591, 34043, 36983, 1317, 26685, 41582, 7282, 31529, 46902, 35345, 29523, 36255, 9435, 4285, 39519, 46887, 29784, 14442, 11, 40025, 37756, 42050, 1404, 11528, 48998, 25009, 33964, 47287, 31379, 34490, 35656, 14969, 14242, 26354, 16153, 50983, 22622, 19802, 24476, 11017, 21063, 48009, 19263, 29122, 6040, 31696, 5974, 36442, 20396, 2008, 35736, 904, 35579, 28719, 32952, 10304, 23493, 8082, 26250, 39416, 33631, 32721, 44253, 46050, 18293, 44595, 32172, 35578, 50259, 3563, 34477, 21964, 37771, 25170, 17674, 11129, 46122, 48090, 26109, 34290, 5303, 39576, 38677, 18177, 26551, 2942, 38845, 44829, 30731, 32692, 25915, 49699, 14043, 48184, 42580, 13982, 31141, 22698, 28584, 50172, 45948, 18920, 34491, 34900, 20414, 33104, 11554, 33978, 19173, 25680, 29914, 43723, 23944, 8203, 26743, 10824, 39225, 36079, 37585, 28430, 9000, 15370, 8117, 6886, 37530, 15485, 3197, 32640, 43704, 4841, 19416, 48480, 10739, 33211, 39072, 19053, 37882, 1379, 34232, 36175, 30056, 15358, 4169, 28507, 8361, 17964, 10900, 50368, 27666, 47960, 47457, 37355, 49003, 37739, 1237, 41579, 986, 10487, 41315, 50836, 14196, 31455, 18335, 13540, 6908, 16891, 16222, 30220, 37868, 44666, 12282, 6205, 29734, 9266, 41623, 39595, 28285, 7526, 11721, 46369, 32089, 41161, 47708, 47022, 33947, 21307, 33169, 13485, 11362, 12833, 33563, 20890, 24391, 45868, 4756, 50692, 34504, 310, 5413, 33590, 367, 42192, 22319, 20302, 43601, 42264, 12895, 37014, 14319, 48757, 49708, 7070, 29305, 12543, 6798, 25884, 22647, 13680, 15767, 10396, 27005, 6765, 3874, 35925, 2721, 38815, 36501, 16061, 10890, 40755, 40873, 22062, 10823, 48882, 13815, 33832, 48707, 12950, 4742, 48224, 12083, 2510, 34436, 36941, 40720, 26531, 43738, 16215, 1918, 4759, 38142, 33668, 19018, 19550, 34754, 3137, 6864, 50727, 46030, 34343, 17033, 23879, 16713, 27813, 15324, 33278, 11046, 22531, 8890, 12816, 37175, 45339, 38637, 42945, 2651, 13003, 36300, 25970, 2037, 44050, 35046, 50216]\n"
          ],
          "name": "stdout"
        }
      ]
    },
    {
      "cell_type": "code",
      "metadata": {
        "id": "J3MuyGffrrf7"
      },
      "source": [
        "data_log_train = data_log_train.reindex(index = base_shuffle_train)\n",
        "data_log_validate = data_log_validate.reindex(index = base_shuffle_val)"
      ],
      "execution_count": null,
      "outputs": []
    },
    {
      "cell_type": "code",
      "metadata": {
        "id": "Sct8rMYBrxuP",
        "colab": {
          "base_uri": "https://localhost:8080/",
          "height": 402
        },
        "outputId": "8adeacf8-2924-472a-c6cf-d3202555012f"
      },
      "source": [
        "data_log_train"
      ],
      "execution_count": null,
      "outputs": [
        {
          "output_type": "execute_result",
          "data": {
            "text/html": [
              "<div>\n",
              "<style scoped>\n",
              "    .dataframe tbody tr th:only-of-type {\n",
              "        vertical-align: middle;\n",
              "    }\n",
              "\n",
              "    .dataframe tbody tr th {\n",
              "        vertical-align: top;\n",
              "    }\n",
              "\n",
              "    .dataframe thead th {\n",
              "        text-align: right;\n",
              "    }\n",
              "</style>\n",
              "<table border=\"1\" class=\"dataframe\">\n",
              "  <thead>\n",
              "    <tr style=\"text-align: right;\">\n",
              "      <th></th>\n",
              "      <th>Image_name</th>\n",
              "      <th>Angle_rad</th>\n",
              "    </tr>\n",
              "  </thead>\n",
              "  <tbody>\n",
              "    <tr>\n",
              "      <th>0</th>\n",
              "      <td>0.jpg</td>\n",
              "      <td>0.000000</td>\n",
              "    </tr>\n",
              "    <tr>\n",
              "      <th>1</th>\n",
              "      <td>1.jpg</td>\n",
              "      <td>0.000000</td>\n",
              "    </tr>\n",
              "    <tr>\n",
              "      <th>2</th>\n",
              "      <td>2.jpg</td>\n",
              "      <td>0.000000</td>\n",
              "    </tr>\n",
              "    <tr>\n",
              "      <th>3</th>\n",
              "      <td>3.jpg</td>\n",
              "      <td>0.000000</td>\n",
              "    </tr>\n",
              "    <tr>\n",
              "      <th>4</th>\n",
              "      <td>4.jpg</td>\n",
              "      <td>0.000000</td>\n",
              "    </tr>\n",
              "    <tr>\n",
              "      <th>...</th>\n",
              "      <td>...</td>\n",
              "      <td>...</td>\n",
              "    </tr>\n",
              "    <tr>\n",
              "      <th>51055</th>\n",
              "      <td>51055.jpg</td>\n",
              "      <td>-0.022864</td>\n",
              "    </tr>\n",
              "    <tr>\n",
              "      <th>51056</th>\n",
              "      <td>51056.jpg</td>\n",
              "      <td>-0.022864</td>\n",
              "    </tr>\n",
              "    <tr>\n",
              "      <th>51057</th>\n",
              "      <td>51057.jpg</td>\n",
              "      <td>-0.022864</td>\n",
              "    </tr>\n",
              "    <tr>\n",
              "      <th>51058</th>\n",
              "      <td>51058.jpg</td>\n",
              "      <td>-0.022864</td>\n",
              "    </tr>\n",
              "    <tr>\n",
              "      <th>51059</th>\n",
              "      <td>51059.jpg</td>\n",
              "      <td>-0.022864</td>\n",
              "    </tr>\n",
              "  </tbody>\n",
              "</table>\n",
              "<p>51060 rows × 2 columns</p>\n",
              "</div>"
            ],
            "text/plain": [
              "      Image_name  Angle_rad\n",
              "0          0.jpg   0.000000\n",
              "1          1.jpg   0.000000\n",
              "2          2.jpg   0.000000\n",
              "3          3.jpg   0.000000\n",
              "4          4.jpg   0.000000\n",
              "...          ...        ...\n",
              "51055  51055.jpg  -0.022864\n",
              "51056  51056.jpg  -0.022864\n",
              "51057  51057.jpg  -0.022864\n",
              "51058  51058.jpg  -0.022864\n",
              "51059  51059.jpg  -0.022864\n",
              "\n",
              "[51060 rows x 2 columns]"
            ]
          },
          "metadata": {
            "tags": []
          },
          "execution_count": 16
        }
      ]
    },
    {
      "cell_type": "code",
      "metadata": {
        "id": "a2dleNVMr0JZ",
        "colab": {
          "base_uri": "https://localhost:8080/",
          "height": 402
        },
        "outputId": "35936953-2cd5-4709-cb67-6d216b765184"
      },
      "source": [
        "data_log_validate\n"
      ],
      "execution_count": null,
      "outputs": [
        {
          "output_type": "execute_result",
          "data": {
            "text/html": [
              "<div>\n",
              "<style scoped>\n",
              "    .dataframe tbody tr th:only-of-type {\n",
              "        vertical-align: middle;\n",
              "    }\n",
              "\n",
              "    .dataframe tbody tr th {\n",
              "        vertical-align: top;\n",
              "    }\n",
              "\n",
              "    .dataframe thead th {\n",
              "        text-align: right;\n",
              "    }\n",
              "</style>\n",
              "<table border=\"1\" class=\"dataframe\">\n",
              "  <thead>\n",
              "    <tr style=\"text-align: right;\">\n",
              "      <th></th>\n",
              "      <th>Image_name</th>\n",
              "      <th>Angle_rad</th>\n",
              "    </tr>\n",
              "  </thead>\n",
              "  <tbody>\n",
              "    <tr>\n",
              "      <th>51060</th>\n",
              "      <td>51060.jpg</td>\n",
              "      <td>-0.022864</td>\n",
              "    </tr>\n",
              "    <tr>\n",
              "      <th>51061</th>\n",
              "      <td>51061.jpg</td>\n",
              "      <td>-0.022864</td>\n",
              "    </tr>\n",
              "    <tr>\n",
              "      <th>51062</th>\n",
              "      <td>51062.jpg</td>\n",
              "      <td>-0.022864</td>\n",
              "    </tr>\n",
              "    <tr>\n",
              "      <th>51063</th>\n",
              "      <td>51063.jpg</td>\n",
              "      <td>-0.022864</td>\n",
              "    </tr>\n",
              "    <tr>\n",
              "      <th>51064</th>\n",
              "      <td>51064.jpg</td>\n",
              "      <td>-0.022864</td>\n",
              "    </tr>\n",
              "    <tr>\n",
              "      <th>...</th>\n",
              "      <td>...</td>\n",
              "      <td>...</td>\n",
              "    </tr>\n",
              "    <tr>\n",
              "      <th>63820</th>\n",
              "      <td>63820.jpg</td>\n",
              "      <td>-0.200713</td>\n",
              "    </tr>\n",
              "    <tr>\n",
              "      <th>63821</th>\n",
              "      <td>63821.jpg</td>\n",
              "      <td>-0.197048</td>\n",
              "    </tr>\n",
              "    <tr>\n",
              "      <th>63822</th>\n",
              "      <td>63822.jpg</td>\n",
              "      <td>-0.197048</td>\n",
              "    </tr>\n",
              "    <tr>\n",
              "      <th>63823</th>\n",
              "      <td>63823.jpg</td>\n",
              "      <td>-0.197048</td>\n",
              "    </tr>\n",
              "    <tr>\n",
              "      <th>63824</th>\n",
              "      <td>63824.jpg</td>\n",
              "      <td>-0.197048</td>\n",
              "    </tr>\n",
              "  </tbody>\n",
              "</table>\n",
              "<p>12765 rows × 2 columns</p>\n",
              "</div>"
            ],
            "text/plain": [
              "      Image_name  Angle_rad\n",
              "51060  51060.jpg  -0.022864\n",
              "51061  51061.jpg  -0.022864\n",
              "51062  51062.jpg  -0.022864\n",
              "51063  51063.jpg  -0.022864\n",
              "51064  51064.jpg  -0.022864\n",
              "...          ...        ...\n",
              "63820  63820.jpg  -0.200713\n",
              "63821  63821.jpg  -0.197048\n",
              "63822  63822.jpg  -0.197048\n",
              "63823  63823.jpg  -0.197048\n",
              "63824  63824.jpg  -0.197048\n",
              "\n",
              "[12765 rows x 2 columns]"
            ]
          },
          "metadata": {
            "tags": []
          },
          "execution_count": 17
        }
      ]
    },
    {
      "cell_type": "code",
      "metadata": {
        "id": "HG7YPq93r2e7",
        "colab": {
          "base_uri": "https://localhost:8080/",
          "height": 50
        },
        "outputId": "b922e787-ecd8-4663-f3fb-7396ff1f17bd"
      },
      "source": [
        "## Using IMAGE DATA GENERATORS\n",
        "IMAGES_DIR = '/tmp/data/'\n",
        "\n",
        "training_datagen = ImageDataGenerator(\n",
        "        rescale = 1./255,)\n",
        "\n",
        "train_generator = training_datagen.flow_from_dataframe(\n",
        "        dataframe=data_log_train,\n",
        "        directory=IMAGES_DIR,\n",
        "        x_col=\"Image_name\",\n",
        "        y_col=\"Angle_rad\",\n",
        "        target_size=(224, 224),\n",
        "        batch_size=64,\n",
        "        color_mode = 'grayscale',\n",
        "        class_mode='other')\n",
        "\n",
        "validation_datagen = ImageDataGenerator(rescale = 1./255)\n",
        "\n",
        "val_generator = validation_datagen.flow_from_dataframe(\n",
        "        dataframe=data_log_validate,\n",
        "        directory=IMAGES_DIR,\n",
        "        x_col=\"Image_name\",\n",
        "        y_col=\"Angle_rad\",\n",
        "        target_size=(224, 224),\n",
        "        batch_size = 64,\n",
        "        color_mode = 'grayscale',\n",
        "        class_mode='other')"
      ],
      "execution_count": null,
      "outputs": [
        {
          "output_type": "stream",
          "text": [
            "Found 51060 validated image filenames.\n",
            "Found 12765 validated image filenames.\n"
          ],
          "name": "stdout"
        }
      ]
    },
    {
      "cell_type": "code",
      "metadata": {
        "id": "xWkP9l4Ns0I5",
        "colab": {
          "base_uri": "https://localhost:8080/",
          "height": 34
        },
        "outputId": "5fa9b16b-8541-4f01-ebce-07c130af9feb"
      },
      "source": [
        "##Call backs for early stopping and model checkpoint\n",
        "import keras\n",
        "import tensorflow as tf\n",
        "\n",
        "filepath = '/colab/My Drive/SelfDrivingCar/model-{epoch:02d}-{val_loss:.2f}.h5'\n",
        "model_callbacks =[\n",
        "  keras.callbacks.EarlyStopping(monitor='val_loss', patience=5),\n",
        "  keras.callbacks.ModelCheckpoint(filepath, monitor='val_loss', verbose=1, save_best_only=True, save_weights_only=True, mode='auto', period=1 ),\n",
        "  keras.callbacks.CSVLogger('model-logs.csv', separator=',', append=False )\n",
        "]"
      ],
      "execution_count": null,
      "outputs": [
        {
          "output_type": "stream",
          "text": [
            "WARNING:tensorflow:`period` argument is deprecated. Please use `save_freq` to specify the frequency in number of batches seen.\n"
          ],
          "name": "stdout"
        }
      ]
    },
    {
      "cell_type": "code",
      "metadata": {
        "id": "QVcY8ne6sMoQ"
      },
      "source": [
        "from keras.layers import Conv2D, MaxPool2D, Flatten, Dense, Dropout, BatchNormalization, Lambda\n",
        "from keras.models import Sequential\n",
        "from keras import regularizers\n",
        "from keras.optimizers import Adam"
      ],
      "execution_count": null,
      "outputs": []
    },
    {
      "cell_type": "code",
      "metadata": {
        "id": "aRJ9_e34sN3r",
        "colab": {
          "base_uri": "https://localhost:8080/",
          "height": 154
        },
        "outputId": "db47ef71-7180-4521-cd09-0aab1be175c7"
      },
      "source": [
        "'''\n",
        "model = tf.keras.models.Sequential([\n",
        "    # This is the first convolution\n",
        "    tf.keras.layers.Conv2D(16, (3,3), activation='relu', input_shape=(224, 224, 3), kernel_regularizer=regularizers.l2(0.001)),\n",
        "    tf.keras.layers.MaxPooling2D(2, 2),\n",
        "    # The second convolution\n",
        "    tf.keras.layers.Conv2D(32, (3,3), activation='relu', kernel_regularizer=regularizers.l2(0.001)),\n",
        "    tf.keras.layers.MaxPooling2D(2,2),\n",
        "    # The third convolution\n",
        "    tf.keras.layers.Conv2D(64, (3,3), activation='relu', kernel_regularizer=regularizers.l2(0.001)),\n",
        "    tf.keras.layers.MaxPooling2D(2,2),\n",
        "    # The fourth convolution\n",
        "    tf.keras.layers.Conv2D(64, (3,3), activation='relu', kernel_regularizer=regularizers.l2(0.001)),\n",
        "    tf.keras.layers.MaxPooling2D(2,2),\n",
        "    # The fifth convolution\n",
        "    tf.keras.layers.Conv2D(64, (3,3), activation='relu', kernel_regularizer=regularizers.l2(0.001)),\n",
        "    tf.keras.layers.MaxPooling2D(2,2),\n",
        "    # Flatten the results to feed into a DNN\n",
        "    tf.keras.layers.Flatten(),\n",
        "    # 512 neuron hidden layer\n",
        "    tf.keras.layers.Dense(512, activation='relu', kernel_regularizer=regularizers.l2(0.001)),\n",
        "    tf.keras.layers.Dropout(0.2),\n",
        "    tf.keras.layers.Dense(256, activation='relu', kernel_regularizer=regularizers.l2(0.001)),\n",
        "    tf.keras.layers.Dropout(0.2),\n",
        "    tf.keras.layers.Dense(128, activation='relu', kernel_regularizer=regularizers.l2(0.001)),\n",
        "    tf.keras.layers.Dropout(0.2),\n",
        "    # Only 1 output neuron.\n",
        "    tf.keras.layers.Dense(1, activation='tanh', kernel_regularizer=regularizers.l2(0.001))\n",
        "])\n",
        "'''\n",
        "\n",
        "model = tf.keras.models.Sequential([\n",
        "tf.keras.layers.Lambda(lambda x: x/127.5-1.0, input_shape = (224,224,3) ),\n",
        "tf.keras.layers.Conv2D(24, (5, 5), activation = 'elu', strides = (2, 2) ),\n",
        "tf.keras.layers.Conv2D(36, (5, 5), activation = 'elu', strides = (2, 2) ),\n",
        "tf.keras.layers.Conv2D(48, (5, 5), activation = 'elu', strides = (2, 2) ),\n",
        "tf.keras.layers.Conv2D(64, (3, 3), activation = 'elu' ),\n",
        "tf.keras.layers.Conv2D(64, (3, 3), activation = 'elu' ),\n",
        "tf.keras.layers.Dropout(0.5),\n",
        "tf.keras.layers.Flatten(),\n",
        "tf.keras.layers.Dense(100, activation='elu'),\n",
        "tf.keras.layers.Dense(50, activation='elu'),\n",
        "tf.keras.layers.Dense(10, activation='elu'),\n",
        "tf.keras.layers.Dense(1, activation = 'linear')\n",
        "])\n",
        "'''\n",
        "model = tf.keras.models.Sequential([\n",
        "tf.keras.layers.Lambda(lambda x: x/127.5-1.0, input_shape = (224,224,3) ),\n",
        "tf.keras.layers.Conv2D(24, (5, 5), activation = 'elu', strides = (2, 2), kernel_regularizer=regularizers.l2(0.001) ),\n",
        "tf.keras.layers.Conv2D(36, (5, 5), activation = 'elu', strides = (1, 1), kernel_regularizer=regularizers.l2(0.001) ),\n",
        "tf.keras.layers.MaxPooling2D(2,2),\n",
        "tf.keras.layers.Conv2D(48, (5, 5), activation = 'elu', strides = (2, 2), kernel_regularizer=regularizers.l2(0.001) ),\n",
        "\n",
        "tf.keras.layers.Conv2D(64, (3, 3), activation = 'elu',  kernel_regularizer=regularizers.l2(0.001)),\n",
        "tf.keras.layers.Conv2D(64, (3, 3), activation = 'elu', kernel_regularizer=regularizers.l2(0.001)),\n",
        "tf.keras.layers.Dropout(0.4),\n",
        "tf.keras.layers.Flatten(),\n",
        "tf.keras.layers.Dense(100, activation='elu', kernel_regularizer=regularizers.l2(0.001)),\n",
        "tf.keras.layers.Dense(50, activation='elu', kernel_regularizer=regularizers.l2(0.001)),\n",
        "tf.keras.layers.Dense(10, activation='elu', kernel_regularizer=regularizers.l2(0.001)),\n",
        "tf.keras.layers.Dense(1, activation = 'linear', kernel_regularizer=regularizers.l2(0.001))\n",
        "])\n",
        "'''\n",
        "'''\n",
        "model = tf.keras.models.Sequential([\n",
        "tf.keras.layers.Lambda(lambda x: x/127.5-1.0, input_shape = (224,224,3) ),\n",
        "tf.keras.layers.Conv2D(24, (5, 5), activation = 'elu', strides = (2, 2), kernel_regularizer=regularizers.l2(0.001) ),\n",
        "tf.keras.layers.Conv2D(36, (5, 5), activation = 'elu', strides = (1, 1), kernel_regularizer=regularizers.l2(0.001) ),\n",
        "tf.keras.layers.MaxPooling2D(2,2),\n",
        "tf.keras.layers.Conv2D(48, (5, 5), activation = 'elu', strides = (2, 2), kernel_regularizer=regularizers.l2(0.001) ),\n",
        "tf.keras.layers.Conv2D(64, (3, 3), activation = 'elu',  kernel_regularizer=regularizers.l2(0.001)),\n",
        "tf.keras.layers.Conv2D(64, (3, 3), activation = 'elu', kernel_regularizer=regularizers.l2(0.001)),\n",
        "tf.keras.layers.Dropout(0.5),\n",
        "tf.keras.layers.Flatten(),\n",
        "tf.keras.layers.Dense(100, activation='elu', kernel_regularizer=regularizers.l2(0.001)),\n",
        "tf.keras.layers.Dropout(0.2),\n",
        "tf.keras.layers.Dense(50, activation='elu', kernel_regularizer=regularizers.l2(0.001)),\n",
        "tf.keras.layers.Dropout(0.2),\n",
        "tf.keras.layers.Dense(10, activation='elu', kernel_regularizer=regularizers.l2(0.001)),\n",
        "tf.keras.layers.Dense(1, activation = 'linear', kernel_regularizer=regularizers.l2(0.001))\n",
        "])\n",
        "'''"
      ],
      "execution_count": null,
      "outputs": [
        {
          "output_type": "execute_result",
          "data": {
            "application/vnd.google.colaboratory.intrinsic+json": {
              "type": "string"
            },
            "text/plain": [
              "\"\\nmodel = tf.keras.models.Sequential([\\ntf.keras.layers.Lambda(lambda x: x/127.5-1.0, input_shape = (224,224,3) ),\\ntf.keras.layers.Conv2D(24, (5, 5), activation = 'elu', strides = (2, 2), kernel_regularizer=regularizers.l2(0.001) ),\\ntf.keras.layers.Conv2D(36, (5, 5), activation = 'elu', strides = (1, 1), kernel_regularizer=regularizers.l2(0.001) ),\\ntf.keras.layers.MaxPooling2D(2,2),\\ntf.keras.layers.Conv2D(48, (5, 5), activation = 'elu', strides = (2, 2), kernel_regularizer=regularizers.l2(0.001) ),\\ntf.keras.layers.Conv2D(64, (3, 3), activation = 'elu',  kernel_regularizer=regularizers.l2(0.001)),\\ntf.keras.layers.Conv2D(64, (3, 3), activation = 'elu', kernel_regularizer=regularizers.l2(0.001)),\\ntf.keras.layers.Dropout(0.5),\\ntf.keras.layers.Flatten(),\\ntf.keras.layers.Dense(100, activation='elu', kernel_regularizer=regularizers.l2(0.001)),\\ntf.keras.layers.Dropout(0.2),\\ntf.keras.layers.Dense(50, activation='elu', kernel_regularizer=regularizers.l2(0.001)),\\ntf.keras.layers.Dropout(0.2),\\ntf.keras.layers.Dense(10, activation='elu', kernel_regularizer=regularizers.l2(0.001)),\\ntf.keras.layers.Dense(1, activation = 'linear', kernel_regularizer=regularizers.l2(0.001))\\n])\\n\""
            ]
          },
          "metadata": {
            "tags": []
          },
          "execution_count": 70
        }
      ]
    },
    {
      "cell_type": "code",
      "metadata": {
        "id": "aAfmdZLasN-u",
        "colab": {
          "base_uri": "https://localhost:8080/",
          "height": 554
        },
        "outputId": "c6f5f3f7-1261-49df-9302-40d6c09ec68d"
      },
      "source": [
        "model.summary()"
      ],
      "execution_count": null,
      "outputs": [
        {
          "output_type": "stream",
          "text": [
            "Model: \"sequential_9\"\n",
            "_________________________________________________________________\n",
            "Layer (type)                 Output Shape              Param #   \n",
            "=================================================================\n",
            "lambda_9 (Lambda)            (None, 224, 224, 3)       0         \n",
            "_________________________________________________________________\n",
            "conv2d_45 (Conv2D)           (None, 110, 110, 24)      1824      \n",
            "_________________________________________________________________\n",
            "conv2d_46 (Conv2D)           (None, 53, 53, 36)        21636     \n",
            "_________________________________________________________________\n",
            "conv2d_47 (Conv2D)           (None, 25, 25, 48)        43248     \n",
            "_________________________________________________________________\n",
            "conv2d_48 (Conv2D)           (None, 23, 23, 64)        27712     \n",
            "_________________________________________________________________\n",
            "conv2d_49 (Conv2D)           (None, 21, 21, 64)        36928     \n",
            "_________________________________________________________________\n",
            "dropout_19 (Dropout)         (None, 21, 21, 64)        0         \n",
            "_________________________________________________________________\n",
            "flatten_9 (Flatten)          (None, 28224)             0         \n",
            "_________________________________________________________________\n",
            "dense_36 (Dense)             (None, 100)               2822500   \n",
            "_________________________________________________________________\n",
            "dense_37 (Dense)             (None, 50)                5050      \n",
            "_________________________________________________________________\n",
            "dense_38 (Dense)             (None, 10)                510       \n",
            "_________________________________________________________________\n",
            "dense_39 (Dense)             (None, 1)                 11        \n",
            "=================================================================\n",
            "Total params: 2,959,419\n",
            "Trainable params: 2,959,419\n",
            "Non-trainable params: 0\n",
            "_________________________________________________________________\n"
          ],
          "name": "stdout"
        }
      ]
    },
    {
      "cell_type": "code",
      "metadata": {
        "id": "Vtebiuu5sOCl"
      },
      "source": [
        "model.compile(loss='mse',\n",
        "              optimizer='adam',\n",
        "              metrics=['mae'])"
      ],
      "execution_count": null,
      "outputs": []
    },
    {
      "cell_type": "code",
      "metadata": {
        "id": "LbfvNnXOtjMl",
        "colab": {
          "base_uri": "https://localhost:8080/",
          "height": 35
        },
        "outputId": "f1c07919-fff4-4f75-c87a-dadc71856659"
      },
      "source": [
        "keras.__version__"
      ],
      "execution_count": null,
      "outputs": [
        {
          "output_type": "execute_result",
          "data": {
            "application/vnd.google.colaboratory.intrinsic+json": {
              "type": "string"
            },
            "text/plain": [
              "'2.4.3'"
            ]
          },
          "metadata": {
            "tags": []
          },
          "execution_count": 73
        }
      ]
    },
    {
      "cell_type": "code",
      "metadata": {
        "id": "PhbVzbVnsN8x",
        "colab": {
          "base_uri": "https://localhost:8080/",
          "height": 420
        },
        "outputId": "3ddb488e-0785-45c1-a721-b21cddd55b6e"
      },
      "source": [
        "history = model.fit(\n",
        "      train_generator,\n",
        "        \n",
        "      epochs=30,\n",
        "      verbose=1,\n",
        "      validation_data = val_generator,\n",
        "      \n",
        "      callbacks=model_callbacks)"
      ],
      "execution_count": null,
      "outputs": [
        {
          "output_type": "stream",
          "text": [
            "Epoch 1/30\n",
            "798/798 [==============================] - ETA: 0s - loss: 3.6867 - mae: 0.4570\n",
            "Epoch 00001: val_loss improved from 0.44788 to 0.09283, saving model to /colab/My Drive/SelfDrivingCar/model-01-0.09.h5\n",
            "798/798 [==============================] - 201s 252ms/step - loss: 3.6867 - mae: 0.4570 - val_loss: 0.0928 - val_mae: 0.1428\n",
            "Epoch 2/30\n",
            "798/798 [==============================] - ETA: 0s - loss: 0.2604 - mae: 0.2778\n",
            "Epoch 00002: val_loss did not improve from 0.09283\n",
            "798/798 [==============================] - 200s 251ms/step - loss: 0.2604 - mae: 0.2778 - val_loss: 0.0991 - val_mae: 0.1753\n",
            "Epoch 3/30\n",
            "798/798 [==============================] - ETA: 0s - loss: 12957.3643 - mae: 10.8755\n",
            "Epoch 00003: val_loss did not improve from 0.09283\n",
            "798/798 [==============================] - 199s 250ms/step - loss: 12957.3643 - mae: 10.8755 - val_loss: 103.3783 - val_mae: 10.1627\n",
            "Epoch 4/30\n",
            "798/798 [==============================] - ETA: 0s - loss: 4.5591 - mae: 1.5877\n",
            "Epoch 00004: val_loss did not improve from 0.09283\n",
            "798/798 [==============================] - 198s 248ms/step - loss: 4.5591 - mae: 1.5877 - val_loss: 0.2798 - val_mae: 0.4562\n",
            "Epoch 5/30\n",
            "798/798 [==============================] - ETA: 0s - loss: 1.5156 - mae: 0.9631\n",
            "Epoch 00005: val_loss did not improve from 0.09283\n",
            "798/798 [==============================] - 198s 248ms/step - loss: 1.5156 - mae: 0.9631 - val_loss: 0.0944 - val_mae: 0.1533\n",
            "Epoch 6/30\n",
            "798/798 [==============================] - ETA: 0s - loss: 0.8844 - mae: 0.7235\n",
            "Epoch 00006: val_loss did not improve from 0.09283\n",
            "798/798 [==============================] - 199s 249ms/step - loss: 0.8844 - mae: 0.7235 - val_loss: 0.1002 - val_mae: 0.1712\n"
          ],
          "name": "stdout"
        }
      ]
    },
    {
      "cell_type": "code",
      "metadata": {
        "id": "PZ6srok-sN7O"
      },
      "source": [
        "model.save('/colab/My Drive/SelfDrivingCar/Dataset/model-final-save.h5')"
      ],
      "execution_count": null,
      "outputs": []
    },
    {
      "cell_type": "code",
      "metadata": {
        "id": "5AleHc9p5V9-"
      },
      "source": [
        ""
      ],
      "execution_count": null,
      "outputs": []
    },
    {
      "cell_type": "markdown",
      "metadata": {
        "id": "zLmeesUZQNR5"
      },
      "source": [
        "MODEL 2"
      ]
    },
    {
      "cell_type": "code",
      "metadata": {
        "id": "ETDDWxCdQOiq",
        "colab": {
          "base_uri": "https://localhost:8080/",
          "height": 230
        },
        "outputId": "7903b134-0c21-4304-a5cb-3e44971fbf1e"
      },
      "source": [
        "model2 = tf.keras.models.Sequential([\n",
        "tf.keras.layers.Conv2D(24, (5, 5), activation = 'elu', strides = (2, 2), kernel_regularizer=regularizers.l2(0.001), input_shape = (224, 224,3) ),\n",
        "tf.keras.layers.Conv2D(36, (5, 5), activation = 'elu', strides = (1, 1), kernel_regularizer=regularizers.l2(0.001) ),\n",
        "tf.keras.layers.MaxPooling2D(2,2),\n",
        "tf.keras.layers.Conv2D(48, (5, 5), activation = 'elu', strides = (2, 2), kernel_regularizer=regularizers.l2(0.001) ),\n",
        "\n",
        "tf.keras.layers.Conv2D(64, (3, 3), activation = 'elu',  kernel_regularizer=regularizers.l2(0.001)),\n",
        "tf.keras.layers.Conv2D(64, (3, 3), activation = 'elu', kernel_regularizer=regularizers.l2(0.001)),\n",
        "tf.keras.layers.Dropout(0.3),\n",
        "tf.keras.layers.Flatten(),\n",
        "tf.keras.layers.Dense(256, activation='elu', kernel_regularizer=regularizers.l2(0.001)),\n",
        "tf.keras.layers.Dropout(0.2),\n",
        "tf.keras.layers.Dense(128, activation='elu', kernel_regularizer=regularizers.l2(0.001)),\n",
        "tf.keras.layers.Dropout(0.2),\n",
        "tf.keras.layers.Dense(64, activation='elu', kernel_regularizer=regularizers.l2(0.001)),\n",
        "tf.keras.layers.Dropout(0.2),\n",
        "tf.keras.layers.Dense(1, activation = 'linear', kernel_regularizer=regularizers.l2(0.001))\n",
        "])\n"
      ],
      "execution_count": null,
      "outputs": [
        {
          "output_type": "error",
          "ename": "NameError",
          "evalue": "ignored",
          "traceback": [
            "\u001b[0;31m---------------------------------------------------------------------------\u001b[0m",
            "\u001b[0;31mNameError\u001b[0m                                 Traceback (most recent call last)",
            "\u001b[0;32m<ipython-input-1-a5243d4fc2d0>\u001b[0m in \u001b[0;36m<module>\u001b[0;34m()\u001b[0m\n\u001b[0;32m----> 1\u001b[0;31m model2 = tf.keras.models.Sequential([\n\u001b[0m\u001b[1;32m      2\u001b[0m \u001b[0mtf\u001b[0m\u001b[0;34m.\u001b[0m\u001b[0mkeras\u001b[0m\u001b[0;34m.\u001b[0m\u001b[0mlayers\u001b[0m\u001b[0;34m.\u001b[0m\u001b[0mConv2D\u001b[0m\u001b[0;34m(\u001b[0m\u001b[0;36m24\u001b[0m\u001b[0;34m,\u001b[0m \u001b[0;34m(\u001b[0m\u001b[0;36m5\u001b[0m\u001b[0;34m,\u001b[0m \u001b[0;36m5\u001b[0m\u001b[0;34m)\u001b[0m\u001b[0;34m,\u001b[0m \u001b[0mactivation\u001b[0m \u001b[0;34m=\u001b[0m \u001b[0;34m'elu'\u001b[0m\u001b[0;34m,\u001b[0m \u001b[0mstrides\u001b[0m \u001b[0;34m=\u001b[0m \u001b[0;34m(\u001b[0m\u001b[0;36m2\u001b[0m\u001b[0;34m,\u001b[0m \u001b[0;36m2\u001b[0m\u001b[0;34m)\u001b[0m\u001b[0;34m,\u001b[0m \u001b[0mkernel_regularizer\u001b[0m\u001b[0;34m=\u001b[0m\u001b[0mregularizers\u001b[0m\u001b[0;34m.\u001b[0m\u001b[0ml2\u001b[0m\u001b[0;34m(\u001b[0m\u001b[0;36m0.001\u001b[0m\u001b[0;34m)\u001b[0m\u001b[0;34m,\u001b[0m \u001b[0minput_shape\u001b[0m \u001b[0;34m=\u001b[0m \u001b[0;34m(\u001b[0m\u001b[0;36m224\u001b[0m\u001b[0;34m,\u001b[0m \u001b[0;36m224\u001b[0m\u001b[0;34m,\u001b[0m\u001b[0;36m3\u001b[0m\u001b[0;34m)\u001b[0m \u001b[0;34m)\u001b[0m\u001b[0;34m,\u001b[0m\u001b[0;34m\u001b[0m\u001b[0;34m\u001b[0m\u001b[0m\n\u001b[1;32m      3\u001b[0m \u001b[0mtf\u001b[0m\u001b[0;34m.\u001b[0m\u001b[0mkeras\u001b[0m\u001b[0;34m.\u001b[0m\u001b[0mlayers\u001b[0m\u001b[0;34m.\u001b[0m\u001b[0mConv2D\u001b[0m\u001b[0;34m(\u001b[0m\u001b[0;36m36\u001b[0m\u001b[0;34m,\u001b[0m \u001b[0;34m(\u001b[0m\u001b[0;36m5\u001b[0m\u001b[0;34m,\u001b[0m \u001b[0;36m5\u001b[0m\u001b[0;34m)\u001b[0m\u001b[0;34m,\u001b[0m \u001b[0mactivation\u001b[0m \u001b[0;34m=\u001b[0m \u001b[0;34m'elu'\u001b[0m\u001b[0;34m,\u001b[0m \u001b[0mstrides\u001b[0m \u001b[0;34m=\u001b[0m \u001b[0;34m(\u001b[0m\u001b[0;36m2\u001b[0m\u001b[0;34m,\u001b[0m \u001b[0;36m2\u001b[0m\u001b[0;34m)\u001b[0m\u001b[0;34m,\u001b[0m \u001b[0mkernel_regularizer\u001b[0m\u001b[0;34m=\u001b[0m\u001b[0mregularizers\u001b[0m\u001b[0;34m.\u001b[0m\u001b[0ml2\u001b[0m\u001b[0;34m(\u001b[0m\u001b[0;36m0.001\u001b[0m\u001b[0;34m)\u001b[0m \u001b[0;34m)\u001b[0m\u001b[0;34m,\u001b[0m\u001b[0;34m\u001b[0m\u001b[0;34m\u001b[0m\u001b[0m\n\u001b[1;32m      4\u001b[0m \u001b[0mtf\u001b[0m\u001b[0;34m.\u001b[0m\u001b[0mkeras\u001b[0m\u001b[0;34m.\u001b[0m\u001b[0mlayers\u001b[0m\u001b[0;34m.\u001b[0m\u001b[0mConv2D\u001b[0m\u001b[0;34m(\u001b[0m\u001b[0;36m48\u001b[0m\u001b[0;34m,\u001b[0m \u001b[0;34m(\u001b[0m\u001b[0;36m5\u001b[0m\u001b[0;34m,\u001b[0m \u001b[0;36m5\u001b[0m\u001b[0;34m)\u001b[0m\u001b[0;34m,\u001b[0m \u001b[0mactivation\u001b[0m \u001b[0;34m=\u001b[0m \u001b[0;34m'elu'\u001b[0m\u001b[0;34m,\u001b[0m \u001b[0mstrides\u001b[0m \u001b[0;34m=\u001b[0m \u001b[0;34m(\u001b[0m\u001b[0;36m2\u001b[0m\u001b[0;34m,\u001b[0m \u001b[0;36m2\u001b[0m\u001b[0;34m)\u001b[0m\u001b[0;34m,\u001b[0m \u001b[0mkernel_regularizer\u001b[0m\u001b[0;34m=\u001b[0m\u001b[0mregularizers\u001b[0m\u001b[0;34m.\u001b[0m\u001b[0ml2\u001b[0m\u001b[0;34m(\u001b[0m\u001b[0;36m0.001\u001b[0m\u001b[0;34m)\u001b[0m \u001b[0;34m)\u001b[0m\u001b[0;34m,\u001b[0m\u001b[0;34m\u001b[0m\u001b[0;34m\u001b[0m\u001b[0m\n\u001b[1;32m      5\u001b[0m \u001b[0mtf\u001b[0m\u001b[0;34m.\u001b[0m\u001b[0mkeras\u001b[0m\u001b[0;34m.\u001b[0m\u001b[0mlayers\u001b[0m\u001b[0;34m.\u001b[0m\u001b[0mConv2D\u001b[0m\u001b[0;34m(\u001b[0m\u001b[0;36m64\u001b[0m\u001b[0;34m,\u001b[0m \u001b[0;34m(\u001b[0m\u001b[0;36m3\u001b[0m\u001b[0;34m,\u001b[0m \u001b[0;36m3\u001b[0m\u001b[0;34m)\u001b[0m\u001b[0;34m,\u001b[0m \u001b[0mactivation\u001b[0m \u001b[0;34m=\u001b[0m \u001b[0;34m'elu'\u001b[0m\u001b[0;34m,\u001b[0m  \u001b[0mkernel_regularizer\u001b[0m\u001b[0;34m=\u001b[0m\u001b[0mregularizers\u001b[0m\u001b[0;34m.\u001b[0m\u001b[0ml2\u001b[0m\u001b[0;34m(\u001b[0m\u001b[0;36m0.001\u001b[0m\u001b[0;34m)\u001b[0m\u001b[0;34m)\u001b[0m\u001b[0;34m,\u001b[0m\u001b[0;34m\u001b[0m\u001b[0;34m\u001b[0m\u001b[0m\n",
            "\u001b[0;31mNameError\u001b[0m: name 'tf' is not defined"
          ]
        }
      ]
    },
    {
      "cell_type": "code",
      "metadata": {
        "id": "hwTZT1dzRJ_L",
        "colab": {
          "base_uri": "https://localhost:8080/",
          "height": 655
        },
        "outputId": "55850253-3008-42ca-dbce-e30ba74a87a9"
      },
      "source": [
        "model2.summary()"
      ],
      "execution_count": null,
      "outputs": [
        {
          "output_type": "stream",
          "text": [
            "Model: \"sequential_3\"\n",
            "_________________________________________________________________\n",
            "Layer (type)                 Output Shape              Param #   \n",
            "=================================================================\n",
            "conv2d_15 (Conv2D)           (None, 110, 110, 24)      1824      \n",
            "_________________________________________________________________\n",
            "conv2d_16 (Conv2D)           (None, 106, 106, 36)      21636     \n",
            "_________________________________________________________________\n",
            "max_pooling2d_7 (MaxPooling2 (None, 53, 53, 36)        0         \n",
            "_________________________________________________________________\n",
            "conv2d_17 (Conv2D)           (None, 25, 25, 48)        43248     \n",
            "_________________________________________________________________\n",
            "conv2d_18 (Conv2D)           (None, 23, 23, 64)        27712     \n",
            "_________________________________________________________________\n",
            "conv2d_19 (Conv2D)           (None, 21, 21, 64)        36928     \n",
            "_________________________________________________________________\n",
            "dropout_8 (Dropout)          (None, 21, 21, 64)        0         \n",
            "_________________________________________________________________\n",
            "flatten_3 (Flatten)          (None, 28224)             0         \n",
            "_________________________________________________________________\n",
            "dense_12 (Dense)             (None, 256)               7225600   \n",
            "_________________________________________________________________\n",
            "dropout_9 (Dropout)          (None, 256)               0         \n",
            "_________________________________________________________________\n",
            "dense_13 (Dense)             (None, 128)               32896     \n",
            "_________________________________________________________________\n",
            "dropout_10 (Dropout)         (None, 128)               0         \n",
            "_________________________________________________________________\n",
            "dense_14 (Dense)             (None, 64)                8256      \n",
            "_________________________________________________________________\n",
            "dropout_11 (Dropout)         (None, 64)                0         \n",
            "_________________________________________________________________\n",
            "dense_15 (Dense)             (None, 1)                 65        \n",
            "=================================================================\n",
            "Total params: 7,398,165\n",
            "Trainable params: 7,398,165\n",
            "Non-trainable params: 0\n",
            "_________________________________________________________________\n"
          ],
          "name": "stdout"
        }
      ]
    },
    {
      "cell_type": "code",
      "metadata": {
        "id": "V6DCfX3RU0Zy",
        "colab": {
          "base_uri": "https://localhost:8080/",
          "height": 50
        },
        "outputId": "f9e3c636-7da8-408c-cb90-64c74d49d2e9"
      },
      "source": [
        "import keras\n",
        "import tensorflow as tf\n",
        "\n",
        "filepath = '/colab/My Drive/SelfDrivingCar/model-{epoch:02d}-{val_loss:.2f}.h5'\n",
        "model2_callbacks =[\n",
        "  keras.callbacks.EarlyStopping(monitor='val_loss', patience=5),\n",
        "  keras.callbacks.ModelCheckpoint(filepath, monitor='val_loss', verbose=1, save_best_only=True, save_weights_only=True, mode='auto', period=1 ),\n",
        "  keras.callbacks.CSVLogger('model-logs.csv', separator=',', append=False )\n",
        "]"
      ],
      "execution_count": null,
      "outputs": [
        {
          "output_type": "stream",
          "text": [
            "WARNING:tensorflow:`period` argument is deprecated. Please use `save_freq` to specify the frequency in number of batches seen.\n"
          ],
          "name": "stdout"
        },
        {
          "output_type": "stream",
          "text": [
            "WARNING:tensorflow:`period` argument is deprecated. Please use `save_freq` to specify the frequency in number of batches seen.\n"
          ],
          "name": "stderr"
        }
      ]
    },
    {
      "cell_type": "code",
      "metadata": {
        "id": "BMV1QX8JRQjw"
      },
      "source": [
        "model2.compile(loss='mse',\n",
        "              optimizer='adam',\n",
        "              metrics=['mae'])"
      ],
      "execution_count": null,
      "outputs": []
    },
    {
      "cell_type": "code",
      "metadata": {
        "id": "ViB_1Bh3RYdp",
        "colab": {
          "base_uri": "https://localhost:8080/",
          "height": 1000
        },
        "outputId": "ac6c824a-3c0b-496c-9780-402dcbaa6067"
      },
      "source": [
        "history = model2.fit(\n",
        "      train_generator,\n",
        "        \n",
        "      epochs=30,\n",
        "      verbose=1,\n",
        "      validation_data = val_generator,\n",
        "      \n",
        "      callbacks=model2_callbacks)"
      ],
      "execution_count": null,
      "outputs": [
        {
          "output_type": "stream",
          "text": [
            "Epoch 1/30\n",
            "798/798 [==============================] - ETA: 0s - loss: 3.0531 - mae: 0.6810\n",
            "Epoch 00001: val_loss improved from inf to 1.04045, saving model to /colab/My Drive/SelfDrivingCar/model-01-1.04.h5\n",
            "798/798 [==============================] - 230s 288ms/step - loss: 3.0531 - mae: 0.6810 - val_loss: 1.0405 - val_mae: 0.1409\n",
            "Epoch 2/30\n",
            "798/798 [==============================] - ETA: 0s - loss: 1.2014 - mae: 0.4072\n",
            "Epoch 00002: val_loss improved from 1.04045 to 0.82077, saving model to /colab/My Drive/SelfDrivingCar/model-02-0.82.h5\n",
            "798/798 [==============================] - 231s 289ms/step - loss: 1.2014 - mae: 0.4072 - val_loss: 0.8208 - val_mae: 0.1344\n",
            "Epoch 3/30\n",
            "798/798 [==============================] - ETA: 0s - loss: 0.9850 - mae: 0.3724\n",
            "Epoch 00003: val_loss improved from 0.82077 to 0.68534, saving model to /colab/My Drive/SelfDrivingCar/model-03-0.69.h5\n",
            "798/798 [==============================] - 231s 289ms/step - loss: 0.9850 - mae: 0.3724 - val_loss: 0.6853 - val_mae: 0.1616\n",
            "Epoch 4/30\n",
            "798/798 [==============================] - ETA: 0s - loss: 0.8438 - mae: 0.3503\n",
            "Epoch 00004: val_loss improved from 0.68534 to 0.59203, saving model to /colab/My Drive/SelfDrivingCar/model-04-0.59.h5\n",
            "798/798 [==============================] - 231s 290ms/step - loss: 0.8438 - mae: 0.3503 - val_loss: 0.5920 - val_mae: 0.1701\n",
            "Epoch 5/30\n",
            "798/798 [==============================] - ETA: 0s - loss: 0.7504 - mae: 0.3355\n",
            "Epoch 00005: val_loss improved from 0.59203 to 0.50980, saving model to /colab/My Drive/SelfDrivingCar/model-05-0.51.h5\n",
            "798/798 [==============================] - 232s 290ms/step - loss: 0.7504 - mae: 0.3355 - val_loss: 0.5098 - val_mae: 0.1347\n",
            "Epoch 6/30\n",
            "798/798 [==============================] - ETA: 0s - loss: 0.6586 - mae: 0.2847\n",
            "Epoch 00006: val_loss did not improve from 0.50980\n",
            "798/798 [==============================] - 233s 291ms/step - loss: 0.6586 - mae: 0.2847 - val_loss: 0.5129 - val_mae: 0.1698\n",
            "Epoch 7/30\n",
            "798/798 [==============================] - ETA: 0s - loss: 0.5601 - mae: 0.2385\n",
            "Epoch 00007: val_loss improved from 0.50980 to 0.50198, saving model to /colab/My Drive/SelfDrivingCar/model-07-0.50.h5\n",
            "798/798 [==============================] - 234s 293ms/step - loss: 0.5601 - mae: 0.2385 - val_loss: 0.5020 - val_mae: 0.1873\n",
            "Epoch 8/30\n",
            "798/798 [==============================] - ETA: 0s - loss: 0.4970 - mae: 0.2208\n",
            "Epoch 00008: val_loss improved from 0.50198 to 0.44197, saving model to /colab/My Drive/SelfDrivingCar/model-08-0.44.h5\n",
            "798/798 [==============================] - 234s 293ms/step - loss: 0.4970 - mae: 0.2208 - val_loss: 0.4420 - val_mae: 0.1506\n",
            "Epoch 9/30\n",
            "798/798 [==============================] - ETA: 0s - loss: 0.4363 - mae: 0.2037\n",
            "Epoch 00009: val_loss improved from 0.44197 to 0.44026, saving model to /colab/My Drive/SelfDrivingCar/model-09-0.44.h5\n",
            "798/798 [==============================] - 234s 294ms/step - loss: 0.4363 - mae: 0.2037 - val_loss: 0.4403 - val_mae: 0.1924\n",
            "Epoch 10/30\n",
            "798/798 [==============================] - ETA: 0s - loss: 0.3918 - mae: 0.1923\n",
            "Epoch 00010: val_loss did not improve from 0.44026\n",
            "798/798 [==============================] - 234s 293ms/step - loss: 0.3918 - mae: 0.1923 - val_loss: 0.4922 - val_mae: 0.2685\n",
            "Epoch 11/30\n",
            "798/798 [==============================] - ETA: 0s - loss: 0.3380 - mae: 0.1785\n",
            "Epoch 00011: val_loss improved from 0.44026 to 0.36240, saving model to /colab/My Drive/SelfDrivingCar/model-11-0.36.h5\n",
            "798/798 [==============================] - 234s 293ms/step - loss: 0.3380 - mae: 0.1785 - val_loss: 0.3624 - val_mae: 0.1787\n",
            "Epoch 12/30\n",
            "798/798 [==============================] - ETA: 0s - loss: 0.2977 - mae: 0.1664\n",
            "Epoch 00012: val_loss improved from 0.36240 to 0.35523, saving model to /colab/My Drive/SelfDrivingCar/model-12-0.36.h5\n",
            "798/798 [==============================] - 232s 291ms/step - loss: 0.2977 - mae: 0.1664 - val_loss: 0.3552 - val_mae: 0.2151\n",
            "Epoch 13/30\n",
            "798/798 [==============================] - ETA: 0s - loss: 0.2618 - mae: 0.1586\n",
            "Epoch 00013: val_loss improved from 0.35523 to 0.26516, saving model to /colab/My Drive/SelfDrivingCar/model-13-0.27.h5\n",
            "798/798 [==============================] - 233s 292ms/step - loss: 0.2618 - mae: 0.1586 - val_loss: 0.2652 - val_mae: 0.1708\n",
            "Epoch 14/30\n",
            "798/798 [==============================] - ETA: 0s - loss: 0.2322 - mae: 0.1559\n",
            "Epoch 00014: val_loss did not improve from 0.26516\n",
            "798/798 [==============================] - 233s 293ms/step - loss: 0.2322 - mae: 0.1559 - val_loss: 0.2894 - val_mae: 0.1704\n",
            "Epoch 15/30\n",
            "798/798 [==============================] - ETA: 0s - loss: 0.2293 - mae: 0.1555\n",
            "Epoch 00015: val_loss did not improve from 0.26516\n",
            "798/798 [==============================] - 235s 294ms/step - loss: 0.2293 - mae: 0.1555 - val_loss: 0.3084 - val_mae: 0.1717\n",
            "Epoch 16/30\n",
            "798/798 [==============================] - ETA: 0s - loss: 0.1911 - mae: 0.1442\n",
            "Epoch 00016: val_loss improved from 0.26516 to 0.24381, saving model to /colab/My Drive/SelfDrivingCar/model-16-0.24.h5\n",
            "798/798 [==============================] - 234s 294ms/step - loss: 0.1911 - mae: 0.1442 - val_loss: 0.2438 - val_mae: 0.1729\n",
            "Epoch 17/30\n",
            "798/798 [==============================] - ETA: 0s - loss: 0.3866 - mae: 0.2347\n",
            "Epoch 00017: val_loss improved from 0.24381 to 0.15279, saving model to /colab/My Drive/SelfDrivingCar/model-17-0.15.h5\n",
            "798/798 [==============================] - 233s 292ms/step - loss: 0.3866 - mae: 0.2347 - val_loss: 0.1528 - val_mae: 0.1343\n",
            "Epoch 18/30\n",
            "798/798 [==============================] - ETA: 0s - loss: 0.2891 - mae: 0.2478\n",
            "Epoch 00018: val_loss improved from 0.15279 to 0.12181, saving model to /colab/My Drive/SelfDrivingCar/model-18-0.12.h5\n",
            "798/798 [==============================] - 235s 295ms/step - loss: 0.2891 - mae: 0.2478 - val_loss: 0.1218 - val_mae: 0.1354\n",
            "Epoch 19/30\n",
            "798/798 [==============================] - ETA: 0s - loss: 0.2653 - mae: 0.2446\n",
            "Epoch 00019: val_loss improved from 0.12181 to 0.10229, saving model to /colab/My Drive/SelfDrivingCar/model-19-0.10.h5\n",
            "798/798 [==============================] - 237s 297ms/step - loss: 0.2653 - mae: 0.2446 - val_loss: 0.1023 - val_mae: 0.1355\n",
            "Epoch 20/30\n",
            "798/798 [==============================] - ETA: 0s - loss: 0.2555 - mae: 0.2434\n",
            "Epoch 00020: val_loss improved from 0.10229 to 0.09688, saving model to /colab/My Drive/SelfDrivingCar/model-20-0.10.h5\n",
            "798/798 [==============================] - 237s 297ms/step - loss: 0.2555 - mae: 0.2434 - val_loss: 0.0969 - val_mae: 0.1362\n",
            "Epoch 21/30\n",
            "798/798 [==============================] - ETA: 0s - loss: 0.2516 - mae: 0.2435\n",
            "Epoch 00021: val_loss improved from 0.09688 to 0.09328, saving model to /colab/My Drive/SelfDrivingCar/model-21-0.09.h5\n",
            "798/798 [==============================] - 236s 296ms/step - loss: 0.2516 - mae: 0.2435 - val_loss: 0.0933 - val_mae: 0.1345\n",
            "Epoch 22/30\n",
            "798/798 [==============================] - ETA: 0s - loss: 0.2494 - mae: 0.2435\n",
            "Epoch 00022: val_loss improved from 0.09328 to 0.09176, saving model to /colab/My Drive/SelfDrivingCar/model-22-0.09.h5\n",
            "798/798 [==============================] - 235s 295ms/step - loss: 0.2494 - mae: 0.2435 - val_loss: 0.0918 - val_mae: 0.1347\n",
            "Epoch 23/30\n",
            "798/798 [==============================] - ETA: 0s - loss: 0.2482 - mae: 0.2434\n",
            "Epoch 00023: val_loss improved from 0.09176 to 0.09061, saving model to /colab/My Drive/SelfDrivingCar/model-23-0.09.h5\n",
            "798/798 [==============================] - 236s 296ms/step - loss: 0.2482 - mae: 0.2434 - val_loss: 0.0906 - val_mae: 0.1344\n",
            "Epoch 24/30\n",
            "798/798 [==============================] - ETA: 0s - loss: 0.2475 - mae: 0.2435\n",
            "Epoch 00024: val_loss improved from 0.09061 to 0.09046, saving model to /colab/My Drive/SelfDrivingCar/model-24-0.09.h5\n",
            "798/798 [==============================] - 237s 297ms/step - loss: 0.2475 - mae: 0.2435 - val_loss: 0.0905 - val_mae: 0.1349\n",
            "Epoch 25/30\n",
            "798/798 [==============================] - ETA: 0s - loss: 0.2471 - mae: 0.2435\n",
            "Epoch 00025: val_loss improved from 0.09046 to 0.09031, saving model to /colab/My Drive/SelfDrivingCar/model-25-0.09.h5\n",
            "798/798 [==============================] - 235s 295ms/step - loss: 0.2471 - mae: 0.2435 - val_loss: 0.0903 - val_mae: 0.1350\n",
            "Epoch 26/30\n",
            "798/798 [==============================] - ETA: 0s - loss: 0.2471 - mae: 0.2433\n",
            "Epoch 00026: val_loss did not improve from 0.09031\n",
            "798/798 [==============================] - 233s 292ms/step - loss: 0.2471 - mae: 0.2433 - val_loss: 0.0904 - val_mae: 0.1353\n",
            "Epoch 27/30\n",
            "798/798 [==============================] - ETA: 0s - loss: 0.2470 - mae: 0.2433\n",
            "Epoch 00027: val_loss did not improve from 0.09031\n",
            "798/798 [==============================] - 234s 293ms/step - loss: 0.2470 - mae: 0.2433 - val_loss: 0.0907 - val_mae: 0.1361\n",
            "Epoch 28/30\n",
            "798/798 [==============================] - ETA: 0s - loss: 0.2470 - mae: 0.2434\n",
            "Epoch 00028: val_loss did not improve from 0.09031\n",
            "798/798 [==============================] - 236s 296ms/step - loss: 0.2470 - mae: 0.2434 - val_loss: 0.0921 - val_mae: 0.1398\n",
            "Epoch 29/30\n",
            "798/798 [==============================] - ETA: 0s - loss: 0.2470 - mae: 0.2435\n",
            "Epoch 00029: val_loss improved from 0.09031 to 0.09026, saving model to /colab/My Drive/SelfDrivingCar/model-29-0.09.h5\n",
            "798/798 [==============================] - 235s 294ms/step - loss: 0.2470 - mae: 0.2435 - val_loss: 0.0903 - val_mae: 0.1351\n",
            "Epoch 30/30\n",
            "798/798 [==============================] - ETA: 0s - loss: 0.2470 - mae: 0.2433\n",
            "Epoch 00030: val_loss did not improve from 0.09026\n",
            "798/798 [==============================] - 236s 295ms/step - loss: 0.2470 - mae: 0.2433 - val_loss: 0.0905 - val_mae: 0.1355\n"
          ],
          "name": "stdout"
        }
      ]
    },
    {
      "cell_type": "code",
      "metadata": {
        "id": "IPonMlWIRdfH"
      },
      "source": [
        "model2.save('/colab/My Drive/SelfDrivingCar/Dataset/model2-final-save.h5')"
      ],
      "execution_count": null,
      "outputs": []
    },
    {
      "cell_type": "code",
      "metadata": {
        "id": "cc00lRCvYQgg"
      },
      "source": [
        ""
      ],
      "execution_count": null,
      "outputs": []
    },
    {
      "cell_type": "markdown",
      "metadata": {
        "id": "HE9JmnJRaMhP"
      },
      "source": [
        "MODEL 3"
      ]
    },
    {
      "cell_type": "code",
      "metadata": {
        "id": "t3osPaPraO2T"
      },
      "source": [
        "model3 = tf.keras.models.Sequential([\n",
        "    # This is the first convolution\n",
        "    tf.keras.layers.Conv2D(32, (3,3), activation='selu', input_shape=(224, 224, 3), kernel_regularizer=regularizers.l2(0.001)),\n",
        "    tf.keras.layers.MaxPooling2D(2, 2),\n",
        "    # The second convolution\n",
        "    tf.keras.layers.Conv2D(48, (3,3), activation='selu', kernel_regularizer=regularizers.l2(0.001)),\n",
        "    tf.keras.layers.MaxPooling2D(2,2),\n",
        "    # The third convolution\n",
        "    tf.keras.layers.Conv2D(64, (3,3), activation='selu', kernel_regularizer=regularizers.l2(0.001)),\n",
        "    tf.keras.layers.MaxPooling2D(2,2),\n",
        "    # The fourth convolution\n",
        "    tf.keras.layers.Conv2D(64, (3,3), activation='selu', kernel_regularizer=regularizers.l2(0.001)),\n",
        "    tf.keras.layers.MaxPooling2D(2,2),\n",
        "    # The fifth convolution\n",
        "    tf.keras.layers.Conv2D(64, (3,3), activation='selu', kernel_regularizer=regularizers.l2(0.001)),\n",
        "    tf.keras.layers.MaxPooling2D(2,2),\n",
        "    # Flatten the results to feed into a DNN\n",
        "    tf.keras.layers.Flatten(),\n",
        "    # 512 neuron hidden layer\n",
        "    tf.keras.layers.Dense(512, activation='selu', kernel_regularizer=regularizers.l2(0.001)),\n",
        "    tf.keras.layers.Dropout(0.2),\n",
        "    tf.keras.layers.Dense(256, activation='selu', kernel_regularizer=regularizers.l2(0.001)),\n",
        "    tf.keras.layers.Dropout(0.2),\n",
        "    tf.keras.layers.Dense(128, activation='selu', kernel_regularizer=regularizers.l2(0.001)),\n",
        "    tf.keras.layers.Dropout(0.2),\n",
        "    # Only 1 output neuron.\n",
        "    tf.keras.layers.Dense(1, activation='linear', kernel_regularizer=regularizers.l2(0.001))\n",
        "])"
      ],
      "execution_count": null,
      "outputs": []
    },
    {
      "cell_type": "code",
      "metadata": {
        "id": "iz6yXFbRHqsa"
      },
      "source": [
        ""
      ],
      "execution_count": null,
      "outputs": []
    },
    {
      "cell_type": "code",
      "metadata": {
        "id": "7wVtMh-ga1NF",
        "colab": {
          "base_uri": "https://localhost:8080/",
          "height": 756
        },
        "outputId": "be92e9a1-bbe8-4e6a-aaa0-7fcbd0198e97"
      },
      "source": [
        "model3.summary()"
      ],
      "execution_count": null,
      "outputs": [
        {
          "output_type": "stream",
          "text": [
            "Model: \"sequential_1\"\n",
            "_________________________________________________________________\n",
            "Layer (type)                 Output Shape              Param #   \n",
            "=================================================================\n",
            "conv2d_5 (Conv2D)            (None, 222, 222, 32)      896       \n",
            "_________________________________________________________________\n",
            "max_pooling2d_1 (MaxPooling2 (None, 111, 111, 32)      0         \n",
            "_________________________________________________________________\n",
            "conv2d_6 (Conv2D)            (None, 109, 109, 48)      13872     \n",
            "_________________________________________________________________\n",
            "max_pooling2d_2 (MaxPooling2 (None, 54, 54, 48)        0         \n",
            "_________________________________________________________________\n",
            "conv2d_7 (Conv2D)            (None, 52, 52, 64)        27712     \n",
            "_________________________________________________________________\n",
            "max_pooling2d_3 (MaxPooling2 (None, 26, 26, 64)        0         \n",
            "_________________________________________________________________\n",
            "conv2d_8 (Conv2D)            (None, 24, 24, 64)        36928     \n",
            "_________________________________________________________________\n",
            "max_pooling2d_4 (MaxPooling2 (None, 12, 12, 64)        0         \n",
            "_________________________________________________________________\n",
            "conv2d_9 (Conv2D)            (None, 10, 10, 64)        36928     \n",
            "_________________________________________________________________\n",
            "max_pooling2d_5 (MaxPooling2 (None, 5, 5, 64)          0         \n",
            "_________________________________________________________________\n",
            "flatten_1 (Flatten)          (None, 1600)              0         \n",
            "_________________________________________________________________\n",
            "dense_4 (Dense)              (None, 512)               819712    \n",
            "_________________________________________________________________\n",
            "dropout_1 (Dropout)          (None, 512)               0         \n",
            "_________________________________________________________________\n",
            "dense_5 (Dense)              (None, 256)               131328    \n",
            "_________________________________________________________________\n",
            "dropout_2 (Dropout)          (None, 256)               0         \n",
            "_________________________________________________________________\n",
            "dense_6 (Dense)              (None, 128)               32896     \n",
            "_________________________________________________________________\n",
            "dropout_3 (Dropout)          (None, 128)               0         \n",
            "_________________________________________________________________\n",
            "dense_7 (Dense)              (None, 1)                 129       \n",
            "=================================================================\n",
            "Total params: 1,100,401\n",
            "Trainable params: 1,100,401\n",
            "Non-trainable params: 0\n",
            "_________________________________________________________________\n"
          ],
          "name": "stdout"
        }
      ]
    },
    {
      "cell_type": "code",
      "metadata": {
        "id": "Qaay_nQIa1Tu",
        "colab": {
          "base_uri": "https://localhost:8080/",
          "height": 50
        },
        "outputId": "f2117119-8ec5-489e-a199-84cd1a2f2503"
      },
      "source": [
        "import keras\n",
        "import tensorflow as tf\n",
        "\n",
        "filepath = '/colab/My Drive/SelfDrivingCar/model-{epoch:02d}-{val_loss:.2f}.h5'\n",
        "model3_callbacks =[\n",
        "  keras.callbacks.EarlyStopping(monitor='val_loss', patience=5),\n",
        "  keras.callbacks.ModelCheckpoint(filepath, monitor='val_loss', verbose=1, save_best_only=True, save_weights_only=True, mode='auto', period=1 ),\n",
        "  keras.callbacks.CSVLogger('model-logs.csv', separator=',', append=False )\n",
        "]"
      ],
      "execution_count": null,
      "outputs": [
        {
          "output_type": "stream",
          "text": [
            "WARNING:tensorflow:`period` argument is deprecated. Please use `save_freq` to specify the frequency in number of batches seen.\n"
          ],
          "name": "stdout"
        },
        {
          "output_type": "stream",
          "text": [
            "WARNING:tensorflow:`period` argument is deprecated. Please use `save_freq` to specify the frequency in number of batches seen.\n"
          ],
          "name": "stderr"
        }
      ]
    },
    {
      "cell_type": "code",
      "metadata": {
        "id": "0y-PVL9Ua1Rg"
      },
      "source": [
        "model3.compile(loss='mse',\n",
        "              optimizer='adam',\n",
        "              metrics=['mae'])"
      ],
      "execution_count": null,
      "outputs": []
    },
    {
      "cell_type": "code",
      "metadata": {
        "id": "3k5EB7X2bEX4",
        "colab": {
          "base_uri": "https://localhost:8080/",
          "height": 1000
        },
        "outputId": "9431a59e-3e64-41ea-9c00-ff135f8dc575"
      },
      "source": [
        "history3 = model3.fit(\n",
        "      train_generator,\n",
        "        \n",
        "      epochs=30,\n",
        "      verbose=1,\n",
        "      validation_data = val_generator,\n",
        "      \n",
        "      callbacks=model3_callbacks)"
      ],
      "execution_count": null,
      "outputs": [
        {
          "output_type": "stream",
          "text": [
            "Epoch 1/30\n",
            "798/798 [==============================] - ETA: 0s - loss: 2.9408 - mae: 0.5038\n",
            "Epoch 00001: val_loss improved from inf to 1.53960, saving model to /colab/My Drive/SelfDrivingCar/model-01-1.54.h5\n",
            "798/798 [==============================] - 220s 276ms/step - loss: 2.9408 - mae: 0.5038 - val_loss: 1.5396 - val_mae: 0.1557\n",
            "Epoch 2/30\n",
            "798/798 [==============================] - ETA: 0s - loss: 1.5709 - mae: 0.2582\n",
            "Epoch 00002: val_loss improved from 1.53960 to 1.39051, saving model to /colab/My Drive/SelfDrivingCar/model-02-1.39.h5\n",
            "798/798 [==============================] - 218s 273ms/step - loss: 1.5709 - mae: 0.2582 - val_loss: 1.3905 - val_mae: 0.1673\n",
            "Epoch 3/30\n",
            "798/798 [==============================] - ETA: 0s - loss: 1.3475 - mae: 0.2231\n",
            "Epoch 00003: val_loss improved from 1.39051 to 1.23039, saving model to /colab/My Drive/SelfDrivingCar/model-03-1.23.h5\n",
            "798/798 [==============================] - 212s 266ms/step - loss: 1.3475 - mae: 0.2231 - val_loss: 1.2304 - val_mae: 0.2164\n",
            "Epoch 4/30\n",
            "798/798 [==============================] - ETA: 0s - loss: 1.1117 - mae: 0.1994\n",
            "Epoch 00004: val_loss improved from 1.23039 to 1.03774, saving model to /colab/My Drive/SelfDrivingCar/model-04-1.04.h5\n",
            "798/798 [==============================] - 212s 265ms/step - loss: 1.1117 - mae: 0.1994 - val_loss: 1.0377 - val_mae: 0.2151\n",
            "Epoch 5/30\n",
            "798/798 [==============================] - ETA: 0s - loss: 0.8809 - mae: 0.1745\n",
            "Epoch 00005: val_loss improved from 1.03774 to 0.85364, saving model to /colab/My Drive/SelfDrivingCar/model-05-0.85.h5\n",
            "798/798 [==============================] - 208s 260ms/step - loss: 0.8809 - mae: 0.1745 - val_loss: 0.8536 - val_mae: 0.2143\n",
            "Epoch 6/30\n",
            "798/798 [==============================] - ETA: 0s - loss: 0.6797 - mae: 0.1548\n",
            "Epoch 00006: val_loss improved from 0.85364 to 0.63763, saving model to /colab/My Drive/SelfDrivingCar/model-06-0.64.h5\n",
            "798/798 [==============================] - 206s 258ms/step - loss: 0.6797 - mae: 0.1548 - val_loss: 0.6376 - val_mae: 0.1796\n",
            "Epoch 7/30\n",
            "798/798 [==============================] - ETA: 0s - loss: 0.5140 - mae: 0.1450\n",
            "Epoch 00007: val_loss improved from 0.63763 to 0.50330, saving model to /colab/My Drive/SelfDrivingCar/model-07-0.50.h5\n",
            "798/798 [==============================] - 207s 259ms/step - loss: 0.5140 - mae: 0.1450 - val_loss: 0.5033 - val_mae: 0.1811\n",
            "Epoch 8/30\n",
            "798/798 [==============================] - ETA: 0s - loss: 0.3840 - mae: 0.1410\n",
            "Epoch 00008: val_loss improved from 0.50330 to 0.40676, saving model to /colab/My Drive/SelfDrivingCar/model-08-0.41.h5\n",
            "798/798 [==============================] - 208s 260ms/step - loss: 0.3840 - mae: 0.1410 - val_loss: 0.4068 - val_mae: 0.1924\n",
            "Epoch 9/30\n",
            "798/798 [==============================] - ETA: 0s - loss: 0.2900 - mae: 0.1432\n",
            "Epoch 00009: val_loss did not improve from 0.40676\n",
            "798/798 [==============================] - 208s 260ms/step - loss: 0.2900 - mae: 0.1432 - val_loss: 0.4295 - val_mae: 0.2920\n",
            "Epoch 10/30\n",
            "798/798 [==============================] - ETA: 0s - loss: 0.2168 - mae: 0.1387\n",
            "Epoch 00010: val_loss improved from 0.40676 to 0.29698, saving model to /colab/My Drive/SelfDrivingCar/model-10-0.30.h5\n",
            "798/798 [==============================] - 209s 261ms/step - loss: 0.2168 - mae: 0.1387 - val_loss: 0.2970 - val_mae: 0.2365\n",
            "Epoch 11/30\n",
            "798/798 [==============================] - ETA: 0s - loss: 0.1740 - mae: 0.1416\n",
            "Epoch 00011: val_loss improved from 0.29698 to 0.25385, saving model to /colab/My Drive/SelfDrivingCar/model-11-0.25.h5\n",
            "798/798 [==============================] - 207s 260ms/step - loss: 0.1740 - mae: 0.1416 - val_loss: 0.2538 - val_mae: 0.2061\n",
            "Epoch 12/30\n",
            "798/798 [==============================] - ETA: 0s - loss: 0.1520 - mae: 0.1501\n",
            "Epoch 00012: val_loss improved from 0.25385 to 0.19328, saving model to /colab/My Drive/SelfDrivingCar/model-12-0.19.h5\n",
            "798/798 [==============================] - 208s 261ms/step - loss: 0.1520 - mae: 0.1501 - val_loss: 0.1933 - val_mae: 0.1976\n",
            "Epoch 13/30\n",
            "798/798 [==============================] - ETA: 0s - loss: 0.1373 - mae: 0.1483\n",
            "Epoch 00013: val_loss improved from 0.19328 to 0.18105, saving model to /colab/My Drive/SelfDrivingCar/model-13-0.18.h5\n",
            "798/798 [==============================] - 207s 259ms/step - loss: 0.1373 - mae: 0.1483 - val_loss: 0.1810 - val_mae: 0.1903\n",
            "Epoch 14/30\n",
            "798/798 [==============================] - ETA: 0s - loss: 0.1296 - mae: 0.1509\n",
            "Epoch 00014: val_loss did not improve from 0.18105\n",
            "798/798 [==============================] - 207s 259ms/step - loss: 0.1296 - mae: 0.1509 - val_loss: 0.2021 - val_mae: 0.1841\n",
            "Epoch 15/30\n",
            "798/798 [==============================] - ETA: 0s - loss: 0.1263 - mae: 0.1518\n",
            "Epoch 00015: val_loss did not improve from 0.18105\n",
            "798/798 [==============================] - 207s 260ms/step - loss: 0.1263 - mae: 0.1518 - val_loss: 0.2672 - val_mae: 0.2812\n",
            "Epoch 16/30\n",
            "798/798 [==============================] - ETA: 0s - loss: 7703.5845 - mae: 4.6994\n",
            "Epoch 00016: val_loss did not improve from 0.18105\n",
            "798/798 [==============================] - 207s 259ms/step - loss: 7703.5845 - mae: 4.6994 - val_loss: 1.6315 - val_mae: 0.3437\n",
            "Epoch 17/30\n",
            "798/798 [==============================] - ETA: 0s - loss: 2.6045 - mae: 0.7964\n",
            "Epoch 00017: val_loss did not improve from 0.18105\n",
            "798/798 [==============================] - 207s 259ms/step - loss: 2.6045 - mae: 0.7964 - val_loss: 1.7616 - val_mae: 0.4992\n",
            "Epoch 18/30\n",
            "798/798 [==============================] - ETA: 0s - loss: 2.4791 - mae: 0.7779\n",
            "Epoch 00018: val_loss did not improve from 0.18105\n",
            "798/798 [==============================] - 207s 259ms/step - loss: 2.4791 - mae: 0.7779 - val_loss: 1.7185 - val_mae: 0.4548\n"
          ],
          "name": "stdout"
        }
      ]
    },
    {
      "cell_type": "code",
      "metadata": {
        "id": "zboseOxZblrh"
      },
      "source": [
        "model3.save('/colab/My Drive/SelfDrivingCar/Dataset/model3-final-save.h5')"
      ],
      "execution_count": null,
      "outputs": []
    },
    {
      "cell_type": "code",
      "metadata": {
        "id": "u76YPiKrLcix"
      },
      "source": [
        ""
      ],
      "execution_count": null,
      "outputs": []
    },
    {
      "cell_type": "markdown",
      "metadata": {
        "id": "czu5o5JxMDQx"
      },
      "source": [
        "MODEL 4"
      ]
    },
    {
      "cell_type": "code",
      "metadata": {
        "id": "S2DRY4PwMEHY"
      },
      "source": [
        "model4 = tf.keras.models.Sequential([\n",
        "    # This is the first convolution\n",
        "    tf.keras.layers.Conv2D(32, (3,3), activation='relu', input_shape=(224, 224, 3), kernel_regularizer=regularizers.l2(0.001)),\n",
        "    tf.keras.layers.MaxPooling2D(2, 2),\n",
        "    # The second convolution\n",
        "    tf.keras.layers.Conv2D(48, (3,3), activation='relu', kernel_regularizer=regularizers.l2(0.001)),\n",
        "    tf.keras.layers.MaxPooling2D(2,2),\n",
        "    # The third convolution\n",
        "    tf.keras.layers.Conv2D(64, (3,3), activation='relu', kernel_regularizer=regularizers.l2(0.001)),\n",
        "    tf.keras.layers.MaxPooling2D(2,2),\n",
        "    # The fourth convolution\n",
        "    tf.keras.layers.Conv2D(64, (3,3), activation='relu', kernel_regularizer=regularizers.l2(0.001)),\n",
        "    tf.keras.layers.MaxPooling2D(2,2),\n",
        "    # The fifth convolution\n",
        "    tf.keras.layers.Conv2D(64, (3,3), activation='relu', kernel_regularizer=regularizers.l2(0.001)),\n",
        "    tf.keras.layers.MaxPooling2D(2,2),\n",
        "    # Flatten the results to feed into a DNN\n",
        "    tf.keras.layers.Flatten(),\n",
        "    # 512 neuron hidden layer\n",
        "    tf.keras.layers.Dense(512, activation='relu', kernel_regularizer=regularizers.l2(0.001)),\n",
        "    tf.keras.layers.Dropout(0.2),\n",
        "    tf.keras.layers.Dense(256, activation='relu', kernel_regularizer=regularizers.l2(0.001)),\n",
        "    tf.keras.layers.Dropout(0.2),\n",
        "    tf.keras.layers.Dense(128, activation='relu', kernel_regularizer=regularizers.l2(0.001)),\n",
        "    tf.keras.layers.Dropout(0.2),\n",
        "    # Only 1 output neuron.\n",
        "    tf.keras.layers.Dense(1, activation='linear', kernel_regularizer=regularizers.l2(0.001))\n",
        "])"
      ],
      "execution_count": null,
      "outputs": []
    },
    {
      "cell_type": "code",
      "metadata": {
        "id": "xkrYvgyDMUW3",
        "colab": {
          "base_uri": "https://localhost:8080/",
          "height": 756
        },
        "outputId": "ba834208-807c-43f2-d5ca-a04ef7a34d1a"
      },
      "source": [
        "model4.summary()"
      ],
      "execution_count": null,
      "outputs": [
        {
          "output_type": "stream",
          "text": [
            "Model: \"sequential_18\"\n",
            "_________________________________________________________________\n",
            "Layer (type)                 Output Shape              Param #   \n",
            "=================================================================\n",
            "conv2d_90 (Conv2D)           (None, 222, 222, 32)      896       \n",
            "_________________________________________________________________\n",
            "max_pooling2d_30 (MaxPooling (None, 111, 111, 32)      0         \n",
            "_________________________________________________________________\n",
            "conv2d_91 (Conv2D)           (None, 109, 109, 48)      13872     \n",
            "_________________________________________________________________\n",
            "max_pooling2d_31 (MaxPooling (None, 54, 54, 48)        0         \n",
            "_________________________________________________________________\n",
            "conv2d_92 (Conv2D)           (None, 52, 52, 64)        27712     \n",
            "_________________________________________________________________\n",
            "max_pooling2d_32 (MaxPooling (None, 26, 26, 64)        0         \n",
            "_________________________________________________________________\n",
            "conv2d_93 (Conv2D)           (None, 24, 24, 64)        36928     \n",
            "_________________________________________________________________\n",
            "max_pooling2d_33 (MaxPooling (None, 12, 12, 64)        0         \n",
            "_________________________________________________________________\n",
            "conv2d_94 (Conv2D)           (None, 10, 10, 64)        36928     \n",
            "_________________________________________________________________\n",
            "max_pooling2d_34 (MaxPooling (None, 5, 5, 64)          0         \n",
            "_________________________________________________________________\n",
            "flatten_18 (Flatten)         (None, 1600)              0         \n",
            "_________________________________________________________________\n",
            "dense_72 (Dense)             (None, 512)               819712    \n",
            "_________________________________________________________________\n",
            "dropout_36 (Dropout)         (None, 512)               0         \n",
            "_________________________________________________________________\n",
            "dense_73 (Dense)             (None, 256)               131328    \n",
            "_________________________________________________________________\n",
            "dropout_37 (Dropout)         (None, 256)               0         \n",
            "_________________________________________________________________\n",
            "dense_74 (Dense)             (None, 128)               32896     \n",
            "_________________________________________________________________\n",
            "dropout_38 (Dropout)         (None, 128)               0         \n",
            "_________________________________________________________________\n",
            "dense_75 (Dense)             (None, 1)                 129       \n",
            "=================================================================\n",
            "Total params: 1,100,401\n",
            "Trainable params: 1,100,401\n",
            "Non-trainable params: 0\n",
            "_________________________________________________________________\n"
          ],
          "name": "stdout"
        }
      ]
    },
    {
      "cell_type": "code",
      "metadata": {
        "id": "45JcZ4ggMWUI",
        "colab": {
          "base_uri": "https://localhost:8080/",
          "height": 34
        },
        "outputId": "a3128c6d-ad67-44e4-c973-e6f1e9d26ec9"
      },
      "source": [
        "import keras\n",
        "import tensorflow as tf\n",
        "\n",
        "filepath = '/colab/My Drive/SelfDrivingCar/model-{epoch:02d}-{val_loss:.2f}.h5'\n",
        "model4_callbacks =[\n",
        "  keras.callbacks.EarlyStopping(monitor='val_loss', patience=5),\n",
        "  keras.callbacks.ModelCheckpoint(filepath, monitor='val_loss', verbose=1, save_best_only=True, save_weights_only=True, mode='auto', period=1 ),\n",
        "  keras.callbacks.CSVLogger('model-logs.csv', separator=',', append=False )\n",
        "]"
      ],
      "execution_count": null,
      "outputs": [
        {
          "output_type": "stream",
          "text": [
            "WARNING:tensorflow:`period` argument is deprecated. Please use `save_freq` to specify the frequency in number of batches seen.\n"
          ],
          "name": "stdout"
        }
      ]
    },
    {
      "cell_type": "code",
      "metadata": {
        "id": "e_D2aLOdMeGC"
      },
      "source": [
        "model4.compile(loss='mse',\n",
        "              optimizer='adam',\n",
        "              metrics=['mae'])"
      ],
      "execution_count": null,
      "outputs": []
    },
    {
      "cell_type": "code",
      "metadata": {
        "id": "7UkcrOJWMjQn",
        "colab": {
          "base_uri": "https://localhost:8080/",
          "height": 823
        },
        "outputId": "f8f54e98-dcd9-4a5c-dabb-1a5a42962a47"
      },
      "source": [
        "history4 = model4.fit(\n",
        "      train_generator,\n",
        "        \n",
        "      epochs=30,\n",
        "      verbose=1,\n",
        "      validation_data = val_generator,\n",
        "      \n",
        "      callbacks=model4_callbacks)"
      ],
      "execution_count": null,
      "outputs": [
        {
          "output_type": "stream",
          "text": [
            "Epoch 1/30\n",
            "798/798 [==============================] - ETA: 0s - loss: 0.3225 - mae: 0.2439\n",
            "Epoch 00001: val_loss improved from inf to 0.09081, saving model to /colab/My Drive/SelfDrivingCar/model-01-0.09.h5\n",
            "798/798 [==============================] - 206s 258ms/step - loss: 0.3225 - mae: 0.2439 - val_loss: 0.0908 - val_mae: 0.1355\n",
            "Epoch 2/30\n",
            "798/798 [==============================] - ETA: 0s - loss: 0.2471 - mae: 0.2434\n",
            "Epoch 00002: val_loss did not improve from 0.09081\n",
            "798/798 [==============================] - 206s 258ms/step - loss: 0.2471 - mae: 0.2434 - val_loss: 0.0911 - val_mae: 0.1368\n",
            "Epoch 3/30\n",
            "798/798 [==============================] - ETA: 0s - loss: 0.2470 - mae: 0.2434\n",
            "Epoch 00003: val_loss improved from 0.09081 to 0.09045, saving model to /colab/My Drive/SelfDrivingCar/model-03-0.09.h5\n",
            "798/798 [==============================] - 211s 264ms/step - loss: 0.2470 - mae: 0.2434 - val_loss: 0.0904 - val_mae: 0.1355\n",
            "Epoch 4/30\n",
            "798/798 [==============================] - ETA: 0s - loss: 0.2470 - mae: 0.2434\n",
            "Epoch 00004: val_loss did not improve from 0.09045\n",
            "798/798 [==============================] - 216s 270ms/step - loss: 0.2470 - mae: 0.2434 - val_loss: 0.0909 - val_mae: 0.1365\n",
            "Epoch 5/30\n",
            "798/798 [==============================] - ETA: 0s - loss: 0.2470 - mae: 0.2433\n",
            "Epoch 00005: val_loss did not improve from 0.09045\n",
            "798/798 [==============================] - 209s 262ms/step - loss: 0.2470 - mae: 0.2433 - val_loss: 0.0912 - val_mae: 0.1373\n",
            "Epoch 6/30\n",
            "798/798 [==============================] - ETA: 0s - loss: 0.2470 - mae: 0.2435\n",
            "Epoch 00006: val_loss improved from 0.09045 to 0.09034, saving model to /colab/My Drive/SelfDrivingCar/model-06-0.09.h5\n",
            "798/798 [==============================] - 206s 258ms/step - loss: 0.2470 - mae: 0.2435 - val_loss: 0.0903 - val_mae: 0.1352\n",
            "Epoch 7/30\n",
            "798/798 [==============================] - ETA: 0s - loss: 0.2470 - mae: 0.2434\n",
            "Epoch 00007: val_loss improved from 0.09034 to 0.08998, saving model to /colab/My Drive/SelfDrivingCar/model-07-0.09.h5\n",
            "798/798 [==============================] - 206s 259ms/step - loss: 0.2470 - mae: 0.2434 - val_loss: 0.0900 - val_mae: 0.1346\n",
            "Epoch 8/30\n",
            "798/798 [==============================] - ETA: 0s - loss: 0.2470 - mae: 0.2433\n",
            "Epoch 00008: val_loss did not improve from 0.08998\n",
            "798/798 [==============================] - 205s 257ms/step - loss: 0.2470 - mae: 0.2433 - val_loss: 0.0907 - val_mae: 0.1359\n",
            "Epoch 9/30\n",
            "798/798 [==============================] - ETA: 0s - loss: 0.2470 - mae: 0.2433\n",
            "Epoch 00009: val_loss did not improve from 0.08998\n",
            "798/798 [==============================] - 208s 261ms/step - loss: 0.2470 - mae: 0.2433 - val_loss: 0.0907 - val_mae: 0.1359\n",
            "Epoch 10/30\n",
            "798/798 [==============================] - ETA: 0s - loss: 0.2470 - mae: 0.2434\n",
            "Epoch 00010: val_loss did not improve from 0.08998\n",
            "798/798 [==============================] - 208s 261ms/step - loss: 0.2470 - mae: 0.2434 - val_loss: 0.0903 - val_mae: 0.1351\n",
            "Epoch 11/30\n",
            "798/798 [==============================] - ETA: 0s - loss: 0.2470 - mae: 0.2433\n",
            "Epoch 00011: val_loss did not improve from 0.08998\n",
            "798/798 [==============================] - 208s 261ms/step - loss: 0.2470 - mae: 0.2433 - val_loss: 0.0909 - val_mae: 0.1364\n",
            "Epoch 12/30\n",
            "798/798 [==============================] - ETA: 0s - loss: 0.2470 - mae: 0.2434\n",
            "Epoch 00012: val_loss did not improve from 0.08998\n",
            "798/798 [==============================] - 205s 257ms/step - loss: 0.2470 - mae: 0.2434 - val_loss: 0.0904 - val_mae: 0.1354\n"
          ],
          "name": "stdout"
        }
      ]
    },
    {
      "cell_type": "code",
      "metadata": {
        "id": "ewmRSObkMtOp"
      },
      "source": [
        "model4.save('/colab/My Drive/SelfDrivingCar/Dataset/model4-final-save.h5')"
      ],
      "execution_count": null,
      "outputs": []
    },
    {
      "cell_type": "markdown",
      "metadata": {
        "id": "DZ91CwnEa1pL"
      },
      "source": [
        "RESIZING TO 300, 300"
      ]
    },
    {
      "cell_type": "code",
      "metadata": {
        "id": "5q-rlUVPamrv",
        "colab": {
          "base_uri": "https://localhost:8080/",
          "height": 50
        },
        "outputId": "3a0a522b-e50e-4b30-8165-c207261dca34"
      },
      "source": [
        "IMAGES_DIR = '/tmp/data/'\n",
        "\n",
        "training_datagen = ImageDataGenerator(\n",
        "        rescale = 1./255,)\n",
        "\n",
        "train_generator2 = training_datagen.flow_from_dataframe(\n",
        "        dataframe=data_log_train,\n",
        "        directory=IMAGES_DIR,\n",
        "        x_col=\"Image_name\",\n",
        "        y_col=\"Angle_rad\",\n",
        "        target_size=(150, 150),\n",
        "        batch_size=64,\n",
        "        class_mode='other')\n",
        "\n",
        "validation_datagen = ImageDataGenerator(rescale = 1./255)\n",
        "\n",
        "val_generator2 = validation_datagen.flow_from_dataframe(\n",
        "        dataframe=data_log_validate,\n",
        "        directory=IMAGES_DIR,\n",
        "        x_col=\"Image_name\",\n",
        "        y_col=\"Angle_rad\",\n",
        "        target_size=(150, 150),\n",
        "        batch_size = 64,\n",
        "        class_mode='other')"
      ],
      "execution_count": null,
      "outputs": [
        {
          "output_type": "stream",
          "text": [
            "Found 51060 validated image filenames.\n",
            "Found 12765 validated image filenames.\n"
          ],
          "name": "stdout"
        }
      ]
    },
    {
      "cell_type": "code",
      "metadata": {
        "id": "g8W6oomGam8x"
      },
      "source": [
        "model5 = tf.keras.models.Sequential([\n",
        "tf.keras.layers.Lambda(lambda x: x/127.5-1.0, input_shape = (300,300,3) ),\n",
        "tf.keras.layers.Conv2D(24, (5, 5), activation = 'elu', strides = (2, 2) ),\n",
        "tf.keras.layers.Conv2D(36, (5, 5), activation = 'elu', strides = (2, 2) ),\n",
        "tf.keras.layers.Conv2D(48, (5, 5), activation = 'elu', strides = (2, 2) ),\n",
        "tf.keras.layers.Conv2D(64, (3, 3), activation = 'elu' ),\n",
        "tf.keras.layers.Conv2D(64, (3, 3), activation = 'elu' ),\n",
        "tf.keras.layers.Dropout(0.5),\n",
        "tf.keras.layers.Flatten(),\n",
        "tf.keras.layers.Dense(100, activation='elu'),\n",
        "tf.keras.layers.Dense(50, activation='elu'),\n",
        "tf.keras.layers.Dense(10, activation='elu'),\n",
        "tf.keras.layers.Dense(1, activation = 'linear')\n",
        "])"
      ],
      "execution_count": null,
      "outputs": []
    },
    {
      "cell_type": "code",
      "metadata": {
        "id": "Dc6CiNvVanic",
        "colab": {
          "base_uri": "https://localhost:8080/",
          "height": 554
        },
        "outputId": "badc717f-1aab-4f30-d2b6-76f337151960"
      },
      "source": [
        "model5.summary()"
      ],
      "execution_count": null,
      "outputs": [
        {
          "output_type": "stream",
          "text": [
            "Model: \"sequential_21\"\n",
            "_________________________________________________________________\n",
            "Layer (type)                 Output Shape              Param #   \n",
            "=================================================================\n",
            "lambda_16 (Lambda)           (None, 300, 300, 3)       0         \n",
            "_________________________________________________________________\n",
            "conv2d_105 (Conv2D)          (None, 148, 148, 24)      1824      \n",
            "_________________________________________________________________\n",
            "conv2d_106 (Conv2D)          (None, 72, 72, 36)        21636     \n",
            "_________________________________________________________________\n",
            "conv2d_107 (Conv2D)          (None, 34, 34, 48)        43248     \n",
            "_________________________________________________________________\n",
            "conv2d_108 (Conv2D)          (None, 32, 32, 64)        27712     \n",
            "_________________________________________________________________\n",
            "conv2d_109 (Conv2D)          (None, 30, 30, 64)        36928     \n",
            "_________________________________________________________________\n",
            "dropout_41 (Dropout)         (None, 30, 30, 64)        0         \n",
            "_________________________________________________________________\n",
            "flatten_21 (Flatten)         (None, 57600)             0         \n",
            "_________________________________________________________________\n",
            "dense_84 (Dense)             (None, 100)               5760100   \n",
            "_________________________________________________________________\n",
            "dense_85 (Dense)             (None, 50)                5050      \n",
            "_________________________________________________________________\n",
            "dense_86 (Dense)             (None, 10)                510       \n",
            "_________________________________________________________________\n",
            "dense_87 (Dense)             (None, 1)                 11        \n",
            "=================================================================\n",
            "Total params: 5,897,019\n",
            "Trainable params: 5,897,019\n",
            "Non-trainable params: 0\n",
            "_________________________________________________________________\n"
          ],
          "name": "stdout"
        }
      ]
    },
    {
      "cell_type": "code",
      "metadata": {
        "id": "RQtKcNzSanzj",
        "colab": {
          "base_uri": "https://localhost:8080/",
          "height": 34
        },
        "outputId": "05019390-4ecb-434b-99b0-82e6d15bc885"
      },
      "source": [
        "import keras\n",
        "import tensorflow as tf\n",
        "\n",
        "filepath = '/colab/My Drive/SelfDrivingCar/model-{epoch:02d}-{val_loss:.2f}.h5'\n",
        "model5_callbacks =[\n",
        "  keras.callbacks.EarlyStopping(monitor='val_loss', patience=5),\n",
        "  keras.callbacks.ModelCheckpoint(filepath, monitor='val_loss', verbose=1, save_best_only=True, save_weights_only=True, mode='auto', period=1 ),\n",
        "  keras.callbacks.CSVLogger('model-logs.csv', separator=',', append=False )\n",
        "]"
      ],
      "execution_count": null,
      "outputs": [
        {
          "output_type": "stream",
          "text": [
            "WARNING:tensorflow:`period` argument is deprecated. Please use `save_freq` to specify the frequency in number of batches seen.\n"
          ],
          "name": "stdout"
        }
      ]
    },
    {
      "cell_type": "code",
      "metadata": {
        "id": "4TbJoEFFb5kY"
      },
      "source": [
        "model5.compile(loss='mse',\n",
        "              optimizer='adam',\n",
        "              metrics=['mae'])"
      ],
      "execution_count": null,
      "outputs": []
    },
    {
      "cell_type": "code",
      "metadata": {
        "id": "a87ql8N2b-pM",
        "colab": {
          "base_uri": "https://localhost:8080/",
          "height": 487
        },
        "outputId": "36bc4d61-e7f1-4c13-ce51-156cfb78c31d"
      },
      "source": [
        "history5 = model5.fit(\n",
        "      train_generator2,\n",
        "        \n",
        "      epochs=30,\n",
        "      verbose=1,\n",
        "      validation_data = val_generator2,\n",
        "      \n",
        "      callbacks=model5_callbacks)"
      ],
      "execution_count": null,
      "outputs": [
        {
          "output_type": "stream",
          "text": [
            "Epoch 1/30\n",
            "798/798 [==============================] - ETA: 0s - loss: 9.2865 - mae: 0.8750\n",
            "Epoch 00001: val_loss improved from inf to 0.21042, saving model to /colab/My Drive/SelfDrivingCar/model-01-0.21.h5\n",
            "798/798 [==============================] - 250s 313ms/step - loss: 9.2865 - mae: 0.8750 - val_loss: 0.2104 - val_mae: 0.3693\n",
            "Epoch 2/30\n",
            "798/798 [==============================] - ETA: 0s - loss: 0.3818 - mae: 0.4223\n",
            "Epoch 00002: val_loss improved from 0.21042 to 0.09059, saving model to /colab/My Drive/SelfDrivingCar/model-02-0.09.h5\n",
            "798/798 [==============================] - 248s 311ms/step - loss: 0.3818 - mae: 0.4223 - val_loss: 0.0906 - val_mae: 0.1430\n",
            "Epoch 3/30\n",
            "798/798 [==============================] - ETA: 0s - loss: 0.3302 - mae: 0.3738\n",
            "Epoch 00003: val_loss did not improve from 0.09059\n",
            "798/798 [==============================] - 248s 311ms/step - loss: 0.3302 - mae: 0.3738 - val_loss: 0.1497 - val_mae: 0.2833\n",
            "Epoch 4/30\n",
            "798/798 [==============================] - ETA: 0s - loss: 2679.3530 - mae: 6.9931\n",
            "Epoch 00004: val_loss did not improve from 0.09059\n",
            "798/798 [==============================] - 250s 313ms/step - loss: 2679.3530 - mae: 6.9931 - val_loss: 3.7233 - val_mae: 1.9152\n",
            "Epoch 5/30\n",
            "798/798 [==============================] - ETA: 0s - loss: 3.6217 - mae: 1.8484\n",
            "Epoch 00005: val_loss did not improve from 0.09059\n",
            "798/798 [==============================] - 249s 312ms/step - loss: 3.6217 - mae: 1.8484 - val_loss: 2.9395 - val_mae: 1.6988\n",
            "Epoch 6/30\n",
            "798/798 [==============================] - ETA: 0s - loss: 2.7690 - mae: 1.6010\n",
            "Epoch 00006: val_loss did not improve from 0.09059\n",
            "798/798 [==============================] - 249s 312ms/step - loss: 2.7690 - mae: 1.6010 - val_loss: 2.0672 - val_mae: 1.4194\n",
            "Epoch 7/30\n",
            "798/798 [==============================] - ETA: 0s - loss: 1.8823 - mae: 1.2957\n",
            "Epoch 00007: val_loss did not improve from 0.09059\n",
            "798/798 [==============================] - 249s 312ms/step - loss: 1.8823 - mae: 1.2957 - val_loss: 1.2327 - val_mae: 1.0855\n"
          ],
          "name": "stdout"
        }
      ]
    },
    {
      "cell_type": "code",
      "metadata": {
        "id": "cayCdInVcMjo"
      },
      "source": [
        "model5.save('/colab/My Drive/SelfDrivingCar/Dataset/model5-final-save.h5')"
      ],
      "execution_count": null,
      "outputs": []
    },
    {
      "cell_type": "markdown",
      "metadata": {
        "id": "7mw0g51GhM8D"
      },
      "source": [
        "MODEL 6"
      ]
    },
    {
      "cell_type": "code",
      "metadata": {
        "id": "YXaP4Q5khLrh"
      },
      "source": [
        "model6 = tf.keras.models.Sequential([\n",
        "    # This is the first convolution\n",
        "    tf.keras.layers.Conv2D(32, (5,5), activation='relu', input_shape=(300, 300, 3), kernel_regularizer=regularizers.l2(0.001)),\n",
        "    tf.keras.layers.MaxPooling2D(2, 2),\n",
        "    # The second convolution\n",
        "    tf.keras.layers.Conv2D(48, (5,5), activation='relu', kernel_regularizer=regularizers.l2(0.001)),\n",
        "    tf.keras.layers.MaxPooling2D(2,2),\n",
        "    # The third convolution\n",
        "    tf.keras.layers.Conv2D(64, (5,5), activation='relu', kernel_regularizer=regularizers.l2(0.001)),\n",
        "    tf.keras.layers.MaxPooling2D(2,2),\n",
        "    # The fourth convolution\n",
        "    tf.keras.layers.Conv2D(64, (3,3), activation='relu', kernel_regularizer=regularizers.l2(0.001)),\n",
        "    tf.keras.layers.MaxPooling2D(2,2),\n",
        "    # The fifth convolution\n",
        "    tf.keras.layers.Conv2D(64, (3,3), activation='relu', kernel_regularizer=regularizers.l2(0.001)),\n",
        "    tf.keras.layers.MaxPooling2D(2,2),\n",
        "    # Flatten the results to feed into a DNN\n",
        "    tf.keras.layers.Flatten(),\n",
        "    # 512 neuron hidden layer\n",
        "    tf.keras.layers.Dense(512, activation='relu', kernel_regularizer=regularizers.l2(0.001)),\n",
        "    tf.keras.layers.Dropout(0.2),\n",
        "    tf.keras.layers.Dense(256, activation='relu', kernel_regularizer=regularizers.l2(0.001)),\n",
        "    tf.keras.layers.Dropout(0.2),\n",
        "    tf.keras.layers.Dense(128, activation='relu', kernel_regularizer=regularizers.l2(0.001)),\n",
        "    tf.keras.layers.Dropout(0.2),\n",
        "    # Only 1 output neuron.\n",
        "    tf.keras.layers.Dense(1, activation='linear', kernel_regularizer=regularizers.l2(0.001))\n",
        "])"
      ],
      "execution_count": null,
      "outputs": []
    },
    {
      "cell_type": "code",
      "metadata": {
        "id": "_DY3wIZRhJyH",
        "colab": {
          "base_uri": "https://localhost:8080/",
          "height": 756
        },
        "outputId": "baada27d-e619-4f91-c317-b5799d40a686"
      },
      "source": [
        "model6.summary()"
      ],
      "execution_count": null,
      "outputs": [
        {
          "output_type": "stream",
          "text": [
            "Model: \"sequential_22\"\n",
            "_________________________________________________________________\n",
            "Layer (type)                 Output Shape              Param #   \n",
            "=================================================================\n",
            "conv2d_110 (Conv2D)          (None, 296, 296, 32)      2432      \n",
            "_________________________________________________________________\n",
            "max_pooling2d_35 (MaxPooling (None, 148, 148, 32)      0         \n",
            "_________________________________________________________________\n",
            "conv2d_111 (Conv2D)          (None, 144, 144, 48)      38448     \n",
            "_________________________________________________________________\n",
            "max_pooling2d_36 (MaxPooling (None, 72, 72, 48)        0         \n",
            "_________________________________________________________________\n",
            "conv2d_112 (Conv2D)          (None, 68, 68, 64)        76864     \n",
            "_________________________________________________________________\n",
            "max_pooling2d_37 (MaxPooling (None, 34, 34, 64)        0         \n",
            "_________________________________________________________________\n",
            "conv2d_113 (Conv2D)          (None, 32, 32, 64)        36928     \n",
            "_________________________________________________________________\n",
            "max_pooling2d_38 (MaxPooling (None, 16, 16, 64)        0         \n",
            "_________________________________________________________________\n",
            "conv2d_114 (Conv2D)          (None, 14, 14, 64)        36928     \n",
            "_________________________________________________________________\n",
            "max_pooling2d_39 (MaxPooling (None, 7, 7, 64)          0         \n",
            "_________________________________________________________________\n",
            "flatten_22 (Flatten)         (None, 3136)              0         \n",
            "_________________________________________________________________\n",
            "dense_88 (Dense)             (None, 512)               1606144   \n",
            "_________________________________________________________________\n",
            "dropout_42 (Dropout)         (None, 512)               0         \n",
            "_________________________________________________________________\n",
            "dense_89 (Dense)             (None, 256)               131328    \n",
            "_________________________________________________________________\n",
            "dropout_43 (Dropout)         (None, 256)               0         \n",
            "_________________________________________________________________\n",
            "dense_90 (Dense)             (None, 128)               32896     \n",
            "_________________________________________________________________\n",
            "dropout_44 (Dropout)         (None, 128)               0         \n",
            "_________________________________________________________________\n",
            "dense_91 (Dense)             (None, 1)                 129       \n",
            "=================================================================\n",
            "Total params: 1,962,097\n",
            "Trainable params: 1,962,097\n",
            "Non-trainable params: 0\n",
            "_________________________________________________________________\n"
          ],
          "name": "stdout"
        }
      ]
    },
    {
      "cell_type": "code",
      "metadata": {
        "id": "M1uhnehtlpEI",
        "colab": {
          "base_uri": "https://localhost:8080/",
          "height": 34
        },
        "outputId": "354d3607-07b7-4ce6-a70f-2b93b1595ae6"
      },
      "source": [
        "import keras\n",
        "import tensorflow as tf\n",
        "\n",
        "filepath = '/colab/My Drive/SelfDrivingCar/model-{epoch:02d}-{val_loss:.2f}.h5'\n",
        "model6_callbacks =[\n",
        "  keras.callbacks.EarlyStopping(monitor='val_loss', patience=5),\n",
        "  keras.callbacks.ModelCheckpoint(filepath, monitor='val_loss', verbose=1, save_best_only=True, save_weights_only=True, mode='auto', period=1 ),\n",
        "  keras.callbacks.CSVLogger('model-logs.csv', separator=',', append=False )\n",
        "]"
      ],
      "execution_count": null,
      "outputs": [
        {
          "output_type": "stream",
          "text": [
            "WARNING:tensorflow:`period` argument is deprecated. Please use `save_freq` to specify the frequency in number of batches seen.\n"
          ],
          "name": "stdout"
        }
      ]
    },
    {
      "cell_type": "code",
      "metadata": {
        "id": "DorpWwGNluXC"
      },
      "source": [
        "model6.compile(loss='mse',\n",
        "              optimizer='adam',\n",
        "              metrics=['mae'])"
      ],
      "execution_count": null,
      "outputs": []
    },
    {
      "cell_type": "code",
      "metadata": {
        "id": "rmOcwrH7l40F",
        "colab": {
          "base_uri": "https://localhost:8080/",
          "height": 793
        },
        "outputId": "af83c6bd-596c-483c-91b5-16e707cc01c4"
      },
      "source": [
        "history6 = model6.fit(\n",
        "      train_generator2,\n",
        "        \n",
        "      epochs=30,\n",
        "      verbose=1,\n",
        "      validation_data = val_generator2,\n",
        "      \n",
        "      callbacks=model6_callbacks)"
      ],
      "execution_count": null,
      "outputs": [
        {
          "output_type": "stream",
          "text": [
            "Epoch 1/30\n",
            "  2/798 [..............................] - ETA: 1:16 - loss: 2.1492 - mae: 0.5404WARNING:tensorflow:Callbacks method `on_train_batch_end` is slow compared to the batch time (batch time: 0.0725s vs `on_train_batch_end` time: 0.1206s). Check your callbacks.\n",
            "798/798 [==============================] - ETA: 0s - loss: 0.4048 - mae: 0.2447\n",
            "Epoch 00001: val_loss improved from inf to 0.11471, saving model to /colab/My Drive/SelfDrivingCar/model-01-0.11.h5\n",
            "798/798 [==============================] - 270s 338ms/step - loss: 0.4048 - mae: 0.2447 - val_loss: 0.1147 - val_mae: 0.1356\n",
            "Epoch 2/30\n",
            "798/798 [==============================] - ETA: 0s - loss: 0.2580 - mae: 0.2434\n",
            "Epoch 00002: val_loss improved from 0.11471 to 0.09442, saving model to /colab/My Drive/SelfDrivingCar/model-02-0.09.h5\n",
            "798/798 [==============================] - 267s 335ms/step - loss: 0.2580 - mae: 0.2434 - val_loss: 0.0944 - val_mae: 0.1352\n",
            "Epoch 3/30\n",
            "798/798 [==============================] - ETA: 0s - loss: 0.2491 - mae: 0.2434\n",
            "Epoch 00003: val_loss improved from 0.09442 to 0.09123, saving model to /colab/My Drive/SelfDrivingCar/model-03-0.09.h5\n",
            "798/798 [==============================] - 266s 334ms/step - loss: 0.2491 - mae: 0.2434 - val_loss: 0.0912 - val_mae: 0.1352\n",
            "Epoch 4/30\n",
            "798/798 [==============================] - ETA: 0s - loss: 0.2475 - mae: 0.2434\n",
            "Epoch 00004: val_loss improved from 0.09123 to 0.09023, saving model to /colab/My Drive/SelfDrivingCar/model-04-0.09.h5\n",
            "798/798 [==============================] - 264s 331ms/step - loss: 0.2475 - mae: 0.2434 - val_loss: 0.0902 - val_mae: 0.1346\n",
            "Epoch 5/30\n",
            "798/798 [==============================] - ETA: 0s - loss: 0.2471 - mae: 0.2433\n",
            "Epoch 00005: val_loss did not improve from 0.09023\n",
            "798/798 [==============================] - 264s 331ms/step - loss: 0.2471 - mae: 0.2433 - val_loss: 0.0904 - val_mae: 0.1353\n",
            "Epoch 6/30\n",
            "798/798 [==============================] - ETA: 0s - loss: 0.2470 - mae: 0.2433\n",
            "Epoch 00006: val_loss improved from 0.09023 to 0.09023, saving model to /colab/My Drive/SelfDrivingCar/model-06-0.09.h5\n",
            "798/798 [==============================] - 263s 330ms/step - loss: 0.2470 - mae: 0.2433 - val_loss: 0.0902 - val_mae: 0.1350\n",
            "Epoch 7/30\n",
            "798/798 [==============================] - ETA: 0s - loss: 0.2470 - mae: 0.2434\n",
            "Epoch 00007: val_loss did not improve from 0.09023\n",
            "798/798 [==============================] - 264s 331ms/step - loss: 0.2470 - mae: 0.2434 - val_loss: 0.0904 - val_mae: 0.1354\n",
            "Epoch 8/30\n",
            "798/798 [==============================] - ETA: 0s - loss: 0.2470 - mae: 0.2433\n",
            "Epoch 00008: val_loss did not improve from 0.09023\n",
            "798/798 [==============================] - 265s 332ms/step - loss: 0.2470 - mae: 0.2433 - val_loss: 0.0903 - val_mae: 0.1352\n",
            "Epoch 9/30\n",
            "798/798 [==============================] - ETA: 0s - loss: 0.2470 - mae: 0.2433\n",
            "Epoch 00009: val_loss did not improve from 0.09023\n",
            "798/798 [==============================] - 261s 327ms/step - loss: 0.2470 - mae: 0.2433 - val_loss: 0.0907 - val_mae: 0.1360\n",
            "Epoch 10/30\n",
            "798/798 [==============================] - ETA: 0s - loss: 0.2470 - mae: 0.2434\n",
            "Epoch 00010: val_loss did not improve from 0.09023\n",
            "798/798 [==============================] - 259s 325ms/step - loss: 0.2470 - mae: 0.2434 - val_loss: 0.0905 - val_mae: 0.1357\n",
            "Epoch 11/30\n",
            "798/798 [==============================] - ETA: 0s - loss: 0.2470 - mae: 0.2433\n",
            "Epoch 00011: val_loss did not improve from 0.09023\n",
            "798/798 [==============================] - 259s 324ms/step - loss: 0.2470 - mae: 0.2433 - val_loss: 0.0908 - val_mae: 0.1363\n"
          ],
          "name": "stdout"
        }
      ]
    },
    {
      "cell_type": "code",
      "metadata": {
        "id": "0fcyNtB2l_pw"
      },
      "source": [
        "model6.save('/colab/My Drive/SelfDrivingCar/Dataset/model6-final-save.h5')"
      ],
      "execution_count": null,
      "outputs": []
    },
    {
      "cell_type": "markdown",
      "metadata": {
        "id": "AGDlK6IUOLzW"
      },
      "source": [
        "MODEL 7"
      ]
    },
    {
      "cell_type": "code",
      "metadata": {
        "id": "8k4x88fiPRjg",
        "colab": {
          "base_uri": "https://localhost:8080/",
          "height": 50
        },
        "outputId": "f9e36dc5-0c21-4343-be9f-09c7ce6daf36"
      },
      "source": [
        "import keras\n",
        "import tensorflow as tf\n",
        "\n",
        "filepath = '/colab/My Drive/SelfDrivingCar/model-{epoch:02d}-{val_loss:.2f}.h5'\n",
        "model7_callbacks =[\n",
        "  keras.callbacks.EarlyStopping(monitor='val_loss', patience=5),\n",
        "  keras.callbacks.ModelCheckpoint(filepath, monitor='val_loss', verbose=1, save_best_only=True, save_weights_only=True, mode='auto', period=1 ),\n",
        "  keras.callbacks.CSVLogger('model-logs.csv', separator=',', append=False )\n",
        "]"
      ],
      "execution_count": null,
      "outputs": [
        {
          "output_type": "stream",
          "text": [
            "WARNING:tensorflow:`period` argument is deprecated. Please use `save_freq` to specify the frequency in number of batches seen.\n"
          ],
          "name": "stdout"
        },
        {
          "output_type": "stream",
          "text": [
            "WARNING:tensorflow:`period` argument is deprecated. Please use `save_freq` to specify the frequency in number of batches seen.\n"
          ],
          "name": "stderr"
        }
      ]
    },
    {
      "cell_type": "code",
      "metadata": {
        "id": "MWIvMa9dyvx0"
      },
      "source": [
        "model7 = tf.keras.models.Sequential([\n",
        "tf.keras.layers.Conv2D(24, (5, 5), activation = 'relu', strides = (2, 2), input_shape = (300,300,3), kernel_regularizer=regularizers.l2(0.001) ),\n",
        "tf.keras.layers.Conv2D(36, (5, 5), activation = 'relu', strides = (2, 2), kernel_regularizer=regularizers.l2(0.001) ),\n",
        "tf.keras.layers.Conv2D(48, (5, 5), activation = 'relu', strides = (2, 2), kernel_regularizer=regularizers.l2(0.001) ),\n",
        "tf.keras.layers.Conv2D(64, (3, 3), activation = 'relu', kernel_regularizer=regularizers.l2(0.001) ),\n",
        "tf.keras.layers.Conv2D(64, (3, 3), activation = 'relu', kernel_regularizer=regularizers.l2(0.001) ),\n",
        "tf.keras.layers.Dropout(0.5),\n",
        "tf.keras.layers.Flatten(),\n",
        "tf.keras.layers.Dense(256, activation='relu', kernel_regularizer=regularizers.l2(0.001)),\n",
        "tf.keras.layers.Dropout(0.3),\n",
        "tf.keras.layers.Dense(128, activation='relu', kernel_regularizer=regularizers.l2(0.001)),\n",
        "tf.keras.layers.Dropout(0.3),\n",
        "tf.keras.layers.Dense(64, activation='relu', kernel_regularizer=regularizers.l2(0.001)),\n",
        "tf.keras.layers.Dropout(0.2),\n",
        "tf.keras.layers.Dense(32, activation = 'relu', kernel_regularizer=regularizers.l2(0.001)),\n",
        "tf.keras.layers.Dropout(0.2),\n",
        "tf.keras.layers.Dense(1, activation = 'linear',kernel_regularizer=regularizers.l2(0.001))\n",
        "])"
      ],
      "execution_count": null,
      "outputs": []
    },
    {
      "cell_type": "code",
      "metadata": {
        "id": "X4DSCCe6OKpj",
        "colab": {
          "base_uri": "https://localhost:8080/",
          "height": 689
        },
        "outputId": "18593242-9c21-4846-fd36-16f707484c31"
      },
      "source": [
        "model7.summary()"
      ],
      "execution_count": null,
      "outputs": [
        {
          "output_type": "stream",
          "text": [
            "Model: \"sequential_7\"\n",
            "_________________________________________________________________\n",
            "Layer (type)                 Output Shape              Param #   \n",
            "=================================================================\n",
            "conv2d_35 (Conv2D)           (None, 148, 148, 24)      1824      \n",
            "_________________________________________________________________\n",
            "conv2d_36 (Conv2D)           (None, 72, 72, 36)        21636     \n",
            "_________________________________________________________________\n",
            "conv2d_37 (Conv2D)           (None, 34, 34, 48)        43248     \n",
            "_________________________________________________________________\n",
            "conv2d_38 (Conv2D)           (None, 32, 32, 64)        27712     \n",
            "_________________________________________________________________\n",
            "conv2d_39 (Conv2D)           (None, 30, 30, 64)        36928     \n",
            "_________________________________________________________________\n",
            "dropout_35 (Dropout)         (None, 30, 30, 64)        0         \n",
            "_________________________________________________________________\n",
            "flatten_7 (Flatten)          (None, 57600)             0         \n",
            "_________________________________________________________________\n",
            "dense_35 (Dense)             (None, 256)               14745856  \n",
            "_________________________________________________________________\n",
            "dropout_36 (Dropout)         (None, 256)               0         \n",
            "_________________________________________________________________\n",
            "dense_36 (Dense)             (None, 128)               32896     \n",
            "_________________________________________________________________\n",
            "dropout_37 (Dropout)         (None, 128)               0         \n",
            "_________________________________________________________________\n",
            "dense_37 (Dense)             (None, 64)                8256      \n",
            "_________________________________________________________________\n",
            "dropout_38 (Dropout)         (None, 64)                0         \n",
            "_________________________________________________________________\n",
            "dense_38 (Dense)             (None, 32)                2080      \n",
            "_________________________________________________________________\n",
            "dropout_39 (Dropout)         (None, 32)                0         \n",
            "_________________________________________________________________\n",
            "dense_39 (Dense)             (None, 1)                 33        \n",
            "=================================================================\n",
            "Total params: 14,920,469\n",
            "Trainable params: 14,920,469\n",
            "Non-trainable params: 0\n",
            "_________________________________________________________________\n"
          ],
          "name": "stdout"
        }
      ]
    },
    {
      "cell_type": "code",
      "metadata": {
        "id": "ZzMuw9JLPiJf"
      },
      "source": [
        "model7.compile(loss='mse',\n",
        "              optimizer='adam',\n",
        "              metrics=['mae'])"
      ],
      "execution_count": null,
      "outputs": []
    },
    {
      "cell_type": "code",
      "metadata": {
        "id": "eb-rvJ8pPu_p",
        "colab": {
          "base_uri": "https://localhost:8080/",
          "height": 554
        },
        "outputId": "e56bb5c6-3ff3-43f0-86d3-5ca7a782a589"
      },
      "source": [
        "history7 = model7.fit(\n",
        "      train_generator2,\n",
        "        \n",
        "      epochs=30,\n",
        "      verbose=1,\n",
        "      validation_data = val_generator2,\n",
        "      \n",
        "      callbacks=model7_callbacks)"
      ],
      "execution_count": null,
      "outputs": [
        {
          "output_type": "stream",
          "text": [
            "Epoch 1/30\n",
            "798/798 [==============================] - ETA: 0s - loss: 0.3166 - mae: 0.2440\n",
            "Epoch 00001: val_loss improved from inf to 0.09567, saving model to /colab/My Drive/SelfDrivingCar/model-01-0.10.h5\n",
            "798/798 [==============================] - 278s 348ms/step - loss: 0.3166 - mae: 0.2440 - val_loss: 0.0957 - val_mae: 0.1346\n",
            "Epoch 2/30\n",
            "798/798 [==============================] - ETA: 0s - loss: 0.2492 - mae: 0.2434\n",
            "Epoch 00002: val_loss improved from 0.09567 to 0.09097, saving model to /colab/My Drive/SelfDrivingCar/model-02-0.09.h5\n",
            "798/798 [==============================] - 281s 352ms/step - loss: 0.2492 - mae: 0.2434 - val_loss: 0.0910 - val_mae: 0.1351\n",
            "Epoch 3/30\n",
            "798/798 [==============================] - ETA: 0s - loss: 0.2473 - mae: 0.2434\n",
            "Epoch 00003: val_loss improved from 0.09097 to 0.09015, saving model to /colab/My Drive/SelfDrivingCar/model-03-0.09.h5\n",
            "798/798 [==============================] - 282s 353ms/step - loss: 0.2473 - mae: 0.2434 - val_loss: 0.0901 - val_mae: 0.1346\n",
            "Epoch 4/30\n",
            "798/798 [==============================] - ETA: 0s - loss: 0.2470 - mae: 0.2433\n",
            "Epoch 00004: val_loss did not improve from 0.09015\n",
            "798/798 [==============================] - 284s 356ms/step - loss: 0.2470 - mae: 0.2433 - val_loss: 0.0905 - val_mae: 0.1354\n",
            "Epoch 5/30\n",
            "798/798 [==============================] - ETA: 0s - loss: 0.2470 - mae: 0.2433\n",
            "Epoch 00005: val_loss did not improve from 0.09015\n",
            "798/798 [==============================] - 278s 349ms/step - loss: 0.2470 - mae: 0.2433 - val_loss: 0.0903 - val_mae: 0.1352\n",
            "Epoch 6/30\n",
            "798/798 [==============================] - ETA: 0s - loss: 0.2470 - mae: 0.2433\n",
            "Epoch 00006: val_loss did not improve from 0.09015\n",
            "798/798 [==============================] - 275s 345ms/step - loss: 0.2470 - mae: 0.2433 - val_loss: 0.0915 - val_mae: 0.1382\n",
            "Epoch 7/30\n",
            "798/798 [==============================] - ETA: 0s - loss: 0.2470 - mae: 0.2434\n",
            "Epoch 00007: val_loss did not improve from 0.09015\n",
            "798/798 [==============================] - 275s 344ms/step - loss: 0.2470 - mae: 0.2434 - val_loss: 0.0911 - val_mae: 0.1369\n",
            "Epoch 8/30\n",
            "798/798 [==============================] - ETA: 0s - loss: 0.2470 - mae: 0.2434\n",
            "Epoch 00008: val_loss did not improve from 0.09015\n",
            "798/798 [==============================] - 281s 352ms/step - loss: 0.2470 - mae: 0.2434 - val_loss: 0.0910 - val_mae: 0.1368\n"
          ],
          "name": "stdout"
        }
      ]
    },
    {
      "cell_type": "code",
      "metadata": {
        "id": "FMIgJOxAP4Tk"
      },
      "source": [
        ""
      ],
      "execution_count": null,
      "outputs": []
    },
    {
      "cell_type": "markdown",
      "metadata": {
        "id": "l_U7xE9AoTUw"
      },
      "source": [
        "NEW MODEL"
      ]
    },
    {
      "cell_type": "code",
      "metadata": {
        "id": "z8f6WZ-qoU0w"
      },
      "source": [
        "'''\n",
        "model8 = tf.keras.models.Sequential([\n",
        "tf.keras.layers.Conv2D(36, (5, 5), activation = 'relu', strides = (2, 2), input_shape = (224,224,3)),\n",
        "tf.keras.layers.Conv2D(48, (5, 5), activation = 'relu', strides = (2, 2)),\n",
        "tf.keras.layers.Conv2D(64, (3, 3), activation = 'relu', strides = (2, 2)),\n",
        "tf.keras.layers.Flatten(),\n",
        "tf.keras.layers.Dropout(0.5),\n",
        "tf.keras.layers.Dense(128, activation='relu'),\n",
        "tf.keras.layers.Dropout(0.2),\n",
        "tf.keras.layers.Dense(64, activation='relu'),\n",
        "tf.keras.layers.Dropout(0.2),\n",
        "tf.keras.layers.Dense(32, activation = 'relu'),\n",
        "tf.keras.layers.Dropout(0.2),\n",
        "tf.keras.layers.Dense(1, activation = 'linear')\n",
        "])\n",
        "\n",
        "from keras.applications.resnet50 import ResNet50\n",
        "from tensorflow.keras import Model\n",
        "# load model\n",
        "model = ResNet50(weights='imagenet', include_top=False, input_shape=(224, 224, 3))\n",
        "\n",
        "# example of loading the inception v3 model\n",
        "# from keras.applications.inception_v3 import InceptionV3\n",
        "# load model\n",
        "# model = InceptionV3(include_top=False, input_shape=(224, 224, 3))\n",
        "# summarize the model\n",
        "model.summary()\n",
        "\n",
        "\n",
        "for layer in model.layers:\n",
        "  layer.trainable = False\n",
        "y = model.output\n",
        "y = Flatten()(y)\n",
        "y = Dropout(0.5)(y)\n",
        "y = Dense(128, activation = 'relu')(y)\n",
        "y = Dropout(0.2)(y)\n",
        "y = Dense(64, activation = 'relu')(y)\n",
        "y = Dropout(0.2)(y)\n",
        "y = Dense(1, activation='linear')(y)\n",
        "model = Model(inputs=model.input, outputs=y)\n",
        "\n",
        "model = Sequential()\n",
        "model.add(Conv2D(24,[5,5],activation='relu',input_shape=[224,224,3],strides=[2,2],kernel_regularizer=regularizers.l2(0.001)))\n",
        "model.add(Conv2D(36,[5,5],activation='relu',strides = [2,2],kernel_regularizer=regularizers.l2(0.001)))\n",
        "model.add(Conv2D(48,[5,5],activation='relu',strides = [2,2],kernel_regularizer=regularizers.l2(0.001)))\n",
        "model.add(Conv2D(64,[3,3],activation='relu',kernel_regularizer=regularizers.l2(0.001)))\n",
        "model.add(Conv2D(64,[3,3],activation='relu',kernel_regularizer=regularizers.l2(0.001)))\n",
        "model.add(Flatten())\n",
        "model.add(Dense(128,activation='relu',kernel_regularizer=regularizers.l2(0.001)))\n",
        "model.add(Dropout(0.2))\n",
        "model.add(Dense(64,activation='relu',kernel_regularizer=regularizers.l2(0.001)))\n",
        "model.add(Dropout(0.2))\n",
        "model.add(Dense(24,activation='relu',kernel_regularizer=regularizers.l2(0.001)))\n",
        "model.add(Dropout(0.2))\n",
        "model.add(Dense(1,activation='linear',kernel_regularizer=regularizers.l2(0.001)))\n",
        "'''\n",
        "model = tf.keras.models.Sequential([\n",
        "tf.keras.layers.Conv2D(36, (5, 5), activation = 'selu', strides = (2, 2), kernel_regularizer=regularizers.l2(0.001), input_shape = (224,224,3) ),\n",
        "tf.keras.layers.Conv2D(48, (5, 5), activation = 'selu', strides = (2, 2), kernel_regularizer=regularizers.l2(0.001) ),\n",
        "tf.keras.layers.MaxPooling2D(2,2),\n",
        "tf.keras.layers.Conv2D(64, (3, 3), activation = 'selu', kernel_regularizer=regularizers.l2(0.001) ),\n",
        "tf.keras.layers.Conv2D(64, (3, 3), activation = 'selu', kernel_regularizer=regularizers.l2(0.001) ),\n",
        "tf.keras.layers.Dropout(0.5),\n",
        "tf.keras.layers.Flatten(),\n",
        "tf.keras.layers.Dense(128, activation='selu', kernel_regularizer=regularizers.l2(0.001)),\n",
        "tf.keras.layers.Dropout(0.2),\n",
        "tf.keras.layers.Dense(64, activation='selu', kernel_regularizer=regularizers.l2(0.001)),\n",
        "tf.keras.layers.Dropout(0.2),\n",
        "tf.keras.layers.Dense(1, activation = 'linear',kernel_regularizer=regularizers.l2(0.001))\n",
        "])"
      ],
      "execution_count": null,
      "outputs": []
    },
    {
      "cell_type": "code",
      "metadata": {
        "id": "hAlKLcnJBNQ_"
      },
      "source": [
        "model = tf.keras.models.Sequential([\n",
        "tf.keras.layers.Conv2D(36, (5, 5), activation = 'selu', strides = (1, 1), kernel_regularizer=regularizers.l2(0.001), input_shape = (224,224,3) ),\n",
        "tf.keras.layers.MaxPooling2D(2,2),\n",
        "tf.keras.layers.Conv2D(48, (5, 5), activation = 'selu', strides = (1, 1), kernel_regularizer=regularizers.l2(0.001) ),\n",
        "tf.keras.layers.MaxPooling2D(2,2),\n",
        "tf.keras.layers.Conv2D(64, (3, 3), activation = 'selu', kernel_regularizer=regularizers.l2(0.001) ),\n",
        "tf.keras.layers.MaxPooling2D(2,2),\n",
        "tf.keras.layers.Conv2D(64, (3, 3), activation = 'selu', kernel_regularizer=regularizers.l2(0.001) ),\n",
        "tf.keras.layers.Dropout(0.5),\n",
        "tf.keras.layers.Flatten(),\n",
        "tf.keras.layers.Dense(128, activation='selu', kernel_regularizer=regularizers.l2(0.001)),\n",
        "tf.keras.layers.Dropout(0.2),\n",
        "tf.keras.layers.Dense(64, activation='selu', kernel_regularizer=regularizers.l2(0.001)),\n",
        "tf.keras.layers.Dropout(0.2),\n",
        "tf.keras.layers.Dense(1, activation = 'linear',kernel_regularizer=regularizers.l2(0.001))\n",
        "])"
      ],
      "execution_count": null,
      "outputs": []
    },
    {
      "cell_type": "code",
      "metadata": {
        "id": "AwpzIibTRtnJ"
      },
      "source": [
        "#  MUCH BETTER\n",
        "model = tf.keras.models.Sequential([\n",
        "tf.keras.layers.Conv2D(36, (5, 5), activation = 'elu', strides = (1, 1), input_shape = (224,224,3) ),\n",
        "tf.keras.layers.MaxPooling2D(2,2),\n",
        "tf.keras.layers.Conv2D(48, (5, 5), activation = 'elu', strides = (1, 1), ),\n",
        "tf.keras.layers.MaxPooling2D(2,2),\n",
        "tf.keras.layers.Conv2D(64, (3, 3), activation = 'elu' ),\n",
        "tf.keras.layers.MaxPooling2D(2,2),\n",
        "tf.keras.layers.Conv2D(128, (3, 3), activation = 'elu', ),\n",
        "tf.keras.layers.MaxPooling2D(2,2),\n",
        "tf.keras.layers.Conv2D(256, (3, 3), activation = 'elu', ),\n",
        "tf.keras.layers.Dropout(0.2),\n",
        "tf.keras.layers.Flatten(),\n",
        "tf.keras.layers.Dense(256, activation='elu'),\n",
        "tf.keras.layers.Dropout(0.2),\n",
        "tf.keras.layers.Dense(128, activation='elu'),\n",
        "tf.keras.layers.Dropout(0.2),\n",
        "tf.keras.layers.Dense(64, activation='elu'),\n",
        "tf.keras.layers.Dropout(0.2),\n",
        "tf.keras.layers.Dense(1, activation = 'linear')\n",
        "])"
      ],
      "execution_count": null,
      "outputs": []
    },
    {
      "cell_type": "code",
      "metadata": {
        "id": "dDyvjDrqfE8S"
      },
      "source": [
        "# Much better 2\n",
        "model = tf.keras.models.Sequential([\n",
        "tf.keras.layers.Conv2D(36, (5, 5), activation = 'elu', strides = (1, 1), input_shape = (224,224,3) ),\n",
        "tf.keras.layers.MaxPooling2D(2,2),\n",
        "tf.keras.layers.Conv2D(48, (5, 5), activation = 'elu', strides = (1, 1), ),\n",
        "tf.keras.layers.MaxPooling2D(2,2),\n",
        "tf.keras.layers.Conv2D(64, (3, 3), activation = 'elu' ),\n",
        "tf.keras.layers.MaxPooling2D(2,2),\n",
        "tf.keras.layers.Conv2D(128, (3, 3), activation = 'elu', ),\n",
        "tf.keras.layers.MaxPooling2D(2,2),\n",
        "tf.keras.layers.Conv2D(256, (3, 3), activation = 'elu', ),\n",
        "tf.keras.layers.Dropout(0.2),\n",
        "tf.keras.layers.Flatten(),\n",
        "tf.keras.layers.Dense(512, activation='elu'),\n",
        "tf.keras.layers.Dropout(0.2),\n",
        "tf.keras.layers.Dense(256, activation='elu'),\n",
        "tf.keras.layers.Dropout(0.2),\n",
        "tf.keras.layers.Dense(128, activation='elu'),\n",
        "tf.keras.layers.Dropout(0.2),\n",
        "tf.keras.layers.Dense(64, activation='elu'),\n",
        "tf.keras.layers.Dropout(0.2),\n",
        "tf.keras.layers.Dense(1, activation = 'linear')\n",
        "])"
      ],
      "execution_count": null,
      "outputs": []
    },
    {
      "cell_type": "code",
      "metadata": {
        "id": "QyHQnhDzoEkz"
      },
      "source": [
        "# best (06) model val loss\n",
        "model = tf.keras.models.Sequential([\n",
        "tf.keras.layers.Conv2D(36, (5, 5), activation = 'elu', strides = (1, 1), input_shape = (224,224,3) ),\n",
        "tf.keras.layers.MaxPooling2D(2,2),\n",
        "tf.keras.layers.Conv2D(48, (5, 5), activation = 'elu', strides = (1, 1), ),\n",
        "tf.keras.layers.MaxPooling2D(2,2),\n",
        "tf.keras.layers.Conv2D(64, (3, 3), activation = 'elu' ),\n",
        "tf.keras.layers.MaxPooling2D(2,2),\n",
        "tf.keras.layers.Conv2D(128, (3, 3), activation = 'elu', ),\n",
        "tf.keras.layers.MaxPooling2D(2,2),\n",
        "tf.keras.layers.Conv2D(256, (3, 3), activation = 'elu', ),\n",
        "tf.keras.layers.MaxPooling2D(2,2),\n",
        "tf.keras.layers.Conv2D(1024, (3, 3), activation = 'elu', ),\n",
        "tf.keras.layers.MaxPooling2D(2,2),\n",
        "tf.keras.layers.Dropout(0.2),\n",
        "tf.keras.layers.Flatten(),\n",
        "tf.keras.layers.Dense(512, activation='elu'),\n",
        "tf.keras.layers.Dropout(0.2),\n",
        "tf.keras.layers.Dense(256, activation='elu'),\n",
        "tf.keras.layers.Dropout(0.2),\n",
        "tf.keras.layers.Dense(128, activation='elu'),\n",
        "tf.keras.layers.Dropout(0.2),\n",
        "tf.keras.layers.Dense(1, activation = 'linear')\n",
        "])"
      ],
      "execution_count": null,
      "outputs": []
    },
    {
      "cell_type": "code",
      "metadata": {
        "id": "ZSv-4XA98F8w"
      },
      "source": [
        "# bestest ever\n",
        "model = tf.keras.models.Sequential([\n",
        "tf.keras.layers.Conv2D(36, (5, 5), activation = 'elu', strides = (1, 1), input_shape = (224,224,3) ),\n",
        "tf.keras.layers.MaxPooling2D(2,2),\n",
        "tf.keras.layers.Conv2D(48, (5, 5), activation = 'elu', strides = (1, 1), ),\n",
        "tf.keras.layers.MaxPooling2D(2,2),\n",
        "tf.keras.layers.Conv2D(64, (3, 3), activation = 'elu' ),\n",
        "tf.keras.layers.MaxPooling2D(2,2),\n",
        "tf.keras.layers.Conv2D(128, (3, 3), activation = 'elu', ),\n",
        "tf.keras.layers.MaxPooling2D(2,2),\n",
        "tf.keras.layers.Conv2D(256, (3, 3), activation = 'elu'),\n",
        "tf.keras.layers.MaxPooling2D(2,2),\n",
        "tf.keras.layers.Conv2D(1024, (3, 3), activation = 'elu', kernel_regularizer=regularizers.l2(0.001)),\n",
        "tf.keras.layers.Dropout(0.2),\n",
        "tf.keras.layers.Flatten(),\n",
        "tf.keras.layers.Dense(512, activation='elu'),\n",
        "tf.keras.layers.Dropout(0.2),\n",
        "tf.keras.layers.Dense(256, activation='elu'),\n",
        "tf.keras.layers.Dropout(0.2),\n",
        "tf.keras.layers.Dense(128, activation='elu'),\n",
        "tf.keras.layers.Dropout(0.2),\n",
        "tf.keras.layers.Dense(1, activation = 'linear')\n",
        "])"
      ],
      "execution_count": null,
      "outputs": []
    },
    {
      "cell_type": "code",
      "metadata": {
        "id": "8uVOgi7jowE9",
        "colab": {
          "base_uri": "https://localhost:8080/",
          "height": 823
        },
        "outputId": "92686407-455a-4795-b977-4ee663cba0c4"
      },
      "source": [
        "model.summary()"
      ],
      "execution_count": null,
      "outputs": [
        {
          "output_type": "stream",
          "text": [
            "Model: \"sequential\"\n",
            "_________________________________________________________________\n",
            "Layer (type)                 Output Shape              Param #   \n",
            "=================================================================\n",
            "conv2d (Conv2D)              (None, 220, 220, 36)      2736      \n",
            "_________________________________________________________________\n",
            "max_pooling2d (MaxPooling2D) (None, 110, 110, 36)      0         \n",
            "_________________________________________________________________\n",
            "conv2d_1 (Conv2D)            (None, 106, 106, 48)      43248     \n",
            "_________________________________________________________________\n",
            "max_pooling2d_1 (MaxPooling2 (None, 53, 53, 48)        0         \n",
            "_________________________________________________________________\n",
            "conv2d_2 (Conv2D)            (None, 51, 51, 64)        27712     \n",
            "_________________________________________________________________\n",
            "max_pooling2d_2 (MaxPooling2 (None, 25, 25, 64)        0         \n",
            "_________________________________________________________________\n",
            "conv2d_3 (Conv2D)            (None, 23, 23, 128)       73856     \n",
            "_________________________________________________________________\n",
            "max_pooling2d_3 (MaxPooling2 (None, 11, 11, 128)       0         \n",
            "_________________________________________________________________\n",
            "conv2d_4 (Conv2D)            (None, 9, 9, 256)         295168    \n",
            "_________________________________________________________________\n",
            "max_pooling2d_4 (MaxPooling2 (None, 4, 4, 256)         0         \n",
            "_________________________________________________________________\n",
            "conv2d_5 (Conv2D)            (None, 2, 2, 1024)        2360320   \n",
            "_________________________________________________________________\n",
            "dropout (Dropout)            (None, 2, 2, 1024)        0         \n",
            "_________________________________________________________________\n",
            "flatten (Flatten)            (None, 4096)              0         \n",
            "_________________________________________________________________\n",
            "dense (Dense)                (None, 512)               2097664   \n",
            "_________________________________________________________________\n",
            "dropout_1 (Dropout)          (None, 512)               0         \n",
            "_________________________________________________________________\n",
            "dense_1 (Dense)              (None, 256)               131328    \n",
            "_________________________________________________________________\n",
            "dropout_2 (Dropout)          (None, 256)               0         \n",
            "_________________________________________________________________\n",
            "dense_2 (Dense)              (None, 128)               32896     \n",
            "_________________________________________________________________\n",
            "dropout_3 (Dropout)          (None, 128)               0         \n",
            "_________________________________________________________________\n",
            "dense_3 (Dense)              (None, 1)                 129       \n",
            "=================================================================\n",
            "Total params: 5,065,057\n",
            "Trainable params: 5,065,057\n",
            "Non-trainable params: 0\n",
            "_________________________________________________________________\n"
          ],
          "name": "stdout"
        }
      ]
    },
    {
      "cell_type": "code",
      "metadata": {
        "id": "pUYqHF5Koz0A",
        "colab": {
          "base_uri": "https://localhost:8080/",
          "height": 34
        },
        "outputId": "bd9c2450-eaec-4cfd-8bcd-873577860368"
      },
      "source": [
        "import keras\n",
        "import tensorflow as tf\n",
        "\n",
        "filepath = '/colab/My Drive/SelfDrivingCar/model-{epoch:02d}-{val_loss:.2f}.h5'\n",
        "model_callbacks =[\n",
        "  keras.callbacks.EarlyStopping(monitor='val_loss', patience=8),\n",
        "  keras.callbacks.ModelCheckpoint(filepath, monitor='val_loss', verbose=1, save_best_only=False, save_weights_only=True, mode='auto', period=1 ),\n",
        "  keras.callbacks.CSVLogger('model-logs.csv', separator=',', append=False )\n",
        "]"
      ],
      "execution_count": null,
      "outputs": [
        {
          "output_type": "stream",
          "text": [
            "WARNING:tensorflow:`period` argument is deprecated. Please use `save_freq` to specify the frequency in number of batches seen.\n"
          ],
          "name": "stdout"
        }
      ]
    },
    {
      "cell_type": "code",
      "metadata": {
        "id": "CBCehPh3pTY1"
      },
      "source": [
        "model.compile(loss='mse',\n",
        "              optimizer='adam',\n",
        "              metrics=['mae'])"
      ],
      "execution_count": null,
      "outputs": []
    },
    {
      "cell_type": "code",
      "metadata": {
        "id": "z7m1knaTpbC7",
        "colab": {
          "base_uri": "https://localhost:8080/",
          "height": 420
        },
        "outputId": "6fde723d-ecf3-4346-dc5f-0f6bc249312e"
      },
      "source": [
        "# MUCH BETTER (connect) train\n",
        "history8 = model.fit(\n",
        "      train_generator,\n",
        "        \n",
        "      epochs=30,\n",
        "      verbose=1,\n",
        "      validation_data = val_generator,\n",
        "      \n",
        "      callbacks=model_callbacks)"
      ],
      "execution_count": null,
      "outputs": [
        {
          "output_type": "stream",
          "text": [
            "Epoch 1/30\n",
            "798/798 [==============================] - ETA: 0s - loss: 0.5726 - mae: 0.3486\n",
            "Epoch 00001: saving model to /colab/My Drive/SelfDrivingCar/model-01-0.10.h5\n",
            "798/798 [==============================] - 216s 270ms/step - loss: 0.5726 - mae: 0.3486 - val_loss: 0.1000 - val_mae: 0.1763\n",
            "Epoch 2/30\n",
            "798/798 [==============================] - ETA: 0s - loss: 0.1489 - mae: 0.2243\n",
            "Epoch 00002: saving model to /colab/My Drive/SelfDrivingCar/model-02-0.12.h5\n",
            "798/798 [==============================] - 214s 269ms/step - loss: 0.1489 - mae: 0.2243 - val_loss: 0.1232 - val_mae: 0.2130\n",
            "Epoch 3/30\n",
            "798/798 [==============================] - ETA: 0s - loss: 0.1119 - mae: 0.2113\n",
            "Epoch 00003: saving model to /colab/My Drive/SelfDrivingCar/model-03-0.11.h5\n",
            "798/798 [==============================] - 215s 269ms/step - loss: 0.1119 - mae: 0.2113 - val_loss: 0.1062 - val_mae: 0.1919\n",
            "Epoch 4/30\n",
            "798/798 [==============================] - ETA: 0s - loss: 0.0796 - mae: 0.1892\n",
            "Epoch 00004: saving model to /colab/My Drive/SelfDrivingCar/model-04-0.14.h5\n",
            "798/798 [==============================] - 215s 269ms/step - loss: 0.0796 - mae: 0.1892 - val_loss: 0.1429 - val_mae: 0.2307\n",
            "Epoch 5/30\n",
            "798/798 [==============================] - ETA: 0s - loss: 0.0652 - mae: 0.1741\n",
            "Epoch 00005: saving model to /colab/My Drive/SelfDrivingCar/model-05-0.12.h5\n",
            "798/798 [==============================] - 214s 268ms/step - loss: 0.0652 - mae: 0.1741 - val_loss: 0.1203 - val_mae: 0.2057\n",
            "Epoch 6/30\n",
            "798/798 [==============================] - ETA: 0s - loss: 0.0610 - mae: 0.1671\n",
            "Epoch 00006: saving model to /colab/My Drive/SelfDrivingCar/model-06-0.11.h5\n",
            "798/798 [==============================] - 214s 268ms/step - loss: 0.0610 - mae: 0.1671 - val_loss: 0.1120 - val_mae: 0.1975\n"
          ],
          "name": "stdout"
        }
      ]
    },
    {
      "cell_type": "code",
      "metadata": {
        "id": "_L-CKPoLfZBz",
        "colab": {
          "base_uri": "https://localhost:8080/",
          "height": 487
        },
        "outputId": "88f18b6e-994b-4af5-95ff-0d95981cc8e1"
      },
      "source": [
        "# MUCH BETTER 2 (connect) train\n",
        "history8 = model.fit(\n",
        "      train_generator,\n",
        "        \n",
        "      epochs=30,\n",
        "      verbose=1,\n",
        "      validation_data = val_generator,\n",
        "      \n",
        "      callbacks=model_callbacks)"
      ],
      "execution_count": null,
      "outputs": [
        {
          "output_type": "stream",
          "text": [
            "Epoch 1/30\n",
            "798/798 [==============================] - ETA: 0s - loss: 1.2217 - mae: 0.6206\n",
            "Epoch 00001: saving model to /colab/My Drive/SelfDrivingCar/model-01-0.09.h5\n",
            "798/798 [==============================] - 215s 269ms/step - loss: 1.2217 - mae: 0.6206 - val_loss: 0.0907 - val_mae: 0.1417\n",
            "Epoch 2/30\n",
            "798/798 [==============================] - ETA: 0s - loss: 0.3266 - mae: 0.3701\n",
            "Epoch 00002: saving model to /colab/My Drive/SelfDrivingCar/model-02-0.09.h5\n",
            "798/798 [==============================] - 217s 272ms/step - loss: 0.3266 - mae: 0.3701 - val_loss: 0.0871 - val_mae: 0.1308\n",
            "Epoch 3/30\n",
            "798/798 [==============================] - ETA: 0s - loss: 0.2571 - mae: 0.3072\n",
            "Epoch 00003: saving model to /colab/My Drive/SelfDrivingCar/model-03-0.10.h5\n",
            "798/798 [==============================] - 217s 272ms/step - loss: 0.2571 - mae: 0.3072 - val_loss: 0.1027 - val_mae: 0.1787\n",
            "Epoch 4/30\n",
            "798/798 [==============================] - ETA: 0s - loss: 0.1569 - mae: 0.2452\n",
            "Epoch 00004: saving model to /colab/My Drive/SelfDrivingCar/model-04-0.15.h5\n",
            "798/798 [==============================] - 217s 272ms/step - loss: 0.1569 - mae: 0.2452 - val_loss: 0.1499 - val_mae: 0.2176\n",
            "Epoch 5/30\n",
            "798/798 [==============================] - ETA: 0s - loss: 0.0982 - mae: 0.2037\n",
            "Epoch 00005: saving model to /colab/My Drive/SelfDrivingCar/model-05-0.18.h5\n",
            "798/798 [==============================] - 215s 269ms/step - loss: 0.0982 - mae: 0.2037 - val_loss: 0.1754 - val_mae: 0.2475\n",
            "Epoch 6/30\n",
            "798/798 [==============================] - ETA: 0s - loss: 0.0686 - mae: 0.1735\n",
            "Epoch 00006: saving model to /colab/My Drive/SelfDrivingCar/model-06-0.20.h5\n",
            "798/798 [==============================] - 215s 269ms/step - loss: 0.0686 - mae: 0.1735 - val_loss: 0.2015 - val_mae: 0.2269\n",
            "Epoch 7/30\n",
            "798/798 [==============================] - ETA: 0s - loss: 0.0569 - mae: 0.1559\n",
            "Epoch 00007: saving model to /colab/My Drive/SelfDrivingCar/model-07-0.20.h5\n",
            "798/798 [==============================] - 216s 270ms/step - loss: 0.0569 - mae: 0.1559 - val_loss: 0.1993 - val_mae: 0.2337\n"
          ],
          "name": "stdout"
        }
      ]
    },
    {
      "cell_type": "code",
      "metadata": {
        "id": "uoVFZmvrpjUN",
        "colab": {
          "base_uri": "https://localhost:8080/",
          "height": 1000
        },
        "outputId": "4d9c0f35-e005-4709-857f-bccbc2b57453"
      },
      "source": [
        "# Best (06) waala\n",
        "history8 = model.fit(\n",
        "      train_generator,\n",
        "        \n",
        "      epochs=30,\n",
        "      verbose=1,\n",
        "      validation_data = val_generator,\n",
        "      \n",
        "      callbacks=model_callbacks)"
      ],
      "execution_count": null,
      "outputs": [
        {
          "output_type": "stream",
          "text": [
            "Epoch 1/30\n",
            "798/798 [==============================] - ETA: 0s - loss: 0.1866 - mae: 0.2337\n",
            "Epoch 00001: saving model to /colab/My Drive/SelfDrivingCar/model-01-0.12.h5\n",
            "798/798 [==============================] - 217s 272ms/step - loss: 0.1866 - mae: 0.2337 - val_loss: 0.1190 - val_mae: 0.2214\n",
            "Epoch 2/30\n",
            "798/798 [==============================] - ETA: 0s - loss: 0.0843 - mae: 0.1849\n",
            "Epoch 00002: saving model to /colab/My Drive/SelfDrivingCar/model-02-0.14.h5\n",
            "798/798 [==============================] - 217s 272ms/step - loss: 0.0843 - mae: 0.1849 - val_loss: 0.1438 - val_mae: 0.2464\n",
            "Epoch 3/30\n",
            "798/798 [==============================] - ETA: 0s - loss: 0.0456 - mae: 0.1448\n",
            "Epoch 00003: saving model to /colab/My Drive/SelfDrivingCar/model-03-0.11.h5\n",
            "798/798 [==============================] - 216s 271ms/step - loss: 0.0456 - mae: 0.1448 - val_loss: 0.1136 - val_mae: 0.1912\n",
            "Epoch 4/30\n",
            "798/798 [==============================] - ETA: 0s - loss: 0.0393 - mae: 0.1334\n",
            "Epoch 00004: saving model to /colab/My Drive/SelfDrivingCar/model-04-0.10.h5\n",
            "798/798 [==============================] - 217s 271ms/step - loss: 0.0393 - mae: 0.1334 - val_loss: 0.0996 - val_mae: 0.1826\n",
            "Epoch 5/30\n",
            "798/798 [==============================] - ETA: 0s - loss: 0.0405 - mae: 0.1342\n",
            "Epoch 00005: saving model to /colab/My Drive/SelfDrivingCar/model-05-0.10.h5\n",
            "798/798 [==============================] - 218s 273ms/step - loss: 0.0405 - mae: 0.1342 - val_loss: 0.1032 - val_mae: 0.1684\n",
            "Epoch 6/30\n",
            "798/798 [==============================] - ETA: 0s - loss: 0.0430 - mae: 0.1366\n",
            "Epoch 00006: saving model to /colab/My Drive/SelfDrivingCar/model-06-0.12.h5\n",
            "798/798 [==============================] - 217s 272ms/step - loss: 0.0430 - mae: 0.1366 - val_loss: 0.1214 - val_mae: 0.2110\n",
            "Epoch 7/30\n",
            "798/798 [==============================] - ETA: 0s - loss: 718.9471 - mae: 2.9666\n",
            "Epoch 00007: saving model to /colab/My Drive/SelfDrivingCar/model-07-0.10.h5\n",
            "798/798 [==============================] - 216s 271ms/step - loss: 718.9471 - mae: 2.9666 - val_loss: 0.0981 - val_mae: 0.1578\n",
            "Epoch 8/30\n",
            "798/798 [==============================] - ETA: 0s - loss: 0.4036 - mae: 0.4271\n",
            "Epoch 00008: saving model to /colab/My Drive/SelfDrivingCar/model-08-0.10.h5\n",
            "798/798 [==============================] - 214s 269ms/step - loss: 0.4036 - mae: 0.4271 - val_loss: 0.0989 - val_mae: 0.1631\n",
            "Epoch 9/30\n",
            "798/798 [==============================] - ETA: 0s - loss: 0.3721 - mae: 0.4046\n",
            "Epoch 00009: saving model to /colab/My Drive/SelfDrivingCar/model-09-0.10.h5\n",
            "798/798 [==============================] - 212s 266ms/step - loss: 0.3721 - mae: 0.4046 - val_loss: 0.0962 - val_mae: 0.1543\n",
            "Epoch 10/30\n",
            "798/798 [==============================] - ETA: 0s - loss: 0.3553 - mae: 0.3918\n",
            "Epoch 00010: saving model to /colab/My Drive/SelfDrivingCar/model-10-0.09.h5\n",
            "798/798 [==============================] - 212s 266ms/step - loss: 0.3553 - mae: 0.3918 - val_loss: 0.0938 - val_mae: 0.1462\n",
            "Epoch 11/30\n",
            "798/798 [==============================] - ETA: 0s - loss: 0.3451 - mae: 0.3844\n",
            "Epoch 00011: saving model to /colab/My Drive/SelfDrivingCar/model-11-0.09.h5\n",
            "798/798 [==============================] - 212s 266ms/step - loss: 0.3451 - mae: 0.3844 - val_loss: 0.0935 - val_mae: 0.1455\n",
            "Epoch 12/30\n",
            "798/798 [==============================] - ETA: 0s - loss: 0.3413 - mae: 0.3806\n",
            "Epoch 00012: saving model to /colab/My Drive/SelfDrivingCar/model-12-0.09.h5\n",
            "798/798 [==============================] - 212s 265ms/step - loss: 0.3413 - mae: 0.3806 - val_loss: 0.0922 - val_mae: 0.1406\n",
            "Epoch 13/30\n",
            "798/798 [==============================] - ETA: 0s - loss: 0.3331 - mae: 0.3740\n",
            "Epoch 00013: saving model to /colab/My Drive/SelfDrivingCar/model-13-0.09.h5\n",
            "798/798 [==============================] - 212s 266ms/step - loss: 0.3331 - mae: 0.3740 - val_loss: 0.0916 - val_mae: 0.1384\n",
            "Epoch 14/30\n",
            "798/798 [==============================] - ETA: 0s - loss: 0.3294 - mae: 0.3704\n",
            "Epoch 00014: saving model to /colab/My Drive/SelfDrivingCar/model-14-0.09.h5\n",
            "798/798 [==============================] - 212s 266ms/step - loss: 0.3294 - mae: 0.3704 - val_loss: 0.0915 - val_mae: 0.1382\n",
            "Epoch 15/30\n",
            "798/798 [==============================] - ETA: 0s - loss: 0.3290 - mae: 0.3675\n",
            "Epoch 00015: saving model to /colab/My Drive/SelfDrivingCar/model-15-0.09.h5\n",
            "798/798 [==============================] - 212s 265ms/step - loss: 0.3290 - mae: 0.3675 - val_loss: 0.0916 - val_mae: 0.1386\n",
            "Epoch 16/30\n",
            "798/798 [==============================] - ETA: 0s - loss: 0.3226 - mae: 0.3626\n",
            "Epoch 00016: saving model to /colab/My Drive/SelfDrivingCar/model-16-0.09.h5\n",
            "798/798 [==============================] - 212s 266ms/step - loss: 0.3226 - mae: 0.3626 - val_loss: 0.0919 - val_mae: 0.1395\n",
            "Epoch 17/30\n",
            "798/798 [==============================] - ETA: 0s - loss: 0.3168 - mae: 0.3583\n",
            "Epoch 00017: saving model to /colab/My Drive/SelfDrivingCar/model-17-0.09.h5\n",
            "798/798 [==============================] - 212s 265ms/step - loss: 0.3168 - mae: 0.3583 - val_loss: 0.0907 - val_mae: 0.1360\n",
            "Epoch 18/30\n",
            "798/798 [==============================] - ETA: 0s - loss: 0.3142 - mae: 0.3543\n",
            "Epoch 00018: saving model to /colab/My Drive/SelfDrivingCar/model-18-0.09.h5\n",
            "798/798 [==============================] - 211s 265ms/step - loss: 0.3142 - mae: 0.3543 - val_loss: 0.0896 - val_mae: 0.1342\n",
            "Epoch 19/30\n",
            "798/798 [==============================] - ETA: 0s - loss: 0.3108 - mae: 0.3490\n",
            "Epoch 00019: saving model to /colab/My Drive/SelfDrivingCar/model-19-0.09.h5\n",
            "798/798 [==============================] - 212s 265ms/step - loss: 0.3108 - mae: 0.3490 - val_loss: 0.0919 - val_mae: 0.1396\n",
            "Epoch 20/30\n",
            "798/798 [==============================] - ETA: 0s - loss: 0.3038 - mae: 0.3433\n",
            "Epoch 00020: saving model to /colab/My Drive/SelfDrivingCar/model-20-0.10.h5\n",
            "798/798 [==============================] - 211s 265ms/step - loss: 0.3038 - mae: 0.3433 - val_loss: 0.0967 - val_mae: 0.1565\n",
            "Epoch 21/30\n",
            "798/798 [==============================] - ETA: 0s - loss: 0.3016 - mae: 0.3377\n",
            "Epoch 00021: saving model to /colab/My Drive/SelfDrivingCar/model-21-0.09.h5\n",
            "798/798 [==============================] - 211s 265ms/step - loss: 0.3016 - mae: 0.3377 - val_loss: 0.0898 - val_mae: 0.1343\n",
            "Epoch 22/30\n",
            "798/798 [==============================] - ETA: 0s - loss: 0.2939 - mae: 0.3299\n",
            "Epoch 00022: saving model to /colab/My Drive/SelfDrivingCar/model-22-0.09.h5\n",
            "798/798 [==============================] - 211s 265ms/step - loss: 0.2939 - mae: 0.3299 - val_loss: 0.0906 - val_mae: 0.1358\n",
            "Epoch 23/30\n",
            "798/798 [==============================] - ETA: 0s - loss: 0.2869 - mae: 0.3210"
          ],
          "name": "stdout"
        },
        {
          "output_type": "error",
          "ename": "KeyboardInterrupt",
          "evalue": "ignored",
          "traceback": [
            "\u001b[0;31m---------------------------------------------------------------------------\u001b[0m",
            "\u001b[0;31mKeyboardInterrupt\u001b[0m                         Traceback (most recent call last)",
            "\u001b[0;32m<ipython-input-79-a6653f59f8ed>\u001b[0m in \u001b[0;36m<module>\u001b[0;34m()\u001b[0m\n\u001b[1;32m      7\u001b[0m       \u001b[0mvalidation_data\u001b[0m \u001b[0;34m=\u001b[0m \u001b[0mval_generator\u001b[0m\u001b[0;34m,\u001b[0m\u001b[0;34m\u001b[0m\u001b[0;34m\u001b[0m\u001b[0m\n\u001b[1;32m      8\u001b[0m \u001b[0;34m\u001b[0m\u001b[0m\n\u001b[0;32m----> 9\u001b[0;31m       callbacks=model_callbacks)\n\u001b[0m",
            "\u001b[0;32m/usr/local/lib/python3.6/dist-packages/tensorflow/python/keras/engine/training.py\u001b[0m in \u001b[0;36m_method_wrapper\u001b[0;34m(self, *args, **kwargs)\u001b[0m\n\u001b[1;32m    106\u001b[0m   \u001b[0;32mdef\u001b[0m \u001b[0m_method_wrapper\u001b[0m\u001b[0;34m(\u001b[0m\u001b[0mself\u001b[0m\u001b[0;34m,\u001b[0m \u001b[0;34m*\u001b[0m\u001b[0margs\u001b[0m\u001b[0;34m,\u001b[0m \u001b[0;34m**\u001b[0m\u001b[0mkwargs\u001b[0m\u001b[0;34m)\u001b[0m\u001b[0;34m:\u001b[0m\u001b[0;34m\u001b[0m\u001b[0;34m\u001b[0m\u001b[0m\n\u001b[1;32m    107\u001b[0m     \u001b[0;32mif\u001b[0m \u001b[0;32mnot\u001b[0m \u001b[0mself\u001b[0m\u001b[0;34m.\u001b[0m\u001b[0m_in_multi_worker_mode\u001b[0m\u001b[0;34m(\u001b[0m\u001b[0;34m)\u001b[0m\u001b[0;34m:\u001b[0m  \u001b[0;31m# pylint: disable=protected-access\u001b[0m\u001b[0;34m\u001b[0m\u001b[0;34m\u001b[0m\u001b[0m\n\u001b[0;32m--> 108\u001b[0;31m       \u001b[0;32mreturn\u001b[0m \u001b[0mmethod\u001b[0m\u001b[0;34m(\u001b[0m\u001b[0mself\u001b[0m\u001b[0;34m,\u001b[0m \u001b[0;34m*\u001b[0m\u001b[0margs\u001b[0m\u001b[0;34m,\u001b[0m \u001b[0;34m**\u001b[0m\u001b[0mkwargs\u001b[0m\u001b[0;34m)\u001b[0m\u001b[0;34m\u001b[0m\u001b[0;34m\u001b[0m\u001b[0m\n\u001b[0m\u001b[1;32m    109\u001b[0m \u001b[0;34m\u001b[0m\u001b[0m\n\u001b[1;32m    110\u001b[0m     \u001b[0;31m# Running inside `run_distribute_coordinator` already.\u001b[0m\u001b[0;34m\u001b[0m\u001b[0;34m\u001b[0m\u001b[0;34m\u001b[0m\u001b[0m\n",
            "\u001b[0;32m/usr/local/lib/python3.6/dist-packages/tensorflow/python/keras/engine/training.py\u001b[0m in \u001b[0;36mfit\u001b[0;34m(self, x, y, batch_size, epochs, verbose, callbacks, validation_split, validation_data, shuffle, class_weight, sample_weight, initial_epoch, steps_per_epoch, validation_steps, validation_batch_size, validation_freq, max_queue_size, workers, use_multiprocessing)\u001b[0m\n\u001b[1;32m   1131\u001b[0m               \u001b[0mworkers\u001b[0m\u001b[0;34m=\u001b[0m\u001b[0mworkers\u001b[0m\u001b[0;34m,\u001b[0m\u001b[0;34m\u001b[0m\u001b[0;34m\u001b[0m\u001b[0m\n\u001b[1;32m   1132\u001b[0m               \u001b[0muse_multiprocessing\u001b[0m\u001b[0;34m=\u001b[0m\u001b[0muse_multiprocessing\u001b[0m\u001b[0;34m,\u001b[0m\u001b[0;34m\u001b[0m\u001b[0;34m\u001b[0m\u001b[0m\n\u001b[0;32m-> 1133\u001b[0;31m               return_dict=True)\n\u001b[0m\u001b[1;32m   1134\u001b[0m           \u001b[0mval_logs\u001b[0m \u001b[0;34m=\u001b[0m \u001b[0;34m{\u001b[0m\u001b[0;34m'val_'\u001b[0m \u001b[0;34m+\u001b[0m \u001b[0mname\u001b[0m\u001b[0;34m:\u001b[0m \u001b[0mval\u001b[0m \u001b[0;32mfor\u001b[0m \u001b[0mname\u001b[0m\u001b[0;34m,\u001b[0m \u001b[0mval\u001b[0m \u001b[0;32min\u001b[0m \u001b[0mval_logs\u001b[0m\u001b[0;34m.\u001b[0m\u001b[0mitems\u001b[0m\u001b[0;34m(\u001b[0m\u001b[0;34m)\u001b[0m\u001b[0;34m}\u001b[0m\u001b[0;34m\u001b[0m\u001b[0;34m\u001b[0m\u001b[0m\n\u001b[1;32m   1135\u001b[0m           \u001b[0mepoch_logs\u001b[0m\u001b[0;34m.\u001b[0m\u001b[0mupdate\u001b[0m\u001b[0;34m(\u001b[0m\u001b[0mval_logs\u001b[0m\u001b[0;34m)\u001b[0m\u001b[0;34m\u001b[0m\u001b[0;34m\u001b[0m\u001b[0m\n",
            "\u001b[0;32m/usr/local/lib/python3.6/dist-packages/tensorflow/python/keras/engine/training.py\u001b[0m in \u001b[0;36m_method_wrapper\u001b[0;34m(self, *args, **kwargs)\u001b[0m\n\u001b[1;32m    106\u001b[0m   \u001b[0;32mdef\u001b[0m \u001b[0m_method_wrapper\u001b[0m\u001b[0;34m(\u001b[0m\u001b[0mself\u001b[0m\u001b[0;34m,\u001b[0m \u001b[0;34m*\u001b[0m\u001b[0margs\u001b[0m\u001b[0;34m,\u001b[0m \u001b[0;34m**\u001b[0m\u001b[0mkwargs\u001b[0m\u001b[0;34m)\u001b[0m\u001b[0;34m:\u001b[0m\u001b[0;34m\u001b[0m\u001b[0;34m\u001b[0m\u001b[0m\n\u001b[1;32m    107\u001b[0m     \u001b[0;32mif\u001b[0m \u001b[0;32mnot\u001b[0m \u001b[0mself\u001b[0m\u001b[0;34m.\u001b[0m\u001b[0m_in_multi_worker_mode\u001b[0m\u001b[0;34m(\u001b[0m\u001b[0;34m)\u001b[0m\u001b[0;34m:\u001b[0m  \u001b[0;31m# pylint: disable=protected-access\u001b[0m\u001b[0;34m\u001b[0m\u001b[0;34m\u001b[0m\u001b[0m\n\u001b[0;32m--> 108\u001b[0;31m       \u001b[0;32mreturn\u001b[0m \u001b[0mmethod\u001b[0m\u001b[0;34m(\u001b[0m\u001b[0mself\u001b[0m\u001b[0;34m,\u001b[0m \u001b[0;34m*\u001b[0m\u001b[0margs\u001b[0m\u001b[0;34m,\u001b[0m \u001b[0;34m**\u001b[0m\u001b[0mkwargs\u001b[0m\u001b[0;34m)\u001b[0m\u001b[0;34m\u001b[0m\u001b[0;34m\u001b[0m\u001b[0m\n\u001b[0m\u001b[1;32m    109\u001b[0m \u001b[0;34m\u001b[0m\u001b[0m\n\u001b[1;32m    110\u001b[0m     \u001b[0;31m# Running inside `run_distribute_coordinator` already.\u001b[0m\u001b[0;34m\u001b[0m\u001b[0;34m\u001b[0m\u001b[0;34m\u001b[0m\u001b[0m\n",
            "\u001b[0;32m/usr/local/lib/python3.6/dist-packages/tensorflow/python/keras/engine/training.py\u001b[0m in \u001b[0;36mevaluate\u001b[0;34m(self, x, y, batch_size, verbose, sample_weight, steps, callbacks, max_queue_size, workers, use_multiprocessing, return_dict)\u001b[0m\n\u001b[1;32m   1377\u001b[0m             \u001b[0;32mwith\u001b[0m \u001b[0mtrace\u001b[0m\u001b[0;34m.\u001b[0m\u001b[0mTrace\u001b[0m\u001b[0;34m(\u001b[0m\u001b[0;34m'TraceContext'\u001b[0m\u001b[0;34m,\u001b[0m \u001b[0mgraph_type\u001b[0m\u001b[0;34m=\u001b[0m\u001b[0;34m'test'\u001b[0m\u001b[0;34m,\u001b[0m \u001b[0mstep_num\u001b[0m\u001b[0;34m=\u001b[0m\u001b[0mstep\u001b[0m\u001b[0;34m)\u001b[0m\u001b[0;34m:\u001b[0m\u001b[0;34m\u001b[0m\u001b[0;34m\u001b[0m\u001b[0m\n\u001b[1;32m   1378\u001b[0m               \u001b[0mcallbacks\u001b[0m\u001b[0;34m.\u001b[0m\u001b[0mon_test_batch_begin\u001b[0m\u001b[0;34m(\u001b[0m\u001b[0mstep\u001b[0m\u001b[0;34m)\u001b[0m\u001b[0;34m\u001b[0m\u001b[0;34m\u001b[0m\u001b[0m\n\u001b[0;32m-> 1379\u001b[0;31m               \u001b[0mtmp_logs\u001b[0m \u001b[0;34m=\u001b[0m \u001b[0mtest_function\u001b[0m\u001b[0;34m(\u001b[0m\u001b[0miterator\u001b[0m\u001b[0;34m)\u001b[0m\u001b[0;34m\u001b[0m\u001b[0;34m\u001b[0m\u001b[0m\n\u001b[0m\u001b[1;32m   1380\u001b[0m               \u001b[0;32mif\u001b[0m \u001b[0mdata_handler\u001b[0m\u001b[0;34m.\u001b[0m\u001b[0mshould_sync\u001b[0m\u001b[0;34m:\u001b[0m\u001b[0;34m\u001b[0m\u001b[0;34m\u001b[0m\u001b[0m\n\u001b[1;32m   1381\u001b[0m                 \u001b[0mcontext\u001b[0m\u001b[0;34m.\u001b[0m\u001b[0masync_wait\u001b[0m\u001b[0;34m(\u001b[0m\u001b[0;34m)\u001b[0m\u001b[0;34m\u001b[0m\u001b[0;34m\u001b[0m\u001b[0m\n",
            "\u001b[0;32m/usr/local/lib/python3.6/dist-packages/tensorflow/python/eager/def_function.py\u001b[0m in \u001b[0;36m__call__\u001b[0;34m(self, *args, **kwds)\u001b[0m\n\u001b[1;32m    778\u001b[0m       \u001b[0;32melse\u001b[0m\u001b[0;34m:\u001b[0m\u001b[0;34m\u001b[0m\u001b[0;34m\u001b[0m\u001b[0m\n\u001b[1;32m    779\u001b[0m         \u001b[0mcompiler\u001b[0m \u001b[0;34m=\u001b[0m \u001b[0;34m\"nonXla\"\u001b[0m\u001b[0;34m\u001b[0m\u001b[0;34m\u001b[0m\u001b[0m\n\u001b[0;32m--> 780\u001b[0;31m         \u001b[0mresult\u001b[0m \u001b[0;34m=\u001b[0m \u001b[0mself\u001b[0m\u001b[0;34m.\u001b[0m\u001b[0m_call\u001b[0m\u001b[0;34m(\u001b[0m\u001b[0;34m*\u001b[0m\u001b[0margs\u001b[0m\u001b[0;34m,\u001b[0m \u001b[0;34m**\u001b[0m\u001b[0mkwds\u001b[0m\u001b[0;34m)\u001b[0m\u001b[0;34m\u001b[0m\u001b[0;34m\u001b[0m\u001b[0m\n\u001b[0m\u001b[1;32m    781\u001b[0m \u001b[0;34m\u001b[0m\u001b[0m\n\u001b[1;32m    782\u001b[0m       \u001b[0mnew_tracing_count\u001b[0m \u001b[0;34m=\u001b[0m \u001b[0mself\u001b[0m\u001b[0;34m.\u001b[0m\u001b[0m_get_tracing_count\u001b[0m\u001b[0;34m(\u001b[0m\u001b[0;34m)\u001b[0m\u001b[0;34m\u001b[0m\u001b[0;34m\u001b[0m\u001b[0m\n",
            "\u001b[0;32m/usr/local/lib/python3.6/dist-packages/tensorflow/python/eager/def_function.py\u001b[0m in \u001b[0;36m_call\u001b[0;34m(self, *args, **kwds)\u001b[0m\n\u001b[1;32m    812\u001b[0m       \u001b[0;31m# In this case we have not created variables on the first call. So we can\u001b[0m\u001b[0;34m\u001b[0m\u001b[0;34m\u001b[0m\u001b[0;34m\u001b[0m\u001b[0m\n\u001b[1;32m    813\u001b[0m       \u001b[0;31m# run the first trace but we should fail if variables are created.\u001b[0m\u001b[0;34m\u001b[0m\u001b[0;34m\u001b[0m\u001b[0;34m\u001b[0m\u001b[0m\n\u001b[0;32m--> 814\u001b[0;31m       \u001b[0mresults\u001b[0m \u001b[0;34m=\u001b[0m \u001b[0mself\u001b[0m\u001b[0;34m.\u001b[0m\u001b[0m_stateful_fn\u001b[0m\u001b[0;34m(\u001b[0m\u001b[0;34m*\u001b[0m\u001b[0margs\u001b[0m\u001b[0;34m,\u001b[0m \u001b[0;34m**\u001b[0m\u001b[0mkwds\u001b[0m\u001b[0;34m)\u001b[0m\u001b[0;34m\u001b[0m\u001b[0;34m\u001b[0m\u001b[0m\n\u001b[0m\u001b[1;32m    815\u001b[0m       \u001b[0;32mif\u001b[0m \u001b[0mself\u001b[0m\u001b[0;34m.\u001b[0m\u001b[0m_created_variables\u001b[0m\u001b[0;34m:\u001b[0m\u001b[0;34m\u001b[0m\u001b[0;34m\u001b[0m\u001b[0m\n\u001b[1;32m    816\u001b[0m         raise ValueError(\"Creating variables on a non-first call to a function\"\n",
            "\u001b[0;32m/usr/local/lib/python3.6/dist-packages/tensorflow/python/eager/function.py\u001b[0m in \u001b[0;36m__call__\u001b[0;34m(self, *args, **kwargs)\u001b[0m\n\u001b[1;32m   2827\u001b[0m     \u001b[0;32mwith\u001b[0m \u001b[0mself\u001b[0m\u001b[0;34m.\u001b[0m\u001b[0m_lock\u001b[0m\u001b[0;34m:\u001b[0m\u001b[0;34m\u001b[0m\u001b[0;34m\u001b[0m\u001b[0m\n\u001b[1;32m   2828\u001b[0m       \u001b[0mgraph_function\u001b[0m\u001b[0;34m,\u001b[0m \u001b[0margs\u001b[0m\u001b[0;34m,\u001b[0m \u001b[0mkwargs\u001b[0m \u001b[0;34m=\u001b[0m \u001b[0mself\u001b[0m\u001b[0;34m.\u001b[0m\u001b[0m_maybe_define_function\u001b[0m\u001b[0;34m(\u001b[0m\u001b[0margs\u001b[0m\u001b[0;34m,\u001b[0m \u001b[0mkwargs\u001b[0m\u001b[0;34m)\u001b[0m\u001b[0;34m\u001b[0m\u001b[0;34m\u001b[0m\u001b[0m\n\u001b[0;32m-> 2829\u001b[0;31m     \u001b[0;32mreturn\u001b[0m \u001b[0mgraph_function\u001b[0m\u001b[0;34m.\u001b[0m\u001b[0m_filtered_call\u001b[0m\u001b[0;34m(\u001b[0m\u001b[0margs\u001b[0m\u001b[0;34m,\u001b[0m \u001b[0mkwargs\u001b[0m\u001b[0;34m)\u001b[0m  \u001b[0;31m# pylint: disable=protected-access\u001b[0m\u001b[0;34m\u001b[0m\u001b[0;34m\u001b[0m\u001b[0m\n\u001b[0m\u001b[1;32m   2830\u001b[0m \u001b[0;34m\u001b[0m\u001b[0m\n\u001b[1;32m   2831\u001b[0m   \u001b[0;34m@\u001b[0m\u001b[0mproperty\u001b[0m\u001b[0;34m\u001b[0m\u001b[0;34m\u001b[0m\u001b[0m\n",
            "\u001b[0;32m/usr/local/lib/python3.6/dist-packages/tensorflow/python/eager/function.py\u001b[0m in \u001b[0;36m_filtered_call\u001b[0;34m(self, args, kwargs, cancellation_manager)\u001b[0m\n\u001b[1;32m   1846\u001b[0m                            resource_variable_ops.BaseResourceVariable))],\n\u001b[1;32m   1847\u001b[0m         \u001b[0mcaptured_inputs\u001b[0m\u001b[0;34m=\u001b[0m\u001b[0mself\u001b[0m\u001b[0;34m.\u001b[0m\u001b[0mcaptured_inputs\u001b[0m\u001b[0;34m,\u001b[0m\u001b[0;34m\u001b[0m\u001b[0;34m\u001b[0m\u001b[0m\n\u001b[0;32m-> 1848\u001b[0;31m         cancellation_manager=cancellation_manager)\n\u001b[0m\u001b[1;32m   1849\u001b[0m \u001b[0;34m\u001b[0m\u001b[0m\n\u001b[1;32m   1850\u001b[0m   \u001b[0;32mdef\u001b[0m \u001b[0m_call_flat\u001b[0m\u001b[0;34m(\u001b[0m\u001b[0mself\u001b[0m\u001b[0;34m,\u001b[0m \u001b[0margs\u001b[0m\u001b[0;34m,\u001b[0m \u001b[0mcaptured_inputs\u001b[0m\u001b[0;34m,\u001b[0m \u001b[0mcancellation_manager\u001b[0m\u001b[0;34m=\u001b[0m\u001b[0;32mNone\u001b[0m\u001b[0;34m)\u001b[0m\u001b[0;34m:\u001b[0m\u001b[0;34m\u001b[0m\u001b[0;34m\u001b[0m\u001b[0m\n",
            "\u001b[0;32m/usr/local/lib/python3.6/dist-packages/tensorflow/python/eager/function.py\u001b[0m in \u001b[0;36m_call_flat\u001b[0;34m(self, args, captured_inputs, cancellation_manager)\u001b[0m\n\u001b[1;32m   1922\u001b[0m       \u001b[0;31m# No tape is watching; skip to running the function.\u001b[0m\u001b[0;34m\u001b[0m\u001b[0;34m\u001b[0m\u001b[0;34m\u001b[0m\u001b[0m\n\u001b[1;32m   1923\u001b[0m       return self._build_call_outputs(self._inference_function.call(\n\u001b[0;32m-> 1924\u001b[0;31m           ctx, args, cancellation_manager=cancellation_manager))\n\u001b[0m\u001b[1;32m   1925\u001b[0m     forward_backward = self._select_forward_and_backward_functions(\n\u001b[1;32m   1926\u001b[0m         \u001b[0margs\u001b[0m\u001b[0;34m,\u001b[0m\u001b[0;34m\u001b[0m\u001b[0;34m\u001b[0m\u001b[0m\n",
            "\u001b[0;32m/usr/local/lib/python3.6/dist-packages/tensorflow/python/eager/function.py\u001b[0m in \u001b[0;36mcall\u001b[0;34m(self, ctx, args, cancellation_manager)\u001b[0m\n\u001b[1;32m    548\u001b[0m               \u001b[0minputs\u001b[0m\u001b[0;34m=\u001b[0m\u001b[0margs\u001b[0m\u001b[0;34m,\u001b[0m\u001b[0;34m\u001b[0m\u001b[0;34m\u001b[0m\u001b[0m\n\u001b[1;32m    549\u001b[0m               \u001b[0mattrs\u001b[0m\u001b[0;34m=\u001b[0m\u001b[0mattrs\u001b[0m\u001b[0;34m,\u001b[0m\u001b[0;34m\u001b[0m\u001b[0;34m\u001b[0m\u001b[0m\n\u001b[0;32m--> 550\u001b[0;31m               ctx=ctx)\n\u001b[0m\u001b[1;32m    551\u001b[0m         \u001b[0;32melse\u001b[0m\u001b[0;34m:\u001b[0m\u001b[0;34m\u001b[0m\u001b[0;34m\u001b[0m\u001b[0m\n\u001b[1;32m    552\u001b[0m           outputs = execute.execute_with_cancellation(\n",
            "\u001b[0;32m/usr/local/lib/python3.6/dist-packages/tensorflow/python/eager/execute.py\u001b[0m in \u001b[0;36mquick_execute\u001b[0;34m(op_name, num_outputs, inputs, attrs, ctx, name)\u001b[0m\n\u001b[1;32m     58\u001b[0m     \u001b[0mctx\u001b[0m\u001b[0;34m.\u001b[0m\u001b[0mensure_initialized\u001b[0m\u001b[0;34m(\u001b[0m\u001b[0;34m)\u001b[0m\u001b[0;34m\u001b[0m\u001b[0;34m\u001b[0m\u001b[0m\n\u001b[1;32m     59\u001b[0m     tensors = pywrap_tfe.TFE_Py_Execute(ctx._handle, device_name, op_name,\n\u001b[0;32m---> 60\u001b[0;31m                                         inputs, attrs, num_outputs)\n\u001b[0m\u001b[1;32m     61\u001b[0m   \u001b[0;32mexcept\u001b[0m \u001b[0mcore\u001b[0m\u001b[0;34m.\u001b[0m\u001b[0m_NotOkStatusException\u001b[0m \u001b[0;32mas\u001b[0m \u001b[0me\u001b[0m\u001b[0;34m:\u001b[0m\u001b[0;34m\u001b[0m\u001b[0;34m\u001b[0m\u001b[0m\n\u001b[1;32m     62\u001b[0m     \u001b[0;32mif\u001b[0m \u001b[0mname\u001b[0m \u001b[0;32mis\u001b[0m \u001b[0;32mnot\u001b[0m \u001b[0;32mNone\u001b[0m\u001b[0;34m:\u001b[0m\u001b[0;34m\u001b[0m\u001b[0;34m\u001b[0m\u001b[0m\n",
            "\u001b[0;31mKeyboardInterrupt\u001b[0m: "
          ]
        }
      ]
    },
    {
      "cell_type": "code",
      "metadata": {
        "id": "Q5jqNSzHo8RV",
        "colab": {
          "base_uri": "https://localhost:8080/",
          "height": 1000
        },
        "outputId": "85e4110b-9ff1-424f-c0bd-29fd02a5ad1a"
      },
      "source": [
        "# bestest ever\n",
        "history8 = model.fit(\n",
        "      train_generator,\n",
        "        \n",
        "      epochs=30,\n",
        "      verbose=1,\n",
        "      validation_data = val_generator,\n",
        "      \n",
        "      callbacks=model_callbacks)"
      ],
      "execution_count": null,
      "outputs": [
        {
          "output_type": "stream",
          "text": [
            "Epoch 1/30\n",
            "798/798 [==============================] - ETA: 0s - loss: 0.9169 - mae: 0.3181\n",
            "Epoch 00001: saving model to /colab/My Drive/SelfDrivingCar/model-01-0.35.h5\n",
            "798/798 [==============================] - 217s 272ms/step - loss: 0.9169 - mae: 0.3181 - val_loss: 0.3528 - val_mae: 0.1474\n",
            "Epoch 2/30\n",
            "798/798 [==============================] - ETA: 0s - loss: 0.3215 - mae: 0.2141\n",
            "Epoch 00002: saving model to /colab/My Drive/SelfDrivingCar/model-02-0.25.h5\n",
            "798/798 [==============================] - 217s 272ms/step - loss: 0.3215 - mae: 0.2141 - val_loss: 0.2483 - val_mae: 0.2360\n",
            "Epoch 3/30\n",
            "798/798 [==============================] - ETA: 0s - loss: 0.1631 - mae: 0.1904\n",
            "Epoch 00003: saving model to /colab/My Drive/SelfDrivingCar/model-03-0.19.h5\n",
            "798/798 [==============================] - 217s 272ms/step - loss: 0.1631 - mae: 0.1904 - val_loss: 0.1853 - val_mae: 0.2305\n",
            "Epoch 4/30\n",
            "798/798 [==============================] - ETA: 0s - loss: 0.0999 - mae: 0.1665\n",
            "Epoch 00004: saving model to /colab/My Drive/SelfDrivingCar/model-04-0.19.h5\n",
            "798/798 [==============================] - 217s 272ms/step - loss: 0.0999 - mae: 0.1665 - val_loss: 0.1883 - val_mae: 0.2563\n",
            "Epoch 5/30\n",
            "798/798 [==============================] - ETA: 0s - loss: 0.0850 - mae: 0.1598\n",
            "Epoch 00005: saving model to /colab/My Drive/SelfDrivingCar/model-05-0.21.h5\n",
            "798/798 [==============================] - 217s 272ms/step - loss: 0.0850 - mae: 0.1598 - val_loss: 0.2128 - val_mae: 0.2779\n",
            "Epoch 6/30\n",
            "798/798 [==============================] - ETA: 0s - loss: 0.0796 - mae: 0.1526\n",
            "Epoch 00006: saving model to /colab/My Drive/SelfDrivingCar/model-06-0.17.h5\n",
            "798/798 [==============================] - 217s 272ms/step - loss: 0.0796 - mae: 0.1526 - val_loss: 0.1672 - val_mae: 0.2238\n",
            "Epoch 7/30\n",
            "798/798 [==============================] - ETA: 0s - loss: 0.0895 - mae: 0.1601\n",
            "Epoch 00007: saving model to /colab/My Drive/SelfDrivingCar/model-07-0.21.h5\n",
            "798/798 [==============================] - 217s 271ms/step - loss: 0.0895 - mae: 0.1601 - val_loss: 0.2052 - val_mae: 0.2217\n",
            "Epoch 8/30\n",
            "798/798 [==============================] - ETA: 0s - loss: 0.0821 - mae: 0.1485\n",
            "Epoch 00008: saving model to /colab/My Drive/SelfDrivingCar/model-08-0.13.h5\n",
            "798/798 [==============================] - 217s 272ms/step - loss: 0.0821 - mae: 0.1485 - val_loss: 0.1345 - val_mae: 0.1731\n",
            "Epoch 9/30\n",
            "798/798 [==============================] - ETA: 0s - loss: 0.0775 - mae: 0.1361\n",
            "Epoch 00009: saving model to /colab/My Drive/SelfDrivingCar/model-09-0.16.h5\n",
            "798/798 [==============================] - 218s 273ms/step - loss: 0.0775 - mae: 0.1361 - val_loss: 0.1562 - val_mae: 0.2159\n",
            "Epoch 10/30\n",
            "798/798 [==============================] - ETA: 0s - loss: 0.1028 - mae: 0.1320\n",
            "Epoch 00010: saving model to /colab/My Drive/SelfDrivingCar/model-10-0.94.h5\n",
            "798/798 [==============================] - 217s 271ms/step - loss: 0.1028 - mae: 0.1320 - val_loss: 0.9449 - val_mae: 0.2350\n",
            "Epoch 11/30\n",
            "798/798 [==============================] - ETA: 0s - loss: 0.3954 - mae: 0.2640\n",
            "Epoch 00011: saving model to /colab/My Drive/SelfDrivingCar/model-11-0.10.h5\n",
            "798/798 [==============================] - 214s 268ms/step - loss: 0.3954 - mae: 0.2640 - val_loss: 0.1044 - val_mae: 0.1479\n",
            "Epoch 12/30\n",
            "798/798 [==============================] - ETA: 0s - loss: 0.2546 - mae: 0.2550\n",
            "Epoch 00012: saving model to /colab/My Drive/SelfDrivingCar/model-12-0.09.h5\n",
            "798/798 [==============================] - 213s 267ms/step - loss: 0.2546 - mae: 0.2550 - val_loss: 0.0932 - val_mae: 0.1394\n",
            "Epoch 13/30\n",
            "798/798 [==============================] - ETA: 0s - loss: 0.2513 - mae: 0.2539\n",
            "Epoch 00013: saving model to /colab/My Drive/SelfDrivingCar/model-13-0.09.h5\n",
            "798/798 [==============================] - 213s 267ms/step - loss: 0.2513 - mae: 0.2539 - val_loss: 0.0945 - val_mae: 0.1477\n",
            "Epoch 14/30\n",
            "798/798 [==============================] - ETA: 0s - loss: 0.2503 - mae: 0.2542\n",
            "Epoch 00014: saving model to /colab/My Drive/SelfDrivingCar/model-14-0.09.h5\n",
            "798/798 [==============================] - 213s 267ms/step - loss: 0.2503 - mae: 0.2542 - val_loss: 0.0912 - val_mae: 0.1366\n",
            "Epoch 15/30\n",
            "798/798 [==============================] - ETA: 0s - loss: 0.2497 - mae: 0.2520\n",
            "Epoch 00015: saving model to /colab/My Drive/SelfDrivingCar/model-15-0.09.h5\n",
            "798/798 [==============================] - 214s 268ms/step - loss: 0.2497 - mae: 0.2520 - val_loss: 0.0905 - val_mae: 0.1352\n",
            "Epoch 16/30\n",
            "798/798 [==============================] - ETA: 0s - loss: 0.2504 - mae: 0.2543\n",
            "Epoch 00016: saving model to /colab/My Drive/SelfDrivingCar/model-16-0.10.h5\n",
            "798/798 [==============================] - 214s 268ms/step - loss: 0.2504 - mae: 0.2543 - val_loss: 0.0972 - val_mae: 0.1577\n",
            "Epoch 17/30\n",
            "798/798 [==============================] - ETA: 0s - loss: 0.2541 - mae: 0.2557\n",
            "Epoch 00017: saving model to /colab/My Drive/SelfDrivingCar/model-17-0.11.h5\n",
            "798/798 [==============================] - 213s 267ms/step - loss: 0.2541 - mae: 0.2557 - val_loss: 0.1059 - val_mae: 0.1426\n",
            "Epoch 18/30\n",
            "798/798 [==============================] - ETA: 0s - loss: 0.2870 - mae: 0.2587\n",
            "Epoch 00018: saving model to /colab/My Drive/SelfDrivingCar/model-18-0.10.h5\n",
            "798/798 [==============================] - 213s 267ms/step - loss: 0.2870 - mae: 0.2587 - val_loss: 0.1047 - val_mae: 0.1727\n",
            "Epoch 19/30\n",
            "798/798 [==============================] - ETA: 0s - loss: 0.2530 - mae: 0.2578\n",
            "Epoch 00019: saving model to /colab/My Drive/SelfDrivingCar/model-19-0.09.h5\n",
            "798/798 [==============================] - 212s 266ms/step - loss: 0.2530 - mae: 0.2578 - val_loss: 0.0906 - val_mae: 0.1355\n",
            "Epoch 20/30\n",
            "798/798 [==============================] - ETA: 0s - loss: 0.2533 - mae: 0.2564\n",
            "Epoch 00020: saving model to /colab/My Drive/SelfDrivingCar/model-20-0.24.h5\n",
            "798/798 [==============================] - 212s 266ms/step - loss: 0.2533 - mae: 0.2564 - val_loss: 0.2449 - val_mae: 0.1346\n",
            "Epoch 21/30\n",
            "798/798 [==============================] - ETA: 0s - loss: 0.2698 - mae: 0.2594\n",
            "Epoch 00021: saving model to /colab/My Drive/SelfDrivingCar/model-21-0.09.h5\n",
            "798/798 [==============================] - 211s 265ms/step - loss: 0.2698 - mae: 0.2594 - val_loss: 0.0922 - val_mae: 0.1343\n",
            "Epoch 22/30\n",
            "798/798 [==============================] - ETA: 0s - loss: 0.2578 - mae: 0.2570\n",
            "Epoch 00022: saving model to /colab/My Drive/SelfDrivingCar/model-22-0.09.h5\n",
            "798/798 [==============================] - 212s 265ms/step - loss: 0.2578 - mae: 0.2570 - val_loss: 0.0896 - val_mae: 0.1353\n",
            "Epoch 23/30\n",
            "798/798 [==============================] - ETA: 0s - loss: 0.3062 - mae: 0.2561\n",
            "Epoch 00023: saving model to /colab/My Drive/SelfDrivingCar/model-23-0.10.h5\n",
            "798/798 [==============================] - 211s 265ms/step - loss: 0.3062 - mae: 0.2561 - val_loss: 0.0997 - val_mae: 0.1344\n",
            "Epoch 24/30\n",
            "798/798 [==============================] - ETA: 0s - loss: 0.2525 - mae: 0.2589\n",
            "Epoch 00024: saving model to /colab/My Drive/SelfDrivingCar/model-24-0.09.h5\n",
            "798/798 [==============================] - 212s 265ms/step - loss: 0.2525 - mae: 0.2589 - val_loss: 0.0933 - val_mae: 0.1446\n",
            "Epoch 25/30\n",
            "798/798 [==============================] - ETA: 0s - loss: 0.3723 - mae: 0.2560\n",
            "Epoch 00025: saving model to /colab/My Drive/SelfDrivingCar/model-25-0.23.h5\n",
            "798/798 [==============================] - 212s 265ms/step - loss: 0.3723 - mae: 0.2560 - val_loss: 0.2323 - val_mae: 0.1524\n",
            "Epoch 26/30\n",
            "798/798 [==============================] - ETA: 0s - loss: 646.3946 - mae: 0.4566\n",
            "Epoch 00026: saving model to /colab/My Drive/SelfDrivingCar/model-26-2.28.h5\n",
            "798/798 [==============================] - 211s 265ms/step - loss: 646.3946 - mae: 0.4566 - val_loss: 2.2809 - val_mae: 0.5654\n",
            "Epoch 27/30\n",
            "798/798 [==============================] - ETA: 0s - loss: 1.9719 - mae: 0.3577"
          ],
          "name": "stdout"
        }
      ]
    },
    {
      "cell_type": "markdown",
      "metadata": {
        "id": "vRLEXqbS8hf_"
      },
      "source": [
        "Below are unnecessary part which is still to be completed. But above code is final and working with great accuracy.\r\n",
        "\r\n",
        "\r\n",
        "ALL the code below this line should be ignored"
      ]
    },
    {
      "cell_type": "code",
      "metadata": {
        "id": "f9omJTej8s88"
      },
      "source": [
        "'''\n",
        "model_clstm = tf.keras.models.Sequential([\n",
        "tf.keras.layers.LSTM(128, return_sequences= True ),\n",
        "tf.keras.layers.LSTM(64),\n",
        "tf.keras.layers.Dense(64, activation = 'relu'),\n",
        "tf.keras.layers.Dense(32, activation = 'relu'),\n",
        "tf.keras.layers.Dense(1, activation = 'sigmoid')\n",
        "])\n",
        "'''\n",
        "model.load_weights('/colab/My Drive/Copy of model-08-0.13.h5')\n"
      ],
      "execution_count": null,
      "outputs": []
    },
    {
      "cell_type": "code",
      "metadata": {
        "id": "cjTqRiSPsK_t"
      },
      "source": [
        "model_featured = tf.keras.models.Model(\n",
        "    inputs=model.input,\n",
        "    outputs=model.get_layer('flatten').output\n",
        ")"
      ],
      "execution_count": null,
      "outputs": []
    },
    {
      "cell_type": "code",
      "metadata": {
        "id": "XViDAFuCDZgv"
      },
      "source": [
        "train_featured = model_featured.predict(train_generator)\n",
        "test_featured = model_featured.predict(val_generator)"
      ],
      "execution_count": null,
      "outputs": []
    },
    {
      "cell_type": "code",
      "metadata": {
        "id": "HtD3oDreDaIV"
      },
      "source": [
        "np.savetxt('/colab/My Drive/ftrainf.csv',train_featured, delimiter=',')\n",
        "np.savetxt('/colab/My Drive/ftrainf.csv',train_featured, delimiter=',')"
      ],
      "execution_count": null,
      "outputs": []
    },
    {
      "cell_type": "code",
      "metadata": {
        "id": "lBujTEq0DaWq",
        "colab": {
          "base_uri": "https://localhost:8080/",
          "height": 34
        },
        "outputId": "e76a7238-f3c7-47a8-eff0-ff676ea9f27e"
      },
      "source": [
        "test_featured.shape"
      ],
      "execution_count": null,
      "outputs": [
        {
          "output_type": "execute_result",
          "data": {
            "text/plain": [
              "(12765, 4096)"
            ]
          },
          "metadata": {
            "tags": []
          },
          "execution_count": 37
        }
      ]
    },
    {
      "cell_type": "code",
      "metadata": {
        "id": "KRK_2lH2DZ0x",
        "colab": {
          "base_uri": "https://localhost:8080/",
          "height": 34
        },
        "outputId": "b378ce75-45a5-42e1-f0e5-2ea6c429d929"
      },
      "source": [
        "train_featured.shape"
      ],
      "execution_count": null,
      "outputs": [
        {
          "output_type": "execute_result",
          "data": {
            "text/plain": [
              "(51060, 4096)"
            ]
          },
          "metadata": {
            "tags": []
          },
          "execution_count": 38
        }
      ]
    },
    {
      "cell_type": "code",
      "metadata": {
        "id": "Ax0_I3EzHgcN",
        "colab": {
          "base_uri": "https://localhost:8080/",
          "height": 213
        },
        "outputId": "bf8a89d9-1bfb-4ce6-e43c-8745db318593"
      },
      "source": [
        "n_steps = 20\n",
        "temp = train_featured[2:n_steps]\n",
        "temp = temp.reshape(1,n_steps,temp.shape[1])\n",
        "for i in range(n_steps,train_featured.shape[0],n_steps):\n",
        "  temp = np.append(temp,train_featured[i:i+n_steps].reshape(1,n_steps,train_featured.shape[1]),axis = 0)\n",
        "trainX = temp\n",
        "temp = test_featured[:n_steps]\n",
        "temp = temp.reshape(1,temp.shape[0],temp.shape[1])\n",
        "for i in range(n_steps,test_featured.shape[0],n_steps):\n",
        "  temp = np.append(temp,test_featured[i:i+n_steps].reshape(1,n_steps,test_featured.shape[1]),axis = 0)\n",
        "testX = temp"
      ],
      "execution_count": null,
      "outputs": [
        {
          "output_type": "error",
          "ename": "ValueError",
          "evalue": "ignored",
          "traceback": [
            "\u001b[0;31m---------------------------------------------------------------------------\u001b[0m",
            "\u001b[0;31mValueError\u001b[0m                                Traceback (most recent call last)",
            "\u001b[0;32m<ipython-input-39-6c336b5c1d6f>\u001b[0m in \u001b[0;36m<module>\u001b[0;34m()\u001b[0m\n\u001b[1;32m      8\u001b[0m \u001b[0mtemp\u001b[0m \u001b[0;34m=\u001b[0m \u001b[0mtemp\u001b[0m\u001b[0;34m.\u001b[0m\u001b[0mreshape\u001b[0m\u001b[0;34m(\u001b[0m\u001b[0;36m1\u001b[0m\u001b[0;34m,\u001b[0m\u001b[0mtemp\u001b[0m\u001b[0;34m.\u001b[0m\u001b[0mshape\u001b[0m\u001b[0;34m[\u001b[0m\u001b[0;36m0\u001b[0m\u001b[0;34m]\u001b[0m\u001b[0;34m,\u001b[0m\u001b[0mtemp\u001b[0m\u001b[0;34m.\u001b[0m\u001b[0mshape\u001b[0m\u001b[0;34m[\u001b[0m\u001b[0;36m1\u001b[0m\u001b[0;34m]\u001b[0m\u001b[0;34m)\u001b[0m\u001b[0;34m\u001b[0m\u001b[0;34m\u001b[0m\u001b[0m\n\u001b[1;32m      9\u001b[0m \u001b[0;32mfor\u001b[0m \u001b[0mi\u001b[0m \u001b[0;32min\u001b[0m \u001b[0mrange\u001b[0m\u001b[0;34m(\u001b[0m\u001b[0mn_steps\u001b[0m\u001b[0;34m,\u001b[0m\u001b[0mtest_featured\u001b[0m\u001b[0;34m.\u001b[0m\u001b[0mshape\u001b[0m\u001b[0;34m[\u001b[0m\u001b[0;36m0\u001b[0m\u001b[0;34m]\u001b[0m\u001b[0;34m,\u001b[0m\u001b[0mn_steps\u001b[0m\u001b[0;34m)\u001b[0m\u001b[0;34m:\u001b[0m\u001b[0;34m\u001b[0m\u001b[0;34m\u001b[0m\u001b[0m\n\u001b[0;32m---> 10\u001b[0;31m   \u001b[0mtemp\u001b[0m \u001b[0;34m=\u001b[0m \u001b[0mnp\u001b[0m\u001b[0;34m.\u001b[0m\u001b[0mappend\u001b[0m\u001b[0;34m(\u001b[0m\u001b[0mtemp\u001b[0m\u001b[0;34m,\u001b[0m\u001b[0mtest_featured\u001b[0m\u001b[0;34m[\u001b[0m\u001b[0mi\u001b[0m\u001b[0;34m:\u001b[0m\u001b[0mi\u001b[0m\u001b[0;34m+\u001b[0m\u001b[0mn_steps\u001b[0m\u001b[0;34m]\u001b[0m\u001b[0;34m.\u001b[0m\u001b[0mreshape\u001b[0m\u001b[0;34m(\u001b[0m\u001b[0;36m1\u001b[0m\u001b[0;34m,\u001b[0m\u001b[0mn_steps\u001b[0m\u001b[0;34m,\u001b[0m\u001b[0mtest_featured\u001b[0m\u001b[0;34m.\u001b[0m\u001b[0mshape\u001b[0m\u001b[0;34m[\u001b[0m\u001b[0;36m1\u001b[0m\u001b[0;34m]\u001b[0m\u001b[0;34m)\u001b[0m\u001b[0;34m,\u001b[0m\u001b[0maxis\u001b[0m \u001b[0;34m=\u001b[0m \u001b[0;36m0\u001b[0m\u001b[0;34m)\u001b[0m\u001b[0;34m\u001b[0m\u001b[0;34m\u001b[0m\u001b[0m\n\u001b[0m\u001b[1;32m     11\u001b[0m \u001b[0mtestX\u001b[0m \u001b[0;34m=\u001b[0m \u001b[0mtemp\u001b[0m\u001b[0;34m\u001b[0m\u001b[0;34m\u001b[0m\u001b[0m\n",
            "\u001b[0;31mValueError\u001b[0m: cannot reshape array of size 20480 into shape (1,20,4096)"
          ]
        }
      ]
    },
    {
      "cell_type": "code",
      "metadata": {
        "id": "tnzzaWQAHg8Q"
      },
      "source": [
        "from keras.layers  import TimeDistributed, MaxPooling2D, LSTM, ConvLSTM2D"
      ],
      "execution_count": null,
      "outputs": []
    },
    {
      "cell_type": "code",
      "metadata": {
        "id": "wDljVAW9HhVA"
      },
      "source": [
        "\n",
        "model = Sequential()\n",
        "model.add(TimeDistributed(Conv2D(36, (5, 5), activation = 'elu', strides = (1, 1), input_shape = (20, 224,224,1))))\n",
        "model.add(TimeDistributed(MaxPooling2D(2,2)))\n",
        "model.add(TimeDistributed(Conv2D(48, (5, 5), activation = 'elu', strides = (1, 1))) )\n",
        "model.add(TimeDistributed(MaxPooling2D(2,2)))\n",
        "model.add(TimeDistributed(Conv2D(64, (3, 3), activation = 'elu')) )\n",
        "model.add(TimeDistributed(MaxPooling2D(2,2)))\n",
        "model.add(TimeDistributed(Conv2D(128, (3, 3), activation = 'elu', )))\n",
        "model.add(TimeDistributed(MaxPooling2D(2,2)))\n",
        "model.add(TimeDistributed(Conv2D(256, (3, 3), activation = 'elu')))\n",
        "model.add(TimeDistributed(MaxPooling2D(2,2)))\n",
        "model.add(TimeDistributed(Conv2D(1024, (3, 3), activation = 'elu', kernel_regularizer=regularizers.l2(0.001))))\n",
        "model.add(TimeDistributed(Dropout(0.2)))\n",
        "model.add(TimeDistributed(Flatten()))\n",
        "model.add(LSTM(64, return_sequences = True))\n",
        "model.add(LSTM(128))                          \n",
        "model.add(Dense(512, activation='elu'))\n",
        "model.add(Dropout(0.2))\n",
        "model.add(Dense(256, activation='elu'))\n",
        "model.add(Dropout(0.2))\n",
        "model.add(Dense(128, activation='elu'))\n",
        "model.add(Dropout(0.2))\n",
        "model.add(Dense(1, activation = 'linear'))\n"
      ],
      "execution_count": null,
      "outputs": []
    },
    {
      "cell_type": "code",
      "metadata": {
        "id": "MSfkvRg8zfyQ"
      },
      "source": [
        "# define CNN model\n",
        "cnn = Sequential()\n",
        "cnn.add(Conv2D(36, (5, 5), activation = 'elu', strides = (1, 1), input_shape = (224,224,1)))\n",
        "cnn.add(MaxPooling2D(2,2))\n",
        "cnn.add(Conv2D(64, (3, 3), activation = 'elu', strides = (1, 1)))\n",
        "cnn.add(MaxPooling2D(2,2))\n",
        "cnn.add(Conv2D(128, (3, 3), activation = 'elu', strides = (1, 1)))\n",
        "cnn.add(MaxPooling2D(2,2))\n",
        "cnn.add(Conv2D(256, (3, 3), activation = 'elu', strides = (1, 1)))\n",
        "cnn.add(MaxPooling2D(2,2))\n",
        "cnn.add(Conv2D(1024, (3, 3), activation = 'elu', strides = (1, 1)))\n",
        "cnn.add(Flatten())\n",
        "# define LSTM model\n",
        "model = Sequential()\n",
        "model.add(TimeDistributed(cnn))\n",
        "model.add(LSTM(64, return_sequences = True))\n",
        "model.add(LSTM(128))\n",
        "model.add(Dense(512, activation='elu'))\n",
        "model.add(Dropout(0.2))\n",
        "model.add(Dense(256, activation='elu'))\n",
        "model.add(Dropout(0.2))\n",
        "model.add(Dense(128, activation='elu'))\n",
        "model.add(Dropout(0.2))\n",
        "model.add(Dense(1, activation = 'linear'))"
      ],
      "execution_count": null,
      "outputs": []
    },
    {
      "cell_type": "code",
      "metadata": {
        "id": "w1u0CLqWzfkm"
      },
      "source": [
        ""
      ],
      "execution_count": null,
      "outputs": []
    },
    {
      "cell_type": "code",
      "metadata": {
        "id": "vWm4PKV_Hgqj",
        "colab": {
          "base_uri": "https://localhost:8080/",
          "height": 297
        },
        "outputId": "a3e9767b-9306-4c3c-85ce-04a28b8ed4f6"
      },
      "source": [
        "model.summary()"
      ],
      "execution_count": null,
      "outputs": [
        {
          "output_type": "error",
          "ename": "ValueError",
          "evalue": "ignored",
          "traceback": [
            "\u001b[0;31m---------------------------------------------------------------------------\u001b[0m",
            "\u001b[0;31mValueError\u001b[0m                                Traceback (most recent call last)",
            "\u001b[0;32m<ipython-input-66-5f15418b3570>\u001b[0m in \u001b[0;36m<module>\u001b[0;34m()\u001b[0m\n\u001b[0;32m----> 1\u001b[0;31m \u001b[0mmodel\u001b[0m\u001b[0;34m.\u001b[0m\u001b[0msummary\u001b[0m\u001b[0;34m(\u001b[0m\u001b[0;34m)\u001b[0m\u001b[0;34m\u001b[0m\u001b[0;34m\u001b[0m\u001b[0m\n\u001b[0m",
            "\u001b[0;32m/usr/local/lib/python3.6/dist-packages/tensorflow/python/keras/engine/training.py\u001b[0m in \u001b[0;36msummary\u001b[0;34m(self, line_length, positions, print_fn)\u001b[0m\n\u001b[1;32m   2349\u001b[0m     \"\"\"\n\u001b[1;32m   2350\u001b[0m     \u001b[0;32mif\u001b[0m \u001b[0;32mnot\u001b[0m \u001b[0mself\u001b[0m\u001b[0;34m.\u001b[0m\u001b[0mbuilt\u001b[0m\u001b[0;34m:\u001b[0m\u001b[0;34m\u001b[0m\u001b[0;34m\u001b[0m\u001b[0m\n\u001b[0;32m-> 2351\u001b[0;31m       raise ValueError('This model has not yet been built. '\n\u001b[0m\u001b[1;32m   2352\u001b[0m                        \u001b[0;34m'Build the model first by calling `build()` or calling '\u001b[0m\u001b[0;34m\u001b[0m\u001b[0;34m\u001b[0m\u001b[0m\n\u001b[1;32m   2353\u001b[0m                        \u001b[0;34m'`fit()` with some data, or specify '\u001b[0m\u001b[0;34m\u001b[0m\u001b[0;34m\u001b[0m\u001b[0m\n",
            "\u001b[0;31mValueError\u001b[0m: This model has not yet been built. Build the model first by calling `build()` or calling `fit()` with some data, or specify an `input_shape` argument in the first layer(s) for automatic build."
          ]
        }
      ]
    },
    {
      "cell_type": "code",
      "metadata": {
        "id": "CJfhTviXHgGm"
      },
      "source": [
        ""
      ],
      "execution_count": null,
      "outputs": []
    },
    {
      "cell_type": "code",
      "metadata": {
        "id": "aZv_6sEvyCJx",
        "colab": {
          "base_uri": "https://localhost:8080/",
          "height": 120
        },
        "outputId": "6985b8f6-cea2-45be-8d45-de0d30bea617"
      },
      "source": [
        "    '''\n",
        "    from keras.layers import Input\n",
        "    frames = 20\n",
        "    trailer_input  = Input(shape=(frames, 1, 224, 224)\n",
        "                    , name='trailer_input')\n",
        "    \n",
        "    first_ConvLSTM = ConvLSTM2D(filters=20, kernel_size=(3, 3)\n",
        "                       , data_format='channels_first'\n",
        "                       , recurrent_activation='hard_sigmoid'\n",
        "                       , activation='tanh'\n",
        "                       , padding='same', return_sequences=True)(trailer_input)\n",
        "    first_BatchNormalization = BatchNormalization()(first_ConvLSTM)\n",
        "    first_Pooling = MaxPooling3D(pool_size=(1, 2, 2), padding='same', data_format='channels_first')(first_BatchNormalization)\n",
        "    \n",
        "    second_ConvLSTM = ConvLSTM2D(filters=10, kernel_size=(3, 3)\n",
        "                        , data_format='channels_first'\n",
        "                        , padding='same', return_sequences=True)(first_Pooling)\n",
        "    second_BatchNormalization = BatchNormalization()(second_ConvLSTM)\n",
        "    second_Pooling = MaxPooling3D(pool_size=(1, 3, 3), padding='same', data_format='channels_first')(second_BatchNormalization)\n",
        "    \n",
        "    outputs = [branch(second_Pooling, 'cat_{}'.format(category)) for category in categories]\n",
        "    \n",
        "    seq = Model(inputs=trailer_input, outputs=outputs, name='Model ')\n",
        "    '''"
      ],
      "execution_count": null,
      "outputs": [
        {
          "output_type": "execute_result",
          "data": {
            "application/vnd.google.colaboratory.intrinsic+json": {
              "type": "string"
            },
            "text/plain": [
              "\"\\nfrom keras.layers import Input\\nframes = 20\\ntrailer_input  = Input(shape=(frames, 1, 224, 224)\\n                , name='trailer_input')\\n\\nfirst_ConvLSTM = ConvLSTM2D(filters=20, kernel_size=(3, 3)\\n                   , data_format='channels_first'\\n                   , recurrent_activation='hard_sigmoid'\\n                   , activation='tanh'\\n                   , padding='same', return_sequences=True)(trailer_input)\\nfirst_BatchNormalization = BatchNormalization()(first_ConvLSTM)\\nfirst_Pooling = MaxPooling3D(pool_size=(1, 2, 2), padding='same', data_format='channels_first')(first_BatchNormalization)\\n\\nsecond_ConvLSTM = ConvLSTM2D(filters=10, kernel_size=(3, 3)\\n                    , data_format='channels_first'\\n                    , padding='same', return_sequences=True)(first_Pooling)\\nsecond_BatchNormalization = BatchNormalization()(second_ConvLSTM)\\nsecond_Pooling = MaxPooling3D(pool_size=(1, 3, 3), padding='same', data_format='channels_first')(second_BatchNormalization)\\n\\noutputs = [branch(second_Pooling, 'cat_{}'.format(category)) for category in categories]\\n\\nseq = Model(inputs=trailer_input, outputs=outputs, name='Model ')\\n\""
            ]
          },
          "metadata": {
            "tags": []
          },
          "execution_count": 63
        }
      ]
    },
    {
      "cell_type": "code",
      "metadata": {
        "id": "p4Ifv7qayCaj"
      },
      "source": [
        ""
      ],
      "execution_count": null,
      "outputs": []
    },
    {
      "cell_type": "code",
      "metadata": {
        "id": "cfThfw82yB5L"
      },
      "source": [
        ""
      ],
      "execution_count": null,
      "outputs": []
    },
    {
      "cell_type": "code",
      "metadata": {
        "id": "cszE9vkUsLza",
        "colab": {
          "base_uri": "https://localhost:8080/",
          "height": 34
        },
        "outputId": "0e4fdbde-a323-4954-a602-82fe64bdffa2"
      },
      "source": [
        "import keras\n",
        "import tensorflow as tf\n",
        "\n",
        "filepath = '/colab/My Drive/SelfDrivingCar/model-{epoch:02d}-{val_loss:.2f}.h5'\n",
        "model_clstm_callbacks =[\n",
        "  keras.callbacks.EarlyStopping(monitor='val_loss', patience=8),\n",
        "  keras.callbacks.ModelCheckpoint(filepath, monitor='val_loss', verbose=1, save_best_only=False, save_weights_only=True, mode='auto', period=1 ),\n",
        "  keras.callbacks.CSVLogger('model-logs.csv', separator=',', append=False )\n",
        "]"
      ],
      "execution_count": null,
      "outputs": [
        {
          "output_type": "stream",
          "text": [
            "WARNING:tensorflow:`period` argument is deprecated. Please use `save_freq` to specify the frequency in number of batches seen.\n"
          ],
          "name": "stdout"
        }
      ]
    },
    {
      "cell_type": "code",
      "metadata": {
        "id": "53VgG3UGsLfK"
      },
      "source": [
        "model.compile(loss='mse',\n",
        "              optimizer='adam',\n",
        "              metrics=['mae'])"
      ],
      "execution_count": null,
      "outputs": []
    },
    {
      "cell_type": "code",
      "metadata": {
        "id": "ibrJ3RexsKd7",
        "colab": {
          "base_uri": "https://localhost:8080/",
          "height": 254
        },
        "outputId": "5c71d7a3-bda8-4e37-a637-100bd81aa324"
      },
      "source": [
        "history_clstm = model.fit(\n",
        "      train_generator,\n",
        "        \n",
        "      epochs=30,\n",
        "      verbose=1,\n",
        "      validation_data = val_generator,\n",
        "      \n",
        "      callbacks=model_clstm_callbacks)"
      ],
      "execution_count": null,
      "outputs": [
        {
          "output_type": "error",
          "ename": "InvalidArgumentError",
          "evalue": "ignored",
          "traceback": [
            "\u001b[0;31m---------------------------------------------------------------------------\u001b[0m",
            "\u001b[0;31mInvalidArgumentError\u001b[0m                      Traceback (most recent call last)",
            "\u001b[0;32m<ipython-input-71-fa10915d9a3d>\u001b[0m in \u001b[0;36m<module>\u001b[0;34m()\u001b[0m\n\u001b[1;32m      6\u001b[0m       \u001b[0mvalidation_data\u001b[0m \u001b[0;34m=\u001b[0m \u001b[0mval_generator\u001b[0m\u001b[0;34m,\u001b[0m\u001b[0;34m\u001b[0m\u001b[0;34m\u001b[0m\u001b[0m\n\u001b[1;32m      7\u001b[0m \u001b[0;34m\u001b[0m\u001b[0m\n\u001b[0;32m----> 8\u001b[0;31m       callbacks=model_clstm_callbacks)\n\u001b[0m",
            "\u001b[0;32m/usr/local/lib/python3.6/dist-packages/tensorflow/python/keras/engine/training.py\u001b[0m in \u001b[0;36m_method_wrapper\u001b[0;34m(self, *args, **kwargs)\u001b[0m\n\u001b[1;32m    106\u001b[0m   \u001b[0;32mdef\u001b[0m \u001b[0m_method_wrapper\u001b[0m\u001b[0;34m(\u001b[0m\u001b[0mself\u001b[0m\u001b[0;34m,\u001b[0m \u001b[0;34m*\u001b[0m\u001b[0margs\u001b[0m\u001b[0;34m,\u001b[0m \u001b[0;34m**\u001b[0m\u001b[0mkwargs\u001b[0m\u001b[0;34m)\u001b[0m\u001b[0;34m:\u001b[0m\u001b[0;34m\u001b[0m\u001b[0;34m\u001b[0m\u001b[0m\n\u001b[1;32m    107\u001b[0m     \u001b[0;32mif\u001b[0m \u001b[0;32mnot\u001b[0m \u001b[0mself\u001b[0m\u001b[0;34m.\u001b[0m\u001b[0m_in_multi_worker_mode\u001b[0m\u001b[0;34m(\u001b[0m\u001b[0;34m)\u001b[0m\u001b[0;34m:\u001b[0m  \u001b[0;31m# pylint: disable=protected-access\u001b[0m\u001b[0;34m\u001b[0m\u001b[0;34m\u001b[0m\u001b[0m\n\u001b[0;32m--> 108\u001b[0;31m       \u001b[0;32mreturn\u001b[0m \u001b[0mmethod\u001b[0m\u001b[0;34m(\u001b[0m\u001b[0mself\u001b[0m\u001b[0;34m,\u001b[0m \u001b[0;34m*\u001b[0m\u001b[0margs\u001b[0m\u001b[0;34m,\u001b[0m \u001b[0;34m**\u001b[0m\u001b[0mkwargs\u001b[0m\u001b[0;34m)\u001b[0m\u001b[0;34m\u001b[0m\u001b[0;34m\u001b[0m\u001b[0m\n\u001b[0m\u001b[1;32m    109\u001b[0m \u001b[0;34m\u001b[0m\u001b[0m\n\u001b[1;32m    110\u001b[0m     \u001b[0;31m# Running inside `run_distribute_coordinator` already.\u001b[0m\u001b[0;34m\u001b[0m\u001b[0;34m\u001b[0m\u001b[0;34m\u001b[0m\u001b[0m\n",
            "\u001b[0;32m/usr/local/lib/python3.6/dist-packages/tensorflow/python/keras/engine/training.py\u001b[0m in \u001b[0;36mfit\u001b[0;34m(self, x, y, batch_size, epochs, verbose, callbacks, validation_split, validation_data, shuffle, class_weight, sample_weight, initial_epoch, steps_per_epoch, validation_steps, validation_batch_size, validation_freq, max_queue_size, workers, use_multiprocessing)\u001b[0m\n\u001b[1;32m   1061\u001b[0m           \u001b[0muse_multiprocessing\u001b[0m\u001b[0;34m=\u001b[0m\u001b[0muse_multiprocessing\u001b[0m\u001b[0;34m,\u001b[0m\u001b[0;34m\u001b[0m\u001b[0;34m\u001b[0m\u001b[0m\n\u001b[1;32m   1062\u001b[0m           \u001b[0mmodel\u001b[0m\u001b[0;34m=\u001b[0m\u001b[0mself\u001b[0m\u001b[0;34m,\u001b[0m\u001b[0;34m\u001b[0m\u001b[0;34m\u001b[0m\u001b[0m\n\u001b[0;32m-> 1063\u001b[0;31m           steps_per_execution=self._steps_per_execution)\n\u001b[0m\u001b[1;32m   1064\u001b[0m \u001b[0;34m\u001b[0m\u001b[0m\n\u001b[1;32m   1065\u001b[0m       \u001b[0;31m# Container that configures and calls `tf.keras.Callback`s.\u001b[0m\u001b[0;34m\u001b[0m\u001b[0;34m\u001b[0m\u001b[0;34m\u001b[0m\u001b[0m\n",
            "\u001b[0;32m/usr/local/lib/python3.6/dist-packages/tensorflow/python/keras/engine/data_adapter.py\u001b[0m in \u001b[0;36m__init__\u001b[0;34m(self, x, y, sample_weight, batch_size, steps_per_epoch, initial_epoch, epochs, shuffle, class_weight, max_queue_size, workers, use_multiprocessing, model, steps_per_execution)\u001b[0m\n\u001b[1;32m   1115\u001b[0m         \u001b[0muse_multiprocessing\u001b[0m\u001b[0;34m=\u001b[0m\u001b[0muse_multiprocessing\u001b[0m\u001b[0;34m,\u001b[0m\u001b[0;34m\u001b[0m\u001b[0;34m\u001b[0m\u001b[0m\n\u001b[1;32m   1116\u001b[0m         \u001b[0mdistribution_strategy\u001b[0m\u001b[0;34m=\u001b[0m\u001b[0mds_context\u001b[0m\u001b[0;34m.\u001b[0m\u001b[0mget_strategy\u001b[0m\u001b[0;34m(\u001b[0m\u001b[0;34m)\u001b[0m\u001b[0;34m,\u001b[0m\u001b[0;34m\u001b[0m\u001b[0;34m\u001b[0m\u001b[0m\n\u001b[0;32m-> 1117\u001b[0;31m         model=model)\n\u001b[0m\u001b[1;32m   1118\u001b[0m \u001b[0;34m\u001b[0m\u001b[0m\n\u001b[1;32m   1119\u001b[0m     \u001b[0mstrategy\u001b[0m \u001b[0;34m=\u001b[0m \u001b[0mds_context\u001b[0m\u001b[0;34m.\u001b[0m\u001b[0mget_strategy\u001b[0m\u001b[0;34m(\u001b[0m\u001b[0;34m)\u001b[0m\u001b[0;34m\u001b[0m\u001b[0;34m\u001b[0m\u001b[0m\n",
            "\u001b[0;32m/usr/local/lib/python3.6/dist-packages/tensorflow/python/keras/engine/data_adapter.py\u001b[0m in \u001b[0;36m__init__\u001b[0;34m(self, x, y, sample_weights, shuffle, workers, use_multiprocessing, max_queue_size, model, **kwargs)\u001b[0m\n\u001b[1;32m    914\u001b[0m         \u001b[0mmax_queue_size\u001b[0m\u001b[0;34m=\u001b[0m\u001b[0mmax_queue_size\u001b[0m\u001b[0;34m,\u001b[0m\u001b[0;34m\u001b[0m\u001b[0;34m\u001b[0m\u001b[0m\n\u001b[1;32m    915\u001b[0m         \u001b[0mmodel\u001b[0m\u001b[0;34m=\u001b[0m\u001b[0mmodel\u001b[0m\u001b[0;34m,\u001b[0m\u001b[0;34m\u001b[0m\u001b[0;34m\u001b[0m\u001b[0m\n\u001b[0;32m--> 916\u001b[0;31m         **kwargs)\n\u001b[0m\u001b[1;32m    917\u001b[0m \u001b[0;34m\u001b[0m\u001b[0m\n\u001b[1;32m    918\u001b[0m   \u001b[0;34m@\u001b[0m\u001b[0mstaticmethod\u001b[0m\u001b[0;34m\u001b[0m\u001b[0;34m\u001b[0m\u001b[0m\n",
            "\u001b[0;32m/usr/local/lib/python3.6/dist-packages/tensorflow/python/keras/engine/data_adapter.py\u001b[0m in \u001b[0;36m__init__\u001b[0;34m(self, x, y, sample_weights, workers, use_multiprocessing, max_queue_size, model, **kwargs)\u001b[0m\n\u001b[1;32m    792\u001b[0m       \u001b[0mconcrete_x\u001b[0m\u001b[0;34m,\u001b[0m \u001b[0m_\u001b[0m\u001b[0;34m,\u001b[0m \u001b[0m_\u001b[0m \u001b[0;34m=\u001b[0m \u001b[0munpack_x_y_sample_weight\u001b[0m\u001b[0;34m(\u001b[0m\u001b[0mpeek\u001b[0m\u001b[0;34m)\u001b[0m\u001b[0;34m\u001b[0m\u001b[0;34m\u001b[0m\u001b[0m\n\u001b[1;32m    793\u001b[0m       model.distribute_strategy.run(\n\u001b[0;32m--> 794\u001b[0;31m           lambda x: model(x, training=False), args=(concrete_x,))\n\u001b[0m\u001b[1;32m    795\u001b[0m \u001b[0;34m\u001b[0m\u001b[0m\n\u001b[1;32m    796\u001b[0m     \u001b[0mself\u001b[0m\u001b[0;34m.\u001b[0m\u001b[0m_first_batch_size\u001b[0m \u001b[0;34m=\u001b[0m \u001b[0mint\u001b[0m\u001b[0;34m(\u001b[0m\u001b[0mnest\u001b[0m\u001b[0;34m.\u001b[0m\u001b[0mflatten\u001b[0m\u001b[0;34m(\u001b[0m\u001b[0mpeek\u001b[0m\u001b[0;34m)\u001b[0m\u001b[0;34m[\u001b[0m\u001b[0;36m0\u001b[0m\u001b[0;34m]\u001b[0m\u001b[0;34m.\u001b[0m\u001b[0mshape\u001b[0m\u001b[0;34m[\u001b[0m\u001b[0;36m0\u001b[0m\u001b[0;34m]\u001b[0m\u001b[0;34m)\u001b[0m\u001b[0;34m\u001b[0m\u001b[0;34m\u001b[0m\u001b[0m\n",
            "\u001b[0;32m/usr/local/lib/python3.6/dist-packages/tensorflow/python/distribute/distribute_lib.py\u001b[0m in \u001b[0;36mrun\u001b[0;34m(***failed resolving arguments***)\u001b[0m\n\u001b[1;32m   1209\u001b[0m       fn = autograph.tf_convert(\n\u001b[1;32m   1210\u001b[0m           fn, autograph_ctx.control_status_ctx(), convert_by_default=False)\n\u001b[0;32m-> 1211\u001b[0;31m       \u001b[0;32mreturn\u001b[0m \u001b[0mself\u001b[0m\u001b[0;34m.\u001b[0m\u001b[0m_extended\u001b[0m\u001b[0;34m.\u001b[0m\u001b[0mcall_for_each_replica\u001b[0m\u001b[0;34m(\u001b[0m\u001b[0mfn\u001b[0m\u001b[0;34m,\u001b[0m \u001b[0margs\u001b[0m\u001b[0;34m=\u001b[0m\u001b[0margs\u001b[0m\u001b[0;34m,\u001b[0m \u001b[0mkwargs\u001b[0m\u001b[0;34m=\u001b[0m\u001b[0mkwargs\u001b[0m\u001b[0;34m)\u001b[0m\u001b[0;34m\u001b[0m\u001b[0;34m\u001b[0m\u001b[0m\n\u001b[0m\u001b[1;32m   1212\u001b[0m \u001b[0;34m\u001b[0m\u001b[0m\n\u001b[1;32m   1213\u001b[0m   \u001b[0;31m# TODO(b/151224785): Remove deprecated alias.\u001b[0m\u001b[0;34m\u001b[0m\u001b[0;34m\u001b[0m\u001b[0;34m\u001b[0m\u001b[0m\n",
            "\u001b[0;32m/usr/local/lib/python3.6/dist-packages/tensorflow/python/distribute/distribute_lib.py\u001b[0m in \u001b[0;36mcall_for_each_replica\u001b[0;34m(self, fn, args, kwargs)\u001b[0m\n\u001b[1;32m   2583\u001b[0m       \u001b[0mkwargs\u001b[0m \u001b[0;34m=\u001b[0m \u001b[0;34m{\u001b[0m\u001b[0;34m}\u001b[0m\u001b[0;34m\u001b[0m\u001b[0;34m\u001b[0m\u001b[0m\n\u001b[1;32m   2584\u001b[0m     \u001b[0;32mwith\u001b[0m \u001b[0mself\u001b[0m\u001b[0;34m.\u001b[0m\u001b[0m_container_strategy\u001b[0m\u001b[0;34m(\u001b[0m\u001b[0;34m)\u001b[0m\u001b[0;34m.\u001b[0m\u001b[0mscope\u001b[0m\u001b[0;34m(\u001b[0m\u001b[0;34m)\u001b[0m\u001b[0;34m:\u001b[0m\u001b[0;34m\u001b[0m\u001b[0;34m\u001b[0m\u001b[0m\n\u001b[0;32m-> 2585\u001b[0;31m       \u001b[0;32mreturn\u001b[0m \u001b[0mself\u001b[0m\u001b[0;34m.\u001b[0m\u001b[0m_call_for_each_replica\u001b[0m\u001b[0;34m(\u001b[0m\u001b[0mfn\u001b[0m\u001b[0;34m,\u001b[0m \u001b[0margs\u001b[0m\u001b[0;34m,\u001b[0m \u001b[0mkwargs\u001b[0m\u001b[0;34m)\u001b[0m\u001b[0;34m\u001b[0m\u001b[0;34m\u001b[0m\u001b[0m\n\u001b[0m\u001b[1;32m   2586\u001b[0m \u001b[0;34m\u001b[0m\u001b[0m\n\u001b[1;32m   2587\u001b[0m   \u001b[0;32mdef\u001b[0m \u001b[0m_call_for_each_replica\u001b[0m\u001b[0;34m(\u001b[0m\u001b[0mself\u001b[0m\u001b[0;34m,\u001b[0m \u001b[0mfn\u001b[0m\u001b[0;34m,\u001b[0m \u001b[0margs\u001b[0m\u001b[0;34m,\u001b[0m \u001b[0mkwargs\u001b[0m\u001b[0;34m)\u001b[0m\u001b[0;34m:\u001b[0m\u001b[0;34m\u001b[0m\u001b[0;34m\u001b[0m\u001b[0m\n",
            "\u001b[0;32m/usr/local/lib/python3.6/dist-packages/tensorflow/python/distribute/distribute_lib.py\u001b[0m in \u001b[0;36m_call_for_each_replica\u001b[0;34m(self, fn, args, kwargs)\u001b[0m\n\u001b[1;32m   2943\u001b[0m         \u001b[0mself\u001b[0m\u001b[0;34m.\u001b[0m\u001b[0m_container_strategy\u001b[0m\u001b[0;34m(\u001b[0m\u001b[0;34m)\u001b[0m\u001b[0;34m,\u001b[0m\u001b[0;34m\u001b[0m\u001b[0;34m\u001b[0m\u001b[0m\n\u001b[1;32m   2944\u001b[0m         replica_id_in_sync_group=constant_op.constant(0, dtypes.int32)):\n\u001b[0;32m-> 2945\u001b[0;31m       \u001b[0;32mreturn\u001b[0m \u001b[0mfn\u001b[0m\u001b[0;34m(\u001b[0m\u001b[0;34m*\u001b[0m\u001b[0margs\u001b[0m\u001b[0;34m,\u001b[0m \u001b[0;34m**\u001b[0m\u001b[0mkwargs\u001b[0m\u001b[0;34m)\u001b[0m\u001b[0;34m\u001b[0m\u001b[0;34m\u001b[0m\u001b[0m\n\u001b[0m\u001b[1;32m   2946\u001b[0m \u001b[0;34m\u001b[0m\u001b[0m\n\u001b[1;32m   2947\u001b[0m   \u001b[0;32mdef\u001b[0m \u001b[0m_reduce_to\u001b[0m\u001b[0;34m(\u001b[0m\u001b[0mself\u001b[0m\u001b[0;34m,\u001b[0m \u001b[0mreduce_op\u001b[0m\u001b[0;34m,\u001b[0m \u001b[0mvalue\u001b[0m\u001b[0;34m,\u001b[0m \u001b[0mdestinations\u001b[0m\u001b[0;34m,\u001b[0m \u001b[0mexperimental_hints\u001b[0m\u001b[0;34m)\u001b[0m\u001b[0;34m:\u001b[0m\u001b[0;34m\u001b[0m\u001b[0;34m\u001b[0m\u001b[0m\n",
            "\u001b[0;32m/usr/local/lib/python3.6/dist-packages/tensorflow/python/autograph/impl/api.py\u001b[0m in \u001b[0;36mwrapper\u001b[0;34m(*args, **kwargs)\u001b[0m\n\u001b[1;32m    273\u001b[0m   \u001b[0;32mdef\u001b[0m \u001b[0mwrapper\u001b[0m\u001b[0;34m(\u001b[0m\u001b[0;34m*\u001b[0m\u001b[0margs\u001b[0m\u001b[0;34m,\u001b[0m \u001b[0;34m**\u001b[0m\u001b[0mkwargs\u001b[0m\u001b[0;34m)\u001b[0m\u001b[0;34m:\u001b[0m\u001b[0;34m\u001b[0m\u001b[0;34m\u001b[0m\u001b[0m\n\u001b[1;32m    274\u001b[0m     \u001b[0;32mwith\u001b[0m \u001b[0mag_ctx\u001b[0m\u001b[0;34m.\u001b[0m\u001b[0mControlStatusCtx\u001b[0m\u001b[0;34m(\u001b[0m\u001b[0mstatus\u001b[0m\u001b[0;34m=\u001b[0m\u001b[0mag_ctx\u001b[0m\u001b[0;34m.\u001b[0m\u001b[0mStatus\u001b[0m\u001b[0;34m.\u001b[0m\u001b[0mUNSPECIFIED\u001b[0m\u001b[0;34m)\u001b[0m\u001b[0;34m:\u001b[0m\u001b[0;34m\u001b[0m\u001b[0;34m\u001b[0m\u001b[0m\n\u001b[0;32m--> 275\u001b[0;31m       \u001b[0;32mreturn\u001b[0m \u001b[0mfunc\u001b[0m\u001b[0;34m(\u001b[0m\u001b[0;34m*\u001b[0m\u001b[0margs\u001b[0m\u001b[0;34m,\u001b[0m \u001b[0;34m**\u001b[0m\u001b[0mkwargs\u001b[0m\u001b[0;34m)\u001b[0m\u001b[0;34m\u001b[0m\u001b[0;34m\u001b[0m\u001b[0m\n\u001b[0m\u001b[1;32m    276\u001b[0m \u001b[0;34m\u001b[0m\u001b[0m\n\u001b[1;32m    277\u001b[0m   \u001b[0;32mif\u001b[0m \u001b[0minspect\u001b[0m\u001b[0;34m.\u001b[0m\u001b[0misfunction\u001b[0m\u001b[0;34m(\u001b[0m\u001b[0mfunc\u001b[0m\u001b[0;34m)\u001b[0m \u001b[0;32mor\u001b[0m \u001b[0minspect\u001b[0m\u001b[0;34m.\u001b[0m\u001b[0mismethod\u001b[0m\u001b[0;34m(\u001b[0m\u001b[0mfunc\u001b[0m\u001b[0;34m)\u001b[0m\u001b[0;34m:\u001b[0m\u001b[0;34m\u001b[0m\u001b[0;34m\u001b[0m\u001b[0m\n",
            "\u001b[0;32m/usr/local/lib/python3.6/dist-packages/tensorflow/python/keras/engine/data_adapter.py\u001b[0m in \u001b[0;36m<lambda>\u001b[0;34m(x)\u001b[0m\n\u001b[1;32m    792\u001b[0m       \u001b[0mconcrete_x\u001b[0m\u001b[0;34m,\u001b[0m \u001b[0m_\u001b[0m\u001b[0;34m,\u001b[0m \u001b[0m_\u001b[0m \u001b[0;34m=\u001b[0m \u001b[0munpack_x_y_sample_weight\u001b[0m\u001b[0;34m(\u001b[0m\u001b[0mpeek\u001b[0m\u001b[0;34m)\u001b[0m\u001b[0;34m\u001b[0m\u001b[0;34m\u001b[0m\u001b[0m\n\u001b[1;32m    793\u001b[0m       model.distribute_strategy.run(\n\u001b[0;32m--> 794\u001b[0;31m           lambda x: model(x, training=False), args=(concrete_x,))\n\u001b[0m\u001b[1;32m    795\u001b[0m \u001b[0;34m\u001b[0m\u001b[0m\n\u001b[1;32m    796\u001b[0m     \u001b[0mself\u001b[0m\u001b[0;34m.\u001b[0m\u001b[0m_first_batch_size\u001b[0m \u001b[0;34m=\u001b[0m \u001b[0mint\u001b[0m\u001b[0;34m(\u001b[0m\u001b[0mnest\u001b[0m\u001b[0;34m.\u001b[0m\u001b[0mflatten\u001b[0m\u001b[0;34m(\u001b[0m\u001b[0mpeek\u001b[0m\u001b[0;34m)\u001b[0m\u001b[0;34m[\u001b[0m\u001b[0;36m0\u001b[0m\u001b[0;34m]\u001b[0m\u001b[0;34m.\u001b[0m\u001b[0mshape\u001b[0m\u001b[0;34m[\u001b[0m\u001b[0;36m0\u001b[0m\u001b[0;34m]\u001b[0m\u001b[0;34m)\u001b[0m\u001b[0;34m\u001b[0m\u001b[0;34m\u001b[0m\u001b[0m\n",
            "\u001b[0;32m/usr/local/lib/python3.6/dist-packages/tensorflow/python/keras/engine/base_layer.py\u001b[0m in \u001b[0;36m__call__\u001b[0;34m(self, *args, **kwargs)\u001b[0m\n\u001b[1;32m    983\u001b[0m \u001b[0;34m\u001b[0m\u001b[0m\n\u001b[1;32m    984\u001b[0m         \u001b[0;32mwith\u001b[0m \u001b[0mops\u001b[0m\u001b[0;34m.\u001b[0m\u001b[0menable_auto_cast_variables\u001b[0m\u001b[0;34m(\u001b[0m\u001b[0mself\u001b[0m\u001b[0;34m.\u001b[0m\u001b[0m_compute_dtype_object\u001b[0m\u001b[0;34m)\u001b[0m\u001b[0;34m:\u001b[0m\u001b[0;34m\u001b[0m\u001b[0;34m\u001b[0m\u001b[0m\n\u001b[0;32m--> 985\u001b[0;31m           \u001b[0moutputs\u001b[0m \u001b[0;34m=\u001b[0m \u001b[0mcall_fn\u001b[0m\u001b[0;34m(\u001b[0m\u001b[0minputs\u001b[0m\u001b[0;34m,\u001b[0m \u001b[0;34m*\u001b[0m\u001b[0margs\u001b[0m\u001b[0;34m,\u001b[0m \u001b[0;34m**\u001b[0m\u001b[0mkwargs\u001b[0m\u001b[0;34m)\u001b[0m\u001b[0;34m\u001b[0m\u001b[0;34m\u001b[0m\u001b[0m\n\u001b[0m\u001b[1;32m    986\u001b[0m \u001b[0;34m\u001b[0m\u001b[0m\n\u001b[1;32m    987\u001b[0m         \u001b[0;32mif\u001b[0m \u001b[0mself\u001b[0m\u001b[0;34m.\u001b[0m\u001b[0m_activity_regularizer\u001b[0m\u001b[0;34m:\u001b[0m\u001b[0;34m\u001b[0m\u001b[0;34m\u001b[0m\u001b[0m\n",
            "\u001b[0;32m/usr/local/lib/python3.6/dist-packages/tensorflow/python/keras/engine/sequential.py\u001b[0m in \u001b[0;36mcall\u001b[0;34m(self, inputs, training, mask)\u001b[0m\n\u001b[1;32m    384\u001b[0m         \u001b[0mkwargs\u001b[0m\u001b[0;34m[\u001b[0m\u001b[0;34m'training'\u001b[0m\u001b[0;34m]\u001b[0m \u001b[0;34m=\u001b[0m \u001b[0mtraining\u001b[0m\u001b[0;34m\u001b[0m\u001b[0;34m\u001b[0m\u001b[0m\n\u001b[1;32m    385\u001b[0m \u001b[0;34m\u001b[0m\u001b[0m\n\u001b[0;32m--> 386\u001b[0;31m       \u001b[0moutputs\u001b[0m \u001b[0;34m=\u001b[0m \u001b[0mlayer\u001b[0m\u001b[0;34m(\u001b[0m\u001b[0minputs\u001b[0m\u001b[0;34m,\u001b[0m \u001b[0;34m**\u001b[0m\u001b[0mkwargs\u001b[0m\u001b[0;34m)\u001b[0m\u001b[0;34m\u001b[0m\u001b[0;34m\u001b[0m\u001b[0m\n\u001b[0m\u001b[1;32m    387\u001b[0m \u001b[0;34m\u001b[0m\u001b[0m\n\u001b[1;32m    388\u001b[0m       \u001b[0;32mif\u001b[0m \u001b[0mlen\u001b[0m\u001b[0;34m(\u001b[0m\u001b[0mnest\u001b[0m\u001b[0;34m.\u001b[0m\u001b[0mflatten\u001b[0m\u001b[0;34m(\u001b[0m\u001b[0moutputs\u001b[0m\u001b[0;34m)\u001b[0m\u001b[0;34m)\u001b[0m \u001b[0;34m!=\u001b[0m \u001b[0;36m1\u001b[0m\u001b[0;34m:\u001b[0m\u001b[0;34m\u001b[0m\u001b[0;34m\u001b[0m\u001b[0m\n",
            "\u001b[0;32m/usr/local/lib/python3.6/dist-packages/tensorflow/python/keras/engine/base_layer.py\u001b[0m in \u001b[0;36m__call__\u001b[0;34m(self, *args, **kwargs)\u001b[0m\n\u001b[1;32m    983\u001b[0m \u001b[0;34m\u001b[0m\u001b[0m\n\u001b[1;32m    984\u001b[0m         \u001b[0;32mwith\u001b[0m \u001b[0mops\u001b[0m\u001b[0;34m.\u001b[0m\u001b[0menable_auto_cast_variables\u001b[0m\u001b[0;34m(\u001b[0m\u001b[0mself\u001b[0m\u001b[0;34m.\u001b[0m\u001b[0m_compute_dtype_object\u001b[0m\u001b[0;34m)\u001b[0m\u001b[0;34m:\u001b[0m\u001b[0;34m\u001b[0m\u001b[0;34m\u001b[0m\u001b[0m\n\u001b[0;32m--> 985\u001b[0;31m           \u001b[0moutputs\u001b[0m \u001b[0;34m=\u001b[0m \u001b[0mcall_fn\u001b[0m\u001b[0;34m(\u001b[0m\u001b[0minputs\u001b[0m\u001b[0;34m,\u001b[0m \u001b[0;34m*\u001b[0m\u001b[0margs\u001b[0m\u001b[0;34m,\u001b[0m \u001b[0;34m**\u001b[0m\u001b[0mkwargs\u001b[0m\u001b[0;34m)\u001b[0m\u001b[0;34m\u001b[0m\u001b[0;34m\u001b[0m\u001b[0m\n\u001b[0m\u001b[1;32m    986\u001b[0m \u001b[0;34m\u001b[0m\u001b[0m\n\u001b[1;32m    987\u001b[0m         \u001b[0;32mif\u001b[0m \u001b[0mself\u001b[0m\u001b[0;34m.\u001b[0m\u001b[0m_activity_regularizer\u001b[0m\u001b[0;34m:\u001b[0m\u001b[0;34m\u001b[0m\u001b[0;34m\u001b[0m\u001b[0m\n",
            "\u001b[0;32m/usr/local/lib/python3.6/dist-packages/tensorflow/python/keras/layers/wrappers.py\u001b[0m in \u001b[0;36mcall\u001b[0;34m(self, inputs, training, mask)\u001b[0m\n\u001b[1;32m    235\u001b[0m           \u001b[0mkwargs\u001b[0m\u001b[0;34m[\u001b[0m\u001b[0;34m'mask'\u001b[0m\u001b[0;34m]\u001b[0m \u001b[0;34m=\u001b[0m \u001b[0mK\u001b[0m\u001b[0;34m.\u001b[0m\u001b[0mreshape\u001b[0m\u001b[0;34m(\u001b[0m\u001b[0mmask\u001b[0m\u001b[0;34m,\u001b[0m \u001b[0minner_mask_shape\u001b[0m\u001b[0;34m)\u001b[0m\u001b[0;34m\u001b[0m\u001b[0;34m\u001b[0m\u001b[0m\n\u001b[1;32m    236\u001b[0m \u001b[0;34m\u001b[0m\u001b[0m\n\u001b[0;32m--> 237\u001b[0;31m         \u001b[0my\u001b[0m \u001b[0;34m=\u001b[0m \u001b[0mself\u001b[0m\u001b[0;34m.\u001b[0m\u001b[0mlayer\u001b[0m\u001b[0;34m(\u001b[0m\u001b[0minputs\u001b[0m\u001b[0;34m,\u001b[0m \u001b[0;34m**\u001b[0m\u001b[0mkwargs\u001b[0m\u001b[0;34m)\u001b[0m\u001b[0;34m\u001b[0m\u001b[0;34m\u001b[0m\u001b[0m\n\u001b[0m\u001b[1;32m    238\u001b[0m \u001b[0;34m\u001b[0m\u001b[0m\n\u001b[1;32m    239\u001b[0m         \u001b[0;31m# Shape: (num_samples, timesteps, ...)\u001b[0m\u001b[0;34m\u001b[0m\u001b[0;34m\u001b[0m\u001b[0;34m\u001b[0m\u001b[0m\n",
            "\u001b[0;32m/usr/local/lib/python3.6/dist-packages/tensorflow/python/keras/engine/base_layer.py\u001b[0m in \u001b[0;36m__call__\u001b[0;34m(self, *args, **kwargs)\u001b[0m\n\u001b[1;32m    983\u001b[0m \u001b[0;34m\u001b[0m\u001b[0m\n\u001b[1;32m    984\u001b[0m         \u001b[0;32mwith\u001b[0m \u001b[0mops\u001b[0m\u001b[0;34m.\u001b[0m\u001b[0menable_auto_cast_variables\u001b[0m\u001b[0;34m(\u001b[0m\u001b[0mself\u001b[0m\u001b[0;34m.\u001b[0m\u001b[0m_compute_dtype_object\u001b[0m\u001b[0;34m)\u001b[0m\u001b[0;34m:\u001b[0m\u001b[0;34m\u001b[0m\u001b[0;34m\u001b[0m\u001b[0m\n\u001b[0;32m--> 985\u001b[0;31m           \u001b[0moutputs\u001b[0m \u001b[0;34m=\u001b[0m \u001b[0mcall_fn\u001b[0m\u001b[0;34m(\u001b[0m\u001b[0minputs\u001b[0m\u001b[0;34m,\u001b[0m \u001b[0;34m*\u001b[0m\u001b[0margs\u001b[0m\u001b[0;34m,\u001b[0m \u001b[0;34m**\u001b[0m\u001b[0mkwargs\u001b[0m\u001b[0;34m)\u001b[0m\u001b[0;34m\u001b[0m\u001b[0;34m\u001b[0m\u001b[0m\n\u001b[0m\u001b[1;32m    986\u001b[0m \u001b[0;34m\u001b[0m\u001b[0m\n\u001b[1;32m    987\u001b[0m         \u001b[0;32mif\u001b[0m \u001b[0mself\u001b[0m\u001b[0;34m.\u001b[0m\u001b[0m_activity_regularizer\u001b[0m\u001b[0;34m:\u001b[0m\u001b[0;34m\u001b[0m\u001b[0;34m\u001b[0m\u001b[0m\n",
            "\u001b[0;32m/usr/local/lib/python3.6/dist-packages/tensorflow/python/keras/engine/sequential.py\u001b[0m in \u001b[0;36mcall\u001b[0;34m(self, inputs, training, mask)\u001b[0m\n\u001b[1;32m    370\u001b[0m       \u001b[0;32mif\u001b[0m \u001b[0;32mnot\u001b[0m \u001b[0mself\u001b[0m\u001b[0;34m.\u001b[0m\u001b[0mbuilt\u001b[0m\u001b[0;34m:\u001b[0m\u001b[0;34m\u001b[0m\u001b[0;34m\u001b[0m\u001b[0m\n\u001b[1;32m    371\u001b[0m         \u001b[0mself\u001b[0m\u001b[0;34m.\u001b[0m\u001b[0m_init_graph_network\u001b[0m\u001b[0;34m(\u001b[0m\u001b[0mself\u001b[0m\u001b[0;34m.\u001b[0m\u001b[0minputs\u001b[0m\u001b[0;34m,\u001b[0m \u001b[0mself\u001b[0m\u001b[0;34m.\u001b[0m\u001b[0moutputs\u001b[0m\u001b[0;34m)\u001b[0m\u001b[0;34m\u001b[0m\u001b[0;34m\u001b[0m\u001b[0m\n\u001b[0;32m--> 372\u001b[0;31m       \u001b[0;32mreturn\u001b[0m \u001b[0msuper\u001b[0m\u001b[0;34m(\u001b[0m\u001b[0mSequential\u001b[0m\u001b[0;34m,\u001b[0m \u001b[0mself\u001b[0m\u001b[0;34m)\u001b[0m\u001b[0;34m.\u001b[0m\u001b[0mcall\u001b[0m\u001b[0;34m(\u001b[0m\u001b[0minputs\u001b[0m\u001b[0;34m,\u001b[0m \u001b[0mtraining\u001b[0m\u001b[0;34m=\u001b[0m\u001b[0mtraining\u001b[0m\u001b[0;34m,\u001b[0m \u001b[0mmask\u001b[0m\u001b[0;34m=\u001b[0m\u001b[0mmask\u001b[0m\u001b[0;34m)\u001b[0m\u001b[0;34m\u001b[0m\u001b[0;34m\u001b[0m\u001b[0m\n\u001b[0m\u001b[1;32m    373\u001b[0m \u001b[0;34m\u001b[0m\u001b[0m\n\u001b[1;32m    374\u001b[0m     \u001b[0moutputs\u001b[0m \u001b[0;34m=\u001b[0m \u001b[0minputs\u001b[0m  \u001b[0;31m# handle the corner case where self.layers is empty\u001b[0m\u001b[0;34m\u001b[0m\u001b[0;34m\u001b[0m\u001b[0m\n",
            "\u001b[0;32m/usr/local/lib/python3.6/dist-packages/tensorflow/python/keras/engine/functional.py\u001b[0m in \u001b[0;36mcall\u001b[0;34m(self, inputs, training, mask)\u001b[0m\n\u001b[1;32m    384\u001b[0m     \"\"\"\n\u001b[1;32m    385\u001b[0m     return self._run_internal_graph(\n\u001b[0;32m--> 386\u001b[0;31m         inputs, training=training, mask=mask)\n\u001b[0m\u001b[1;32m    387\u001b[0m \u001b[0;34m\u001b[0m\u001b[0m\n\u001b[1;32m    388\u001b[0m   \u001b[0;32mdef\u001b[0m \u001b[0mcompute_output_shape\u001b[0m\u001b[0;34m(\u001b[0m\u001b[0mself\u001b[0m\u001b[0;34m,\u001b[0m \u001b[0minput_shape\u001b[0m\u001b[0;34m)\u001b[0m\u001b[0;34m:\u001b[0m\u001b[0;34m\u001b[0m\u001b[0;34m\u001b[0m\u001b[0m\n",
            "\u001b[0;32m/usr/local/lib/python3.6/dist-packages/tensorflow/python/keras/engine/functional.py\u001b[0m in \u001b[0;36m_run_internal_graph\u001b[0;34m(self, inputs, training, mask)\u001b[0m\n\u001b[1;32m    506\u001b[0m \u001b[0;34m\u001b[0m\u001b[0m\n\u001b[1;32m    507\u001b[0m         \u001b[0margs\u001b[0m\u001b[0;34m,\u001b[0m \u001b[0mkwargs\u001b[0m \u001b[0;34m=\u001b[0m \u001b[0mnode\u001b[0m\u001b[0;34m.\u001b[0m\u001b[0mmap_arguments\u001b[0m\u001b[0;34m(\u001b[0m\u001b[0mtensor_dict\u001b[0m\u001b[0;34m)\u001b[0m\u001b[0;34m\u001b[0m\u001b[0;34m\u001b[0m\u001b[0m\n\u001b[0;32m--> 508\u001b[0;31m         \u001b[0moutputs\u001b[0m \u001b[0;34m=\u001b[0m \u001b[0mnode\u001b[0m\u001b[0;34m.\u001b[0m\u001b[0mlayer\u001b[0m\u001b[0;34m(\u001b[0m\u001b[0;34m*\u001b[0m\u001b[0margs\u001b[0m\u001b[0;34m,\u001b[0m \u001b[0;34m**\u001b[0m\u001b[0mkwargs\u001b[0m\u001b[0;34m)\u001b[0m\u001b[0;34m\u001b[0m\u001b[0;34m\u001b[0m\u001b[0m\n\u001b[0m\u001b[1;32m    509\u001b[0m \u001b[0;34m\u001b[0m\u001b[0m\n\u001b[1;32m    510\u001b[0m         \u001b[0;31m# Update tensor_dict.\u001b[0m\u001b[0;34m\u001b[0m\u001b[0;34m\u001b[0m\u001b[0;34m\u001b[0m\u001b[0m\n",
            "\u001b[0;32m/usr/local/lib/python3.6/dist-packages/tensorflow/python/keras/engine/base_layer.py\u001b[0m in \u001b[0;36m__call__\u001b[0;34m(self, *args, **kwargs)\u001b[0m\n\u001b[1;32m    983\u001b[0m \u001b[0;34m\u001b[0m\u001b[0m\n\u001b[1;32m    984\u001b[0m         \u001b[0;32mwith\u001b[0m \u001b[0mops\u001b[0m\u001b[0;34m.\u001b[0m\u001b[0menable_auto_cast_variables\u001b[0m\u001b[0;34m(\u001b[0m\u001b[0mself\u001b[0m\u001b[0;34m.\u001b[0m\u001b[0m_compute_dtype_object\u001b[0m\u001b[0;34m)\u001b[0m\u001b[0;34m:\u001b[0m\u001b[0;34m\u001b[0m\u001b[0;34m\u001b[0m\u001b[0m\n\u001b[0;32m--> 985\u001b[0;31m           \u001b[0moutputs\u001b[0m \u001b[0;34m=\u001b[0m \u001b[0mcall_fn\u001b[0m\u001b[0;34m(\u001b[0m\u001b[0minputs\u001b[0m\u001b[0;34m,\u001b[0m \u001b[0;34m*\u001b[0m\u001b[0margs\u001b[0m\u001b[0;34m,\u001b[0m \u001b[0;34m**\u001b[0m\u001b[0mkwargs\u001b[0m\u001b[0;34m)\u001b[0m\u001b[0;34m\u001b[0m\u001b[0;34m\u001b[0m\u001b[0m\n\u001b[0m\u001b[1;32m    986\u001b[0m \u001b[0;34m\u001b[0m\u001b[0m\n\u001b[1;32m    987\u001b[0m         \u001b[0;32mif\u001b[0m \u001b[0mself\u001b[0m\u001b[0;34m.\u001b[0m\u001b[0m_activity_regularizer\u001b[0m\u001b[0;34m:\u001b[0m\u001b[0;34m\u001b[0m\u001b[0;34m\u001b[0m\u001b[0m\n",
            "\u001b[0;32m/usr/local/lib/python3.6/dist-packages/tensorflow/python/keras/layers/convolutional.py\u001b[0m in \u001b[0;36mcall\u001b[0;34m(self, inputs)\u001b[0m\n\u001b[1;32m    245\u001b[0m       \u001b[0minputs\u001b[0m \u001b[0;34m=\u001b[0m \u001b[0marray_ops\u001b[0m\u001b[0;34m.\u001b[0m\u001b[0mpad\u001b[0m\u001b[0;34m(\u001b[0m\u001b[0minputs\u001b[0m\u001b[0;34m,\u001b[0m \u001b[0mself\u001b[0m\u001b[0;34m.\u001b[0m\u001b[0m_compute_causal_padding\u001b[0m\u001b[0;34m(\u001b[0m\u001b[0minputs\u001b[0m\u001b[0;34m)\u001b[0m\u001b[0;34m)\u001b[0m\u001b[0;34m\u001b[0m\u001b[0;34m\u001b[0m\u001b[0m\n\u001b[1;32m    246\u001b[0m \u001b[0;34m\u001b[0m\u001b[0m\n\u001b[0;32m--> 247\u001b[0;31m     \u001b[0moutputs\u001b[0m \u001b[0;34m=\u001b[0m \u001b[0mself\u001b[0m\u001b[0;34m.\u001b[0m\u001b[0m_convolution_op\u001b[0m\u001b[0;34m(\u001b[0m\u001b[0minputs\u001b[0m\u001b[0;34m,\u001b[0m \u001b[0mself\u001b[0m\u001b[0;34m.\u001b[0m\u001b[0mkernel\u001b[0m\u001b[0;34m)\u001b[0m\u001b[0;34m\u001b[0m\u001b[0;34m\u001b[0m\u001b[0m\n\u001b[0m\u001b[1;32m    248\u001b[0m \u001b[0;34m\u001b[0m\u001b[0m\n\u001b[1;32m    249\u001b[0m     \u001b[0;32mif\u001b[0m \u001b[0mself\u001b[0m\u001b[0;34m.\u001b[0m\u001b[0muse_bias\u001b[0m\u001b[0;34m:\u001b[0m\u001b[0;34m\u001b[0m\u001b[0;34m\u001b[0m\u001b[0m\n",
            "\u001b[0;32m/usr/local/lib/python3.6/dist-packages/tensorflow/python/util/dispatch.py\u001b[0m in \u001b[0;36mwrapper\u001b[0;34m(*args, **kwargs)\u001b[0m\n\u001b[1;32m    199\u001b[0m     \u001b[0;34m\"\"\"Call target, and fall back on dispatchers if there is a TypeError.\"\"\"\u001b[0m\u001b[0;34m\u001b[0m\u001b[0;34m\u001b[0m\u001b[0m\n\u001b[1;32m    200\u001b[0m     \u001b[0;32mtry\u001b[0m\u001b[0;34m:\u001b[0m\u001b[0;34m\u001b[0m\u001b[0;34m\u001b[0m\u001b[0m\n\u001b[0;32m--> 201\u001b[0;31m       \u001b[0;32mreturn\u001b[0m \u001b[0mtarget\u001b[0m\u001b[0;34m(\u001b[0m\u001b[0;34m*\u001b[0m\u001b[0margs\u001b[0m\u001b[0;34m,\u001b[0m \u001b[0;34m**\u001b[0m\u001b[0mkwargs\u001b[0m\u001b[0;34m)\u001b[0m\u001b[0;34m\u001b[0m\u001b[0;34m\u001b[0m\u001b[0m\n\u001b[0m\u001b[1;32m    202\u001b[0m     \u001b[0;32mexcept\u001b[0m \u001b[0;34m(\u001b[0m\u001b[0mTypeError\u001b[0m\u001b[0;34m,\u001b[0m \u001b[0mValueError\u001b[0m\u001b[0;34m)\u001b[0m\u001b[0;34m:\u001b[0m\u001b[0;34m\u001b[0m\u001b[0;34m\u001b[0m\u001b[0m\n\u001b[1;32m    203\u001b[0m       \u001b[0;31m# Note: convert_to_eager_tensor currently raises a ValueError, not a\u001b[0m\u001b[0;34m\u001b[0m\u001b[0;34m\u001b[0m\u001b[0;34m\u001b[0m\u001b[0m\n",
            "\u001b[0;32m/usr/local/lib/python3.6/dist-packages/tensorflow/python/ops/nn_ops.py\u001b[0m in \u001b[0;36mconvolution_v2\u001b[0;34m(input, filters, strides, padding, data_format, dilations, name)\u001b[0m\n\u001b[1;32m   1016\u001b[0m       \u001b[0mdata_format\u001b[0m\u001b[0;34m=\u001b[0m\u001b[0mdata_format\u001b[0m\u001b[0;34m,\u001b[0m\u001b[0;34m\u001b[0m\u001b[0;34m\u001b[0m\u001b[0m\n\u001b[1;32m   1017\u001b[0m       \u001b[0mdilations\u001b[0m\u001b[0;34m=\u001b[0m\u001b[0mdilations\u001b[0m\u001b[0;34m,\u001b[0m\u001b[0;34m\u001b[0m\u001b[0;34m\u001b[0m\u001b[0m\n\u001b[0;32m-> 1018\u001b[0;31m       name=name)\n\u001b[0m\u001b[1;32m   1019\u001b[0m \u001b[0;34m\u001b[0m\u001b[0m\n\u001b[1;32m   1020\u001b[0m \u001b[0;34m\u001b[0m\u001b[0m\n",
            "\u001b[0;32m/usr/local/lib/python3.6/dist-packages/tensorflow/python/ops/nn_ops.py\u001b[0m in \u001b[0;36mconvolution_internal\u001b[0;34m(input, filters, strides, padding, data_format, dilations, name, call_from_convolution, num_spatial_dims)\u001b[0m\n\u001b[1;32m   1146\u001b[0m           \u001b[0mdata_format\u001b[0m\u001b[0;34m=\u001b[0m\u001b[0mdata_format\u001b[0m\u001b[0;34m,\u001b[0m\u001b[0;34m\u001b[0m\u001b[0;34m\u001b[0m\u001b[0m\n\u001b[1;32m   1147\u001b[0m           \u001b[0mdilations\u001b[0m\u001b[0;34m=\u001b[0m\u001b[0mdilations\u001b[0m\u001b[0;34m,\u001b[0m\u001b[0;34m\u001b[0m\u001b[0;34m\u001b[0m\u001b[0m\n\u001b[0;32m-> 1148\u001b[0;31m           name=name)\n\u001b[0m\u001b[1;32m   1149\u001b[0m     \u001b[0;32melse\u001b[0m\u001b[0;34m:\u001b[0m\u001b[0;34m\u001b[0m\u001b[0;34m\u001b[0m\u001b[0m\n\u001b[1;32m   1150\u001b[0m       \u001b[0;32mif\u001b[0m \u001b[0mchannel_index\u001b[0m \u001b[0;34m==\u001b[0m \u001b[0;36m1\u001b[0m\u001b[0;34m:\u001b[0m\u001b[0;34m\u001b[0m\u001b[0;34m\u001b[0m\u001b[0m\n",
            "\u001b[0;32m/usr/local/lib/python3.6/dist-packages/tensorflow/python/ops/nn_ops.py\u001b[0m in \u001b[0;36m_conv2d_expanded_batch\u001b[0;34m(input, filters, strides, padding, data_format, dilations, name)\u001b[0m\n\u001b[1;32m   2590\u001b[0m         \u001b[0mdata_format\u001b[0m\u001b[0;34m=\u001b[0m\u001b[0mdata_format\u001b[0m\u001b[0;34m,\u001b[0m\u001b[0;34m\u001b[0m\u001b[0;34m\u001b[0m\u001b[0m\n\u001b[1;32m   2591\u001b[0m         \u001b[0mdilations\u001b[0m\u001b[0;34m=\u001b[0m\u001b[0mdilations\u001b[0m\u001b[0;34m,\u001b[0m\u001b[0;34m\u001b[0m\u001b[0;34m\u001b[0m\u001b[0m\n\u001b[0;32m-> 2592\u001b[0;31m         name=name)\n\u001b[0m\u001b[1;32m   2593\u001b[0m   return squeeze_batch_dims(\n\u001b[1;32m   2594\u001b[0m       \u001b[0minput\u001b[0m\u001b[0;34m,\u001b[0m\u001b[0;34m\u001b[0m\u001b[0;34m\u001b[0m\u001b[0m\n",
            "\u001b[0;32m/usr/local/lib/python3.6/dist-packages/tensorflow/python/ops/gen_nn_ops.py\u001b[0m in \u001b[0;36mconv2d\u001b[0;34m(input, filter, strides, padding, use_cudnn_on_gpu, explicit_paddings, data_format, dilations, name)\u001b[0m\n\u001b[1;32m    936\u001b[0m       \u001b[0;32mreturn\u001b[0m \u001b[0m_result\u001b[0m\u001b[0;34m\u001b[0m\u001b[0;34m\u001b[0m\u001b[0m\n\u001b[1;32m    937\u001b[0m     \u001b[0;32mexcept\u001b[0m \u001b[0m_core\u001b[0m\u001b[0;34m.\u001b[0m\u001b[0m_NotOkStatusException\u001b[0m \u001b[0;32mas\u001b[0m \u001b[0me\u001b[0m\u001b[0;34m:\u001b[0m\u001b[0;34m\u001b[0m\u001b[0;34m\u001b[0m\u001b[0m\n\u001b[0;32m--> 938\u001b[0;31m       \u001b[0m_ops\u001b[0m\u001b[0;34m.\u001b[0m\u001b[0mraise_from_not_ok_status\u001b[0m\u001b[0;34m(\u001b[0m\u001b[0me\u001b[0m\u001b[0;34m,\u001b[0m \u001b[0mname\u001b[0m\u001b[0;34m)\u001b[0m\u001b[0;34m\u001b[0m\u001b[0;34m\u001b[0m\u001b[0m\n\u001b[0m\u001b[1;32m    939\u001b[0m     \u001b[0;32mexcept\u001b[0m \u001b[0m_core\u001b[0m\u001b[0;34m.\u001b[0m\u001b[0m_FallbackException\u001b[0m\u001b[0;34m:\u001b[0m\u001b[0;34m\u001b[0m\u001b[0;34m\u001b[0m\u001b[0m\n\u001b[1;32m    940\u001b[0m       \u001b[0;32mpass\u001b[0m\u001b[0;34m\u001b[0m\u001b[0;34m\u001b[0m\u001b[0m\n",
            "\u001b[0;32m/usr/local/lib/python3.6/dist-packages/tensorflow/python/framework/ops.py\u001b[0m in \u001b[0;36mraise_from_not_ok_status\u001b[0;34m(e, name)\u001b[0m\n\u001b[1;32m   6841\u001b[0m   \u001b[0mmessage\u001b[0m \u001b[0;34m=\u001b[0m \u001b[0me\u001b[0m\u001b[0;34m.\u001b[0m\u001b[0mmessage\u001b[0m \u001b[0;34m+\u001b[0m \u001b[0;34m(\u001b[0m\u001b[0;34m\" name: \"\u001b[0m \u001b[0;34m+\u001b[0m \u001b[0mname\u001b[0m \u001b[0;32mif\u001b[0m \u001b[0mname\u001b[0m \u001b[0;32mis\u001b[0m \u001b[0;32mnot\u001b[0m \u001b[0;32mNone\u001b[0m \u001b[0;32melse\u001b[0m \u001b[0;34m\"\"\u001b[0m\u001b[0;34m)\u001b[0m\u001b[0;34m\u001b[0m\u001b[0;34m\u001b[0m\u001b[0m\n\u001b[1;32m   6842\u001b[0m   \u001b[0;31m# pylint: disable=protected-access\u001b[0m\u001b[0;34m\u001b[0m\u001b[0;34m\u001b[0m\u001b[0;34m\u001b[0m\u001b[0m\n\u001b[0;32m-> 6843\u001b[0;31m   \u001b[0msix\u001b[0m\u001b[0;34m.\u001b[0m\u001b[0mraise_from\u001b[0m\u001b[0;34m(\u001b[0m\u001b[0mcore\u001b[0m\u001b[0;34m.\u001b[0m\u001b[0m_status_to_exception\u001b[0m\u001b[0;34m(\u001b[0m\u001b[0me\u001b[0m\u001b[0;34m.\u001b[0m\u001b[0mcode\u001b[0m\u001b[0;34m,\u001b[0m \u001b[0mmessage\u001b[0m\u001b[0;34m)\u001b[0m\u001b[0;34m,\u001b[0m \u001b[0;32mNone\u001b[0m\u001b[0;34m)\u001b[0m\u001b[0;34m\u001b[0m\u001b[0;34m\u001b[0m\u001b[0m\n\u001b[0m\u001b[1;32m   6844\u001b[0m   \u001b[0;31m# pylint: enable=protected-access\u001b[0m\u001b[0;34m\u001b[0m\u001b[0;34m\u001b[0m\u001b[0;34m\u001b[0m\u001b[0m\n\u001b[1;32m   6845\u001b[0m \u001b[0;34m\u001b[0m\u001b[0m\n",
            "\u001b[0;32m/usr/local/lib/python3.6/dist-packages/six.py\u001b[0m in \u001b[0;36mraise_from\u001b[0;34m(value, from_value)\u001b[0m\n",
            "\u001b[0;31mInvalidArgumentError\u001b[0m: Computed output size would be negative: -3 [input_size: 1, effective_filter_size: 5, stride: 1] [Op:Conv2D]"
          ]
        }
      ]
    },
    {
      "cell_type": "code",
      "metadata": {
        "id": "oauelR2vnJth"
      },
      "source": [
        ""
      ],
      "execution_count": null,
      "outputs": []
    }
  ]
}